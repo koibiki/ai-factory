{
 "cells": [
  {
   "cell_type": "code",
   "execution_count": 1,
   "metadata": {},
   "outputs": [
    {
     "name": "stderr",
     "output_type": "stream",
     "text": [
      "/usr/local/lib/python3.5/dist-packages/sklearn/cross_validation.py:41: DeprecationWarning: This module was deprecated in version 0.18 in favor of the model_selection module into which all the refactored classes and functions are moved. Also note that the interface of the new CV iterators are different from that of this module. This module will be removed in 0.20.\n",
      "  \"This module will be removed in 0.20.\", DeprecationWarning)\n"
     ]
    }
   ],
   "source": [
    "import pandas as pd\n",
    "import tensorflow as tf\n",
    "import numpy as np\n",
    "import matplotlib.pyplot as plt\n",
    "from sklearn.cross_validation import train_test_split\n",
    "from sklearn.cluster import KMeans\n",
    "from scipy.spatial.distance import cdist\n",
    "from sklearn.metrics import mean_squared_error\n",
    "\n",
    "from feature_engineering.delete_date import delete_date\n",
    "from feature_engineering.separate_str_num import separate_str_num\n",
    "from feature_engineering.feature_vector import feature_vector\n",
    "from feature_engineering.compute_angle import compute_angle\n",
    "from feature_engineering.delete_constant import delete_constant\n",
    "from feature_engineering.rank_by_max import rank_feature_by_max\n",
    "from feature_engineering.rank_feature import rank_feature\n",
    "from feature_engineering.rank_feature import rank_feature_count\n",
    "from feature_engineering.nan_stastics import nan_statics\n",
    "from feature_engineering.nan_stastics import nan_count_statics\n",
    "from feature_engineering.delete_nan import delete_all_nan\n",
    "from feature_engineering.pipeline_split import split_by_tool\n",
    "from sampling.stratified_sampling import stratified_sampling\n",
    "from sklearn.decomposition import PCA\n",
    "from model_select.gbr.gradient_boosting import GBR\n",
    "from model_select.xgboost.xgb import Xgb\n",
    "from model_select.knn.knn import KNR\n",
    "from model_select.skflow_dnn.skflow_dnn import TensorDNN\n",
    "from model_select.light_gbm.light_gbm import LightGBM\n",
    "from model_select.linear.linear import LinearR\n",
    "import time\n",
    "from sklearn.cross_validation import KFold\n",
    "\n",
    "from sklearn.preprocessing import StandardScaler"
   ]
  },
  {
   "cell_type": "code",
   "execution_count": 2,
   "metadata": {},
   "outputs": [],
   "source": [
    "train = pd.read_csv('input/train.csv')\n",
    "test = pd.read_csv('input/testb.csv')"
   ]
  },
  {
   "cell_type": "code",
   "execution_count": 3,
   "metadata": {},
   "outputs": [],
   "source": [
    "train_X = train.iloc[:, 1:-1]\n",
    "train_Y = train.Y\n",
    "test_X = test.iloc[:, 1:]"
   ]
  },
  {
   "cell_type": "code",
   "execution_count": 11,
   "metadata": {},
   "outputs": [
    {
     "data": {
      "text/plain": [
       "39"
      ]
     },
     "execution_count": 11,
     "metadata": {},
     "output_type": "execute_result"
    }
   ],
   "source": [
    "len(train_X_str[train_X_str['TOOL_ID'] == 'KT'])"
   ]
  },
  {
   "cell_type": "code",
   "execution_count": 28,
   "metadata": {},
   "outputs": [
    {
     "data": {
      "text/plain": [
       "2"
      ]
     },
     "execution_count": 28,
     "metadata": {},
     "output_type": "execute_result"
    }
   ],
   "source": [
    "len(train_X_str[train_X_str['tool'] == '2409T'])"
   ]
  },
  {
   "cell_type": "code",
   "execution_count": null,
   "metadata": {},
   "outputs": [],
   "source": [
    "len(train_X_str[train_X_str['tool (#1)'] == 'QT'])"
   ]
  },
  {
   "cell_type": "code",
   "execution_count": null,
   "metadata": {},
   "outputs": [],
   "source": [
    "len(train_X_str[train_X_str['tool (#1)'] == 'RT'])"
   ]
  },
  {
   "cell_type": "code",
   "execution_count": null,
   "metadata": {},
   "outputs": [],
   "source": [
    "len(train_X_str[train_X_str['tool (#1)'] == 'PT'])"
   ]
  },
  {
   "cell_type": "code",
   "execution_count": null,
   "metadata": {},
   "outputs": [],
   "source": []
  },
  {
   "cell_type": "code",
   "execution_count": null,
   "metadata": {},
   "outputs": [],
   "source": []
  },
  {
   "cell_type": "code",
   "execution_count": 4,
   "metadata": {},
   "outputs": [],
   "source": [
    "train_X_str, train_X_num = separate_str_num(train_X)\n",
    "test_X_str, test_X_num = separate_str_num(test_X)"
   ]
  },
  {
   "cell_type": "code",
   "execution_count": 5,
   "metadata": {},
   "outputs": [
    {
     "data": {
      "text/html": [
       "<div>\n",
       "<style scoped>\n",
       "    .dataframe tbody tr th:only-of-type {\n",
       "        vertical-align: middle;\n",
       "    }\n",
       "\n",
       "    .dataframe tbody tr th {\n",
       "        vertical-align: top;\n",
       "    }\n",
       "\n",
       "    .dataframe thead th {\n",
       "        text-align: right;\n",
       "    }\n",
       "</style>\n",
       "<table border=\"1\" class=\"dataframe\">\n",
       "  <thead>\n",
       "    <tr style=\"text-align: right;\">\n",
       "      <th></th>\n",
       "      <th>TOOL_ID</th>\n",
       "      <th>Tool</th>\n",
       "      <th>TOOL_ID (#1)</th>\n",
       "      <th>TOOL_ID (#2)</th>\n",
       "      <th>TOOL_ID (#3)</th>\n",
       "      <th>Tool (#1)</th>\n",
       "      <th>Tool (#2)</th>\n",
       "      <th>tool</th>\n",
       "      <th>tool (#1)</th>\n",
       "      <th>TOOL</th>\n",
       "      <th>TOOL (#1)</th>\n",
       "      <th>Tool (#3)</th>\n",
       "      <th>TOOL (#2)</th>\n",
       "    </tr>\n",
       "  </thead>\n",
       "  <tbody>\n",
       "    <tr>\n",
       "      <th>count</th>\n",
       "      <td>500</td>\n",
       "      <td>500</td>\n",
       "      <td>500</td>\n",
       "      <td>500</td>\n",
       "      <td>500</td>\n",
       "      <td>500</td>\n",
       "      <td>500</td>\n",
       "      <td>500</td>\n",
       "      <td>500</td>\n",
       "      <td>500</td>\n",
       "      <td>500</td>\n",
       "      <td>500</td>\n",
       "      <td>500</td>\n",
       "    </tr>\n",
       "    <tr>\n",
       "      <th>unique</th>\n",
       "      <td>6</td>\n",
       "      <td>2</td>\n",
       "      <td>2</td>\n",
       "      <td>3</td>\n",
       "      <td>2</td>\n",
       "      <td>8</td>\n",
       "      <td>3</td>\n",
       "      <td>4</td>\n",
       "      <td>9</td>\n",
       "      <td>3</td>\n",
       "      <td>2</td>\n",
       "      <td>10</td>\n",
       "      <td>2</td>\n",
       "    </tr>\n",
       "    <tr>\n",
       "      <th>top</th>\n",
       "      <td>MT</td>\n",
       "      <td>BT</td>\n",
       "      <td>ET</td>\n",
       "      <td>DT</td>\n",
       "      <td>E0T</td>\n",
       "      <td>215T</td>\n",
       "      <td>BT</td>\n",
       "      <td>3009T</td>\n",
       "      <td>WT</td>\n",
       "      <td>DT</td>\n",
       "      <td>YX1T</td>\n",
       "      <td>11T</td>\n",
       "      <td>AT</td>\n",
       "    </tr>\n",
       "    <tr>\n",
       "      <th>freq</th>\n",
       "      <td>114</td>\n",
       "      <td>455</td>\n",
       "      <td>434</td>\n",
       "      <td>235</td>\n",
       "      <td>434</td>\n",
       "      <td>141</td>\n",
       "      <td>267</td>\n",
       "      <td>192</td>\n",
       "      <td>208</td>\n",
       "      <td>406</td>\n",
       "      <td>499</td>\n",
       "      <td>77</td>\n",
       "      <td>494</td>\n",
       "    </tr>\n",
       "  </tbody>\n",
       "</table>\n",
       "</div>"
      ],
      "text/plain": [
       "       TOOL_ID Tool TOOL_ID (#1) TOOL_ID (#2) TOOL_ID (#3) Tool (#1)  \\\n",
       "count      500  500          500          500          500       500   \n",
       "unique       6    2            2            3            2         8   \n",
       "top         MT   BT           ET           DT          E0T      215T   \n",
       "freq       114  455          434          235          434       141   \n",
       "\n",
       "       Tool (#2)   tool tool (#1) TOOL TOOL (#1) Tool (#3) TOOL (#2)  \n",
       "count        500    500       500  500       500       500       500  \n",
       "unique         3      4         9    3         2        10         2  \n",
       "top           BT  3009T        WT   DT      YX1T       11T        AT  \n",
       "freq         267    192       208  406       499        77       494  "
      ]
     },
     "execution_count": 5,
     "metadata": {},
     "output_type": "execute_result"
    }
   ],
   "source": [
    "train_X_str.describe()"
   ]
  },
  {
   "cell_type": "code",
   "execution_count": 40,
   "metadata": {},
   "outputs": [
    {
     "data": {
      "text/plain": [
       "array(['AT', 'BT'], dtype=object)"
      ]
     },
     "execution_count": 40,
     "metadata": {},
     "output_type": "execute_result"
    }
   ],
   "source": [
    "train_X_str['TOOL (#2)'].unique()"
   ]
  },
  {
   "cell_type": "code",
   "execution_count": 33,
   "metadata": {},
   "outputs": [
    {
     "data": {
      "text/plain": [
       "3"
      ]
     },
     "execution_count": 33,
     "metadata": {},
     "output_type": "execute_result"
    }
   ],
   "source": [
    "len(train_X_str[train_X_str['tool (#1)'] == 'PT'])"
   ]
  },
  {
   "cell_type": "code",
   "execution_count": 6,
   "metadata": {},
   "outputs": [
    {
     "data": {
      "text/html": [
       "<div>\n",
       "<style scoped>\n",
       "    .dataframe tbody tr th:only-of-type {\n",
       "        vertical-align: middle;\n",
       "    }\n",
       "\n",
       "    .dataframe tbody tr th {\n",
       "        vertical-align: top;\n",
       "    }\n",
       "\n",
       "    .dataframe thead th {\n",
       "        text-align: right;\n",
       "    }\n",
       "</style>\n",
       "<table border=\"1\" class=\"dataframe\">\n",
       "  <thead>\n",
       "    <tr style=\"text-align: right;\">\n",
       "      <th></th>\n",
       "      <th>TOOL_ID</th>\n",
       "      <th>Tool</th>\n",
       "      <th>TOOL_ID (#1)</th>\n",
       "      <th>TOOL_ID (#2)</th>\n",
       "      <th>TOOL_ID (#3)</th>\n",
       "      <th>Tool (#1)</th>\n",
       "      <th>Tool (#2)</th>\n",
       "      <th>tool</th>\n",
       "      <th>tool (#1)</th>\n",
       "      <th>TOOL</th>\n",
       "      <th>TOOL (#1)</th>\n",
       "      <th>Tool (#3)</th>\n",
       "      <th>TOOL (#2)</th>\n",
       "    </tr>\n",
       "  </thead>\n",
       "  <tbody>\n",
       "    <tr>\n",
       "      <th>count</th>\n",
       "      <td>121</td>\n",
       "      <td>121</td>\n",
       "      <td>121</td>\n",
       "      <td>121</td>\n",
       "      <td>121</td>\n",
       "      <td>121</td>\n",
       "      <td>121</td>\n",
       "      <td>121</td>\n",
       "      <td>121</td>\n",
       "      <td>121</td>\n",
       "      <td>121</td>\n",
       "      <td>121</td>\n",
       "      <td>121</td>\n",
       "    </tr>\n",
       "    <tr>\n",
       "      <th>unique</th>\n",
       "      <td>5</td>\n",
       "      <td>2</td>\n",
       "      <td>2</td>\n",
       "      <td>3</td>\n",
       "      <td>2</td>\n",
       "      <td>8</td>\n",
       "      <td>3</td>\n",
       "      <td>3</td>\n",
       "      <td>6</td>\n",
       "      <td>3</td>\n",
       "      <td>2</td>\n",
       "      <td>15</td>\n",
       "      <td>2</td>\n",
       "    </tr>\n",
       "    <tr>\n",
       "      <th>top</th>\n",
       "      <td>NT</td>\n",
       "      <td>AT</td>\n",
       "      <td>ET</td>\n",
       "      <td>DT</td>\n",
       "      <td>E0T</td>\n",
       "      <td>215T</td>\n",
       "      <td>BT</td>\n",
       "      <td>4106T</td>\n",
       "      <td>WT</td>\n",
       "      <td>DT</td>\n",
       "      <td>YX1T</td>\n",
       "      <td>9T</td>\n",
       "      <td>AT</td>\n",
       "    </tr>\n",
       "    <tr>\n",
       "      <th>freq</th>\n",
       "      <td>42</td>\n",
       "      <td>93</td>\n",
       "      <td>100</td>\n",
       "      <td>115</td>\n",
       "      <td>100</td>\n",
       "      <td>29</td>\n",
       "      <td>62</td>\n",
       "      <td>45</td>\n",
       "      <td>39</td>\n",
       "      <td>67</td>\n",
       "      <td>114</td>\n",
       "      <td>20</td>\n",
       "      <td>63</td>\n",
       "    </tr>\n",
       "  </tbody>\n",
       "</table>\n",
       "</div>"
      ],
      "text/plain": [
       "       TOOL_ID Tool TOOL_ID (#1) TOOL_ID (#2) TOOL_ID (#3) Tool (#1)  \\\n",
       "count      121  121          121          121          121       121   \n",
       "unique       5    2            2            3            2         8   \n",
       "top         NT   AT           ET           DT          E0T      215T   \n",
       "freq        42   93          100          115          100        29   \n",
       "\n",
       "       Tool (#2)   tool tool (#1) TOOL TOOL (#1) Tool (#3) TOOL (#2)  \n",
       "count        121    121       121  121       121       121       121  \n",
       "unique         3      3         6    3         2        15         2  \n",
       "top           BT  4106T        WT   DT      YX1T        9T        AT  \n",
       "freq          62     45        39   67       114        20        63  "
      ]
     },
     "execution_count": 6,
     "metadata": {},
     "output_type": "execute_result"
    }
   ],
   "source": [
    "test_X_str.describe()"
   ]
  },
  {
   "cell_type": "code",
   "execution_count": 41,
   "metadata": {},
   "outputs": [
    {
     "data": {
      "text/plain": [
       "array(['AT', 'BT'], dtype=object)"
      ]
     },
     "execution_count": 41,
     "metadata": {},
     "output_type": "execute_result"
    }
   ],
   "source": [
    "test_X_str['TOOL (#2)'].unique()"
   ]
  },
  {
   "cell_type": "code",
   "execution_count": null,
   "metadata": {},
   "outputs": [],
   "source": []
  },
  {
   "cell_type": "code",
   "execution_count": null,
   "metadata": {},
   "outputs": [],
   "source": []
  },
  {
   "cell_type": "code",
   "execution_count": null,
   "metadata": {},
   "outputs": [],
   "source": []
  },
  {
   "cell_type": "code",
   "execution_count": null,
   "metadata": {},
   "outputs": [],
   "source": []
  },
  {
   "cell_type": "code",
   "execution_count": null,
   "metadata": {},
   "outputs": [],
   "source": []
  },
  {
   "cell_type": "code",
   "execution_count": 7,
   "metadata": {},
   "outputs": [
    {
     "name": "stdout",
     "output_type": "stream",
     "text": [
      "执行 Delete Constant\n",
      "执行 Delete Constant\n",
      "执行 Delete Constant\n",
      "执行 Delete Constant\n",
      "执行 Delete Constant\n",
      "执行 Delete Constant\n",
      "执行 Delete Constant\n",
      "执行 Delete Constant\n",
      "执行 Delete Constant\n",
      "执行 Delete Constant\n",
      "执行 Delete Constant\n",
      "执行 Delete Constant\n"
     ]
    }
   ],
   "source": [
    "# 删除常数\n",
    "for index in range(len(trains)):\n",
    "    trains[index], tests[index] = delete_constant(trains[index], tests[index])"
   ]
  },
  {
   "cell_type": "code",
   "execution_count": 8,
   "metadata": {},
   "outputs": [
    {
     "name": "stdout",
     "output_type": "stream",
     "text": [
      "CPU times: user 2 µs, sys: 0 ns, total: 2 µs\n",
      "Wall time: 3.58 µs\n"
     ]
    }
   ],
   "source": [
    "%time\n",
    "# 删除时间\n",
    "for index in range(len(trains)):\n",
    "    trains[index], tests[index] = delete_date(trains[index], tests[index])"
   ]
  },
  {
   "cell_type": "code",
   "execution_count": 9,
   "metadata": {},
   "outputs": [
    {
     "name": "stdout",
     "output_type": "stream",
     "text": [
      "执行 Feature Vector\n",
      "执行 Feature Vector\n",
      "执行 Feature Vector\n",
      "执行 Feature Vector\n",
      "执行 Feature Vector\n",
      "执行 Feature Vector\n",
      "执行 Feature Vector\n",
      "执行 Feature Vector\n",
      "执行 Feature Vector\n",
      "执行 Feature Vector\n",
      "执行 Feature Vector\n",
      "执行 Feature Vector\n"
     ]
    }
   ],
   "source": [
    "# 分离 字符 和 数字\n",
    "trains_str = []\n",
    "tests_str = []\n",
    "trains_num = []\n",
    "tests_num = []\n",
    "for index in range(len(trains)):\n",
    "    train_str, train_num = separate_str_num(trains[index])\n",
    "    test_str, test_num = separate_str_num(tests[index])\n",
    "    train_str.columns = ['T'+ str(index)]\n",
    "    test_str.columns = ['T'+ str(index)]\n",
    "    train_str, test_str = feature_vector(train_str, test_str)\n",
    "    trains_str.append(train_str)\n",
    "    trains_num.append(train_num)\n",
    "    tests_str.append(test_str)\n",
    "    tests_num.append(test_num)"
   ]
  },
  {
   "cell_type": "code",
   "execution_count": 10,
   "metadata": {},
   "outputs": [
    {
     "name": "stdout",
     "output_type": "stream",
     "text": [
      "执行 Rank Feature\n",
      "执行 Rank Feature\n",
      "执行 Rank Feature\n",
      "执行 Rank Feature\n",
      "执行 Rank Feature\n",
      "执行 Rank Feature\n",
      "执行 Rank Feature\n",
      "执行 Rank Feature\n",
      "执行 Rank Feature\n",
      "执行 Rank Feature\n",
      "执行 Rank Feature\n",
      "执行 Rank Feature\n"
     ]
    }
   ],
   "source": [
    "# rank feature\n",
    "for index in range(len(trains)):\n",
    "    trains_num[index], tests_num[index] = rank_feature(trains_num[index], tests_num[index])"
   ]
  },
  {
   "cell_type": "code",
   "execution_count": 11,
   "metadata": {},
   "outputs": [],
   "source": [
    "# rank feature count\n",
    "for index in range(len(trains)):\n",
    "    trains_num[index], tests_num[index] = rank_feature_count(trains_num[index], tests_num[index])"
   ]
  },
  {
   "cell_type": "code",
   "execution_count": null,
   "metadata": {},
   "outputs": [],
   "source": [
    "# statics nan\n",
    "for index in range(len(trains)):\n",
    "    trains_num[index] = nan_count_statics(trains_num[index], str(index))\n",
    "    tests_num[index] = nan_count_statics(tests_num[index], str(index))"
   ]
  },
  {
   "cell_type": "code",
   "execution_count": null,
   "metadata": {},
   "outputs": [],
   "source": []
  },
  {
   "cell_type": "code",
   "execution_count": 12,
   "metadata": {},
   "outputs": [],
   "source": [
    "trains_data = []\n",
    "for index in range(len(trains)):\n",
    "    train_data = pd.concat([trains_str[index], trains_num[index]], axis=1)\n",
    "    trains_data.append(train_data)"
   ]
  },
  {
   "cell_type": "code",
   "execution_count": 13,
   "metadata": {},
   "outputs": [],
   "source": [
    "def k_fold_validation(X, Y,test_X, model):\n",
    "    print('开始CV 5折训练...')\n",
    "    k = 5\n",
    "    kf = KFold(len(X), n_folds=k, shuffle=True, random_state=33)\n",
    "    mses = []\n",
    "    ky_predict_sum = None\n",
    "    for i, (train_index, test_index) in enumerate(kf):\n",
    "        print('第{}次训练...'.format(i))\n",
    "        kf_X_train = X.iloc[train_index]\n",
    "        kf_y_train = Y.iloc[train_index]\n",
    "        kf_X_valid = X.iloc[test_index]\n",
    "        kf_y_valid = Y.iloc[test_index]\n",
    "        kf_y_pred, mse = model.run(kf_X_train, kf_y_train, kf_X_valid, kf_y_valid)\n",
    "        predict = mode.predict(test_X)\n",
    "        if ky_predict_sum is None:\n",
    "            ky_predict_sum = predict\n",
    "        else:\n",
    "            ky_predict_sum += predict\n",
    "        mses.append(mse)\n",
    "    print('k fold validation:', sum(mses)/len(mses))\n",
    "    return ky_predict_sum/k"
   ]
  },
  {
   "cell_type": "code",
   "execution_count": 15,
   "metadata": {},
   "outputs": [],
   "source": [
    "def get_nan_columns(data):\n",
    "    train_nan_columns = np.where(np.isnan(data))\n",
    "    nan_columns = []\n",
    "    for index in train_nan_columns[1]:\n",
    "        if index not in nan_columns:\n",
    "            nan_columns.append(index)\n",
    "    return nan_columns"
   ]
  },
  {
   "cell_type": "code",
   "execution_count": 16,
   "metadata": {},
   "outputs": [
    {
     "data": {
      "text/plain": [
       "12"
      ]
     },
     "execution_count": 16,
     "metadata": {},
     "output_type": "execute_result"
    }
   ],
   "source": [
    "len(get_nan_columns(trains_data[2]))"
   ]
  },
  {
   "cell_type": "code",
   "execution_count": null,
   "metadata": {},
   "outputs": [],
   "source": []
  },
  {
   "cell_type": "code",
   "execution_count": null,
   "metadata": {},
   "outputs": [],
   "source": []
  },
  {
   "cell_type": "code",
   "execution_count": null,
   "metadata": {},
   "outputs": [],
   "source": []
  },
  {
   "cell_type": "code",
   "execution_count": null,
   "metadata": {},
   "outputs": [
    {
     "name": "stdout",
     "output_type": "stream",
     "text": [
      "开始CV 5折训练...\n",
      "第0次训练...\n",
      "[1]\tvalid_0's l2: 0.0381686\n",
      "Training until validation scores don't improve for 200 rounds.\n",
      "[2]\tvalid_0's l2: 0.0378077\n",
      "[3]\tvalid_0's l2: 0.0380812\n",
      "[4]\tvalid_0's l2: 0.0377321\n",
      "[5]\tvalid_0's l2: 0.0379728\n",
      "[6]\tvalid_0's l2: 0.0374515\n",
      "[7]\tvalid_0's l2: 0.0371493\n",
      "[8]\tvalid_0's l2: 0.0370091\n",
      "[9]\tvalid_0's l2: 0.0366796\n",
      "[10]\tvalid_0's l2: 0.0365648\n",
      "[11]\tvalid_0's l2: 0.0366973\n",
      "[12]\tvalid_0's l2: 0.0365437\n",
      "[13]\tvalid_0's l2: 0.0366856\n",
      "[14]\tvalid_0's l2: 0.036646\n",
      "[15]\tvalid_0's l2: 0.0367942\n",
      "[16]\tvalid_0's l2: 0.036681\n",
      "[17]\tvalid_0's l2: 0.0364881\n",
      "[18]\tvalid_0's l2: 0.036341\n",
      "[19]\tvalid_0's l2: 0.0363309\n",
      "[20]\tvalid_0's l2: 0.0363561\n",
      "[21]\tvalid_0's l2: 0.0360735\n",
      "[22]\tvalid_0's l2: 0.036111\n",
      "[23]\tvalid_0's l2: 0.0359322\n",
      "[24]\tvalid_0's l2: 0.0358946\n",
      "[25]\tvalid_0's l2: 0.0359118\n",
      "[26]\tvalid_0's l2: 0.0359152\n",
      "[27]\tvalid_0's l2: 0.0358765\n",
      "[28]\tvalid_0's l2: 0.035874\n",
      "[29]\tvalid_0's l2: 0.0357621\n",
      "[30]\tvalid_0's l2: 0.0355994\n",
      "[31]\tvalid_0's l2: 0.0356772\n",
      "[32]\tvalid_0's l2: 0.0357793\n",
      "[33]\tvalid_0's l2: 0.0359556\n",
      "[34]\tvalid_0's l2: 0.0360802\n",
      "[35]\tvalid_0's l2: 0.0362725\n",
      "[36]\tvalid_0's l2: 0.0360229\n",
      "[37]\tvalid_0's l2: 0.0361569\n",
      "[38]\tvalid_0's l2: 0.0360017\n",
      "[39]\tvalid_0's l2: 0.0359198\n",
      "[40]\tvalid_0's l2: 0.0358746\n",
      "[41]\tvalid_0's l2: 0.0358824\n",
      "[42]\tvalid_0's l2: 0.0358739\n",
      "[43]\tvalid_0's l2: 0.0358732\n",
      "[44]\tvalid_0's l2: 0.0359842\n",
      "[45]\tvalid_0's l2: 0.0358413\n",
      "[46]\tvalid_0's l2: 0.0357681\n",
      "[47]\tvalid_0's l2: 0.0358241\n",
      "[48]\tvalid_0's l2: 0.0356932\n",
      "[49]\tvalid_0's l2: 0.0356663\n",
      "[50]\tvalid_0's l2: 0.0356852\n",
      "[51]\tvalid_0's l2: 0.0358779\n",
      "[52]\tvalid_0's l2: 0.0358823\n",
      "[53]\tvalid_0's l2: 0.0359217\n",
      "[54]\tvalid_0's l2: 0.0359158\n",
      "[55]\tvalid_0's l2: 0.0358309\n",
      "[56]\tvalid_0's l2: 0.0359643\n",
      "[57]\tvalid_0's l2: 0.0358789\n",
      "[58]\tvalid_0's l2: 0.0358754\n",
      "[59]\tvalid_0's l2: 0.0358475\n",
      "[60]\tvalid_0's l2: 0.0357698\n",
      "[61]\tvalid_0's l2: 0.0355769\n",
      "[62]\tvalid_0's l2: 0.0356612\n",
      "[63]\tvalid_0's l2: 0.035617\n",
      "[64]\tvalid_0's l2: 0.0356524\n",
      "[65]\tvalid_0's l2: 0.0356018\n",
      "[66]\tvalid_0's l2: 0.0355511\n",
      "[67]\tvalid_0's l2: 0.0356249\n",
      "[68]\tvalid_0's l2: 0.0356451\n",
      "[69]\tvalid_0's l2: 0.0356236\n",
      "[70]\tvalid_0's l2: 0.0356249\n",
      "[71]\tvalid_0's l2: 0.0356647\n",
      "[72]\tvalid_0's l2: 0.0356988\n",
      "[73]\tvalid_0's l2: 0.0356889\n",
      "[74]\tvalid_0's l2: 0.0357501\n",
      "[75]\tvalid_0's l2: 0.035731\n",
      "[76]\tvalid_0's l2: 0.0356206\n",
      "[77]\tvalid_0's l2: 0.0355098\n",
      "[78]\tvalid_0's l2: 0.0356612\n",
      "[79]\tvalid_0's l2: 0.0355522\n",
      "[80]\tvalid_0's l2: 0.0355673\n",
      "[81]\tvalid_0's l2: 0.0355023\n",
      "[82]\tvalid_0's l2: 0.0354656\n",
      "[83]\tvalid_0's l2: 0.0355387\n",
      "[84]\tvalid_0's l2: 0.0355141\n",
      "[85]\tvalid_0's l2: 0.035631\n",
      "[86]\tvalid_0's l2: 0.0357205\n",
      "[87]\tvalid_0's l2: 0.0357454\n",
      "[88]\tvalid_0's l2: 0.0356209\n",
      "[89]\tvalid_0's l2: 0.0355911\n",
      "[90]\tvalid_0's l2: 0.0355395\n",
      "[91]\tvalid_0's l2: 0.035446\n",
      "[92]\tvalid_0's l2: 0.0353701\n",
      "[93]\tvalid_0's l2: 0.0353802\n",
      "[94]\tvalid_0's l2: 0.0353808\n",
      "[95]\tvalid_0's l2: 0.0353676\n",
      "[96]\tvalid_0's l2: 0.0353975\n",
      "[97]\tvalid_0's l2: 0.0354069\n",
      "[98]\tvalid_0's l2: 0.0354279\n",
      "[99]\tvalid_0's l2: 0.0352715\n",
      "[100]\tvalid_0's l2: 0.0352219\n",
      "[101]\tvalid_0's l2: 0.0350992\n",
      "[102]\tvalid_0's l2: 0.0352284\n",
      "[103]\tvalid_0's l2: 0.0350886\n",
      "[104]\tvalid_0's l2: 0.0352121\n",
      "[105]\tvalid_0's l2: 0.0352628\n",
      "[106]\tvalid_0's l2: 0.035418\n",
      "[107]\tvalid_0's l2: 0.0355278\n",
      "[108]\tvalid_0's l2: 0.0353773\n",
      "[109]\tvalid_0's l2: 0.0353576\n",
      "[110]\tvalid_0's l2: 0.035303\n",
      "[111]\tvalid_0's l2: 0.0353547\n",
      "[112]\tvalid_0's l2: 0.0353409\n",
      "[113]\tvalid_0's l2: 0.0353475\n",
      "[114]\tvalid_0's l2: 0.0353997\n",
      "[115]\tvalid_0's l2: 0.0355028\n",
      "[116]\tvalid_0's l2: 0.0355574\n",
      "[117]\tvalid_0's l2: 0.0355157\n",
      "[118]\tvalid_0's l2: 0.0354084\n",
      "[119]\tvalid_0's l2: 0.0353664\n",
      "[120]\tvalid_0's l2: 0.035326\n",
      "[121]\tvalid_0's l2: 0.0353681\n",
      "[122]\tvalid_0's l2: 0.0353489\n",
      "[123]\tvalid_0's l2: 0.0353695\n",
      "[124]\tvalid_0's l2: 0.0353966\n",
      "[125]\tvalid_0's l2: 0.0354294\n",
      "[126]\tvalid_0's l2: 0.0353323\n",
      "[127]\tvalid_0's l2: 0.0352829\n",
      "[128]\tvalid_0's l2: 0.0353115\n",
      "[129]\tvalid_0's l2: 0.0352359\n",
      "[130]\tvalid_0's l2: 0.0351508\n",
      "[131]\tvalid_0's l2: 0.0351074\n",
      "[132]\tvalid_0's l2: 0.0350812\n",
      "[133]\tvalid_0's l2: 0.0350953\n",
      "[134]\tvalid_0's l2: 0.0351946\n",
      "[135]\tvalid_0's l2: 0.035146\n",
      "[136]\tvalid_0's l2: 0.0351185\n",
      "[137]\tvalid_0's l2: 0.035224\n",
      "[138]\tvalid_0's l2: 0.0352172\n",
      "[139]\tvalid_0's l2: 0.035242\n",
      "[140]\tvalid_0's l2: 0.0352128\n",
      "[141]\tvalid_0's l2: 0.0351949\n",
      "[142]\tvalid_0's l2: 0.0352206\n",
      "[143]\tvalid_0's l2: 0.0351693\n",
      "[144]\tvalid_0's l2: 0.035193\n",
      "[145]\tvalid_0's l2: 0.0352812\n",
      "[146]\tvalid_0's l2: 0.0353091\n",
      "[147]\tvalid_0's l2: 0.0353403\n",
      "[148]\tvalid_0's l2: 0.0353456\n",
      "[149]\tvalid_0's l2: 0.0354192\n",
      "[150]\tvalid_0's l2: 0.0354088\n",
      "[151]\tvalid_0's l2: 0.0353901\n",
      "[152]\tvalid_0's l2: 0.0353845\n",
      "[153]\tvalid_0's l2: 0.0354719\n",
      "[154]\tvalid_0's l2: 0.0354329\n",
      "[155]\tvalid_0's l2: 0.0354745\n",
      "[156]\tvalid_0's l2: 0.0354572\n",
      "[157]\tvalid_0's l2: 0.0355821\n",
      "[158]\tvalid_0's l2: 0.0356161\n",
      "[159]\tvalid_0's l2: 0.0356172\n",
      "[160]\tvalid_0's l2: 0.0356774\n",
      "[161]\tvalid_0's l2: 0.0355648\n",
      "[162]\tvalid_0's l2: 0.0355342\n",
      "[163]\tvalid_0's l2: 0.0356678\n",
      "[164]\tvalid_0's l2: 0.0356942\n",
      "[165]\tvalid_0's l2: 0.035834\n",
      "[166]\tvalid_0's l2: 0.0357734\n",
      "[167]\tvalid_0's l2: 0.0357915\n",
      "[168]\tvalid_0's l2: 0.035757\n",
      "[169]\tvalid_0's l2: 0.035751\n",
      "[170]\tvalid_0's l2: 0.0356748\n",
      "[171]\tvalid_0's l2: 0.0356352\n",
      "[172]\tvalid_0's l2: 0.0356397\n",
      "[173]\tvalid_0's l2: 0.0356265\n",
      "[174]\tvalid_0's l2: 0.0355996\n",
      "[175]\tvalid_0's l2: 0.0356242\n",
      "[176]\tvalid_0's l2: 0.0355961\n",
      "[177]\tvalid_0's l2: 0.0355466\n",
      "[178]\tvalid_0's l2: 0.0356098\n",
      "[179]\tvalid_0's l2: 0.0356459\n",
      "[180]\tvalid_0's l2: 0.0356445\n",
      "[181]\tvalid_0's l2: 0.0356309\n",
      "[182]\tvalid_0's l2: 0.0356508\n",
      "[183]\tvalid_0's l2: 0.035509\n",
      "[184]\tvalid_0's l2: 0.0354526\n",
      "[185]\tvalid_0's l2: 0.0354404\n",
      "[186]\tvalid_0's l2: 0.0354782\n",
      "[187]\tvalid_0's l2: 0.0354286\n",
      "[188]\tvalid_0's l2: 0.0354034\n",
      "[189]\tvalid_0's l2: 0.0353431\n",
      "[190]\tvalid_0's l2: 0.0353296\n",
      "[191]\tvalid_0's l2: 0.0353812\n",
      "[192]\tvalid_0's l2: 0.0353723\n",
      "[193]\tvalid_0's l2: 0.0353413\n",
      "[194]\tvalid_0's l2: 0.0354283\n",
      "[195]\tvalid_0's l2: 0.0353288\n",
      "[196]\tvalid_0's l2: 0.0353477\n",
      "[197]\tvalid_0's l2: 0.0353837\n",
      "[198]\tvalid_0's l2: 0.035369\n",
      "[199]\tvalid_0's l2: 0.0354205\n",
      "[200]\tvalid_0's l2: 0.0353965\n",
      "[201]\tvalid_0's l2: 0.0354589\n",
      "[202]\tvalid_0's l2: 0.0354629\n",
      "[203]\tvalid_0's l2: 0.0354844\n",
      "[204]\tvalid_0's l2: 0.0354704\n",
      "[205]\tvalid_0's l2: 0.0354388\n",
      "[206]\tvalid_0's l2: 0.035328\n",
      "[207]\tvalid_0's l2: 0.0353493\n",
      "[208]\tvalid_0's l2: 0.0353794\n",
      "[209]\tvalid_0's l2: 0.0353802\n",
      "[210]\tvalid_0's l2: 0.0353704\n",
      "[211]\tvalid_0's l2: 0.0353445\n",
      "[212]\tvalid_0's l2: 0.0353885\n",
      "[213]\tvalid_0's l2: 0.0353651\n",
      "[214]\tvalid_0's l2: 0.0353703\n",
      "[215]\tvalid_0's l2: 0.0353442\n",
      "[216]\tvalid_0's l2: 0.0352841\n",
      "[217]\tvalid_0's l2: 0.035295\n",
      "[218]\tvalid_0's l2: 0.0352707\n",
      "[219]\tvalid_0's l2: 0.0352631\n",
      "[220]\tvalid_0's l2: 0.0353084\n",
      "[221]\tvalid_0's l2: 0.0353154\n",
      "[222]\tvalid_0's l2: 0.0353222\n",
      "[223]\tvalid_0's l2: 0.0353115\n",
      "[224]\tvalid_0's l2: 0.0353155\n",
      "[225]\tvalid_0's l2: 0.035289\n",
      "[226]\tvalid_0's l2: 0.0353178\n",
      "[227]\tvalid_0's l2: 0.0352972\n",
      "[228]\tvalid_0's l2: 0.0353312\n",
      "[229]\tvalid_0's l2: 0.035306\n",
      "[230]\tvalid_0's l2: 0.0352827\n",
      "[231]\tvalid_0's l2: 0.0353197\n",
      "[232]\tvalid_0's l2: 0.0353966\n",
      "[233]\tvalid_0's l2: 0.0353908\n",
      "[234]\tvalid_0's l2: 0.0353828\n",
      "[235]\tvalid_0's l2: 0.0353667\n",
      "[236]\tvalid_0's l2: 0.0353371\n",
      "[237]\tvalid_0's l2: 0.0353167\n",
      "[238]\tvalid_0's l2: 0.0353434\n",
      "[239]\tvalid_0's l2: 0.0353302\n",
      "[240]\tvalid_0's l2: 0.0353114\n",
      "[241]\tvalid_0's l2: 0.0353473\n",
      "[242]\tvalid_0's l2: 0.0353838\n",
      "[243]\tvalid_0's l2: 0.0353905\n",
      "[244]\tvalid_0's l2: 0.0354421\n",
      "[245]\tvalid_0's l2: 0.0355009\n",
      "[246]\tvalid_0's l2: 0.0354678\n",
      "[247]\tvalid_0's l2: 0.0354937\n",
      "[248]\tvalid_0's l2: 0.0354768\n",
      "[249]\tvalid_0's l2: 0.035518\n",
      "[250]\tvalid_0's l2: 0.0354985\n",
      "[251]\tvalid_0's l2: 0.0354594\n",
      "[252]\tvalid_0's l2: 0.0354392\n",
      "[253]\tvalid_0's l2: 0.0354127\n",
      "[254]\tvalid_0's l2: 0.0353685\n",
      "[255]\tvalid_0's l2: 0.0353381\n",
      "[256]\tvalid_0's l2: 0.0353959\n",
      "[257]\tvalid_0's l2: 0.0354335\n",
      "[258]\tvalid_0's l2: 0.0354532\n",
      "[259]\tvalid_0's l2: 0.035469\n",
      "[260]\tvalid_0's l2: 0.0354876\n",
      "[261]\tvalid_0's l2: 0.0354694\n",
      "[262]\tvalid_0's l2: 0.035473\n",
      "[263]\tvalid_0's l2: 0.0354897\n",
      "[264]\tvalid_0's l2: 0.0355027\n",
      "[265]\tvalid_0's l2: 0.035504\n",
      "[266]\tvalid_0's l2: 0.035562\n",
      "[267]\tvalid_0's l2: 0.0356004\n",
      "[268]\tvalid_0's l2: 0.0355756\n",
      "[269]\tvalid_0's l2: 0.0355835\n",
      "[270]\tvalid_0's l2: 0.0355807\n",
      "[271]\tvalid_0's l2: 0.0355811\n",
      "[272]\tvalid_0's l2: 0.0355651\n",
      "[273]\tvalid_0's l2: 0.0355246\n",
      "[274]\tvalid_0's l2: 0.0355165\n",
      "[275]\tvalid_0's l2: 0.0355204\n",
      "[276]\tvalid_0's l2: 0.0355352\n",
      "[277]\tvalid_0's l2: 0.0355796\n",
      "[278]\tvalid_0's l2: 0.0355702\n",
      "[279]\tvalid_0's l2: 0.0356149\n",
      "[280]\tvalid_0's l2: 0.0356394\n",
      "[281]\tvalid_0's l2: 0.035664\n",
      "[282]\tvalid_0's l2: 0.0356536\n",
      "[283]\tvalid_0's l2: 0.0356343\n",
      "[284]\tvalid_0's l2: 0.0356288\n",
      "[285]\tvalid_0's l2: 0.035619\n",
      "[286]\tvalid_0's l2: 0.0355907\n",
      "[287]\tvalid_0's l2: 0.0355636\n",
      "[288]\tvalid_0's l2: 0.0356116\n",
      "[289]\tvalid_0's l2: 0.0355988\n",
      "[290]\tvalid_0's l2: 0.0355583\n",
      "[291]\tvalid_0's l2: 0.0355356\n",
      "[292]\tvalid_0's l2: 0.0355466\n",
      "[293]\tvalid_0's l2: 0.0355553\n",
      "[294]\tvalid_0's l2: 0.0355815\n",
      "[295]\tvalid_0's l2: 0.0355772\n",
      "[296]\tvalid_0's l2: 0.0355604\n",
      "[297]\tvalid_0's l2: 0.0355468\n",
      "[298]\tvalid_0's l2: 0.0355173\n",
      "[299]\tvalid_0's l2: 0.0355475\n",
      "[300]\tvalid_0's l2: 0.0355491\n",
      "[301]\tvalid_0's l2: 0.0355712\n",
      "[302]\tvalid_0's l2: 0.035593\n",
      "[303]\tvalid_0's l2: 0.0355796\n",
      "[304]\tvalid_0's l2: 0.035569\n",
      "[305]\tvalid_0's l2: 0.0355802\n",
      "[306]\tvalid_0's l2: 0.035554\n",
      "[307]\tvalid_0's l2: 0.0355736\n",
      "[308]\tvalid_0's l2: 0.0355454\n",
      "[309]\tvalid_0's l2: 0.0355482\n",
      "[310]\tvalid_0's l2: 0.0355559\n",
      "[311]\tvalid_0's l2: 0.0355767\n",
      "[312]\tvalid_0's l2: 0.0355711\n",
      "[313]\tvalid_0's l2: 0.0355786\n",
      "[314]\tvalid_0's l2: 0.0355718\n",
      "[315]\tvalid_0's l2: 0.0355511\n",
      "[316]\tvalid_0's l2: 0.0355415\n",
      "[317]\tvalid_0's l2: 0.0355392\n",
      "[318]\tvalid_0's l2: 0.0355232\n",
      "[319]\tvalid_0's l2: 0.0355227\n",
      "[320]\tvalid_0's l2: 0.0355461\n",
      "[321]\tvalid_0's l2: 0.0355554\n",
      "[322]\tvalid_0's l2: 0.0355458\n",
      "[323]\tvalid_0's l2: 0.0355394\n",
      "[324]\tvalid_0's l2: 0.0355618\n",
      "[325]\tvalid_0's l2: 0.0355847\n",
      "[326]\tvalid_0's l2: 0.0355796\n",
      "[327]\tvalid_0's l2: 0.035593\n",
      "[328]\tvalid_0's l2: 0.0356109\n",
      "[329]\tvalid_0's l2: 0.0356077\n",
      "[330]\tvalid_0's l2: 0.0355944\n",
      "[331]\tvalid_0's l2: 0.0356005\n",
      "[332]\tvalid_0's l2: 0.0356084\n",
      "Early stopping, best iteration is:\n",
      "[132]\tvalid_0's l2: 0.0350812\n",
      "gbm mean_squared_error: 0.0350811574203\n"
     ]
    }
   ],
   "source": [
    "lgm = LightGBM()\n",
    "kf_y_preds = {}\n",
    "for index in range(len(trains)):\n",
    "    y_k = k_fold_validation(trains_data[index], train_Y, lgm)\n",
    "    kf_y_preds[str(index)] = y_k"
   ]
  },
  {
   "cell_type": "code",
   "execution_count": null,
   "metadata": {},
   "outputs": [],
   "source": [
    "lgm = LightGBM()\n",
    "kf_y_preds = {}\n",
    "for index in range(len(trains)):\n",
    "    X_train, X_valid, y_train, y_valid = train_test_split(trains_data[index], train_Y, test_size=0.25, random_state=33)\n",
    "    lgm.run(kf_X_train, kf_y_train, kf_X_valid, kf_y_valid)\n",
    "    kf_y_pred = lgm.gbm.predict(kf_X_valid)\n",
    "    kf_y_preds[str(index)] = y_k"
   ]
  },
  {
   "cell_type": "code",
   "execution_count": null,
   "metadata": {},
   "outputs": [],
   "source": []
  }
 ],
 "metadata": {
  "kernelspec": {
   "display_name": "Python 3",
   "language": "python",
   "name": "python3"
  },
  "language_info": {
   "codemirror_mode": {
    "name": "ipython",
    "version": 3
   },
   "file_extension": ".py",
   "mimetype": "text/x-python",
   "name": "python",
   "nbconvert_exporter": "python",
   "pygments_lexer": "ipython3",
   "version": "3.5.2"
  }
 },
 "nbformat": 4,
 "nbformat_minor": 2
}
