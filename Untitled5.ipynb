{
 "cells": [
  {
   "cell_type": "code",
   "execution_count": 1,
   "metadata": {},
   "outputs": [
    {
     "name": "stderr",
     "output_type": "stream",
     "text": [
      "/usr/local/lib/python3.5/dist-packages/h5py/__init__.py:36: FutureWarning: Conversion of the second argument of issubdtype from `float` to `np.floating` is deprecated. In future, it will be treated as `np.float64 == np.dtype(float).type`.\n",
      "  from ._conv import register_converters as _register_converters\n",
      "/home/chengli/.local/lib/python3.5/site-packages/sklearn/cross_validation.py:41: DeprecationWarning: This module was deprecated in version 0.18 in favor of the model_selection module into which all the refactored classes and functions are moved. Also note that the interface of the new CV iterators are different from that of this module. This module will be removed in 0.20.\n",
      "  \"This module will be removed in 0.20.\", DeprecationWarning)\n"
     ]
    }
   ],
   "source": [
    "import pandas as pd\n",
    "import numpy as np\n",
    "import lightgbm as lgm\n",
    "%matplotlib inline\n",
    "import matplotlib.pyplot as plt\n",
    "from feature_engineering.feature_selector import *\n",
    "from sklearn.model_selection import train_test_split\n",
    "from sklearn.metrics import mean_squared_error\n",
    "from feature_engineering.separate_str_num import * \n",
    "from model_selection.regressor_model_factory import RegressorModelFactory\n",
    "from model_selection.cv import k_fold_regressor"
   ]
  },
  {
   "cell_type": "code",
   "execution_count": 2,
   "metadata": {},
   "outputs": [],
   "source": [
    "train = pd.read_csv('./input/fusai_train_20180117.csv')\n",
    "testa = pd.read_csv('./input/fusai_testA_20180117.csv')"
   ]
  },
  {
   "cell_type": "code",
   "execution_count": 3,
   "metadata": {},
   "outputs": [],
   "source": [
    "answer_testa = pd.read_csv('./input/fusai_answer_a_20180127.csv', header=None, names=['id', 'values'])"
   ]
  },
  {
   "cell_type": "code",
   "execution_count": 4,
   "metadata": {},
   "outputs": [],
   "source": [
    "train = train[train.iloc[:, -1] > 2.25]"
   ]
  },
  {
   "cell_type": "code",
   "execution_count": 5,
   "metadata": {},
   "outputs": [],
   "source": [
    "train_X = train.iloc[:,1:-1]\n",
    "train_Y = train.iloc[:, -1]"
   ]
  },
  {
   "cell_type": "code",
   "execution_count": 6,
   "metadata": {},
   "outputs": [],
   "source": [
    "train_X = delete_constant(train_X)"
   ]
  },
  {
   "cell_type": "code",
   "execution_count": 7,
   "metadata": {},
   "outputs": [],
   "source": [
    "train_X = delete_nan(train_X)"
   ]
  },
  {
   "cell_type": "code",
   "execution_count": 8,
   "metadata": {},
   "outputs": [],
   "source": [
    "train_X = delete_duplicates(train_X)"
   ]
  },
  {
   "cell_type": "code",
   "execution_count": 33,
   "metadata": {},
   "outputs": [],
   "source": [
    "data_num, data_str = separate_num_str(train_X)\n",
    "test_num, test_str = separate_num_str(testa)"
   ]
  },
  {
   "cell_type": "code",
   "execution_count": 11,
   "metadata": {},
   "outputs": [],
   "source": [
    "pearsons = calculate_pearson(data_num, train_Y)"
   ]
  },
  {
   "cell_type": "code",
   "execution_count": 28,
   "metadata": {},
   "outputs": [],
   "source": [
    "pearsons = pearsons[(pearsons > 0.2).values | (pearsons < -0.2).values]"
   ]
  },
  {
   "cell_type": "code",
   "execution_count": 34,
   "metadata": {},
   "outputs": [],
   "source": [
    "mics = calculate_mic(data_num, train_Y)"
   ]
  },
  {
   "cell_type": "code",
   "execution_count": 35,
   "metadata": {},
   "outputs": [],
   "source": [
    "mics_15 = mics[mics > 0.15]"
   ]
  },
  {
   "cell_type": "code",
   "execution_count": null,
   "metadata": {},
   "outputs": [],
   "source": []
  },
  {
   "cell_type": "code",
   "execution_count": 36,
   "metadata": {},
   "outputs": [],
   "source": [
    "all_str = pd.concat([data_str, test_str], axis=0)"
   ]
  },
  {
   "cell_type": "code",
   "execution_count": 37,
   "metadata": {},
   "outputs": [],
   "source": [
    "all_str = pd.get_dummies(all_str)"
   ]
  },
  {
   "cell_type": "code",
   "execution_count": 39,
   "metadata": {},
   "outputs": [],
   "source": [
    "train_str = all_str.iloc[:data_str.shape[0]]\n",
    "testa_str = all_str.iloc[data_str.shape[0]:]"
   ]
  },
  {
   "cell_type": "code",
   "execution_count": 40,
   "metadata": {},
   "outputs": [
    {
     "data": {
      "text/plain": [
       "(799, 45)"
      ]
     },
     "execution_count": 40,
     "metadata": {},
     "output_type": "execute_result"
    }
   ],
   "source": []
  },
  {
   "cell_type": "code",
   "execution_count": null,
   "metadata": {},
   "outputs": [],
   "source": []
  },
  {
   "cell_type": "code",
   "execution_count": 48,
   "metadata": {},
   "outputs": [],
   "source": [
    "train_data = data_num.loc[:, mics_15.index]\n",
    "testa_data = test_num.loc[:, mics_15.index]"
   ]
  },
  {
   "cell_type": "code",
   "execution_count": 10,
   "metadata": {},
   "outputs": [],
   "source": [
    "# data_num.fillna(data_num.median(axis=0), inplace=True)"
   ]
  },
  {
   "cell_type": "code",
   "execution_count": 52,
   "metadata": {},
   "outputs": [],
   "source": [
    "train_data = pd.concat([data_num.loc[:, mics_15.index], train_str], axis=1, ignore_index=True)\n",
    "testa_data = pd.concat([test_num.loc[:, mics_15.index], testa_str], axis=1, ignore_index=True)"
   ]
  },
  {
   "cell_type": "code",
   "execution_count": 42,
   "metadata": {},
   "outputs": [
    {
     "data": {
      "text/plain": [
       "(799, 144)"
      ]
     },
     "execution_count": 42,
     "metadata": {},
     "output_type": "execute_result"
    }
   ],
   "source": [
    "train_data.shape"
   ]
  },
  {
   "cell_type": "code",
   "execution_count": 43,
   "metadata": {},
   "outputs": [
    {
     "data": {
      "text/plain": [
       "(300, 144)"
      ]
     },
     "execution_count": 43,
     "metadata": {},
     "output_type": "execute_result"
    }
   ],
   "source": [
    "testa_data.shape"
   ]
  },
  {
   "cell_type": "code",
   "execution_count": 30,
   "metadata": {},
   "outputs": [],
   "source": [
    "# testa_data.fillna(train_data.median(axis=0), inplace=True)"
   ]
  },
  {
   "cell_type": "code",
   "execution_count": 44,
   "metadata": {},
   "outputs": [],
   "source": [
    "rmf = RegressorModelFactory()\n",
    "xgb = rmf.create_model(RegressorModelFactory.MODEL_XGBOOST)"
   ]
  },
  {
   "cell_type": "code",
   "execution_count": 53,
   "metadata": {},
   "outputs": [
    {
     "name": "stdout",
     "output_type": "stream",
     "text": [
      "[0]\ttrain-mse:5.41617\tval-mse:5.10141\n",
      "Multiple eval metrics have been passed: 'val-mse' will be used for early stopping.\n",
      "\n",
      "Will train until val-mse hasn't improved in 100 rounds.\n",
      "[100]\ttrain-mse:1.36609\tval-mse:1.24325\n",
      "[200]\ttrain-mse:0.359787\tval-mse:0.32396\n",
      "[300]\ttrain-mse:0.102283\tval-mse:0.110593\n",
      "[400]\ttrain-mse:0.033223\tval-mse:0.058025\n",
      "[500]\ttrain-mse:0.013797\tval-mse:0.042819\n",
      "[600]\ttrain-mse:0.008024\tval-mse:0.038681\n",
      "[700]\ttrain-mse:0.006128\tval-mse:0.037431\n",
      "[800]\ttrain-mse:0.005417\tval-mse:0.036936\n",
      "[900]\ttrain-mse:0.005155\tval-mse:0.036804\n",
      "[1000]\ttrain-mse:0.005002\tval-mse:0.036735\n",
      "[1100]\ttrain-mse:0.004873\tval-mse:0.036592\n",
      "Stopping. Best iteration:\n",
      "[1093]\ttrain-mse:0.004873\tval-mse:0.036591\n",
      "\n"
     ]
    }
   ],
   "source": [
    "xgb.fit(train_data, testa_data, train_Y, answer_testa['values'])"
   ]
  },
  {
   "cell_type": "code",
   "execution_count": 15,
   "metadata": {},
   "outputs": [],
   "source": [
    "importance = pd.Series(xgb.xgbr.get_score()).sort_values(ascending=False)"
   ]
  },
  {
   "cell_type": "code",
   "execution_count": 27,
   "metadata": {},
   "outputs": [
    {
     "data": {
      "text/plain": [
       "{'210X1': 78,\n",
       " '210X104': 60,\n",
       " '210X106': 34,\n",
       " '210X11': 95,\n",
       " '210X119': 42,\n",
       " '210X133': 33,\n",
       " '210X14': 29,\n",
       " '210X151': 55,\n",
       " '210X156': 62,\n",
       " '210X16': 23,\n",
       " '210X160': 36,\n",
       " '210X162': 41,\n",
       " '210X167': 56,\n",
       " '210X176': 35,\n",
       " '210X187': 24,\n",
       " '210X190': 38,\n",
       " '210X206': 43,\n",
       " '210X209': 23,\n",
       " '210X216': 18,\n",
       " '210X36': 139,\n",
       " '210X51': 20,\n",
       " '210X6': 58,\n",
       " '210X89': 13,\n",
       " '220X13': 31,\n",
       " '220X166': 92,\n",
       " '220X223': 36,\n",
       " '220X3': 97,\n",
       " '220X32': 43,\n",
       " '220X54': 35,\n",
       " '220X8': 54,\n",
       " '300X1': 47,\n",
       " '310X151': 25,\n",
       " '311X154': 14,\n",
       " '311X182': 71,\n",
       " '311X183': 82,\n",
       " '311X184': 20,\n",
       " '311X189': 59,\n",
       " '311X195': 47,\n",
       " '311X196': 30,\n",
       " '311X197': 15,\n",
       " '311X211': 113,\n",
       " '311X25': 56,\n",
       " '311X26': 19,\n",
       " '311X4': 31,\n",
       " '311X52': 31,\n",
       " '311X53': 19,\n",
       " '311X74': 25,\n",
       " '311X86': 32,\n",
       " '311X87': 45,\n",
       " '311X88': 44,\n",
       " '312X424': 40,\n",
       " '312X51': 82,\n",
       " '312X558': 52,\n",
       " '312X57': 53,\n",
       " '312X690': 34,\n",
       " '330X1147': 66,\n",
       " '330X291': 49,\n",
       " '330X422': 72,\n",
       " '340X109': 47,\n",
       " '340X13': 48,\n",
       " '340X15': 33,\n",
       " '344X19': 37,\n",
       " '344X44': 41,\n",
       " '360X1006': 43,\n",
       " '360X508': 21,\n",
       " '360X611': 36,\n",
       " '420X187': 31,\n",
       " '420X188': 83,\n",
       " '420X189': 25,\n",
       " '420X200': 53,\n",
       " '420X205': 65,\n",
       " '420X211': 62,\n",
       " '420X216': 59,\n",
       " '420X31': 28,\n",
       " '420X92': 14,\n",
       " '420X97': 42,\n",
       " '420X99': 35,\n",
       " '440AX131': 34,\n",
       " '440AX134': 69,\n",
       " '440AX148': 86,\n",
       " '520X144': 70,\n",
       " '750X228': 62,\n",
       " '750X327': 28,\n",
       " '750X368': 41,\n",
       " '750X613': 38,\n",
       " 'ERROR:#N/A_2': 17,\n",
       " 'ERROR:#N/A_4': 72}"
      ]
     },
     "execution_count": 27,
     "metadata": {},
     "output_type": "execute_result"
    }
   ],
   "source": [
    "xgb.xgbr.get_score()"
   ]
  },
  {
   "cell_type": "code",
   "execution_count": 16,
   "metadata": {},
   "outputs": [],
   "source": [
    "importance = importance[importance>10]"
   ]
  },
  {
   "cell_type": "code",
   "execution_count": 17,
   "metadata": {},
   "outputs": [],
   "source": [
    "important_train = train_data[importance.index]\n",
    "important_testa = testa_data[importance.index]"
   ]
  },
  {
   "cell_type": "code",
   "execution_count": 18,
   "metadata": {},
   "outputs": [
    {
     "name": "stdout",
     "output_type": "stream",
     "text": [
      "[0]\ttrain-mse:5.41617\tval-mse:5.10141\n",
      "Multiple eval metrics have been passed: 'val-mse' will be used for early stopping.\n",
      "\n",
      "Will train until val-mse hasn't improved in 100 rounds.\n",
      "[100]\ttrain-mse:1.36678\tval-mse:1.24445\n",
      "[200]\ttrain-mse:0.360396\tval-mse:0.317477\n",
      "[300]\ttrain-mse:0.103313\tval-mse:0.097185\n",
      "[400]\ttrain-mse:0.034369\tval-mse:0.047897\n",
      "[500]\ttrain-mse:0.014889\tval-mse:0.036899\n",
      "[600]\ttrain-mse:0.009041\tval-mse:0.035179\n",
      "Stopping. Best iteration:\n",
      "[599]\ttrain-mse:0.009077\tval-mse:0.035155\n",
      "\n"
     ]
    }
   ],
   "source": [
    "xgb.fit(important_train, important_testa, train_Y, answer_testa['values'])"
   ]
  },
  {
   "cell_type": "code",
   "execution_count": null,
   "metadata": {},
   "outputs": [],
   "source": []
  }
 ],
 "metadata": {
  "kernelspec": {
   "display_name": "Python 3",
   "language": "python",
   "name": "python3"
  },
  "language_info": {
   "codemirror_mode": {
    "name": "ipython",
    "version": 3
   },
   "file_extension": ".py",
   "mimetype": "text/x-python",
   "name": "python",
   "nbconvert_exporter": "python",
   "pygments_lexer": "ipython3",
   "version": "3.5.2"
  }
 },
 "nbformat": 4,
 "nbformat_minor": 2
}
