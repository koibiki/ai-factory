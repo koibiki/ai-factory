{
 "cells": [
  {
   "cell_type": "code",
   "execution_count": 1,
   "metadata": {},
   "outputs": [
    {
     "name": "stderr",
     "output_type": "stream",
     "text": [
      "/usr/local/lib/python3.5/dist-packages/h5py/__init__.py:36: FutureWarning: Conversion of the second argument of issubdtype from `float` to `np.floating` is deprecated. In future, it will be treated as `np.float64 == np.dtype(float).type`.\n",
      "  from ._conv import register_converters as _register_converters\n",
      "/home/chengli/.local/lib/python3.5/site-packages/sklearn/cross_validation.py:41: DeprecationWarning: This module was deprecated in version 0.18 in favor of the model_selection module into which all the refactored classes and functions are moved. Also note that the interface of the new CV iterators are different from that of this module. This module will be removed in 0.20.\n",
      "  \"This module will be removed in 0.20.\", DeprecationWarning)\n"
     ]
    }
   ],
   "source": [
    "from feature_engineering.feature_selector import *\n",
    "from feature_engineering.create_sample import *\n",
    "from feature_engineering.separate_str_num import * \n",
    "from feature_engineering.fill_nan import *\n",
    "from model_selection.regressor_model_factory import RegressorModelFactory\n",
    "from model_selection.cv import k_fold_regressor\n",
    "from model_selection.smote_cv import *\n",
    "from sklearn.model_selection import train_test_split\n",
    "%matplotlib inline\n",
    "import matplotlib.pyplot as plt"
   ]
  },
  {
   "cell_type": "code",
   "execution_count": 2,
   "metadata": {},
   "outputs": [],
   "source": [
    "train = pd.read_csv('./input/fusai_train_20180117.csv')"
   ]
  },
  {
   "cell_type": "code",
   "execution_count": 3,
   "metadata": {},
   "outputs": [],
   "source": [
    "testa = pd.read_csv('./input/fusai_testA_20180117.csv')"
   ]
  },
  {
   "cell_type": "code",
   "execution_count": 4,
   "metadata": {},
   "outputs": [],
   "source": [
    "train = train[train.iloc[:, -1] > 2.2]"
   ]
  },
  {
   "cell_type": "code",
   "execution_count": 5,
   "metadata": {},
   "outputs": [
    {
     "data": {
      "text/plain": [
       "(799, 5954)"
      ]
     },
     "execution_count": 5,
     "metadata": {},
     "output_type": "execute_result"
    }
   ],
   "source": [
    "train.shape"
   ]
  },
  {
   "cell_type": "code",
   "execution_count": 6,
   "metadata": {},
   "outputs": [
    {
     "data": {
      "text/plain": [
       "(300, 5953)"
      ]
     },
     "execution_count": 6,
     "metadata": {},
     "output_type": "execute_result"
    }
   ],
   "source": [
    "testa.shape"
   ]
  },
  {
   "cell_type": "code",
   "execution_count": 7,
   "metadata": {},
   "outputs": [],
   "source": [
    "train_X = train.iloc[:, 1:-1]\n",
    "train_Y = train.iloc[:, -1]\n",
    "testa_X = testa.iloc[:, 1:]"
   ]
  },
  {
   "cell_type": "code",
   "execution_count": 8,
   "metadata": {},
   "outputs": [],
   "source": [
    "train_X = delete_constant(train_X)\n",
    "train_X = delete_nan(train_X)"
   ]
  },
  {
   "cell_type": "code",
   "execution_count": 9,
   "metadata": {},
   "outputs": [],
   "source": [
    "data_num, data_str = separate_num_str(train_X)"
   ]
  },
  {
   "cell_type": "code",
   "execution_count": 47,
   "metadata": {},
   "outputs": [],
   "source": [
    "data_num_T = data_num.T"
   ]
  },
  {
   "cell_type": "code",
   "execution_count": 48,
   "metadata": {},
   "outputs": [],
   "source": [
    "data_num_T = data_num_T.drop_duplicates(keep='first')"
   ]
  },
  {
   "cell_type": "code",
   "execution_count": 49,
   "metadata": {},
   "outputs": [],
   "source": [
    "data_num = data_num_T.T"
   ]
  },
  {
   "cell_type": "code",
   "execution_count": 50,
   "metadata": {},
   "outputs": [],
   "source": [
    "train_data = pd.concat([ data_num], axis=1)"
   ]
  },
  {
   "cell_type": "code",
   "execution_count": 51,
   "metadata": {},
   "outputs": [
    {
     "data": {
      "text/plain": [
       "(799, 2686)"
      ]
     },
     "execution_count": 51,
     "metadata": {},
     "output_type": "execute_result"
    }
   ],
   "source": [
    "train_data.shape"
   ]
  },
  {
   "cell_type": "code",
   "execution_count": 52,
   "metadata": {},
   "outputs": [],
   "source": [
    "testa_X = testa_X.loc[:, train_data.columns]"
   ]
  },
  {
   "cell_type": "code",
   "execution_count": 53,
   "metadata": {},
   "outputs": [
    {
     "data": {
      "text/plain": [
       "(300, 2686)"
      ]
     },
     "execution_count": 53,
     "metadata": {},
     "output_type": "execute_result"
    }
   ],
   "source": [
    "testa_X.shape"
   ]
  },
  {
   "cell_type": "code",
   "execution_count": 54,
   "metadata": {
    "scrolled": false
   },
   "outputs": [
    {
     "name": "stdout",
     "output_type": "stream",
     "text": [
      "开始CV5折训练...\n",
      "第0次训练...\n",
      "Training until validation scores don't improve for 300 rounds.\n",
      "[200]\tvalid_0's l2: 0.0134136\tvalid_0's mse: 0.0134136\n",
      "[400]\tvalid_0's l2: 0.0119756\tvalid_0's mse: 0.0119756\n",
      "[600]\tvalid_0's l2: 0.0117452\tvalid_0's mse: 0.0117452\n",
      "[800]\tvalid_0's l2: 0.0115922\tvalid_0's mse: 0.0115922\n",
      "[1000]\tvalid_0's l2: 0.0114486\tvalid_0's mse: 0.0114486\n",
      "[1200]\tvalid_0's l2: 0.0114083\tvalid_0's mse: 0.0114083\n",
      "[1400]\tvalid_0's l2: 0.0113691\tvalid_0's mse: 0.0113691\n",
      "[1600]\tvalid_0's l2: 0.0113249\tvalid_0's mse: 0.0113249\n",
      "[1800]\tvalid_0's l2: 0.0113287\tvalid_0's mse: 0.0113287\n",
      "[2000]\tvalid_0's l2: 0.011321\tvalid_0's mse: 0.011321\n",
      "[2200]\tvalid_0's l2: 0.011319\tvalid_0's mse: 0.011319\n",
      "[2400]\tvalid_0's l2: 0.0113094\tvalid_0's mse: 0.0113094\n",
      "[2600]\tvalid_0's l2: 0.0113094\tvalid_0's mse: 0.0113094\n",
      "[2800]\tvalid_0's l2: 0.0113016\tvalid_0's mse: 0.0113016\n",
      "[3000]\tvalid_0's l2: 0.011295\tvalid_0's mse: 0.011295\n",
      "[3200]\tvalid_0's l2: 0.0112933\tvalid_0's mse: 0.0112933\n",
      "[3400]\tvalid_0's l2: 0.0112932\tvalid_0's mse: 0.0112932\n",
      "[3600]\tvalid_0's l2: 0.0112938\tvalid_0's mse: 0.0112938\n",
      "Early stopping, best iteration is:\n",
      "[3409]\tvalid_0's l2: 0.0112925\tvalid_0's mse: 0.0112925\n",
      "第1次训练...\n",
      "Training until validation scores don't improve for 300 rounds.\n",
      "[200]\tvalid_0's l2: 0.0147802\tvalid_0's mse: 0.0147802\n",
      "[400]\tvalid_0's l2: 0.0134134\tvalid_0's mse: 0.0134134\n",
      "[600]\tvalid_0's l2: 0.0129085\tvalid_0's mse: 0.0129085\n",
      "[800]\tvalid_0's l2: 0.0126395\tvalid_0's mse: 0.0126395\n",
      "[1000]\tvalid_0's l2: 0.0125818\tvalid_0's mse: 0.0125818\n",
      "[1200]\tvalid_0's l2: 0.0125585\tvalid_0's mse: 0.0125585\n",
      "[1400]\tvalid_0's l2: 0.0125273\tvalid_0's mse: 0.0125273\n",
      "[1600]\tvalid_0's l2: 0.0125225\tvalid_0's mse: 0.0125225\n",
      "[1800]\tvalid_0's l2: 0.0125195\tvalid_0's mse: 0.0125194\n",
      "[2000]\tvalid_0's l2: 0.0125142\tvalid_0's mse: 0.0125142\n",
      "Early stopping, best iteration is:\n",
      "[1705]\tvalid_0's l2: 0.012507\tvalid_0's mse: 0.012507\n",
      "第2次训练...\n",
      "Training until validation scores don't improve for 300 rounds.\n",
      "[200]\tvalid_0's l2: 0.016198\tvalid_0's mse: 0.016198\n",
      "[400]\tvalid_0's l2: 0.0138812\tvalid_0's mse: 0.0138812\n",
      "[600]\tvalid_0's l2: 0.013254\tvalid_0's mse: 0.013254\n",
      "[800]\tvalid_0's l2: 0.0130714\tvalid_0's mse: 0.0130714\n",
      "[1000]\tvalid_0's l2: 0.0129985\tvalid_0's mse: 0.0129985\n",
      "[1200]\tvalid_0's l2: 0.0129587\tvalid_0's mse: 0.0129586\n",
      "[1400]\tvalid_0's l2: 0.0129198\tvalid_0's mse: 0.0129198\n",
      "[1600]\tvalid_0's l2: 0.0129071\tvalid_0's mse: 0.0129071\n",
      "[1800]\tvalid_0's l2: 0.0128948\tvalid_0's mse: 0.0128948\n",
      "[2000]\tvalid_0's l2: 0.0128973\tvalid_0's mse: 0.0128973\n",
      "[2200]\tvalid_0's l2: 0.0128969\tvalid_0's mse: 0.0128969\n",
      "[2400]\tvalid_0's l2: 0.0128884\tvalid_0's mse: 0.0128884\n",
      "[2600]\tvalid_0's l2: 0.0128875\tvalid_0's mse: 0.0128875\n",
      "[2800]\tvalid_0's l2: 0.0128879\tvalid_0's mse: 0.0128879\n",
      "[3000]\tvalid_0's l2: 0.012886\tvalid_0's mse: 0.012886\n",
      "[3200]\tvalid_0's l2: 0.0128875\tvalid_0's mse: 0.0128875\n",
      "Early stopping, best iteration is:\n",
      "[2917]\tvalid_0's l2: 0.0128843\tvalid_0's mse: 0.0128843\n",
      "第3次训练...\n",
      "Training until validation scores don't improve for 300 rounds.\n",
      "[200]\tvalid_0's l2: 0.0142296\tvalid_0's mse: 0.0142296\n",
      "[400]\tvalid_0's l2: 0.0131839\tvalid_0's mse: 0.0131839\n",
      "[600]\tvalid_0's l2: 0.0128566\tvalid_0's mse: 0.0128566\n",
      "[800]\tvalid_0's l2: 0.0126827\tvalid_0's mse: 0.0126827\n",
      "[1000]\tvalid_0's l2: 0.0125996\tvalid_0's mse: 0.0125996\n",
      "[1200]\tvalid_0's l2: 0.0125262\tvalid_0's mse: 0.0125262\n",
      "[1400]\tvalid_0's l2: 0.0124822\tvalid_0's mse: 0.0124822\n",
      "[1600]\tvalid_0's l2: 0.0124709\tvalid_0's mse: 0.0124709\n",
      "[1800]\tvalid_0's l2: 0.0124673\tvalid_0's mse: 0.0124673\n",
      "[2000]\tvalid_0's l2: 0.0124604\tvalid_0's mse: 0.0124604\n",
      "[2200]\tvalid_0's l2: 0.0124599\tvalid_0's mse: 0.0124599\n",
      "Early stopping, best iteration is:\n",
      "[2054]\tvalid_0's l2: 0.0124534\tvalid_0's mse: 0.0124534\n",
      "第4次训练...\n",
      "Training until validation scores don't improve for 300 rounds.\n",
      "[200]\tvalid_0's l2: 0.0143519\tvalid_0's mse: 0.0143519\n",
      "[400]\tvalid_0's l2: 0.0128172\tvalid_0's mse: 0.0128172\n",
      "[600]\tvalid_0's l2: 0.0126732\tvalid_0's mse: 0.0126732\n",
      "[800]\tvalid_0's l2: 0.0125361\tvalid_0's mse: 0.0125361\n",
      "[1000]\tvalid_0's l2: 0.012523\tvalid_0's mse: 0.012523\n",
      "Early stopping, best iteration is:\n",
      "[887]\tvalid_0's l2: 0.0125014\tvalid_0's mse: 0.0125014\n",
      "light_gbm_r_ k fold validation: 0.012327503461716339\n"
     ]
    }
   ],
   "source": [
    "predict, cv_indexs, importances = k_fold_regressor(train_data, train_Y, testa_X, model_num=RegressorModelFactory.MODEL_LIGHET_GBM, cv=5, important_level=0)"
   ]
  },
  {
   "cell_type": "code",
   "execution_count": 55,
   "metadata": {},
   "outputs": [],
   "source": [
    "answer_testa = pd.read_csv('./input/fusai_answer_a_20180127.csv', header=None, names=['id', 'values'])"
   ]
  },
  {
   "cell_type": "code",
   "execution_count": 56,
   "metadata": {},
   "outputs": [
    {
     "data": {
      "text/plain": [
       "0.03613220862989132"
      ]
     },
     "execution_count": 56,
     "metadata": {},
     "output_type": "execute_result"
    }
   ],
   "source": [
    "mean_squared_error(answer_testa['values'], predict)"
   ]
  },
  {
   "cell_type": "code",
   "execution_count": 58,
   "metadata": {},
   "outputs": [],
   "source": [
    "importances_train = train_data[importances]"
   ]
  },
  {
   "cell_type": "code",
   "execution_count": 59,
   "metadata": {},
   "outputs": [
    {
     "data": {
      "text/plain": [
       "(799, 937)"
      ]
     },
     "execution_count": 59,
     "metadata": {},
     "output_type": "execute_result"
    }
   ],
   "source": [
    "importances_train.shape"
   ]
  },
  {
   "cell_type": "code",
   "execution_count": 60,
   "metadata": {},
   "outputs": [],
   "source": [
    "testa_data = testa[importances_train.columns]"
   ]
  },
  {
   "cell_type": "code",
   "execution_count": 61,
   "metadata": {},
   "outputs": [
    {
     "data": {
      "text/plain": [
       "(300, 937)"
      ]
     },
     "execution_count": 61,
     "metadata": {},
     "output_type": "execute_result"
    }
   ],
   "source": [
    "testa_data.shape"
   ]
  },
  {
   "cell_type": "code",
   "execution_count": 62,
   "metadata": {
    "scrolled": false
   },
   "outputs": [
    {
     "name": "stdout",
     "output_type": "stream",
     "text": [
      "开始CV5折训练...\n",
      "第0次训练...\n",
      "Training until validation scores don't improve for 300 rounds.\n",
      "[200]\tvalid_0's l2: 0.0127867\tvalid_0's mse: 0.0127867\n",
      "[400]\tvalid_0's l2: 0.0111831\tvalid_0's mse: 0.0111831\n",
      "[600]\tvalid_0's l2: 0.010879\tvalid_0's mse: 0.010879\n",
      "[800]\tvalid_0's l2: 0.010765\tvalid_0's mse: 0.010765\n",
      "[1000]\tvalid_0's l2: 0.0106298\tvalid_0's mse: 0.0106298\n",
      "[1200]\tvalid_0's l2: 0.0105577\tvalid_0's mse: 0.0105577\n",
      "[1400]\tvalid_0's l2: 0.0105231\tvalid_0's mse: 0.0105232\n",
      "[1600]\tvalid_0's l2: 0.0104994\tvalid_0's mse: 0.0104994\n",
      "[1800]\tvalid_0's l2: 0.0104767\tvalid_0's mse: 0.0104767\n",
      "[2000]\tvalid_0's l2: 0.010481\tvalid_0's mse: 0.010481\n",
      "Early stopping, best iteration is:\n",
      "[1807]\tvalid_0's l2: 0.0104741\tvalid_0's mse: 0.0104741\n",
      "第1次训练...\n",
      "Training until validation scores don't improve for 300 rounds.\n",
      "[200]\tvalid_0's l2: 0.0144862\tvalid_0's mse: 0.0144862\n",
      "[400]\tvalid_0's l2: 0.0128171\tvalid_0's mse: 0.0128171\n",
      "[600]\tvalid_0's l2: 0.0124235\tvalid_0's mse: 0.0124235\n",
      "[800]\tvalid_0's l2: 0.0122687\tvalid_0's mse: 0.0122687\n",
      "[1000]\tvalid_0's l2: 0.012164\tvalid_0's mse: 0.0121639\n",
      "[1200]\tvalid_0's l2: 0.0120418\tvalid_0's mse: 0.0120418\n",
      "[1400]\tvalid_0's l2: 0.0120245\tvalid_0's mse: 0.0120245\n",
      "[1600]\tvalid_0's l2: 0.0119954\tvalid_0's mse: 0.0119954\n",
      "[1800]\tvalid_0's l2: 0.012002\tvalid_0's mse: 0.012002\n",
      "Early stopping, best iteration is:\n",
      "[1533]\tvalid_0's l2: 0.0119914\tvalid_0's mse: 0.0119914\n",
      "第2次训练...\n",
      "Training until validation scores don't improve for 300 rounds.\n",
      "[200]\tvalid_0's l2: 0.0155532\tvalid_0's mse: 0.0155532\n",
      "[400]\tvalid_0's l2: 0.0134121\tvalid_0's mse: 0.0134121\n",
      "[600]\tvalid_0's l2: 0.0127859\tvalid_0's mse: 0.0127859\n",
      "[800]\tvalid_0's l2: 0.0125453\tvalid_0's mse: 0.0125453\n",
      "[1000]\tvalid_0's l2: 0.0124351\tvalid_0's mse: 0.0124351\n",
      "[1200]\tvalid_0's l2: 0.0123694\tvalid_0's mse: 0.0123694\n",
      "[1400]\tvalid_0's l2: 0.012314\tvalid_0's mse: 0.012314\n",
      "[1600]\tvalid_0's l2: 0.0122542\tvalid_0's mse: 0.0122542\n",
      "[1800]\tvalid_0's l2: 0.0122582\tvalid_0's mse: 0.0122582\n",
      "Early stopping, best iteration is:\n",
      "[1626]\tvalid_0's l2: 0.0122491\tvalid_0's mse: 0.0122491\n",
      "第3次训练...\n",
      "Training until validation scores don't improve for 300 rounds.\n",
      "[200]\tvalid_0's l2: 0.0142835\tvalid_0's mse: 0.0142835\n",
      "[400]\tvalid_0's l2: 0.0128839\tvalid_0's mse: 0.0128839\n",
      "[600]\tvalid_0's l2: 0.0125149\tvalid_0's mse: 0.0125149\n",
      "[800]\tvalid_0's l2: 0.012367\tvalid_0's mse: 0.012367\n",
      "[1000]\tvalid_0's l2: 0.0122958\tvalid_0's mse: 0.0122958\n",
      "[1200]\tvalid_0's l2: 0.0122456\tvalid_0's mse: 0.0122456\n",
      "[1400]\tvalid_0's l2: 0.0121778\tvalid_0's mse: 0.0121778\n",
      "[1600]\tvalid_0's l2: 0.0121554\tvalid_0's mse: 0.0121554\n",
      "[1800]\tvalid_0's l2: 0.0121367\tvalid_0's mse: 0.0121367\n",
      "[2000]\tvalid_0's l2: 0.01213\tvalid_0's mse: 0.01213\n",
      "[2200]\tvalid_0's l2: 0.0121246\tvalid_0's mse: 0.0121246\n",
      "[2400]\tvalid_0's l2: 0.0121288\tvalid_0's mse: 0.0121288\n",
      "Early stopping, best iteration is:\n",
      "[2153]\tvalid_0's l2: 0.0121224\tvalid_0's mse: 0.0121224\n",
      "第4次训练...\n",
      "Training until validation scores don't improve for 300 rounds.\n",
      "[200]\tvalid_0's l2: 0.0135854\tvalid_0's mse: 0.0135854\n",
      "[400]\tvalid_0's l2: 0.0119363\tvalid_0's mse: 0.0119363\n",
      "[600]\tvalid_0's l2: 0.0116165\tvalid_0's mse: 0.0116165\n",
      "[800]\tvalid_0's l2: 0.0116497\tvalid_0's mse: 0.0116497\n",
      "Early stopping, best iteration is:\n",
      "[635]\tvalid_0's l2: 0.0116086\tvalid_0's mse: 0.0116086\n",
      "light_gbm_r_ k fold validation: 0.011689211444346943\n"
     ]
    }
   ],
   "source": [
    "testa_pred, cv_indexs, importances2 = k_fold_regressor(importances_train, train_Y, testa_data, model_num=RegressorModelFactory.MODEL_LIGHET_GBM, cv=5)"
   ]
  },
  {
   "cell_type": "code",
   "execution_count": null,
   "metadata": {},
   "outputs": [],
   "source": []
  },
  {
   "cell_type": "code",
   "execution_count": 63,
   "metadata": {},
   "outputs": [
    {
     "data": {
      "text/plain": [
       "0.03708240830576869"
      ]
     },
     "execution_count": 63,
     "metadata": {},
     "output_type": "execute_result"
    }
   ],
   "source": [
    "mean_squared_error(answer_testa['values'], testa_pred)"
   ]
  },
  {
   "cell_type": "code",
   "execution_count": 45,
   "metadata": {},
   "outputs": [
    {
     "data": {
      "image/png": "[encoded data removed]",
      "text/plain": [
       "<matplotlib.figure.Figure at 0x7f549d006e10>"
      ]
     },
     "metadata": {},
     "output_type": "display_data"
    }
   ],
   "source": [
    "x = range(len(train_Y))\n",
    "plt.plot(x, train_Y.sort_values().values, 'r-*', label='y_train')\n",
    "plt.show()"
   ]
  },
  {
   "cell_type": "code",
   "execution_count": 46,
   "metadata": {},
   "outputs": [
    {
     "data": {
      "image/png": "[encoded data removed]",
      "text/plain": [
       "<matplotlib.figure.Figure at 0x7f549cfec160>"
      ]
     },
     "metadata": {},
     "output_type": "display_data"
    }
   ],
   "source": [
    "x = range(len(answer_testa['values']))\n",
    "plt.plot(x, answer_testa['values'].sort_values().values, 'r-*', label='y_train')\n",
    "plt.show()"
   ]
  },
  {
   "cell_type": "code",
   "execution_count": null,
   "metadata": {},
   "outputs": [],
   "source": []
  },
  {
   "cell_type": "code",
   "execution_count": null,
   "metadata": {},
   "outputs": [],
   "source": []
  },
  {
   "cell_type": "code",
   "execution_count": 14,
   "metadata": {},
   "outputs": [],
   "source": [
    "rmf = RegressorModelFactory()"
   ]
  },
  {
   "cell_type": "code",
   "execution_count": 15,
   "metadata": {},
   "outputs": [],
   "source": [
    "lgm = rmf.create_model(RegressorModelFactory.MODEL_LIGHET_GBM)"
   ]
  },
  {
   "cell_type": "code",
   "execution_count": 16,
   "metadata": {},
   "outputs": [],
   "source": [
    "X_train, X_valid, y_train, y_valid = train_test_split(train_data, train_Y, test_size=0.2, random_state=520)"
   ]
  },
  {
   "cell_type": "code",
   "execution_count": 30,
   "metadata": {},
   "outputs": [
    {
     "name": "stdout",
     "output_type": "stream",
     "text": [
      "Training until validation scores don't improve for 300 rounds.\n",
      "[200]\tvalid_0's l2: 0.0132707\tvalid_0's mse: 0.0132707\n",
      "[400]\tvalid_0's l2: 0.0119512\tvalid_0's mse: 0.0119512\n",
      "[600]\tvalid_0's l2: 0.011639\tvalid_0's mse: 0.011639\n",
      "[800]\tvalid_0's l2: 0.0114923\tvalid_0's mse: 0.0114923\n",
      "[1000]\tvalid_0's l2: 0.0113895\tvalid_0's mse: 0.0113895\n",
      "[1200]\tvalid_0's l2: 0.011354\tvalid_0's mse: 0.011354\n",
      "[1400]\tvalid_0's l2: 0.0113578\tvalid_0's mse: 0.0113578\n",
      "[1600]\tvalid_0's l2: 0.0113648\tvalid_0's mse: 0.0113648\n",
      "Early stopping, best iteration is:\n",
      "[1349]\tvalid_0's l2: 0.0113426\tvalid_0's mse: 0.0113426\n"
     ]
    }
   ],
   "source": [
    "lgm.fit(X_train, X_valid, y_train, y_valid)"
   ]
  },
  {
   "cell_type": "code",
   "execution_count": 31,
   "metadata": {},
   "outputs": [],
   "source": [
    "pred = lgm.predict(X_valid)"
   ]
  },
  {
   "cell_type": "code",
   "execution_count": 32,
   "metadata": {},
   "outputs": [],
   "source": [
    "importance = lgm.feature_importance()"
   ]
  },
  {
   "cell_type": "code",
   "execution_count": 33,
   "metadata": {},
   "outputs": [],
   "source": [
    "importance = importance[importance > 7]"
   ]
  },
  {
   "cell_type": "code",
   "execution_count": 34,
   "metadata": {},
   "outputs": [],
   "source": [
    "X_train = X_train[importance.index]\n",
    "X_valid = X_valid[importance.index]"
   ]
  },
  {
   "cell_type": "code",
   "execution_count": 35,
   "metadata": {},
   "outputs": [
    {
     "data": {
      "text/plain": [
       "288"
      ]
     },
     "execution_count": 35,
     "metadata": {},
     "output_type": "execute_result"
    }
   ],
   "source": [
    "len(importance)"
   ]
  },
  {
   "cell_type": "code",
   "execution_count": null,
   "metadata": {},
   "outputs": [],
   "source": []
  }
 ],
 "metadata": {
  "kernelspec": {
   "display_name": "Python 3",
   "language": "python",
   "name": "python3"
  },
  "language_info": {
   "codemirror_mode": {
    "name": "ipython",
    "version": 3
   },
   "file_extension": ".py",
   "mimetype": "text/x-python",
   "name": "python",
   "nbconvert_exporter": "python",
   "pygments_lexer": "ipython3",
   "version": "3.5.2"
  }
 },
 "nbformat": 4,
 "nbformat_minor": 2
}
