{
 "cells": [
  {
   "cell_type": "code",
   "execution_count": 138,
   "metadata": {},
   "outputs": [],
   "source": [
    "import pandas as pd\n",
    "import numpy as np\n",
    "import math"
   ]
  },
  {
   "cell_type": "code",
   "execution_count": 2,
   "metadata": {
    "scrolled": true
   },
   "outputs": [],
   "source": [
    "train = pd.read_excel(\"./train.xlsx\")"
   ]
  },
  {
   "cell_type": "code",
   "execution_count": 5,
   "metadata": {},
   "outputs": [
    {
     "data": {
      "text/html": [
       "<div>\n",
       "<style scoped>\n",
       "    .dataframe tbody tr th:only-of-type {\n",
       "        vertical-align: middle;\n",
       "    }\n",
       "\n",
       "    .dataframe tbody tr th {\n",
       "        vertical-align: top;\n",
       "    }\n",
       "\n",
       "    .dataframe thead th {\n",
       "        text-align: right;\n",
       "    }\n",
       "</style>\n",
       "<table border=\"1\" class=\"dataframe\">\n",
       "  <thead>\n",
       "    <tr style=\"text-align: right;\">\n",
       "      <th></th>\n",
       "      <th>ID</th>\n",
       "      <th>TOOL_ID</th>\n",
       "      <th>210X1</th>\n",
       "      <th>210X2</th>\n",
       "      <th>210X3</th>\n",
       "      <th>210X4</th>\n",
       "      <th>210X5</th>\n",
       "      <th>210X6</th>\n",
       "      <th>210X7</th>\n",
       "      <th>210X8</th>\n",
       "      <th>...</th>\n",
       "      <th>750X1444</th>\n",
       "      <th>750X1445</th>\n",
       "      <th>750X1446</th>\n",
       "      <th>750X1447</th>\n",
       "      <th>750X1448</th>\n",
       "      <th>750X1449</th>\n",
       "      <th>750X1450</th>\n",
       "      <th>750X1451</th>\n",
       "      <th>750X1452</th>\n",
       "      <th>Y</th>\n",
       "    </tr>\n",
       "  </thead>\n",
       "  <tbody>\n",
       "    <tr>\n",
       "      <th>0</th>\n",
       "      <td>ID001</td>\n",
       "      <td>N</td>\n",
       "      <td>102.05</td>\n",
       "      <td>0.465</td>\n",
       "      <td>0.27</td>\n",
       "      <td>1.430</td>\n",
       "      <td>67.45</td>\n",
       "      <td>4.620</td>\n",
       "      <td>-0.54</td>\n",
       "      <td>-1.05</td>\n",
       "      <td>...</td>\n",
       "      <td>0.00072</td>\n",
       "      <td>0.00072</td>\n",
       "      <td>25.7</td>\n",
       "      <td>0.00072</td>\n",
       "      <td>0.00072</td>\n",
       "      <td>25.7</td>\n",
       "      <td>0.00072</td>\n",
       "      <td>0.00072</td>\n",
       "      <td>2.400000e+12</td>\n",
       "      <td>2.945079</td>\n",
       "    </tr>\n",
       "    <tr>\n",
       "      <th>1</th>\n",
       "      <td>ID002</td>\n",
       "      <td>M</td>\n",
       "      <td>100.95</td>\n",
       "      <td>0.805</td>\n",
       "      <td>0.22</td>\n",
       "      <td>3.477</td>\n",
       "      <td>62.08</td>\n",
       "      <td>3.412</td>\n",
       "      <td>-2.12</td>\n",
       "      <td>1.02</td>\n",
       "      <td>...</td>\n",
       "      <td>0.00072</td>\n",
       "      <td>0.00072</td>\n",
       "      <td>25.5</td>\n",
       "      <td>0.00072</td>\n",
       "      <td>0.00072</td>\n",
       "      <td>25.5</td>\n",
       "      <td>0.00072</td>\n",
       "      <td>0.00072</td>\n",
       "      <td>2.400000e+12</td>\n",
       "      <td>2.955092</td>\n",
       "    </tr>\n",
       "    <tr>\n",
       "      <th>2</th>\n",
       "      <td>ID003</td>\n",
       "      <td>L</td>\n",
       "      <td>98.56</td>\n",
       "      <td>0.555</td>\n",
       "      <td>0.24</td>\n",
       "      <td>1.172</td>\n",
       "      <td>56.70</td>\n",
       "      <td>3.080</td>\n",
       "      <td>-2.25</td>\n",
       "      <td>0.88</td>\n",
       "      <td>...</td>\n",
       "      <td>0.00064</td>\n",
       "      <td>0.00064</td>\n",
       "      <td>25.2</td>\n",
       "      <td>0.00064</td>\n",
       "      <td>0.00064</td>\n",
       "      <td>25.2</td>\n",
       "      <td>0.00064</td>\n",
       "      <td>0.00064</td>\n",
       "      <td>2.400000e+12</td>\n",
       "      <td>2.741264</td>\n",
       "    </tr>\n",
       "    <tr>\n",
       "      <th>3</th>\n",
       "      <td>ID004</td>\n",
       "      <td>M</td>\n",
       "      <td>100.35</td>\n",
       "      <td>0.901</td>\n",
       "      <td>0.22</td>\n",
       "      <td>3.631</td>\n",
       "      <td>62.25</td>\n",
       "      <td>3.949</td>\n",
       "      <td>-1.98</td>\n",
       "      <td>0.82</td>\n",
       "      <td>...</td>\n",
       "      <td>0.00072</td>\n",
       "      <td>0.00072</td>\n",
       "      <td>26.4</td>\n",
       "      <td>0.00072</td>\n",
       "      <td>0.00072</td>\n",
       "      <td>26.4</td>\n",
       "      <td>0.00072</td>\n",
       "      <td>0.00072</td>\n",
       "      <td>2.400000e+12</td>\n",
       "      <td>2.799336</td>\n",
       "    </tr>\n",
       "    <tr>\n",
       "      <th>4</th>\n",
       "      <td>ID005</td>\n",
       "      <td>M</td>\n",
       "      <td>100.25</td>\n",
       "      <td>0.854</td>\n",
       "      <td>0.23</td>\n",
       "      <td>3.429</td>\n",
       "      <td>61.42</td>\n",
       "      <td>3.630</td>\n",
       "      <td>-1.89</td>\n",
       "      <td>1.02</td>\n",
       "      <td>...</td>\n",
       "      <td>0.00072</td>\n",
       "      <td>0.00072</td>\n",
       "      <td>26.4</td>\n",
       "      <td>0.00072</td>\n",
       "      <td>0.00072</td>\n",
       "      <td>26.4</td>\n",
       "      <td>0.00072</td>\n",
       "      <td>0.00072</td>\n",
       "      <td>2.400000e+12</td>\n",
       "      <td>2.692093</td>\n",
       "    </tr>\n",
       "  </tbody>\n",
       "</table>\n",
       "<p>5 rows × 8029 columns</p>\n",
       "</div>"
      ],
      "text/plain": [
       "      ID TOOL_ID   210X1  210X2  210X3  210X4  210X5  210X6  210X7  210X8  \\\n",
       "0  ID001       N  102.05  0.465   0.27  1.430  67.45  4.620  -0.54  -1.05   \n",
       "1  ID002       M  100.95  0.805   0.22  3.477  62.08  3.412  -2.12   1.02   \n",
       "2  ID003       L   98.56  0.555   0.24  1.172  56.70  3.080  -2.25   0.88   \n",
       "3  ID004       M  100.35  0.901   0.22  3.631  62.25  3.949  -1.98   0.82   \n",
       "4  ID005       M  100.25  0.854   0.23  3.429  61.42  3.630  -1.89   1.02   \n",
       "\n",
       "     ...     750X1444  750X1445  750X1446  750X1447  750X1448  750X1449  \\\n",
       "0    ...      0.00072   0.00072      25.7   0.00072   0.00072      25.7   \n",
       "1    ...      0.00072   0.00072      25.5   0.00072   0.00072      25.5   \n",
       "2    ...      0.00064   0.00064      25.2   0.00064   0.00064      25.2   \n",
       "3    ...      0.00072   0.00072      26.4   0.00072   0.00072      26.4   \n",
       "4    ...      0.00072   0.00072      26.4   0.00072   0.00072      26.4   \n",
       "\n",
       "   750X1450  750X1451      750X1452         Y  \n",
       "0   0.00072   0.00072  2.400000e+12  2.945079  \n",
       "1   0.00072   0.00072  2.400000e+12  2.955092  \n",
       "2   0.00064   0.00064  2.400000e+12  2.741264  \n",
       "3   0.00072   0.00072  2.400000e+12  2.799336  \n",
       "4   0.00072   0.00072  2.400000e+12  2.692093  \n",
       "\n",
       "[5 rows x 8029 columns]"
      ]
     },
     "execution_count": 5,
     "metadata": {},
     "output_type": "execute_result"
    }
   ],
   "source": [
    "train.head()"
   ]
  },
  {
   "cell_type": "code",
   "execution_count": 100,
   "metadata": {},
   "outputs": [
    {
     "data": {
      "text/plain": [
       "str"
      ]
     },
     "execution_count": 100,
     "metadata": {},
     "output_type": "execute_result"
    }
   ],
   "source": [
    "type(train.TOOL_ID[0])"
   ]
  },
  {
   "cell_type": "code",
   "execution_count": 13,
   "metadata": {},
   "outputs": [],
   "source": [
    "testa = pd.read_excel(\"./tesa.xlsx\")\n",
    "testb = pd.read_excel(\"./testb.xlsx\")"
   ]
  },
  {
   "cell_type": "code",
   "execution_count": 14,
   "metadata": {},
   "outputs": [
    {
     "data": {
      "text/html": [
       "<div>\n",
       "<style scoped>\n",
       "    .dataframe tbody tr th:only-of-type {\n",
       "        vertical-align: middle;\n",
       "    }\n",
       "\n",
       "    .dataframe tbody tr th {\n",
       "        vertical-align: top;\n",
       "    }\n",
       "\n",
       "    .dataframe thead th {\n",
       "        text-align: right;\n",
       "    }\n",
       "</style>\n",
       "<table border=\"1\" class=\"dataframe\">\n",
       "  <thead>\n",
       "    <tr style=\"text-align: right;\">\n",
       "      <th></th>\n",
       "      <th>ID</th>\n",
       "      <th>TOOL_ID</th>\n",
       "      <th>210X1</th>\n",
       "      <th>210X2</th>\n",
       "      <th>210X3</th>\n",
       "      <th>210X4</th>\n",
       "      <th>210X5</th>\n",
       "      <th>210X6</th>\n",
       "      <th>210X7</th>\n",
       "      <th>210X8</th>\n",
       "      <th>...</th>\n",
       "      <th>750X1443</th>\n",
       "      <th>750X1444</th>\n",
       "      <th>750X1445</th>\n",
       "      <th>750X1446</th>\n",
       "      <th>750X1447</th>\n",
       "      <th>750X1448</th>\n",
       "      <th>750X1449</th>\n",
       "      <th>750X1450</th>\n",
       "      <th>750X1451</th>\n",
       "      <th>750X1452</th>\n",
       "    </tr>\n",
       "  </thead>\n",
       "  <tbody>\n",
       "    <tr>\n",
       "      <th>0</th>\n",
       "      <td>ID716</td>\n",
       "      <td>J</td>\n",
       "      <td>100.85</td>\n",
       "      <td>0.423</td>\n",
       "      <td>0.41</td>\n",
       "      <td>0.624</td>\n",
       "      <td>35.50</td>\n",
       "      <td>1.795</td>\n",
       "      <td>0.08</td>\n",
       "      <td>-0.18</td>\n",
       "      <td>...</td>\n",
       "      <td>0.00074</td>\n",
       "      <td>0.00074</td>\n",
       "      <td>0.00074</td>\n",
       "      <td>26.3</td>\n",
       "      <td>0.00074</td>\n",
       "      <td>0.00074</td>\n",
       "      <td>26.3</td>\n",
       "      <td>0.00074</td>\n",
       "      <td>0.00074</td>\n",
       "      <td>2.400000e+12</td>\n",
       "    </tr>\n",
       "    <tr>\n",
       "      <th>1</th>\n",
       "      <td>ID717</td>\n",
       "      <td>J</td>\n",
       "      <td>100.80</td>\n",
       "      <td>0.322</td>\n",
       "      <td>0.41</td>\n",
       "      <td>0.544</td>\n",
       "      <td>70.98</td>\n",
       "      <td>3.580</td>\n",
       "      <td>0.11</td>\n",
       "      <td>-0.32</td>\n",
       "      <td>...</td>\n",
       "      <td>0.00066</td>\n",
       "      <td>0.00066</td>\n",
       "      <td>0.00066</td>\n",
       "      <td>26.3</td>\n",
       "      <td>0.00066</td>\n",
       "      <td>0.00066</td>\n",
       "      <td>26.3</td>\n",
       "      <td>0.00066</td>\n",
       "      <td>0.00066</td>\n",
       "      <td>2.400000e+12</td>\n",
       "    </tr>\n",
       "    <tr>\n",
       "      <th>2</th>\n",
       "      <td>ID719</td>\n",
       "      <td>O</td>\n",
       "      <td>100.75</td>\n",
       "      <td>0.526</td>\n",
       "      <td>0.14</td>\n",
       "      <td>1.081</td>\n",
       "      <td>57.84</td>\n",
       "      <td>2.848</td>\n",
       "      <td>-0.75</td>\n",
       "      <td>1.10</td>\n",
       "      <td>...</td>\n",
       "      <td>0.00077</td>\n",
       "      <td>0.00077</td>\n",
       "      <td>0.00077</td>\n",
       "      <td>25.9</td>\n",
       "      <td>0.00077</td>\n",
       "      <td>0.00077</td>\n",
       "      <td>25.9</td>\n",
       "      <td>0.00077</td>\n",
       "      <td>0.00077</td>\n",
       "      <td>2.400000e+12</td>\n",
       "    </tr>\n",
       "    <tr>\n",
       "      <th>3</th>\n",
       "      <td>ID720</td>\n",
       "      <td>O</td>\n",
       "      <td>100.70</td>\n",
       "      <td>0.541</td>\n",
       "      <td>0.14</td>\n",
       "      <td>1.119</td>\n",
       "      <td>58.01</td>\n",
       "      <td>2.909</td>\n",
       "      <td>-0.98</td>\n",
       "      <td>1.05</td>\n",
       "      <td>...</td>\n",
       "      <td>0.00074</td>\n",
       "      <td>0.00074</td>\n",
       "      <td>0.00074</td>\n",
       "      <td>25.1</td>\n",
       "      <td>0.00074</td>\n",
       "      <td>0.00074</td>\n",
       "      <td>25.1</td>\n",
       "      <td>0.00074</td>\n",
       "      <td>0.00074</td>\n",
       "      <td>2.400000e+12</td>\n",
       "    </tr>\n",
       "    <tr>\n",
       "      <th>4</th>\n",
       "      <td>ID721</td>\n",
       "      <td>O</td>\n",
       "      <td>100.70</td>\n",
       "      <td>0.503</td>\n",
       "      <td>0.13</td>\n",
       "      <td>0.944</td>\n",
       "      <td>57.67</td>\n",
       "      <td>2.888</td>\n",
       "      <td>-0.48</td>\n",
       "      <td>1.08</td>\n",
       "      <td>...</td>\n",
       "      <td>NaN</td>\n",
       "      <td>NaN</td>\n",
       "      <td>NaN</td>\n",
       "      <td>NaN</td>\n",
       "      <td>NaN</td>\n",
       "      <td>NaN</td>\n",
       "      <td>NaN</td>\n",
       "      <td>NaN</td>\n",
       "      <td>NaN</td>\n",
       "      <td>NaN</td>\n",
       "    </tr>\n",
       "  </tbody>\n",
       "</table>\n",
       "<p>5 rows × 8028 columns</p>\n",
       "</div>"
      ],
      "text/plain": [
       "      ID TOOL_ID   210X1  210X2  210X3  210X4  210X5  210X6  210X7  210X8  \\\n",
       "0  ID716       J  100.85  0.423   0.41  0.624  35.50  1.795   0.08  -0.18   \n",
       "1  ID717       J  100.80  0.322   0.41  0.544  70.98  3.580   0.11  -0.32   \n",
       "2  ID719       O  100.75  0.526   0.14  1.081  57.84  2.848  -0.75   1.10   \n",
       "3  ID720       O  100.70  0.541   0.14  1.119  58.01  2.909  -0.98   1.05   \n",
       "4  ID721       O  100.70  0.503   0.13  0.944  57.67  2.888  -0.48   1.08   \n",
       "\n",
       "       ...       750X1443  750X1444  750X1445  750X1446  750X1447  750X1448  \\\n",
       "0      ...        0.00074   0.00074   0.00074      26.3   0.00074   0.00074   \n",
       "1      ...        0.00066   0.00066   0.00066      26.3   0.00066   0.00066   \n",
       "2      ...        0.00077   0.00077   0.00077      25.9   0.00077   0.00077   \n",
       "3      ...        0.00074   0.00074   0.00074      25.1   0.00074   0.00074   \n",
       "4      ...            NaN       NaN       NaN       NaN       NaN       NaN   \n",
       "\n",
       "   750X1449  750X1450  750X1451      750X1452  \n",
       "0      26.3   0.00074   0.00074  2.400000e+12  \n",
       "1      26.3   0.00066   0.00066  2.400000e+12  \n",
       "2      25.9   0.00077   0.00077  2.400000e+12  \n",
       "3      25.1   0.00074   0.00074  2.400000e+12  \n",
       "4       NaN       NaN       NaN           NaN  \n",
       "\n",
       "[5 rows x 8028 columns]"
      ]
     },
     "execution_count": 14,
     "metadata": {},
     "output_type": "execute_result"
    }
   ],
   "source": [
    "testa.head()"
   ]
  },
  {
   "cell_type": "code",
   "execution_count": 15,
   "metadata": {},
   "outputs": [
    {
     "data": {
      "text/html": [
       "<div>\n",
       "<style scoped>\n",
       "    .dataframe tbody tr th:only-of-type {\n",
       "        vertical-align: middle;\n",
       "    }\n",
       "\n",
       "    .dataframe tbody tr th {\n",
       "        vertical-align: top;\n",
       "    }\n",
       "\n",
       "    .dataframe thead th {\n",
       "        text-align: right;\n",
       "    }\n",
       "</style>\n",
       "<table border=\"1\" class=\"dataframe\">\n",
       "  <thead>\n",
       "    <tr style=\"text-align: right;\">\n",
       "      <th></th>\n",
       "      <th>ID</th>\n",
       "      <th>TOOL_ID</th>\n",
       "      <th>210X1</th>\n",
       "      <th>210X2</th>\n",
       "      <th>210X3</th>\n",
       "      <th>210X4</th>\n",
       "      <th>210X5</th>\n",
       "      <th>210X6</th>\n",
       "      <th>210X7</th>\n",
       "      <th>210X8</th>\n",
       "      <th>...</th>\n",
       "      <th>750X1443</th>\n",
       "      <th>750X1444</th>\n",
       "      <th>750X1445</th>\n",
       "      <th>750X1446</th>\n",
       "      <th>750X1447</th>\n",
       "      <th>750X1448</th>\n",
       "      <th>750X1449</th>\n",
       "      <th>750X1450</th>\n",
       "      <th>750X1451</th>\n",
       "      <th>750X1452</th>\n",
       "    </tr>\n",
       "  </thead>\n",
       "  <tbody>\n",
       "    <tr>\n",
       "      <th>0</th>\n",
       "      <td>ID856</td>\n",
       "      <td>N</td>\n",
       "      <td>102.20</td>\n",
       "      <td>0.449</td>\n",
       "      <td>0.26</td>\n",
       "      <td>1.395</td>\n",
       "      <td>60.92</td>\n",
       "      <td>3.119</td>\n",
       "      <td>-0.27</td>\n",
       "      <td>-0.73</td>\n",
       "      <td>...</td>\n",
       "      <td>0.00072</td>\n",
       "      <td>0.00072</td>\n",
       "      <td>0.00072</td>\n",
       "      <td>26.6</td>\n",
       "      <td>0.00072</td>\n",
       "      <td>0.00072</td>\n",
       "      <td>26.6</td>\n",
       "      <td>0.00072</td>\n",
       "      <td>0.00072</td>\n",
       "      <td>2.400000e+12</td>\n",
       "    </tr>\n",
       "    <tr>\n",
       "      <th>1</th>\n",
       "      <td>ID857</td>\n",
       "      <td>O</td>\n",
       "      <td>99.86</td>\n",
       "      <td>0.607</td>\n",
       "      <td>0.14</td>\n",
       "      <td>1.371</td>\n",
       "      <td>57.84</td>\n",
       "      <td>2.854</td>\n",
       "      <td>-0.78</td>\n",
       "      <td>1.31</td>\n",
       "      <td>...</td>\n",
       "      <td>0.00068</td>\n",
       "      <td>0.00068</td>\n",
       "      <td>0.00068</td>\n",
       "      <td>26.3</td>\n",
       "      <td>0.00068</td>\n",
       "      <td>0.00068</td>\n",
       "      <td>26.3</td>\n",
       "      <td>0.00068</td>\n",
       "      <td>0.00068</td>\n",
       "      <td>2.400000e+12</td>\n",
       "    </tr>\n",
       "    <tr>\n",
       "      <th>2</th>\n",
       "      <td>ID858</td>\n",
       "      <td>O</td>\n",
       "      <td>100.25</td>\n",
       "      <td>0.560</td>\n",
       "      <td>0.14</td>\n",
       "      <td>1.005</td>\n",
       "      <td>57.78</td>\n",
       "      <td>2.762</td>\n",
       "      <td>0.12</td>\n",
       "      <td>0.29</td>\n",
       "      <td>...</td>\n",
       "      <td>0.00069</td>\n",
       "      <td>0.00069</td>\n",
       "      <td>0.00069</td>\n",
       "      <td>25.5</td>\n",
       "      <td>0.00069</td>\n",
       "      <td>0.00069</td>\n",
       "      <td>25.5</td>\n",
       "      <td>0.00069</td>\n",
       "      <td>0.00069</td>\n",
       "      <td>2.400000e+12</td>\n",
       "    </tr>\n",
       "    <tr>\n",
       "      <th>3</th>\n",
       "      <td>ID859</td>\n",
       "      <td>M</td>\n",
       "      <td>101.30</td>\n",
       "      <td>0.854</td>\n",
       "      <td>0.21</td>\n",
       "      <td>3.450</td>\n",
       "      <td>63.20</td>\n",
       "      <td>3.253</td>\n",
       "      <td>-2.00</td>\n",
       "      <td>0.73</td>\n",
       "      <td>...</td>\n",
       "      <td>0.00070</td>\n",
       "      <td>0.00070</td>\n",
       "      <td>0.00070</td>\n",
       "      <td>25.7</td>\n",
       "      <td>0.00070</td>\n",
       "      <td>0.00070</td>\n",
       "      <td>25.7</td>\n",
       "      <td>0.00070</td>\n",
       "      <td>0.00070</td>\n",
       "      <td>2.400000e+12</td>\n",
       "    </tr>\n",
       "    <tr>\n",
       "      <th>4</th>\n",
       "      <td>ID860</td>\n",
       "      <td>N</td>\n",
       "      <td>102.15</td>\n",
       "      <td>0.453</td>\n",
       "      <td>0.26</td>\n",
       "      <td>1.332</td>\n",
       "      <td>60.92</td>\n",
       "      <td>3.060</td>\n",
       "      <td>-0.74</td>\n",
       "      <td>-0.64</td>\n",
       "      <td>...</td>\n",
       "      <td>0.00074</td>\n",
       "      <td>0.00074</td>\n",
       "      <td>0.00074</td>\n",
       "      <td>25.3</td>\n",
       "      <td>0.00074</td>\n",
       "      <td>0.00074</td>\n",
       "      <td>25.3</td>\n",
       "      <td>0.00074</td>\n",
       "      <td>0.00074</td>\n",
       "      <td>2.400000e+12</td>\n",
       "    </tr>\n",
       "  </tbody>\n",
       "</table>\n",
       "<p>5 rows × 8028 columns</p>\n",
       "</div>"
      ],
      "text/plain": [
       "      ID TOOL_ID   210X1  210X2  210X3  210X4  210X5  210X6  210X7  210X8  \\\n",
       "0  ID856       N  102.20  0.449   0.26  1.395  60.92  3.119  -0.27  -0.73   \n",
       "1  ID857       O   99.86  0.607   0.14  1.371  57.84  2.854  -0.78   1.31   \n",
       "2  ID858       O  100.25  0.560   0.14  1.005  57.78  2.762   0.12   0.29   \n",
       "3  ID859       M  101.30  0.854   0.21  3.450  63.20  3.253  -2.00   0.73   \n",
       "4  ID860       N  102.15  0.453   0.26  1.332  60.92  3.060  -0.74  -0.64   \n",
       "\n",
       "       ...       750X1443  750X1444  750X1445  750X1446  750X1447  750X1448  \\\n",
       "0      ...        0.00072   0.00072   0.00072      26.6   0.00072   0.00072   \n",
       "1      ...        0.00068   0.00068   0.00068      26.3   0.00068   0.00068   \n",
       "2      ...        0.00069   0.00069   0.00069      25.5   0.00069   0.00069   \n",
       "3      ...        0.00070   0.00070   0.00070      25.7   0.00070   0.00070   \n",
       "4      ...        0.00074   0.00074   0.00074      25.3   0.00074   0.00074   \n",
       "\n",
       "   750X1449  750X1450  750X1451      750X1452  \n",
       "0      26.6   0.00072   0.00072  2.400000e+12  \n",
       "1      26.3   0.00068   0.00068  2.400000e+12  \n",
       "2      25.5   0.00069   0.00069  2.400000e+12  \n",
       "3      25.7   0.00070   0.00070  2.400000e+12  \n",
       "4      25.3   0.00074   0.00074  2.400000e+12  \n",
       "\n",
       "[5 rows x 8028 columns]"
      ]
     },
     "execution_count": 15,
     "metadata": {},
     "output_type": "execute_result"
    }
   ],
   "source": [
    "testb.head()"
   ]
  },
  {
   "cell_type": "code",
   "execution_count": 16,
   "metadata": {},
   "outputs": [],
   "source": [
    "train_groupby = train.groupby('TOOL_ID')"
   ]
  },
  {
   "cell_type": "code",
   "execution_count": 22,
   "metadata": {},
   "outputs": [
    {
     "data": {
      "text/plain": [
       "TOOL_ID\n",
       "J     85\n",
       "K     39\n",
       "L    100\n",
       "M    114\n",
       "N     97\n",
       "O     65\n",
       "Name: Y, dtype: int64"
      ]
     },
     "execution_count": 22,
     "metadata": {},
     "output_type": "execute_result"
    }
   ],
   "source": [
    "train_groupby.Y.count()"
   ]
  },
  {
   "cell_type": "code",
   "execution_count": 108,
   "metadata": {},
   "outputs": [
    {
     "data": {
      "text/html": [
       "<div>\n",
       "<style scoped>\n",
       "    .dataframe tbody tr th:only-of-type {\n",
       "        vertical-align: middle;\n",
       "    }\n",
       "\n",
       "    .dataframe tbody tr th {\n",
       "        vertical-align: top;\n",
       "    }\n",
       "\n",
       "    .dataframe thead th {\n",
       "        text-align: right;\n",
       "    }\n",
       "</style>\n",
       "<table border=\"1\" class=\"dataframe\">\n",
       "  <thead>\n",
       "    <tr style=\"text-align: right;\">\n",
       "      <th></th>\n",
       "      <th>ID</th>\n",
       "      <th>TOOL_ID</th>\n",
       "      <th>210X1</th>\n",
       "      <th>210X2</th>\n",
       "      <th>210X3</th>\n",
       "      <th>210X4</th>\n",
       "      <th>210X5</th>\n",
       "      <th>210X6</th>\n",
       "      <th>210X7</th>\n",
       "      <th>210X8</th>\n",
       "      <th>...</th>\n",
       "      <th>750X1444</th>\n",
       "      <th>750X1445</th>\n",
       "      <th>750X1446</th>\n",
       "      <th>750X1447</th>\n",
       "      <th>750X1448</th>\n",
       "      <th>750X1449</th>\n",
       "      <th>750X1450</th>\n",
       "      <th>750X1451</th>\n",
       "      <th>750X1452</th>\n",
       "      <th>Y</th>\n",
       "    </tr>\n",
       "  </thead>\n",
       "  <tbody>\n",
       "    <tr>\n",
       "      <th>0</th>\n",
       "      <td>ID001</td>\n",
       "      <td>N</td>\n",
       "      <td>102.05</td>\n",
       "      <td>0.465</td>\n",
       "      <td>0.27</td>\n",
       "      <td>1.430</td>\n",
       "      <td>67.45</td>\n",
       "      <td>4.620</td>\n",
       "      <td>-0.54</td>\n",
       "      <td>-1.05</td>\n",
       "      <td>...</td>\n",
       "      <td>0.00072</td>\n",
       "      <td>0.00072</td>\n",
       "      <td>25.7</td>\n",
       "      <td>0.00072</td>\n",
       "      <td>0.00072</td>\n",
       "      <td>25.7</td>\n",
       "      <td>0.00072</td>\n",
       "      <td>0.00072</td>\n",
       "      <td>2.400000e+12</td>\n",
       "      <td>2.945079</td>\n",
       "    </tr>\n",
       "    <tr>\n",
       "      <th>1</th>\n",
       "      <td>ID002</td>\n",
       "      <td>M</td>\n",
       "      <td>100.95</td>\n",
       "      <td>0.805</td>\n",
       "      <td>0.22</td>\n",
       "      <td>3.477</td>\n",
       "      <td>62.08</td>\n",
       "      <td>3.412</td>\n",
       "      <td>-2.12</td>\n",
       "      <td>1.02</td>\n",
       "      <td>...</td>\n",
       "      <td>0.00072</td>\n",
       "      <td>0.00072</td>\n",
       "      <td>25.5</td>\n",
       "      <td>0.00072</td>\n",
       "      <td>0.00072</td>\n",
       "      <td>25.5</td>\n",
       "      <td>0.00072</td>\n",
       "      <td>0.00072</td>\n",
       "      <td>2.400000e+12</td>\n",
       "      <td>2.955092</td>\n",
       "    </tr>\n",
       "    <tr>\n",
       "      <th>2</th>\n",
       "      <td>ID003</td>\n",
       "      <td>L</td>\n",
       "      <td>98.56</td>\n",
       "      <td>0.555</td>\n",
       "      <td>0.24</td>\n",
       "      <td>1.172</td>\n",
       "      <td>56.70</td>\n",
       "      <td>3.080</td>\n",
       "      <td>-2.25</td>\n",
       "      <td>0.88</td>\n",
       "      <td>...</td>\n",
       "      <td>0.00064</td>\n",
       "      <td>0.00064</td>\n",
       "      <td>25.2</td>\n",
       "      <td>0.00064</td>\n",
       "      <td>0.00064</td>\n",
       "      <td>25.2</td>\n",
       "      <td>0.00064</td>\n",
       "      <td>0.00064</td>\n",
       "      <td>2.400000e+12</td>\n",
       "      <td>2.741264</td>\n",
       "    </tr>\n",
       "    <tr>\n",
       "      <th>3</th>\n",
       "      <td>ID004</td>\n",
       "      <td>M</td>\n",
       "      <td>100.35</td>\n",
       "      <td>0.901</td>\n",
       "      <td>0.22</td>\n",
       "      <td>3.631</td>\n",
       "      <td>62.25</td>\n",
       "      <td>3.949</td>\n",
       "      <td>-1.98</td>\n",
       "      <td>0.82</td>\n",
       "      <td>...</td>\n",
       "      <td>0.00072</td>\n",
       "      <td>0.00072</td>\n",
       "      <td>26.4</td>\n",
       "      <td>0.00072</td>\n",
       "      <td>0.00072</td>\n",
       "      <td>26.4</td>\n",
       "      <td>0.00072</td>\n",
       "      <td>0.00072</td>\n",
       "      <td>2.400000e+12</td>\n",
       "      <td>2.799336</td>\n",
       "    </tr>\n",
       "    <tr>\n",
       "      <th>4</th>\n",
       "      <td>ID005</td>\n",
       "      <td>M</td>\n",
       "      <td>100.25</td>\n",
       "      <td>0.854</td>\n",
       "      <td>0.23</td>\n",
       "      <td>3.429</td>\n",
       "      <td>61.42</td>\n",
       "      <td>3.630</td>\n",
       "      <td>-1.89</td>\n",
       "      <td>1.02</td>\n",
       "      <td>...</td>\n",
       "      <td>0.00072</td>\n",
       "      <td>0.00072</td>\n",
       "      <td>26.4</td>\n",
       "      <td>0.00072</td>\n",
       "      <td>0.00072</td>\n",
       "      <td>26.4</td>\n",
       "      <td>0.00072</td>\n",
       "      <td>0.00072</td>\n",
       "      <td>2.400000e+12</td>\n",
       "      <td>2.692093</td>\n",
       "    </tr>\n",
       "  </tbody>\n",
       "</table>\n",
       "<p>5 rows × 8029 columns</p>\n",
       "</div>"
      ],
      "text/plain": [
       "      ID TOOL_ID   210X1  210X2  210X3  210X4  210X5  210X6  210X7  210X8  \\\n",
       "0  ID001       N  102.05  0.465   0.27  1.430  67.45  4.620  -0.54  -1.05   \n",
       "1  ID002       M  100.95  0.805   0.22  3.477  62.08  3.412  -2.12   1.02   \n",
       "2  ID003       L   98.56  0.555   0.24  1.172  56.70  3.080  -2.25   0.88   \n",
       "3  ID004       M  100.35  0.901   0.22  3.631  62.25  3.949  -1.98   0.82   \n",
       "4  ID005       M  100.25  0.854   0.23  3.429  61.42  3.630  -1.89   1.02   \n",
       "\n",
       "     ...     750X1444  750X1445  750X1446  750X1447  750X1448  750X1449  \\\n",
       "0    ...      0.00072   0.00072      25.7   0.00072   0.00072      25.7   \n",
       "1    ...      0.00072   0.00072      25.5   0.00072   0.00072      25.5   \n",
       "2    ...      0.00064   0.00064      25.2   0.00064   0.00064      25.2   \n",
       "3    ...      0.00072   0.00072      26.4   0.00072   0.00072      26.4   \n",
       "4    ...      0.00072   0.00072      26.4   0.00072   0.00072      26.4   \n",
       "\n",
       "   750X1450  750X1451      750X1452         Y  \n",
       "0   0.00072   0.00072  2.400000e+12  2.945079  \n",
       "1   0.00072   0.00072  2.400000e+12  2.955092  \n",
       "2   0.00064   0.00064  2.400000e+12  2.741264  \n",
       "3   0.00072   0.00072  2.400000e+12  2.799336  \n",
       "4   0.00072   0.00072  2.400000e+12  2.692093  \n",
       "\n",
       "[5 rows x 8029 columns]"
      ]
     },
     "execution_count": 108,
     "metadata": {},
     "output_type": "execute_result"
    }
   ],
   "source": [
    "train.head()"
   ]
  },
  {
   "cell_type": "code",
   "execution_count": 109,
   "metadata": {},
   "outputs": [],
   "source": [
    "X = train_M.iloc[:,1:-1].values"
   ]
  },
  {
   "cell_type": "code",
   "execution_count": 75,
   "metadata": {},
   "outputs": [
    {
     "name": "stdout",
     "output_type": "stream",
     "text": [
      "<class 'pandas.core.frame.DataFrame'>\n",
      "Int64Index: 114 entries, 1 to 495\n",
      "Columns: 8026 entries, 210X1 to 750X1452\n",
      "dtypes: float64(6278), int64(1739), object(9)\n",
      "memory usage: 7.0+ MB\n"
     ]
    }
   ],
   "source": [
    "ss = train_M.iloc[:,2:-1]"
   ]
  },
  {
   "cell_type": "code",
   "execution_count": 117,
   "metadata": {},
   "outputs": [],
   "source": [
    "colums = ss.iloc[0,:].index"
   ]
  },
  {
   "cell_type": "code",
   "execution_count": 118,
   "metadata": {},
   "outputs": [
    {
     "data": {
      "text/plain": [
       "Index(['210X1', '210X2', '210X3', '210X4', '210X5', '210X6', '210X7', '210X8',\n",
       "       '210X9', '210X10',\n",
       "       ...\n",
       "       '750X1443', '750X1444', '750X1445', '750X1446', '750X1447', '750X1448',\n",
       "       '750X1449', '750X1450', '750X1451', '750X1452'],\n",
       "      dtype='object', length=8026)"
      ]
     },
     "execution_count": 118,
     "metadata": {},
     "output_type": "execute_result"
    }
   ],
   "source": [
    "colums"
   ]
  },
  {
   "cell_type": "code",
   "execution_count": 115,
   "metadata": {},
   "outputs": [],
   "source": [
    "first_index= ss.iloc[0]"
   ]
  },
  {
   "cell_type": "code",
   "execution_count": 116,
   "metadata": {},
   "outputs": [
    {
     "data": {
      "text/plain": [
       "8026"
      ]
     },
     "execution_count": 116,
     "metadata": {},
     "output_type": "execute_result"
    }
   ],
   "source": [
    "len(first_index)"
   ]
  },
  {
   "cell_type": "code",
   "execution_count": 152,
   "metadata": {},
   "outputs": [],
   "source": [
    "def isPrefix2017(num):\n",
    "    str_num = str(num)\n",
    "    return str_num.startswith('2017')"
   ]
  },
  {
   "cell_type": "code",
   "execution_count": 154,
   "metadata": {},
   "outputs": [
    {
     "data": {
      "text/plain": [
       "True"
      ]
     },
     "execution_count": 154,
     "metadata": {},
     "output_type": "execute_result"
    }
   ],
   "source": [
    "isPrefix2017(201702)"
   ]
  },
  {
   "cell_type": "code",
   "execution_count": 156,
   "metadata": {},
   "outputs": [],
   "source": [
    "date_colums = []\n",
    "non_date_colums = []\n",
    "for index in range(len(first_index)):\n",
    "    if type(first_index[index]) == np.int64 and isPrefix2017(first_index[index]):\n",
    "        date_colums.append(colums[index])"
   ]
  },
  {
   "cell_type": "code",
   "execution_count": 161,
   "metadata": {},
   "outputs": [
    {
     "data": {
      "text/plain": [
       "78"
      ]
     },
     "execution_count": 161,
     "metadata": {},
     "output_type": "execute_result"
    }
   ],
   "source": [
    "len(date_colums)"
   ]
  },
  {
   "cell_type": "code",
   "execution_count": null,
   "metadata": {},
   "outputs": [],
   "source": []
  },
  {
   "cell_type": "code",
   "execution_count": 126,
   "metadata": {},
   "outputs": [],
   "source": [
    "str_colums = []\n",
    "for index in range(len(first_index)):\n",
    "    if type(first_index[index]) == np.str:\n",
    "        str_colums.append(colums[index])"
   ]
  },
  {
   "cell_type": "code",
   "execution_count": 127,
   "metadata": {},
   "outputs": [],
   "source": [
    "tool_train = train.loc[:,str_colums]"
   ]
  },
  {
   "cell_type": "code",
   "execution_count": 162,
   "metadata": {},
   "outputs": [
    {
     "data": {
      "text/plain": [
       "(500, 9)"
      ]
     },
     "execution_count": 162,
     "metadata": {},
     "output_type": "execute_result"
    }
   ],
   "source": [
    "tool_train.shape"
   ]
  },
  {
   "cell_type": "code",
   "execution_count": 129,
   "metadata": {},
   "outputs": [],
   "source": [
    "tool_dummies = pd.get_dummies(tool_train)"
   ]
  },
  {
   "cell_type": "code",
   "execution_count": 130,
   "metadata": {},
   "outputs": [
    {
     "data": {
      "text/plain": [
       "(500, 28)"
      ]
     },
     "execution_count": 130,
     "metadata": {},
     "output_type": "execute_result"
    }
   ],
   "source": [
    "tool_dummies.shape"
   ]
  },
  {
   "cell_type": "code",
   "execution_count": 46,
   "metadata": {},
   "outputs": [],
   "source": [
    "Y = train_M['Y'].values"
   ]
  },
  {
   "cell_type": "code",
   "execution_count": 50,
   "metadata": {},
   "outputs": [],
   "source": [
    "import lightgbm as lgm"
   ]
  },
  {
   "cell_type": "code",
   "execution_count": 65,
   "metadata": {},
   "outputs": [],
   "source": [
    "gbm = lgm.LGBMRegressor(objective='regression',\n",
    "                         boosting_type= 'gbdt',\n",
    "                         metric = 'l2',\n",
    "                         is_enable_sparse = True,\n",
    "                         max_depth = 40,\n",
    "                         min_sum_hessian_in_leaf = 5.0,\n",
    "                         tree_learner = 'serial',\n",
    "                         num_trees = 100,\n",
    "                         feature_fraction = 0.9,\n",
    "                         bagging_freq = 5,\n",
    "                         bagging_fraction = 0.8,\n",
    "                         min_data_in_leaf = 100,\n",
    "                         learning_rate = 0.05,\n",
    "                         n_estimators = 20,\n",
    "                         num_round=50000,\n",
    "                         metric_freq = 1)"
   ]
  },
  {
   "cell_type": "code",
   "execution_count": 66,
   "metadata": {},
   "outputs": [],
   "source": [
    "from sklearn.cross_validation import train_test_split"
   ]
  },
  {
   "cell_type": "code",
   "execution_count": 67,
   "metadata": {},
   "outputs": [],
   "source": [
    "X_train, X_valid,y_train,y_valid = train_test_split(X, Y, test_size=0.25, random_state=33)"
   ]
  },
  {
   "cell_type": "code",
   "execution_count": 74,
   "metadata": {},
   "outputs": [
    {
     "data": {
      "text/plain": [
       "numpy.ndarray"
      ]
     },
     "execution_count": 74,
     "metadata": {},
     "output_type": "execute_result"
    }
   ],
   "source": [
    "X_train[0]"
   ]
  },
  {
   "cell_type": "code",
   "execution_count": 69,
   "metadata": {},
   "outputs": [
    {
     "data": {
      "text/plain": [
       "array([[101.85, 0.796, 0.22, ..., 0.00064, 0.00064, 2400000000000.0],\n",
       "       [101.6, 0.793, 0.22, ..., 0.00069, 0.00069, 2400000000000.0],\n",
       "       [102.7, 0.896, 0.21, ..., 0.00069, 0.00069, 2400000000000.0],\n",
       "       ..., \n",
       "       [101.5, 0.858, 0.22, ..., 0.00074, 0.00074, 2400000000000.0],\n",
       "       [101.1, 0.891, 0.21, ..., 0.00068, 0.00068, 2400000000000.0],\n",
       "       [101.1, 0.945, 0.22, ..., 0.00075, 0.00075, 2400000000000.0]], dtype=object)"
      ]
     },
     "execution_count": 69,
     "metadata": {},
     "output_type": "execute_result"
    }
   ],
   "source": [
    "X_valid"
   ]
  },
  {
   "cell_type": "code",
   "execution_count": 70,
   "metadata": {},
   "outputs": [
    {
     "data": {
      "text/plain": [
       "array([ 2.62004086,  3.05495253,  2.85124237,  2.72697931,  2.98362788,\n",
       "        3.2708211 ,  2.45355685,  2.72026217,  2.81844708,  2.88301737,\n",
       "        2.78536975,  2.7589083 ,  2.70309432,  3.02032711,  2.93105822,\n",
       "        2.35037685,  2.66181297,  3.0988871 ,  2.75805412,  2.95509224,\n",
       "        2.66917259,  3.0492475 ,  2.75776853,  2.69862989,  2.73257705,\n",
       "        2.97773603,  2.71164686,  2.90202564,  2.63213432,  2.5345884 ,\n",
       "        2.65935457,  2.71693556,  2.66321223,  3.00740621,  2.61154294,\n",
       "        2.6425308 ,  2.90071699,  2.69677611,  2.48360245,  2.79933593,\n",
       "        2.70423598,  2.9644039 ,  2.53582268,  2.72278651,  3.27060308,\n",
       "        2.85452486,  2.88547954,  2.88104195,  3.17756222,  2.70003658,\n",
       "        2.62585305,  2.93741112,  2.93532712,  2.79496975,  2.88116379,\n",
       "        2.67171079,  2.85853727,  2.92682126,  2.89213313,  2.96203757,\n",
       "        2.73600324,  3.0565264 ,  2.8428908 ,  2.68982854,  2.82283487,\n",
       "        2.60668986,  2.81004539,  3.28589488,  2.82770239,  2.63153578,\n",
       "        2.91626645,  2.53075096,  2.91721153,  3.02821646,  3.04184895,\n",
       "        2.7255499 ,  2.76529035,  2.87893815,  3.00000428,  2.76726971,\n",
       "        2.94869968,  2.92891073,  3.11014266,  2.74118224,  2.99542992])"
      ]
     },
     "execution_count": 70,
     "metadata": {},
     "output_type": "execute_result"
    }
   ],
   "source": [
    "y_train"
   ]
  },
  {
   "cell_type": "code",
   "execution_count": 71,
   "metadata": {},
   "outputs": [
    {
     "data": {
      "text/plain": [
       "array([ 2.81433317,  3.2384019 ,  2.854757  ,  2.84644492,  2.8358432 ,\n",
       "        3.14829494,  3.32143301,  2.86129502,  2.74202356,  2.8383842 ,\n",
       "        2.79784378,  2.70521123,  2.71363321,  2.82015908,  2.88574334,\n",
       "        2.69209253,  2.90114606,  2.70075188,  3.12052475,  2.72318162,\n",
       "        2.55043747,  3.06191881,  2.6558822 ,  3.05155672,  2.77899365,\n",
       "        2.67440449,  2.86384273,  2.69404041,  3.09764909])"
      ]
     },
     "execution_count": 71,
     "metadata": {},
     "output_type": "execute_result"
    }
   ],
   "source": [
    "y_valid"
   ]
  },
  {
   "cell_type": "code",
   "execution_count": 72,
   "metadata": {},
   "outputs": [
    {
     "ename": "ValueError",
     "evalue": "could not convert string to float: 'A'",
     "traceback": [
      "\u001b[0;31m---------------------------------------------------------------------------\u001b[0m",
      "\u001b[0;31mValueError\u001b[0m                                Traceback (most recent call last)",
      "\u001b[0;32m<ipython-input-72-a25b6411c688>\u001b[0m in \u001b[0;36m<module>\u001b[0;34m()\u001b[0m\n\u001b[1;32m      2\u001b[0m         \u001b[0meval_set\u001b[0m\u001b[0;34m=\u001b[0m\u001b[0;34m[\u001b[0m\u001b[0;34m(\u001b[0m\u001b[0mX_valid\u001b[0m\u001b[0;34m,\u001b[0m \u001b[0my_valid\u001b[0m\u001b[0;34m)\u001b[0m\u001b[0;34m]\u001b[0m\u001b[0;34m,\u001b[0m\u001b[0;34m\u001b[0m\u001b[0m\n\u001b[1;32m      3\u001b[0m         \u001b[0meval_metric\u001b[0m\u001b[0;34m=\u001b[0m\u001b[0;34m'l2'\u001b[0m\u001b[0;34m,\u001b[0m\u001b[0;34m\u001b[0m\u001b[0m\n\u001b[0;32m----> 4\u001b[0;31m         early_stopping_rounds=200)\n\u001b[0m",
      "\u001b[0;32m/usr/local/lib/python3.5/dist-packages/lightgbm/sklearn.py\u001b[0m in \u001b[0;36mfit\u001b[0;34m(self, X, y, sample_weight, init_score, eval_set, eval_names, eval_sample_weight, eval_init_score, eval_metric, early_stopping_rounds, verbose, feature_name, categorical_feature, callbacks)\u001b[0m\n\u001b[1;32m    608\u001b[0m                                        \u001b[0mverbose\u001b[0m\u001b[0;34m=\u001b[0m\u001b[0mverbose\u001b[0m\u001b[0;34m,\u001b[0m \u001b[0mfeature_name\u001b[0m\u001b[0;34m=\u001b[0m\u001b[0mfeature_name\u001b[0m\u001b[0;34m,\u001b[0m\u001b[0;34m\u001b[0m\u001b[0m\n\u001b[1;32m    609\u001b[0m                                        \u001b[0mcategorical_feature\u001b[0m\u001b[0;34m=\u001b[0m\u001b[0mcategorical_feature\u001b[0m\u001b[0;34m,\u001b[0m\u001b[0;34m\u001b[0m\u001b[0m\n\u001b[0;32m--> 610\u001b[0;31m                                        callbacks=callbacks)\n\u001b[0m\u001b[1;32m    611\u001b[0m         \u001b[0;32mreturn\u001b[0m \u001b[0mself\u001b[0m\u001b[0;34m\u001b[0m\u001b[0m\n\u001b[1;32m    612\u001b[0m \u001b[0;34m\u001b[0m\u001b[0m\n",
      "\u001b[0;32m/usr/local/lib/python3.5/dist-packages/lightgbm/sklearn.py\u001b[0m in \u001b[0;36mfit\u001b[0;34m(self, X, y, sample_weight, init_score, group, eval_set, eval_names, eval_sample_weight, eval_init_score, eval_group, eval_metric, early_stopping_rounds, verbose, feature_name, categorical_feature, callbacks)\u001b[0m\n\u001b[1;32m    411\u001b[0m \u001b[0;34m\u001b[0m\u001b[0m\n\u001b[1;32m    412\u001b[0m         \u001b[0;32mif\u001b[0m \u001b[0;32mnot\u001b[0m \u001b[0m_IS_PANDAS_INSTALLED\u001b[0m \u001b[0;32mor\u001b[0m \u001b[0;32mnot\u001b[0m \u001b[0misinstance\u001b[0m\u001b[0;34m(\u001b[0m\u001b[0mX\u001b[0m\u001b[0;34m,\u001b[0m \u001b[0mpd\u001b[0m\u001b[0;34m.\u001b[0m\u001b[0mDataFrame\u001b[0m\u001b[0;34m)\u001b[0m\u001b[0;34m:\u001b[0m\u001b[0;34m\u001b[0m\u001b[0m\n\u001b[0;32m--> 413\u001b[0;31m             \u001b[0mX\u001b[0m\u001b[0;34m,\u001b[0m \u001b[0my\u001b[0m \u001b[0;34m=\u001b[0m \u001b[0m_LGBMCheckXY\u001b[0m\u001b[0;34m(\u001b[0m\u001b[0mX\u001b[0m\u001b[0;34m,\u001b[0m \u001b[0my\u001b[0m\u001b[0;34m,\u001b[0m \u001b[0maccept_sparse\u001b[0m\u001b[0;34m=\u001b[0m\u001b[0;32mTrue\u001b[0m\u001b[0;34m,\u001b[0m \u001b[0mforce_all_finite\u001b[0m\u001b[0;34m=\u001b[0m\u001b[0;32mFalse\u001b[0m\u001b[0;34m,\u001b[0m \u001b[0mensure_min_samples\u001b[0m\u001b[0;34m=\u001b[0m\u001b[0;36m2\u001b[0m\u001b[0;34m)\u001b[0m\u001b[0;34m\u001b[0m\u001b[0m\n\u001b[0m\u001b[1;32m    414\u001b[0m             \u001b[0m_LGBMCheckConsistentLength\u001b[0m\u001b[0;34m(\u001b[0m\u001b[0mX\u001b[0m\u001b[0;34m,\u001b[0m \u001b[0my\u001b[0m\u001b[0;34m,\u001b[0m \u001b[0msample_weight\u001b[0m\u001b[0;34m)\u001b[0m\u001b[0;34m\u001b[0m\u001b[0m\n\u001b[1;32m    415\u001b[0m \u001b[0;34m\u001b[0m\u001b[0m\n",
      "\u001b[0;32m/usr/local/lib/python3.5/dist-packages/sklearn/utils/validation.py\u001b[0m in \u001b[0;36mcheck_X_y\u001b[0;34m(X, y, accept_sparse, dtype, order, copy, force_all_finite, ensure_2d, allow_nd, multi_output, ensure_min_samples, ensure_min_features, y_numeric, warn_on_dtype, estimator)\u001b[0m\n\u001b[1;32m    571\u001b[0m     X = check_array(X, accept_sparse, dtype, order, copy, force_all_finite,\n\u001b[1;32m    572\u001b[0m                     \u001b[0mensure_2d\u001b[0m\u001b[0;34m,\u001b[0m \u001b[0mallow_nd\u001b[0m\u001b[0;34m,\u001b[0m \u001b[0mensure_min_samples\u001b[0m\u001b[0;34m,\u001b[0m\u001b[0;34m\u001b[0m\u001b[0m\n\u001b[0;32m--> 573\u001b[0;31m                     ensure_min_features, warn_on_dtype, estimator)\n\u001b[0m\u001b[1;32m    574\u001b[0m     \u001b[0;32mif\u001b[0m \u001b[0mmulti_output\u001b[0m\u001b[0;34m:\u001b[0m\u001b[0;34m\u001b[0m\u001b[0m\n\u001b[1;32m    575\u001b[0m         y = check_array(y, 'csr', force_all_finite=True, ensure_2d=False,\n",
      "\u001b[0;32m/usr/local/lib/python3.5/dist-packages/sklearn/utils/validation.py\u001b[0m in \u001b[0;36mcheck_array\u001b[0;34m(array, accept_sparse, dtype, order, copy, force_all_finite, ensure_2d, allow_nd, ensure_min_samples, ensure_min_features, warn_on_dtype, estimator)\u001b[0m\n\u001b[1;32m    431\u001b[0m                                       force_all_finite)\n\u001b[1;32m    432\u001b[0m     \u001b[0;32melse\u001b[0m\u001b[0;34m:\u001b[0m\u001b[0;34m\u001b[0m\u001b[0m\n\u001b[0;32m--> 433\u001b[0;31m         \u001b[0marray\u001b[0m \u001b[0;34m=\u001b[0m \u001b[0mnp\u001b[0m\u001b[0;34m.\u001b[0m\u001b[0marray\u001b[0m\u001b[0;34m(\u001b[0m\u001b[0marray\u001b[0m\u001b[0;34m,\u001b[0m \u001b[0mdtype\u001b[0m\u001b[0;34m=\u001b[0m\u001b[0mdtype\u001b[0m\u001b[0;34m,\u001b[0m \u001b[0morder\u001b[0m\u001b[0;34m=\u001b[0m\u001b[0morder\u001b[0m\u001b[0;34m,\u001b[0m \u001b[0mcopy\u001b[0m\u001b[0;34m=\u001b[0m\u001b[0mcopy\u001b[0m\u001b[0;34m)\u001b[0m\u001b[0;34m\u001b[0m\u001b[0m\n\u001b[0m\u001b[1;32m    434\u001b[0m \u001b[0;34m\u001b[0m\u001b[0m\n\u001b[1;32m    435\u001b[0m         \u001b[0;32mif\u001b[0m \u001b[0mensure_2d\u001b[0m\u001b[0;34m:\u001b[0m\u001b[0;34m\u001b[0m\u001b[0m\n",
      "\u001b[0;31mValueError\u001b[0m: could not convert string to float: 'A'"
     ],
     "output_type": "error"
    }
   ],
   "source": [
    "gbm.fit(X_train, y_train,\n",
    "        eval_set=[(X_valid, y_valid)],\n",
    "        eval_metric='l2',\n",
    "        early_stopping_rounds=200)"
   ]
  },
  {
   "cell_type": "code",
   "execution_count": 163,
   "metadata": {},
   "outputs": [],
   "source": [
    "a = {'a':[1,2,3],'b':[1,2,3],'c':[1,2,3], 'd':[1,2,3]}"
   ]
  },
  {
   "cell_type": "code",
   "execution_count": 164,
   "metadata": {},
   "outputs": [],
   "source": [
    "A = pd.DataFrame(a)"
   ]
  },
  {
   "cell_type": "code",
   "execution_count": 166,
   "metadata": {},
   "outputs": [],
   "source": [
    "b = {'b':[1,2,3],'d':[1,2,3]}"
   ]
  },
  {
   "cell_type": "code",
   "execution_count": 167,
   "metadata": {},
   "outputs": [],
   "source": [
    "B = pd.DataFrame(b)"
   ]
  },
  {
   "cell_type": "code",
   "execution_count": 186,
   "metadata": {},
   "outputs": [
    {
     "data": {
      "text/plain": [
       "array([ 0.,  0.,  0.])"
      ]
     },
     "execution_count": 186,
     "metadata": {},
     "output_type": "execute_result"
    }
   ],
   "source": [
    "np.zeros(len(B))"
   ]
  },
  {
   "cell_type": "code",
   "execution_count": 169,
   "metadata": {},
   "outputs": [
    {
     "data": {
      "text/plain": [
       "array(['a', 'b', 'c', 'd'], dtype=object)"
      ]
     },
     "execution_count": 169,
     "metadata": {},
     "output_type": "execute_result"
    }
   ],
   "source": [
    "A.columns.values"
   ]
  },
  {
   "cell_type": "code",
   "execution_count": 184,
   "metadata": {},
   "outputs": [
    {
     "data": {
      "text/plain": [
       "True"
      ]
     },
     "execution_count": 184,
     "metadata": {},
     "output_type": "execute_result"
    }
   ],
   "source": [
    "A.columns.values[1] == B.iloc[:,0].name"
   ]
  },
  {
   "cell_type": "code",
   "execution_count": 187,
   "metadata": {},
   "outputs": [
    {
     "name": "stdout",
     "output_type": "stream",
     "text": [
      "a\n",
      "b\n",
      "c\n",
      "d\n"
     ]
    }
   ],
   "source": [
    "for index in range(len(A.columns.values)):\n",
    "    column = A.columns.values[index]\n",
    "    print(column)\n",
    "    if column != B.iloc[:,index].name:\n",
    "        B.insert(index, column, np.zeros(len(B)))"
   ]
  },
  {
   "cell_type": "code",
   "execution_count": 188,
   "metadata": {},
   "outputs": [
    {
     "data": {
      "text/html": [
       "<div>\n",
       "<style scoped>\n",
       "    .dataframe tbody tr th:only-of-type {\n",
       "        vertical-align: middle;\n",
       "    }\n",
       "\n",
       "    .dataframe tbody tr th {\n",
       "        vertical-align: top;\n",
       "    }\n",
       "\n",
       "    .dataframe thead th {\n",
       "        text-align: right;\n",
       "    }\n",
       "</style>\n",
       "<table border=\"1\" class=\"dataframe\">\n",
       "  <thead>\n",
       "    <tr style=\"text-align: right;\">\n",
       "      <th></th>\n",
       "      <th>a</th>\n",
       "      <th>b</th>\n",
       "      <th>c</th>\n",
       "      <th>d</th>\n",
       "    </tr>\n",
       "  </thead>\n",
       "  <tbody>\n",
       "    <tr>\n",
       "      <th>0</th>\n",
       "      <td>0.0</td>\n",
       "      <td>1</td>\n",
       "      <td>0.0</td>\n",
       "      <td>1</td>\n",
       "    </tr>\n",
       "    <tr>\n",
       "      <th>1</th>\n",
       "      <td>0.0</td>\n",
       "      <td>2</td>\n",
       "      <td>0.0</td>\n",
       "      <td>2</td>\n",
       "    </tr>\n",
       "    <tr>\n",
       "      <th>2</th>\n",
       "      <td>0.0</td>\n",
       "      <td>3</td>\n",
       "      <td>0.0</td>\n",
       "      <td>3</td>\n",
       "    </tr>\n",
       "  </tbody>\n",
       "</table>\n",
       "</div>"
      ],
      "text/plain": [
       "     a  b    c  d\n",
       "0  0.0  1  0.0  1\n",
       "1  0.0  2  0.0  2\n",
       "2  0.0  3  0.0  3"
      ]
     },
     "execution_count": 188,
     "metadata": {},
     "output_type": "execute_result"
    }
   ],
   "source": [
    "B"
   ]
  },
  {
   "cell_type": "code",
   "execution_count": 193,
   "metadata": {},
   "outputs": [
    {
     "data": {
      "image/png": "[encoded data removed]",
      "text/plain": [
       "<matplotlib.figure.Figure at 0x7fa8e08b3b70>"
      ]
     },
     "metadata": {},
     "output_type": "display_data"
    }
   ],
   "source": [
    "import numpy as np\n",
    "from sklearn.svm import SVR\n",
    "import matplotlib.pyplot as plt\n",
    "%matplotlib inline\n",
    "\n",
    "# #############################################################################\n",
    "# Generate sample data\n",
    "X = np.sort(5 * np.random.rand(40, 1), axis=0)\n",
    "y = np.sin(X).ravel()\n",
    "\n",
    "# #############################################################################\n",
    "# Add noise to targets\n",
    "y[::5] += 3 * (0.5 - np.random.rand(8))\n",
    "\n",
    "# #############################################################################\n",
    "# Fit regression model\n",
    "svr_rbf = SVR(kernel='rbf', C=1e3, gamma=0.1)\n",
    "svr_lin = SVR(kernel='linear', C=1e3)\n",
    "svr_poly = SVR(kernel='poly', C=1e3, degree=2)\n",
    "y_rbf = svr_rbf.fit(X, y).predict(X)\n",
    "y_lin = svr_lin.fit(X, y).predict(X)\n",
    "y_poly = svr_poly.fit(X, y).predict(X)\n",
    "\n",
    "# #############################################################################\n",
    "# Look at the results\n",
    "lw = 2\n",
    "plt.scatter(X, y, color='darkorange', label='data')\n",
    "plt.plot(X, y_rbf, color='navy', lw=lw, label='RBF model')\n",
    "plt.plot(X, y_lin, color='c', lw=lw, label='Linear model')\n",
    "plt.plot(X, y_poly, color='cornflowerblue', lw=lw, label='Polynomial model')\n",
    "plt.xlabel('data')\n",
    "plt.ylabel('target')\n",
    "plt.title('Support Vector Regression')\n",
    "plt.legend()\n",
    "plt.show()"
   ]
  },
  {
   "cell_type": "code",
   "execution_count": null,
   "metadata": {},
   "outputs": [],
   "source": []
  }
 ],
 "metadata": {
  "kernelspec": {
   "display_name": "Python 3",
   "language": "python",
   "name": "python3"
  },
  "language_info": {
   "codemirror_mode": {
    "name": "ipython",
    "version": 3
   },
   "file_extension": ".py",
   "mimetype": "text/x-python",
   "name": "python",
   "nbconvert_exporter": "python",
   "pygments_lexer": "ipython3",
   "version": "3.5.2"
  }
 },
 "nbformat": 4,
 "nbformat_minor": 2
}
