{
 "cells": [
  {
   "cell_type": "code",
   "execution_count": 6,
   "metadata": {
    "collapsed": false,
    "deletable": true,
    "editable": true
   },
   "outputs": [],
   "source": [
    "import pandas as pd\n",
    "import numpy as np\n",
    "import xgboost as xgb\n",
    "import lightgbm as lgb\n",
    "from sklearn.model_selection import train_test_split\n",
    "from sklearn.cross_validation import KFold, StratifiedKFold, cross_val_score\n",
    "from sklearn.preprocessing import StandardScaler,LabelEncoder, OneHotEncoder, minmax_scale, scale\n",
    "from sklearn import tree\n",
    "from sklearn import linear_model\n",
    "from sklearn import svm\n",
    "from sklearn import neighbors\n",
    "from sklearn import ensemble\n",
    "from sklearn.feature_selection import SelectFromModel, VarianceThreshold"
   ]
  },
  {
   "cell_type": "code",
   "execution_count": 2,
   "metadata": {
    "collapsed": true,
    "deletable": true,
    "editable": true
   },
   "outputs": [],
   "source": [
    "def evalerror(y, y_pred):\n",
    "    loss = np.sum(np.square(y - y_pred))\n",
    "    n = len(y)\n",
    "    return loss / n"
   ]
  },
  {
   "cell_type": "code",
   "execution_count": 3,
   "metadata": {
    "collapsed": false,
    "deletable": true,
    "editable": true
   },
   "outputs": [],
   "source": [
    "train = pd.read_csv('train/train.csv')\n",
    "test = pd.read_csv('train/test.csv')\n",
    "y = pd.read_csv('train/y.csv')"
   ]
  },
  {
   "cell_type": "code",
   "execution_count": 7,
   "metadata": {
    "collapsed": false,
    "deletable": true,
    "editable": true
   },
   "outputs": [
    {
     "name": "stderr",
     "output_type": "stream",
     "text": [
      "c:\\users\\scarlet\\appdata\\local\\programs\\python\\python35\\lib\\site-packages\\sklearn\\utils\\validation.py:526: DataConversionWarning: A column-vector y was passed when a 1d array was expected. Please change the shape of y to (n_samples, ), for example using ravel().\n",
      "  y = column_or_1d(y, warn=True)\n"
     ]
    }
   ],
   "source": [
    "#GBDT特征候选集\n",
    "clf_gt = ensemble.GradientBoostingRegressor(max_depth=6, n_estimators=400, random_state=1)\n",
    "clf_gt.fit(train, y)\n",
    "model = SelectFromModel(clf_gt, prefit=True) \n",
    "train = pd.DataFrame(model.transform(train))\n",
    "test = pd.DataFrame(model.transform(test))"
   ]
  },
  {
   "cell_type": "code",
   "execution_count": 8,
   "metadata": {
    "collapsed": false,
    "deletable": true,
    "editable": true
   },
   "outputs": [],
   "source": [
    "#初始化种群\n",
    "def Init_Individual(feature):\n",
    "    Individual = []\n",
    "    for i in range(10):\n",
    "        Gene = []\n",
    "        for g in range(len(feature)):\n",
    "            Gene.append(np.random.randint(0, 2))\n",
    "        Individual.append(Gene)\n",
    "    return np.array(Individual)\n",
    "\n",
    "\n",
    "#适应性函数\n",
    "def fitness(Individual, y, dataSet):\n",
    "    lr = linear_model.LinearRegression()\n",
    "    fit = []\n",
    "    index = []\n",
    "    gene = []\n",
    "    for i in range(len(Individual)):\n",
    "        Gene_sequence = pd.DataFrame(dataSet.columns, columns=['feature'])\n",
    "        Gene_sequence['gene'] = Individual[i]\n",
    "        Gene_sequence = list(Gene_sequence[Gene_sequence['gene'] == 1]['feature'])\n",
    "        \n",
    "        cv_model = cross_val_score(lr, dataSet[Gene_sequence], y,  cv=10, scoring='neg_mean_squared_error')\n",
    "        fit.append(0.1 - np.mean(np.abs(cv_model)))\n",
    "        index.append(i)\n",
    "        gene.append(Individual[i])    \n",
    "    \n",
    "    Ind_fitness = pd.DataFrame(fit, columns=['fintness'])\n",
    "#    Ind_fitness['Indi_index'] = index\n",
    "    Ind_fitness['Gene'] = gene    \n",
    "    return Ind_fitness\n",
    "\n",
    "\n",
    "#轮盘赌选择最优个体\n",
    "def Roulette_wheel(Fitness):    \n",
    "    sumFits = np.sum(Fitness['fintness'])\n",
    "\n",
    "    rndPoint = np.random.uniform(0, sumFits)\n",
    "    accumulator = 0.0\n",
    "    for ind, val in enumerate(Fitness['fintness']):\n",
    "        accumulator += val\n",
    "        if accumulator >= rndPoint:\n",
    "            return np.array(Fitness[Fitness['fintness'] == val].values)[0]\n",
    "        \n",
    "#交叉算子\n",
    "def Crossover_operator(Individual):\n",
    "    idx1 = np.random.randint(0, len(Individual))\n",
    "    idx2 = np.random.randint(0, len(Individual))\n",
    "    while idx2 == idx1:      \n",
    "        idx2 = np.random.randint(0, len(Individual)) \n",
    "             \n",
    "    Father_gene = Individual[Individual['Indi_index'] == idx1]['Indi_Gene'].values\n",
    "    Mother_gene = Individual[Individual['Indi_index'] == idx2]['Indi_Gene'].values\n",
    "    \n",
    "    crossPos_A = np.random.randint(0, len(Father_gene[0]))\n",
    "    crossPos_B = np.random.randint(0, len(Father_gene[0]))  \n",
    "\n",
    "    while crossPos_A == crossPos_B:      \n",
    "        crossPos_B = np.random.randint(0, len(Father_gene[0]))  \n",
    "\n",
    "    if crossPos_A > crossPos_B:\n",
    "        crossPos_A, crossPos_B = crossPos_B, crossPos_A\n",
    "        \n",
    "    if crossPos_A < crossPos_B:\n",
    "        temp = Father_gene[0][crossPos_A]\n",
    "        Father_gene[0][crossPos_A] = Mother_gene[0][crossPos_A]\n",
    "        Mother_gene[0][crossPos_A] = temp\n",
    "        crossPos_A = crossPos_A + 1\n",
    "    \n",
    "    return Father_gene, Mother_gene  \n",
    "\n",
    "#变异算子\n",
    "def Mutation_operator(Individual):\n",
    "    MUTATION_RATE = 0.165\n",
    "    for i in range(len(Individual)):\n",
    "        mutatePos = np.random.randint(0, len(Individual['Indi_Gene'][i]))\n",
    "        theta = np.random.random()\n",
    "        if theta < MUTATION_RATE:\n",
    "            if Individual['Indi_Gene'][i][mutatePos] == 0:\n",
    "                Individual['Indi_Gene'][i][mutatePos] = 1\n",
    "            else:\n",
    "                Individual['Indi_Gene'][i][mutatePos] = 0\n",
    "    return Individual"
   ]
  },
  {
   "cell_type": "code",
   "execution_count": 9,
   "metadata": {
    "collapsed": true,
    "deletable": true,
    "editable": true
   },
   "outputs": [],
   "source": [
    "#遗传算法\n",
    "def Genetic_algorithm(Individual, train, y, iterm):\n",
    "    for i in range(iterm):\n",
    "        print('第 %d 代' % i)\n",
    "        fit = fitness(Individual, y, train)\n",
    "    \n",
    "        Roulette_gene = []\n",
    "        index = []\n",
    "        for i in range(len(Individual)):\n",
    "            Roulette_gene.append(Roulette_wheel(fit))\n",
    "            index.append(i)\n",
    "        \n",
    "        Choice_gene = pd.DataFrame(Roulette_gene, columns=['fintness', 'Indi_Gene'])\n",
    "        Choice_gene['Indi_index'] = index\n",
    "        Choice_gene['fintness'] = 0.1 - Choice_gene['fintness']\n",
    "        Choice_gene = Choice_gene.sort_values(['fintness'])\n",
    "    \n",
    "        Cro_gene = []\n",
    "        for i in range(5):\n",
    "            gene1, gene2 = Crossover_operator(Choice_gene)\n",
    "            Cro_gene.append(gene1)\n",
    "            Cro_gene.append(gene2)  \n",
    "    \n",
    "        Crossover_gene = pd.DataFrame(Cro_gene, columns=['Indi_Gene'])\n",
    "        Crossover_gene['Indi_index'] = index\n",
    "    \n",
    "        New_gene = Mutation_operator(Crossover_gene)\n",
    "        Individual = New_gene['Indi_Gene']\n",
    "    fit['fintness'] = 0.1 - fit['fintness']\n",
    "    return fit\n",
    "        "
   ]
  },
  {
   "cell_type": "code",
   "execution_count": 18,
   "metadata": {
    "collapsed": false,
    "deletable": true,
    "editable": true
   },
   "outputs": [
    {
     "data": {
      "text/html": [
       "<div>\n",
       "<table border=\"1\" class=\"dataframe\">\n",
       "  <thead>\n",
       "    <tr style=\"text-align: right;\">\n",
       "      <th></th>\n",
       "      <th>fintness</th>\n",
       "      <th>Gene</th>\n",
       "    </tr>\n",
       "  </thead>\n",
       "  <tbody>\n",
       "    <tr>\n",
       "      <th>0</th>\n",
       "      <td>0.040204</td>\n",
       "      <td>[0, 0, 0, 0, 1, 0, 0, 1, 1, 0, 0, 1, 0, 1, 1, ...</td>\n",
       "    </tr>\n",
       "    <tr>\n",
       "      <th>1</th>\n",
       "      <td>0.040662</td>\n",
       "      <td>[0, 0, 0, 0, 0, 0, 1, 1, 1, 1, 0, 1, 0, 1, 1, ...</td>\n",
       "    </tr>\n",
       "    <tr>\n",
       "      <th>2</th>\n",
       "      <td>0.040862</td>\n",
       "      <td>[0, 0, 0, 1, 0, 1, 0, 0, 1, 0, 0, 0, 0, 0, 1, ...</td>\n",
       "    </tr>\n",
       "    <tr>\n",
       "      <th>3</th>\n",
       "      <td>0.041487</td>\n",
       "      <td>[1, 1, 0, 0, 0, 1, 1, 1, 0, 0, 0, 0, 0, 1, 0, ...</td>\n",
       "    </tr>\n",
       "    <tr>\n",
       "      <th>4</th>\n",
       "      <td>0.042401</td>\n",
       "      <td>[0, 1, 0, 1, 1, 0, 1, 0, 0, 1, 0, 0, 0, 0, 1, ...</td>\n",
       "    </tr>\n",
       "    <tr>\n",
       "      <th>5</th>\n",
       "      <td>0.042978</td>\n",
       "      <td>[1, 0, 1, 0, 1, 0, 0, 0, 1, 0, 0, 0, 1, 0, 0, ...</td>\n",
       "    </tr>\n",
       "    <tr>\n",
       "      <th>6</th>\n",
       "      <td>0.043455</td>\n",
       "      <td>[1, 1, 0, 1, 0, 0, 1, 0, 1, 0, 1, 1, 0, 1, 0, ...</td>\n",
       "    </tr>\n",
       "    <tr>\n",
       "      <th>7</th>\n",
       "      <td>0.043758</td>\n",
       "      <td>[0, 1, 0, 0, 1, 1, 0, 0, 0, 0, 0, 1, 1, 1, 0, ...</td>\n",
       "    </tr>\n",
       "    <tr>\n",
       "      <th>8</th>\n",
       "      <td>0.044766</td>\n",
       "      <td>[1, 1, 0, 0, 1, 0, 0, 1, 1, 0, 0, 0, 1, 1, 0, ...</td>\n",
       "    </tr>\n",
       "    <tr>\n",
       "      <th>9</th>\n",
       "      <td>0.045582</td>\n",
       "      <td>[1, 1, 1, 0, 1, 1, 0, 0, 1, 0, 0, 1, 1, 1, 1, ...</td>\n",
       "    </tr>\n",
       "  </tbody>\n",
       "</table>\n",
       "</div>"
      ],
      "text/plain": [
       "   fintness                                               Gene\n",
       "0  0.040204  [0, 0, 0, 0, 1, 0, 0, 1, 1, 0, 0, 1, 0, 1, 1, ...\n",
       "1  0.040662  [0, 0, 0, 0, 0, 0, 1, 1, 1, 1, 0, 1, 0, 1, 1, ...\n",
       "2  0.040862  [0, 0, 0, 1, 0, 1, 0, 0, 1, 0, 0, 0, 0, 0, 1, ...\n",
       "3  0.041487  [1, 1, 0, 0, 0, 1, 1, 1, 0, 0, 0, 0, 0, 1, 0, ...\n",
       "4  0.042401  [0, 1, 0, 1, 1, 0, 1, 0, 0, 1, 0, 0, 0, 0, 1, ...\n",
       "5  0.042978  [1, 0, 1, 0, 1, 0, 0, 0, 1, 0, 0, 0, 1, 0, 0, ...\n",
       "6  0.043455  [1, 1, 0, 1, 0, 0, 1, 0, 1, 0, 1, 1, 0, 1, 0, ...\n",
       "7  0.043758  [0, 1, 0, 0, 1, 1, 0, 0, 0, 0, 0, 1, 1, 1, 0, ...\n",
       "8  0.044766  [1, 1, 0, 0, 1, 0, 0, 1, 1, 0, 0, 0, 1, 1, 0, ...\n",
       "9  0.045582  [1, 1, 1, 0, 1, 1, 0, 0, 1, 0, 0, 1, 1, 1, 1, ..."
      ]
     },
     "execution_count": 18,
     "metadata": {},
     "output_type": "execute_result"
    }
   ],
   "source": [
    "#初始化种群\n",
    "Individual = Init_Individual(train.columns)\n",
    "\n",
    "#计算每个个体的适应性\n",
    "fit = fitness(Individual, y, train)\n",
    "fit['fintness'] = 0.1 - fit['fintness']\n",
    "fit.sort_values(['fintness'], inplace=True)\n",
    "fit.reset_index(inplace=True, drop=['index'])\n",
    "fit"
   ]
  },
  {
   "cell_type": "code",
   "execution_count": 15,
   "metadata": {
    "collapsed": true
   },
   "outputs": [],
   "source": [
    "Gene_sequence = pd.DataFrame(train.columns, columns=['feature'])\n",
    "Gene_sequence['gene'] = fit['Gene'][0]\n",
    "Gene_sequence = list(Gene_sequence[Gene_sequence['gene'] == 1]['feature'])"
   ]
  },
  {
   "cell_type": "code",
   "execution_count": 14,
   "metadata": {
    "collapsed": false,
    "deletable": true,
    "editable": true
   },
   "outputs": [
    {
     "name": "stdout",
     "output_type": "stream",
     "text": [
      "0.0300686\n"
     ]
    }
   ],
   "source": [
    "def wmaeEval(preds, dtrain):\n",
    "    label = dtrain.get_label()\n",
    "    return 'error', np.sum(np.square(preds - label)) / len(label)\n",
    "param = {}\n",
    "param['eta'] = 0.01\n",
    "param['max_depth'] = 3\n",
    "\n",
    "param['subsample'] = 0.8\n",
    "param['colsample_bytree'] = 0.3\n",
    "num_round = 3300\n",
    "\n",
    "xgbTrain = xgb.DMatrix(train[Gene_sequence], label=y)\n",
    "modle = xgb.cv(param, xgbTrain, num_round, feval=wmaeEval, nfold=5)\n",
    "print(modle.iloc[-1, 0])"
   ]
  }
 ],
 "metadata": {
  "kernelspec": {
   "display_name": "Python 3",
   "language": "python",
   "name": "python3"
  },
  "language_info": {
   "codemirror_mode": {
    "name": "ipython",
    "version": 3
   },
   "file_extension": ".py",
   "mimetype": "text/x-python",
   "name": "python",
   "nbconvert_exporter": "python",
   "pygments_lexer": "ipython3",
   "version": "3.5.0"
  }
 },
 "nbformat": 4,
 "nbformat_minor": 2
}
