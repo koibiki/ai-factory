{
 "cells": [
  {
   "cell_type": "code",
   "execution_count": 1,
   "metadata": {
    "collapsed": false,
    "deletable": true,
    "editable": true
   },
   "outputs": [
    {
     "name": "stderr",
     "output_type": "stream",
     "text": [
      "c:\\users\\scarlet\\appdata\\local\\programs\\python\\python35\\lib\\site-packages\\sklearn\\cross_validation.py:44: DeprecationWarning: This module was deprecated in version 0.18 in favor of the model_selection module into which all the refactored classes and functions are moved. Also note that the interface of the new CV iterators are different from that of this module. This module will be removed in 0.20.\n",
      "  \"This module will be removed in 0.20.\", DeprecationWarning)\n"
     ]
    }
   ],
   "source": [
    "import pandas as pd\n",
    "import numpy as np\n",
    "import gc\n",
    "import xgboost as xgb\n",
    "import lightgbm as lgb\n",
    "from sklearn.model_selection import train_test_split\n",
    "from sklearn.cross_validation import KFold, StratifiedKFold, cross_val_score\n",
    "from datetime import datetime\n",
    "from catboost import CatBoostRegressor\n",
    "from sklearn.preprocessing import StandardScaler,LabelEncoder, OneHotEncoder, minmax_scale, PolynomialFeatures\n",
    "from sklearn import tree\n",
    "from sklearn import linear_model\n",
    "from sklearn import svm\n",
    "from sklearn import neighbors\n",
    "from sklearn import ensemble\n",
    "from sklearn.tree import ExtraTreeRegressor\n",
    "from sklearn.decomposition import PCA\n",
    "from sklearn.manifold import TSNE\n",
    "from sklearn.feature_selection import SelectFromModel, VarianceThreshold,RFE"
   ]
  },
  {
   "cell_type": "code",
   "execution_count": 2,
   "metadata": {
    "collapsed": true,
    "deletable": true,
    "editable": true
   },
   "outputs": [],
   "source": [
    "def evalerror(y, y_pred):\n",
    "    loss = np.sum(np.square(y - y_pred))\n",
    "    n = len(y)\n",
    "    return loss / n"
   ]
  },
  {
   "cell_type": "code",
   "execution_count": 3,
   "metadata": {
    "collapsed": true,
    "deletable": true,
    "editable": true
   },
   "outputs": [],
   "source": [
    "train = pd.read_csv('train/train.csv')\n",
    "test = pd.read_csv('train/test.csv')\n",
    "y = pd.read_csv('train/y.csv')"
   ]
  },
  {
   "cell_type": "code",
   "execution_count": 4,
   "metadata": {
    "collapsed": false,
    "deletable": true,
    "editable": true
   },
   "outputs": [
    {
     "name": "stderr",
     "output_type": "stream",
     "text": [
      "c:\\users\\scarlet\\appdata\\local\\programs\\python\\python35\\lib\\site-packages\\sklearn\\utils\\validation.py:526: DataConversionWarning: A column-vector y was passed when a 1d array was expected. Please change the shape of y to (n_samples, ), for example using ravel().\n",
      "  y = column_or_1d(y, warn=True)\n"
     ]
    }
   ],
   "source": [
    "#GBDT筛选特征\n",
    "clf_gt2 = ensemble.GradientBoostingRegressor(max_depth=1, n_estimators=320, random_state=1)\n",
    "clf_gt2.fit(train, y)\n",
    "\n",
    "model1 = SelectFromModel(clf_gt2, prefit=True) \n",
    "train = pd.DataFrame(model1.transform(train))\n",
    "test = pd.DataFrame(model1.transform(test))"
   ]
  },
  {
   "cell_type": "code",
   "execution_count": 5,
   "metadata": {
    "collapsed": true,
    "deletable": true,
    "editable": true
   },
   "outputs": [],
   "source": [
    "#线上xgb单模型\n",
    "param = {}\n",
    "param['eta'] = 0.01\n",
    "param['max_depth'] = 6\n",
    "#param['mmin_child_weight'] = 5\n",
    "param['subsample'] = 0.8\n",
    "param['colsample_bytree'] = 0.3\n",
    "num_round = 750\n",
    "\n",
    "xgbTrain = xgb.DMatrix(train, label=y)\n",
    "xgbTest = xgb.DMatrix(test)\n",
    "modle = xgb.train(param, xgbTrain, num_round, )\n",
    "result_xgb = modle.predict(xgbTest)"
   ]
  },
  {
   "cell_type": "code",
   "execution_count": 8,
   "metadata": {
    "collapsed": false,
    "deletable": true,
    "editable": true,
    "scrolled": true
   },
   "outputs": [
    {
     "name": "stdout",
     "output_type": "stream",
     "text": [
      "the model 0\n",
      "the model 1\n",
      "the model 2\n",
      "the model 3\n"
     ]
    }
   ],
   "source": [
    "#线上Stacking模型\n",
    "model_gb = ensemble.GradientBoostingRegressor(n_estimators=450, \n",
    "                                              max_depth=2, \n",
    "                                              subsample=0.8, \n",
    "                                              learning_rate=0.01, \n",
    "                                              random_state=0, \n",
    "                                              max_features=0.2)\n",
    "modle0  = xgb.XGBRegressor(learning_rate=0.01, \n",
    "                           max_depth=3, \n",
    "                           colsample_bytree=0.2, \n",
    "                           subsample=0.8, \n",
    "                           seed=0, \n",
    "                           n_estimators=2100)\n",
    "modle1  = xgb.XGBRegressor(learning_rate=0.01, \n",
    "                           max_depth=3, \n",
    "                           colsample_bytree=0.3, \n",
    "                           subsample=0.8, \n",
    "                           seed=0, \n",
    "                           n_estimators=1600,\n",
    "                           min_child_weight=6)\n",
    "\n",
    "clf1 = lgb.LGBMRegressor(colsample_bytree=0.3,\n",
    "                         learning_rate=0.01, \n",
    "                         subsample=0.8, \n",
    "                         num_leaves=4, \n",
    "                         objective='regression', \n",
    "                         n_estimators=350, \n",
    "                         seed=0)\n",
    "base_model = [['xgb0', modle0],\n",
    "              ['xgb1', modle1], \n",
    "              ['gb', model_gb],\n",
    "              ['lgb', clf1],]\n",
    "\n",
    "folds = list(KFold(len(train), n_folds=5, random_state=0))\n",
    "S_train = np.zeros((train.shape[0], len(base_model)))\n",
    "S_test = np.zeros((test.shape[0], len(base_model)))    \n",
    "for index, item in enumerate(base_model):\n",
    "    print(\"the model\", index)\n",
    "    clf = item[1]\n",
    "    S_test_i = np.zeros((test.shape[0], len(folds)))\n",
    "    for j, (train_idx, test_idx) in enumerate(folds):\n",
    "        X_train = train.ix[train_idx, :]\n",
    "        X_valid = train.ix[test_idx, :]\n",
    "        Y = y.ix[train_idx, :]\n",
    "        clf.fit(X_train, Y['Y'])\n",
    "        S_train[test_idx, index] = clf.predict(X_valid)\n",
    "        S_test_i[:, j] = clf.predict(test)       \n",
    "    S_test[:, index] = S_test_i.mean(1)\n",
    "    \n",
    "linreg = linear_model.LinearRegression()\n",
    "linreg.fit(S_train, y)\n",
    "\n",
    "result = linreg.predict(S_test)"
   ]
  },
  {
   "cell_type": "code",
   "execution_count": 10,
   "metadata": {
    "collapsed": false,
    "deletable": true,
    "editable": true
   },
   "outputs": [],
   "source": [
    "sub = pd.read_csv('data/测试A-答案模板.csv', names=['ID'])\n",
    "sub['res'] = pd.DataFrame(result)[0]"
   ]
  },
  {
   "cell_type": "code",
   "execution_count": 128,
   "metadata": {
    "collapsed": true,
    "deletable": true,
    "editable": true
   },
   "outputs": [],
   "source": [
    "sub.to_csv('submission{}.csv'.format(datetime.now().strftime('%Y%m%d_%H%M%S')), index=False, header=None)"
   ]
  }
 ],
 "metadata": {
  "kernelspec": {
   "display_name": "Python 3",
   "language": "python",
   "name": "python3"
  },
  "language_info": {
   "codemirror_mode": {
    "name": "ipython",
    "version": 3
   },
   "file_extension": ".py",
   "mimetype": "text/x-python",
   "name": "python",
   "nbconvert_exporter": "python",
   "pygments_lexer": "ipython3",
   "version": "3.5.0"
  }
 },
 "nbformat": 4,
 "nbformat_minor": 2
}
