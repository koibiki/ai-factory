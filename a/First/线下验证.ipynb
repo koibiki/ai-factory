{
 "cells": [
  {
   "cell_type": "code",
   "execution_count": 1,
   "metadata": {
    "collapsed": false,
    "deletable": true,
    "editable": true
   },
   "outputs": [
    {
     "name": "stderr",
     "output_type": "stream",
     "text": [
      "c:\\users\\scarlet\\appdata\\local\\programs\\python\\python35\\lib\\site-packages\\sklearn\\cross_validation.py:44: DeprecationWarning: This module was deprecated in version 0.18 in favor of the model_selection module into which all the refactored classes and functions are moved. Also note that the interface of the new CV iterators are different from that of this module. This module will be removed in 0.20.\n",
      "  \"This module will be removed in 0.20.\", DeprecationWarning)\n"
     ]
    }
   ],
   "source": [
    "import pandas as pd\n",
    "import numpy as np\n",
    "import gc\n",
    "import xgboost as xgb\n",
    "import lightgbm as lgb\n",
    "from sklearn.model_selection import train_test_split\n",
    "from sklearn.cross_validation import KFold, StratifiedKFold, cross_val_score\n",
    "from datetime import datetime\n",
    "from catboost import CatBoostRegressor\n",
    "from sklearn.preprocessing import StandardScaler,LabelEncoder, OneHotEncoder, minmax_scale, scale,PolynomialFeatures\n",
    "from sklearn import tree\n",
    "from sklearn import linear_model\n",
    "from sklearn import svm\n",
    "from sklearn import neighbors\n",
    "from sklearn import ensemble\n",
    "from sklearn.feature_selection import SelectFromModel, VarianceThreshold,RFE\n",
    "from minepy import MINE\n",
    "from mlxtend.regressor import StackingRegressor"
   ]
  },
  {
   "cell_type": "code",
   "execution_count": 27,
   "metadata": {
    "collapsed": true,
    "deletable": true,
    "editable": true
   },
   "outputs": [],
   "source": [
    "def evalerror(y, y_pred):\n",
    "    loss = np.sum(np.square(y - y_pred))\n",
    "    n = len(y)\n",
    "    return loss / n"
   ]
  },
  {
   "cell_type": "code",
   "execution_count": 123,
   "metadata": {
    "collapsed": false,
    "deletable": true,
    "editable": true
   },
   "outputs": [],
   "source": [
    "train = pd.read_csv('train/train.csv')\n",
    "test = pd.read_csv('train/test.csv')\n",
    "y = pd.read_csv('train/y.csv')"
   ]
  },
  {
   "cell_type": "code",
   "execution_count": 125,
   "metadata": {
    "collapsed": false,
    "deletable": true,
    "editable": true
   },
   "outputs": [
    {
     "name": "stderr",
     "output_type": "stream",
     "text": [
      "c:\\users\\scarlet\\appdata\\local\\programs\\python\\python35\\lib\\site-packages\\sklearn\\utils\\validation.py:526: DataConversionWarning: A column-vector y was passed when a 1d array was expected. Please change the shape of y to (n_samples, ), for example using ravel().\n",
      "  y = column_or_1d(y, warn=True)\n"
     ]
    }
   ],
   "source": [
    "#GBDT筛选特征\n",
    "clf_gt2 = ensemble.GradientBoostingRegressor(max_depth=1, n_estimators=320, random_state=1)\n",
    "clf_gt2.fit(train, y)\n",
    "\n",
    "\n",
    "model1 = SelectFromModel(clf_gt2, prefit=True) \n",
    "train = pd.DataFrame(model1.transform(train))\n",
    "test = pd.DataFrame(model1.transform(test))"
   ]
  },
  {
   "cell_type": "code",
   "execution_count": 141,
   "metadata": {
    "collapsed": false,
    "deletable": true,
    "editable": true,
    "scrolled": false
   },
   "outputs": [
    {
     "name": "stdout",
     "output_type": "stream",
     "text": [
      "0.025204\n"
     ]
    }
   ],
   "source": [
    "#单xgb模型线下5折 交叉验证\n",
    "def wmaeEval(preds, dtrain):\n",
    "    label = dtrain.get_label()\n",
    "    return 'error', np.sum(np.square(preds - label)) / len(label)\n",
    "\n",
    "param = {}\n",
    "param['eta'] = 0.01\n",
    "param['max_depth'] = 3\n",
    "param['subsample'] = 0.8\n",
    "param['colsample_bytree'] = 0.3\n",
    "\n",
    "param['seed'] = 1\n",
    "num_round = 10000\n",
    "\n",
    "xgbTrain = xgb.DMatrix(train, label=y)\n",
    "modle = xgb.cv(param, xgbTrain, num_boost_round=4200, feval=wmaeEval, nfold=5)\n",
    "print(modle.iloc[-1, 0]) "
   ]
  },
  {
   "cell_type": "code",
   "execution_count": null,
   "metadata": {
    "collapsed": true
   },
   "outputs": [],
   "source": [
    "#单lgb模型线下5折 交叉验证\n",
    "params = {}\n",
    "params['learning_rate'] = 0.01\n",
    "params['boosting_type'] = 'gbdt'\n",
    "params['objective'] = 'regression'         \n",
    "params['feature_fraction'] = 0.3      \n",
    "params['bagging_fraction'] = 0.8 \n",
    "params['num_leaves'] = 64  \n",
    "result = []   \n",
    "folds = list(KFold(len(train), n_folds=5, random_state=0))\n",
    "for j, (train_idx, test_idx) in enumerate(folds):\n",
    "    print(\"the folds\", j)\n",
    "    X_train = train.ix[train_idx, :]\n",
    "    X_valid = train.ix[test_idx, :]\n",
    "        \n",
    "    Y_train = y.ix[train_idx, :]\n",
    "    Y_valid = y.ix[test_idx, :]\n",
    "    d_train = lgb.Dataset(X_train, label=Y_train['Y'])\n",
    "    clf = lgb.train(params, d_train, 620)\n",
    "    preds = clf.predict(X_valid)\n",
    "    result.append(evalerror(preds, Y_valid['Y']))\n",
    "    \n",
    "np.mean(result)"
   ]
  },
  {
   "cell_type": "code",
   "execution_count": 37,
   "metadata": {
    "collapsed": false,
    "deletable": true,
    "editable": true
   },
   "outputs": [
    {
     "name": "stderr",
     "output_type": "stream",
     "text": [
      "c:\\users\\scarlet\\appdata\\local\\programs\\python\\python35\\lib\\site-packages\\ipykernel\\__main__.py:4: SettingWithCopyWarning: \n",
      "A value is trying to be set on a copy of a slice from a DataFrame\n",
      "\n",
      "See the caveats in the documentation: http://pandas.pydata.org/pandas-docs/stable/indexing.html#indexing-view-versus-copy\n",
      "c:\\users\\scarlet\\appdata\\local\\programs\\python\\python35\\lib\\site-packages\\ipykernel\\__main__.py:7: SettingWithCopyWarning: \n",
      "A value is trying to be set on a copy of a slice from a DataFrame\n",
      "\n",
      "See the caveats in the documentation: http://pandas.pydata.org/pandas-docs/stable/indexing.html#indexing-view-versus-copy\n",
      "c:\\users\\scarlet\\appdata\\local\\programs\\python\\python35\\lib\\site-packages\\ipykernel\\__main__.py:10: SettingWithCopyWarning: \n",
      "A value is trying to be set on a copy of a slice from a DataFrame\n",
      "\n",
      "See the caveats in the documentation: http://pandas.pydata.org/pandas-docs/stable/indexing.html#indexing-view-versus-copy\n"
     ]
    }
   ],
   "source": [
    "#线下Stacking 取20%数据集进行验证\n",
    "x_train, x_valid, y_train, y_valid = train_test_split(train, y, test_size = 0.2, random_state=1)\n",
    "x_train.reset_index(inplace=True)\n",
    "x_train.drop(['index'], axis=1, inplace=True)\n",
    "\n",
    "y_train.reset_index(inplace=True)\n",
    "y_train.drop(['index'], axis=1, inplace=True)\n",
    "\n",
    "y_valid.reset_index(inplace=True)\n",
    "y_valid.drop(['index'], axis=1, inplace=True)"
   ]
  },
  {
   "cell_type": "code",
   "execution_count": 69,
   "metadata": {
    "collapsed": false,
    "deletable": true,
    "editable": true
   },
   "outputs": [
    {
     "name": "stdout",
     "output_type": "stream",
     "text": [
      "the model 0\n",
      "the model 1\n",
      "the model 2\n",
      "the model 3\n"
     ]
    },
    {
     "data": {
      "text/plain": [
       "0.027016934367817883"
      ]
     },
     "execution_count": 69,
     "metadata": {},
     "output_type": "execute_result"
    }
   ],
   "source": [
    "model_gb = ensemble.GradientBoostingRegressor(n_estimators=450, \n",
    "                                              max_depth=2, \n",
    "                                              subsample=0.8, \n",
    "                                              learning_rate=0.01, \n",
    "                                              random_state=0, \n",
    "                                              max_features=0.2)\n",
    "modle0  = xgb.XGBRegressor(learning_rate=0.01, \n",
    "                           max_depth=3, \n",
    "                           colsample_bytree=0.2, \n",
    "                           subsample=0.8, \n",
    "                           seed=0, \n",
    "                           n_estimators=2100)\n",
    "modle1  = xgb.XGBRegressor(learning_rate=0.01, \n",
    "                           max_depth=3, \n",
    "                           colsample_bytree=0.3, \n",
    "                           subsample=0.8, \n",
    "                           seed=0, \n",
    "                           n_estimators=1600,\n",
    "                           min_child_weight=6)\n",
    "\n",
    "clf1 = lgb.LGBMRegressor(colsample_bytree=0.3,\n",
    "                         learning_rate=0.01, \n",
    "                         subsample=0.8, \n",
    "                         num_leaves=4, \n",
    "                         objective='regression', \n",
    "                         n_estimators=350, \n",
    "                         seed=0)\n",
    "base_model = [['xgb0', modle0],\n",
    "              ['xgb1', modle1], \n",
    "              ['gb', model_gb],\n",
    "              ['lgb', clf1],]\n",
    "\n",
    "folds = list(KFold(len(x_train), n_folds=5, random_state=0))\n",
    "S_train = np.zeros((x_train.shape[0], len(base_model)))\n",
    "S_test = np.zeros((x_valid.shape[0], len(base_model)))    \n",
    "for index, item in enumerate(base_model):\n",
    "    print(\"the model\", index)\n",
    "    clf = item[1]\n",
    "    S_test_i = np.zeros((x_valid.shape[0], len(folds)))\n",
    "    for j, (train_idx, test_idx) in enumerate(folds):\n",
    "        X_train = x_train.ix[train_idx, :]\n",
    "        X_valid = x_train.ix[test_idx, :]\n",
    "        Y = y_train.ix[train_idx, :]\n",
    "        clf.fit(X_train, Y['Y'])\n",
    "        S_train[test_idx, index] = clf.predict(X_valid)\n",
    "        S_test_i[:, j] = clf.predict(x_valid)       \n",
    "    S_test[:, index] = S_test_i.mean(1)\n",
    "    \n",
    "linreg = linear_model.LinearRegression()\n",
    "linreg.fit(S_train, y_train)\n",
    "\n",
    "result = linreg.predict(S_test)\n",
    "evalerror(pd.DataFrame(result)[0],  y_valid['Y'])"
   ]
  }
 ],
 "metadata": {
  "kernelspec": {
   "display_name": "Python 3",
   "language": "python",
   "name": "python3"
  },
  "language_info": {
   "codemirror_mode": {
    "name": "ipython",
    "version": 3
   },
   "file_extension": ".py",
   "mimetype": "text/x-python",
   "name": "python",
   "nbconvert_exporter": "python",
   "pygments_lexer": "ipython3",
   "version": "3.5.0"
  }
 },
 "nbformat": 4,
 "nbformat_minor": 2
}
