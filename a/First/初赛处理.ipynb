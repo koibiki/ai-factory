{
 "cells": [
  {
   "cell_type": "code",
   "execution_count": 23,
   "metadata": {
    "collapsed": false,
    "deletable": true,
    "editable": true
   },
   "outputs": [],
   "source": [
    "import pandas as pd\n",
    "import numpy as np\n",
    "import gc\n",
    "import xgboost as xgb\n",
    "import lightgbm as lgb\n",
    "from sklearn.model_selection import train_test_split\n",
    "from sklearn.cross_validation import KFold, StratifiedKFold, cross_val_score\n",
    "from datetime import datetime\n",
    "from catboost import CatBoostRegressor\n",
    "from sklearn.preprocessing import StandardScaler,LabelEncoder, OneHotEncoder, minmax_scale, scale\n",
    "from sklearn import tree\n",
    "from sklearn.decomposition import PCA\n",
    "from sklearn import linear_model\n",
    "from sklearn import svm\n",
    "from sklearn import neighbors\n",
    "from sklearn import ensemble\n",
    "from sklearn.feature_selection import SelectFromModel, VarianceThreshold,RFE\n",
    "from minepy import MINE\n",
    "from mlxtend.regressor import StackingRegressor\n",
    "from collections import defaultdict"
   ]
  },
  {
   "cell_type": "code",
   "execution_count": 7,
   "metadata": {
    "collapsed": false,
    "deletable": true,
    "editable": true
   },
   "outputs": [],
   "source": [
    "data_set = pd.read_csv('../data/train.csv')\n",
    "test_set = pd.read_csv('../data/test.csv')\n",
    "Le = LabelEncoder()\n",
    "\n",
    "y = data_set[['Y']]\n",
    "data_set = data_set.drop(['Y'], axis=1)\n",
    "input_data = pd.concat([data_set, test_set], ignore_index=True)"
   ]
  },
  {
   "cell_type": "code",
   "execution_count": 8,
   "metadata": {
    "collapsed": false,
    "deletable": true,
    "editable": true
   },
   "outputs": [],
   "source": [
    "col = pd.DataFrame(input_data.ix[:, 2:].columns, columns=['col'])\n",
    "TOOL_ID_col_dict = defaultdict(lambda : 0)\n",
    "for index,row in col.iterrows():\n",
    "    info=row.col.split('X')[0]\n",
    "    TOOL_ID_col_dict[info] += 1\n",
    "    \n",
    "TOOL_ID_col_dict"
   ]
  },
  {
   "cell_type": "code",
   "execution_count": 54,
   "metadata": {
    "collapsed": true,
    "deletable": true,
    "editable": true
   },
   "outputs": [],
   "source": [
    "#drop相同列\n",
    "def drop_col(data):\n",
    "    data = data.fillna(data.mean())      \n",
    "    for line in data.columns:\n",
    "        if len(data[line].unique()) == 1:\n",
    "            data = data.drop([line], axis=1)    \n",
    "    return data"
   ]
  },
  {
   "cell_type": "code",
   "execution_count": 10,
   "metadata": {
    "collapsed": false,
    "deletable": true,
    "editable": true
   },
   "outputs": [],
   "source": [
    "#四分位数处理异常值\n",
    "def quantile_dropout(data):  \n",
    "    for c in data.columns:\n",
    "        Q1 = data[c].quantile(q=0.25, interpolation='linear')\n",
    "        Q3 = data[c].quantile(q=0.75, interpolation='linear')   \n",
    "    \n",
    "        min_v = Q1 - 3 * (Q3 - Q1)\n",
    "        max_v = Q3 + 3 * (Q3 - Q1)\n",
    "    \n",
    "        data[c][(data[c] >= max_v) | (data[c] <= min_v)] = data[c].mean()\n",
    "           \n",
    "    return data"
   ]
  },
  {
   "cell_type": "code",
   "execution_count": 20,
   "metadata": {
    "collapsed": true,
    "deletable": true,
    "editable": true
   },
   "outputs": [],
   "source": [
    "#标准化\n",
    "def scala(data):\n",
    " #   for col in data.columns:            \n",
    " #       data[col] = (data[col] - data[col].mean()) / data[col].std(ddof=0) \n",
    " #   data = data.fillna(0)   \n",
    "    data = scale(data)\n",
    "    return data"
   ]
  },
  {
   "cell_type": "code",
   "execution_count": 27,
   "metadata": {
    "collapsed": true,
    "deletable": true,
    "editable": true
   },
   "outputs": [],
   "source": [
    "#PCA\n",
    "def Pca(data):\n",
    "    pca = PCA(n_components=0.9)\n",
    "    pca.fit(data)\n",
    "    X_new = pca.transform(data) \n",
    "    return X_new"
   ]
  },
  {
   "cell_type": "code",
   "execution_count": 13,
   "metadata": {
    "collapsed": true,
    "deletable": true,
    "editable": true
   },
   "outputs": [],
   "source": [
    "#Tsne\n",
    "def Tsne(data):\n",
    "    Tsne = TSNE(n_components=2)\n",
    "    X_new = Tsne.fit_transform(data)\n",
    "    return X_new"
   ]
  },
  {
   "cell_type": "code",
   "execution_count": 14,
   "metadata": {
    "collapsed": true,
    "deletable": true,
    "editable": true
   },
   "outputs": [],
   "source": [
    "#聚类\n",
    "def clu(data):\n",
    "    km = KMeans(n_clusters=3).fit(data)\n",
    "    clu = pd.DataFrame(km.predict(data), columns=['clu'])\n",
    "    clu.groupby(['clu']).clu.count()"
   ]
  },
  {
   "cell_type": "code",
   "execution_count": 15,
   "metadata": {
    "collapsed": true,
    "deletable": true,
    "editable": true
   },
   "outputs": [],
   "source": [
    "def date_cols(data):\n",
    "    for col in data:\n",
    "        if data[col].min() > 1e13:\n",
    "            data = data.drop([col], axis=1)   \n",
    "    return data"
   ]
  },
  {
   "cell_type": "code",
   "execution_count": 16,
   "metadata": {
    "collapsed": true,
    "deletable": true,
    "editable": true
   },
   "outputs": [],
   "source": [
    "#孤立森林选出异常值过多的特征  暂时没用\n",
    "def get_outFeature(data):\n",
    "    clf = IsolationForest(max_samples=20)\n",
    "    outrate = []\n",
    "    for col in data.columns: \n",
    "        clf.fit(data[[col]])\n",
    "        y_pred_train = clf.predict(data[[col]])\n",
    "    \n",
    "        values = data[[col]].values\n",
    "        out = pd.DataFrame(values, columns=['columns'])\n",
    "        out['y'] = y_pred_train\n",
    "    \n",
    "        outLine = len(out[out['y'] == -1])\n",
    "        outRate = outLine / 600\n",
    "        if outRate > 0.2:\n",
    "            outrate.append(col)\n",
    "            \n",
    "    feature = [x for x in data.columns if x in outrate]\n",
    "    train = pd.DataFrame(data[feature]).ix[:499, :]\n",
    "    test = pd.DataFrame(data[feature]).ix[500:, :]\n",
    "    return train, test"
   ]
  },
  {
   "cell_type": "markdown",
   "metadata": {
    "deletable": true,
    "editable": true
   },
   "source": [
    "处理X210_"
   ]
  },
  {
   "cell_type": "code",
   "execution_count": 37,
   "metadata": {
    "collapsed": false,
    "deletable": true,
    "editable": true
   },
   "outputs": [
    {
     "name": "stderr",
     "output_type": "stream",
     "text": [
      "c:\\users\\scarlet\\appdata\\local\\programs\\python\\python35\\lib\\site-packages\\ipykernel\\__main__.py:10: SettingWithCopyWarning: \n",
      "A value is trying to be set on a copy of a slice from a DataFrame\n",
      "\n",
      "See the caveats in the documentation: http://pandas.pydata.org/pandas-docs/stable/indexing.html#indexing-view-versus-copy\n",
      "c:\\users\\scarlet\\appdata\\local\\programs\\python\\python35\\lib\\site-packages\\sklearn\\preprocessing\\data.py:160: UserWarning: Numerical issues were encountered when centering the data and might not be solved. Dataset may contain too large values. You may need to prescale your features.\n",
      "  warnings.warn(\"Numerical issues were encountered \"\n"
     ]
    }
   ],
   "source": [
    "X210_COL = input_data.loc[:, 'TOOL_ID':'210X231']\n",
    "Le.fit(X210_COL['TOOL_ID'].unique())\n",
    "X210_COL['TOOL_ID'] = Le.transform(X210_COL['TOOL_ID'])\n",
    "X210_COL = date_cols(X210_COL)\n",
    "X210_COL = drop_col(X210_COL)\n",
    "X210_COL = quantile_dropout(X210_COL)\n",
    "X210_COL = drop_col(X210_COL)\n",
    "X210_COL = X210_COL.transpose().drop_duplicates().transpose()\n",
    "X210_COL = scala(X210_COL)"
   ]
  },
  {
   "cell_type": "code",
   "execution_count": 38,
   "metadata": {
    "collapsed": false,
    "deletable": true,
    "editable": true
   },
   "outputs": [],
   "source": [
    "pca_X210 = Pca(X210_COL)\n",
    "pca_X210 = pd.DataFrame(pca_X210)\n",
    "pca_X210.reset_index(inplace=True)\n",
    "pca_X210.rename({'index' : 'ID'}, inplace=True)\n",
    "pca_X210.drop(['index'], axis=1, inplace=True)"
   ]
  },
  {
   "cell_type": "markdown",
   "metadata": {
    "deletable": true,
    "editable": true
   },
   "source": [
    "处理X220_"
   ]
  },
  {
   "cell_type": "code",
   "execution_count": 39,
   "metadata": {
    "collapsed": false,
    "deletable": true,
    "editable": true
   },
   "outputs": [
    {
     "name": "stderr",
     "output_type": "stream",
     "text": [
      "c:\\users\\scarlet\\appdata\\local\\programs\\python\\python35\\lib\\site-packages\\ipykernel\\__main__.py:10: SettingWithCopyWarning: \n",
      "A value is trying to be set on a copy of a slice from a DataFrame\n",
      "\n",
      "See the caveats in the documentation: http://pandas.pydata.org/pandas-docs/stable/indexing.html#indexing-view-versus-copy\n"
     ]
    }
   ],
   "source": [
    "X220_COL = input_data.loc[:, 'Tool':'220X571']\n",
    "Le.fit(X220_COL['Tool'].unique())\n",
    "X220_COL['Tool'] = Le.transform(X220_COL['Tool'])\n",
    "X220_COL = drop_col(X220_COL)\n",
    "X220_COL = date_cols(X220_COL)\n",
    "X220_COL = quantile_dropout(X220_COL)\n",
    "X220_COL = drop_col(X220_COL)\n",
    "X220_COL = X220_COL.transpose().drop_duplicates().transpose()\n",
    "X220_COL = scala(X220_COL)"
   ]
  },
  {
   "cell_type": "code",
   "execution_count": 40,
   "metadata": {
    "collapsed": false,
    "deletable": true,
    "editable": true
   },
   "outputs": [],
   "source": [
    "pca_X220 = Pca(X220_COL)\n",
    "pca_X220 = pd.DataFrame(pca_X220)\n",
    "pca_X220.reset_index(inplace=True)\n",
    "pca_X220.rename({'index' : 'ID'}, inplace=True)\n",
    "pca_X220.drop(['index'], axis=1, inplace=True)"
   ]
  },
  {
   "cell_type": "markdown",
   "metadata": {
    "deletable": true,
    "editable": true
   },
   "source": [
    "处理X261_"
   ]
  },
  {
   "cell_type": "code",
   "execution_count": 41,
   "metadata": {
    "collapsed": false,
    "deletable": true,
    "editable": true
   },
   "outputs": [],
   "source": [
    "X261_COL = input_data.loc[:, '261X226':'261X763']\n",
    "X261_COL = drop_col(X261_COL)\n",
    "X261_COL = date_cols(X261_COL)\n",
    "X261_COL = quantile_dropout(X261_COL)\n",
    "X261_COL = drop_col(X261_COL)\n",
    "X261_COL = X261_COL.transpose().drop_duplicates().transpose()\n",
    "X261_COL = scala(X261_COL)"
   ]
  },
  {
   "cell_type": "code",
   "execution_count": 42,
   "metadata": {
    "collapsed": false,
    "deletable": true,
    "editable": true
   },
   "outputs": [],
   "source": [
    "pca_X261 = Pca(X261_COL)\n",
    "pca_X261 = pd.DataFrame(pca_X261)\n",
    "pca_X261.reset_index(inplace=True)\n",
    "pca_X261.rename({'index' : 'ID'}, inplace=True)\n",
    "pca_X261.drop(['index'], axis=1, inplace=True)"
   ]
  },
  {
   "cell_type": "markdown",
   "metadata": {
    "deletable": true,
    "editable": true
   },
   "source": [
    "处理X300_   "
   ]
  },
  {
   "cell_type": "code",
   "execution_count": 44,
   "metadata": {
    "collapsed": false,
    "deletable": true,
    "editable": true
   },
   "outputs": [
    {
     "name": "stderr",
     "output_type": "stream",
     "text": [
      "c:\\users\\scarlet\\appdata\\local\\programs\\python\\python35\\lib\\site-packages\\sklearn\\preprocessing\\data.py:160: UserWarning: Numerical issues were encountered when centering the data and might not be solved. Dataset may contain too large values. You may need to prescale your features.\n",
      "  warnings.warn(\"Numerical issues were encountered \"\n"
     ]
    }
   ],
   "source": [
    "X300_COL = input_data.loc[:, 'TOOL_ID (#1)':'300X21']\n",
    "Le.fit(X300_COL['TOOL_ID (#1)'].unique())\n",
    "X300_COL['TOOL_ID (#1)'] = Le.transform(X300_COL['TOOL_ID (#1)'])\n",
    "X300_COL = drop_col(X300_COL)\n",
    "X300_COL = quantile_dropout(X300_COL.ix[:, 1:])\n",
    "X300_COL = drop_col(X300_COL)\n",
    "X300_COL = X300_COL.transpose().drop_duplicates().transpose()\n",
    "X300_COL = scala(X300_COL)"
   ]
  },
  {
   "cell_type": "code",
   "execution_count": 45,
   "metadata": {
    "collapsed": true,
    "deletable": true,
    "editable": true
   },
   "outputs": [],
   "source": [
    "pca_X300 = Pca(X300_COL)\n",
    "pca_X300 = pd.DataFrame(pca_X300)\n",
    "pca_X300.reset_index(inplace=True)\n",
    "pca_X300.rename({'index' : 'ID'}, inplace=True)\n",
    "pca_X300.drop(['index'], axis=1, inplace=True)"
   ]
  },
  {
   "cell_type": "markdown",
   "metadata": {
    "deletable": true,
    "editable": true
   },
   "source": [
    "处理X310_ "
   ]
  },
  {
   "cell_type": "code",
   "execution_count": 46,
   "metadata": {
    "collapsed": false,
    "deletable": true,
    "editable": true
   },
   "outputs": [
    {
     "name": "stderr",
     "output_type": "stream",
     "text": [
      "c:\\users\\scarlet\\appdata\\local\\programs\\python\\python35\\lib\\site-packages\\ipykernel\\__main__.py:10: SettingWithCopyWarning: \n",
      "A value is trying to be set on a copy of a slice from a DataFrame\n",
      "\n",
      "See the caveats in the documentation: http://pandas.pydata.org/pandas-docs/stable/indexing.html#indexing-view-versus-copy\n"
     ]
    }
   ],
   "source": [
    "X310_COL = input_data.loc[:, 'TOOL_ID (#2)':'310X207']\n",
    "Le.fit(X310_COL['TOOL_ID (#2)'].unique())\n",
    "X310_COL['TOOL_ID (#2)'] = Le.transform(X310_COL['TOOL_ID (#2)'])\n",
    "X310_COL = drop_col(X310_COL)\n",
    "X310_COL = date_cols(X310_COL)\n",
    "X310_COL = quantile_dropout(X310_COL)\n",
    "X310_COL = drop_col(X310_COL)\n",
    "X310_COL = X310_COL.transpose().drop_duplicates().transpose()\n",
    "X310_COL = scala(X310_COL)"
   ]
  },
  {
   "cell_type": "code",
   "execution_count": 47,
   "metadata": {
    "collapsed": false,
    "deletable": true,
    "editable": true
   },
   "outputs": [],
   "source": [
    "pca_X310 = Pca(X310_COL)\n",
    "pca_X310 = pd.DataFrame(pca_X310)\n",
    "pca_X310.reset_index(inplace=True)\n",
    "pca_X310.rename({'index' : 'ID'}, inplace=True)\n",
    "pca_X310.drop(['index'], axis=1, inplace=True)"
   ]
  },
  {
   "cell_type": "markdown",
   "metadata": {
    "deletable": true,
    "editable": true
   },
   "source": [
    "处理X311_"
   ]
  },
  {
   "cell_type": "code",
   "execution_count": 56,
   "metadata": {
    "collapsed": false,
    "deletable": true,
    "editable": true
   },
   "outputs": [
    {
     "name": "stderr",
     "output_type": "stream",
     "text": [
      "c:\\users\\scarlet\\appdata\\local\\programs\\python\\python35\\lib\\site-packages\\ipykernel\\__main__.py:10: SettingWithCopyWarning: \n",
      "A value is trying to be set on a copy of a slice from a DataFrame\n",
      "\n",
      "See the caveats in the documentation: http://pandas.pydata.org/pandas-docs/stable/indexing.html#indexing-view-versus-copy\n"
     ]
    }
   ],
   "source": [
    "X311_COL = input_data.loc[:, 'TOOL_ID (#3)':'311X225']\n",
    "Le.fit(X311_COL['TOOL_ID (#3)'].unique())\n",
    "X311_COL['TOOL_ID (#3)'] = Le.transform(X311_COL['TOOL_ID (#3)'])\n",
    "X311_COL = drop_col(X311_COL)\n",
    "X311_COL = date_cols(X311_COL)\n",
    "X311_COL = quantile_dropout(X311_COL)\n",
    "X311_COL = drop_col(X311_COL)\n",
    "X311_COL = X311_COL.transpose().drop_duplicates().transpose()\n",
    "X311_COL = scala(X311_COL)"
   ]
  },
  {
   "cell_type": "code",
   "execution_count": 57,
   "metadata": {
    "collapsed": false,
    "deletable": true,
    "editable": true
   },
   "outputs": [],
   "source": [
    "pca_X311 = Pca(X311_COL)\n",
    "pca_X311 = pd.DataFrame(pca_X311)\n",
    "pca_X311.reset_index(inplace=True)\n",
    "pca_X311.rename({'index' : 'ID'}, inplace=True)\n",
    "pca_X311.drop(['index'], axis=1, inplace=True)"
   ]
  },
  {
   "cell_type": "markdown",
   "metadata": {
    "deletable": true,
    "editable": true
   },
   "source": [
    "处理X312_"
   ]
  },
  {
   "cell_type": "code",
   "execution_count": 58,
   "metadata": {
    "collapsed": false,
    "deletable": true,
    "editable": true
   },
   "outputs": [
    {
     "name": "stderr",
     "output_type": "stream",
     "text": [
      "c:\\users\\scarlet\\appdata\\local\\programs\\python\\python35\\lib\\site-packages\\ipykernel\\__main__.py:10: SettingWithCopyWarning: \n",
      "A value is trying to be set on a copy of a slice from a DataFrame\n",
      "\n",
      "See the caveats in the documentation: http://pandas.pydata.org/pandas-docs/stable/indexing.html#indexing-view-versus-copy\n",
      "c:\\users\\scarlet\\appdata\\local\\programs\\python\\python35\\lib\\site-packages\\sklearn\\preprocessing\\data.py:177: UserWarning: Numerical issues were encountered when scaling the data and might not be solved. The standard deviation of the data is probably very close to 0. \n",
      "  warnings.warn(\"Numerical issues were encountered \"\n"
     ]
    }
   ],
   "source": [
    "X312_COL = input_data.loc[:, 'Tool (#1)':'312X798']\n",
    "Le.fit(X312_COL['Tool (#1)'].unique())\n",
    "X312_COL['Tool (#1)'] = Le.transform(X312_COL['Tool (#1)'])\n",
    "X312_COL = drop_col(X312_COL)\n",
    "X312_COL = date_cols(X312_COL)\n",
    "X312_COL = quantile_dropout(X312_COL)\n",
    "X312_COL = drop_col(X312_COL)\n",
    "X312_COL = X312_COL.transpose().drop_duplicates().transpose()\n",
    "X312_COL = scala(X312_COL)"
   ]
  },
  {
   "cell_type": "code",
   "execution_count": 59,
   "metadata": {
    "collapsed": false,
    "deletable": true,
    "editable": true
   },
   "outputs": [],
   "source": [
    "pca_X312 = Pca(X312_COL)\n",
    "pca_X312 = pd.DataFrame(pca_X312)\n",
    "pca_X312.reset_index(inplace=True)\n",
    "pca_X312.rename({'index' : 'ID'}, inplace=True)\n",
    "pca_X312.drop(['index'], axis=1, inplace=True)"
   ]
  },
  {
   "cell_type": "markdown",
   "metadata": {
    "deletable": true,
    "editable": true
   },
   "source": [
    "处理X330_"
   ]
  },
  {
   "cell_type": "code",
   "execution_count": 60,
   "metadata": {
    "collapsed": false,
    "deletable": true,
    "editable": true
   },
   "outputs": [
    {
     "name": "stderr",
     "output_type": "stream",
     "text": [
      "c:\\users\\scarlet\\appdata\\local\\programs\\python\\python35\\lib\\site-packages\\ipykernel\\__main__.py:10: SettingWithCopyWarning: \n",
      "A value is trying to be set on a copy of a slice from a DataFrame\n",
      "\n",
      "See the caveats in the documentation: http://pandas.pydata.org/pandas-docs/stable/indexing.html#indexing-view-versus-copy\n"
     ]
    }
   ],
   "source": [
    "X330_COL = input_data.loc[:, 'Tool (#2)':'330X1311']\n",
    "Le.fit(X330_COL['Tool (#2)'].unique())\n",
    "X330_COL['Tool (#2)'] = Le.transform(X330_COL['Tool (#2)'])\n",
    "X330_COL = drop_col(X330_COL)\n",
    "X330_COL = date_cols(X330_COL)\n",
    "X330_COL = quantile_dropout(X330_COL)\n",
    "X330_COL = drop_col(X330_COL)\n",
    "X330_COL = X330_COL.transpose().drop_duplicates().transpose()\n",
    "X330_COL = scala(X330_COL)"
   ]
  },
  {
   "cell_type": "code",
   "execution_count": 61,
   "metadata": {
    "collapsed": false,
    "deletable": true,
    "editable": true
   },
   "outputs": [],
   "source": [
    "pca_X330 = Pca(X330_COL)\n",
    "pca_X330 = pd.DataFrame(pca_X330)\n",
    "pca_X330.reset_index(inplace=True)\n",
    "pca_X330.rename({'index' : 'ID'}, inplace=True)\n",
    "pca_X330.drop(['index'], axis=1, inplace=True)"
   ]
  },
  {
   "cell_type": "markdown",
   "metadata": {
    "deletable": true,
    "editable": true
   },
   "source": [
    "处理X340_"
   ]
  },
  {
   "cell_type": "code",
   "execution_count": 62,
   "metadata": {
    "collapsed": false,
    "deletable": true,
    "editable": true
   },
   "outputs": [
    {
     "name": "stderr",
     "output_type": "stream",
     "text": [
      "c:\\users\\scarlet\\appdata\\local\\programs\\python\\python35\\lib\\site-packages\\ipykernel\\__main__.py:10: SettingWithCopyWarning: \n",
      "A value is trying to be set on a copy of a slice from a DataFrame\n",
      "\n",
      "See the caveats in the documentation: http://pandas.pydata.org/pandas-docs/stable/indexing.html#indexing-view-versus-copy\n"
     ]
    }
   ],
   "source": [
    "X340_COL = input_data.loc[:, 'tool':'340X199']\n",
    "Le.fit(X340_COL['tool'].unique())\n",
    "X340_COL['tool'] = Le.transform(X340_COL['tool'])\n",
    "X340_COL = drop_col(X340_COL)\n",
    "X340_COL = date_cols(X340_COL)\n",
    "X340_COL = quantile_dropout(X340_COL)\n",
    "X340_COL = drop_col(X340_COL)\n",
    "X340_COL = X340_COL.transpose().drop_duplicates().transpose()\n",
    "X340_COL = scala(X340_COL)"
   ]
  },
  {
   "cell_type": "code",
   "execution_count": 63,
   "metadata": {
    "collapsed": false,
    "deletable": true,
    "editable": true
   },
   "outputs": [],
   "source": [
    "pca_X340 = Pca(X340_COL)\n",
    "pca_X340 = pd.DataFrame(pca_X340)\n",
    "pca_X340.reset_index(inplace=True)\n",
    "pca_X340.rename({'index' : 'ID'}, inplace=True)\n",
    "pca_X340.drop(['index'], axis=1, inplace=True)"
   ]
  },
  {
   "cell_type": "markdown",
   "metadata": {
    "deletable": true,
    "editable": true
   },
   "source": [
    "处理X344_"
   ]
  },
  {
   "cell_type": "code",
   "execution_count": 64,
   "metadata": {
    "collapsed": false,
    "deletable": true,
    "editable": true
   },
   "outputs": [
    {
     "name": "stderr",
     "output_type": "stream",
     "text": [
      "c:\\users\\scarlet\\appdata\\local\\programs\\python\\python35\\lib\\site-packages\\ipykernel\\__main__.py:10: SettingWithCopyWarning: \n",
      "A value is trying to be set on a copy of a slice from a DataFrame\n",
      "\n",
      "See the caveats in the documentation: http://pandas.pydata.org/pandas-docs/stable/indexing.html#indexing-view-versus-copy\n"
     ]
    }
   ],
   "source": [
    "X344_COL = input_data.loc[:, 'tool (#1)':'344X398']\n",
    "Le.fit(X344_COL['tool (#1)'].unique())\n",
    "X344_COL['tool (#1)'] = Le.transform(X344_COL['tool (#1)'])\n",
    "X344_COL = drop_col(X344_COL)\n",
    "X344_COL = date_cols(X344_COL)\n",
    "X344_COL = quantile_dropout(X344_COL)\n",
    "X344_COL = drop_col(X344_COL)\n",
    "X344_COL = X344_COL.transpose().drop_duplicates().transpose()\n",
    "X344_COL = scala(X344_COL)"
   ]
  },
  {
   "cell_type": "code",
   "execution_count": 65,
   "metadata": {
    "collapsed": false,
    "deletable": true,
    "editable": true
   },
   "outputs": [],
   "source": [
    "pca_X344 = Pca(X344_COL)\n",
    "pca_X344 = pd.DataFrame(pca_X344)\n",
    "pca_X344.reset_index(inplace=True)\n",
    "pca_X344.rename({'index' : 'ID'}, inplace=True)\n",
    "pca_X344.drop(['index'], axis=1, inplace=True)"
   ]
  },
  {
   "cell_type": "markdown",
   "metadata": {
    "deletable": true,
    "editable": true
   },
   "source": [
    "处理X360_ "
   ]
  },
  {
   "cell_type": "code",
   "execution_count": 66,
   "metadata": {
    "collapsed": false,
    "deletable": true,
    "editable": true
   },
   "outputs": [
    {
     "name": "stderr",
     "output_type": "stream",
     "text": [
      "c:\\users\\scarlet\\appdata\\local\\programs\\python\\python35\\lib\\site-packages\\ipykernel\\__main__.py:10: SettingWithCopyWarning: \n",
      "A value is trying to be set on a copy of a slice from a DataFrame\n",
      "\n",
      "See the caveats in the documentation: http://pandas.pydata.org/pandas-docs/stable/indexing.html#indexing-view-versus-copy\n"
     ]
    }
   ],
   "source": [
    "X360_COL = input_data.loc[:, 'TOOL':'360X1452']\n",
    "Le.fit(X360_COL['TOOL'].unique())\n",
    "X360_COL['TOOL'] = Le.transform(X360_COL['TOOL'])\n",
    "X360_COL = drop_col(X360_COL)\n",
    "X360_COL = date_cols(X360_COL)\n",
    "X360_COL = quantile_dropout(X360_COL)\n",
    "X360_COL = drop_col(X360_COL)\n",
    "X360_COL = X360_COL.transpose().drop_duplicates().transpose()\n",
    "X360_COL = scala(X360_COL)"
   ]
  },
  {
   "cell_type": "code",
   "execution_count": 67,
   "metadata": {
    "collapsed": false,
    "deletable": true,
    "editable": true
   },
   "outputs": [],
   "source": [
    "pca_X360 = Pca(X360_COL)\n",
    "pca_X360 = pd.DataFrame(pca_X360)\n",
    "pca_X360.reset_index(inplace=True)\n",
    "pca_X360.rename({'index' : 'ID'}, inplace=True)\n",
    "pca_X360.drop(['index'], axis=1, inplace=True)"
   ]
  },
  {
   "cell_type": "markdown",
   "metadata": {
    "deletable": true,
    "editable": true
   },
   "source": [
    "处理X400"
   ]
  },
  {
   "cell_type": "code",
   "execution_count": 68,
   "metadata": {
    "collapsed": false,
    "deletable": true,
    "editable": true
   },
   "outputs": [],
   "source": [
    "X400_COL = input_data.loc[:, '400X1':'400X230']\n",
    "X400_COL = drop_col(X400_COL)\n",
    "X400_COL = date_cols(X400_COL)\n",
    "X400_COL = quantile_dropout(X400_COL)\n",
    "X400_COL = drop_col(X400_COL)\n",
    "X400_COL = X400_COL.transpose().drop_duplicates().transpose()\n",
    "X400_COL = scala(X400_COL)"
   ]
  },
  {
   "cell_type": "code",
   "execution_count": 69,
   "metadata": {
    "collapsed": false,
    "deletable": true,
    "editable": true
   },
   "outputs": [],
   "source": [
    "pca_X400 = Pca(X400_COL)\n",
    "pca_X400 = pd.DataFrame(pca_X400)\n",
    "pca_X400.reset_index(inplace=True)\n",
    "pca_X400.rename({'index' : 'ID'}, inplace=True)\n",
    "pca_X400.drop(['index'], axis=1, inplace=True)"
   ]
  },
  {
   "cell_type": "markdown",
   "metadata": {
    "deletable": true,
    "editable": true
   },
   "source": [
    "处理X420"
   ]
  },
  {
   "cell_type": "code",
   "execution_count": 70,
   "metadata": {
    "collapsed": false,
    "deletable": true,
    "editable": true
   },
   "outputs": [],
   "source": [
    "X420_COL = input_data.loc[:, '420X1':'420X230']\n",
    "X420_COL = drop_col(X420_COL)\n",
    "X420_COL = date_cols(X420_COL)\n",
    "X420_COL = quantile_dropout(X420_COL)\n",
    "\n",
    "X420_COL = drop_col(X420_COL)\n",
    "X420_COL = X420_COL.transpose().drop_duplicates().transpose()\n",
    "X420_COL = scala(X420_COL)"
   ]
  },
  {
   "cell_type": "code",
   "execution_count": 71,
   "metadata": {
    "collapsed": false,
    "deletable": true,
    "editable": true
   },
   "outputs": [],
   "source": [
    "pca_X420 = Pca(X420_COL)\n",
    "pca_X420 = pd.DataFrame(pca_X420)\n",
    "pca_X420.reset_index(inplace=True)\n",
    "pca_X420.rename({'index' : 'ID'}, inplace=True)\n",
    "pca_X420.drop(['index'], axis=1, inplace=True)"
   ]
  },
  {
   "cell_type": "markdown",
   "metadata": {
    "deletable": true,
    "editable": true
   },
   "source": [
    "处理X440A"
   ]
  },
  {
   "cell_type": "code",
   "execution_count": 72,
   "metadata": {
    "collapsed": false,
    "deletable": true,
    "editable": true
   },
   "outputs": [
    {
     "name": "stderr",
     "output_type": "stream",
     "text": [
      "c:\\users\\scarlet\\appdata\\local\\programs\\python\\python35\\lib\\site-packages\\ipykernel\\__main__.py:10: SettingWithCopyWarning: \n",
      "A value is trying to be set on a copy of a slice from a DataFrame\n",
      "\n",
      "See the caveats in the documentation: http://pandas.pydata.org/pandas-docs/stable/indexing.html#indexing-view-versus-copy\n"
     ]
    }
   ],
   "source": [
    "X440A_COL = input_data.loc[:, 'TOOL (#1)':'440AX213']\n",
    "Le.fit(X440A_COL['TOOL (#1)'].unique())\n",
    "X440A_COL['TOOL (#1)'] = Le.transform(X440A_COL['TOOL (#1)'])\n",
    "X440A_COL = drop_col(X440A_COL)\n",
    "X440A_COL = date_cols(X440A_COL)\n",
    "X440A_COL = quantile_dropout(X440A_COL)\n",
    "X440A_COL = drop_col(X440A_COL)\n",
    "X440A_COL = X440A_COL.transpose().drop_duplicates().transpose()\n",
    "X440A_COL = scala(X440A_COL)"
   ]
  },
  {
   "cell_type": "code",
   "execution_count": 73,
   "metadata": {
    "collapsed": false,
    "deletable": true,
    "editable": true
   },
   "outputs": [],
   "source": [
    "pca_X440A = Pca(X440A_COL)\n",
    "pca_X440A = pd.DataFrame(pca_X440A)\n",
    "pca_X440A.reset_index(inplace=True)\n",
    "pca_X440A.rename({'index' : 'ID'}, inplace=True)\n",
    "pca_X440A.drop(['index'], axis=1, inplace=True)"
   ]
  },
  {
   "cell_type": "markdown",
   "metadata": {
    "deletable": true,
    "editable": true
   },
   "source": [
    "处理X520"
   ]
  },
  {
   "cell_type": "code",
   "execution_count": 74,
   "metadata": {
    "collapsed": false,
    "deletable": true,
    "editable": true
   },
   "outputs": [
    {
     "name": "stderr",
     "output_type": "stream",
     "text": [
      "c:\\users\\scarlet\\appdata\\local\\programs\\python\\python35\\lib\\site-packages\\ipykernel\\__main__.py:10: SettingWithCopyWarning: \n",
      "A value is trying to be set on a copy of a slice from a DataFrame\n",
      "\n",
      "See the caveats in the documentation: http://pandas.pydata.org/pandas-docs/stable/indexing.html#indexing-view-versus-copy\n"
     ]
    }
   ],
   "source": [
    "X520_COL = input_data.loc[:, 'Tool (#3)':'520X434']\n",
    "Le.fit(X520_COL['Tool (#3)'].unique())\n",
    "X520_COL['Tool (#3)'] = Le.transform(X520_COL['Tool (#3)'])\n",
    "X520_COL = drop_col(X520_COL)\n",
    "X520_COL = date_cols(X520_COL)\n",
    "X520_COL = quantile_dropout(X520_COL)\n",
    "X520_COL = drop_col(X520_COL)\n",
    "X520_COL = X520_COL.transpose().drop_duplicates().transpose()\n",
    "X520_COL = scala(X520_COL)"
   ]
  },
  {
   "cell_type": "code",
   "execution_count": 75,
   "metadata": {
    "collapsed": false,
    "deletable": true,
    "editable": true
   },
   "outputs": [],
   "source": [
    "pca_X520 = Pca(X520_COL)\n",
    "pca_X520 = pd.DataFrame(pca_X520)\n",
    "pca_X520.reset_index(inplace=True)\n",
    "pca_X520.rename({'index' : 'ID'}, inplace=True)\n",
    "pca_X520.drop(['index'], axis=1, inplace=True)"
   ]
  },
  {
   "cell_type": "markdown",
   "metadata": {
    "deletable": true,
    "editable": true
   },
   "source": [
    "处理X750"
   ]
  },
  {
   "cell_type": "code",
   "execution_count": 76,
   "metadata": {
    "collapsed": false,
    "deletable": true,
    "editable": true
   },
   "outputs": [
    {
     "name": "stderr",
     "output_type": "stream",
     "text": [
      "c:\\users\\scarlet\\appdata\\local\\programs\\python\\python35\\lib\\site-packages\\ipykernel\\__main__.py:10: SettingWithCopyWarning: \n",
      "A value is trying to be set on a copy of a slice from a DataFrame\n",
      "\n",
      "See the caveats in the documentation: http://pandas.pydata.org/pandas-docs/stable/indexing.html#indexing-view-versus-copy\n"
     ]
    }
   ],
   "source": [
    "X750_COL = input_data.loc[:, 'TOOL (#2)':'750X1452']\n",
    "Le.fit(X750_COL['TOOL (#2)'].unique())\n",
    "X750_COL['TOOL (#2)'] = Le.transform(X750_COL['TOOL (#2)'])\n",
    "X750_COL = drop_col(X750_COL)\n",
    "X750_COL = date_cols(X750_COL)\n",
    "X750_COL = quantile_dropout(X750_COL)\n",
    "X750_COL = drop_col(X750_COL)\n",
    "X750_COL = X750_COL.transpose().drop_duplicates().transpose()\n",
    "X750_COL = scala(X750_COL)"
   ]
  },
  {
   "cell_type": "code",
   "execution_count": 77,
   "metadata": {
    "collapsed": false,
    "deletable": true,
    "editable": true
   },
   "outputs": [],
   "source": [
    "pca_X750 = Pca(X750_COL)\n",
    "pca_X750 = pd.DataFrame(pca_X750)\n",
    "pca_X750.reset_index(inplace=True)\n",
    "pca_X750.rename({'index' : 'ID'}, inplace=True)\n",
    "pca_X750.drop(['index'], axis=1, inplace=True)"
   ]
  },
  {
   "cell_type": "code",
   "execution_count": 79,
   "metadata": {
    "collapsed": false,
    "deletable": true,
    "editable": true
   },
   "outputs": [],
   "source": [
    "data_Set = pd.concat([pca_X210, pca_X220, \n",
    "                      pca_X261, pca_X300, \n",
    "                      pca_X310, pca_X311,\n",
    "                      pca_X312, pca_X330, \n",
    "                      pca_X340, pca_X344, \n",
    "                      pca_X360, pca_X400,\n",
    "                      pca_X420, pca_X440A, \n",
    "                      pca_X520, pca_X750], axis=1)"
   ]
  },
  {
   "cell_type": "code",
   "execution_count": 80,
   "metadata": {
    "collapsed": true,
    "deletable": true,
    "editable": true
   },
   "outputs": [],
   "source": [
    "train = data_set.ix[:499, :]\n",
    "test = data_set.ix[500:, :]"
   ]
  },
  {
   "cell_type": "code",
   "execution_count": 79,
   "metadata": {
    "collapsed": false,
    "deletable": true,
    "editable": true
   },
   "outputs": [],
   "source": [
    "train.to_csv('train/train.csv', index=False)\n",
    "test.to_csv('train/test.csv', index=False)\n",
    "y.to_csv('train/y.csv', index=False)"
   ]
  }
 ],
 "metadata": {
  "kernelspec": {
   "display_name": "Python 3",
   "language": "python",
   "name": "python3"
  },
  "language_info": {
   "codemirror_mode": {
    "name": "ipython",
    "version": 3
   },
   "file_extension": ".py",
   "mimetype": "text/x-python",
   "name": "python",
   "nbconvert_exporter": "python",
   "pygments_lexer": "ipython3",
   "version": "3.5.0"
  }
 },
 "nbformat": 4,
 "nbformat_minor": 2
}
