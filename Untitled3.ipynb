{
 "cells": [
  {
   "cell_type": "code",
   "execution_count": 1,
   "metadata": {},
   "outputs": [
    {
     "name": "stderr",
     "output_type": "stream",
     "text": [
      "/usr/local/lib/python3.5/dist-packages/h5py/__init__.py:36: FutureWarning: Conversion of the second argument of issubdtype from `float` to `np.floating` is deprecated. In future, it will be treated as `np.float64 == np.dtype(float).type`.\n",
      "  from ._conv import register_converters as _register_converters\n",
      "/home/chengli/.local/lib/python3.5/site-packages/sklearn/cross_validation.py:41: DeprecationWarning: This module was deprecated in version 0.18 in favor of the model_selection module into which all the refactored classes and functions are moved. Also note that the interface of the new CV iterators are different from that of this module. This module will be removed in 0.20.\n",
      "  \"This module will be removed in 0.20.\", DeprecationWarning)\n"
     ]
    }
   ],
   "source": [
    "from feature_engineering.feature_selector import *\n",
    "from feature_engineering.create_sample import *\n",
    "from feature_engineering.separate_str_num import * \n",
    "from feature_engineering.fill_nan import *\n",
    "from model_selection.regressor_model_factory import RegressorModelFactory\n",
    "from model_selection.cv import k_fold_regressor\n",
    "from model_selection.smote_cv import *\n",
    "from sklearn.model_selection import train_test_split"
   ]
  },
  {
   "cell_type": "code",
   "execution_count": 2,
   "metadata": {},
   "outputs": [],
   "source": [
    "train = pd.read_csv('./input/train.csv')\n",
    "test = pd.read_csv('./input/testa.csv')\n",
    "train_X = train.iloc[:, 1:-1]\n",
    "train_Y = train.Y\n",
    "test_X = test.iloc[:, 1:]"
   ]
  },
  {
   "cell_type": "code",
   "execution_count": 3,
   "metadata": {},
   "outputs": [],
   "source": [
    "train_X = delete_constant(train_X)\n",
    "train_X = delete_nan(train_X)\n",
    "train_X = delete_duplicates(train_X)"
   ]
  },
  {
   "cell_type": "code",
   "execution_count": 4,
   "metadata": {},
   "outputs": [],
   "source": [
    "data_num, data_str = separate_num_str(train_X)"
   ]
  },
  {
   "cell_type": "code",
   "execution_count": 5,
   "metadata": {},
   "outputs": [],
   "source": [
    "data_str = pd.get_dummies(data_str)"
   ]
  },
  {
   "cell_type": "code",
   "execution_count": 6,
   "metadata": {},
   "outputs": [],
   "source": [
    "train_data = pd.concat([data_num], axis=1)"
   ]
  },
  {
   "cell_type": "code",
   "execution_count": 7,
   "metadata": {},
   "outputs": [
    {
     "data": {
      "text/html": [
       "<div>\n",
       "<style scoped>\n",
       "    .dataframe tbody tr th:only-of-type {\n",
       "        vertical-align: middle;\n",
       "    }\n",
       "\n",
       "    .dataframe tbody tr th {\n",
       "        vertical-align: top;\n",
       "    }\n",
       "\n",
       "    .dataframe thead th {\n",
       "        text-align: right;\n",
       "    }\n",
       "</style>\n",
       "<table border=\"1\" class=\"dataframe\">\n",
       "  <thead>\n",
       "    <tr style=\"text-align: right;\">\n",
       "      <th></th>\n",
       "      <th>210X1</th>\n",
       "      <th>210X2</th>\n",
       "      <th>210X3</th>\n",
       "      <th>210X4</th>\n",
       "      <th>210X5</th>\n",
       "      <th>210X6</th>\n",
       "      <th>210X7</th>\n",
       "      <th>210X8</th>\n",
       "      <th>210X9</th>\n",
       "      <th>210X10</th>\n",
       "      <th>...</th>\n",
       "      <th>750X1247</th>\n",
       "      <th>750X1288</th>\n",
       "      <th>750X1296</th>\n",
       "      <th>750X1298</th>\n",
       "      <th>750X1306</th>\n",
       "      <th>750X1312</th>\n",
       "      <th>750X1314</th>\n",
       "      <th>750X1330</th>\n",
       "      <th>750X1357</th>\n",
       "      <th>750X1384</th>\n",
       "    </tr>\n",
       "  </thead>\n",
       "  <tbody>\n",
       "    <tr>\n",
       "      <th>0</th>\n",
       "      <td>102.05</td>\n",
       "      <td>0.465</td>\n",
       "      <td>0.27</td>\n",
       "      <td>1.430</td>\n",
       "      <td>67.45</td>\n",
       "      <td>4.620</td>\n",
       "      <td>-0.54</td>\n",
       "      <td>-1.05</td>\n",
       "      <td>-0.13</td>\n",
       "      <td>26.3</td>\n",
       "      <td>...</td>\n",
       "      <td>4.45</td>\n",
       "      <td>74256.0</td>\n",
       "      <td>11.6</td>\n",
       "      <td>0.77</td>\n",
       "      <td>-16.8</td>\n",
       "      <td>36.8</td>\n",
       "      <td>4.53</td>\n",
       "      <td>4.47</td>\n",
       "      <td>2.07</td>\n",
       "      <td>49.9</td>\n",
       "    </tr>\n",
       "    <tr>\n",
       "      <th>1</th>\n",
       "      <td>100.95</td>\n",
       "      <td>0.805</td>\n",
       "      <td>0.22</td>\n",
       "      <td>3.477</td>\n",
       "      <td>62.08</td>\n",
       "      <td>3.412</td>\n",
       "      <td>-2.12</td>\n",
       "      <td>1.02</td>\n",
       "      <td>0.08</td>\n",
       "      <td>28.2</td>\n",
       "      <td>...</td>\n",
       "      <td>4.45</td>\n",
       "      <td>74323.0</td>\n",
       "      <td>11.6</td>\n",
       "      <td>0.76</td>\n",
       "      <td>-16.8</td>\n",
       "      <td>36.8</td>\n",
       "      <td>4.53</td>\n",
       "      <td>4.47</td>\n",
       "      <td>2.07</td>\n",
       "      <td>50.0</td>\n",
       "    </tr>\n",
       "    <tr>\n",
       "      <th>2</th>\n",
       "      <td>98.56</td>\n",
       "      <td>0.555</td>\n",
       "      <td>0.24</td>\n",
       "      <td>1.172</td>\n",
       "      <td>56.70</td>\n",
       "      <td>3.080</td>\n",
       "      <td>-2.25</td>\n",
       "      <td>0.88</td>\n",
       "      <td>0.17</td>\n",
       "      <td>26.6</td>\n",
       "      <td>...</td>\n",
       "      <td>4.46</td>\n",
       "      <td>74453.0</td>\n",
       "      <td>11.6</td>\n",
       "      <td>0.76</td>\n",
       "      <td>-16.8</td>\n",
       "      <td>36.8</td>\n",
       "      <td>4.53</td>\n",
       "      <td>4.47</td>\n",
       "      <td>2.06</td>\n",
       "      <td>50.0</td>\n",
       "    </tr>\n",
       "    <tr>\n",
       "      <th>3</th>\n",
       "      <td>100.35</td>\n",
       "      <td>0.901</td>\n",
       "      <td>0.22</td>\n",
       "      <td>3.631</td>\n",
       "      <td>62.25</td>\n",
       "      <td>3.949</td>\n",
       "      <td>-1.98</td>\n",
       "      <td>0.82</td>\n",
       "      <td>0.08</td>\n",
       "      <td>25.2</td>\n",
       "      <td>...</td>\n",
       "      <td>4.42</td>\n",
       "      <td>195952.0</td>\n",
       "      <td>11.6</td>\n",
       "      <td>0.76</td>\n",
       "      <td>-16.8</td>\n",
       "      <td>36.8</td>\n",
       "      <td>4.54</td>\n",
       "      <td>4.48</td>\n",
       "      <td>2.06</td>\n",
       "      <td>50.0</td>\n",
       "    </tr>\n",
       "    <tr>\n",
       "      <th>4</th>\n",
       "      <td>100.25</td>\n",
       "      <td>0.854</td>\n",
       "      <td>0.23</td>\n",
       "      <td>3.429</td>\n",
       "      <td>61.42</td>\n",
       "      <td>3.630</td>\n",
       "      <td>-1.89</td>\n",
       "      <td>1.02</td>\n",
       "      <td>0.08</td>\n",
       "      <td>27.3</td>\n",
       "      <td>...</td>\n",
       "      <td>4.42</td>\n",
       "      <td>200350.0</td>\n",
       "      <td>11.6</td>\n",
       "      <td>0.76</td>\n",
       "      <td>-16.8</td>\n",
       "      <td>36.8</td>\n",
       "      <td>4.53</td>\n",
       "      <td>4.48</td>\n",
       "      <td>2.07</td>\n",
       "      <td>50.0</td>\n",
       "    </tr>\n",
       "  </tbody>\n",
       "</table>\n",
       "<p>5 rows × 3225 columns</p>\n",
       "</div>"
      ],
      "text/plain": [
       "    210X1  210X2  210X3  210X4  210X5  210X6  210X7  210X8  210X9  210X10  \\\n",
       "0  102.05  0.465   0.27  1.430  67.45  4.620  -0.54  -1.05  -0.13    26.3   \n",
       "1  100.95  0.805   0.22  3.477  62.08  3.412  -2.12   1.02   0.08    28.2   \n",
       "2   98.56  0.555   0.24  1.172  56.70  3.080  -2.25   0.88   0.17    26.6   \n",
       "3  100.35  0.901   0.22  3.631  62.25  3.949  -1.98   0.82   0.08    25.2   \n",
       "4  100.25  0.854   0.23  3.429  61.42  3.630  -1.89   1.02   0.08    27.3   \n",
       "\n",
       "     ...     750X1247  750X1288  750X1296  750X1298  750X1306  750X1312  \\\n",
       "0    ...         4.45   74256.0      11.6      0.77     -16.8      36.8   \n",
       "1    ...         4.45   74323.0      11.6      0.76     -16.8      36.8   \n",
       "2    ...         4.46   74453.0      11.6      0.76     -16.8      36.8   \n",
       "3    ...         4.42  195952.0      11.6      0.76     -16.8      36.8   \n",
       "4    ...         4.42  200350.0      11.6      0.76     -16.8      36.8   \n",
       "\n",
       "   750X1314  750X1330  750X1357  750X1384  \n",
       "0      4.53      4.47      2.07      49.9  \n",
       "1      4.53      4.47      2.07      50.0  \n",
       "2      4.53      4.47      2.06      50.0  \n",
       "3      4.54      4.48      2.06      50.0  \n",
       "4      4.53      4.48      2.07      50.0  \n",
       "\n",
       "[5 rows x 3225 columns]"
      ]
     },
     "execution_count": 7,
     "metadata": {},
     "output_type": "execute_result"
    }
   ],
   "source": [
    "train_data.head()"
   ]
  },
  {
   "cell_type": "code",
   "execution_count": 8,
   "metadata": {},
   "outputs": [],
   "source": [
    "test_data = test.loc[:, train_data.columns]"
   ]
  },
  {
   "cell_type": "code",
   "execution_count": 9,
   "metadata": {
    "scrolled": false
   },
   "outputs": [
    {
     "name": "stdout",
     "output_type": "stream",
     "text": [
      "开始CV10折训练...\n",
      "第0次训练...\n",
      "Training until validation scores don't improve for 300 rounds.\n",
      "[200]\tvalid_0's l2: 0.0234649\n",
      "[400]\tvalid_0's l2: 0.020916\n",
      "[600]\tvalid_0's l2: 0.0204551\n",
      "[800]\tvalid_0's l2: 0.0206162\n",
      "Early stopping, best iteration is:\n",
      "[617]\tvalid_0's l2: 0.0204046\n",
      "can_get_feature_importance\n",
      "第1次训练...\n",
      "Training until validation scores don't improve for 300 rounds.\n",
      "[200]\tvalid_0's l2: 0.0407697\n",
      "[400]\tvalid_0's l2: 0.0383194\n",
      "[600]\tvalid_0's l2: 0.0381695\n",
      "[800]\tvalid_0's l2: 0.0380122\n",
      "[1000]\tvalid_0's l2: 0.0380359\n",
      "Early stopping, best iteration is:\n",
      "[898]\tvalid_0's l2: 0.0378667\n",
      "can_get_feature_importance\n",
      "第2次训练...\n",
      "Training until validation scores don't improve for 300 rounds.\n",
      "[200]\tvalid_0's l2: 0.0255387\n",
      "[400]\tvalid_0's l2: 0.0230283\n",
      "[600]\tvalid_0's l2: 0.0217724\n",
      "[800]\tvalid_0's l2: 0.0215762\n",
      "[1000]\tvalid_0's l2: 0.0214411\n",
      "[1200]\tvalid_0's l2: 0.0218273\n",
      "Early stopping, best iteration is:\n",
      "[999]\tvalid_0's l2: 0.0214358\n",
      "can_get_feature_importance\n",
      "第3次训练...\n",
      "Training until validation scores don't improve for 300 rounds.\n",
      "[200]\tvalid_0's l2: 0.0449379\n",
      "[400]\tvalid_0's l2: 0.0424017\n",
      "[600]\tvalid_0's l2: 0.0414551\n",
      "[800]\tvalid_0's l2: 0.0411752\n",
      "[1000]\tvalid_0's l2: 0.0406082\n",
      "[1200]\tvalid_0's l2: 0.0404147\n",
      "[1400]\tvalid_0's l2: 0.0403253\n",
      "[1600]\tvalid_0's l2: 0.0399418\n",
      "[1800]\tvalid_0's l2: 0.0398457\n",
      "[2000]\tvalid_0's l2: 0.0396719\n",
      "[2200]\tvalid_0's l2: 0.0395252\n",
      "[2400]\tvalid_0's l2: 0.0392094\n",
      "[2600]\tvalid_0's l2: 0.0390532\n",
      "[2800]\tvalid_0's l2: 0.0388569\n",
      "[3000]\tvalid_0's l2: 0.0387735\n",
      "[3200]\tvalid_0's l2: 0.038621\n",
      "[3400]\tvalid_0's l2: 0.0385132\n",
      "[3600]\tvalid_0's l2: 0.0383536\n",
      "[3800]\tvalid_0's l2: 0.0382923\n",
      "[4000]\tvalid_0's l2: 0.0382202\n",
      "[4200]\tvalid_0's l2: 0.0380985\n",
      "[4400]\tvalid_0's l2: 0.0380927\n",
      "[4600]\tvalid_0's l2: 0.0380491\n",
      "[4800]\tvalid_0's l2: 0.037944\n",
      "[5000]\tvalid_0's l2: 0.0378325\n",
      "[5200]\tvalid_0's l2: 0.0377704\n",
      "[5400]\tvalid_0's l2: 0.0377035\n",
      "[5600]\tvalid_0's l2: 0.037679\n",
      "[5800]\tvalid_0's l2: 0.03762\n",
      "[6000]\tvalid_0's l2: 0.0376064\n",
      "[6200]\tvalid_0's l2: 0.0376085\n",
      "Early stopping, best iteration is:\n",
      "[5920]\tvalid_0's l2: 0.0375859\n",
      "can_get_feature_importance\n",
      "第4次训练...\n",
      "Training until validation scores don't improve for 300 rounds.\n",
      "[200]\tvalid_0's l2: 0.0323619\n",
      "[400]\tvalid_0's l2: 0.0313882\n",
      "[600]\tvalid_0's l2: 0.0313839\n",
      "Early stopping, best iteration is:\n",
      "[482]\tvalid_0's l2: 0.031171\n",
      "can_get_feature_importance\n",
      "第5次训练...\n",
      "Training until validation scores don't improve for 300 rounds.\n",
      "[200]\tvalid_0's l2: 0.0358047\n",
      "[400]\tvalid_0's l2: 0.0358168\n",
      "Early stopping, best iteration is:\n",
      "[150]\tvalid_0's l2: 0.035478\n",
      "can_get_feature_importance\n",
      "第6次训练...\n",
      "Training until validation scores don't improve for 300 rounds.\n",
      "[200]\tvalid_0's l2: 0.035577\n",
      "[400]\tvalid_0's l2: 0.0326438\n",
      "[600]\tvalid_0's l2: 0.031898\n",
      "[800]\tvalid_0's l2: 0.0321117\n",
      "Early stopping, best iteration is:\n",
      "[583]\tvalid_0's l2: 0.031794\n",
      "can_get_feature_importance\n",
      "第7次训练...\n",
      "Training until validation scores don't improve for 300 rounds.\n",
      "[200]\tvalid_0's l2: 0.0318317\n",
      "[400]\tvalid_0's l2: 0.0313425\n",
      "[600]\tvalid_0's l2: 0.030912\n",
      "[800]\tvalid_0's l2: 0.0300415\n",
      "[1000]\tvalid_0's l2: 0.0298502\n",
      "[1200]\tvalid_0's l2: 0.0303256\n",
      "Early stopping, best iteration is:\n",
      "[984]\tvalid_0's l2: 0.0298127\n",
      "can_get_feature_importance\n",
      "第8次训练...\n",
      "Training until validation scores don't improve for 300 rounds.\n",
      "[200]\tvalid_0's l2: 0.0291369\n",
      "[400]\tvalid_0's l2: 0.0292603\n",
      "[600]\tvalid_0's l2: 0.0288811\n",
      "[800]\tvalid_0's l2: 0.0293678\n",
      "Early stopping, best iteration is:\n",
      "[631]\tvalid_0's l2: 0.0288451\n",
      "can_get_feature_importance\n",
      "第9次训练...\n",
      "Training until validation scores don't improve for 300 rounds.\n",
      "[200]\tvalid_0's l2: 0.0301395\n",
      "[400]\tvalid_0's l2: 0.0294013\n",
      "[600]\tvalid_0's l2: 0.0287273\n",
      "[800]\tvalid_0's l2: 0.0281083\n",
      "[1000]\tvalid_0's l2: 0.0278363\n",
      "[1200]\tvalid_0's l2: 0.0276967\n",
      "[1400]\tvalid_0's l2: 0.0276969\n",
      "[1600]\tvalid_0's l2: 0.027718\n",
      "Early stopping, best iteration is:\n",
      "[1345]\tvalid_0's l2: 0.0276371\n",
      "can_get_feature_importance\n",
      "light_gbm_r_ k fold validation: 0.030203105520367465\n",
      "all_feature: 1228\n"
     ]
    }
   ],
   "source": [
    "predict, cv_indexs, importances = k_fold_regressor(train_data, train_Y, test_data, model_num=RegressorModelFactory.MODEL_LIGHET_GBM, cv=10, important_level=0)"
   ]
  },
  {
   "cell_type": "code",
   "execution_count": 10,
   "metadata": {},
   "outputs": [],
   "source": [
    "test_Y = pd.read_csv('./input/testa_anwser.csv', header=None, names=['id','Y'])"
   ]
  },
  {
   "cell_type": "code",
   "execution_count": 11,
   "metadata": {},
   "outputs": [
    {
     "data": {
      "text/plain": [
       "0.04413975304535926"
      ]
     },
     "execution_count": 11,
     "metadata": {},
     "output_type": "execute_result"
    }
   ],
   "source": [
    "mean_squared_error(test_Y.iloc[:, -1], predict)"
   ]
  },
  {
   "cell_type": "code",
   "execution_count": 12,
   "metadata": {},
   "outputs": [],
   "source": [
    "importances_train = train_data[importances]"
   ]
  },
  {
   "cell_type": "code",
   "execution_count": 13,
   "metadata": {},
   "outputs": [],
   "source": [
    "# from sklearn.decomposition import PCA"
   ]
  },
  {
   "cell_type": "code",
   "execution_count": 14,
   "metadata": {},
   "outputs": [],
   "source": [
    "# estimator = PCA(n_components=5)"
   ]
  },
  {
   "cell_type": "code",
   "execution_count": 15,
   "metadata": {},
   "outputs": [],
   "source": [
    "# data_str_pca = estimator.fit_transform(data_str)"
   ]
  },
  {
   "cell_type": "code",
   "execution_count": 16,
   "metadata": {},
   "outputs": [],
   "source": [
    "# pca_columns = ['tool' + str(index) for index in range(len(data_str_pca[0]))]"
   ]
  },
  {
   "cell_type": "code",
   "execution_count": 17,
   "metadata": {},
   "outputs": [],
   "source": [
    "# data_str_pca = pd.DataFrame(data_str_pca, columns= pca_columns)"
   ]
  },
  {
   "cell_type": "code",
   "execution_count": 18,
   "metadata": {},
   "outputs": [],
   "source": [
    "# importances_train = pd.concat([data_str_pca, importances_train], axis=1)"
   ]
  },
  {
   "cell_type": "code",
   "execution_count": 19,
   "metadata": {},
   "outputs": [
    {
     "data": {
      "text/plain": [
       "(500, 62)"
      ]
     },
     "execution_count": 19,
     "metadata": {},
     "output_type": "execute_result"
    }
   ],
   "source": [
    "importances_train.shape"
   ]
  },
  {
   "cell_type": "code",
   "execution_count": 20,
   "metadata": {},
   "outputs": [],
   "source": [
    "importance_test = test_data.loc[:, importances_train.columns]"
   ]
  },
  {
   "cell_type": "code",
   "execution_count": 21,
   "metadata": {
    "scrolled": false
   },
   "outputs": [
    {
     "name": "stdout",
     "output_type": "stream",
     "text": [
      "开始CV5折训练...\n",
      "第0次训练...\n",
      "Training until validation scores don't improve for 300 rounds.\n",
      "[200]\tvalid_0's l2: 0.0335002\n",
      "[400]\tvalid_0's l2: 0.0299818\n",
      "[600]\tvalid_0's l2: 0.0277927\n",
      "[800]\tvalid_0's l2: 0.0265417\n",
      "[1000]\tvalid_0's l2: 0.0256857\n",
      "[1200]\tvalid_0's l2: 0.0250849\n",
      "[1400]\tvalid_0's l2: 0.0244994\n",
      "[1600]\tvalid_0's l2: 0.0243011\n",
      "[1800]\tvalid_0's l2: 0.0242835\n",
      "[2000]\tvalid_0's l2: 0.0242902\n",
      "[2200]\tvalid_0's l2: 0.0242534\n",
      "[2400]\tvalid_0's l2: 0.0242208\n",
      "[2600]\tvalid_0's l2: 0.0242269\n",
      "[2800]\tvalid_0's l2: 0.0241958\n",
      "[3000]\tvalid_0's l2: 0.0241856\n",
      "[3200]\tvalid_0's l2: 0.0241939\n",
      "[3400]\tvalid_0's l2: 0.0241122\n",
      "[3600]\tvalid_0's l2: 0.0240359\n",
      "[3800]\tvalid_0's l2: 0.0239687\n",
      "[4000]\tvalid_0's l2: 0.0239818\n",
      "[4200]\tvalid_0's l2: 0.0239626\n",
      "[4400]\tvalid_0's l2: 0.0239871\n",
      "Early stopping, best iteration is:\n",
      "[4106]\tvalid_0's l2: 0.0239509\n",
      "can_get_feature_importance\n",
      "第1次训练...\n",
      "Training until validation scores don't improve for 300 rounds.\n",
      "[200]\tvalid_0's l2: 0.0344135\n",
      "[400]\tvalid_0's l2: 0.0316186\n",
      "[600]\tvalid_0's l2: 0.0291851\n",
      "[800]\tvalid_0's l2: 0.0275377\n",
      "[1000]\tvalid_0's l2: 0.0268794\n",
      "[1200]\tvalid_0's l2: 0.0264876\n",
      "[1400]\tvalid_0's l2: 0.0263018\n",
      "[1600]\tvalid_0's l2: 0.0262971\n",
      "Early stopping, best iteration is:\n",
      "[1455]\tvalid_0's l2: 0.0262562\n",
      "can_get_feature_importance\n",
      "第2次训练...\n",
      "Training until validation scores don't improve for 300 rounds.\n",
      "[200]\tvalid_0's l2: 0.033675\n",
      "[400]\tvalid_0's l2: 0.0324212\n",
      "[600]\tvalid_0's l2: 0.0314501\n",
      "[800]\tvalid_0's l2: 0.0300672\n",
      "[1000]\tvalid_0's l2: 0.0291519\n",
      "[1200]\tvalid_0's l2: 0.0284693\n",
      "[1400]\tvalid_0's l2: 0.0281459\n",
      "[1600]\tvalid_0's l2: 0.0279952\n",
      "[1800]\tvalid_0's l2: 0.0280989\n",
      "Early stopping, best iteration is:\n",
      "[1611]\tvalid_0's l2: 0.027987\n",
      "can_get_feature_importance\n",
      "第3次训练...\n",
      "Training until validation scores don't improve for 300 rounds.\n",
      "[200]\tvalid_0's l2: 0.0335235\n",
      "[400]\tvalid_0's l2: 0.0304442\n",
      "[600]\tvalid_0's l2: 0.0285021\n",
      "[800]\tvalid_0's l2: 0.027502\n",
      "[1000]\tvalid_0's l2: 0.0268621\n",
      "[1200]\tvalid_0's l2: 0.0264995\n",
      "[1400]\tvalid_0's l2: 0.0263172\n",
      "[1600]\tvalid_0's l2: 0.0263491\n",
      "Early stopping, best iteration is:\n",
      "[1482]\tvalid_0's l2: 0.0262759\n",
      "can_get_feature_importance\n",
      "第4次训练...\n",
      "Training until validation scores don't improve for 300 rounds.\n",
      "[200]\tvalid_0's l2: 0.0283417\n",
      "[400]\tvalid_0's l2: 0.0263365\n",
      "[600]\tvalid_0's l2: 0.024929\n",
      "[800]\tvalid_0's l2: 0.0238896\n",
      "[1000]\tvalid_0's l2: 0.0231852\n",
      "[1200]\tvalid_0's l2: 0.022649\n",
      "[1400]\tvalid_0's l2: 0.0219688\n",
      "[1600]\tvalid_0's l2: 0.0216629\n",
      "[1800]\tvalid_0's l2: 0.0215231\n",
      "[2000]\tvalid_0's l2: 0.0213828\n",
      "[2200]\tvalid_0's l2: 0.0212738\n",
      "[2400]\tvalid_0's l2: 0.021209\n",
      "[2600]\tvalid_0's l2: 0.021078\n",
      "[2800]\tvalid_0's l2: 0.020911\n",
      "[3000]\tvalid_0's l2: 0.0207859\n",
      "[3200]\tvalid_0's l2: 0.0208267\n",
      "Early stopping, best iteration is:\n",
      "[3024]\tvalid_0's l2: 0.0207667\n",
      "can_get_feature_importance\n",
      "light_gbm_r_ k fold validation: 0.025047339441728714\n",
      "all_feature: 61\n"
     ]
    }
   ],
   "source": [
    "predict, cv_indexs, importances2 =k_fold_regressor(importances_train, train_Y, importance_test, model_num=RegressorModelFactory.MODEL_LIGHET_GBM, cv=5)"
   ]
  },
  {
   "cell_type": "code",
   "execution_count": 22,
   "metadata": {},
   "outputs": [
    {
     "data": {
      "text/plain": [
       "0.04739967775574731"
      ]
     },
     "execution_count": 22,
     "metadata": {},
     "output_type": "execute_result"
    }
   ],
   "source": [
    "mean_squared_error(test_Y.iloc[:, -1], predict)"
   ]
  },
  {
   "cell_type": "code",
   "execution_count": null,
   "metadata": {},
   "outputs": [],
   "source": []
  },
  {
   "cell_type": "code",
   "execution_count": 23,
   "metadata": {},
   "outputs": [],
   "source": [
    "rmf = RegressorModelFactory()"
   ]
  },
  {
   "cell_type": "code",
   "execution_count": 24,
   "metadata": {},
   "outputs": [],
   "source": [
    "lgm = rmf.create_model(RegressorModelFactory.MODEL_LIGHET_GBM)"
   ]
  },
  {
   "cell_type": "code",
   "execution_count": 29,
   "metadata": {},
   "outputs": [
    {
     "name": "stdout",
     "output_type": "stream",
     "text": [
      "Training until validation scores don't improve for 300 rounds.\n",
      "[200]\tvalid_0's l2: 0.0451235\n",
      "[400]\tvalid_0's l2: 0.0442171\n",
      "[600]\tvalid_0's l2: 0.0446766\n",
      "Early stopping, best iteration is:\n",
      "[379]\tvalid_0's l2: 0.0441442\n"
     ]
    }
   ],
   "source": [
    "lgm.fit(data_num, test.loc[:, data_num.columns], train_Y, test_Y.iloc[:, -1])"
   ]
  },
  {
   "cell_type": "code",
   "execution_count": 26,
   "metadata": {},
   "outputs": [],
   "source": [
    "pred = lgm.predict(importance_test)"
   ]
  },
  {
   "cell_type": "code",
   "execution_count": 27,
   "metadata": {},
   "outputs": [
    {
     "data": {
      "text/plain": [
       "0.04423398902215204"
      ]
     },
     "execution_count": 27,
     "metadata": {},
     "output_type": "execute_result"
    }
   ],
   "source": [
    "mean_squared_error(test_Y.iloc[:, -1], pred)"
   ]
  },
  {
   "cell_type": "code",
   "execution_count": 17,
   "metadata": {},
   "outputs": [],
   "source": [
    "importance = lgm.feature_importance()"
   ]
  },
  {
   "cell_type": "code",
   "execution_count": 18,
   "metadata": {},
   "outputs": [],
   "source": [
    "importance = importance[importance > 2]"
   ]
  },
  {
   "cell_type": "code",
   "execution_count": 27,
   "metadata": {},
   "outputs": [],
   "source": [
    "X_train = X_train[importance.index]\n",
    "X_valid = X_valid[importance.index]"
   ]
  },
  {
   "cell_type": "code",
   "execution_count": 28,
   "metadata": {},
   "outputs": [
    {
     "data": {
      "text/plain": [
       "(400, 141)"
      ]
     },
     "execution_count": 28,
     "metadata": {},
     "output_type": "execute_result"
    }
   ],
   "source": [
    "X_train.shape"
   ]
  },
  {
   "cell_type": "code",
   "execution_count": 27,
   "metadata": {},
   "outputs": [
    {
     "data": {
      "text/plain": [
       "330X386      3\n",
       "261X385      3\n",
       "261X288      3\n",
       "311X111      3\n",
       "312X421      3\n",
       "310X152      3\n",
       "312X424      3\n",
       "312X523      3\n",
       "440AX108     3\n",
       "520X259      3\n",
       "330X1289     3\n",
       "330X986      3\n",
       "520X267      3\n",
       "261X627      3\n",
       "330X516      3\n",
       "210X176      3\n",
       "750X379      3\n",
       "750X748      3\n",
       "330X228      3\n",
       "330X224      3\n",
       "210X150      3\n",
       "520X381      3\n",
       "750X620      3\n",
       "750X623      3\n",
       "210X40       3\n",
       "312X788      4\n",
       "344X31       4\n",
       "210X10       4\n",
       "311X11       4\n",
       "420X97       4\n",
       "            ..\n",
       "520X412     14\n",
       "520X404     16\n",
       "520X380     17\n",
       "330X1146    17\n",
       "312X776     18\n",
       "330X189     18\n",
       "312X778     18\n",
       "440AX174    20\n",
       "220X32      21\n",
       "312X782     22\n",
       "750X368     22\n",
       "520X263     22\n",
       "330X788     23\n",
       "310X9       23\n",
       "210X230     24\n",
       "520X261     24\n",
       "261X387     25\n",
       "210X52      26\n",
       "220X218     27\n",
       "344X291     28\n",
       "312X785     28\n",
       "420X217     31\n",
       "310X148     33\n",
       "340X139     34\n",
       "210X158     40\n",
       "210X6       41\n",
       "344X371     48\n",
       "311X8       48\n",
       "310X33      52\n",
       "210X12      64\n",
       "Name: importance, Length: 125, dtype: int64"
      ]
     },
     "execution_count": 27,
     "metadata": {},
     "output_type": "execute_result"
    }
   ],
   "source": [
    "importance.sort_values()"
   ]
  },
  {
   "cell_type": "code",
   "execution_count": 25,
   "metadata": {},
   "outputs": [
    {
     "name": "stdout",
     "output_type": "stream",
     "text": [
      "210X6\n",
      "210X10\n",
      "210X12\n",
      "210X36\n",
      "210X40\n",
      "210X42\n",
      "210X52\n",
      "210X150\n",
      "210X154\n",
      "210X158\n",
      "210X164\n",
      "210X176\n",
      "210X207\n",
      "210X219\n",
      "210X230\n",
      "220X31\n",
      "220X32\n",
      "220X166\n",
      "220X218\n",
      "220X346\n",
      "220X440\n",
      "220X457\n",
      "310X9\n",
      "310X33\n",
      "310X43\n",
      "310X96\n",
      "310X147\n",
      "310X148\n",
      "310X152\n",
      "310X153\n",
      "310X200\n",
      "311X8\n",
      "311X11\n",
      "311X111\n",
      "261X239\n",
      "261X288\n",
      "261X385\n",
      "261X387\n",
      "261X621\n",
      "261X627\n",
      "312X239\n",
      "312X261\n",
      "312X421\n",
      "312X424\n",
      "312X523\n",
      "312X525\n",
      "312X693\n",
      "312X776\n",
      "312X778\n",
      "312X782\n",
      "312X785\n",
      "312X788\n",
      "330X165\n",
      "330X166\n",
      "330X189\n",
      "330X218\n",
      "330X219\n",
      "330X224\n",
      "330X228\n",
      "330X238\n",
      "330X384\n",
      "330X385\n",
      "330X386\n",
      "330X516\n",
      "330X626\n",
      "330X788\n",
      "330X878\n",
      "330X932\n",
      "330X946\n",
      "330X955\n",
      "330X972\n",
      "330X986\n",
      "330X1129\n",
      "330X1146\n",
      "330X1150\n",
      "330X1289\n",
      "340X138\n",
      "340X139\n",
      "344X31\n",
      "344X177\n",
      "344X213\n",
      "344X291\n",
      "344X350\n",
      "344X371\n",
      "344X380\n",
      "420X14\n",
      "420X97\n",
      "420X196\n",
      "420X217\n",
      "440AX51\n",
      "440AX77\n",
      "440AX87\n",
      "440AX108\n",
      "440AX140\n",
      "440AX147\n",
      "440AX160\n",
      "440AX174\n",
      "440AX202\n",
      "520X234\n",
      "520X259\n",
      "520X260\n",
      "520X261\n",
      "520X262\n",
      "520X263\n",
      "520X264\n",
      "520X267\n",
      "520X289\n",
      "520X380\n",
      "520X381\n",
      "520X404\n",
      "520X412\n",
      "750X368\n",
      "750X378\n",
      "750X379\n",
      "750X435\n",
      "750X582\n",
      "750X592\n",
      "750X620\n",
      "750X623\n",
      "750X628\n",
      "750X644\n",
      "750X745\n",
      "750X748\n",
      "750X778\n",
      "750X971\n"
     ]
    }
   ],
   "source": [
    "for index in importance.index:\n",
    "    print(index)"
   ]
  },
  {
   "cell_type": "code",
   "execution_count": null,
   "metadata": {},
   "outputs": [],
   "source": []
  }
 ],
 "metadata": {
  "kernelspec": {
   "display_name": "Python 3",
   "language": "python",
   "name": "python3"
  },
  "language_info": {
   "codemirror_mode": {
    "name": "ipython",
    "version": 3
   },
   "file_extension": ".py",
   "mimetype": "text/x-python",
   "name": "python",
   "nbconvert_exporter": "python",
   "pygments_lexer": "ipython3",
   "version": "3.5.2"
  }
 },
 "nbformat": 4,
 "nbformat_minor": 2
}
