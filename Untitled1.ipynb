{
 "cells": [
  {
   "cell_type": "code",
   "execution_count": 1,
   "metadata": {},
   "outputs": [],
   "source": [
    "import pandas as pd\n",
    "import numpy as np\n",
    "import lightgbm as lgm\n",
    "%matplotlib inline\n",
    "import matplotlib.pyplot as plt"
   ]
  },
  {
   "cell_type": "markdown",
   "metadata": {},
   "source": [
    "### 读取训练数据"
   ]
  },
  {
   "cell_type": "code",
   "execution_count": 2,
   "metadata": {},
   "outputs": [],
   "source": [
    "# train = pd.read_excel('./train.xlsx')\n",
    "# testa = pd.read_excel('./testa.xlsx')\n",
    "# testb = pd.read_excel('./testb.xlsx')"
   ]
  },
  {
   "cell_type": "code",
   "execution_count": 3,
   "metadata": {},
   "outputs": [],
   "source": [
    "train = pd.read_csv('./input/train.csv')\n",
    "testa = pd.read_csv('./input/testa.csv')\n",
    "testb = pd.read_csv('./input/testb.csv')"
   ]
  },
  {
   "cell_type": "code",
   "execution_count": 4,
   "metadata": {},
   "outputs": [
    {
     "data": {
      "text/html": [
       "<div>\n",
       "<style scoped>\n",
       "    .dataframe tbody tr th:only-of-type {\n",
       "        vertical-align: middle;\n",
       "    }\n",
       "\n",
       "    .dataframe tbody tr th {\n",
       "        vertical-align: top;\n",
       "    }\n",
       "\n",
       "    .dataframe thead th {\n",
       "        text-align: right;\n",
       "    }\n",
       "</style>\n",
       "<table border=\"1\" class=\"dataframe\">\n",
       "  <thead>\n",
       "    <tr style=\"text-align: right;\">\n",
       "      <th></th>\n",
       "      <th>ID</th>\n",
       "      <th>TOOL_ID</th>\n",
       "      <th>210X1</th>\n",
       "      <th>210X2</th>\n",
       "      <th>210X3</th>\n",
       "      <th>210X4</th>\n",
       "      <th>210X5</th>\n",
       "      <th>210X6</th>\n",
       "      <th>210X7</th>\n",
       "      <th>210X8</th>\n",
       "      <th>...</th>\n",
       "      <th>750X1444</th>\n",
       "      <th>750X1445</th>\n",
       "      <th>750X1446</th>\n",
       "      <th>750X1447</th>\n",
       "      <th>750X1448</th>\n",
       "      <th>750X1449</th>\n",
       "      <th>750X1450</th>\n",
       "      <th>750X1451</th>\n",
       "      <th>750X1452</th>\n",
       "      <th>Y</th>\n",
       "    </tr>\n",
       "  </thead>\n",
       "  <tbody>\n",
       "    <tr>\n",
       "      <th>0</th>\n",
       "      <td>ID001</td>\n",
       "      <td>N</td>\n",
       "      <td>102.05</td>\n",
       "      <td>0.465</td>\n",
       "      <td>0.27</td>\n",
       "      <td>1.430</td>\n",
       "      <td>67.45</td>\n",
       "      <td>4.620</td>\n",
       "      <td>-0.54</td>\n",
       "      <td>-1.05</td>\n",
       "      <td>...</td>\n",
       "      <td>0.00072</td>\n",
       "      <td>0.00072</td>\n",
       "      <td>25.7</td>\n",
       "      <td>0.00072</td>\n",
       "      <td>0.00072</td>\n",
       "      <td>25.7</td>\n",
       "      <td>0.00072</td>\n",
       "      <td>0.00072</td>\n",
       "      <td>2.400000e+12</td>\n",
       "      <td>2.945079</td>\n",
       "    </tr>\n",
       "    <tr>\n",
       "      <th>1</th>\n",
       "      <td>ID002</td>\n",
       "      <td>M</td>\n",
       "      <td>100.95</td>\n",
       "      <td>0.805</td>\n",
       "      <td>0.22</td>\n",
       "      <td>3.477</td>\n",
       "      <td>62.08</td>\n",
       "      <td>3.412</td>\n",
       "      <td>-2.12</td>\n",
       "      <td>1.02</td>\n",
       "      <td>...</td>\n",
       "      <td>0.00072</td>\n",
       "      <td>0.00072</td>\n",
       "      <td>25.5</td>\n",
       "      <td>0.00072</td>\n",
       "      <td>0.00072</td>\n",
       "      <td>25.5</td>\n",
       "      <td>0.00072</td>\n",
       "      <td>0.00072</td>\n",
       "      <td>2.400000e+12</td>\n",
       "      <td>2.955092</td>\n",
       "    </tr>\n",
       "    <tr>\n",
       "      <th>2</th>\n",
       "      <td>ID003</td>\n",
       "      <td>L</td>\n",
       "      <td>98.56</td>\n",
       "      <td>0.555</td>\n",
       "      <td>0.24</td>\n",
       "      <td>1.172</td>\n",
       "      <td>56.70</td>\n",
       "      <td>3.080</td>\n",
       "      <td>-2.25</td>\n",
       "      <td>0.88</td>\n",
       "      <td>...</td>\n",
       "      <td>0.00064</td>\n",
       "      <td>0.00064</td>\n",
       "      <td>25.2</td>\n",
       "      <td>0.00064</td>\n",
       "      <td>0.00064</td>\n",
       "      <td>25.2</td>\n",
       "      <td>0.00064</td>\n",
       "      <td>0.00064</td>\n",
       "      <td>2.400000e+12</td>\n",
       "      <td>2.741264</td>\n",
       "    </tr>\n",
       "    <tr>\n",
       "      <th>3</th>\n",
       "      <td>ID004</td>\n",
       "      <td>M</td>\n",
       "      <td>100.35</td>\n",
       "      <td>0.901</td>\n",
       "      <td>0.22</td>\n",
       "      <td>3.631</td>\n",
       "      <td>62.25</td>\n",
       "      <td>3.949</td>\n",
       "      <td>-1.98</td>\n",
       "      <td>0.82</td>\n",
       "      <td>...</td>\n",
       "      <td>0.00072</td>\n",
       "      <td>0.00072</td>\n",
       "      <td>26.4</td>\n",
       "      <td>0.00072</td>\n",
       "      <td>0.00072</td>\n",
       "      <td>26.4</td>\n",
       "      <td>0.00072</td>\n",
       "      <td>0.00072</td>\n",
       "      <td>2.400000e+12</td>\n",
       "      <td>2.799336</td>\n",
       "    </tr>\n",
       "    <tr>\n",
       "      <th>4</th>\n",
       "      <td>ID005</td>\n",
       "      <td>M</td>\n",
       "      <td>100.25</td>\n",
       "      <td>0.854</td>\n",
       "      <td>0.23</td>\n",
       "      <td>3.429</td>\n",
       "      <td>61.42</td>\n",
       "      <td>3.630</td>\n",
       "      <td>-1.89</td>\n",
       "      <td>1.02</td>\n",
       "      <td>...</td>\n",
       "      <td>0.00072</td>\n",
       "      <td>0.00072</td>\n",
       "      <td>26.4</td>\n",
       "      <td>0.00072</td>\n",
       "      <td>0.00072</td>\n",
       "      <td>26.4</td>\n",
       "      <td>0.00072</td>\n",
       "      <td>0.00072</td>\n",
       "      <td>2.400000e+12</td>\n",
       "      <td>2.692093</td>\n",
       "    </tr>\n",
       "  </tbody>\n",
       "</table>\n",
       "<p>5 rows × 8029 columns</p>\n",
       "</div>"
      ],
      "text/plain": [
       "      ID TOOL_ID   210X1  210X2  210X3  210X4  210X5  210X6  210X7  210X8  \\\n",
       "0  ID001       N  102.05  0.465   0.27  1.430  67.45  4.620  -0.54  -1.05   \n",
       "1  ID002       M  100.95  0.805   0.22  3.477  62.08  3.412  -2.12   1.02   \n",
       "2  ID003       L   98.56  0.555   0.24  1.172  56.70  3.080  -2.25   0.88   \n",
       "3  ID004       M  100.35  0.901   0.22  3.631  62.25  3.949  -1.98   0.82   \n",
       "4  ID005       M  100.25  0.854   0.23  3.429  61.42  3.630  -1.89   1.02   \n",
       "\n",
       "     ...     750X1444  750X1445  750X1446  750X1447  750X1448  750X1449  \\\n",
       "0    ...      0.00072   0.00072      25.7   0.00072   0.00072      25.7   \n",
       "1    ...      0.00072   0.00072      25.5   0.00072   0.00072      25.5   \n",
       "2    ...      0.00064   0.00064      25.2   0.00064   0.00064      25.2   \n",
       "3    ...      0.00072   0.00072      26.4   0.00072   0.00072      26.4   \n",
       "4    ...      0.00072   0.00072      26.4   0.00072   0.00072      26.4   \n",
       "\n",
       "   750X1450  750X1451      750X1452         Y  \n",
       "0   0.00072   0.00072  2.400000e+12  2.945079  \n",
       "1   0.00072   0.00072  2.400000e+12  2.955092  \n",
       "2   0.00064   0.00064  2.400000e+12  2.741264  \n",
       "3   0.00072   0.00072  2.400000e+12  2.799336  \n",
       "4   0.00072   0.00072  2.400000e+12  2.692093  \n",
       "\n",
       "[5 rows x 8029 columns]"
      ]
     },
     "execution_count": 4,
     "metadata": {},
     "output_type": "execute_result"
    }
   ],
   "source": [
    "train.head()"
   ]
  },
  {
   "cell_type": "code",
   "execution_count": 5,
   "metadata": {},
   "outputs": [],
   "source": [
    "train_y_series = train.Y"
   ]
  },
  {
   "cell_type": "code",
   "execution_count": 6,
   "metadata": {},
   "outputs": [
    {
     "data": {
      "image/png": "[encoded data removed]",
      "text/plain": [
       "<matplotlib.figure.Figure at 0x7f5893dea4a8>"
      ]
     },
     "metadata": {},
     "output_type": "display_data"
    }
   ],
   "source": [
    "x = range(len(train_y_series))\n",
    "plt.plot(x, train_y_series.sort_values().values, 'r-*', label='y_train')\n",
    "plt.show()"
   ]
  },
  {
   "cell_type": "markdown",
   "metadata": {},
   "source": [
    "#### 去除ID"
   ]
  },
  {
   "cell_type": "code",
   "execution_count": 7,
   "metadata": {},
   "outputs": [],
   "source": [
    "train_X = train.iloc[:,1:-1]\n",
    "train_Y = train.Y\n",
    "X_a = testa.iloc[:,1:]\n",
    "X_b = testb.iloc[:,1:]"
   ]
  },
  {
   "cell_type": "code",
   "execution_count": 8,
   "metadata": {},
   "outputs": [],
   "source": [
    "train_id = train.ID\n",
    "a_id = testa.ID\n",
    "b_id = testa.ID"
   ]
  },
  {
   "cell_type": "code",
   "execution_count": 9,
   "metadata": {},
   "outputs": [
    {
     "data": {
      "text/plain": [
       "(500, 8027)"
      ]
     },
     "execution_count": 9,
     "metadata": {},
     "output_type": "execute_result"
    }
   ],
   "source": [
    "train_X.shape"
   ]
  },
  {
   "cell_type": "code",
   "execution_count": 10,
   "metadata": {},
   "outputs": [
    {
     "data": {
      "text/plain": [
       "(100, 8027)"
      ]
     },
     "execution_count": 10,
     "metadata": {},
     "output_type": "execute_result"
    }
   ],
   "source": [
    "X_a.shape"
   ]
  },
  {
   "cell_type": "code",
   "execution_count": 11,
   "metadata": {},
   "outputs": [
    {
     "data": {
      "text/plain": [
       "(121, 8027)"
      ]
     },
     "execution_count": 11,
     "metadata": {},
     "output_type": "execute_result"
    }
   ],
   "source": [
    "X_b.shape"
   ]
  },
  {
   "cell_type": "code",
   "execution_count": 12,
   "metadata": {},
   "outputs": [
    {
     "data": {
      "text/plain": [
       "500"
      ]
     },
     "execution_count": 12,
     "metadata": {},
     "output_type": "execute_result"
    }
   ],
   "source": [
    "len(train_X)"
   ]
  },
  {
   "cell_type": "markdown",
   "metadata": {},
   "source": [
    "#### 去除时间特征"
   ]
  },
  {
   "cell_type": "code",
   "execution_count": 13,
   "metadata": {},
   "outputs": [],
   "source": [
    "def is_prefix2017(num):\n",
    "    str_num = str(num)\n",
    "    return str_num.startswith('2017')"
   ]
  },
  {
   "cell_type": "code",
   "execution_count": 14,
   "metadata": {},
   "outputs": [],
   "source": [
    "def get_date_columns(data):\n",
    "    columns = data.iloc[0, :].index\n",
    "    date_column = []\n",
    "    for row_index in range(len(data)):\n",
    "        item = data.iloc[row_index]\n",
    "        for index in range(len(item)):\n",
    "            if type(item[index]) == np.int64 and is_prefix2017(item[index]):\n",
    "                date_column.append(columns[index])\n",
    "    return date_column"
   ]
  },
  {
   "cell_type": "code",
   "execution_count": 15,
   "metadata": {},
   "outputs": [],
   "source": [
    "train_date_columns = get_date_columns(train)"
   ]
  },
  {
   "cell_type": "code",
   "execution_count": 16,
   "metadata": {},
   "outputs": [],
   "source": [
    "testa_date_columns = get_date_columns(X_a)"
   ]
  },
  {
   "cell_type": "code",
   "execution_count": 17,
   "metadata": {},
   "outputs": [],
   "source": [
    "testb_date_columns = get_date_columns(X_b)"
   ]
  },
  {
   "cell_type": "code",
   "execution_count": 18,
   "metadata": {},
   "outputs": [],
   "source": [
    "def mix_date_columns(train_date_columns, testa_date_columns, testb_date_columns):\n",
    "    date_columns = []\n",
    "    for item in train_date_columns:\n",
    "        if item not in date_columns:\n",
    "            date_columns.append(item)\n",
    "    for item in testa_date_columns:\n",
    "        if item not in date_columns:\n",
    "            date_columns.append(item)\n",
    "    for item in testb_date_columns:\n",
    "        if item not in date_columns:\n",
    "            date_columns.append(item)\n",
    "    return date_columns"
   ]
  },
  {
   "cell_type": "code",
   "execution_count": 19,
   "metadata": {},
   "outputs": [],
   "source": [
    "date_columns = mix_date_columns(train_date_columns, testa_date_columns, testb_date_columns)"
   ]
  },
  {
   "cell_type": "code",
   "execution_count": 20,
   "metadata": {},
   "outputs": [],
   "source": [
    "train_X = train_X.drop(date_columns, axis=1)"
   ]
  },
  {
   "cell_type": "code",
   "execution_count": 21,
   "metadata": {},
   "outputs": [],
   "source": [
    "X_a = X_a.drop(date_columns, axis=1)"
   ]
  },
  {
   "cell_type": "code",
   "execution_count": 22,
   "metadata": {},
   "outputs": [],
   "source": [
    "X_b = X_b.drop(date_columns, axis=1)"
   ]
  },
  {
   "cell_type": "code",
   "execution_count": 23,
   "metadata": {},
   "outputs": [
    {
     "data": {
      "text/plain": [
       "(500, 7927)"
      ]
     },
     "execution_count": 23,
     "metadata": {},
     "output_type": "execute_result"
    }
   ],
   "source": [
    "train_X.shape"
   ]
  },
  {
   "cell_type": "code",
   "execution_count": 24,
   "metadata": {},
   "outputs": [
    {
     "data": {
      "text/plain": [
       "(100, 7927)"
      ]
     },
     "execution_count": 24,
     "metadata": {},
     "output_type": "execute_result"
    }
   ],
   "source": [
    "X_a.shape"
   ]
  },
  {
   "cell_type": "code",
   "execution_count": 25,
   "metadata": {},
   "outputs": [
    {
     "data": {
      "text/plain": [
       "(121, 7927)"
      ]
     },
     "execution_count": 25,
     "metadata": {},
     "output_type": "execute_result"
    }
   ],
   "source": [
    "X_b.shape"
   ]
  },
  {
   "cell_type": "code",
   "execution_count": null,
   "metadata": {},
   "outputs": [],
   "source": []
  },
  {
   "cell_type": "code",
   "execution_count": null,
   "metadata": {},
   "outputs": [],
   "source": []
  },
  {
   "cell_type": "markdown",
   "metadata": {},
   "source": [
    "#### 字符特征 和 数字特征 分离"
   ]
  },
  {
   "cell_type": "code",
   "execution_count": 26,
   "metadata": {},
   "outputs": [],
   "source": [
    "def get_str_columns(date):\n",
    "    str_columns = []\n",
    "    for item in date.columns:\n",
    "        if item.startswith(\"T\") or item.startswith(\"t\"):\n",
    "            str_columns.append(item)\n",
    "    return str_columns"
   ]
  },
  {
   "cell_type": "code",
   "execution_count": 27,
   "metadata": {},
   "outputs": [],
   "source": [
    "str_columns = get_str_columns(train_X)"
   ]
  },
  {
   "cell_type": "code",
   "execution_count": 28,
   "metadata": {},
   "outputs": [],
   "source": [
    "def num_to_str(data):\n",
    "    columns = data.columns\n",
    "    for item in columns:\n",
    "        data[item] = data[item].apply(lambda x: str(x) + \"T\")\n",
    "    return data"
   ]
  },
  {
   "cell_type": "code",
   "execution_count": 29,
   "metadata": {},
   "outputs": [],
   "source": [
    "train_X_str = train_X.loc[:,str_columns]\n",
    "testa_X_str = X_a.loc[:,str_columns]\n",
    "testb_x_str = X_b.loc[:, str_columns]"
   ]
  },
  {
   "cell_type": "code",
   "execution_count": 30,
   "metadata": {},
   "outputs": [],
   "source": [
    "def num_to_str(data):\n",
    "    columns = data.columns\n",
    "    for item in columns:\n",
    "        data[item] = data[item].apply(lambda x: str(x) + \"T\")\n",
    "    return data"
   ]
  },
  {
   "cell_type": "code",
   "execution_count": 31,
   "metadata": {},
   "outputs": [],
   "source": [
    "train_X_str = num_to_str(train_X_str)\n",
    "testa_X_str = num_to_str(testa_X_str)\n",
    "testb_x_str = num_to_str(testb_x_str)"
   ]
  },
  {
   "cell_type": "code",
   "execution_count": null,
   "metadata": {},
   "outputs": [],
   "source": []
  },
  {
   "cell_type": "code",
   "execution_count": 32,
   "metadata": {},
   "outputs": [],
   "source": [
    "train_X_num = train_X.drop(str_columns, axis=1)\n",
    "testa_X_num = X_a.drop(str_columns, axis=1)\n",
    "testb_X_num = X_b.drop(str_columns, axis=1)"
   ]
  },
  {
   "cell_type": "code",
   "execution_count": 33,
   "metadata": {},
   "outputs": [
    {
     "data": {
      "text/plain": [
       "(500, 7914)"
      ]
     },
     "execution_count": 33,
     "metadata": {},
     "output_type": "execute_result"
    }
   ],
   "source": [
    "train_X_num.shape"
   ]
  },
  {
   "cell_type": "code",
   "execution_count": 34,
   "metadata": {},
   "outputs": [
    {
     "data": {
      "text/plain": [
       "(100, 7914)"
      ]
     },
     "execution_count": 34,
     "metadata": {},
     "output_type": "execute_result"
    }
   ],
   "source": [
    "testa_X_num.shape"
   ]
  },
  {
   "cell_type": "code",
   "execution_count": 35,
   "metadata": {},
   "outputs": [
    {
     "data": {
      "text/plain": [
       "(121, 7914)"
      ]
     },
     "execution_count": 35,
     "metadata": {},
     "output_type": "execute_result"
    }
   ],
   "source": [
    "testb_X_num.shape"
   ]
  },
  {
   "cell_type": "markdown",
   "metadata": {},
   "source": [
    "#### 特征向量化"
   ]
  },
  {
   "cell_type": "code",
   "execution_count": 36,
   "metadata": {},
   "outputs": [],
   "source": [
    "train_X_str = pd.get_dummies(train_X_str)\n",
    "testa_X_str = pd.get_dummies(testa_X_str)\n",
    "testb_x_str = pd.get_dummies(testb_x_str)"
   ]
  },
  {
   "cell_type": "code",
   "execution_count": null,
   "metadata": {},
   "outputs": [],
   "source": []
  },
  {
   "cell_type": "code",
   "execution_count": 37,
   "metadata": {},
   "outputs": [
    {
     "data": {
      "text/plain": [
       "(500, 56)"
      ]
     },
     "execution_count": 37,
     "metadata": {},
     "output_type": "execute_result"
    }
   ],
   "source": [
    "train_X_str.shape"
   ]
  },
  {
   "cell_type": "code",
   "execution_count": 38,
   "metadata": {},
   "outputs": [
    {
     "data": {
      "text/plain": [
       "(100, 54)"
      ]
     },
     "execution_count": 38,
     "metadata": {},
     "output_type": "execute_result"
    }
   ],
   "source": [
    "testa_X_str.shape"
   ]
  },
  {
   "cell_type": "code",
   "execution_count": 39,
   "metadata": {},
   "outputs": [
    {
     "data": {
      "text/plain": [
       "(121, 56)"
      ]
     },
     "execution_count": 39,
     "metadata": {},
     "output_type": "execute_result"
    }
   ],
   "source": [
    "testb_x_str.shape"
   ]
  },
  {
   "cell_type": "code",
   "execution_count": 40,
   "metadata": {},
   "outputs": [
    {
     "data": {
      "text/plain": [
       "Index(['TOOL_ID_JT', 'TOOL_ID_KT', 'TOOL_ID_LT', 'TOOL_ID_MT', 'TOOL_ID_NT',\n",
       "       'TOOL_ID_OT', 'Tool_AT', 'Tool_BT', 'TOOL_ID (#1)_ET',\n",
       "       'TOOL_ID (#1)_NT', 'TOOL_ID (#2)_CT', 'TOOL_ID (#2)_DT',\n",
       "       'TOOL_ID (#2)_ET', 'TOOL_ID (#3)_E0T', 'TOOL_ID (#3)_N0T',\n",
       "       'Tool (#1)_1018T', 'Tool (#1)_1110T', 'Tool (#1)_1113T',\n",
       "       'Tool (#1)_1245T', 'Tool (#1)_215T', 'Tool (#1)_2823T',\n",
       "       'Tool (#1)_329T', 'Tool (#1)_530T', 'Tool (#2)_AT', 'Tool (#2)_BT',\n",
       "       'Tool (#2)_CT', 'tool_2409T', 'tool_3009T', 'tool_4106T', 'tool_4147T',\n",
       "       'tool (#1)_PT', 'tool (#1)_QT', 'tool (#1)_RT', 'tool (#1)_ST',\n",
       "       'tool (#1)_TT', 'tool (#1)_UT', 'tool (#1)_VT', 'tool (#1)_WT',\n",
       "       'tool (#1)_XT', 'TOOL_BT', 'TOOL_CT', 'TOOL_DT', 'TOOL (#1)_XY1T',\n",
       "       'TOOL (#1)_YX1T', 'Tool (#3)_10T', 'Tool (#3)_11T', 'Tool (#3)_12T',\n",
       "       'Tool (#3)_13T', 'Tool (#3)_14T', 'Tool (#3)_15T', 'Tool (#3)_6T',\n",
       "       'Tool (#3)_7T', 'Tool (#3)_8T', 'Tool (#3)_9T', 'TOOL (#2)_AT',\n",
       "       'TOOL (#2)_BT'],\n",
       "      dtype='object')"
      ]
     },
     "execution_count": 40,
     "metadata": {},
     "output_type": "execute_result"
    }
   ],
   "source": [
    "train_X_str.columns"
   ]
  },
  {
   "cell_type": "code",
   "execution_count": 41,
   "metadata": {},
   "outputs": [
    {
     "data": {
      "text/plain": [
       "Index(['TOOL_ID_JT', 'TOOL_ID_KT', 'TOOL_ID_LT', 'TOOL_ID_MT', 'TOOL_ID_NT',\n",
       "       'TOOL_ID_OT', 'Tool_AT', 'Tool_BT', 'TOOL_ID (#1)_ET',\n",
       "       'TOOL_ID (#1)_NT', 'TOOL_ID (#2)_CT', 'TOOL_ID (#2)_DT',\n",
       "       'TOOL_ID (#3)_E0T', 'TOOL_ID (#3)_N0T', 'Tool (#1)_1018T',\n",
       "       'Tool (#1)_1110T', 'Tool (#1)_1113T', 'Tool (#1)_1245T',\n",
       "       'Tool (#1)_206T', 'Tool (#1)_215T', 'Tool (#1)_2823T', 'Tool (#1)_329T',\n",
       "       'Tool (#1)_530T', 'Tool (#2)_AT', 'Tool (#2)_BT', 'Tool (#2)_CT',\n",
       "       'tool_3009T', 'tool_4106T', 'tool_4147T', 'tool (#1)_PT',\n",
       "       'tool (#1)_QT', 'tool (#1)_RT', 'tool (#1)_ST', 'tool (#1)_UT',\n",
       "       'tool (#1)_VT', 'tool (#1)_WT', 'tool (#1)_XT', 'TOOL_BT', 'TOOL_DT',\n",
       "       'TOOL (#1)_XY1T', 'TOOL (#1)_YX1T', 'Tool (#3)_10T', 'Tool (#3)_11T',\n",
       "       'Tool (#3)_12T', 'Tool (#3)_13T', 'Tool (#3)_14T', 'Tool (#3)_15T',\n",
       "       'Tool (#3)_1T', 'Tool (#3)_6T', 'Tool (#3)_7T', 'Tool (#3)_8T',\n",
       "       'Tool (#3)_9T', 'TOOL (#2)_AT', 'TOOL (#2)_BT'],\n",
       "      dtype='object')"
      ]
     },
     "execution_count": 41,
     "metadata": {},
     "output_type": "execute_result"
    }
   ],
   "source": [
    "testa_X_str.columns"
   ]
  },
  {
   "cell_type": "markdown",
   "metadata": {},
   "source": [
    "##### 特征对齐"
   ]
  },
  {
   "cell_type": "code",
   "execution_count": 42,
   "metadata": {},
   "outputs": [],
   "source": [
    "#删除测试集中 未在 训练集 中出现的特征\n",
    "def deleteFeature(train, test):\n",
    "    train_columns = train.columns\n",
    "    test_columns = test.columns\n",
    "    for item in test_columns:\n",
    "        if item not in train_columns:\n",
    "            test = test.drop(item, axis=1)\n",
    "    return test"
   ]
  },
  {
   "cell_type": "code",
   "execution_count": 43,
   "metadata": {},
   "outputs": [],
   "source": [
    "testa_drop = deleteFeature(train_X_str, testa_X_str)"
   ]
  },
  {
   "cell_type": "code",
   "execution_count": 44,
   "metadata": {},
   "outputs": [],
   "source": [
    "testb_drop = deleteFeature(train_X_str, testb_x_str)"
   ]
  },
  {
   "cell_type": "code",
   "execution_count": 45,
   "metadata": {},
   "outputs": [],
   "source": [
    "def featureAlign(X, X_a, X_b):\n",
    "    X_columns = X.columns.values\n",
    "    for index in range(len(X_columns)):\n",
    "        column = X_columns[index]\n",
    "        if column != X_a.iloc[:,index].name:\n",
    "            X_a.insert(index, column, np.zeros(len(X_a)))\n",
    "        if column != X_b.iloc[:,index].name:\n",
    "            X_b.insert(index, column, np.zeros(len(X_b)))\n",
    "    return X_a, X_b"
   ]
  },
  {
   "cell_type": "code",
   "execution_count": 46,
   "metadata": {},
   "outputs": [],
   "source": [
    "testa_X_str, testb_x_str = featureAlign(train_X_str, testa_drop, testa_drop)"
   ]
  },
  {
   "cell_type": "code",
   "execution_count": 47,
   "metadata": {},
   "outputs": [
    {
     "data": {
      "text/plain": [
       "(500, 56)"
      ]
     },
     "execution_count": 47,
     "metadata": {},
     "output_type": "execute_result"
    }
   ],
   "source": [
    "train_X_str.shape"
   ]
  },
  {
   "cell_type": "code",
   "execution_count": 48,
   "metadata": {},
   "outputs": [
    {
     "data": {
      "text/plain": [
       "(100, 56)"
      ]
     },
     "execution_count": 48,
     "metadata": {},
     "output_type": "execute_result"
    }
   ],
   "source": [
    "testa_X_str.shape"
   ]
  },
  {
   "cell_type": "code",
   "execution_count": 49,
   "metadata": {},
   "outputs": [
    {
     "data": {
      "text/plain": [
       "(100, 56)"
      ]
     },
     "execution_count": 49,
     "metadata": {},
     "output_type": "execute_result"
    }
   ],
   "source": [
    "testb_x_str.shape"
   ]
  },
  {
   "cell_type": "code",
   "execution_count": null,
   "metadata": {},
   "outputs": [],
   "source": []
  },
  {
   "cell_type": "code",
   "execution_count": null,
   "metadata": {},
   "outputs": [],
   "source": []
  },
  {
   "cell_type": "markdown",
   "metadata": {},
   "source": [
    "#### Nan列统计"
   ]
  },
  {
   "cell_type": "code",
   "execution_count": 50,
   "metadata": {},
   "outputs": [],
   "source": [
    "train_X_num['nan_count'] = (np.isnan(train_X_num)).sum(axis=1)"
   ]
  },
  {
   "cell_type": "code",
   "execution_count": 51,
   "metadata": {},
   "outputs": [],
   "source": [
    "def standardNan(x):\n",
    "    if x > 210:\n",
    "        return 4\n",
    "    elif x <= 210 and x > 150:\n",
    "        return 3\n",
    "    elif x > 75 and x < 150:\n",
    "        return 2\n",
    "    elif x <= 75:\n",
    "        return 1"
   ]
  },
  {
   "cell_type": "code",
   "execution_count": 52,
   "metadata": {},
   "outputs": [],
   "source": [
    "train_X_num['nan_standard'] = train_X_num.nan_count.apply(lambda x : standardNan(x))"
   ]
  },
  {
   "cell_type": "code",
   "execution_count": null,
   "metadata": {},
   "outputs": [],
   "source": []
  },
  {
   "cell_type": "code",
   "execution_count": 53,
   "metadata": {},
   "outputs": [],
   "source": [
    "testa_X_num['nan_count'] = (np.isnan(testa_X_num)).sum(axis=1)"
   ]
  },
  {
   "cell_type": "code",
   "execution_count": 54,
   "metadata": {},
   "outputs": [],
   "source": [
    "testa_X_num['nan_standard'] = testa_X_num.nan_count.apply(lambda x : standardNan(x))"
   ]
  },
  {
   "cell_type": "code",
   "execution_count": null,
   "metadata": {},
   "outputs": [],
   "source": []
  },
  {
   "cell_type": "code",
   "execution_count": null,
   "metadata": {},
   "outputs": [],
   "source": []
  },
  {
   "cell_type": "code",
   "execution_count": null,
   "metadata": {},
   "outputs": [],
   "source": [
    "importance_gater_1_100 = []\n",
    "for index in range(len(ss)):\n",
    "    if ss[index] > 0.25:\n",
    "        importance_gater_1_100.append(ss.index[index])"
   ]
  },
  {
   "cell_type": "code",
   "execution_count": null,
   "metadata": {},
   "outputs": [],
   "source": [
    "len(importance_gater_1_100)"
   ]
  },
  {
   "cell_type": "code",
   "execution_count": null,
   "metadata": {},
   "outputs": [],
   "source": [
    "train_num_Y_str = pd.concat([train_X_num, train_Y, train_X_str],axis=1)"
   ]
  },
  {
   "cell_type": "code",
   "execution_count": null,
   "metadata": {},
   "outputs": [],
   "source": [
    "train_num_Y_str_lower_4 = train_num_Y_str"
   ]
  },
  {
   "cell_type": "code",
   "execution_count": null,
   "metadata": {},
   "outputs": [],
   "source": []
  },
  {
   "cell_type": "code",
   "execution_count": 101,
   "metadata": {},
   "outputs": [],
   "source": []
  },
  {
   "cell_type": "code",
   "execution_count": null,
   "metadata": {},
   "outputs": [],
   "source": []
  },
  {
   "cell_type": "code",
   "execution_count": null,
   "metadata": {},
   "outputs": [],
   "source": []
  },
  {
   "cell_type": "code",
   "execution_count": null,
   "metadata": {},
   "outputs": [],
   "source": []
  },
  {
   "cell_type": "code",
   "execution_count": null,
   "metadata": {},
   "outputs": [],
   "source": []
  },
  {
   "cell_type": "code",
   "execution_count": 29,
   "metadata": {},
   "outputs": [],
   "source": [
    "train_rank = train_has_nan_count.sort_values(by='nan_count')"
   ]
  },
  {
   "cell_type": "code",
   "execution_count": 30,
   "metadata": {},
   "outputs": [],
   "source": [
    "train_rank = train_rank.reset_index()"
   ]
  },
  {
   "cell_type": "code",
   "execution_count": 31,
   "metadata": {},
   "outputs": [
    {
     "data": {
      "image/png": "[encoded data removed]",
      "text/plain": [
       "<matplotlib.figure.Figure at 0x7f3c50502f28>"
      ]
     },
     "metadata": {},
     "output_type": "display_data"
    }
   ],
   "source": [
    "plt.scatter(train_rank.index, train_rank.Y.values)\n",
    "plt.show()"
   ]
  },
  {
   "cell_type": "code",
   "execution_count": 32,
   "metadata": {},
   "outputs": [
    {
     "data": {
      "image/png": "[encoded data removed]",
      "text/plain": [
       "<matplotlib.figure.Figure at 0x7f3c50315978>"
      ]
     },
     "metadata": {},
     "output_type": "display_data"
    }
   ],
   "source": [
    "plt.scatter(train_rank.index, train_rank.nan_count.values)\n",
    "plt.show()"
   ]
  },
  {
   "cell_type": "code",
   "execution_count": 41,
   "metadata": {},
   "outputs": [],
   "source": [
    "train_300_150 = train_rank[(train_rank.nan_count < 300).values & (train_rank.nan_count >150).values]"
   ]
  },
  {
   "cell_type": "code",
   "execution_count": 42,
   "metadata": {},
   "outputs": [
    {
     "data": {
      "image/png": "[encoded data removed]",
      "text/plain": [
       "<matplotlib.figure.Figure at 0x7fda5c248a90>"
      ]
     },
     "metadata": {},
     "output_type": "display_data"
    }
   ],
   "source": [
    "plt.scatter(train_300_150.index, train_300_150.nan_count.values)\n",
    "plt.show()"
   ]
  },
  {
   "cell_type": "code",
   "execution_count": 43,
   "metadata": {},
   "outputs": [],
   "source": [
    "train_150 = train_rank[train_rank.nan_count < 150]"
   ]
  },
  {
   "cell_type": "code",
   "execution_count": 44,
   "metadata": {},
   "outputs": [
    {
     "data": {
      "image/png": "[encoded data removed]",
      "text/plain": [
       "<matplotlib.figure.Figure at 0x7fbaae6ad8d0>"
      ]
     },
     "metadata": {},
     "output_type": "display_data"
    }
   ],
   "source": [
    "plt.scatter(train_150.index, train_150.nan_count.values)\n",
    "plt.show()"
   ]
  },
  {
   "cell_type": "code",
   "execution_count": null,
   "metadata": {},
   "outputs": [],
   "source": []
  },
  {
   "cell_type": "code",
   "execution_count": 45,
   "metadata": {},
   "outputs": [
    {
     "name": "stderr",
     "output_type": "stream",
     "text": [
      "/usr/local/lib/python3.5/dist-packages/ipykernel_launcher.py:1: FutureWarning: by argument to sort_index is deprecated, please use .sort_values(by=...)\n",
      "  \"\"\"Entry point for launching an IPython kernel.\n"
     ]
    }
   ],
   "source": [
    "X_a_rank = X_a.sort_index(by='nan_count')"
   ]
  },
  {
   "cell_type": "code",
   "execution_count": 46,
   "metadata": {},
   "outputs": [],
   "source": [
    "X_a_rank = X_a_rank.reset_index()"
   ]
  },
  {
   "cell_type": "code",
   "execution_count": 47,
   "metadata": {},
   "outputs": [
    {
     "data": {
      "image/png": "[encoded data removed]",
      "text/plain": [
       "<matplotlib.figure.Figure at 0x7fbaae6a9cc0>"
      ]
     },
     "metadata": {},
     "output_type": "display_data"
    }
   ],
   "source": [
    "plt.scatter(X_a_rank.index, X_a_rank.nan_count.values)\n",
    "plt.show()"
   ]
  },
  {
   "cell_type": "code",
   "execution_count": 48,
   "metadata": {},
   "outputs": [],
   "source": [
    "X_a_300_150 = X_a_rank[(X_a_rank.nan_count >150).values & (X_a_rank.nan_count <300)]"
   ]
  },
  {
   "cell_type": "code",
   "execution_count": 49,
   "metadata": {},
   "outputs": [
    {
     "data": {
      "image/png": "[encoded data removed]",
      "text/plain": [
       "<matplotlib.figure.Figure at 0x7fbaae6a76a0>"
      ]
     },
     "metadata": {},
     "output_type": "display_data"
    }
   ],
   "source": [
    "plt.scatter(X_a_300_150.index, X_a_300_150.nan_count.values)\n",
    "plt.show()"
   ]
  },
  {
   "cell_type": "code",
   "execution_count": 50,
   "metadata": {},
   "outputs": [],
   "source": [
    "X_a_100 = X_a_rank[X_a_rank.nan_count <150]"
   ]
  },
  {
   "cell_type": "code",
   "execution_count": 51,
   "metadata": {},
   "outputs": [
    {
     "data": {
      "image/png": "[encoded data removed]",
      "text/plain": [
       "<matplotlib.figure.Figure at 0x7fbaaf6d5d30>"
      ]
     },
     "metadata": {},
     "output_type": "display_data"
    }
   ],
   "source": [
    "plt.scatter(X_a_100.index, X_a_100.nan_count.values)\n",
    "plt.show()"
   ]
  },
  {
   "cell_type": "code",
   "execution_count": 52,
   "metadata": {},
   "outputs": [
    {
     "name": "stderr",
     "output_type": "stream",
     "text": [
      "/usr/local/lib/python3.5/dist-packages/ipykernel_launcher.py:1: FutureWarning: by argument to sort_index is deprecated, please use .sort_values(by=...)\n",
      "  \"\"\"Entry point for launching an IPython kernel.\n"
     ]
    }
   ],
   "source": [
    "X_b_rank = X_b.sort_index(by='nan_count')"
   ]
  },
  {
   "cell_type": "code",
   "execution_count": 53,
   "metadata": {},
   "outputs": [],
   "source": [
    "X_b_rank = X_b_rank.reset_index()"
   ]
  },
  {
   "cell_type": "code",
   "execution_count": 54,
   "metadata": {},
   "outputs": [
    {
     "data": {
      "image/png": "[encoded data removed]",
      "text/plain": [
       "<matplotlib.figure.Figure at 0x7fbaae71fcf8>"
      ]
     },
     "metadata": {},
     "output_type": "display_data"
    }
   ],
   "source": [
    "plt.scatter(X_b_rank.index, X_b_rank.nan_count.values)\n",
    "plt.show()"
   ]
  },
  {
   "cell_type": "code",
   "execution_count": 55,
   "metadata": {},
   "outputs": [],
   "source": [
    "X_b_300_150 = X_b_rank[(X_b_rank.nan_count <300).values & (X_b_rank.nan_count > 150).values]"
   ]
  },
  {
   "cell_type": "code",
   "execution_count": 56,
   "metadata": {},
   "outputs": [
    {
     "data": {
      "image/png": "[encoded data removed]",
      "text/plain": [
       "<matplotlib.figure.Figure at 0x7fbaaf7cd550>"
      ]
     },
     "metadata": {},
     "output_type": "display_data"
    }
   ],
   "source": [
    "plt.scatter(X_b_300_150.index, X_b_300_150.nan_count.values)\n",
    "plt.show()"
   ]
  },
  {
   "cell_type": "code",
   "execution_count": null,
   "metadata": {},
   "outputs": [],
   "source": []
  },
  {
   "cell_type": "code",
   "execution_count": null,
   "metadata": {},
   "outputs": [],
   "source": []
  },
  {
   "cell_type": "markdown",
   "metadata": {},
   "source": [
    "#### 对含Nan列进行分类"
   ]
  },
  {
   "cell_type": "code",
   "execution_count": null,
   "metadata": {},
   "outputs": [],
   "source": []
  },
  {
   "cell_type": "code",
   "execution_count": null,
   "metadata": {},
   "outputs": [],
   "source": []
  },
  {
   "cell_type": "markdown",
   "metadata": {},
   "source": [
    "#### 直接删除含Nan列"
   ]
  },
  {
   "cell_type": "code",
   "execution_count": 56,
   "metadata": {},
   "outputs": [],
   "source": [
    "def get_nan_indexs(data, indexs = []):\n",
    "    for index in data:\n",
    "        if index not in indexs:\n",
    "            indexs.append(index)\n",
    "    return indexs"
   ]
  },
  {
   "cell_type": "code",
   "execution_count": 57,
   "metadata": {},
   "outputs": [],
   "source": [
    "train_Nan_columns = np.where(np.isnan(train_X_num))[1]"
   ]
  },
  {
   "cell_type": "code",
   "execution_count": 58,
   "metadata": {},
   "outputs": [],
   "source": [
    "X_a_Nan_columns = np.where(np.isnan(testa_X_num))[1]"
   ]
  },
  {
   "cell_type": "code",
   "execution_count": 59,
   "metadata": {},
   "outputs": [],
   "source": [
    "X_b_Nan_columns = np.where(np.isnan(testb_X_num))[1]"
   ]
  },
  {
   "cell_type": "code",
   "execution_count": 60,
   "metadata": {},
   "outputs": [],
   "source": [
    "def mix(X, X_a, X_b):\n",
    "    X_indexs = get_nan_indexs(X)\n",
    "    X_a_indexs = get_nan_indexs(X_a, indexs=X_indexs)\n",
    "    return get_nan_indexs(X_b, indexs=X_a_indexs)"
   ]
  },
  {
   "cell_type": "code",
   "execution_count": 61,
   "metadata": {},
   "outputs": [],
   "source": [
    "all_nan_columns = mix(train_Nan_columns, X_a_Nan_columns, X_b_Nan_columns)"
   ]
  },
  {
   "cell_type": "code",
   "execution_count": 62,
   "metadata": {},
   "outputs": [
    {
     "data": {
      "text/plain": [
       "2716"
      ]
     },
     "execution_count": 62,
     "metadata": {},
     "output_type": "execute_result"
    }
   ],
   "source": [
    "len(all_nan_columns)"
   ]
  },
  {
   "cell_type": "code",
   "execution_count": null,
   "metadata": {},
   "outputs": [],
   "source": []
  },
  {
   "cell_type": "code",
   "execution_count": 63,
   "metadata": {},
   "outputs": [],
   "source": [
    "def isUnique(array):\n",
    "    new_array = []\n",
    "    for item in array:\n",
    "        if item not in new_array:\n",
    "            new_array.append(item)\n",
    "        else:\n",
    "            return False\n",
    "    return True"
   ]
  },
  {
   "cell_type": "code",
   "execution_count": 64,
   "metadata": {},
   "outputs": [
    {
     "data": {
      "text/plain": [
       "True"
      ]
     },
     "execution_count": 64,
     "metadata": {},
     "output_type": "execute_result"
    }
   ],
   "source": [
    "isUnique(all_nan_columns)"
   ]
  },
  {
   "cell_type": "code",
   "execution_count": 65,
   "metadata": {},
   "outputs": [],
   "source": [
    "train_X_num_non_nan = train_X_num.drop(train_X_num.columns[all_nan_columns], axis=1)"
   ]
  },
  {
   "cell_type": "code",
   "execution_count": 66,
   "metadata": {},
   "outputs": [],
   "source": [
    "testa_X_num_non_nan = testa_X_num.drop(testa_X_num.columns[all_nan_columns], axis=1)"
   ]
  },
  {
   "cell_type": "code",
   "execution_count": 67,
   "metadata": {},
   "outputs": [],
   "source": [
    "testb_X_num_non_nan = testb_X_num.drop(testb_X_num.columns[all_nan_columns], axis=1)"
   ]
  },
  {
   "cell_type": "code",
   "execution_count": 68,
   "metadata": {},
   "outputs": [
    {
     "data": {
      "text/plain": [
       "(500, 5200)"
      ]
     },
     "execution_count": 68,
     "metadata": {},
     "output_type": "execute_result"
    }
   ],
   "source": [
    "train_X_num_non_nan.shape"
   ]
  },
  {
   "cell_type": "code",
   "execution_count": 69,
   "metadata": {},
   "outputs": [
    {
     "data": {
      "text/plain": [
       "(100, 5200)"
      ]
     },
     "execution_count": 69,
     "metadata": {},
     "output_type": "execute_result"
    }
   ],
   "source": [
    "testa_X_num_non_nan.shape"
   ]
  },
  {
   "cell_type": "markdown",
   "metadata": {},
   "source": [
    "#### 生成验证集"
   ]
  },
  {
   "cell_type": "code",
   "execution_count": 70,
   "metadata": {},
   "outputs": [],
   "source": [
    "def get_nan_columns(data):\n",
    "    train_nan_columns = np.where(np.isnan(data))\n",
    "    nan_columns = []\n",
    "    for index in train_nan_columns[1]:\n",
    "        if index not in nan_columns:\n",
    "            nan_columns.append(index)\n",
    "    return nan_columns"
   ]
  },
  {
   "cell_type": "code",
   "execution_count": 71,
   "metadata": {},
   "outputs": [
    {
     "data": {
      "text/plain": [
       "0"
      ]
     },
     "execution_count": 71,
     "metadata": {},
     "output_type": "execute_result"
    }
   ],
   "source": [
    "len(get_nan_columns(testa_X_num_non_nan))"
   ]
  },
  {
   "cell_type": "code",
   "execution_count": null,
   "metadata": {},
   "outputs": [],
   "source": []
  },
  {
   "cell_type": "code",
   "execution_count": 72,
   "metadata": {},
   "outputs": [],
   "source": [
    "from sklearn.preprocessing import StandardScaler"
   ]
  },
  {
   "cell_type": "code",
   "execution_count": 73,
   "metadata": {},
   "outputs": [],
   "source": [
    "train_X_num_str = pd.concat([train_X_num_non_nan, train_X_str], axis=1)"
   ]
  },
  {
   "cell_type": "code",
   "execution_count": null,
   "metadata": {},
   "outputs": [],
   "source": []
  },
  {
   "cell_type": "code",
   "execution_count": 187,
   "metadata": {},
   "outputs": [],
   "source": [
    "train_X_num_str_Y = pd.concat([train_X_num_str, train_Y],axis=1)"
   ]
  },
  {
   "cell_type": "code",
   "execution_count": 188,
   "metadata": {},
   "outputs": [],
   "source": [
    "train_X_num_str_Y_gater_3_2 = train_X_num_str_Y[train_X_num_str_Y.Y > 3.2]"
   ]
  },
  {
   "cell_type": "code",
   "execution_count": 189,
   "metadata": {},
   "outputs": [
    {
     "data": {
      "text/plain": [
       "22"
      ]
     },
     "execution_count": 189,
     "metadata": {},
     "output_type": "execute_result"
    }
   ],
   "source": [
    "len(train_X_num_str_Y_gater_3_2)"
   ]
  },
  {
   "cell_type": "code",
   "execution_count": 191,
   "metadata": {},
   "outputs": [
    {
     "data": {
      "text/plain": [
       "24      62\n",
       "27     212\n",
       "30      78\n",
       "103    213\n",
       "128    199\n",
       "138    200\n",
       "182     65\n",
       "199    197\n",
       "221    229\n",
       "222     62\n",
       "253    199\n",
       "269    198\n",
       "289    198\n",
       "335     65\n",
       "374     64\n",
       "376    213\n",
       "384     64\n",
       "411    199\n",
       "431    200\n",
       "453    213\n",
       "462     63\n",
       "465    213\n",
       "Name: nan_count, dtype: int64"
      ]
     },
     "execution_count": 191,
     "metadata": {},
     "output_type": "execute_result"
    }
   ],
   "source": [
    "train_X_num_str_Y_gater_3_2.nan_count"
   ]
  },
  {
   "cell_type": "code",
   "execution_count": 192,
   "metadata": {},
   "outputs": [],
   "source": [
    "train_X_num_str_Y_lower_2_6 = train_X_num_str_Y[train_X_num_str_Y.Y < 2.6]"
   ]
  },
  {
   "cell_type": "code",
   "execution_count": 193,
   "metadata": {},
   "outputs": [
    {
     "data": {
      "text/plain": [
       "21     203\n",
       "33     200\n",
       "35      64\n",
       "36      70\n",
       "53      64\n",
       "62      65\n",
       "96      63\n",
       "99      63\n",
       "145     66\n",
       "148     67\n",
       "150     65\n",
       "152     63\n",
       "156     64\n",
       "159     66\n",
       "160     67\n",
       "162     65\n",
       "167     65\n",
       "170    206\n",
       "173    197\n",
       "174    203\n",
       "175    197\n",
       "178    200\n",
       "180     63\n",
       "200     63\n",
       "216    198\n",
       "219     78\n",
       "220     79\n",
       "231     78\n",
       "236    199\n",
       "259    198\n",
       "260    200\n",
       "271     63\n",
       "276     62\n",
       "284    199\n",
       "299    198\n",
       "300    200\n",
       "312     63\n",
       "314     77\n",
       "318     63\n",
       "328     63\n",
       "336     63\n",
       "337     65\n",
       "361     66\n",
       "378     63\n",
       "381     65\n",
       "387    199\n",
       "398     63\n",
       "405    213\n",
       "407    202\n",
       "434    198\n",
       "442     65\n",
       "451    423\n",
       "474    198\n",
       "Name: nan_count, dtype: int64"
      ]
     },
     "execution_count": 193,
     "metadata": {},
     "output_type": "execute_result"
    }
   ],
   "source": [
    "train_X_num_str_Y_lower_2_6.nan_count"
   ]
  },
  {
   "cell_type": "code",
   "execution_count": 195,
   "metadata": {},
   "outputs": [
    {
     "data": {
      "text/plain": [
       "292    3.170801\n",
       "294    3.034445\n",
       "295    2.751112\n",
       "436    2.765290\n",
       "439    2.875822\n",
       "440    2.806346\n",
       "441    3.072267\n",
       "448    2.979651\n",
       "449    3.166193\n",
       "450    2.951806\n",
       "451    2.482606\n",
       "468    2.882981\n",
       "469    2.748743\n",
       "470    2.877321\n",
       "477    3.062591\n",
       "479    2.935985\n",
       "480    2.898300\n",
       "481    3.027494\n",
       "482    2.915701\n",
       "Name: Y, dtype: float64"
      ]
     },
     "execution_count": 195,
     "metadata": {},
     "output_type": "execute_result"
    }
   ],
   "source": [
    "train_X_num_str_Y[train_X_num_str_Y.nan_count > 300].Y"
   ]
  },
  {
   "cell_type": "code",
   "execution_count": null,
   "metadata": {},
   "outputs": [],
   "source": []
  },
  {
   "cell_type": "code",
   "execution_count": null,
   "metadata": {},
   "outputs": [],
   "source": []
  },
  {
   "cell_type": "code",
   "execution_count": null,
   "metadata": {},
   "outputs": [],
   "source": []
  },
  {
   "cell_type": "code",
   "execution_count": null,
   "metadata": {},
   "outputs": [],
   "source": []
  },
  {
   "cell_type": "code",
   "execution_count": null,
   "metadata": {},
   "outputs": [],
   "source": []
  },
  {
   "cell_type": "code",
   "execution_count": null,
   "metadata": {},
   "outputs": [],
   "source": []
  },
  {
   "cell_type": "code",
   "execution_count": 74,
   "metadata": {},
   "outputs": [],
   "source": [
    "ss = StandardScaler()"
   ]
  },
  {
   "cell_type": "code",
   "execution_count": 75,
   "metadata": {},
   "outputs": [],
   "source": [
    "train_X_num_str_standard = ss.fit_transform(train_X_num_str)"
   ]
  },
  {
   "cell_type": "code",
   "execution_count": null,
   "metadata": {},
   "outputs": [],
   "source": []
  },
  {
   "cell_type": "code",
   "execution_count": 79,
   "metadata": {},
   "outputs": [],
   "source": []
  },
  {
   "cell_type": "code",
   "execution_count": 91,
   "metadata": {},
   "outputs": [],
   "source": [
    "train_data = train_data.loc[:,importance_gater_0]"
   ]
  },
  {
   "cell_type": "code",
   "execution_count": 179,
   "metadata": {},
   "outputs": [],
   "source": [
    "train_nan_indexs = np.where(np.isnan(train_important_feature))"
   ]
  },
  {
   "cell_type": "code",
   "execution_count": 180,
   "metadata": {},
   "outputs": [],
   "source": [
    "nan_columns = get_nan_columns(train_nan_indexs)"
   ]
  },
  {
   "cell_type": "code",
   "execution_count": 181,
   "metadata": {},
   "outputs": [
    {
     "data": {
      "text/plain": [
       "[24, 27, 28, 30, 32, 11, 51, 52, 53, 54, 58, 59, 60, 61, 62]"
      ]
     },
     "execution_count": 181,
     "metadata": {},
     "output_type": "execute_result"
    }
   ],
   "source": [
    "nan_columns"
   ]
  },
  {
   "cell_type": "code",
   "execution_count": 184,
   "metadata": {},
   "outputs": [
    {
     "data": {
      "text/plain": [
       "array(['311X28', '312X133', '312X145', '312X762', '312X774', '220X31',\n",
       "       '420X73', '420X211', '420X216', '420X217', '520X262', '520X263',\n",
       "       '520X400', '750X509', '750X741'], dtype=object)"
      ]
     },
     "execution_count": 184,
     "metadata": {},
     "output_type": "execute_result"
    }
   ],
   "source": [
    "train_important_feature.columns[nan_columns].values"
   ]
  },
  {
   "cell_type": "code",
   "execution_count": 76,
   "metadata": {},
   "outputs": [],
   "source": [
    "train_data = train_X_num.drop(['nan_count'], axis=1)"
   ]
  },
  {
   "cell_type": "code",
   "execution_count": 153,
   "metadata": {},
   "outputs": [],
   "source": [
    "train_important_feature = train_data.loc[:,importanct_feature]"
   ]
  },
  {
   "cell_type": "code",
   "execution_count": 186,
   "metadata": {},
   "outputs": [],
   "source": [
    "### 去除 nan 列\n",
    "train_important_feature = train_important_feature.drop(train_important_feature.columns[nan_columns], axis=1)"
   ]
  },
  {
   "cell_type": "code",
   "execution_count": null,
   "metadata": {},
   "outputs": [],
   "source": []
  },
  {
   "cell_type": "code",
   "execution_count": null,
   "metadata": {},
   "outputs": [],
   "source": []
  },
  {
   "cell_type": "code",
   "execution_count": null,
   "metadata": {},
   "outputs": [],
   "source": []
  },
  {
   "cell_type": "code",
   "execution_count": 78,
   "metadata": {},
   "outputs": [],
   "source": [
    "X_data = train_X_num_str_standard\n",
    "y = train_Y.values"
   ]
  },
  {
   "cell_type": "code",
   "execution_count": 79,
   "metadata": {},
   "outputs": [
    {
     "data": {
      "text/plain": [
       "(500, 5256)"
      ]
     },
     "execution_count": 79,
     "metadata": {},
     "output_type": "execute_result"
    }
   ],
   "source": [
    "X_data.shape"
   ]
  },
  {
   "cell_type": "code",
   "execution_count": 80,
   "metadata": {},
   "outputs": [
    {
     "data": {
      "text/plain": [
       "500"
      ]
     },
     "execution_count": 80,
     "metadata": {},
     "output_type": "execute_result"
    }
   ],
   "source": [
    "len(y)"
   ]
  },
  {
   "cell_type": "code",
   "execution_count": null,
   "metadata": {},
   "outputs": [],
   "source": []
  },
  {
   "cell_type": "code",
   "execution_count": null,
   "metadata": {},
   "outputs": [],
   "source": []
  },
  {
   "cell_type": "code",
   "execution_count": null,
   "metadata": {},
   "outputs": [],
   "source": []
  },
  {
   "cell_type": "code",
   "execution_count": 81,
   "metadata": {},
   "outputs": [],
   "source": [
    "from sklearn.cross_validation import train_test_split"
   ]
  },
  {
   "cell_type": "code",
   "execution_count": 169,
   "metadata": {},
   "outputs": [],
   "source": [
    "X_train, X_valid, y_train, y_valid = train_test_split(X_data, y, test_size=0.3, random_state=33)"
   ]
  },
  {
   "cell_type": "code",
   "execution_count": null,
   "metadata": {},
   "outputs": [],
   "source": []
  },
  {
   "cell_type": "code",
   "execution_count": null,
   "metadata": {},
   "outputs": [],
   "source": []
  },
  {
   "cell_type": "code",
   "execution_count": 335,
   "metadata": {},
   "outputs": [
    {
     "data": {
      "text/html": [
       "<div>\n",
       "<style scoped>\n",
       "    .dataframe tbody tr th:only-of-type {\n",
       "        vertical-align: middle;\n",
       "    }\n",
       "\n",
       "    .dataframe tbody tr th {\n",
       "        vertical-align: top;\n",
       "    }\n",
       "\n",
       "    .dataframe thead th {\n",
       "        text-align: right;\n",
       "    }\n",
       "</style>\n",
       "<table border=\"1\" class=\"dataframe\">\n",
       "  <thead>\n",
       "    <tr style=\"text-align: right;\">\n",
       "      <th></th>\n",
       "      <th>210X1</th>\n",
       "      <th>210X2</th>\n",
       "      <th>210X3</th>\n",
       "      <th>210X4</th>\n",
       "      <th>210X5</th>\n",
       "      <th>210X6</th>\n",
       "      <th>210X7</th>\n",
       "      <th>210X8</th>\n",
       "      <th>210X9</th>\n",
       "      <th>210X10</th>\n",
       "      <th>...</th>\n",
       "      <th>Tool (#3)_12T</th>\n",
       "      <th>Tool (#3)_13T</th>\n",
       "      <th>Tool (#3)_14T</th>\n",
       "      <th>Tool (#3)_15T</th>\n",
       "      <th>Tool (#3)_6T</th>\n",
       "      <th>Tool (#3)_7T</th>\n",
       "      <th>Tool (#3)_8T</th>\n",
       "      <th>Tool (#3)_9T</th>\n",
       "      <th>TOOL (#2)_AT</th>\n",
       "      <th>TOOL (#2)_BT</th>\n",
       "    </tr>\n",
       "  </thead>\n",
       "  <tbody>\n",
       "    <tr>\n",
       "      <th>7</th>\n",
       "      <td>102.25</td>\n",
       "      <td>0.420</td>\n",
       "      <td>0.27</td>\n",
       "      <td>1.312</td>\n",
       "      <td>67.47</td>\n",
       "      <td>4.614</td>\n",
       "      <td>-0.99</td>\n",
       "      <td>-0.99</td>\n",
       "      <td>-0.13</td>\n",
       "      <td>27.1</td>\n",
       "      <td>...</td>\n",
       "      <td>0</td>\n",
       "      <td>0</td>\n",
       "      <td>1</td>\n",
       "      <td>0</td>\n",
       "      <td>0</td>\n",
       "      <td>0</td>\n",
       "      <td>0</td>\n",
       "      <td>0</td>\n",
       "      <td>1</td>\n",
       "      <td>0</td>\n",
       "    </tr>\n",
       "    <tr>\n",
       "      <th>8</th>\n",
       "      <td>102.25</td>\n",
       "      <td>0.421</td>\n",
       "      <td>0.27</td>\n",
       "      <td>1.311</td>\n",
       "      <td>67.44</td>\n",
       "      <td>4.631</td>\n",
       "      <td>0.32</td>\n",
       "      <td>-1.19</td>\n",
       "      <td>-0.14</td>\n",
       "      <td>25.9</td>\n",
       "      <td>...</td>\n",
       "      <td>0</td>\n",
       "      <td>0</td>\n",
       "      <td>0</td>\n",
       "      <td>1</td>\n",
       "      <td>0</td>\n",
       "      <td>0</td>\n",
       "      <td>0</td>\n",
       "      <td>0</td>\n",
       "      <td>1</td>\n",
       "      <td>0</td>\n",
       "    </tr>\n",
       "    <tr>\n",
       "      <th>9</th>\n",
       "      <td>100.85</td>\n",
       "      <td>0.958</td>\n",
       "      <td>0.22</td>\n",
       "      <td>3.705</td>\n",
       "      <td>62.88</td>\n",
       "      <td>4.184</td>\n",
       "      <td>-2.14</td>\n",
       "      <td>0.99</td>\n",
       "      <td>0.08</td>\n",
       "      <td>27.7</td>\n",
       "      <td>...</td>\n",
       "      <td>0</td>\n",
       "      <td>0</td>\n",
       "      <td>0</td>\n",
       "      <td>0</td>\n",
       "      <td>0</td>\n",
       "      <td>0</td>\n",
       "      <td>0</td>\n",
       "      <td>0</td>\n",
       "      <td>1</td>\n",
       "      <td>0</td>\n",
       "    </tr>\n",
       "    <tr>\n",
       "      <th>10</th>\n",
       "      <td>98.95</td>\n",
       "      <td>0.525</td>\n",
       "      <td>0.25</td>\n",
       "      <td>1.132</td>\n",
       "      <td>57.14</td>\n",
       "      <td>2.992</td>\n",
       "      <td>-2.04</td>\n",
       "      <td>0.30</td>\n",
       "      <td>0.15</td>\n",
       "      <td>27.3</td>\n",
       "      <td>...</td>\n",
       "      <td>0</td>\n",
       "      <td>1</td>\n",
       "      <td>0</td>\n",
       "      <td>0</td>\n",
       "      <td>0</td>\n",
       "      <td>0</td>\n",
       "      <td>0</td>\n",
       "      <td>0</td>\n",
       "      <td>1</td>\n",
       "      <td>0</td>\n",
       "    </tr>\n",
       "    <tr>\n",
       "      <th>24</th>\n",
       "      <td>102.35</td>\n",
       "      <td>0.403</td>\n",
       "      <td>0.27</td>\n",
       "      <td>1.286</td>\n",
       "      <td>67.46</td>\n",
       "      <td>4.585</td>\n",
       "      <td>-0.85</td>\n",
       "      <td>-0.90</td>\n",
       "      <td>-0.13</td>\n",
       "      <td>26.5</td>\n",
       "      <td>...</td>\n",
       "      <td>0</td>\n",
       "      <td>0</td>\n",
       "      <td>0</td>\n",
       "      <td>0</td>\n",
       "      <td>1</td>\n",
       "      <td>0</td>\n",
       "      <td>0</td>\n",
       "      <td>0</td>\n",
       "      <td>1</td>\n",
       "      <td>0</td>\n",
       "    </tr>\n",
       "  </tbody>\n",
       "</table>\n",
       "<p>5 rows × 5254 columns</p>\n",
       "</div>"
      ],
      "text/plain": [
       "     210X1  210X2  210X3  210X4  210X5  210X6  210X7  210X8  210X9  210X10  \\\n",
       "7   102.25  0.420   0.27  1.312  67.47  4.614  -0.99  -0.99  -0.13    27.1   \n",
       "8   102.25  0.421   0.27  1.311  67.44  4.631   0.32  -1.19  -0.14    25.9   \n",
       "9   100.85  0.958   0.22  3.705  62.88  4.184  -2.14   0.99   0.08    27.7   \n",
       "10   98.95  0.525   0.25  1.132  57.14  2.992  -2.04   0.30   0.15    27.3   \n",
       "24  102.35  0.403   0.27  1.286  67.46  4.585  -0.85  -0.90  -0.13    26.5   \n",
       "\n",
       "        ...       Tool (#3)_12T  Tool (#3)_13T  Tool (#3)_14T  Tool (#3)_15T  \\\n",
       "7       ...                   0              0              1              0   \n",
       "8       ...                   0              0              0              1   \n",
       "9       ...                   0              0              0              0   \n",
       "10      ...                   0              1              0              0   \n",
       "24      ...                   0              0              0              0   \n",
       "\n",
       "    Tool (#3)_6T  Tool (#3)_7T  Tool (#3)_8T  Tool (#3)_9T  TOOL (#2)_AT  \\\n",
       "7              0             0             0             0             1   \n",
       "8              0             0             0             0             1   \n",
       "9              0             0             0             0             1   \n",
       "10             0             0             0             0             1   \n",
       "24             1             0             0             0             1   \n",
       "\n",
       "    TOOL (#2)_BT  \n",
       "7              0  \n",
       "8              0  \n",
       "9              0  \n",
       "10             0  \n",
       "24             0  \n",
       "\n",
       "[5 rows x 5254 columns]"
      ]
     },
     "execution_count": 335,
     "metadata": {},
     "output_type": "execute_result"
    }
   ],
   "source": [
    "X_data_1.head()"
   ]
  },
  {
   "cell_type": "code",
   "execution_count": null,
   "metadata": {},
   "outputs": [],
   "source": [
    "train_X_num_str_Y_1.nan_standard"
   ]
  },
  {
   "cell_type": "code",
   "execution_count": 293,
   "metadata": {},
   "outputs": [],
   "source": [
    "train_X_num_str_Y_1 = train_X_num_str_Y[train_X_num_str_Y.nan_standard == 1]"
   ]
  },
  {
   "cell_type": "code",
   "execution_count": 294,
   "metadata": {},
   "outputs": [],
   "source": [
    "X_data_1 = train_X_num_str_Y_1.drop(['nan_count', 'nan_standard', 'Y'], axis=1)\n",
    "y_data_1 = train_X_num_str_Y_1.Y"
   ]
  },
  {
   "cell_type": "code",
   "execution_count": 295,
   "metadata": {},
   "outputs": [],
   "source": [
    "X_train_1, X_valid_1, y_train_1, y_valid_1 = train_test_split(X_data_1.values, y_data_1.values, test_size=0.3, random_state=33)"
   ]
  },
  {
   "cell_type": "code",
   "execution_count": 296,
   "metadata": {},
   "outputs": [],
   "source": [
    "train_X_num_str_Y_2 = train_X_num_str_Y[train_X_num_str_Y.nan_standard == 2]"
   ]
  },
  {
   "cell_type": "code",
   "execution_count": 297,
   "metadata": {},
   "outputs": [],
   "source": [
    "X_data_2 = train_X_num_str_Y_2.drop(['nan_count','nan_standard', 'Y'], axis=1)\n",
    "y_data_2 = train_X_num_str_Y_2.Y"
   ]
  },
  {
   "cell_type": "code",
   "execution_count": 298,
   "metadata": {},
   "outputs": [],
   "source": [
    "X_train_2, X_valid_2, y_train_2, y_valid_2 = train_test_split(X_data_2.values, y_data_2.values, test_size=0.3, random_state=33)"
   ]
  },
  {
   "cell_type": "code",
   "execution_count": 299,
   "metadata": {},
   "outputs": [],
   "source": [
    "train_X_num_str_Y_3 = train_X_num_str_Y[train_X_num_str_Y.nan_standard == 3]"
   ]
  },
  {
   "cell_type": "code",
   "execution_count": 300,
   "metadata": {},
   "outputs": [],
   "source": [
    "X_data_3 = train_X_num_str_Y_3.drop(['nan_count','nan_standard', 'Y'], axis=1)\n",
    "y_data_3 = train_X_num_str_Y_3.Y"
   ]
  },
  {
   "cell_type": "code",
   "execution_count": 301,
   "metadata": {},
   "outputs": [],
   "source": [
    "X_train_3, X_valid_3, y_train_3, y_valid_3 = train_test_split(X_data_3.values, y_data_3.values, test_size=0.3, random_state=33)"
   ]
  },
  {
   "cell_type": "code",
   "execution_count": 302,
   "metadata": {},
   "outputs": [],
   "source": [
    "train_X_num_str_Y_4 = train_X_num_str_Y[train_X_num_str_Y.nan_standard == 4]"
   ]
  },
  {
   "cell_type": "code",
   "execution_count": 303,
   "metadata": {},
   "outputs": [],
   "source": [
    "X_data_4 = train_X_num_str_Y_4.drop(['nan_count','nan_standard', 'Y'], axis=1)\n",
    "y_data_4 = train_X_num_str_Y_4.Y"
   ]
  },
  {
   "cell_type": "code",
   "execution_count": 304,
   "metadata": {},
   "outputs": [],
   "source": [
    "X_train_4, X_valid_4, y_train_4, y_valid_4 = train_test_split(X_data_4.values, y_data_4.values, test_size=0.3, random_state=33)"
   ]
  },
  {
   "cell_type": "code",
   "execution_count": null,
   "metadata": {},
   "outputs": [],
   "source": []
  },
  {
   "cell_type": "code",
   "execution_count": null,
   "metadata": {},
   "outputs": [],
   "source": []
  },
  {
   "cell_type": "code",
   "execution_count": 305,
   "metadata": {},
   "outputs": [],
   "source": [
    "X_train = list(X_train_1) + list(X_train_2) + list(X_train_3) + list(X_train_4)\n",
    "y_train = list(y_train_1) + list(y_train_2) + list(y_train_3) + list(y_train_4)"
   ]
  },
  {
   "cell_type": "code",
   "execution_count": 306,
   "metadata": {},
   "outputs": [],
   "source": [
    "X_valid = list(X_valid_1) + list(X_valid_2) + list(X_valid_3) + list(X_valid_4)\n",
    "y_valid = list(y_valid_1) + list(y_valid_2) + list(y_valid_3) + list(y_valid_4)"
   ]
  },
  {
   "cell_type": "code",
   "execution_count": 307,
   "metadata": {},
   "outputs": [
    {
     "data": {
      "text/plain": [
       "[array([ 102.2  ,    0.501,    0.25 , ...,    0.   ,    1.   ,    0.   ]),\n",
       " array([ 100.9 ,    0.51,    0.13, ...,    0.  ,    1.  ,    0.  ]),\n",
       " array([ 100.04 ,    0.583,    0.24 , ...,    0.   ,    1.   ,    0.   ]),\n",
       " array([ 99.11 ,   0.493,   0.25 , ...,   1.   ,   1.   ,   0.   ]),\n",
       " array([ 85.71 ,   0.506,   0.12 , ...,   0.   ,   1.   ,   0.   ]),\n",
       " array([ 102.15 ,    0.408,    0.27 , ...,    1.   ,    1.   ,    0.   ]),\n",
       " array([ 0.,  0.,  0., ...,  0.,  1.,  0.]),\n",
       " array([ 101.3  ,    0.322,    0.41 , ...,    0.   ,    1.   ,    0.   ]),\n",
       " array([ 101.35 ,    0.323,    0.41 , ...,    0.   ,    1.   ,    0.   ]),\n",
       " array([ 100.65 ,    0.561,    0.23 , ...,    0.   ,    1.   ,    0.   ]),\n",
       " array([ 102.1  ,    0.432,    0.27 , ...,    0.   ,    1.   ,    0.   ]),\n",
       " array([ 101.35,    0.32,    0.41, ...,    0.  ,    1.  ,    0.  ]),\n",
       " array([ 100.15 ,    0.536,    0.24 , ...,    0.   ,    1.   ,    0.   ]),\n",
       " array([ 101.5  ,    0.348,    0.4  , ...,    0.   ,    1.   ,    0.   ]),\n",
       " array([ 101.1  ,    0.334,    0.4  , ...,    0.   ,    1.   ,    0.   ]),\n",
       " array([ 102.4  ,    0.441,    0.27 , ...,    0.   ,    1.   ,    0.   ]),\n",
       " array([ 102.15 ,    0.463,    0.27 , ...,    0.   ,    1.   ,    0.   ]),\n",
       " array([ 99.31 ,   0.498,   0.24 , ...,   0.   ,   1.   ,   0.   ]),\n",
       " array([ 101.35 ,    0.939,    0.21 , ...,    0.   ,    1.   ,    0.   ]),\n",
       " array([ 101.45 ,    0.345,    0.4  , ...,    0.   ,    1.   ,    0.   ]),\n",
       " array([ 99.84 ,   0.542,   0.24 , ...,   0.   ,   1.   ,   0.   ]),\n",
       " array([ 100.2  ,    0.612,    0.13 , ...,    0.   ,    0.   ,    1.   ]),\n",
       " array([ 99.33 ,   0.565,   0.24 , ...,   0.   ,   1.   ,   0.   ]),\n",
       " array([ 0.,  0.,  0., ...,  0.,  1.,  0.]),\n",
       " array([ 101.4  ,    0.349,    0.4  , ...,    0.   ,    1.   ,    0.   ]),\n",
       " array([ 99.19 ,   0.691,   0.14 , ...,   0.   ,   1.   ,   0.   ]),\n",
       " array([ 101.45,    0.34,    0.4 , ...,    0.  ,    1.  ,    0.  ]),\n",
       " array([ 100.85 ,    0.958,    0.22 , ...,    0.   ,    1.   ,    0.   ]),\n",
       " array([ 101.6  ,    0.887,    0.21 , ...,    0.   ,    1.   ,    0.   ]),\n",
       " array([ 101.3  ,    0.337,    0.4  , ...,    0.   ,    1.   ,    0.   ]),\n",
       " array([ 85.88 ,   0.473,   0.12 , ...,   0.   ,   1.   ,   0.   ]),\n",
       " array([ 100.8  ,    0.844,    0.22 , ...,    0.   ,    1.   ,    0.   ]),\n",
       " array([ 102.25 ,    0.429,    0.26 , ...,    1.   ,    1.   ,    0.   ]),\n",
       " array([ 101.15 ,    0.881,    0.22 , ...,    0.   ,    1.   ,    0.   ]),\n",
       " array([ 101.95 ,    0.787,    0.21 , ...,    0.   ,    1.   ,    0.   ]),\n",
       " array([ 101.65,    0.94,    0.21, ...,    0.  ,    1.  ,    0.  ]),\n",
       " array([ 101.15 ,    0.793,    0.22 , ...,    0.   ,    1.   ,    0.   ]),\n",
       " array([ 100.75 ,    0.496,    0.24 , ...,    0.   ,    1.   ,    0.   ]),\n",
       " array([ 101.65 ,    0.882,    0.22 , ...,    1.   ,    1.   ,    0.   ]),\n",
       " array([ 101.5  ,    0.312,    0.4  , ...,    0.   ,    1.   ,    0.   ]),\n",
       " array([ 99.3  ,   0.508,   0.25 , ...,   0.   ,   1.   ,   0.   ]),\n",
       " array([ 101.5  ,    0.361,    0.4  , ...,    0.   ,    1.   ,    0.   ]),\n",
       " array([ 98.95 ,   0.525,   0.25 , ...,   0.   ,   1.   ,   0.   ]),\n",
       " array([ 102.1  ,    0.851,    0.22 , ...,    1.   ,    1.   ,    0.   ]),\n",
       " array([ 101.45 ,    0.349,    0.4  , ...,    0.   ,    1.   ,    0.   ]),\n",
       " array([ 101.5 ,    0.31,    0.4 , ...,    1.  ,    1.  ,    0.  ]),\n",
       " array([ 101.5  ,    0.315,    0.4  , ...,    1.   ,    1.   ,    0.   ]),\n",
       " array([ 102.25 ,    0.446,    0.27 , ...,    0.   ,    1.   ,    0.   ]),\n",
       " array([ 102.35 ,    0.403,    0.27 , ...,    0.   ,    1.   ,    0.   ]),\n",
       " array([ 101.5  ,    0.351,    0.4  , ...,    1.   ,    1.   ,    0.   ]),\n",
       " array([ 101.55 ,    0.316,    0.4  , ...,    0.   ,    1.   ,    0.   ]),\n",
       " array([ 101.75 ,    0.819,    0.22 , ...,    0.   ,    1.   ,    0.   ]),\n",
       " array([ 101.5  ,    0.346,    0.4  , ...,    1.   ,    1.   ,    0.   ]),\n",
       " array([ 100.85 ,    0.956,    0.22 , ...,    0.   ,    1.   ,    0.   ]),\n",
       " array([ 99.8 ,   0.64,   0.24, ...,   0.  ,   1.  ,   0.  ]),\n",
       " array([ 101.45,    0.88,    0.22, ...,    0.  ,    1.  ,    0.  ]),\n",
       " array([ 100.95 ,    0.541,    0.13 , ...,    0.   ,    0.   ,    1.   ]),\n",
       " array([ 101.55 ,    0.315,    0.4  , ...,    1.   ,    1.   ,    0.   ]),\n",
       " array([ 101.95 ,    0.473,    0.27 , ...,    0.   ,    1.   ,    0.   ]),\n",
       " array([ 101.4  ,    0.349,    0.4  , ...,    1.   ,    1.   ,    0.   ]),\n",
       " array([ 100.65,    0.86,    0.21, ...,    0.  ,    1.  ,    0.  ]),\n",
       " array([ 101.35 ,    0.864,    0.22 , ...,    0.   ,    1.   ,    0.   ]),\n",
       " array([ 99.82 ,   0.543,   0.24 , ...,   0.   ,   1.   ,   0.   ]),\n",
       " array([ 102.15 ,    0.499,    0.25 , ...,    0.   ,    1.   ,    0.   ]),\n",
       " array([ 98.52 ,   0.523,   0.25 , ...,   0.   ,   1.   ,   0.   ]),\n",
       " array([ 102.35 ,    0.415,    0.26 , ...,    0.   ,    1.   ,    0.   ]),\n",
       " array([ 99.88 ,   0.534,   0.24 , ...,   0.   ,   1.   ,   0.   ]),\n",
       " array([ 101.4  ,    0.366,    0.4  , ...,    0.   ,    1.   ,    0.   ]),\n",
       " array([ 101.15 ,    0.863,    0.22 , ...,    0.   ,    1.   ,    0.   ]),\n",
       " array([ 100.7  ,    0.485,    0.24 , ...,    0.   ,    1.   ,    0.   ]),\n",
       " array([ 100.15 ,    0.486,    0.24 , ...,    0.   ,    1.   ,    0.   ]),\n",
       " array([ 99.84 ,   0.617,   0.24 , ...,   0.   ,   1.   ,   0.   ]),\n",
       " array([ 101.45 ,    0.352,    0.4  , ...,    0.   ,    1.   ,    0.   ]),\n",
       " array([ 102.15 ,    0.431,    0.26 , ...,    0.   ,    1.   ,    0.   ]),\n",
       " array([ 100.9  ,    0.548,    0.23 , ...,    0.   ,    1.   ,    0.   ]),\n",
       " array([ 101.7  ,    0.774,    0.22 , ...,    0.   ,    1.   ,    0.   ]),\n",
       " array([ 100.9  ,    0.514,    0.13 , ...,    0.   ,    1.   ,    0.   ]),\n",
       " array([ 102.25,    0.42,    0.27, ...,    0.  ,    1.  ,    0.  ]),\n",
       " array([ 99.87 ,   0.553,   0.24 , ...,   0.   ,   1.   ,   0.   ]),\n",
       " array([ 100.4  ,    0.563,    0.14 , ...,    1.   ,    1.   ,    0.   ]),\n",
       " array([ 99.82 ,   0.602,   0.14 , ...,   0.   ,   1.   ,   0.   ]),\n",
       " array([ 98.84 ,   0.569,   0.24 , ...,   0.   ,   1.   ,   0.   ]),\n",
       " array([ 100.5  ,    0.815,    0.22 , ...,    0.   ,    1.   ,    0.   ]),\n",
       " array([ 101.5  ,    0.317,    0.4  , ...,    0.   ,    1.   ,    0.   ]),\n",
       " array([ 102.2  ,    0.468,    0.25 , ...,    0.   ,    0.   ,    1.   ]),\n",
       " array([ 101.35 ,    0.363,    0.4  , ...,    0.   ,    1.   ,    0.   ]),\n",
       " array([ 101.55 ,    0.962,    0.22 , ...,    0.   ,    1.   ,    0.   ]),\n",
       " array([ 102.1  ,    0.442,    0.26 , ...,    0.   ,    1.   ,    0.   ]),\n",
       " array([ 102.25 ,    0.421,    0.27 , ...,    0.   ,    1.   ,    0.   ]),\n",
       " array([ 102.05 ,    0.468,    0.27 , ...,    0.   ,    1.   ,    0.   ]),\n",
       " array([ 101.35 ,    0.325,    0.4  , ...,    0.   ,    1.   ,    0.   ]),\n",
       " array([ 102.2  ,    0.477,    0.26 , ...,    0.   ,    1.   ,    0.   ]),\n",
       " array([ 0.,  0.,  0., ...,  0.,  1.,  0.]),\n",
       " array([ 0.,  0.,  0., ...,  0.,  1.,  0.]),\n",
       " array([ 101.85 ,    0.484,    0.26 , ...,    0.   ,    1.   ,    0.   ]),\n",
       " array([ 101.85 ,    0.496,    0.26 , ...,    0.   ,    1.   ,    0.   ]),\n",
       " array([ 101.5  ,    0.352,    0.4  , ...,    1.   ,    1.   ,    0.   ]),\n",
       " array([ 102.2  ,    0.484,    0.26 , ...,    0.   ,    1.   ,    0.   ]),\n",
       " array([ 101.6  ,    0.793,    0.22 , ...,    0.   ,    1.   ,    0.   ]),\n",
       " array([ 100.85 ,    0.531,    0.13 , ...,    0.   ,    1.   ,    0.   ]),\n",
       " array([ 101.35 ,    0.318,    0.41 , ...,    0.   ,    1.   ,    0.   ]),\n",
       " array([ 101.3  ,    0.843,    0.22 , ...,    0.   ,    1.   ,    0.   ]),\n",
       " array([ 101.35 ,    0.327,    0.4  , ...,    0.   ,    1.   ,    0.   ]),\n",
       " array([ 0.,  0.,  0., ...,  0.,  1.,  0.]),\n",
       " array([ 101.4  ,    0.355,    0.4  , ...,    1.   ,    1.   ,    0.   ]),\n",
       " array([ 102.3  ,    0.423,    0.26 , ...,    0.   ,    1.   ,    0.   ]),\n",
       " array([ 99.11 ,   0.653,   0.14 , ...,   0.   ,   1.   ,   0.   ]),\n",
       " array([ 102.35 ,    0.404,    0.27 , ...,    0.   ,    1.   ,    0.   ]),\n",
       " array([ 0.,  0.,  0., ...,  0.,  1.,  0.]),\n",
       " array([ 101.35 ,    0.331,    0.4  , ...,    0.   ,    1.   ,    0.   ]),\n",
       " array([ 100.95 ,    0.508,    0.13 , ...,    0.   ,    1.   ,    0.   ]),\n",
       " array([ 101.55 ,    0.926,    0.21 , ...,    0.   ,    1.   ,    0.   ]),\n",
       " array([ 100.05,    0.48,    0.24, ...,    0.  ,    1.  ,    0.  ]),\n",
       " array([ 0.,  0.,  0., ...,  0.,  1.,  0.]),\n",
       " array([ 0.,  0.,  0., ...,  0.,  1.,  0.]),\n",
       " array([ 102.45 ,    0.445,    0.26 , ...,    0.   ,    1.   ,    0.   ]),\n",
       " array([ 101.85 ,    0.779,    0.22 , ...,    0.   ,    1.   ,    0.   ]),\n",
       " array([ 101.5  ,    0.359,    0.4  , ...,    0.   ,    1.   ,    0.   ]),\n",
       " array([ 102.15 ,    0.819,    0.21 , ...,    0.   ,    1.   ,    0.   ]),\n",
       " array([ 101.55 ,    0.315,    0.4  , ...,    0.   ,    1.   ,    0.   ]),\n",
       " array([ 0.,  0.,  0., ...,  0.,  1.,  0.]),\n",
       " array([ 101.15 ,    0.934,    0.22 , ...,    0.   ,    1.   ,    0.   ]),\n",
       " array([ 101.5  ,    0.312,    0.4  , ...,    1.   ,    1.   ,    0.   ]),\n",
       " array([ 85.64 ,   0.502,   0.12 , ...,   0.   ,   1.   ,   0.   ]),\n",
       " array([ 101.5  ,    0.325,    0.4  , ...,    0.   ,    1.   ,    0.   ]),\n",
       " array([ 101.2  ,    0.325,    0.4  , ...,    0.   ,    1.   ,    0.   ]),\n",
       " array([ 100.85 ,    0.327,    0.41 , ...,    0.   ,    1.   ,    0.   ]),\n",
       " array([ 101.45 ,    0.348,    0.4  , ...,    1.   ,    1.   ,    0.   ]),\n",
       " array([ 101.65 ,    0.788,    0.22 , ...,    0.   ,    1.   ,    0.   ]),\n",
       " array([ 102.4  ,    0.381,    0.26 , ...,    0.   ,    1.   ,    0.   ]),\n",
       " array([ 101.35 ,    0.322,    0.41 , ...,    0.   ,    1.   ,    0.   ]),\n",
       " array([ 100.85 ,    0.323,    0.41 , ...,    0.   ,    1.   ,    0.   ]),\n",
       " array([ 100.75 ,    0.486,    0.24 , ...,    0.   ,    1.   ,    0.   ]),\n",
       " array([ 99.31 ,   0.519,   0.25 , ...,   1.   ,   1.   ,   0.   ]),\n",
       " array([ 100.15 ,    0.473,    0.24 , ...,    0.   ,    1.   ,    0.   ]),\n",
       " array([ 101.9  ,    0.879,    0.21 , ...,    0.   ,    1.   ,    0.   ]),\n",
       " array([ 102.   ,    0.746,    0.22 , ...,    0.   ,    1.   ,    0.   ]),\n",
       " array([ 101.9  ,    0.811,    0.21 , ...,    0.   ,    1.   ,    0.   ]),\n",
       " array([ 100.95 ,    0.538,    0.13 , ...,    0.   ,    1.   ,    0.   ]),\n",
       " array([ 101.35,    0.32,    0.41, ...,    0.  ,    1.  ,    0.  ]),\n",
       " array([ 101.5  ,    0.343,    0.4  , ...,    0.   ,    1.   ,    0.   ]),\n",
       " array([ 102.1  ,    0.486,    0.26 , ...,    0.   ,    1.   ,    0.   ]),\n",
       " array([ 100.75 ,    0.912,    0.21 , ...,    0.   ,    1.   ,    0.   ]),\n",
       " array([ 102.3  ,    0.418,    0.27 , ...,    0.   ,    1.   ,    0.   ]),\n",
       " array([ 100.95 ,    0.928,    0.21 , ...,    0.   ,    1.   ,    0.   ]),\n",
       " array([ 101.5  ,    0.347,    0.4  , ...,    0.   ,    1.   ,    0.   ]),\n",
       " array([ 101.35 ,    0.329,    0.4  , ...,    0.   ,    1.   ,    0.   ]),\n",
       " array([ 99.09 ,   0.641,   0.14 , ...,   0.   ,   1.   ,   0.   ]),\n",
       " array([ 100.65 ,    0.552,    0.24 , ...,    0.   ,    1.   ,    0.   ]),\n",
       " array([ 102.35 ,    0.413,    0.27 , ...,    0.   ,    1.   ,    0.   ]),\n",
       " array([ 101.9  ,    0.846,    0.21 , ...,    0.   ,    1.   ,    0.   ]),\n",
       " array([ 102.   ,    0.843,    0.21 , ...,    0.   ,    1.   ,    0.   ]),\n",
       " array([ 86.13 ,   0.499,   0.12 , ...,   1.   ,   1.   ,   0.   ]),\n",
       " array([ 101.85,    0.85,    0.21, ...,    0.  ,    1.  ,    0.  ]),\n",
       " array([ 100.45 ,    0.518,    0.23 , ...,    0.   ,    1.   ,    0.   ]),\n",
       " array([ 101.35 ,    0.338,    0.4  , ...,    0.   ,    1.   ,    0.   ]),\n",
       " array([ 102.4  ,    0.471,    0.25 , ...,    0.   ,    1.   ,    0.   ]),\n",
       " array([ 101.2  ,    0.493,    0.24 , ...,    0.   ,    1.   ,    0.   ]),\n",
       " array([ 0.,  0.,  0., ...,  0.,  1.,  0.]),\n",
       " array([ 0.,  0.,  0., ...,  0.,  1.,  0.]),\n",
       " array([ 0.,  0.,  0., ...,  0.,  1.,  0.]),\n",
       " array([ 100.75 ,    0.531,    0.13 , ...,    0.   ,    1.   ,    0.   ]),\n",
       " array([ 100.6  ,    0.875,    0.21 , ...,    0.   ,    1.   ,    0.   ]),\n",
       " array([ 101.75 ,    0.808,    0.22 , ...,    0.   ,    1.   ,    0.   ]),\n",
       " array([ 102.2 ,    0.44,    0.27, ...,    0.  ,    1.  ,    0.  ]),\n",
       " array([ 101.   ,    0.511,    0.13 , ...,    0.   ,    1.   ,    0.   ]),\n",
       " array([ 101.8  ,    0.514,    0.26 , ...,    0.   ,    1.   ,    0.   ]),\n",
       " array([ 101.35 ,    0.338,    0.4  , ...,    0.   ,    1.   ,    0.   ]),\n",
       " array([ 101.3  ,    0.772,    0.22 , ...,    0.   ,    1.   ,    0.   ]),\n",
       " array([ 0.,  0.,  0., ...,  0.,  1.,  0.]),\n",
       " array([ 0.,  0.,  0., ...,  0.,  1.,  0.]),\n",
       " array([ 101.4  ,    0.827,    0.22 , ...,    0.   ,    1.   ,    0.   ]),\n",
       " array([ 102.3  ,    0.474,    0.26 , ...,    0.   ,    1.   ,    0.   ]),\n",
       " array([ 101.9  ,    0.843,    0.22 , ...,    0.   ,    1.   ,    0.   ]),\n",
       " array([ 86.13 ,   0.507,   0.12 , ...,   0.   ,   1.   ,   0.   ]),\n",
       " array([ 101.95 ,    0.843,    0.22 , ...,    0.   ,    1.   ,    0.   ]),\n",
       " array([ 98.44 ,   0.557,   0.25 , ...,   0.   ,   1.   ,   0.   ]),\n",
       " array([ 100.35 ,    0.576,    0.14 , ...,    0.   ,    1.   ,    0.   ]),\n",
       " array([ 0.,  0.,  0., ...,  0.,  1.,  0.]),\n",
       " array([ 101.05 ,    0.493,    0.13 , ...,    0.   ,    1.   ,    0.   ]),\n",
       " array([ 100.7  ,    0.524,    0.23 , ...,    0.   ,    1.   ,    0.   ]),\n",
       " array([ 100.35 ,    0.616,    0.13 , ...,    0.   ,    1.   ,    0.   ]),\n",
       " array([ 100.9  ,    0.549,    0.13 , ...,    0.   ,    1.   ,    0.   ]),\n",
       " array([ 102.5  ,    0.419,    0.26 , ...,    0.   ,    1.   ,    0.   ]),\n",
       " array([ 101.3  ,    0.363,    0.4  , ...,    0.   ,    1.   ,    0.   ]),\n",
       " array([ 101.55 ,    0.832,    0.21 , ...,    0.   ,    1.   ,    0.   ]),\n",
       " array([ 102.8  ,    0.912,    0.21 , ...,    0.   ,    1.   ,    0.   ]),\n",
       " array([ 100.1  ,    0.523,    0.24 , ...,    0.   ,    1.   ,    0.   ]),\n",
       " array([ 84.97 ,   0.519,   0.12 , ...,   0.   ,   1.   ,   0.   ]),\n",
       " array([ 100.85 ,    0.536,    0.23 , ...,    0.   ,    1.   ,    0.   ]),\n",
       " array([ 102.3  ,    0.442,    0.26 , ...,    0.   ,    1.   ,    0.   ]),\n",
       " array([ 0.,  0.,  0., ...,  0.,  1.,  0.]),\n",
       " array([ 0.,  0.,  0., ...,  0.,  1.,  0.]),\n",
       " array([ 101.15 ,    0.866,    0.21 , ...,    0.   ,    1.   ,    0.   ]),\n",
       " array([ 102.55 ,    0.367,    0.26 , ...,    0.   ,    1.   ,    0.   ]),\n",
       " array([ 101.75 ,    0.885,    0.21 , ...,    0.   ,    1.   ,    0.   ]),\n",
       " array([ 102.65 ,    0.418,    0.26 , ...,    0.   ,    1.   ,    0.   ]),\n",
       " array([ 0.,  0.,  0., ...,  0.,  1.,  0.]),\n",
       " array([ 98.56 ,   0.555,   0.24 , ...,   0.   ,   1.   ,   0.   ]),\n",
       " array([ 101.55 ,    0.523,    0.23 , ...,    0.   ,    1.   ,    0.   ]),\n",
       " array([ 101.   ,    0.776,    0.22 , ...,    0.   ,    1.   ,    0.   ]),\n",
       " array([ 101.5  ,    0.829,    0.22 , ...,    0.   ,    1.   ,    0.   ]),\n",
       " array([ 100.7  ,    0.877,    0.21 , ...,    0.   ,    1.   ,    0.   ]),\n",
       " array([ 102.5  ,    0.365,    0.27 , ...,    0.   ,    1.   ,    0.   ]),\n",
       " array([ 101.8  ,    0.823,    0.21 , ...,    0.   ,    1.   ,    0.   ]),\n",
       " array([ 102.1  ,    0.439,    0.27 , ...,    0.   ,    1.   ,    0.   ]),\n",
       " array([ 101.75 ,    0.918,    0.21 , ...,    1.   ,    1.   ,    0.   ]),\n",
       " array([ 85.69 ,   0.471,   0.12 , ...,   0.   ,   1.   ,   0.   ]),\n",
       " array([ 99.41,   0.51,   0.24, ...,   0.  ,   1.  ,   0.  ]),\n",
       " array([ 101.8  ,    0.788,    0.22 , ...,    0.   ,    1.   ,    0.   ]),\n",
       " array([ 0.,  0.,  0., ...,  0.,  1.,  0.]),\n",
       " array([ 99.   ,   0.558,   0.24 , ...,   0.   ,   1.   ,   0.   ]),\n",
       " array([ 102.35 ,    0.378,    0.27 , ...,    0.   ,    1.   ,    0.   ]),\n",
       " array([ 101.55 ,    0.308,    0.4  , ...,    0.   ,    1.   ,    0.   ]),\n",
       " array([ 100.55 ,    0.882,    0.22 , ...,    0.   ,    1.   ,    0.   ]),\n",
       " array([ 100.75,    0.57,    0.23, ...,    0.  ,    1.  ,    0.  ]),\n",
       " array([ 100.35 ,    0.901,    0.22 , ...,    0.   ,    1.   ,    0.   ]),\n",
       " array([ 99.23,   0.58,   0.24, ...,   0.  ,   1.  ,   0.  ]),\n",
       " array([ 102.05 ,    0.825,    0.22 , ...,    0.   ,    1.   ,    0.   ]),\n",
       " array([ 102.1  ,    0.478,    0.27 , ...,    0.   ,    1.   ,    0.   ]),\n",
       " array([ 102.4  ,    0.403,    0.27 , ...,    1.   ,    1.   ,    0.   ]),\n",
       " array([ 85.65 ,   0.503,   0.12 , ...,   0.   ,   1.   ,   0.   ]),\n",
       " array([ 101.5  ,    0.309,    0.4  , ...,    0.   ,    1.   ,    0.   ]),\n",
       " array([ 101.5  ,    0.342,    0.4  , ...,    0.   ,    1.   ,    0.   ]),\n",
       " array([ 84.92 ,   0.524,   0.12 , ...,   0.   ,   1.   ,   0.   ]),\n",
       " array([ 101.75 ,    0.504,    0.26 , ...,    0.   ,    1.   ,    0.   ]),\n",
       " array([ 100.9  ,    0.528,    0.24 , ...,    0.   ,    1.   ,    0.   ]),\n",
       " array([ 102.2 ,    0.43,    0.27, ...,    0.  ,    1.  ,    0.  ]),\n",
       " array([ 101.85 ,    0.479,    0.27 , ...,    0.   ,    1.   ,    0.   ]),\n",
       " array([ 102.05 ,    0.459,    0.27 , ...,    0.   ,    1.   ,    0.   ]),\n",
       " array([ 0.,  0.,  0., ...,  0.,  1.,  0.]),\n",
       " array([ 102.7  ,    0.896,    0.21 , ...,    0.   ,    1.   ,    0.   ]),\n",
       " array([ 102.3  ,    0.441,    0.26 , ...,    0.   ,    1.   ,    0.   ]),\n",
       " array([ 102.35 ,    0.411,    0.27 , ...,    0.   ,    1.   ,    0.   ]),\n",
       " array([ 101.3  ,    0.341,    0.4  , ...,    0.   ,    1.   ,    0.   ]),\n",
       " array([ 100.4  ,    0.818,    0.22 , ...,    0.   ,    1.   ,    0.   ]),\n",
       " array([ 101.65 ,    0.588,    0.26 , ...,    0.   ,    1.   ,    0.   ]),\n",
       " array([ 0.,  0.,  0., ...,  0.,  1.,  0.]),\n",
       " array([ 102.3  ,    0.431,    0.26 , ...,    0.   ,    1.   ,    0.   ]),\n",
       " array([ 101.4  ,    0.782,    0.22 , ...,    0.   ,    1.   ,    0.   ]),\n",
       " array([ 99.13 ,   0.575,   0.24 , ...,   0.   ,   1.   ,   0.   ]),\n",
       " array([ 100.75 ,    0.559,    0.23 , ...,    0.   ,    1.   ,    0.   ]),\n",
       " array([ 102.05 ,    0.465,    0.27 , ...,    0.   ,    1.   ,    0.   ]),\n",
       " array([ 102.5  ,    0.437,    0.26 , ...,    0.   ,    1.   ,    0.   ]),\n",
       " array([ 0.,  0.,  0., ...,  0.,  1.,  0.]),\n",
       " array([ 100.85 ,    0.525,    0.24 , ...,    0.   ,    1.   ,    0.   ]),\n",
       " array([ 101.55 ,    0.537,    0.23 , ...,    0.   ,    1.   ,    0.   ]),\n",
       " array([ 100.2  ,    0.468,    0.24 , ...,    0.   ,    1.   ,    0.   ]),\n",
       " array([ 99.1  ,   0.569,   0.24 , ...,   0.   ,   1.   ,   0.   ]),\n",
       " array([ 102.15 ,    0.425,    0.27 , ...,    0.   ,    1.   ,    0.   ]),\n",
       " array([ 99.43 ,   0.506,   0.24 , ...,   1.   ,   1.   ,   0.   ]),\n",
       " array([ 85.53 ,   0.546,   0.12 , ...,   0.   ,   1.   ,   0.   ]),\n",
       " array([ 0.,  0.,  0., ...,  0.,  1.,  0.]),\n",
       " array([ 101.35 ,    0.787,    0.21 , ...,    0.   ,    1.   ,    0.   ]),\n",
       " array([ 0.,  0.,  0., ...,  0.,  1.,  0.]),\n",
       " array([ 102.05 ,    0.824,    0.22 , ...,    0.   ,    1.   ,    0.   ]),\n",
       " array([ 101.5  ,    0.314,    0.4  , ...,    0.   ,    1.   ,    0.   ]),\n",
       " array([ 100.95 ,    0.805,    0.22 , ...,    0.   ,    1.   ,    0.   ]),\n",
       " array([ 99.71,   0.58,   0.24, ...,   0.  ,   1.  ,   0.  ]),\n",
       " array([ 102.05 ,    0.796,    0.21 , ...,    0.   ,    1.   ,    0.   ]),\n",
       " array([ 100.35 ,    0.526,    0.24 , ...,    0.   ,    1.   ,    0.   ]),\n",
       " array([ 101.95 ,    0.484,    0.27 , ...,    0.   ,    1.   ,    0.   ]),\n",
       " array([ 100.1  ,    0.526,    0.24 , ...,    0.   ,    1.   ,    0.   ]),\n",
       " array([ 99.88 ,   0.533,   0.24 , ...,   0.   ,   1.   ,   0.   ]),\n",
       " array([ 100.5  ,    0.865,    0.22 , ...,    0.   ,    1.   ,    0.   ]),\n",
       " array([ 101.6  ,    0.946,    0.21 , ...,    0.   ,    1.   ,    0.   ]),\n",
       " array([ 102.4  ,    0.527,    0.25 , ...,    0.   ,    1.   ,    0.   ]),\n",
       " array([ 100.25 ,    0.514,    0.24 , ...,    0.   ,    1.   ,    0.   ]),\n",
       " array([ 100.85,    0.97,    0.22, ...,    0.  ,    1.  ,    0.  ]),\n",
       " array([ 0.,  0.,  0., ...,  0.,  1.,  0.]),\n",
       " array([ 101.85 ,    0.843,    0.21 , ...,    0.   ,    1.   ,    0.   ]),\n",
       " array([ 98.5  ,   0.553,   0.25 , ...,   0.   ,   1.   ,   0.   ]),\n",
       " array([ 100.2  ,    0.576,    0.14 , ...,    0.   ,    1.   ,    0.   ]),\n",
       " array([ 102.55 ,    0.401,    0.27 , ...,    1.   ,    1.   ,    0.   ]),\n",
       " array([ 101.05 ,    0.871,    0.21 , ...,    0.   ,    1.   ,    0.   ]),\n",
       " array([ 101.5  ,    0.312,    0.4  , ...,    0.   ,    1.   ,    0.   ]),\n",
       " array([ 86.27 ,   0.481,   0.12 , ...,   0.   ,   1.   ,   0.   ]),\n",
       " array([ 0.,  0.,  0., ...,  0.,  1.,  0.]),\n",
       " array([ 102.35 ,    0.385,    0.27 , ...,    0.   ,    1.   ,    0.   ]),\n",
       " array([ 0.,  0.,  0., ...,  0.,  1.,  0.]),\n",
       " array([ 101.45,    0.78,    0.22, ...,    0.  ,    1.  ,    0.  ]),\n",
       " array([ 101.65 ,    0.861,    0.21 , ...,    0.   ,    1.   ,    0.   ]),\n",
       " array([ 99.11 ,   0.571,   0.24 , ...,   0.   ,   1.   ,   0.   ]),\n",
       " array([ 102.2  ,    0.442,    0.26 , ...,    0.   ,    1.   ,    0.   ]),\n",
       " array([ 101.3  ,    0.343,    0.4  , ...,    0.   ,    1.   ,    0.   ]),\n",
       " array([ 85.58 ,   0.476,   0.12 , ...,   0.   ,   1.   ,   0.   ]),\n",
       " array([ 98.47 ,   0.544,   0.25 , ...,   0.   ,   1.   ,   0.   ]),\n",
       " array([ 101.   ,    0.498,    0.13 , ...,    0.   ,    1.   ,    0.   ]),\n",
       " array([ 100.75 ,    0.561,    0.23 , ...,    0.   ,    1.   ,    0.   ]),\n",
       " array([ 102.45 ,    0.405,    0.26 , ...,    0.   ,    1.   ,    0.   ]),\n",
       " array([ 0.,  0.,  0., ...,  0.,  1.,  0.]),\n",
       " array([ 100.55 ,    0.879,    0.21 , ...,    0.   ,    1.   ,    0.   ]),\n",
       " array([ 99.38,   0.58,   0.24, ...,   0.  ,   1.  ,   0.  ]),\n",
       " array([ 101.5  ,    0.312,    0.4  , ...,    0.   ,    1.   ,    0.   ]),\n",
       " array([ 102.   ,    0.817,    0.22 , ...,    0.   ,    1.   ,    0.   ]),\n",
       " array([ 101.55 ,    0.754,    0.22 , ...,    0.   ,    1.   ,    0.   ]),\n",
       " array([ 98.42 ,   0.545,   0.25 , ...,   0.   ,   1.   ,   0.   ]),\n",
       " array([ 101.45 ,    0.825,    0.21 , ...,    0.   ,    1.   ,    0.   ]),\n",
       " array([ 101.   ,    0.513,    0.13 , ...,    0.   ,    1.   ,    0.   ]),\n",
       " array([ 100.85 ,    0.547,    0.13 , ...,    0.   ,    1.   ,    0.   ]),\n",
       " array([ 102.15 ,    0.427,    0.27 , ...,    0.   ,    1.   ,    0.   ]),\n",
       " array([ 0.,  0.,  0., ...,  1.,  1.,  0.]),\n",
       " array([ 86.17 ,   0.581,   0.12 , ...,   0.   ,   1.   ,   0.   ]),\n",
       " array([ 102.05 ,    0.487,    0.26 , ...,    0.   ,    1.   ,    0.   ]),\n",
       " array([ 0.,  0.,  0., ...,  0.,  1.,  0.]),\n",
       " array([ 102.5  ,    0.409,    0.26 , ...,    0.   ,    1.   ,    0.   ]),\n",
       " array([ 98.82 ,   0.539,   0.24 , ...,   1.   ,   1.   ,   0.   ]),\n",
       " array([ 100.5  ,    0.822,    0.22 , ...,    0.   ,    1.   ,    0.   ]),\n",
       " array([ 100.9  ,    0.572,    0.23 , ...,    0.   ,    1.   ,    0.   ]),\n",
       " array([ 102.35 ,    0.402,    0.27 , ...,    0.   ,    1.   ,    0.   ]),\n",
       " array([ 101.85 ,    0.796,    0.22 , ...,    0.   ,    1.   ,    0.   ]),\n",
       " array([ 100.1  ,    0.596,    0.23 , ...,    0.   ,    1.   ,    0.   ]),\n",
       " array([ 85.12 ,   0.508,   0.12 , ...,   0.   ,   1.   ,   0.   ]),\n",
       " array([ 0.,  0.,  0., ...,  0.,  1.,  0.]),\n",
       " array([ 100.55 ,    0.566,    0.13 , ...,    0.   ,    1.   ,    0.   ]),\n",
       " array([ 86.31 ,   0.488,   0.12 , ...,   0.   ,   1.   ,   0.   ]),\n",
       " array([ 101.85 ,    0.866,    0.21 , ...,    0.   ,    1.   ,    0.   ]),\n",
       " array([ 98.93 ,   0.551,   0.24 , ...,   0.   ,   1.   ,   0.   ]),\n",
       " array([ 100.05 ,    0.615,    0.23 , ...,    0.   ,    1.   ,    0.   ]),\n",
       " array([ 86.16 ,   0.499,   0.12 , ...,   0.   ,   1.   ,   0.   ]),\n",
       " array([ 100.2 ,    0.62,    0.23, ...,    0.  ,    1.  ,    0.  ]),\n",
       " array([ 101.25 ,    0.526,    0.23 , ...,    0.   ,    1.   ,    0.   ]),\n",
       " array([ 101.3  ,    0.794,    0.22 , ...,    0.   ,    1.   ,    0.   ]),\n",
       " array([ 100.15 ,    0.621,    0.23 , ...,    0.   ,    1.   ,    0.   ]),\n",
       " array([ 100.55 ,    0.568,    0.24 , ...,    0.   ,    1.   ,    0.   ]),\n",
       " array([ 100.65,    0.54,    0.13, ...,    0.  ,    1.  ,    0.  ]),\n",
       " array([ 101.85 ,    0.825,    0.21 , ...,    0.   ,    1.   ,    0.   ]),\n",
       " array([ 102.1  ,    0.423,    0.26 , ...,    0.   ,    1.   ,    0.   ]),\n",
       " array([ 86.13 ,   0.504,   0.12 , ...,   0.   ,   1.   ,   0.   ]),\n",
       " array([ 102.1  ,    0.833,    0.21 , ...,    0.   ,    1.   ,    0.   ]),\n",
       " array([ 101.75 ,    0.875,    0.21 , ...,    0.   ,    1.   ,    0.   ]),\n",
       " array([ 0.,  0.,  0., ...,  0.,  1.,  0.]),\n",
       " array([ 101.65 ,    0.517,    0.26 , ...,    0.   ,    1.   ,    0.   ]),\n",
       " array([ 102.35 ,    0.489,    0.25 , ...,    0.   ,    1.   ,    0.   ]),\n",
       " array([ 101.3  ,    0.818,    0.22 , ...,    0.   ,    1.   ,    0.   ]),\n",
       " array([ 102.   ,    0.821,    0.21 , ...,    0.   ,    1.   ,    0.   ]),\n",
       " array([ 86.12 ,   0.509,   0.12 , ...,   0.   ,   1.   ,   0.   ]),\n",
       " array([ 101.6  ,    0.524,    0.23 , ...,    0.   ,    1.   ,    0.   ]),\n",
       " array([ 101.35,    0.51,    0.23, ...,    0.  ,    1.  ,    0.  ]),\n",
       " array([ 101.65,    0.53,    0.26, ...,    0.  ,    1.  ,    0.  ]),\n",
       " array([ 0.,  0.,  0., ...,  0.,  1.,  0.]),\n",
       " array([ 99.61 ,   0.568,   0.24 , ...,   0.   ,   1.   ,   0.   ]),\n",
       " array([ 101.5  ,    0.316,    0.4  , ...,    0.   ,    1.   ,    0.   ]),\n",
       " array([ 101.3  ,    0.346,    0.4  , ...,    0.   ,    1.   ,    0.   ]),\n",
       " array([ 0.,  0.,  0., ...,  0.,  1.,  0.]),\n",
       " array([ 102.05 ,    0.817,    0.21 , ...,    0.   ,    1.   ,    0.   ]),\n",
       " array([ 101.85 ,    0.834,    0.21 , ...,    0.   ,    1.   ,    0.   ]),\n",
       " array([ 100.95 ,    0.936,    0.22 , ...,    1.   ,    1.   ,    0.   ]),\n",
       " array([ 101.6  ,    0.532,    0.26 , ...,    0.   ,    1.   ,    0.   ])]"
      ]
     },
     "execution_count": 307,
     "metadata": {},
     "output_type": "execute_result"
    }
   ],
   "source": [
    "X_train"
   ]
  },
  {
   "cell_type": "code",
   "execution_count": null,
   "metadata": {},
   "outputs": [],
   "source": []
  },
  {
   "cell_type": "code",
   "execution_count": 173,
   "metadata": {},
   "outputs": [
    {
     "data": {
      "text/plain": [
       "(150, 5256)"
      ]
     },
     "execution_count": 173,
     "metadata": {},
     "output_type": "execute_result"
    }
   ],
   "source": [
    "X_valid.shape"
   ]
  },
  {
   "cell_type": "code",
   "execution_count": 174,
   "metadata": {},
   "outputs": [
    {
     "data": {
      "text/plain": [
       "350"
      ]
     },
     "execution_count": 174,
     "metadata": {},
     "output_type": "execute_result"
    }
   ],
   "source": [
    "len(y_train)"
   ]
  },
  {
   "cell_type": "code",
   "execution_count": 175,
   "metadata": {},
   "outputs": [
    {
     "data": {
      "text/plain": [
       "150"
      ]
     },
     "execution_count": 175,
     "metadata": {},
     "output_type": "execute_result"
    }
   ],
   "source": [
    "len(y_valid)"
   ]
  },
  {
   "cell_type": "markdown",
   "metadata": {},
   "source": [
    "#### 训练 lightGBM 模型"
   ]
  },
  {
   "cell_type": "code",
   "execution_count": 308,
   "metadata": {},
   "outputs": [],
   "source": [
    "gbm = lgm.LGBMRegressor(objective='regression',\n",
    "                         boosting_type= 'gbdt',\n",
    "                         metric = 'l2',\n",
    "                         is_enable_sparse = True,\n",
    "                         max_depth = 8,\n",
    "                         min_sum_hessian_in_leaf = 5.0,\n",
    "                         tree_learner = 'serial',\n",
    "                         num_trees = 10000,\n",
    "                         feature_fraction = 0.9,\n",
    "                         bagging_freq = 5,\n",
    "                         bagging_fraction = 0.8,\n",
    "                         min_data_in_leaf = 100,\n",
    "                         learning_rate = 0.05,\n",
    "                         n_estimators = 20,\n",
    "                         metric_freq = 1)"
   ]
  },
  {
   "cell_type": "code",
   "execution_count": 309,
   "metadata": {},
   "outputs": [
    {
     "name": "stderr",
     "output_type": "stream",
     "text": [
      "/usr/local/lib/python3.5/dist-packages/lightgbm/engine.py:99: UserWarning: Found `num_trees` in params. Will use it instead of argument\n",
      "  warnings.warn(\"Found `{}` in params. Will use it instead of argument\".format(alias))\n"
     ]
    },
    {
     "name": "stdout",
     "output_type": "stream",
     "text": [
      "[1]\tvalid_0's l2: 0.0368629\n",
      "Training until validation scores don't improve for 200 rounds.\n",
      "[2]\tvalid_0's l2: 0.0366725\n",
      "[3]\tvalid_0's l2: 0.0365106\n",
      "[4]\tvalid_0's l2: 0.0363738\n",
      "[5]\tvalid_0's l2: 0.0360866\n",
      "[6]\tvalid_0's l2: 0.0359261\n",
      "[7]\tvalid_0's l2: 0.0355798\n",
      "[8]\tvalid_0's l2: 0.0354524\n",
      "[9]\tvalid_0's l2: 0.0351086\n",
      "[10]\tvalid_0's l2: 0.0350088\n",
      "[11]\tvalid_0's l2: 0.0348057\n",
      "[12]\tvalid_0's l2: 0.0344995\n",
      "[13]\tvalid_0's l2: 0.0343108\n",
      "[14]\tvalid_0's l2: 0.0341065\n",
      "[15]\tvalid_0's l2: 0.0339339\n",
      "[16]\tvalid_0's l2: 0.0337429\n",
      "[17]\tvalid_0's l2: 0.0335785\n",
      "[18]\tvalid_0's l2: 0.03351\n",
      "[19]\tvalid_0's l2: 0.0333675\n",
      "[20]\tvalid_0's l2: 0.0333147\n",
      "[21]\tvalid_0's l2: 0.0333158\n",
      "[22]\tvalid_0's l2: 0.0331245\n",
      "[23]\tvalid_0's l2: 0.0329298\n",
      "[24]\tvalid_0's l2: 0.0329389\n",
      "[25]\tvalid_0's l2: 0.0328155\n",
      "[26]\tvalid_0's l2: 0.0326838\n",
      "[27]\tvalid_0's l2: 0.0325905\n",
      "[28]\tvalid_0's l2: 0.0324776\n",
      "[29]\tvalid_0's l2: 0.0324003\n",
      "[30]\tvalid_0's l2: 0.0321861\n",
      "[31]\tvalid_0's l2: 0.0320434\n",
      "[32]\tvalid_0's l2: 0.0319161\n",
      "[33]\tvalid_0's l2: 0.0319462\n",
      "[34]\tvalid_0's l2: 0.0318341\n",
      "[35]\tvalid_0's l2: 0.031797\n",
      "[36]\tvalid_0's l2: 0.0318313\n",
      "[37]\tvalid_0's l2: 0.031874\n",
      "[38]\tvalid_0's l2: 0.0318942\n",
      "[39]\tvalid_0's l2: 0.0319446\n",
      "[40]\tvalid_0's l2: 0.0319372\n",
      "[41]\tvalid_0's l2: 0.0319784\n",
      "[42]\tvalid_0's l2: 0.0318994\n",
      "[43]\tvalid_0's l2: 0.0318307\n",
      "[44]\tvalid_0's l2: 0.0318215\n",
      "[45]\tvalid_0's l2: 0.0316767\n",
      "[46]\tvalid_0's l2: 0.0316563\n",
      "[47]\tvalid_0's l2: 0.031647\n",
      "[48]\tvalid_0's l2: 0.0316474\n",
      "[49]\tvalid_0's l2: 0.0315673\n",
      "[50]\tvalid_0's l2: 0.031578\n",
      "[51]\tvalid_0's l2: 0.0316022\n",
      "[52]\tvalid_0's l2: 0.0315901\n",
      "[53]\tvalid_0's l2: 0.0316219\n",
      "[54]\tvalid_0's l2: 0.0314666\n",
      "[55]\tvalid_0's l2: 0.0314014\n",
      "[56]\tvalid_0's l2: 0.0313972\n",
      "[57]\tvalid_0's l2: 0.0314152\n",
      "[58]\tvalid_0's l2: 0.0314186\n",
      "[59]\tvalid_0's l2: 0.0314427\n",
      "[60]\tvalid_0's l2: 0.0313102\n",
      "[61]\tvalid_0's l2: 0.0311857\n",
      "[62]\tvalid_0's l2: 0.0311629\n",
      "[63]\tvalid_0's l2: 0.0310529\n",
      "[64]\tvalid_0's l2: 0.0310926\n",
      "[65]\tvalid_0's l2: 0.0310447\n",
      "[66]\tvalid_0's l2: 0.0309653\n",
      "[67]\tvalid_0's l2: 0.0308969\n",
      "[68]\tvalid_0's l2: 0.0309018\n",
      "[69]\tvalid_0's l2: 0.0308313\n",
      "[70]\tvalid_0's l2: 0.0307725\n",
      "[71]\tvalid_0's l2: 0.0307989\n",
      "[72]\tvalid_0's l2: 0.0309019\n",
      "[73]\tvalid_0's l2: 0.0307689\n",
      "[74]\tvalid_0's l2: 0.0308722\n",
      "[75]\tvalid_0's l2: 0.0307911\n",
      "[76]\tvalid_0's l2: 0.0306595\n",
      "[77]\tvalid_0's l2: 0.0306637\n",
      "[78]\tvalid_0's l2: 0.030544\n",
      "[79]\tvalid_0's l2: 0.0304332\n",
      "[80]\tvalid_0's l2: 0.0303248\n",
      "[81]\tvalid_0's l2: 0.0302584\n",
      "[82]\tvalid_0's l2: 0.0301253\n",
      "[83]\tvalid_0's l2: 0.0300313\n",
      "[84]\tvalid_0's l2: 0.0300402\n",
      "[85]\tvalid_0's l2: 0.0299868\n",
      "[86]\tvalid_0's l2: 0.0300258\n",
      "[87]\tvalid_0's l2: 0.0300109\n",
      "[88]\tvalid_0's l2: 0.0300548\n",
      "[89]\tvalid_0's l2: 0.0300472\n",
      "[90]\tvalid_0's l2: 0.030095\n",
      "[91]\tvalid_0's l2: 0.030174\n",
      "[92]\tvalid_0's l2: 0.0302563\n",
      "[93]\tvalid_0's l2: 0.0303409\n",
      "[94]\tvalid_0's l2: 0.0303634\n",
      "[95]\tvalid_0's l2: 0.0304487\n",
      "[96]\tvalid_0's l2: 0.0303693\n",
      "[97]\tvalid_0's l2: 0.0303006\n",
      "[98]\tvalid_0's l2: 0.030196\n",
      "[99]\tvalid_0's l2: 0.0301135\n",
      "[100]\tvalid_0's l2: 0.0300301\n",
      "[101]\tvalid_0's l2: 0.0299136\n",
      "[102]\tvalid_0's l2: 0.0299784\n",
      "[103]\tvalid_0's l2: 0.0298735\n",
      "[104]\tvalid_0's l2: 0.0299096\n",
      "[105]\tvalid_0's l2: 0.0299762\n",
      "[106]\tvalid_0's l2: 0.0299255\n",
      "[107]\tvalid_0's l2: 0.0299197\n",
      "[108]\tvalid_0's l2: 0.0299691\n",
      "[109]\tvalid_0's l2: 0.0299102\n",
      "[110]\tvalid_0's l2: 0.0298676\n",
      "[111]\tvalid_0's l2: 0.029882\n",
      "[112]\tvalid_0's l2: 0.0299002\n",
      "[113]\tvalid_0's l2: 0.0299217\n",
      "[114]\tvalid_0's l2: 0.0299457\n",
      "[115]\tvalid_0's l2: 0.0299247\n",
      "[116]\tvalid_0's l2: 0.0299117\n",
      "[117]\tvalid_0's l2: 0.0298237\n",
      "[118]\tvalid_0's l2: 0.0298379\n",
      "[119]\tvalid_0's l2: 0.0298307\n",
      "[120]\tvalid_0's l2: 0.0298019\n",
      "[121]\tvalid_0's l2: 0.0297347\n",
      "[122]\tvalid_0's l2: 0.0296771\n",
      "[123]\tvalid_0's l2: 0.0296281\n",
      "[124]\tvalid_0's l2: 0.0295865\n",
      "[125]\tvalid_0's l2: 0.0296133\n",
      "[126]\tvalid_0's l2: 0.029622\n",
      "[127]\tvalid_0's l2: 0.0296347\n",
      "[128]\tvalid_0's l2: 0.0296428\n",
      "[129]\tvalid_0's l2: 0.0296595\n",
      "[130]\tvalid_0's l2: 0.0296717\n",
      "[131]\tvalid_0's l2: 0.029597\n",
      "[132]\tvalid_0's l2: 0.0295318\n",
      "[133]\tvalid_0's l2: 0.0294498\n",
      "[134]\tvalid_0's l2: 0.0294001\n",
      "[135]\tvalid_0's l2: 0.0293343\n",
      "[136]\tvalid_0's l2: 0.0292757\n",
      "[137]\tvalid_0's l2: 0.0292249\n",
      "[138]\tvalid_0's l2: 0.0291812\n",
      "[139]\tvalid_0's l2: 0.0291711\n",
      "[140]\tvalid_0's l2: 0.0291593\n",
      "[141]\tvalid_0's l2: 0.0291759\n",
      "[142]\tvalid_0's l2: 0.0291827\n",
      "[143]\tvalid_0's l2: 0.029124\n",
      "[144]\tvalid_0's l2: 0.0291426\n",
      "[145]\tvalid_0's l2: 0.0291616\n",
      "[146]\tvalid_0's l2: 0.0291765\n",
      "[147]\tvalid_0's l2: 0.0291828\n",
      "[148]\tvalid_0's l2: 0.0291923\n",
      "[149]\tvalid_0's l2: 0.0292093\n",
      "[150]\tvalid_0's l2: 0.0292055\n",
      "[151]\tvalid_0's l2: 0.0292637\n",
      "[152]\tvalid_0's l2: 0.0292303\n",
      "[153]\tvalid_0's l2: 0.0292454\n",
      "[154]\tvalid_0's l2: 0.0293063\n",
      "[155]\tvalid_0's l2: 0.0292802\n",
      "[156]\tvalid_0's l2: 0.0292836\n",
      "[157]\tvalid_0's l2: 0.0292263\n",
      "[158]\tvalid_0's l2: 0.029234\n",
      "[159]\tvalid_0's l2: 0.0292455\n",
      "[160]\tvalid_0's l2: 0.0292106\n",
      "[161]\tvalid_0's l2: 0.0291588\n",
      "[162]\tvalid_0's l2: 0.0291622\n",
      "[163]\tvalid_0's l2: 0.0292014\n",
      "[164]\tvalid_0's l2: 0.0291545\n",
      "[165]\tvalid_0's l2: 0.029155\n",
      "[166]\tvalid_0's l2: 0.0291881\n",
      "[167]\tvalid_0's l2: 0.0292459\n",
      "[168]\tvalid_0's l2: 0.0293041\n",
      "[169]\tvalid_0's l2: 0.0292895\n",
      "[170]\tvalid_0's l2: 0.0293236\n",
      "[171]\tvalid_0's l2: 0.0292933\n",
      "[172]\tvalid_0's l2: 0.0292982\n",
      "[173]\tvalid_0's l2: 0.0291904\n",
      "[174]\tvalid_0's l2: 0.0291754\n",
      "[175]\tvalid_0's l2: 0.0291304\n",
      "[176]\tvalid_0's l2: 0.0291282\n",
      "[177]\tvalid_0's l2: 0.0290873\n",
      "[178]\tvalid_0's l2: 0.0290883\n",
      "[179]\tvalid_0's l2: 0.029052\n",
      "[180]\tvalid_0's l2: 0.0290707\n",
      "[181]\tvalid_0's l2: 0.0291384\n",
      "[182]\tvalid_0's l2: 0.0292064\n",
      "[183]\tvalid_0's l2: 0.0292964\n",
      "[184]\tvalid_0's l2: 0.0293852\n",
      "[185]\tvalid_0's l2: 0.0294532\n",
      "[186]\tvalid_0's l2: 0.0294254\n",
      "[187]\tvalid_0's l2: 0.0294022\n",
      "[188]\tvalid_0's l2: 0.0293849\n",
      "[189]\tvalid_0's l2: 0.0293315\n",
      "[190]\tvalid_0's l2: 0.0293139\n",
      "[191]\tvalid_0's l2: 0.0293131\n",
      "[192]\tvalid_0's l2: 0.0293159\n",
      "[193]\tvalid_0's l2: 0.0292481\n",
      "[194]\tvalid_0's l2: 0.0292604\n",
      "[195]\tvalid_0's l2: 0.0292653\n",
      "[196]\tvalid_0's l2: 0.0292819\n",
      "[197]\tvalid_0's l2: 0.0292223\n",
      "[198]\tvalid_0's l2: 0.0292197\n",
      "[199]\tvalid_0's l2: 0.0292379\n",
      "[200]\tvalid_0's l2: 0.0291774\n",
      "[201]\tvalid_0's l2: 0.0291379\n",
      "[202]\tvalid_0's l2: 0.0291199\n",
      "[203]\tvalid_0's l2: 0.0290852\n",
      "[204]\tvalid_0's l2: 0.0291178\n",
      "[205]\tvalid_0's l2: 0.0290881\n",
      "[206]\tvalid_0's l2: 0.0290903\n",
      "[207]\tvalid_0's l2: 0.0290706\n",
      "[208]\tvalid_0's l2: 0.029098\n",
      "[209]\tvalid_0's l2: 0.0291036\n",
      "[210]\tvalid_0's l2: 0.0291007\n",
      "[211]\tvalid_0's l2: 0.0290739\n",
      "[212]\tvalid_0's l2: 0.0290381\n",
      "[213]\tvalid_0's l2: 0.0290072\n",
      "[214]\tvalid_0's l2: 0.0289867\n",
      "[215]\tvalid_0's l2: 0.0289474\n",
      "[216]\tvalid_0's l2: 0.0289501\n",
      "[217]\tvalid_0's l2: 0.0289474\n",
      "[218]\tvalid_0's l2: 0.0289392\n",
      "[219]\tvalid_0's l2: 0.0289227\n",
      "[220]\tvalid_0's l2: 0.028928\n",
      "[221]\tvalid_0's l2: 0.0288988\n",
      "[222]\tvalid_0's l2: 0.0288404\n",
      "[223]\tvalid_0's l2: 0.028867\n",
      "[224]\tvalid_0's l2: 0.0288413\n",
      "[225]\tvalid_0's l2: 0.0288241\n",
      "[226]\tvalid_0's l2: 0.0288499\n",
      "[227]\tvalid_0's l2: 0.0288777\n",
      "[228]\tvalid_0's l2: 0.0289072\n",
      "[229]\tvalid_0's l2: 0.0289188\n",
      "[230]\tvalid_0's l2: 0.0288628\n",
      "[231]\tvalid_0's l2: 0.0288128\n",
      "[232]\tvalid_0's l2: 0.0288195\n",
      "[233]\tvalid_0's l2: 0.0288291\n",
      "[234]\tvalid_0's l2: 0.0288613\n",
      "[235]\tvalid_0's l2: 0.0288739\n",
      "[236]\tvalid_0's l2: 0.028834\n",
      "[237]\tvalid_0's l2: 0.0287993\n",
      "[238]\tvalid_0's l2: 0.0288625\n",
      "[239]\tvalid_0's l2: 0.0289252\n",
      "[240]\tvalid_0's l2: 0.0288948\n",
      "[241]\tvalid_0's l2: 0.028888\n",
      "[242]\tvalid_0's l2: 0.0289041\n",
      "[243]\tvalid_0's l2: 0.0289\n",
      "[244]\tvalid_0's l2: 0.028918\n",
      "[245]\tvalid_0's l2: 0.0289162\n",
      "[246]\tvalid_0's l2: 0.028953\n",
      "[247]\tvalid_0's l2: 0.0289913\n",
      "[248]\tvalid_0's l2: 0.0289932\n",
      "[249]\tvalid_0's l2: 0.0289927\n",
      "[250]\tvalid_0's l2: 0.0289911\n",
      "[251]\tvalid_0's l2: 0.028998\n",
      "[252]\tvalid_0's l2: 0.0289804\n",
      "[253]\tvalid_0's l2: 0.0288918\n",
      "[254]\tvalid_0's l2: 0.0289036\n",
      "[255]\tvalid_0's l2: 0.0288913\n",
      "[256]\tvalid_0's l2: 0.0289303\n",
      "[257]\tvalid_0's l2: 0.028971\n",
      "[258]\tvalid_0's l2: 0.0289361\n",
      "[259]\tvalid_0's l2: 0.0289778\n",
      "[260]\tvalid_0's l2: 0.0290038\n",
      "[261]\tvalid_0's l2: 0.0289762\n",
      "[262]\tvalid_0's l2: 0.028922\n",
      "[263]\tvalid_0's l2: 0.0288732\n",
      "[264]\tvalid_0's l2: 0.0288492\n",
      "[265]\tvalid_0's l2: 0.0288291\n",
      "[266]\tvalid_0's l2: 0.0288877\n",
      "[267]\tvalid_0's l2: 0.0289459\n",
      "[268]\tvalid_0's l2: 0.0289247\n",
      "[269]\tvalid_0's l2: 0.0289824\n",
      "[270]\tvalid_0's l2: 0.0289507\n",
      "[271]\tvalid_0's l2: 0.0290022\n",
      "[272]\tvalid_0's l2: 0.0289869\n",
      "[273]\tvalid_0's l2: 0.0290391\n",
      "[274]\tvalid_0's l2: 0.0290277\n",
      "[275]\tvalid_0's l2: 0.0290804\n",
      "[276]\tvalid_0's l2: 0.0291259\n",
      "[277]\tvalid_0's l2: 0.0291726\n",
      "[278]\tvalid_0's l2: 0.0292201\n"
     ]
    },
    {
     "name": "stdout",
     "output_type": "stream",
     "text": [
      "[279]\tvalid_0's l2: 0.029257\n",
      "[280]\tvalid_0's l2: 0.0293051\n",
      "[281]\tvalid_0's l2: 0.0293338\n",
      "[282]\tvalid_0's l2: 0.0293633\n",
      "[283]\tvalid_0's l2: 0.0293761\n",
      "[284]\tvalid_0's l2: 0.029402\n",
      "[285]\tvalid_0's l2: 0.0294427\n",
      "[286]\tvalid_0's l2: 0.02946\n",
      "[287]\tvalid_0's l2: 0.0294479\n",
      "[288]\tvalid_0's l2: 0.0294002\n",
      "[289]\tvalid_0's l2: 0.0293987\n",
      "[290]\tvalid_0's l2: 0.0294175\n",
      "[291]\tvalid_0's l2: 0.0294658\n",
      "[292]\tvalid_0's l2: 0.0294215\n",
      "[293]\tvalid_0's l2: 0.0293943\n",
      "[294]\tvalid_0's l2: 0.0294002\n",
      "[295]\tvalid_0's l2: 0.0294472\n",
      "[296]\tvalid_0's l2: 0.0294228\n",
      "[297]\tvalid_0's l2: 0.0294019\n",
      "[298]\tvalid_0's l2: 0.0293598\n",
      "[299]\tvalid_0's l2: 0.0293417\n",
      "[300]\tvalid_0's l2: 0.0292909\n",
      "[301]\tvalid_0's l2: 0.0292704\n",
      "[302]\tvalid_0's l2: 0.029233\n",
      "[303]\tvalid_0's l2: 0.0291999\n",
      "[304]\tvalid_0's l2: 0.0291853\n",
      "[305]\tvalid_0's l2: 0.0292118\n",
      "[306]\tvalid_0's l2: 0.0292861\n",
      "[307]\tvalid_0's l2: 0.0293604\n",
      "[308]\tvalid_0's l2: 0.02939\n",
      "[309]\tvalid_0's l2: 0.0294624\n",
      "[310]\tvalid_0's l2: 0.029502\n",
      "[311]\tvalid_0's l2: 0.0294872\n",
      "[312]\tvalid_0's l2: 0.0295085\n",
      "[313]\tvalid_0's l2: 0.0295163\n",
      "[314]\tvalid_0's l2: 0.0295043\n",
      "[315]\tvalid_0's l2: 0.0295263\n",
      "[316]\tvalid_0's l2: 0.0295799\n",
      "[317]\tvalid_0's l2: 0.029633\n",
      "[318]\tvalid_0's l2: 0.0296345\n",
      "[319]\tvalid_0's l2: 0.0296229\n",
      "[320]\tvalid_0's l2: 0.029579\n",
      "[321]\tvalid_0's l2: 0.0295772\n",
      "[322]\tvalid_0's l2: 0.0295783\n",
      "[323]\tvalid_0's l2: 0.029582\n",
      "[324]\tvalid_0's l2: 0.0296069\n",
      "[325]\tvalid_0's l2: 0.0296117\n",
      "[326]\tvalid_0's l2: 0.0296048\n",
      "[327]\tvalid_0's l2: 0.0295879\n",
      "[328]\tvalid_0's l2: 0.0295849\n",
      "[329]\tvalid_0's l2: 0.0295478\n",
      "[330]\tvalid_0's l2: 0.0295481\n",
      "[331]\tvalid_0's l2: 0.0295574\n",
      "[332]\tvalid_0's l2: 0.0295316\n",
      "[333]\tvalid_0's l2: 0.0295704\n",
      "[334]\tvalid_0's l2: 0.0295815\n",
      "[335]\tvalid_0's l2: 0.0295761\n",
      "[336]\tvalid_0's l2: 0.0295445\n",
      "[337]\tvalid_0's l2: 0.0295167\n",
      "[338]\tvalid_0's l2: 0.0294851\n",
      "[339]\tvalid_0's l2: 0.0294885\n",
      "[340]\tvalid_0's l2: 0.0294642\n",
      "[341]\tvalid_0's l2: 0.02942\n",
      "[342]\tvalid_0's l2: 0.02938\n",
      "[343]\tvalid_0's l2: 0.0293694\n",
      "[344]\tvalid_0's l2: 0.0293336\n",
      "[345]\tvalid_0's l2: 0.0293258\n",
      "[346]\tvalid_0's l2: 0.0293393\n",
      "[347]\tvalid_0's l2: 0.0293548\n",
      "[348]\tvalid_0's l2: 0.0294089\n",
      "[349]\tvalid_0's l2: 0.0294001\n",
      "[350]\tvalid_0's l2: 0.0294043\n",
      "[351]\tvalid_0's l2: 0.0293685\n",
      "[352]\tvalid_0's l2: 0.0294004\n",
      "[353]\tvalid_0's l2: 0.0293694\n",
      "[354]\tvalid_0's l2: 0.02937\n",
      "[355]\tvalid_0's l2: 0.0293081\n",
      "[356]\tvalid_0's l2: 0.0292705\n",
      "[357]\tvalid_0's l2: 0.0292697\n",
      "[358]\tvalid_0's l2: 0.0292375\n",
      "[359]\tvalid_0's l2: 0.0292394\n",
      "[360]\tvalid_0's l2: 0.0292414\n",
      "[361]\tvalid_0's l2: 0.0292289\n",
      "[362]\tvalid_0's l2: 0.0292258\n",
      "[363]\tvalid_0's l2: 0.0292004\n",
      "[364]\tvalid_0's l2: 0.0291744\n",
      "[365]\tvalid_0's l2: 0.0291654\n",
      "[366]\tvalid_0's l2: 0.0291748\n",
      "[367]\tvalid_0's l2: 0.029186\n",
      "[368]\tvalid_0's l2: 0.0291987\n",
      "[369]\tvalid_0's l2: 0.0291933\n",
      "[370]\tvalid_0's l2: 0.0292075\n",
      "[371]\tvalid_0's l2: 0.0292006\n",
      "[372]\tvalid_0's l2: 0.0292388\n",
      "[373]\tvalid_0's l2: 0.029272\n",
      "[374]\tvalid_0's l2: 0.0293034\n",
      "[375]\tvalid_0's l2: 0.0293242\n",
      "[376]\tvalid_0's l2: 0.0293396\n",
      "[377]\tvalid_0's l2: 0.0293562\n",
      "[378]\tvalid_0's l2: 0.0293602\n",
      "[379]\tvalid_0's l2: 0.0293622\n",
      "[380]\tvalid_0's l2: 0.029379\n",
      "[381]\tvalid_0's l2: 0.0294394\n",
      "[382]\tvalid_0's l2: 0.0294997\n",
      "[383]\tvalid_0's l2: 0.0295596\n",
      "[384]\tvalid_0's l2: 0.0296106\n",
      "[385]\tvalid_0's l2: 0.0296697\n",
      "[386]\tvalid_0's l2: 0.0297144\n",
      "[387]\tvalid_0's l2: 0.0296674\n",
      "[388]\tvalid_0's l2: 0.0297116\n",
      "[389]\tvalid_0's l2: 0.0297493\n",
      "[390]\tvalid_0's l2: 0.0297449\n",
      "[391]\tvalid_0's l2: 0.0297229\n",
      "[392]\tvalid_0's l2: 0.0297105\n",
      "[393]\tvalid_0's l2: 0.0296917\n",
      "[394]\tvalid_0's l2: 0.0296882\n",
      "[395]\tvalid_0's l2: 0.0296782\n",
      "[396]\tvalid_0's l2: 0.0296653\n",
      "[397]\tvalid_0's l2: 0.0297105\n",
      "[398]\tvalid_0's l2: 0.0296985\n",
      "[399]\tvalid_0's l2: 0.0296861\n",
      "[400]\tvalid_0's l2: 0.0296767\n",
      "[401]\tvalid_0's l2: 0.0297335\n",
      "[402]\tvalid_0's l2: 0.0297574\n",
      "[403]\tvalid_0's l2: 0.029786\n",
      "[404]\tvalid_0's l2: 0.0298412\n",
      "[405]\tvalid_0's l2: 0.0298545\n",
      "[406]\tvalid_0's l2: 0.0298483\n",
      "[407]\tvalid_0's l2: 0.0298451\n",
      "[408]\tvalid_0's l2: 0.0298422\n",
      "[409]\tvalid_0's l2: 0.0298418\n",
      "[410]\tvalid_0's l2: 0.0298418\n",
      "[411]\tvalid_0's l2: 0.0298531\n",
      "[412]\tvalid_0's l2: 0.0298551\n",
      "[413]\tvalid_0's l2: 0.0298676\n",
      "[414]\tvalid_0's l2: 0.0298706\n",
      "[415]\tvalid_0's l2: 0.0298872\n",
      "[416]\tvalid_0's l2: 0.0298929\n",
      "[417]\tvalid_0's l2: 0.0299005\n",
      "[418]\tvalid_0's l2: 0.0298972\n",
      "[419]\tvalid_0's l2: 0.0298962\n",
      "[420]\tvalid_0's l2: 0.0299421\n",
      "[421]\tvalid_0's l2: 0.0299097\n",
      "[422]\tvalid_0's l2: 0.0299018\n",
      "[423]\tvalid_0's l2: 0.0298756\n",
      "[424]\tvalid_0's l2: 0.0298716\n",
      "[425]\tvalid_0's l2: 0.0298492\n",
      "[426]\tvalid_0's l2: 0.0298585\n",
      "[427]\tvalid_0's l2: 0.0298695\n",
      "[428]\tvalid_0's l2: 0.0298819\n",
      "[429]\tvalid_0's l2: 0.0298481\n",
      "[430]\tvalid_0's l2: 0.0298619\n",
      "[431]\tvalid_0's l2: 0.0299334\n",
      "[432]\tvalid_0's l2: 0.0300056\n",
      "[433]\tvalid_0's l2: 0.030078\n",
      "[434]\tvalid_0's l2: 0.0301503\n",
      "[435]\tvalid_0's l2: 0.0302221\n",
      "[436]\tvalid_0's l2: 0.0302466\n",
      "[437]\tvalid_0's l2: 0.0302763\n",
      "Early stopping, best iteration is:\n",
      "[237]\tvalid_0's l2: 0.0287993\n"
     ]
    },
    {
     "data": {
      "text/plain": [
       "LGBMRegressor(bagging_fraction=0.8, bagging_freq=5, boosting_type='gbdt',\n",
       "       class_weight=None, colsample_bytree=1.0, feature_fraction=0.9,\n",
       "       is_enable_sparse=True, learning_rate=0.05, max_depth=8, metric='l2',\n",
       "       metric_freq=1, min_child_samples=20, min_child_weight=0.001,\n",
       "       min_data_in_leaf=100, min_split_gain=0.0,\n",
       "       min_sum_hessian_in_leaf=5.0, n_estimators=20, n_jobs=-1,\n",
       "       num_leaves=31, num_trees=10000, objective='regression',\n",
       "       random_state=None, reg_alpha=0.0, reg_lambda=0.0, silent=True,\n",
       "       subsample=1.0, subsample_for_bin=200000, subsample_freq=1,\n",
       "       tree_learner='serial')"
      ]
     },
     "execution_count": 309,
     "metadata": {},
     "output_type": "execute_result"
    }
   ],
   "source": [
    "gbm.fit(X_train, y_train,\n",
    "        eval_set=[(X_valid, y_valid)],\n",
    "        eval_metric='l2',\n",
    "        early_stopping_rounds=200)"
   ]
  },
  {
   "cell_type": "code",
   "execution_count": 286,
   "metadata": {},
   "outputs": [],
   "source": [
    "y_pred = gbm.predict(X_valid)"
   ]
  },
  {
   "cell_type": "code",
   "execution_count": 287,
   "metadata": {},
   "outputs": [],
   "source": [
    "from sklearn.metrics import mean_squared_error"
   ]
  },
  {
   "cell_type": "code",
   "execution_count": 288,
   "metadata": {},
   "outputs": [
    {
     "data": {
      "text/plain": [
       "0.02729396764305396"
      ]
     },
     "execution_count": 288,
     "metadata": {},
     "output_type": "execute_result"
    }
   ],
   "source": [
    "mean_squared_error(y_pred, y_valid)"
   ]
  },
  {
   "cell_type": "code",
   "execution_count": 289,
   "metadata": {},
   "outputs": [
    {
     "data": {
      "image/png": "[encoded data removed]",
      "text/plain": [
       "<matplotlib.figure.Figure at 0x7f588904eb38>"
      ]
     },
     "metadata": {},
     "output_type": "display_data"
    }
   ],
   "source": [
    "x = range(len(y_pred))\n",
    "plt.plot(x, y_pred, 'r-*', label='y_pred')\n",
    "plt.plot(x, y_valid, 'b-o', label='y_valid')\n",
    "plt.legend()\n",
    "plt.show()"
   ]
  },
  {
   "cell_type": "code",
   "execution_count": 290,
   "metadata": {},
   "outputs": [],
   "source": [
    "s_pre = pd.Series(y_pred)"
   ]
  },
  {
   "cell_type": "code",
   "execution_count": 291,
   "metadata": {},
   "outputs": [],
   "source": [
    "s_val = pd.Series(y_valid)"
   ]
  },
  {
   "cell_type": "code",
   "execution_count": 292,
   "metadata": {},
   "outputs": [
    {
     "data": {
      "image/png": "[encoded data removed]",
      "text/plain": [
       "<matplotlib.figure.Figure at 0x7f5889066a58>"
      ]
     },
     "metadata": {},
     "output_type": "display_data"
    }
   ],
   "source": [
    "x = range(len(s_pre))\n",
    "plt.plot(x, s_pre.sort_values().values, 'r-*', label='lr_y_pred')\n",
    "plt.plot(x, s_val.sort_values().values, 'b-o', label='y_valid')\n",
    "plt.legend()\n",
    "plt.show()"
   ]
  },
  {
   "cell_type": "code",
   "execution_count": 185,
   "metadata": {},
   "outputs": [],
   "source": [
    "s_all = pd.Series(y_train_all)"
   ]
  },
  {
   "cell_type": "code",
   "execution_count": 186,
   "metadata": {},
   "outputs": [
    {
     "data": {
      "image/png": "[encoded data removed]",
      "text/plain": [
       "<matplotlib.figure.Figure at 0x7f588ce9f5f8>"
      ]
     },
     "metadata": {},
     "output_type": "display_data"
    }
   ],
   "source": [
    "x = range(len(s_all))\n",
    "plt.plot(x, s_all.sort_values().values, 'b-o', label='y_valid')\n",
    "plt.legend()\n",
    "plt.show()"
   ]
  },
  {
   "cell_type": "code",
   "execution_count": 143,
   "metadata": {},
   "outputs": [
    {
     "data": {
      "text/plain": [
       "0.026200575807943091"
      ]
     },
     "execution_count": 143,
     "metadata": {},
     "output_type": "execute_result"
    }
   ],
   "source": [
    "mean_squared_error(y_valid, y_pred)"
   ]
  },
  {
   "cell_type": "code",
   "execution_count": null,
   "metadata": {},
   "outputs": [],
   "source": []
  },
  {
   "cell_type": "code",
   "execution_count": null,
   "metadata": {},
   "outputs": [],
   "source": []
  },
  {
   "cell_type": "code",
   "execution_count": null,
   "metadata": {},
   "outputs": [],
   "source": []
  },
  {
   "cell_type": "code",
   "execution_count": null,
   "metadata": {},
   "outputs": [],
   "source": []
  },
  {
   "cell_type": "code",
   "execution_count": 144,
   "metadata": {},
   "outputs": [],
   "source": [
    "importance = pd.Series(gbm.feature_importances_, index=train_X_num_str.columns)"
   ]
  },
  {
   "cell_type": "code",
   "execution_count": null,
   "metadata": {},
   "outputs": [],
   "source": []
  },
  {
   "cell_type": "code",
   "execution_count": 145,
   "metadata": {},
   "outputs": [],
   "source": [
    "importanct_feature = []\n",
    "for index in range(len(importance)):\n",
    "    if importance[index] > 0:\n",
    "        importanct_feature.append(importance.index[index])"
   ]
  },
  {
   "cell_type": "code",
   "execution_count": 146,
   "metadata": {},
   "outputs": [
    {
     "data": {
      "text/plain": [
       "33"
      ]
     },
     "execution_count": 146,
     "metadata": {},
     "output_type": "execute_result"
    }
   ],
   "source": [
    "len(importanct_feature)"
   ]
  },
  {
   "cell_type": "code",
   "execution_count": null,
   "metadata": {},
   "outputs": [],
   "source": []
  },
  {
   "cell_type": "code",
   "execution_count": 147,
   "metadata": {},
   "outputs": [
    {
     "data": {
      "text/plain": [
       "['210X12',\n",
       " '210X89',\n",
       " '210X158',\n",
       " '210X176',\n",
       " '210X207',\n",
       " '210X230',\n",
       " '310X9',\n",
       " '310X13',\n",
       " '310X33',\n",
       " '310X132',\n",
       " '310X148',\n",
       " '310X153',\n",
       " '261X387',\n",
       " '312X776',\n",
       " '312X778',\n",
       " '312X782',\n",
       " '312X784',\n",
       " '312X785',\n",
       " '312X790',\n",
       " '330X103',\n",
       " '330X196',\n",
       " '330X218',\n",
       " '330X409',\n",
       " '330X468',\n",
       " '330X932',\n",
       " '330X1129',\n",
       " '330X1132',\n",
       " '330X1146',\n",
       " '340X105',\n",
       " '360X1139',\n",
       " '440AX14',\n",
       " '440AX189',\n",
       " 'nan_count']"
      ]
     },
     "execution_count": 147,
     "metadata": {},
     "output_type": "execute_result"
    }
   ],
   "source": [
    "importanct_feature"
   ]
  },
  {
   "cell_type": "code",
   "execution_count": null,
   "metadata": {},
   "outputs": [],
   "source": []
  },
  {
   "cell_type": "markdown",
   "metadata": {},
   "source": [
    "#### 使用线性回归"
   ]
  },
  {
   "cell_type": "code",
   "execution_count": 310,
   "metadata": {},
   "outputs": [],
   "source": [
    "from sklearn.linear_model import LinearRegression"
   ]
  },
  {
   "cell_type": "code",
   "execution_count": null,
   "metadata": {},
   "outputs": [],
   "source": []
  },
  {
   "cell_type": "code",
   "execution_count": 311,
   "metadata": {},
   "outputs": [
    {
     "data": {
      "text/plain": [
       "LinearRegression(copy_X=True, fit_intercept=True, n_jobs=1, normalize=False)"
      ]
     },
     "execution_count": 311,
     "metadata": {},
     "output_type": "execute_result"
    }
   ],
   "source": [
    "lr = LinearRegression()\n",
    "lr.fit(X_train, y_train)"
   ]
  },
  {
   "cell_type": "code",
   "execution_count": null,
   "metadata": {},
   "outputs": [],
   "source": []
  },
  {
   "cell_type": "code",
   "execution_count": 312,
   "metadata": {},
   "outputs": [],
   "source": [
    "lr_y_pred = lr.predict(X_valid)"
   ]
  },
  {
   "cell_type": "code",
   "execution_count": 313,
   "metadata": {},
   "outputs": [
    {
     "data": {
      "text/plain": [
       "1.3669890699566818"
      ]
     },
     "execution_count": 313,
     "metadata": {},
     "output_type": "execute_result"
    }
   ],
   "source": [
    "mean_squared_error(lr_y_pred, y_valid)"
   ]
  },
  {
   "cell_type": "code",
   "execution_count": 322,
   "metadata": {},
   "outputs": [],
   "source": [
    "lr_y_pr = []\n",
    "for index in range(len(lr_y_pred)):\n",
    "    if  lr_y_pred[index] > 3.4 or lr_y_pred[index] <2.0:\n",
    "        lr_y_pr.append(y_valid[index])\n",
    "    else:\n",
    "        lr_y_pr.append(lr_y_pred[index])"
   ]
  },
  {
   "cell_type": "code",
   "execution_count": 323,
   "metadata": {},
   "outputs": [],
   "source": [
    "lr_s_pre = pd.Series(lr_y_pr)\n",
    "lr_s_val = pd.Series(y_valid)"
   ]
  },
  {
   "cell_type": "code",
   "execution_count": 324,
   "metadata": {},
   "outputs": [
    {
     "data": {
      "text/plain": [
       "151"
      ]
     },
     "execution_count": 324,
     "metadata": {},
     "output_type": "execute_result"
    }
   ],
   "source": [
    "len(lr_s_pre)"
   ]
  },
  {
   "cell_type": "code",
   "execution_count": 325,
   "metadata": {},
   "outputs": [
    {
     "data": {
      "text/plain": [
       "151"
      ]
     },
     "execution_count": 325,
     "metadata": {},
     "output_type": "execute_result"
    }
   ],
   "source": [
    "len(lr_s_val)"
   ]
  },
  {
   "cell_type": "code",
   "execution_count": 326,
   "metadata": {},
   "outputs": [
    {
     "data": {
      "image/png": "[encoded data removed]",
      "text/plain": [
       "<matplotlib.figure.Figure at 0x7f5888e9ddd8>"
      ]
     },
     "metadata": {},
     "output_type": "display_data"
    }
   ],
   "source": [
    "x = range(len(lr_y_pr))\n",
    "plt.plot(x, lr_y_pr, 'r-*', label='lr_y_pred')\n",
    "plt.plot(x, y_valid, 'b-o', label='y_valid')\n",
    "plt.legend()\n",
    "plt.show()"
   ]
  },
  {
   "cell_type": "code",
   "execution_count": 327,
   "metadata": {},
   "outputs": [
    {
     "data": {
      "image/png": "[encoded data removed]",
      "text/plain": [
       "<matplotlib.figure.Figure at 0x7f5889a290f0>"
      ]
     },
     "metadata": {},
     "output_type": "display_data"
    }
   ],
   "source": [
    "x = range(len(lr_s_val))\n",
    "plt.plot(x, lr_s_pre.sort_values().values, 'r-*', label='lr_y_pred')\n",
    "plt.plot(x, lr_s_val.sort_values().values, 'b-o', label='y_valid')\n",
    "plt.legend()\n",
    "plt.show()"
   ]
  },
  {
   "cell_type": "code",
   "execution_count": 328,
   "metadata": {},
   "outputs": [
    {
     "data": {
      "text/plain": [
       "0.095683505758611453"
      ]
     },
     "execution_count": 328,
     "metadata": {},
     "output_type": "execute_result"
    }
   ],
   "source": [
    "mean_squared_error(lr_y_pr, y_valid)"
   ]
  },
  {
   "cell_type": "code",
   "execution_count": null,
   "metadata": {},
   "outputs": [],
   "source": []
  },
  {
   "cell_type": "markdown",
   "metadata": {},
   "source": [
    "#### 使用二次多项式回归"
   ]
  },
  {
   "cell_type": "code",
   "execution_count": 113,
   "metadata": {},
   "outputs": [],
   "source": [
    "from sklearn.preprocessing import PolynomialFeatures"
   ]
  },
  {
   "cell_type": "code",
   "execution_count": 114,
   "metadata": {},
   "outputs": [],
   "source": [
    "poly2 = PolynomialFeatures(degree=2)"
   ]
  },
  {
   "cell_type": "code",
   "execution_count": 116,
   "metadata": {},
   "outputs": [
    {
     "ename": "MemoryError",
     "evalue": "",
     "output_type": "error",
     "traceback": [
      "\u001b[0;31m---------------------------------------------------------------------------\u001b[0m",
      "\u001b[0;31mMemoryError\u001b[0m                               Traceback (most recent call last)",
      "\u001b[0;32m<ipython-input-116-0997b6537915>\u001b[0m in \u001b[0;36m<module>\u001b[0;34m()\u001b[0m\n\u001b[0;32m----> 1\u001b[0;31m \u001b[0mX_train_poly2\u001b[0m \u001b[0;34m=\u001b[0m \u001b[0mpoly2\u001b[0m\u001b[0;34m.\u001b[0m\u001b[0mfit_transform\u001b[0m\u001b[0;34m(\u001b[0m\u001b[0mX_train\u001b[0m\u001b[0;34m)\u001b[0m\u001b[0;34m\u001b[0m\u001b[0m\n\u001b[0m",
      "\u001b[0;32m/usr/local/lib/python3.5/dist-packages/sklearn/base.py\u001b[0m in \u001b[0;36mfit_transform\u001b[0;34m(self, X, y, **fit_params)\u001b[0m\n\u001b[1;32m    515\u001b[0m         \u001b[0;32mif\u001b[0m \u001b[0my\u001b[0m \u001b[0;32mis\u001b[0m \u001b[0;32mNone\u001b[0m\u001b[0;34m:\u001b[0m\u001b[0;34m\u001b[0m\u001b[0m\n\u001b[1;32m    516\u001b[0m             \u001b[0;31m# fit method of arity 1 (unsupervised transformation)\u001b[0m\u001b[0;34m\u001b[0m\u001b[0;34m\u001b[0m\u001b[0m\n\u001b[0;32m--> 517\u001b[0;31m             \u001b[0;32mreturn\u001b[0m \u001b[0mself\u001b[0m\u001b[0;34m.\u001b[0m\u001b[0mfit\u001b[0m\u001b[0;34m(\u001b[0m\u001b[0mX\u001b[0m\u001b[0;34m,\u001b[0m \u001b[0;34m**\u001b[0m\u001b[0mfit_params\u001b[0m\u001b[0;34m)\u001b[0m\u001b[0;34m.\u001b[0m\u001b[0mtransform\u001b[0m\u001b[0;34m(\u001b[0m\u001b[0mX\u001b[0m\u001b[0;34m)\u001b[0m\u001b[0;34m\u001b[0m\u001b[0m\n\u001b[0m\u001b[1;32m    518\u001b[0m         \u001b[0;32melse\u001b[0m\u001b[0;34m:\u001b[0m\u001b[0;34m\u001b[0m\u001b[0m\n\u001b[1;32m    519\u001b[0m             \u001b[0;31m# fit method of arity 2 (supervised transformation)\u001b[0m\u001b[0;34m\u001b[0m\u001b[0;34m\u001b[0m\u001b[0m\n",
      "\u001b[0;32m/usr/local/lib/python3.5/dist-packages/sklearn/preprocessing/data.py\u001b[0m in \u001b[0;36mtransform\u001b[0;34m(self, X)\u001b[0m\n\u001b[1;32m   1338\u001b[0m \u001b[0;34m\u001b[0m\u001b[0m\n\u001b[1;32m   1339\u001b[0m         \u001b[0;31m# allocate output data\u001b[0m\u001b[0;34m\u001b[0m\u001b[0;34m\u001b[0m\u001b[0m\n\u001b[0;32m-> 1340\u001b[0;31m         \u001b[0mXP\u001b[0m \u001b[0;34m=\u001b[0m \u001b[0mnp\u001b[0m\u001b[0;34m.\u001b[0m\u001b[0mempty\u001b[0m\u001b[0;34m(\u001b[0m\u001b[0;34m(\u001b[0m\u001b[0mn_samples\u001b[0m\u001b[0;34m,\u001b[0m \u001b[0mself\u001b[0m\u001b[0;34m.\u001b[0m\u001b[0mn_output_features_\u001b[0m\u001b[0;34m)\u001b[0m\u001b[0;34m,\u001b[0m \u001b[0mdtype\u001b[0m\u001b[0;34m=\u001b[0m\u001b[0mX\u001b[0m\u001b[0;34m.\u001b[0m\u001b[0mdtype\u001b[0m\u001b[0;34m)\u001b[0m\u001b[0;34m\u001b[0m\u001b[0m\n\u001b[0m\u001b[1;32m   1341\u001b[0m \u001b[0;34m\u001b[0m\u001b[0m\n\u001b[1;32m   1342\u001b[0m         combinations = self._combinations(n_features, self.degree,\n",
      "\u001b[0;31mMemoryError\u001b[0m: "
     ]
    }
   ],
   "source": [
    "X_train_poly2 = poly2.fit_transform(X_train)"
   ]
  },
  {
   "cell_type": "code",
   "execution_count": null,
   "metadata": {},
   "outputs": [],
   "source": [
    "regressor_poly2 = LinearRegression()"
   ]
  },
  {
   "cell_type": "code",
   "execution_count": null,
   "metadata": {},
   "outputs": [],
   "source": [
    "regressor_poly2.fit(X_train_poly2, y_train)"
   ]
  },
  {
   "cell_type": "code",
   "execution_count": null,
   "metadata": {},
   "outputs": [],
   "source": [
    "X_valid_poly2 = poly2.fit_transform(X_valid)"
   ]
  },
  {
   "cell_type": "code",
   "execution_count": null,
   "metadata": {},
   "outputs": [],
   "source": [
    "poly2_y_valid = regressor_poly2.predict(X_valid_poly2)"
   ]
  },
  {
   "cell_type": "code",
   "execution_count": null,
   "metadata": {},
   "outputs": [],
   "source": [
    "x = range(len(poly_y_pr))\n",
    "plt.plot(x, pd.Series(poly_y_pr).sort_values().values, 'r-*', label='lr_y_pred')\n",
    "plt.legend()\n",
    "plt.show()"
   ]
  },
  {
   "cell_type": "code",
   "execution_count": 334,
   "metadata": {},
   "outputs": [],
   "source": [
    "poly_y_pr = []\n",
    "for index in range(len(poly2_y_valid)):\n",
    "    if poly2_y_valid[index] < 3.2 and poly2_y_valid[index] > 2.3:\n",
    "        poly_y_pr.append(poly2_y_valid[index])\n",
    "    else:\n",
    "        poly_y_pr.append(y_valid[index])"
   ]
  },
  {
   "cell_type": "code",
   "execution_count": 335,
   "metadata": {},
   "outputs": [],
   "source": [
    "poly_s_pre = pd.Series(poly_y_pr)\n",
    "s_val = pd.Series(y_valid)"
   ]
  },
  {
   "cell_type": "code",
   "execution_count": 336,
   "metadata": {},
   "outputs": [
    {
     "data": {
      "image/png": "[encoded data removed]",
      "text/plain": [
       "<matplotlib.figure.Figure at 0x7f2381a5f898>"
      ]
     },
     "metadata": {},
     "output_type": "display_data"
    }
   ],
   "source": [
    "x = range(len(poly_s_pre))\n",
    "plt.plot(x, poly_s_pre.sort_values().values, 'r-*', label='lr_y_pred')\n",
    "plt.plot(x, s_val.sort_values().values, 'b-o', label='y_valid')\n",
    "plt.legend()\n",
    "plt.show()"
   ]
  },
  {
   "cell_type": "code",
   "execution_count": 340,
   "metadata": {},
   "outputs": [
    {
     "data": {
      "image/png": "[encoded data removed]",
      "text/plain": [
       "<matplotlib.figure.Figure at 0x7f2381a22ef0>"
      ]
     },
     "metadata": {},
     "output_type": "display_data"
    }
   ],
   "source": [
    "x = range(len(poly_y_pr))\n",
    "plt.plot(x, poly_y_pr, 'r-*', label='lr_y_pred')\n",
    "plt.plot(x, y_valid, 'b-o', label='y_valid')\n",
    "plt.legend()\n",
    "plt.show()"
   ]
  },
  {
   "cell_type": "code",
   "execution_count": 337,
   "metadata": {},
   "outputs": [
    {
     "data": {
      "text/plain": [
       "0.047181012975765435"
      ]
     },
     "execution_count": 337,
     "metadata": {},
     "output_type": "execute_result"
    }
   ],
   "source": [
    "mean_squared_error(poly_y_pr, y_valid)"
   ]
  },
  {
   "cell_type": "code",
   "execution_count": null,
   "metadata": {},
   "outputs": [],
   "source": []
  },
  {
   "cell_type": "markdown",
   "metadata": {},
   "source": [
    "#### 使用 SVM 回归"
   ]
  },
  {
   "cell_type": "code",
   "execution_count": 362,
   "metadata": {},
   "outputs": [],
   "source": [
    "from sklearn.svm import SVR"
   ]
  },
  {
   "cell_type": "code",
   "execution_count": null,
   "metadata": {},
   "outputs": [],
   "source": [
    "clf = SVR(kernel='linear')\n",
    "clf.fit(X_train, y_train)"
   ]
  },
  {
   "cell_type": "code",
   "execution_count": null,
   "metadata": {},
   "outputs": [],
   "source": [
    "svm_y_pred = clf.predict(X_valid)"
   ]
  },
  {
   "cell_type": "code",
   "execution_count": null,
   "metadata": {},
   "outputs": [],
   "source": [
    "svm_y_pred"
   ]
  },
  {
   "cell_type": "code",
   "execution_count": null,
   "metadata": {},
   "outputs": [],
   "source": [
    "svm_y_pr = []\n",
    "for item in svm_y_pred:\n",
    "    if item > 0 :\n",
    "        svm_y_pr.append(item)"
   ]
  },
  {
   "cell_type": "code",
   "execution_count": null,
   "metadata": {},
   "outputs": [],
   "source": [
    "mean_squared_error(svm_y_pr, y_valid[0:-1])"
   ]
  },
  {
   "cell_type": "code",
   "execution_count": null,
   "metadata": {},
   "outputs": [],
   "source": []
  },
  {
   "cell_type": "code",
   "execution_count": null,
   "metadata": {},
   "outputs": [],
   "source": []
  },
  {
   "cell_type": "code",
   "execution_count": null,
   "metadata": {},
   "outputs": [],
   "source": []
  },
  {
   "cell_type": "code",
   "execution_count": 279,
   "metadata": {},
   "outputs": [
    {
     "data": {
      "image/png": "[encoded data removed]",
      "text/plain": [
       "<matplotlib.figure.Figure at 0x7f08c5a7c940>"
      ]
     },
     "metadata": {},
     "output_type": "display_data"
    }
   ],
   "source": [
    "x = range(len(svm_y_pr))\n",
    "plt.plot(x, svm_y_pr, 'r-*', label='svm_y_pred')\n",
    "plt.plot(x, y_valid[0:-1], 'b-o', label='y_valid')\n",
    "plt.legend()\n",
    "plt.show()"
   ]
  },
  {
   "cell_type": "code",
   "execution_count": 273,
   "metadata": {},
   "outputs": [],
   "source": [
    "svm_s_pre = pd.Series(svm_y_pr)\n",
    "s_val = pd.Series(y_valid[0:-1])"
   ]
  },
  {
   "cell_type": "code",
   "execution_count": 283,
   "metadata": {},
   "outputs": [
    {
     "data": {
      "text/plain": [
       "125"
      ]
     },
     "execution_count": 283,
     "metadata": {},
     "output_type": "execute_result"
    }
   ],
   "source": [
    "len(svm_s_pre)"
   ]
  },
  {
   "cell_type": "code",
   "execution_count": 285,
   "metadata": {},
   "outputs": [
    {
     "data": {
      "image/png": "[encoded data removed]",
      "text/plain": [
       "<matplotlib.figure.Figure at 0x7f08c7b78860>"
      ]
     },
     "metadata": {},
     "output_type": "display_data"
    }
   ],
   "source": [
    "x = range(len(svm_s_pre))\n",
    "plt.plot(x, svm_s_pre.sort_values().values, 'r-*', label='lr_y_pred')\n",
    "plt.plot(x, s_val.sort_values().values, 'b-o', label='y_valid')\n",
    "plt.show()"
   ]
  },
  {
   "cell_type": "markdown",
   "metadata": {},
   "source": [
    "#### 使用gbm预测"
   ]
  },
  {
   "cell_type": "code",
   "execution_count": 332,
   "metadata": {},
   "outputs": [],
   "source": [
    "testa_X = pd.concat([testa_X_num_non_nan, testa_X_str], axis=1)"
   ]
  },
  {
   "cell_type": "code",
   "execution_count": 333,
   "metadata": {},
   "outputs": [],
   "source": [
    "testa_X = testa_X.drop(['nan_count', 'nan_standard'], axis=1)"
   ]
  },
  {
   "cell_type": "code",
   "execution_count": 334,
   "metadata": {},
   "outputs": [
    {
     "data": {
      "text/plain": [
       "(100, 5254)"
      ]
     },
     "execution_count": 334,
     "metadata": {},
     "output_type": "execute_result"
    }
   ],
   "source": [
    "testa_X.shape"
   ]
  },
  {
   "cell_type": "code",
   "execution_count": 336,
   "metadata": {},
   "outputs": [
    {
     "data": {
      "text/html": [
       "<div>\n",
       "<style scoped>\n",
       "    .dataframe tbody tr th:only-of-type {\n",
       "        vertical-align: middle;\n",
       "    }\n",
       "\n",
       "    .dataframe tbody tr th {\n",
       "        vertical-align: top;\n",
       "    }\n",
       "\n",
       "    .dataframe thead th {\n",
       "        text-align: right;\n",
       "    }\n",
       "</style>\n",
       "<table border=\"1\" class=\"dataframe\">\n",
       "  <thead>\n",
       "    <tr style=\"text-align: right;\">\n",
       "      <th></th>\n",
       "      <th>210X1</th>\n",
       "      <th>210X2</th>\n",
       "      <th>210X3</th>\n",
       "      <th>210X4</th>\n",
       "      <th>210X5</th>\n",
       "      <th>210X6</th>\n",
       "      <th>210X7</th>\n",
       "      <th>210X8</th>\n",
       "      <th>210X9</th>\n",
       "      <th>210X10</th>\n",
       "      <th>...</th>\n",
       "      <th>Tool (#3)_12T</th>\n",
       "      <th>Tool (#3)_13T</th>\n",
       "      <th>Tool (#3)_14T</th>\n",
       "      <th>Tool (#3)_15T</th>\n",
       "      <th>Tool (#3)_6T</th>\n",
       "      <th>Tool (#3)_7T</th>\n",
       "      <th>Tool (#3)_8T</th>\n",
       "      <th>Tool (#3)_9T</th>\n",
       "      <th>TOOL (#2)_AT</th>\n",
       "      <th>TOOL (#2)_BT</th>\n",
       "    </tr>\n",
       "  </thead>\n",
       "  <tbody>\n",
       "    <tr>\n",
       "      <th>0</th>\n",
       "      <td>100.85</td>\n",
       "      <td>0.423</td>\n",
       "      <td>0.41</td>\n",
       "      <td>0.624</td>\n",
       "      <td>35.50</td>\n",
       "      <td>1.795</td>\n",
       "      <td>0.08</td>\n",
       "      <td>-0.18</td>\n",
       "      <td>-0.15</td>\n",
       "      <td>24.1</td>\n",
       "      <td>...</td>\n",
       "      <td>0</td>\n",
       "      <td>0</td>\n",
       "      <td>1</td>\n",
       "      <td>0</td>\n",
       "      <td>0</td>\n",
       "      <td>0</td>\n",
       "      <td>0</td>\n",
       "      <td>0</td>\n",
       "      <td>1</td>\n",
       "      <td>0</td>\n",
       "    </tr>\n",
       "    <tr>\n",
       "      <th>1</th>\n",
       "      <td>100.80</td>\n",
       "      <td>0.322</td>\n",
       "      <td>0.41</td>\n",
       "      <td>0.544</td>\n",
       "      <td>70.98</td>\n",
       "      <td>3.580</td>\n",
       "      <td>0.11</td>\n",
       "      <td>-0.32</td>\n",
       "      <td>-0.15</td>\n",
       "      <td>24.3</td>\n",
       "      <td>...</td>\n",
       "      <td>0</td>\n",
       "      <td>1</td>\n",
       "      <td>0</td>\n",
       "      <td>0</td>\n",
       "      <td>0</td>\n",
       "      <td>0</td>\n",
       "      <td>0</td>\n",
       "      <td>0</td>\n",
       "      <td>1</td>\n",
       "      <td>0</td>\n",
       "    </tr>\n",
       "    <tr>\n",
       "      <th>2</th>\n",
       "      <td>100.75</td>\n",
       "      <td>0.526</td>\n",
       "      <td>0.14</td>\n",
       "      <td>1.081</td>\n",
       "      <td>57.84</td>\n",
       "      <td>2.848</td>\n",
       "      <td>-0.75</td>\n",
       "      <td>1.10</td>\n",
       "      <td>0.06</td>\n",
       "      <td>24.8</td>\n",
       "      <td>...</td>\n",
       "      <td>0</td>\n",
       "      <td>0</td>\n",
       "      <td>0</td>\n",
       "      <td>0</td>\n",
       "      <td>0</td>\n",
       "      <td>0</td>\n",
       "      <td>0</td>\n",
       "      <td>1</td>\n",
       "      <td>1</td>\n",
       "      <td>0</td>\n",
       "    </tr>\n",
       "    <tr>\n",
       "      <th>3</th>\n",
       "      <td>100.70</td>\n",
       "      <td>0.541</td>\n",
       "      <td>0.14</td>\n",
       "      <td>1.119</td>\n",
       "      <td>58.01</td>\n",
       "      <td>2.909</td>\n",
       "      <td>-0.98</td>\n",
       "      <td>1.05</td>\n",
       "      <td>0.06</td>\n",
       "      <td>23.7</td>\n",
       "      <td>...</td>\n",
       "      <td>0</td>\n",
       "      <td>0</td>\n",
       "      <td>0</td>\n",
       "      <td>0</td>\n",
       "      <td>0</td>\n",
       "      <td>0</td>\n",
       "      <td>1</td>\n",
       "      <td>0</td>\n",
       "      <td>1</td>\n",
       "      <td>0</td>\n",
       "    </tr>\n",
       "    <tr>\n",
       "      <th>4</th>\n",
       "      <td>100.70</td>\n",
       "      <td>0.503</td>\n",
       "      <td>0.13</td>\n",
       "      <td>0.944</td>\n",
       "      <td>57.67</td>\n",
       "      <td>2.888</td>\n",
       "      <td>-0.48</td>\n",
       "      <td>1.08</td>\n",
       "      <td>0.06</td>\n",
       "      <td>24.4</td>\n",
       "      <td>...</td>\n",
       "      <td>0</td>\n",
       "      <td>0</td>\n",
       "      <td>0</td>\n",
       "      <td>0</td>\n",
       "      <td>0</td>\n",
       "      <td>0</td>\n",
       "      <td>0</td>\n",
       "      <td>0</td>\n",
       "      <td>1</td>\n",
       "      <td>0</td>\n",
       "    </tr>\n",
       "  </tbody>\n",
       "</table>\n",
       "<p>5 rows × 5254 columns</p>\n",
       "</div>"
      ],
      "text/plain": [
       "    210X1  210X2  210X3  210X4  210X5  210X6  210X7  210X8  210X9  210X10  \\\n",
       "0  100.85  0.423   0.41  0.624  35.50  1.795   0.08  -0.18  -0.15    24.1   \n",
       "1  100.80  0.322   0.41  0.544  70.98  3.580   0.11  -0.32  -0.15    24.3   \n",
       "2  100.75  0.526   0.14  1.081  57.84  2.848  -0.75   1.10   0.06    24.8   \n",
       "3  100.70  0.541   0.14  1.119  58.01  2.909  -0.98   1.05   0.06    23.7   \n",
       "4  100.70  0.503   0.13  0.944  57.67  2.888  -0.48   1.08   0.06    24.4   \n",
       "\n",
       "       ...       Tool (#3)_12T  Tool (#3)_13T  Tool (#3)_14T  Tool (#3)_15T  \\\n",
       "0      ...                   0              0              1              0   \n",
       "1      ...                   0              1              0              0   \n",
       "2      ...                   0              0              0              0   \n",
       "3      ...                   0              0              0              0   \n",
       "4      ...                   0              0              0              0   \n",
       "\n",
       "   Tool (#3)_6T  Tool (#3)_7T  Tool (#3)_8T  Tool (#3)_9T  TOOL (#2)_AT  \\\n",
       "0             0             0             0             0             1   \n",
       "1             0             0             0             0             1   \n",
       "2             0             0             0             1             1   \n",
       "3             0             0             1             0             1   \n",
       "4             0             0             0             0             1   \n",
       "\n",
       "   TOOL (#2)_BT  \n",
       "0             0  \n",
       "1             0  \n",
       "2             0  \n",
       "3             0  \n",
       "4             0  \n",
       "\n",
       "[5 rows x 5254 columns]"
      ]
     },
     "execution_count": 336,
     "metadata": {},
     "output_type": "execute_result"
    }
   ],
   "source": [
    "testa_X.head()"
   ]
  },
  {
   "cell_type": "code",
   "execution_count": 337,
   "metadata": {},
   "outputs": [],
   "source": [
    "a_pred = gbm.predict(testa_X)"
   ]
  },
  {
   "cell_type": "code",
   "execution_count": 338,
   "metadata": {},
   "outputs": [],
   "source": [
    "s_a_pred = pd.Series(a_pred)"
   ]
  },
  {
   "cell_type": "code",
   "execution_count": 339,
   "metadata": {},
   "outputs": [
    {
     "data": {
      "image/png": "[encoded data removed]",
      "text/plain": [
       "<matplotlib.figure.Figure at 0x7f5888fbea90>"
      ]
     },
     "metadata": {},
     "output_type": "display_data"
    }
   ],
   "source": [
    "x = range(len(s_a_pred))\n",
    "plt.plot(x, s_a_pred.sort_values().values, 'r-*', label='y_train')\n",
    "plt.show()"
   ]
  },
  {
   "cell_type": "code",
   "execution_count": null,
   "metadata": {},
   "outputs": [],
   "source": [
    "b_pred = gbm.predict(X_b)"
   ]
  },
  {
   "cell_type": "markdown",
   "metadata": {},
   "source": [
    "#### 读取模板"
   ]
  },
  {
   "cell_type": "code",
   "execution_count": 342,
   "metadata": {},
   "outputs": [],
   "source": [
    "a_pattern = pd.read_csv('./input/a_pattern.csv', names= ['id'])"
   ]
  },
  {
   "cell_type": "code",
   "execution_count": 343,
   "metadata": {},
   "outputs": [],
   "source": [
    "b_pattern = pd.read_csv('./input/b_pattern.csv', names = ['id'])"
   ]
  },
  {
   "cell_type": "code",
   "execution_count": 344,
   "metadata": {},
   "outputs": [],
   "source": [
    "a_pattern['Y'] = a_pred"
   ]
  },
  {
   "cell_type": "code",
   "execution_count": 345,
   "metadata": {},
   "outputs": [],
   "source": [
    "b_pattern['Y'] = 0"
   ]
  },
  {
   "cell_type": "code",
   "execution_count": 346,
   "metadata": {},
   "outputs": [],
   "source": [
    "a_pattern.to_csv('./a_pred.csv', index=None, header=None)"
   ]
  },
  {
   "cell_type": "code",
   "execution_count": 49,
   "metadata": {},
   "outputs": [],
   "source": [
    "b_pattern.to_csv('./b_pred.csv', index=None, header=None)"
   ]
  },
  {
   "cell_type": "code",
   "execution_count": null,
   "metadata": {},
   "outputs": [],
   "source": []
  }
 ],
 "metadata": {
  "kernelspec": {
   "display_name": "Python 3",
   "language": "python",
   "name": "python3"
  },
  "language_info": {
   "codemirror_mode": {
    "name": "ipython",
    "version": 3
   },
   "file_extension": ".py",
   "mimetype": "text/x-python",
   "name": "python",
   "nbconvert_exporter": "python",
   "pygments_lexer": "ipython3",
   "version": "3.5.2"
  }
 },
 "nbformat": 4,
 "nbformat_minor": 2
}
