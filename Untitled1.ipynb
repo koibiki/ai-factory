{
 "cells": [
  {
   "cell_type": "code",
   "execution_count": 1,
   "metadata": {},
   "outputs": [],
   "source": [
    "import pandas as pd\n",
    "import numpy as np\n",
    "import lightgbm as lgm\n",
    "%matplotlib inline\n",
    "import matplotlib.pyplot as plt"
   ]
  },
  {
   "cell_type": "markdown",
   "metadata": {},
   "source": [
    "### 读取训练数据"
   ]
  },
  {
   "cell_type": "code",
   "execution_count": 2,
   "metadata": {},
   "outputs": [],
   "source": [
    "train = pd.read_csv('./input/train.csv')"
   ]
  },
  {
   "cell_type": "code",
   "execution_count": 3,
   "metadata": {},
   "outputs": [
    {
     "data": {
      "text/html": [
       "<div>\n",
       "<style scoped>\n",
       "    .dataframe tbody tr th:only-of-type {\n",
       "        vertical-align: middle;\n",
       "    }\n",
       "\n",
       "    .dataframe tbody tr th {\n",
       "        vertical-align: top;\n",
       "    }\n",
       "\n",
       "    .dataframe thead th {\n",
       "        text-align: right;\n",
       "    }\n",
       "</style>\n",
       "<table border=\"1\" class=\"dataframe\">\n",
       "  <thead>\n",
       "    <tr style=\"text-align: right;\">\n",
       "      <th></th>\n",
       "      <th>ID</th>\n",
       "      <th>TOOL_ID</th>\n",
       "      <th>210X1</th>\n",
       "      <th>210X2</th>\n",
       "      <th>210X3</th>\n",
       "      <th>210X4</th>\n",
       "      <th>210X5</th>\n",
       "      <th>210X6</th>\n",
       "      <th>210X7</th>\n",
       "      <th>210X8</th>\n",
       "      <th>...</th>\n",
       "      <th>750X1444</th>\n",
       "      <th>750X1445</th>\n",
       "      <th>750X1446</th>\n",
       "      <th>750X1447</th>\n",
       "      <th>750X1448</th>\n",
       "      <th>750X1449</th>\n",
       "      <th>750X1450</th>\n",
       "      <th>750X1451</th>\n",
       "      <th>750X1452</th>\n",
       "      <th>Y</th>\n",
       "    </tr>\n",
       "  </thead>\n",
       "  <tbody>\n",
       "    <tr>\n",
       "      <th>0</th>\n",
       "      <td>ID001</td>\n",
       "      <td>N</td>\n",
       "      <td>102.05</td>\n",
       "      <td>0.465</td>\n",
       "      <td>0.27</td>\n",
       "      <td>1.430</td>\n",
       "      <td>67.45</td>\n",
       "      <td>4.620</td>\n",
       "      <td>-0.54</td>\n",
       "      <td>-1.05</td>\n",
       "      <td>...</td>\n",
       "      <td>0.00072</td>\n",
       "      <td>0.00072</td>\n",
       "      <td>25.7</td>\n",
       "      <td>0.00072</td>\n",
       "      <td>0.00072</td>\n",
       "      <td>25.7</td>\n",
       "      <td>0.00072</td>\n",
       "      <td>0.00072</td>\n",
       "      <td>2.400000e+12</td>\n",
       "      <td>2.945079</td>\n",
       "    </tr>\n",
       "    <tr>\n",
       "      <th>1</th>\n",
       "      <td>ID002</td>\n",
       "      <td>M</td>\n",
       "      <td>100.95</td>\n",
       "      <td>0.805</td>\n",
       "      <td>0.22</td>\n",
       "      <td>3.477</td>\n",
       "      <td>62.08</td>\n",
       "      <td>3.412</td>\n",
       "      <td>-2.12</td>\n",
       "      <td>1.02</td>\n",
       "      <td>...</td>\n",
       "      <td>0.00072</td>\n",
       "      <td>0.00072</td>\n",
       "      <td>25.5</td>\n",
       "      <td>0.00072</td>\n",
       "      <td>0.00072</td>\n",
       "      <td>25.5</td>\n",
       "      <td>0.00072</td>\n",
       "      <td>0.00072</td>\n",
       "      <td>2.400000e+12</td>\n",
       "      <td>2.955092</td>\n",
       "    </tr>\n",
       "    <tr>\n",
       "      <th>2</th>\n",
       "      <td>ID003</td>\n",
       "      <td>L</td>\n",
       "      <td>98.56</td>\n",
       "      <td>0.555</td>\n",
       "      <td>0.24</td>\n",
       "      <td>1.172</td>\n",
       "      <td>56.70</td>\n",
       "      <td>3.080</td>\n",
       "      <td>-2.25</td>\n",
       "      <td>0.88</td>\n",
       "      <td>...</td>\n",
       "      <td>0.00064</td>\n",
       "      <td>0.00064</td>\n",
       "      <td>25.2</td>\n",
       "      <td>0.00064</td>\n",
       "      <td>0.00064</td>\n",
       "      <td>25.2</td>\n",
       "      <td>0.00064</td>\n",
       "      <td>0.00064</td>\n",
       "      <td>2.400000e+12</td>\n",
       "      <td>2.741264</td>\n",
       "    </tr>\n",
       "    <tr>\n",
       "      <th>3</th>\n",
       "      <td>ID004</td>\n",
       "      <td>M</td>\n",
       "      <td>100.35</td>\n",
       "      <td>0.901</td>\n",
       "      <td>0.22</td>\n",
       "      <td>3.631</td>\n",
       "      <td>62.25</td>\n",
       "      <td>3.949</td>\n",
       "      <td>-1.98</td>\n",
       "      <td>0.82</td>\n",
       "      <td>...</td>\n",
       "      <td>0.00072</td>\n",
       "      <td>0.00072</td>\n",
       "      <td>26.4</td>\n",
       "      <td>0.00072</td>\n",
       "      <td>0.00072</td>\n",
       "      <td>26.4</td>\n",
       "      <td>0.00072</td>\n",
       "      <td>0.00072</td>\n",
       "      <td>2.400000e+12</td>\n",
       "      <td>2.799336</td>\n",
       "    </tr>\n",
       "    <tr>\n",
       "      <th>4</th>\n",
       "      <td>ID005</td>\n",
       "      <td>M</td>\n",
       "      <td>100.25</td>\n",
       "      <td>0.854</td>\n",
       "      <td>0.23</td>\n",
       "      <td>3.429</td>\n",
       "      <td>61.42</td>\n",
       "      <td>3.630</td>\n",
       "      <td>-1.89</td>\n",
       "      <td>1.02</td>\n",
       "      <td>...</td>\n",
       "      <td>0.00072</td>\n",
       "      <td>0.00072</td>\n",
       "      <td>26.4</td>\n",
       "      <td>0.00072</td>\n",
       "      <td>0.00072</td>\n",
       "      <td>26.4</td>\n",
       "      <td>0.00072</td>\n",
       "      <td>0.00072</td>\n",
       "      <td>2.400000e+12</td>\n",
       "      <td>2.692093</td>\n",
       "    </tr>\n",
       "  </tbody>\n",
       "</table>\n",
       "<p>5 rows × 8029 columns</p>\n",
       "</div>"
      ],
      "text/plain": [
       "      ID TOOL_ID   210X1  210X2  210X3  210X4  210X5  210X6  210X7  210X8  \\\n",
       "0  ID001       N  102.05  0.465   0.27  1.430  67.45  4.620  -0.54  -1.05   \n",
       "1  ID002       M  100.95  0.805   0.22  3.477  62.08  3.412  -2.12   1.02   \n",
       "2  ID003       L   98.56  0.555   0.24  1.172  56.70  3.080  -2.25   0.88   \n",
       "3  ID004       M  100.35  0.901   0.22  3.631  62.25  3.949  -1.98   0.82   \n",
       "4  ID005       M  100.25  0.854   0.23  3.429  61.42  3.630  -1.89   1.02   \n",
       "\n",
       "     ...     750X1444  750X1445  750X1446  750X1447  750X1448  750X1449  \\\n",
       "0    ...      0.00072   0.00072      25.7   0.00072   0.00072      25.7   \n",
       "1    ...      0.00072   0.00072      25.5   0.00072   0.00072      25.5   \n",
       "2    ...      0.00064   0.00064      25.2   0.00064   0.00064      25.2   \n",
       "3    ...      0.00072   0.00072      26.4   0.00072   0.00072      26.4   \n",
       "4    ...      0.00072   0.00072      26.4   0.00072   0.00072      26.4   \n",
       "\n",
       "   750X1450  750X1451      750X1452         Y  \n",
       "0   0.00072   0.00072  2.400000e+12  2.945079  \n",
       "1   0.00072   0.00072  2.400000e+12  2.955092  \n",
       "2   0.00064   0.00064  2.400000e+12  2.741264  \n",
       "3   0.00072   0.00072  2.400000e+12  2.799336  \n",
       "4   0.00072   0.00072  2.400000e+12  2.692093  \n",
       "\n",
       "[5 rows x 8029 columns]"
      ]
     },
     "execution_count": 3,
     "metadata": {},
     "output_type": "execute_result"
    }
   ],
   "source": [
    "train.head()"
   ]
  },
  {
   "cell_type": "code",
   "execution_count": 4,
   "metadata": {},
   "outputs": [],
   "source": [
    "train_y_series = train.Y"
   ]
  },
  {
   "cell_type": "code",
   "execution_count": 5,
   "metadata": {},
   "outputs": [
    {
     "data": {
      "image/png": "[encoded data removed]",
      "text/plain": [
       "<matplotlib.figure.Figure at 0x7f6079916128>"
      ]
     },
     "metadata": {},
     "output_type": "display_data"
    }
   ],
   "source": [
    "x = range(len(train_y_series))\n",
    "plt.plot(x, train_y_series.sort_values().values, 'r-*', label='y_train')\n",
    "plt.show()"
   ]
  },
  {
   "cell_type": "markdown",
   "metadata": {},
   "source": [
    "#### 去除ID"
   ]
  },
  {
   "cell_type": "code",
   "execution_count": 8,
   "metadata": {},
   "outputs": [],
   "source": [
    "train_X = train.iloc[:,1:-1]\n",
    "train_Y = train.Y"
   ]
  },
  {
   "cell_type": "code",
   "execution_count": 9,
   "metadata": {},
   "outputs": [],
   "source": [
    "train_id = train.ID"
   ]
  },
  {
   "cell_type": "code",
   "execution_count": 10,
   "metadata": {},
   "outputs": [
    {
     "data": {
      "text/plain": [
       "(500, 8027)"
      ]
     },
     "execution_count": 10,
     "metadata": {},
     "output_type": "execute_result"
    }
   ],
   "source": [
    "train_X.shape"
   ]
  },
  {
   "cell_type": "markdown",
   "metadata": {},
   "source": [
    "#### 去除时间特征"
   ]
  },
  {
   "cell_type": "code",
   "execution_count": 13,
   "metadata": {},
   "outputs": [],
   "source": [
    "def is_prefix2017(num):\n",
    "    str_num = str(num)\n",
    "    return str_num.startswith('2017')"
   ]
  },
  {
   "cell_type": "code",
   "execution_count": 14,
   "metadata": {},
   "outputs": [],
   "source": [
    "def get_date_columns(data):\n",
    "    columns = data.iloc[0, :].index\n",
    "    date_column = []\n",
    "    for row_index in range(len(data)):\n",
    "        item = data.iloc[row_index]\n",
    "        for index in range(len(item)):\n",
    "            if type(item[index]) == np.int64 and is_prefix2017(item[index]):\n",
    "                date_column.append(columns[index])\n",
    "    return date_column"
   ]
  },
  {
   "cell_type": "code",
   "execution_count": 15,
   "metadata": {},
   "outputs": [],
   "source": [
    "train_date_columns = get_date_columns(train)"
   ]
  },
  {
   "cell_type": "code",
   "execution_count": 16,
   "metadata": {},
   "outputs": [],
   "source": [
    "testa_date_columns = get_date_columns(X_a)"
   ]
  },
  {
   "cell_type": "code",
   "execution_count": 17,
   "metadata": {},
   "outputs": [],
   "source": [
    "testb_date_columns = get_date_columns(X_b)"
   ]
  },
  {
   "cell_type": "code",
   "execution_count": 18,
   "metadata": {},
   "outputs": [],
   "source": [
    "def mix_date_columns(train_date_columns, testa_date_columns, testb_date_columns):\n",
    "    date_columns = []\n",
    "    for item in train_date_columns:\n",
    "        if item not in date_columns:\n",
    "            date_columns.append(item)\n",
    "    for item in testa_date_columns:\n",
    "        if item not in date_columns:\n",
    "            date_columns.append(item)\n",
    "    for item in testb_date_columns:\n",
    "        if item not in date_columns:\n",
    "            date_columns.append(item)\n",
    "    return date_columns"
   ]
  },
  {
   "cell_type": "code",
   "execution_count": 19,
   "metadata": {},
   "outputs": [],
   "source": [
    "date_columns = mix_date_columns(train_date_columns, testa_date_columns, testb_date_columns)"
   ]
  },
  {
   "cell_type": "code",
   "execution_count": 20,
   "metadata": {},
   "outputs": [],
   "source": [
    "train_X = train_X.drop(date_columns, axis=1)"
   ]
  },
  {
   "cell_type": "code",
   "execution_count": 21,
   "metadata": {},
   "outputs": [],
   "source": [
    "X_a = X_a.drop(date_columns, axis=1)"
   ]
  },
  {
   "cell_type": "code",
   "execution_count": 22,
   "metadata": {},
   "outputs": [],
   "source": [
    "X_b = X_b.drop(date_columns, axis=1)"
   ]
  },
  {
   "cell_type": "code",
   "execution_count": 23,
   "metadata": {},
   "outputs": [
    {
     "data": {
      "text/plain": [
       "(500, 7927)"
      ]
     },
     "execution_count": 23,
     "metadata": {},
     "output_type": "execute_result"
    }
   ],
   "source": [
    "train_X.shape"
   ]
  },
  {
   "cell_type": "code",
   "execution_count": 24,
   "metadata": {},
   "outputs": [
    {
     "data": {
      "text/plain": [
       "(100, 7927)"
      ]
     },
     "execution_count": 24,
     "metadata": {},
     "output_type": "execute_result"
    }
   ],
   "source": [
    "X_a.shape"
   ]
  },
  {
   "cell_type": "code",
   "execution_count": 25,
   "metadata": {},
   "outputs": [
    {
     "data": {
      "text/plain": [
       "(121, 7927)"
      ]
     },
     "execution_count": 25,
     "metadata": {},
     "output_type": "execute_result"
    }
   ],
   "source": [
    "X_b.shape"
   ]
  },
  {
   "cell_type": "code",
   "execution_count": null,
   "metadata": {},
   "outputs": [],
   "source": []
  },
  {
   "cell_type": "code",
   "execution_count": null,
   "metadata": {},
   "outputs": [],
   "source": []
  },
  {
   "cell_type": "markdown",
   "metadata": {},
   "source": [
    "#### 字符特征 和 数字特征 分离"
   ]
  },
  {
   "cell_type": "code",
   "execution_count": 26,
   "metadata": {},
   "outputs": [],
   "source": [
    "def get_str_columns(df):\n",
    "    str_columns = []\n",
    "    for item in df.columns:\n",
    "        if item.startswith(\"T\") or item.startswith(\"t\"):\n",
    "            str_columns.append(item)\n",
    "    return str_columns"
   ]
  },
  {
   "cell_type": "code",
   "execution_count": 27,
   "metadata": {},
   "outputs": [],
   "source": [
    "str_columns = get_str_columns(train_X)"
   ]
  },
  {
   "cell_type": "code",
   "execution_count": 28,
   "metadata": {},
   "outputs": [],
   "source": [
    "def num_to_str(data):\n",
    "    columns = data.columns\n",
    "    for item in columns:\n",
    "        data[item] = data[item].apply(lambda x: str(x) + \"T\")\n",
    "    return data"
   ]
  },
  {
   "cell_type": "code",
   "execution_count": 29,
   "metadata": {},
   "outputs": [],
   "source": [
    "train_X_str = train_X.loc[:,str_columns]"
   ]
  },
  {
   "cell_type": "code",
   "execution_count": 30,
   "metadata": {},
   "outputs": [],
   "source": [
    "train_X_str = num_to_str(train_X_str)"
   ]
  },
  {
   "cell_type": "code",
   "execution_count": 31,
   "metadata": {},
   "outputs": [],
   "source": [
    "train_X_num = train_X.drop(str_columns, axis=1)"
   ]
  },
  {
   "cell_type": "code",
   "execution_count": 32,
   "metadata": {},
   "outputs": [
    {
     "data": {
      "text/plain": [
       "(500, 7914)"
      ]
     },
     "execution_count": 32,
     "metadata": {},
     "output_type": "execute_result"
    }
   ],
   "source": [
    "train_X_num.shape"
   ]
  },
  {
   "cell_type": "code",
   "execution_count": 33,
   "metadata": {},
   "outputs": [
    {
     "data": {
      "text/plain": [
       "(100, 7914)"
      ]
     },
     "execution_count": 33,
     "metadata": {},
     "output_type": "execute_result"
    }
   ],
   "source": [
    "testa_X_num.shape"
   ]
  },
  {
   "cell_type": "code",
   "execution_count": 34,
   "metadata": {},
   "outputs": [
    {
     "data": {
      "text/plain": [
       "(121, 7914)"
      ]
     },
     "execution_count": 34,
     "metadata": {},
     "output_type": "execute_result"
    }
   ],
   "source": [
    "testb_X_num.shape"
   ]
  },
  {
   "cell_type": "markdown",
   "metadata": {},
   "source": [
    "#### 特征向量化"
   ]
  },
  {
   "cell_type": "code",
   "execution_count": 35,
   "metadata": {},
   "outputs": [],
   "source": [
    "train_X_str = pd.get_dummies(train_X_str)\n",
    "testa_X_str = pd.get_dummies(testa_X_str)\n",
    "testb_x_str = pd.get_dummies(testb_x_str)"
   ]
  },
  {
   "cell_type": "code",
   "execution_count": null,
   "metadata": {},
   "outputs": [],
   "source": []
  },
  {
   "cell_type": "code",
   "execution_count": 36,
   "metadata": {},
   "outputs": [
    {
     "data": {
      "text/plain": [
       "(500, 56)"
      ]
     },
     "execution_count": 36,
     "metadata": {},
     "output_type": "execute_result"
    }
   ],
   "source": [
    "train_X_str.shape"
   ]
  },
  {
   "cell_type": "code",
   "execution_count": 37,
   "metadata": {},
   "outputs": [
    {
     "data": {
      "text/plain": [
       "(100, 54)"
      ]
     },
     "execution_count": 37,
     "metadata": {},
     "output_type": "execute_result"
    }
   ],
   "source": [
    "testa_X_str.shape"
   ]
  },
  {
   "cell_type": "code",
   "execution_count": 38,
   "metadata": {},
   "outputs": [
    {
     "data": {
      "text/plain": [
       "(121, 56)"
      ]
     },
     "execution_count": 38,
     "metadata": {},
     "output_type": "execute_result"
    }
   ],
   "source": [
    "testb_x_str.shape"
   ]
  },
  {
   "cell_type": "code",
   "execution_count": 39,
   "metadata": {},
   "outputs": [
    {
     "data": {
      "text/plain": [
       "Index(['TOOL_ID_JT', 'TOOL_ID_KT', 'TOOL_ID_LT', 'TOOL_ID_MT', 'TOOL_ID_NT',\n",
       "       'TOOL_ID_OT', 'Tool_AT', 'Tool_BT', 'TOOL_ID (#1)_ET',\n",
       "       'TOOL_ID (#1)_NT', 'TOOL_ID (#2)_CT', 'TOOL_ID (#2)_DT',\n",
       "       'TOOL_ID (#2)_ET', 'TOOL_ID (#3)_E0T', 'TOOL_ID (#3)_N0T',\n",
       "       'Tool (#1)_1018T', 'Tool (#1)_1110T', 'Tool (#1)_1113T',\n",
       "       'Tool (#1)_1245T', 'Tool (#1)_215T', 'Tool (#1)_2823T',\n",
       "       'Tool (#1)_329T', 'Tool (#1)_530T', 'Tool (#2)_AT', 'Tool (#2)_BT',\n",
       "       'Tool (#2)_CT', 'tool_2409T', 'tool_3009T', 'tool_4106T', 'tool_4147T',\n",
       "       'tool (#1)_PT', 'tool (#1)_QT', 'tool (#1)_RT', 'tool (#1)_ST',\n",
       "       'tool (#1)_TT', 'tool (#1)_UT', 'tool (#1)_VT', 'tool (#1)_WT',\n",
       "       'tool (#1)_XT', 'TOOL_BT', 'TOOL_CT', 'TOOL_DT', 'TOOL (#1)_XY1T',\n",
       "       'TOOL (#1)_YX1T', 'Tool (#3)_10T', 'Tool (#3)_11T', 'Tool (#3)_12T',\n",
       "       'Tool (#3)_13T', 'Tool (#3)_14T', 'Tool (#3)_15T', 'Tool (#3)_6T',\n",
       "       'Tool (#3)_7T', 'Tool (#3)_8T', 'Tool (#3)_9T', 'TOOL (#2)_AT',\n",
       "       'TOOL (#2)_BT'],\n",
       "      dtype='object')"
      ]
     },
     "execution_count": 39,
     "metadata": {},
     "output_type": "execute_result"
    }
   ],
   "source": [
    "train_X_str.columns"
   ]
  },
  {
   "cell_type": "code",
   "execution_count": 40,
   "metadata": {},
   "outputs": [
    {
     "data": {
      "text/plain": [
       "Index(['TOOL_ID_JT', 'TOOL_ID_KT', 'TOOL_ID_LT', 'TOOL_ID_MT', 'TOOL_ID_NT',\n",
       "       'TOOL_ID_OT', 'Tool_AT', 'Tool_BT', 'TOOL_ID (#1)_ET',\n",
       "       'TOOL_ID (#1)_NT', 'TOOL_ID (#2)_CT', 'TOOL_ID (#2)_DT',\n",
       "       'TOOL_ID (#3)_E0T', 'TOOL_ID (#3)_N0T', 'Tool (#1)_1018T',\n",
       "       'Tool (#1)_1110T', 'Tool (#1)_1113T', 'Tool (#1)_1245T',\n",
       "       'Tool (#1)_206T', 'Tool (#1)_215T', 'Tool (#1)_2823T', 'Tool (#1)_329T',\n",
       "       'Tool (#1)_530T', 'Tool (#2)_AT', 'Tool (#2)_BT', 'Tool (#2)_CT',\n",
       "       'tool_3009T', 'tool_4106T', 'tool_4147T', 'tool (#1)_PT',\n",
       "       'tool (#1)_QT', 'tool (#1)_RT', 'tool (#1)_ST', 'tool (#1)_UT',\n",
       "       'tool (#1)_VT', 'tool (#1)_WT', 'tool (#1)_XT', 'TOOL_BT', 'TOOL_DT',\n",
       "       'TOOL (#1)_XY1T', 'TOOL (#1)_YX1T', 'Tool (#3)_10T', 'Tool (#3)_11T',\n",
       "       'Tool (#3)_12T', 'Tool (#3)_13T', 'Tool (#3)_14T', 'Tool (#3)_15T',\n",
       "       'Tool (#3)_1T', 'Tool (#3)_6T', 'Tool (#3)_7T', 'Tool (#3)_8T',\n",
       "       'Tool (#3)_9T', 'TOOL (#2)_AT', 'TOOL (#2)_BT'],\n",
       "      dtype='object')"
      ]
     },
     "execution_count": 40,
     "metadata": {},
     "output_type": "execute_result"
    }
   ],
   "source": [
    "testa_X_str.columns"
   ]
  },
  {
   "cell_type": "markdown",
   "metadata": {},
   "source": [
    "##### 特征对齐"
   ]
  },
  {
   "cell_type": "code",
   "execution_count": 41,
   "metadata": {},
   "outputs": [],
   "source": [
    "#删除测试集中 未在 训练集 中出现的特征\n",
    "def deleteFeature(train, test):\n",
    "    train_columns = train.columns\n",
    "    test_columns = test.columns\n",
    "    for item in test_columns:\n",
    "        if item not in train_columns:\n",
    "            test = test.drop(item, axis=1)\n",
    "    return test"
   ]
  },
  {
   "cell_type": "code",
   "execution_count": 42,
   "metadata": {},
   "outputs": [],
   "source": [
    "testa_drop = deleteFeature(train_X_str, testa_X_str)"
   ]
  },
  {
   "cell_type": "code",
   "execution_count": 43,
   "metadata": {},
   "outputs": [],
   "source": [
    "testb_drop = deleteFeature(train_X_str, testb_x_str)"
   ]
  },
  {
   "cell_type": "code",
   "execution_count": 44,
   "metadata": {},
   "outputs": [],
   "source": [
    "def featureAlign(X, X_a, X_b):\n",
    "    X_columns = X.columns.values\n",
    "    for index in range(len(X_columns)):\n",
    "        column = X_columns[index]\n",
    "        if column != X_a.iloc[:,index].name:\n",
    "            X_a.insert(index, column, np.zeros(len(X_a)))\n",
    "        if column != X_b.iloc[:,index].name:\n",
    "            X_b.insert(index, column, np.zeros(len(X_b)))\n",
    "    return X_a, X_b"
   ]
  },
  {
   "cell_type": "code",
   "execution_count": 45,
   "metadata": {},
   "outputs": [],
   "source": [
    "testa_X_str, testb_x_str = featureAlign(train_X_str, testa_drop, testb_drop)"
   ]
  },
  {
   "cell_type": "code",
   "execution_count": 46,
   "metadata": {},
   "outputs": [
    {
     "data": {
      "text/plain": [
       "(500, 56)"
      ]
     },
     "execution_count": 46,
     "metadata": {},
     "output_type": "execute_result"
    }
   ],
   "source": [
    "train_X_str.shape"
   ]
  },
  {
   "cell_type": "code",
   "execution_count": 47,
   "metadata": {},
   "outputs": [
    {
     "data": {
      "text/plain": [
       "(100, 56)"
      ]
     },
     "execution_count": 47,
     "metadata": {},
     "output_type": "execute_result"
    }
   ],
   "source": [
    "testa_X_str.shape"
   ]
  },
  {
   "cell_type": "code",
   "execution_count": 48,
   "metadata": {},
   "outputs": [
    {
     "data": {
      "text/plain": [
       "(121, 56)"
      ]
     },
     "execution_count": 48,
     "metadata": {},
     "output_type": "execute_result"
    }
   ],
   "source": [
    "testb_x_str.shape"
   ]
  },
  {
   "cell_type": "code",
   "execution_count": null,
   "metadata": {},
   "outputs": [],
   "source": []
  },
  {
   "cell_type": "markdown",
   "metadata": {},
   "source": [
    "### rank 数字特征"
   ]
  },
  {
   "cell_type": "code",
   "execution_count": 53,
   "metadata": {},
   "outputs": [],
   "source": [
    "train_testa_testb_num = pd.concat([train_X_num, testa_X_num, testb_X_num], axis=0)"
   ]
  },
  {
   "cell_type": "code",
   "execution_count": 57,
   "metadata": {},
   "outputs": [
    {
     "data": {
      "text/plain": [
       "(721, 7914)"
      ]
     },
     "execution_count": 57,
     "metadata": {},
     "output_type": "execute_result"
    }
   ],
   "source": [
    "train_testa_testb_num.shape"
   ]
  },
  {
   "cell_type": "code",
   "execution_count": 58,
   "metadata": {},
   "outputs": [],
   "source": [
    "train_testa_testb_num_rank = train_testa_testb_num.rank(method='max')"
   ]
  },
  {
   "cell_type": "code",
   "execution_count": null,
   "metadata": {},
   "outputs": [],
   "source": [
    "###添加rank计数特征"
   ]
  },
  {
   "cell_type": "code",
   "execution_count": 59,
   "metadata": {},
   "outputs": [],
   "source": [
    "describe = train_testa_testb_num_rank.describe()"
   ]
  },
  {
   "cell_type": "code",
   "execution_count": 61,
   "metadata": {},
   "outputs": [],
   "source": [
    "max_series = describe.max()"
   ]
  },
  {
   "cell_type": "code",
   "execution_count": 66,
   "metadata": {},
   "outputs": [],
   "source": [
    "rank_count = train_testa_testb_num_rank.shape[0]"
   ]
  },
  {
   "cell_type": "code",
   "execution_count": 67,
   "metadata": {},
   "outputs": [],
   "source": [
    "train_testa_testb_num_rank[train_testa_testb_num_rank <= rank_count / 10] = 1\n",
    "train_testa_testb_num_rank[(rank_count / 10 < train_testa_testb_num_rank) & (train_testa_testb_num_rank <= rank_count / 5)] = 2\n",
    "train_testa_testb_num_rank[(rank_count / 5 < train_testa_testb_num_rank) & (train_testa_testb_num_rank <= rank_count * 3 / 10)] = 3\n",
    "train_testa_testb_num_rank[(rank_count * 3 / 10 < train_testa_testb_num_rank) & (train_testa_testb_num_rank <= rank_count * 2 / 5)] = 4\n",
    "train_testa_testb_num_rank[(rank_count * 2 / 5 < train_testa_testb_num_rank) & (train_testa_testb_num_rank <= rank_count * 1 / 2)] = 5\n",
    "train_testa_testb_num_rank[(rank_count * 1 / 2 < train_testa_testb_num_rank) & (train_testa_testb_num_rank <= rank_count * 3 / 5)] = 6\n",
    "train_testa_testb_num_rank[(rank_count * 3 / 5 < train_testa_testb_num_rank) & (train_testa_testb_num_rank <= rank_count * 7 / 10)] = 7\n",
    "train_testa_testb_num_rank[(rank_count * 7 / 10 < train_testa_testb_num_rank) & (train_testa_testb_num_rank <= rank_count * 4 / 5)] = 8\n",
    "train_testa_testb_num_rank[(rank_count * 4 / 5 < train_testa_testb_num_rank) & (train_testa_testb_num_rank <= rank_count * 9 / 10)] = 9\n",
    "train_testa_testb_num_rank[rank_count * 9 / 10 < train_testa_testb_num_rank] = 10"
   ]
  },
  {
   "cell_type": "code",
   "execution_count": 75,
   "metadata": {},
   "outputs": [
    {
     "data": {
      "text/html": [
       "<div>\n",
       "<style scoped>\n",
       "    .dataframe tbody tr th:only-of-type {\n",
       "        vertical-align: middle;\n",
       "    }\n",
       "\n",
       "    .dataframe tbody tr th {\n",
       "        vertical-align: top;\n",
       "    }\n",
       "\n",
       "    .dataframe thead th {\n",
       "        text-align: right;\n",
       "    }\n",
       "</style>\n",
       "<table border=\"1\" class=\"dataframe\">\n",
       "  <thead>\n",
       "    <tr style=\"text-align: right;\">\n",
       "      <th></th>\n",
       "      <th>210X1</th>\n",
       "      <th>210X2</th>\n",
       "      <th>210X3</th>\n",
       "      <th>210X4</th>\n",
       "      <th>210X5</th>\n",
       "      <th>210X6</th>\n",
       "      <th>210X7</th>\n",
       "      <th>210X8</th>\n",
       "      <th>210X9</th>\n",
       "      <th>210X10</th>\n",
       "      <th>...</th>\n",
       "      <th>n1</th>\n",
       "      <th>n2</th>\n",
       "      <th>n3</th>\n",
       "      <th>n4</th>\n",
       "      <th>n5</th>\n",
       "      <th>n6</th>\n",
       "      <th>n7</th>\n",
       "      <th>n8</th>\n",
       "      <th>n9</th>\n",
       "      <th>n10</th>\n",
       "    </tr>\n",
       "  </thead>\n",
       "  <tbody>\n",
       "    <tr>\n",
       "      <th>0</th>\n",
       "      <td>8.0</td>\n",
       "      <td>4.0</td>\n",
       "      <td>9.0</td>\n",
       "      <td>6.0</td>\n",
       "      <td>9.0</td>\n",
       "      <td>10.0</td>\n",
       "      <td>5.0</td>\n",
       "      <td>1.0</td>\n",
       "      <td>4.0</td>\n",
       "      <td>6.0</td>\n",
       "      <td>...</td>\n",
       "      <td>477</td>\n",
       "      <td>402</td>\n",
       "      <td>431</td>\n",
       "      <td>487</td>\n",
       "      <td>377</td>\n",
       "      <td>539</td>\n",
       "      <td>682</td>\n",
       "      <td>600</td>\n",
       "      <td>901</td>\n",
       "      <td>2820</td>\n",
       "    </tr>\n",
       "    <tr>\n",
       "      <th>1</th>\n",
       "      <td>5.0</td>\n",
       "      <td>9.0</td>\n",
       "      <td>5.0</td>\n",
       "      <td>10.0</td>\n",
       "      <td>7.0</td>\n",
       "      <td>5.0</td>\n",
       "      <td>1.0</td>\n",
       "      <td>7.0</td>\n",
       "      <td>9.0</td>\n",
       "      <td>10.0</td>\n",
       "      <td>...</td>\n",
       "      <td>541</td>\n",
       "      <td>446</td>\n",
       "      <td>351</td>\n",
       "      <td>539</td>\n",
       "      <td>310</td>\n",
       "      <td>514</td>\n",
       "      <td>574</td>\n",
       "      <td>470</td>\n",
       "      <td>979</td>\n",
       "      <td>2987</td>\n",
       "    </tr>\n",
       "    <tr>\n",
       "      <th>2</th>\n",
       "      <td>2.0</td>\n",
       "      <td>7.0</td>\n",
       "      <td>7.0</td>\n",
       "      <td>4.0</td>\n",
       "      <td>3.0</td>\n",
       "      <td>3.0</td>\n",
       "      <td>1.0</td>\n",
       "      <td>7.0</td>\n",
       "      <td>10.0</td>\n",
       "      <td>7.0</td>\n",
       "      <td>...</td>\n",
       "      <td>587</td>\n",
       "      <td>620</td>\n",
       "      <td>500</td>\n",
       "      <td>488</td>\n",
       "      <td>475</td>\n",
       "      <td>521</td>\n",
       "      <td>599</td>\n",
       "      <td>493</td>\n",
       "      <td>675</td>\n",
       "      <td>2758</td>\n",
       "    </tr>\n",
       "    <tr>\n",
       "      <th>3</th>\n",
       "      <td>4.0</td>\n",
       "      <td>10.0</td>\n",
       "      <td>5.0</td>\n",
       "      <td>10.0</td>\n",
       "      <td>7.0</td>\n",
       "      <td>9.0</td>\n",
       "      <td>2.0</td>\n",
       "      <td>6.0</td>\n",
       "      <td>9.0</td>\n",
       "      <td>4.0</td>\n",
       "      <td>...</td>\n",
       "      <td>502</td>\n",
       "      <td>764</td>\n",
       "      <td>706</td>\n",
       "      <td>764</td>\n",
       "      <td>627</td>\n",
       "      <td>657</td>\n",
       "      <td>499</td>\n",
       "      <td>489</td>\n",
       "      <td>743</td>\n",
       "      <td>1964</td>\n",
       "    </tr>\n",
       "    <tr>\n",
       "      <th>4</th>\n",
       "      <td>3.0</td>\n",
       "      <td>10.0</td>\n",
       "      <td>5.0</td>\n",
       "      <td>10.0</td>\n",
       "      <td>6.0</td>\n",
       "      <td>6.0</td>\n",
       "      <td>3.0</td>\n",
       "      <td>7.0</td>\n",
       "      <td>9.0</td>\n",
       "      <td>9.0</td>\n",
       "      <td>...</td>\n",
       "      <td>382</td>\n",
       "      <td>695</td>\n",
       "      <td>637</td>\n",
       "      <td>655</td>\n",
       "      <td>613</td>\n",
       "      <td>779</td>\n",
       "      <td>613</td>\n",
       "      <td>592</td>\n",
       "      <td>731</td>\n",
       "      <td>2019</td>\n",
       "    </tr>\n",
       "  </tbody>\n",
       "</table>\n",
       "<p>5 rows × 7924 columns</p>\n",
       "</div>"
      ],
      "text/plain": [
       "   210X1  210X2  210X3  210X4  210X5  210X6  210X7  210X8  210X9  210X10  \\\n",
       "0    8.0    4.0    9.0    6.0    9.0   10.0    5.0    1.0    4.0     6.0   \n",
       "1    5.0    9.0    5.0   10.0    7.0    5.0    1.0    7.0    9.0    10.0   \n",
       "2    2.0    7.0    7.0    4.0    3.0    3.0    1.0    7.0   10.0     7.0   \n",
       "3    4.0   10.0    5.0   10.0    7.0    9.0    2.0    6.0    9.0     4.0   \n",
       "4    3.0   10.0    5.0   10.0    6.0    6.0    3.0    7.0    9.0     9.0   \n",
       "\n",
       "   ...    n1   n2   n3   n4   n5   n6   n7   n8   n9   n10  \n",
       "0  ...   477  402  431  487  377  539  682  600  901  2820  \n",
       "1  ...   541  446  351  539  310  514  574  470  979  2987  \n",
       "2  ...   587  620  500  488  475  521  599  493  675  2758  \n",
       "3  ...   502  764  706  764  627  657  499  489  743  1964  \n",
       "4  ...   382  695  637  655  613  779  613  592  731  2019  \n",
       "\n",
       "[5 rows x 7924 columns]"
      ]
     },
     "execution_count": 75,
     "metadata": {},
     "output_type": "execute_result"
    }
   ],
   "source": [
    "train_testa_testb_num_rank.head()"
   ]
  },
  {
   "cell_type": "code",
   "execution_count": 74,
   "metadata": {},
   "outputs": [],
   "source": [
    "for i in range(1,11,1):\n",
    "    train_testa_testb_num_rank['n' + str(i)] = (train_testa_testb_num_rank == i).sum(axis=1)"
   ]
  },
  {
   "cell_type": "code",
   "execution_count": 82,
   "metadata": {},
   "outputs": [],
   "source": [
    "train_num_rank = train_testa_testb_num_rank.iloc[0:500,:]"
   ]
  },
  {
   "cell_type": "code",
   "execution_count": 83,
   "metadata": {},
   "outputs": [],
   "source": [
    "testa_num_rank = train_testa_testb_num_rank.iloc[500:600,:]"
   ]
  },
  {
   "cell_type": "code",
   "execution_count": 84,
   "metadata": {},
   "outputs": [],
   "source": [
    "testb_num_rank = train_testa_testb_num_rank.iloc[600:,:]"
   ]
  },
  {
   "cell_type": "code",
   "execution_count": null,
   "metadata": {},
   "outputs": [],
   "source": []
  },
  {
   "cell_type": "markdown",
   "metadata": {},
   "source": [
    "#### Nan列统计"
   ]
  },
  {
   "cell_type": "code",
   "execution_count": 56,
   "metadata": {},
   "outputs": [],
   "source": [
    "train_X_num['nan_count'] = (np.isnan(train_X_num)).sum(axis=1)"
   ]
  },
  {
   "cell_type": "code",
   "execution_count": 57,
   "metadata": {},
   "outputs": [],
   "source": [
    "def standardNan(x):\n",
    "    if x > 210:\n",
    "        return 3\n",
    "    elif x <= 210 and x > 150:\n",
    "        return 2\n",
    "    else:\n",
    "        return 1"
   ]
  },
  {
   "cell_type": "code",
   "execution_count": 58,
   "metadata": {},
   "outputs": [],
   "source": [
    "train_X_num['nan_standard'] = train_X_num.nan_count.apply(lambda x : standardNan(x))"
   ]
  },
  {
   "cell_type": "code",
   "execution_count": null,
   "metadata": {},
   "outputs": [],
   "source": []
  },
  {
   "cell_type": "code",
   "execution_count": 88,
   "metadata": {},
   "outputs": [
    {
     "name": "stderr",
     "output_type": "stream",
     "text": [
      "/usr/local/lib/python3.5/dist-packages/ipykernel_launcher.py:1: SettingWithCopyWarning: \n",
      "A value is trying to be set on a copy of a slice from a DataFrame.\n",
      "Try using .loc[row_indexer,col_indexer] = value instead\n",
      "\n",
      "See the caveats in the documentation: http://pandas.pydata.org/pandas-docs/stable/indexing.html#indexing-view-versus-copy\n",
      "  \"\"\"Entry point for launching an IPython kernel.\n"
     ]
    }
   ],
   "source": [
    "testa_num_rank['nan_count'] = (np.isnan(testa_num_rank)).sum(axis=1)"
   ]
  },
  {
   "cell_type": "code",
   "execution_count": 89,
   "metadata": {},
   "outputs": [
    {
     "name": "stderr",
     "output_type": "stream",
     "text": [
      "/usr/local/lib/python3.5/dist-packages/ipykernel_launcher.py:1: SettingWithCopyWarning: \n",
      "A value is trying to be set on a copy of a slice from a DataFrame.\n",
      "Try using .loc[row_indexer,col_indexer] = value instead\n",
      "\n",
      "See the caveats in the documentation: http://pandas.pydata.org/pandas-docs/stable/indexing.html#indexing-view-versus-copy\n",
      "  \"\"\"Entry point for launching an IPython kernel.\n"
     ]
    }
   ],
   "source": [
    "testa_num_rank['nan_standard'] = testa_num_rank.nan_count.apply(lambda x : standardNan(x))"
   ]
  },
  {
   "cell_type": "code",
   "execution_count": null,
   "metadata": {},
   "outputs": [],
   "source": []
  },
  {
   "cell_type": "code",
   "execution_count": null,
   "metadata": {},
   "outputs": [],
   "source": []
  },
  {
   "cell_type": "code",
   "execution_count": null,
   "metadata": {},
   "outputs": [],
   "source": []
  },
  {
   "cell_type": "code",
   "execution_count": null,
   "metadata": {},
   "outputs": [],
   "source": []
  },
  {
   "cell_type": "code",
   "execution_count": 101,
   "metadata": {},
   "outputs": [],
   "source": []
  },
  {
   "cell_type": "code",
   "execution_count": null,
   "metadata": {},
   "outputs": [],
   "source": []
  },
  {
   "cell_type": "code",
   "execution_count": null,
   "metadata": {},
   "outputs": [],
   "source": []
  },
  {
   "cell_type": "code",
   "execution_count": null,
   "metadata": {},
   "outputs": [],
   "source": []
  },
  {
   "cell_type": "code",
   "execution_count": null,
   "metadata": {},
   "outputs": [],
   "source": []
  },
  {
   "cell_type": "code",
   "execution_count": 29,
   "metadata": {},
   "outputs": [],
   "source": [
    "train_rank = train_has_nan_count.sort_values(by='nan_count')"
   ]
  },
  {
   "cell_type": "code",
   "execution_count": 30,
   "metadata": {},
   "outputs": [],
   "source": [
    "train_rank = train_rank.reset_index()"
   ]
  },
  {
   "cell_type": "code",
   "execution_count": 31,
   "metadata": {},
   "outputs": [
    {
     "data": {
      "image/png": "[encoded data removed]",
      "text/plain": [
       "<matplotlib.figure.Figure at 0x7f3c50502f28>"
      ]
     },
     "metadata": {},
     "output_type": "display_data"
    }
   ],
   "source": [
    "plt.scatter(train_rank.index, train_rank.Y.values)\n",
    "plt.show()"
   ]
  },
  {
   "cell_type": "code",
   "execution_count": 32,
   "metadata": {},
   "outputs": [
    {
     "data": {
      "image/png": "[encoded data removed]",
      "text/plain": [
       "<matplotlib.figure.Figure at 0x7f3c50315978>"
      ]
     },
     "metadata": {},
     "output_type": "display_data"
    }
   ],
   "source": [
    "plt.scatter(train_rank.index, train_rank.nan_count.values)\n",
    "plt.show()"
   ]
  },
  {
   "cell_type": "code",
   "execution_count": 41,
   "metadata": {},
   "outputs": [],
   "source": [
    "train_300_150 = train_rank[(train_rank.nan_count < 300).values & (train_rank.nan_count >150).values]"
   ]
  },
  {
   "cell_type": "code",
   "execution_count": 42,
   "metadata": {},
   "outputs": [
    {
     "data": {
      "image/png": "[encoded data removed]",
      "text/plain": [
       "<matplotlib.figure.Figure at 0x7fda5c248a90>"
      ]
     },
     "metadata": {},
     "output_type": "display_data"
    }
   ],
   "source": [
    "plt.scatter(train_300_150.index, train_300_150.nan_count.values)\n",
    "plt.show()"
   ]
  },
  {
   "cell_type": "code",
   "execution_count": 43,
   "metadata": {},
   "outputs": [],
   "source": [
    "train_150 = train_rank[train_rank.nan_count < 150]"
   ]
  },
  {
   "cell_type": "code",
   "execution_count": 44,
   "metadata": {},
   "outputs": [
    {
     "data": {
      "image/png": "[encoded data removed]",
      "text/plain": [
       "<matplotlib.figure.Figure at 0x7fbaae6ad8d0>"
      ]
     },
     "metadata": {},
     "output_type": "display_data"
    }
   ],
   "source": [
    "plt.scatter(train_150.index, train_150.nan_count.values)\n",
    "plt.show()"
   ]
  },
  {
   "cell_type": "code",
   "execution_count": null,
   "metadata": {},
   "outputs": [],
   "source": []
  },
  {
   "cell_type": "code",
   "execution_count": 45,
   "metadata": {},
   "outputs": [
    {
     "name": "stderr",
     "output_type": "stream",
     "text": [
      "/usr/local/lib/python3.5/dist-packages/ipykernel_launcher.py:1: FutureWarning: by argument to sort_index is deprecated, please use .sort_values(by=...)\n",
      "  \"\"\"Entry point for launching an IPython kernel.\n"
     ]
    }
   ],
   "source": [
    "X_a_rank = X_a.sort_index(by='nan_count')"
   ]
  },
  {
   "cell_type": "code",
   "execution_count": 46,
   "metadata": {},
   "outputs": [],
   "source": [
    "X_a_rank = X_a_rank.reset_index()"
   ]
  },
  {
   "cell_type": "code",
   "execution_count": 47,
   "metadata": {},
   "outputs": [
    {
     "data": {
      "image/png": "[encoded data removed]",
      "text/plain": [
       "<matplotlib.figure.Figure at 0x7fbaae6a9cc0>"
      ]
     },
     "metadata": {},
     "output_type": "display_data"
    }
   ],
   "source": [
    "plt.scatter(X_a_rank.index, X_a_rank.nan_count.values)\n",
    "plt.show()"
   ]
  },
  {
   "cell_type": "code",
   "execution_count": 48,
   "metadata": {},
   "outputs": [],
   "source": [
    "X_a_300_150 = X_a_rank[(X_a_rank.nan_count >150).values & (X_a_rank.nan_count <300)]"
   ]
  },
  {
   "cell_type": "code",
   "execution_count": 49,
   "metadata": {},
   "outputs": [
    {
     "data": {
      "image/png": "[encoded data removed]",
      "text/plain": [
       "<matplotlib.figure.Figure at 0x7fbaae6a76a0>"
      ]
     },
     "metadata": {},
     "output_type": "display_data"
    }
   ],
   "source": [
    "plt.scatter(X_a_300_150.index, X_a_300_150.nan_count.values)\n",
    "plt.show()"
   ]
  },
  {
   "cell_type": "code",
   "execution_count": 50,
   "metadata": {},
   "outputs": [],
   "source": [
    "X_a_100 = X_a_rank[X_a_rank.nan_count <150]"
   ]
  },
  {
   "cell_type": "code",
   "execution_count": 51,
   "metadata": {},
   "outputs": [
    {
     "data": {
      "image/png": "[encoded data removed]",
      "text/plain": [
       "<matplotlib.figure.Figure at 0x7fbaaf6d5d30>"
      ]
     },
     "metadata": {},
     "output_type": "display_data"
    }
   ],
   "source": [
    "plt.scatter(X_a_100.index, X_a_100.nan_count.values)\n",
    "plt.show()"
   ]
  },
  {
   "cell_type": "code",
   "execution_count": 52,
   "metadata": {},
   "outputs": [
    {
     "name": "stderr",
     "output_type": "stream",
     "text": [
      "/usr/local/lib/python3.5/dist-packages/ipykernel_launcher.py:1: FutureWarning: by argument to sort_index is deprecated, please use .sort_values(by=...)\n",
      "  \"\"\"Entry point for launching an IPython kernel.\n"
     ]
    }
   ],
   "source": [
    "X_b_rank = X_b.sort_index(by='nan_count')"
   ]
  },
  {
   "cell_type": "code",
   "execution_count": 53,
   "metadata": {},
   "outputs": [],
   "source": [
    "X_b_rank = X_b_rank.reset_index()"
   ]
  },
  {
   "cell_type": "code",
   "execution_count": 54,
   "metadata": {},
   "outputs": [
    {
     "data": {
      "image/png": "[encoded data removed]",
      "text/plain": [
       "<matplotlib.figure.Figure at 0x7fbaae71fcf8>"
      ]
     },
     "metadata": {},
     "output_type": "display_data"
    }
   ],
   "source": [
    "plt.scatter(X_b_rank.index, X_b_rank.nan_count.values)\n",
    "plt.show()"
   ]
  },
  {
   "cell_type": "code",
   "execution_count": 55,
   "metadata": {},
   "outputs": [],
   "source": [
    "X_b_300_150 = X_b_rank[(X_b_rank.nan_count <300).values & (X_b_rank.nan_count > 150).values]"
   ]
  },
  {
   "cell_type": "code",
   "execution_count": 56,
   "metadata": {},
   "outputs": [
    {
     "data": {
      "image/png": "[encoded data removed]",
      "text/plain": [
       "<matplotlib.figure.Figure at 0x7fbaaf7cd550>"
      ]
     },
     "metadata": {},
     "output_type": "display_data"
    }
   ],
   "source": [
    "plt.scatter(X_b_300_150.index, X_b_300_150.nan_count.values)\n",
    "plt.show()"
   ]
  },
  {
   "cell_type": "code",
   "execution_count": null,
   "metadata": {},
   "outputs": [],
   "source": []
  },
  {
   "cell_type": "code",
   "execution_count": null,
   "metadata": {},
   "outputs": [],
   "source": []
  },
  {
   "cell_type": "markdown",
   "metadata": {},
   "source": [
    "#### 对含Nan列进行分类"
   ]
  },
  {
   "cell_type": "code",
   "execution_count": null,
   "metadata": {},
   "outputs": [],
   "source": []
  },
  {
   "cell_type": "code",
   "execution_count": null,
   "metadata": {},
   "outputs": [],
   "source": []
  },
  {
   "cell_type": "markdown",
   "metadata": {},
   "source": [
    "#### 直接删除含Nan列"
   ]
  },
  {
   "cell_type": "code",
   "execution_count": 59,
   "metadata": {},
   "outputs": [],
   "source": [
    "def get_nan_indexs(data, indexs = []):\n",
    "    for index in data:\n",
    "        if index not in indexs:\n",
    "            indexs.append(index)\n",
    "    return indexs"
   ]
  },
  {
   "cell_type": "code",
   "execution_count": 60,
   "metadata": {},
   "outputs": [],
   "source": [
    "train_Nan_columns = np.where(np.isnan(train_X_num))[1]"
   ]
  },
  {
   "cell_type": "code",
   "execution_count": 61,
   "metadata": {},
   "outputs": [
    {
     "data": {
      "text/plain": [
       "array([ 320,  321,  931, ..., 3796, 3798, 3800])"
      ]
     },
     "execution_count": 61,
     "metadata": {},
     "output_type": "execute_result"
    }
   ],
   "source": [
    "train_Nan_columns"
   ]
  },
  {
   "cell_type": "code",
   "execution_count": 62,
   "metadata": {},
   "outputs": [],
   "source": [
    "X_a_Nan_columns = np.where(np.isnan(testa_X_num))[1]"
   ]
  },
  {
   "cell_type": "code",
   "execution_count": 63,
   "metadata": {},
   "outputs": [],
   "source": [
    "X_b_Nan_columns = np.where(np.isnan(testb_X_num))[1]"
   ]
  },
  {
   "cell_type": "code",
   "execution_count": 64,
   "metadata": {},
   "outputs": [],
   "source": [
    "def mix(X, X_a, X_b):\n",
    "    X_indexs = get_nan_indexs(X)\n",
    "    X_a_indexs = get_nan_indexs(X_a, indexs=X_indexs)\n",
    "    return get_nan_indexs(X_b, indexs=X_a_indexs)"
   ]
  },
  {
   "cell_type": "code",
   "execution_count": 65,
   "metadata": {},
   "outputs": [],
   "source": [
    "all_nan_columns = mix(train_Nan_columns, X_a_Nan_columns, X_b_Nan_columns)"
   ]
  },
  {
   "cell_type": "code",
   "execution_count": 66,
   "metadata": {},
   "outputs": [
    {
     "data": {
      "text/plain": [
       "2716"
      ]
     },
     "execution_count": 66,
     "metadata": {},
     "output_type": "execute_result"
    }
   ],
   "source": [
    "len(all_nan_columns)"
   ]
  },
  {
   "cell_type": "code",
   "execution_count": null,
   "metadata": {},
   "outputs": [],
   "source": []
  },
  {
   "cell_type": "code",
   "execution_count": 67,
   "metadata": {},
   "outputs": [],
   "source": [
    "def isUnique(array):\n",
    "    new_array = []\n",
    "    for item in array:\n",
    "        if item not in new_array:\n",
    "            new_array.append(item)\n",
    "        else:\n",
    "            return False\n",
    "    return True"
   ]
  },
  {
   "cell_type": "code",
   "execution_count": 68,
   "metadata": {},
   "outputs": [
    {
     "data": {
      "text/plain": [
       "True"
      ]
     },
     "execution_count": 68,
     "metadata": {},
     "output_type": "execute_result"
    }
   ],
   "source": [
    "isUnique(all_nan_columns)"
   ]
  },
  {
   "cell_type": "code",
   "execution_count": 69,
   "metadata": {},
   "outputs": [],
   "source": [
    "train_X_num_non_nan = train_X_num.drop(train_X_num.columns[all_nan_columns], axis=1)"
   ]
  },
  {
   "cell_type": "code",
   "execution_count": 69,
   "metadata": {},
   "outputs": [
    {
     "ename": "NameError",
     "evalue": "name 'testa_num_rank' is not defined",
     "output_type": "error",
     "traceback": [
      "\u001b[0;31m---------------------------------------------------------------------------\u001b[0m",
      "\u001b[0;31mNameError\u001b[0m                                 Traceback (most recent call last)",
      "\u001b[0;32m<ipython-input-69-e823fc04cfc3>\u001b[0m in \u001b[0;36m<module>\u001b[0;34m()\u001b[0m\n\u001b[0;32m----> 1\u001b[0;31m \u001b[0mtesta_X_num_non_nan\u001b[0m \u001b[0;34m=\u001b[0m \u001b[0mtesta_num_rank\u001b[0m\u001b[0;34m.\u001b[0m\u001b[0mdrop\u001b[0m\u001b[0;34m(\u001b[0m\u001b[0mtesta_X_num\u001b[0m\u001b[0;34m.\u001b[0m\u001b[0mcolumns\u001b[0m\u001b[0;34m[\u001b[0m\u001b[0mall_nan_columns\u001b[0m\u001b[0;34m]\u001b[0m\u001b[0;34m,\u001b[0m \u001b[0maxis\u001b[0m\u001b[0;34m=\u001b[0m\u001b[0;36m1\u001b[0m\u001b[0;34m)\u001b[0m\u001b[0;34m\u001b[0m\u001b[0m\n\u001b[0m",
      "\u001b[0;31mNameError\u001b[0m: name 'testa_num_rank' is not defined"
     ]
    }
   ],
   "source": [
    "testa_X_num_non_nan = testa_num_rank.drop(testa_X_num.columns[all_nan_columns], axis=1)"
   ]
  },
  {
   "cell_type": "code",
   "execution_count": 70,
   "metadata": {},
   "outputs": [
    {
     "ename": "NameError",
     "evalue": "name 'testb_num_rank' is not defined",
     "output_type": "error",
     "traceback": [
      "\u001b[0;31m---------------------------------------------------------------------------\u001b[0m",
      "\u001b[0;31mNameError\u001b[0m                                 Traceback (most recent call last)",
      "\u001b[0;32m<ipython-input-70-0b2498b1cc52>\u001b[0m in \u001b[0;36m<module>\u001b[0;34m()\u001b[0m\n\u001b[0;32m----> 1\u001b[0;31m \u001b[0mtestb_X_num_rank_non_nan\u001b[0m \u001b[0;34m=\u001b[0m \u001b[0mtestb_num_rank\u001b[0m\u001b[0;34m.\u001b[0m\u001b[0mdrop\u001b[0m\u001b[0;34m(\u001b[0m\u001b[0mtestb_X_num\u001b[0m\u001b[0;34m.\u001b[0m\u001b[0mcolumns\u001b[0m\u001b[0;34m[\u001b[0m\u001b[0mall_nan_columns\u001b[0m\u001b[0;34m]\u001b[0m\u001b[0;34m,\u001b[0m \u001b[0maxis\u001b[0m\u001b[0;34m=\u001b[0m\u001b[0;36m1\u001b[0m\u001b[0;34m)\u001b[0m\u001b[0;34m\u001b[0m\u001b[0m\n\u001b[0m",
      "\u001b[0;31mNameError\u001b[0m: name 'testb_num_rank' is not defined"
     ]
    }
   ],
   "source": [
    "testb_X_num_rank_non_nan = testb_num_rank.drop(testb_X_num.columns[all_nan_columns], axis=1)"
   ]
  },
  {
   "cell_type": "code",
   "execution_count": 72,
   "metadata": {},
   "outputs": [
    {
     "data": {
      "text/plain": [
       "(500, 5200)"
      ]
     },
     "execution_count": 72,
     "metadata": {},
     "output_type": "execute_result"
    }
   ],
   "source": [
    "train_X_num_non_nan.shape"
   ]
  },
  {
   "cell_type": "code",
   "execution_count": 106,
   "metadata": {},
   "outputs": [
    {
     "data": {
      "text/plain": [
       "(100, 5210)"
      ]
     },
     "execution_count": 106,
     "metadata": {},
     "output_type": "execute_result"
    }
   ],
   "source": [
    "testa_X_num_rank_non_nan.shape"
   ]
  },
  {
   "cell_type": "code",
   "execution_count": 71,
   "metadata": {},
   "outputs": [
    {
     "data": {
      "text/plain": [
       "(121, 5198)"
      ]
     },
     "execution_count": 71,
     "metadata": {},
     "output_type": "execute_result"
    }
   ],
   "source": [
    "testb_X_num_non_nan.shape"
   ]
  },
  {
   "cell_type": "markdown",
   "metadata": {},
   "source": [
    "#### 生成验证集"
   ]
  },
  {
   "cell_type": "code",
   "execution_count": 70,
   "metadata": {},
   "outputs": [],
   "source": [
    "def get_nan_columns(data):\n",
    "    train_nan_columns = np.where(np.isnan(data))\n",
    "    nan_columns = []\n",
    "    for index in train_nan_columns[1]:\n",
    "        if index not in nan_columns:\n",
    "            nan_columns.append(index)\n",
    "    return nan_columns"
   ]
  },
  {
   "cell_type": "code",
   "execution_count": 71,
   "metadata": {},
   "outputs": [
    {
     "data": {
      "text/plain": [
       "0"
      ]
     },
     "execution_count": 71,
     "metadata": {},
     "output_type": "execute_result"
    }
   ],
   "source": [
    "len(get_nan_columns(train_X_num_non_nan))"
   ]
  },
  {
   "cell_type": "code",
   "execution_count": null,
   "metadata": {},
   "outputs": [],
   "source": []
  },
  {
   "cell_type": "code",
   "execution_count": 74,
   "metadata": {},
   "outputs": [],
   "source": [
    "from sklearn.preprocessing import StandardScaler"
   ]
  },
  {
   "cell_type": "code",
   "execution_count": 75,
   "metadata": {},
   "outputs": [],
   "source": [
    "train_X_num_str = pd.concat([train_X_num_non_nan, train_X_str], axis=1)"
   ]
  },
  {
   "cell_type": "code",
   "execution_count": 76,
   "metadata": {},
   "outputs": [],
   "source": [
    "train_X_num_str_Y = pd.concat([train_X_num_str, train_Y],axis=1)"
   ]
  },
  {
   "cell_type": "code",
   "execution_count": null,
   "metadata": {},
   "outputs": [],
   "source": []
  },
  {
   "cell_type": "code",
   "execution_count": null,
   "metadata": {},
   "outputs": [],
   "source": []
  },
  {
   "cell_type": "code",
   "execution_count": null,
   "metadata": {},
   "outputs": [],
   "source": []
  },
  {
   "cell_type": "code",
   "execution_count": 74,
   "metadata": {},
   "outputs": [],
   "source": [
    "ss = StandardScaler()"
   ]
  },
  {
   "cell_type": "code",
   "execution_count": 75,
   "metadata": {},
   "outputs": [],
   "source": [
    "train_X_num_str_standard = ss.fit_transform(train_X_num_str)"
   ]
  },
  {
   "cell_type": "code",
   "execution_count": null,
   "metadata": {},
   "outputs": [],
   "source": []
  },
  {
   "cell_type": "code",
   "execution_count": null,
   "metadata": {},
   "outputs": [],
   "source": []
  },
  {
   "cell_type": "code",
   "execution_count": null,
   "metadata": {},
   "outputs": [],
   "source": []
  },
  {
   "cell_type": "code",
   "execution_count": null,
   "metadata": {},
   "outputs": [],
   "source": []
  },
  {
   "cell_type": "code",
   "execution_count": null,
   "metadata": {},
   "outputs": [],
   "source": []
  },
  {
   "cell_type": "code",
   "execution_count": 79,
   "metadata": {},
   "outputs": [],
   "source": [
    "str_columns = train_X_str.columns"
   ]
  },
  {
   "cell_type": "code",
   "execution_count": 89,
   "metadata": {},
   "outputs": [],
   "source": [
    "train_X_num_non_nan_y = pd.concat([train_X_num_non_nan, train_Y], axis=1)"
   ]
  },
  {
   "cell_type": "code",
   "execution_count": 76,
   "metadata": {},
   "outputs": [
    {
     "data": {
      "text/plain": [
       "(array([], dtype=int64), array([], dtype=int64))"
      ]
     },
     "execution_count": 76,
     "metadata": {},
     "output_type": "execute_result"
    }
   ],
   "source": [
    "np.where(np.isnan(train_X_num_non_nan))"
   ]
  },
  {
   "cell_type": "code",
   "execution_count": 49,
   "metadata": {},
   "outputs": [],
   "source": [
    "def cos(vector1,vector2):  \n",
    "    dot_product = 0.0;  \n",
    "    normA = 0.0;  \n",
    "    normB = 0.0;  \n",
    "    for a,b in zip(vector1,vector2):  \n",
    "        dot_product += a*b  \n",
    "        normA += a**2  \n",
    "        normB += b**2  \n",
    "    if normA == 0.0 or normB==0.0:  \n",
    "        return None  \n",
    "    else:  \n",
    "        return dot_product / ((normA*normB)**0.5) "
   ]
  },
  {
   "cell_type": "code",
   "execution_count": 50,
   "metadata": {},
   "outputs": [
    {
     "data": {
      "text/plain": [
       "0.38461538461538464"
      ]
     },
     "execution_count": 50,
     "metadata": {},
     "output_type": "execute_result"
    }
   ],
   "source": [
    "cos(list(train_X_str.iloc[0,:].values), list(train_X_str.iloc[400,:].values))"
   ]
  },
  {
   "cell_type": "code",
   "execution_count": 112,
   "metadata": {},
   "outputs": [],
   "source": [
    "def handleCos(data):\n",
    "    data_str = data.loc[:,str_columns]\n",
    "    for index in range(len(data)):\n",
    "        cos_value = cos(list(data_str.iloc[0,:].values), list(data_str.iloc[index,:].values))\n",
    "        print(str(index)+ \"   \" +str(cos_value) + \"   \" +str(data.nan_count.values[index]) + \"    \" + str(data.Y.values[index]))"
   ]
  },
  {
   "cell_type": "code",
   "execution_count": 113,
   "metadata": {},
   "outputs": [],
   "source": [
    "def printValues(data):\n",
    "    for index in range(len(data)):\n",
    "        print(index)\n",
    "        print(data.nan_standard.values[index])"
   ]
  },
  {
   "cell_type": "code",
   "execution_count": 116,
   "metadata": {},
   "outputs": [],
   "source": [
    "train_X_num_str_Y_gater_3_2 = train_X_num_str_Y[train_X_num_str_Y.Y <=2.6]"
   ]
  },
  {
   "cell_type": "code",
   "execution_count": 120,
   "metadata": {},
   "outputs": [],
   "source": [
    "def angleClassify(data):\n",
    "    angles = []\n",
    "    data_str = data.loc[:,str_columns]\n",
    "    for index in range(len(data)):\n",
    "        cos_value = cos(list(data_str.iloc[0,:].values), list(data_str.iloc[index,:].values))\n",
    "        angles.append(cos_value)\n",
    "    return angles"
   ]
  },
  {
   "cell_type": "code",
   "execution_count": 126,
   "metadata": {},
   "outputs": [],
   "source": [
    "angles = angleClassify(train_X_num_str_Y)"
   ]
  },
  {
   "cell_type": "code",
   "execution_count": 129,
   "metadata": {},
   "outputs": [],
   "source": [
    "max_value = np.max(angles)\n",
    "min_value = np.min(angles)\n",
    "angle_rank = []\n",
    "for item in angles:\n",
    "    value = (item - min_value)/(max_value - min_value)\n",
    "    angle_rank.append(value)"
   ]
  },
  {
   "cell_type": "code",
   "execution_count": 131,
   "metadata": {},
   "outputs": [],
   "source": [
    "train_X_num_str_Y['angle_rank'] = angle_rank"
   ]
  },
  {
   "cell_type": "code",
   "execution_count": 132,
   "metadata": {},
   "outputs": [
    {
     "data": {
      "text/plain": [
       "0      1.000000\n",
       "1      0.636364\n",
       "2      0.909091\n",
       "3      0.636364\n",
       "4      0.636364\n",
       "5      0.636364\n",
       "6      0.636364\n",
       "7      0.727273\n",
       "8      0.727273\n",
       "9      0.727273\n",
       "10     0.727273\n",
       "11     0.636364\n",
       "12     0.636364\n",
       "13     0.727273\n",
       "14     0.545455\n",
       "15     0.454545\n",
       "16     0.545455\n",
       "17     0.545455\n",
       "18     0.454545\n",
       "19     0.545455\n",
       "20     0.545455\n",
       "21     0.454545\n",
       "22     0.636364\n",
       "23     0.636364\n",
       "24     0.363636\n",
       "25     0.363636\n",
       "26     0.636364\n",
       "27     0.363636\n",
       "28     0.454545\n",
       "29     0.454545\n",
       "         ...   \n",
       "470    0.272727\n",
       "471    0.363636\n",
       "472    0.454545\n",
       "473    0.090909\n",
       "474    0.363636\n",
       "475    0.090909\n",
       "476    0.090909\n",
       "477    0.272727\n",
       "478    0.363636\n",
       "479    0.272727\n",
       "480    0.272727\n",
       "481    0.363636\n",
       "482    0.454545\n",
       "483    0.363636\n",
       "484    0.636364\n",
       "485    0.454545\n",
       "486    0.636364\n",
       "487    0.545455\n",
       "488    0.636364\n",
       "489    0.454545\n",
       "490    0.181818\n",
       "491    0.454545\n",
       "492    0.454545\n",
       "493    0.454545\n",
       "494    0.545455\n",
       "495    0.454545\n",
       "496    0.090909\n",
       "497    0.000000\n",
       "498    0.545455\n",
       "499    0.000000\n",
       "Name: angle_rank, Length: 500, dtype: float64"
      ]
     },
     "execution_count": 132,
     "metadata": {},
     "output_type": "execute_result"
    }
   ],
   "source": [
    "train_X_num_str_Y.angle_rank.apply"
   ]
  },
  {
   "cell_type": "code",
   "execution_count": null,
   "metadata": {},
   "outputs": [],
   "source": []
  },
  {
   "cell_type": "code",
   "execution_count": null,
   "metadata": {},
   "outputs": [],
   "source": []
  },
  {
   "cell_type": "code",
   "execution_count": null,
   "metadata": {},
   "outputs": [],
   "source": []
  },
  {
   "cell_type": "code",
   "execution_count": 124,
   "metadata": {},
   "outputs": [
    {
     "data": {
      "text/plain": [
       "500"
      ]
     },
     "execution_count": 124,
     "metadata": {},
     "output_type": "execute_result"
    }
   ],
   "source": [
    "len(angles)"
   ]
  },
  {
   "cell_type": "code",
   "execution_count": null,
   "metadata": {},
   "outputs": [],
   "source": []
  },
  {
   "cell_type": "code",
   "execution_count": null,
   "metadata": {},
   "outputs": [],
   "source": []
  },
  {
   "cell_type": "code",
   "execution_count": 52,
   "metadata": {},
   "outputs": [],
   "source": [
    "def distance(vector1,vector2):  \n",
    "    d=0;  \n",
    "    for a,b in zip(vector1,vector2):  \n",
    "        d+=(a-b)**2;  \n",
    "    return d**0.5;  "
   ]
  },
  {
   "cell_type": "code",
   "execution_count": null,
   "metadata": {},
   "outputs": [],
   "source": []
  },
  {
   "cell_type": "code",
   "execution_count": null,
   "metadata": {},
   "outputs": [],
   "source": []
  },
  {
   "cell_type": "code",
   "execution_count": null,
   "metadata": {},
   "outputs": [],
   "source": []
  },
  {
   "cell_type": "code",
   "execution_count": null,
   "metadata": {},
   "outputs": [],
   "source": []
  },
  {
   "cell_type": "code",
   "execution_count": null,
   "metadata": {},
   "outputs": [],
   "source": []
  },
  {
   "cell_type": "code",
   "execution_count": null,
   "metadata": {},
   "outputs": [],
   "source": []
  },
  {
   "cell_type": "code",
   "execution_count": null,
   "metadata": {},
   "outputs": [],
   "source": []
  },
  {
   "cell_type": "code",
   "execution_count": null,
   "metadata": {},
   "outputs": [],
   "source": []
  },
  {
   "cell_type": "code",
   "execution_count": null,
   "metadata": {},
   "outputs": [],
   "source": []
  },
  {
   "cell_type": "code",
   "execution_count": null,
   "metadata": {},
   "outputs": [],
   "source": []
  },
  {
   "cell_type": "code",
   "execution_count": null,
   "metadata": {},
   "outputs": [],
   "source": []
  },
  {
   "cell_type": "code",
   "execution_count": null,
   "metadata": {},
   "outputs": [],
   "source": []
  },
  {
   "cell_type": "code",
   "execution_count": null,
   "metadata": {},
   "outputs": [],
   "source": []
  },
  {
   "cell_type": "code",
   "execution_count": null,
   "metadata": {},
   "outputs": [],
   "source": []
  },
  {
   "cell_type": "code",
   "execution_count": null,
   "metadata": {},
   "outputs": [],
   "source": []
  },
  {
   "cell_type": "code",
   "execution_count": null,
   "metadata": {},
   "outputs": [],
   "source": []
  },
  {
   "cell_type": "code",
   "execution_count": null,
   "metadata": {},
   "outputs": [],
   "source": []
  },
  {
   "cell_type": "code",
   "execution_count": 102,
   "metadata": {},
   "outputs": [],
   "source": []
  },
  {
   "cell_type": "code",
   "execution_count": 103,
   "metadata": {},
   "outputs": [],
   "source": []
  },
  {
   "cell_type": "code",
   "execution_count": null,
   "metadata": {},
   "outputs": [],
   "source": []
  },
  {
   "cell_type": "code",
   "execution_count": 67,
   "metadata": {},
   "outputs": [
    {
     "name": "stderr",
     "output_type": "stream",
     "text": [
      "/usr/local/lib/python3.5/dist-packages/sklearn/cross_validation.py:41: DeprecationWarning: This module was deprecated in version 0.18 in favor of the model_selection module into which all the refactored classes and functions are moved. Also note that the interface of the new CV iterators are different from that of this module. This module will be removed in 0.20.\n",
      "  \"This module will be removed in 0.20.\", DeprecationWarning)\n"
     ]
    }
   ],
   "source": [
    "from sklearn.cross_validation import train_test_split"
   ]
  },
  {
   "cell_type": "code",
   "execution_count": 68,
   "metadata": {},
   "outputs": [],
   "source": [
    "X_train, X_valid, y_train, y_valid = train_test_split(train_X_num_non_nan.values, train_Y.values, test_size=0.3, random_state=33)"
   ]
  },
  {
   "cell_type": "code",
   "execution_count": null,
   "metadata": {},
   "outputs": [],
   "source": []
  },
  {
   "cell_type": "code",
   "execution_count": null,
   "metadata": {},
   "outputs": [],
   "source": [
    "train_X_num_str_Y.nan_standard"
   ]
  },
  {
   "cell_type": "code",
   "execution_count": 78,
   "metadata": {},
   "outputs": [],
   "source": [
    "importanct_feature = train_X_num_str_Y.drop(['Y'], axis=1).columns"
   ]
  },
  {
   "cell_type": "code",
   "execution_count": 119,
   "metadata": {},
   "outputs": [
    {
     "data": {
      "text/plain": [
       "74"
      ]
     },
     "execution_count": 119,
     "metadata": {},
     "output_type": "execute_result"
    }
   ],
   "source": [
    "len(importanct_feature)"
   ]
  },
  {
   "cell_type": "code",
   "execution_count": 622,
   "metadata": {},
   "outputs": [],
   "source": [
    "train_X_num_str_Y_1 = train_X_num_str_Y[train_X_num_str_Y.nan_standard == 1]"
   ]
  },
  {
   "cell_type": "code",
   "execution_count": 623,
   "metadata": {},
   "outputs": [],
   "source": [
    "X_data_1 = train_X_num_str_Y_1.drop(['nan_standard', 'Y'], axis=1)\n",
    "# X_data_1 = train_X_num_str_Y_1.loc[:, importanct_feature]\n",
    "y_data_1 = train_X_num_str_Y_1.Y"
   ]
  },
  {
   "cell_type": "code",
   "execution_count": 624,
   "metadata": {},
   "outputs": [],
   "source": [
    "X_train_1, X_valid_1, y_train_1, y_valid_1 = train_test_split(X_data_1.values, y_data_1.values, test_size=0.4, random_state=33)"
   ]
  },
  {
   "cell_type": "code",
   "execution_count": 625,
   "metadata": {},
   "outputs": [],
   "source": [
    "train_X_num_str_Y_2 = train_X_num_str_Y[train_X_num_str_Y.nan_standard == 2]"
   ]
  },
  {
   "cell_type": "code",
   "execution_count": 626,
   "metadata": {},
   "outputs": [],
   "source": [
    "X_data_2 = train_X_num_str_Y_2.drop(['nan_standard', 'Y'], axis=1)\n",
    "# X_data_2 = train_X_num_str_Y_2.loc[:, importanct_feature]\n",
    "y_data_2 = train_X_num_str_Y_2.Y"
   ]
  },
  {
   "cell_type": "code",
   "execution_count": 627,
   "metadata": {},
   "outputs": [],
   "source": [
    "X_train_2, X_valid_2, y_train_2, y_valid_2 = train_test_split(X_data_2.values, y_data_2.values, test_size=0.4, random_state=33)"
   ]
  },
  {
   "cell_type": "code",
   "execution_count": 628,
   "metadata": {},
   "outputs": [],
   "source": [
    "train_X_num_str_Y_3 = train_X_num_str_Y[train_X_num_str_Y.nan_standard == 3]"
   ]
  },
  {
   "cell_type": "code",
   "execution_count": 629,
   "metadata": {},
   "outputs": [],
   "source": [
    "X_data_3 = train_X_num_str_Y_3.drop(['nan_standard', 'Y'], axis=1)\n",
    "# X_data_3 = train_X_num_str_Y_3.loc[:, importanct_feature]\n",
    "y_data_3 = train_X_num_str_Y_3.Y"
   ]
  },
  {
   "cell_type": "code",
   "execution_count": 630,
   "metadata": {},
   "outputs": [],
   "source": [
    "X_train_3, X_valid_3, y_train_3, y_valid_3 = train_test_split(X_data_3.values, y_data_3.values, test_size=0.25, random_state=33)"
   ]
  },
  {
   "cell_type": "code",
   "execution_count": 631,
   "metadata": {},
   "outputs": [
    {
     "data": {
      "text/plain": [
       "(56, 5265)"
      ]
     },
     "execution_count": 631,
     "metadata": {},
     "output_type": "execute_result"
    }
   ],
   "source": [
    "X_data_3.shape"
   ]
  },
  {
   "cell_type": "code",
   "execution_count": 632,
   "metadata": {},
   "outputs": [],
   "source": [
    "###"
   ]
  },
  {
   "cell_type": "code",
   "execution_count": null,
   "metadata": {},
   "outputs": [],
   "source": []
  },
  {
   "cell_type": "code",
   "execution_count": 633,
   "metadata": {},
   "outputs": [],
   "source": [
    "X_train = list(X_train_1) + list(X_train_2) + list(X_train_3) \n",
    "y_train = list(y_train_1) + list(y_train_2) + list(y_train_3) "
   ]
  },
  {
   "cell_type": "code",
   "execution_count": 634,
   "metadata": {},
   "outputs": [],
   "source": [
    "X_valid = list(X_valid_1) + list(X_valid_2) + list(X_train_3)\n",
    "y_valid = list(y_valid_1) + list(y_valid_2) + list(y_train_3)"
   ]
  },
  {
   "cell_type": "code",
   "execution_count": null,
   "metadata": {},
   "outputs": [],
   "source": []
  },
  {
   "cell_type": "code",
   "execution_count": 635,
   "metadata": {},
   "outputs": [],
   "source": [
    "X_train_all = list(X_train_1) + list(X_train_2) + list(X_train_3) + list(X_valid_1) + list(X_valid_2) + list(X_valid_3)"
   ]
  },
  {
   "cell_type": "code",
   "execution_count": 636,
   "metadata": {},
   "outputs": [],
   "source": [
    "y_train_all = list(y_train_1) + list(y_train_2) + list(y_train_3) + list(y_valid_1) + list(y_valid_2) + list(y_valid_3)"
   ]
  },
  {
   "cell_type": "code",
   "execution_count": null,
   "metadata": {},
   "outputs": [],
   "source": []
  },
  {
   "cell_type": "code",
   "execution_count": 637,
   "metadata": {},
   "outputs": [],
   "source": [
    "pd_X = pd.DataFrame(X_valid, columns=None)\n",
    "pd_Y = pd.DataFrame(y_valid, columns=['Y'])"
   ]
  },
  {
   "cell_type": "code",
   "execution_count": 638,
   "metadata": {},
   "outputs": [],
   "source": [
    "pd_valid = pd.concat([pd_X, pd_Y], axis=1)"
   ]
  },
  {
   "cell_type": "code",
   "execution_count": 639,
   "metadata": {},
   "outputs": [],
   "source": [
    "pd_valid= pd_valid.sort_values(by='Y')"
   ]
  },
  {
   "cell_type": "code",
   "execution_count": null,
   "metadata": {},
   "outputs": [],
   "source": []
  },
  {
   "cell_type": "code",
   "execution_count": 640,
   "metadata": {},
   "outputs": [],
   "source": [
    "X_valid = pd_valid.drop(['Y'], axis=1).values\n",
    "y_valid = pd_valid.Y.values"
   ]
  },
  {
   "cell_type": "code",
   "execution_count": 641,
   "metadata": {},
   "outputs": [
    {
     "data": {
      "text/plain": [
       "220"
      ]
     },
     "execution_count": 641,
     "metadata": {},
     "output_type": "execute_result"
    }
   ],
   "source": [
    "len(y_valid)"
   ]
  },
  {
   "cell_type": "code",
   "execution_count": 642,
   "metadata": {},
   "outputs": [
    {
     "data": {
      "image/png": "[encoded data removed]",
      "text/plain": [
       "<matplotlib.figure.Figure at 0x7fccd544cb70>"
      ]
     },
     "metadata": {},
     "output_type": "display_data"
    }
   ],
   "source": [
    "x = range((len(y_valid)))\n",
    "plt.plot(x, y_valid, 'b-o', label='y_valid')\n",
    "plt.legend()\n",
    "plt.show()"
   ]
  },
  {
   "cell_type": "code",
   "execution_count": null,
   "metadata": {},
   "outputs": [],
   "source": []
  },
  {
   "cell_type": "code",
   "execution_count": 643,
   "metadata": {},
   "outputs": [],
   "source": [
    "### 使用 cpa 降维"
   ]
  },
  {
   "cell_type": "code",
   "execution_count": 644,
   "metadata": {},
   "outputs": [],
   "source": [
    "from sklearn.decomposition import PCA"
   ]
  },
  {
   "cell_type": "code",
   "execution_count": 665,
   "metadata": {},
   "outputs": [],
   "source": [
    "estimator = PCA(n_components=200)"
   ]
  },
  {
   "cell_type": "code",
   "execution_count": 666,
   "metadata": {},
   "outputs": [],
   "source": [
    "pca_X_train = estimator.fit_transform(X_train)\n",
    "pca_X_valid = estimator.transform(X_valid)"
   ]
  },
  {
   "cell_type": "code",
   "execution_count": 667,
   "metadata": {},
   "outputs": [
    {
     "data": {
      "text/plain": [
       "(308, 200)"
      ]
     },
     "execution_count": 667,
     "metadata": {},
     "output_type": "execute_result"
    }
   ],
   "source": [
    "pca_X_train.shape"
   ]
  },
  {
   "cell_type": "code",
   "execution_count": 668,
   "metadata": {},
   "outputs": [
    {
     "data": {
      "text/plain": [
       "(220, 200)"
      ]
     },
     "execution_count": 668,
     "metadata": {},
     "output_type": "execute_result"
    }
   ],
   "source": [
    "pca_X_valid.shape"
   ]
  },
  {
   "cell_type": "code",
   "execution_count": 107,
   "metadata": {},
   "outputs": [],
   "source": [
    "from sklearn.cross_validation import cross_val_score\n",
    "from sklearn.cross_validation import cross_val_predict\n",
    "from sklearn.metrics import mean_squared_error\n",
    "from sklearn.metrics import mean_absolute_error"
   ]
  },
  {
   "cell_type": "markdown",
   "metadata": {},
   "source": [
    "#### 训练 lightGBM 模型"
   ]
  },
  {
   "cell_type": "code",
   "execution_count": 108,
   "metadata": {},
   "outputs": [],
   "source": [
    "gbm = lgm.LGBMRegressor(objective='regression',\n",
    "                         boosting_type= 'gbdt',\n",
    "                         metric = 'l2',\n",
    "                         max_depth = 8,\n",
    "                         min_sum_hessian_in_leaf = 5.0,\n",
    "                         tree_learner = 'voting',\n",
    "                         num_trees = 10000,\n",
    "                         feature_fraction = 0.9,\n",
    "                         bagging_freq = 5,\n",
    "                         bagging_fraction = 0.8,\n",
    "                         min_data_in_leaf = 100,\n",
    "                         learning_rate = 0.05,\n",
    "                         n_estimators = 200,\n",
    "                         metric_freq = 1)"
   ]
  },
  {
   "cell_type": "code",
   "execution_count": 109,
   "metadata": {},
   "outputs": [
    {
     "name": "stderr",
     "output_type": "stream",
     "text": [
      "/usr/local/lib/python3.5/dist-packages/lightgbm/engine.py:99: UserWarning: Found `num_trees` in params. Will use it instead of argument\n",
      "  warnings.warn(\"Found `{}` in params. Will use it instead of argument\".format(alias))\n",
      "/usr/local/lib/python3.5/dist-packages/lightgbm/basic.py:642: UserWarning: max_bin keyword has been found in `params` and will be ignored. Please use max_bin argument of the Dataset constructor to pass this parameter.\n",
      "  'Please use {0} argument of the Dataset constructor to pass this parameter.'.format(key))\n",
      "/usr/local/lib/python3.5/dist-packages/lightgbm/basic.py:648: LGBMDeprecationWarning: The `max_bin` parameter is deprecated and will be removed in 2.0.12 version. Please use `params` to pass this parameter.\n",
      "  'Please use `params` to pass this parameter.', LGBMDeprecationWarning)\n"
     ]
    },
    {
     "name": "stdout",
     "output_type": "stream",
     "text": [
      "[1]\tvalid_0's l2: 0.0402485\n",
      "Training until validation scores don't improve for 200 rounds.\n",
      "[2]\tvalid_0's l2: 0.0399867\n",
      "[3]\tvalid_0's l2: 0.0397037\n",
      "[4]\tvalid_0's l2: 0.039479\n",
      "[5]\tvalid_0's l2: 0.0392623\n",
      "[6]\tvalid_0's l2: 0.0390201\n",
      "[7]\tvalid_0's l2: 0.038807\n",
      "[8]\tvalid_0's l2: 0.038804\n",
      "[9]\tvalid_0's l2: 0.0386177\n",
      "[10]\tvalid_0's l2: 0.0386414\n",
      "[11]\tvalid_0's l2: 0.0384736\n",
      "[12]\tvalid_0's l2: 0.03826\n",
      "[13]\tvalid_0's l2: 0.038118\n",
      "[14]\tvalid_0's l2: 0.0379335\n",
      "[15]\tvalid_0's l2: 0.0378342\n",
      "[16]\tvalid_0's l2: 0.0376224\n",
      "[17]\tvalid_0's l2: 0.0376549\n",
      "[18]\tvalid_0's l2: 0.0375636\n",
      "[19]\tvalid_0's l2: 0.0373773\n",
      "[20]\tvalid_0's l2: 0.0372457\n",
      "[21]\tvalid_0's l2: 0.0370943\n",
      "[22]\tvalid_0's l2: 0.0369639\n",
      "[23]\tvalid_0's l2: 0.0368888\n",
      "[24]\tvalid_0's l2: 0.0367205\n",
      "[25]\tvalid_0's l2: 0.0365906\n",
      "[26]\tvalid_0's l2: 0.036613\n",
      "[27]\tvalid_0's l2: 0.0364974\n",
      "[28]\tvalid_0's l2: 0.0363972\n",
      "[29]\tvalid_0's l2: 0.0362472\n",
      "[30]\tvalid_0's l2: 0.0361624\n",
      "[31]\tvalid_0's l2: 0.0360456\n",
      "[32]\tvalid_0's l2: 0.0359457\n",
      "[33]\tvalid_0's l2: 0.0358609\n",
      "[34]\tvalid_0's l2: 0.0357893\n",
      "[35]\tvalid_0's l2: 0.0356415\n",
      "[36]\tvalid_0's l2: 0.0355103\n",
      "[37]\tvalid_0's l2: 0.0355327\n",
      "[38]\tvalid_0's l2: 0.0354175\n",
      "[39]\tvalid_0's l2: 0.035317\n",
      "[40]\tvalid_0's l2: 0.0353451\n",
      "[41]\tvalid_0's l2: 0.0351112\n",
      "[42]\tvalid_0's l2: 0.0348976\n",
      "[43]\tvalid_0's l2: 0.0348605\n",
      "[44]\tvalid_0's l2: 0.0347102\n",
      "[45]\tvalid_0's l2: 0.0346835\n",
      "[46]\tvalid_0's l2: 0.0346848\n",
      "[47]\tvalid_0's l2: 0.034637\n",
      "[48]\tvalid_0's l2: 0.0344544\n",
      "[49]\tvalid_0's l2: 0.0343722\n",
      "[50]\tvalid_0's l2: 0.03438\n",
      "[51]\tvalid_0's l2: 0.0343406\n",
      "[52]\tvalid_0's l2: 0.0343399\n",
      "[53]\tvalid_0's l2: 0.0343459\n",
      "[54]\tvalid_0's l2: 0.0342939\n",
      "[55]\tvalid_0's l2: 0.0342495\n",
      "[56]\tvalid_0's l2: 0.0342967\n",
      "[57]\tvalid_0's l2: 0.0341226\n",
      "[58]\tvalid_0's l2: 0.0341743\n",
      "[59]\tvalid_0's l2: 0.0342303\n",
      "[60]\tvalid_0's l2: 0.0341851\n",
      "[61]\tvalid_0's l2: 0.0341637\n",
      "[62]\tvalid_0's l2: 0.0342038\n",
      "[63]\tvalid_0's l2: 0.0341484\n",
      "[64]\tvalid_0's l2: 0.0341082\n",
      "[65]\tvalid_0's l2: 0.0341534\n",
      "[66]\tvalid_0's l2: 0.0341043\n",
      "[67]\tvalid_0's l2: 0.034064\n",
      "[68]\tvalid_0's l2: 0.0340224\n",
      "[69]\tvalid_0's l2: 0.0340351\n",
      "[70]\tvalid_0's l2: 0.0339989\n",
      "[71]\tvalid_0's l2: 0.033906\n",
      "[72]\tvalid_0's l2: 0.033872\n",
      "[73]\tvalid_0's l2: 0.0338495\n",
      "[74]\tvalid_0's l2: 0.0338226\n",
      "[75]\tvalid_0's l2: 0.0337556\n",
      "[76]\tvalid_0's l2: 0.0337333\n",
      "[77]\tvalid_0's l2: 0.0337179\n",
      "[78]\tvalid_0's l2: 0.0337296\n",
      "[79]\tvalid_0's l2: 0.0337161\n",
      "[80]\tvalid_0's l2: 0.0335705\n",
      "[81]\tvalid_0's l2: 0.0333829\n",
      "[82]\tvalid_0's l2: 0.0332111\n",
      "[83]\tvalid_0's l2: 0.0331854\n",
      "[84]\tvalid_0's l2: 0.0330285\n",
      "[85]\tvalid_0's l2: 0.0330095\n",
      "[86]\tvalid_0's l2: 0.0329737\n",
      "[87]\tvalid_0's l2: 0.0329343\n",
      "[88]\tvalid_0's l2: 0.0329109\n",
      "[89]\tvalid_0's l2: 0.0329069\n",
      "[90]\tvalid_0's l2: 0.0328895\n",
      "[91]\tvalid_0's l2: 0.032864\n",
      "[92]\tvalid_0's l2: 0.03292\n",
      "[93]\tvalid_0's l2: 0.0329012\n",
      "[94]\tvalid_0's l2: 0.0329591\n",
      "[95]\tvalid_0's l2: 0.0329694\n",
      "[96]\tvalid_0's l2: 0.0330223\n",
      "[97]\tvalid_0's l2: 0.0329882\n",
      "[98]\tvalid_0's l2: 0.0328696\n",
      "[99]\tvalid_0's l2: 0.0328304\n",
      "[100]\tvalid_0's l2: 0.0328344\n",
      "[101]\tvalid_0's l2: 0.0327657\n",
      "[102]\tvalid_0's l2: 0.0328079\n",
      "[103]\tvalid_0's l2: 0.0327477\n",
      "[104]\tvalid_0's l2: 0.0327912\n",
      "[105]\tvalid_0's l2: 0.0328208\n",
      "[106]\tvalid_0's l2: 0.0327887\n",
      "[107]\tvalid_0's l2: 0.0327457\n",
      "[108]\tvalid_0's l2: 0.0327219\n",
      "[109]\tvalid_0's l2: 0.0326876\n",
      "[110]\tvalid_0's l2: 0.0326602\n",
      "[111]\tvalid_0's l2: 0.0326434\n",
      "[112]\tvalid_0's l2: 0.0326319\n",
      "[113]\tvalid_0's l2: 0.0326279\n",
      "[114]\tvalid_0's l2: 0.0325883\n",
      "[115]\tvalid_0's l2: 0.0325325\n",
      "[116]\tvalid_0's l2: 0.0325311\n",
      "[117]\tvalid_0's l2: 0.0325871\n",
      "[118]\tvalid_0's l2: 0.0326139\n",
      "[119]\tvalid_0's l2: 0.0326153\n",
      "[120]\tvalid_0's l2: 0.0326721\n",
      "[121]\tvalid_0's l2: 0.032599\n",
      "[122]\tvalid_0's l2: 0.0325817\n",
      "[123]\tvalid_0's l2: 0.0325168\n",
      "[124]\tvalid_0's l2: 0.0325809\n",
      "[125]\tvalid_0's l2: 0.0325688\n",
      "[126]\tvalid_0's l2: 0.0325119\n",
      "[127]\tvalid_0's l2: 0.0324643\n",
      "[128]\tvalid_0's l2: 0.0324251\n",
      "[129]\tvalid_0's l2: 0.0323933\n",
      "[130]\tvalid_0's l2: 0.0323678\n",
      "[131]\tvalid_0's l2: 0.0324472\n",
      "[132]\tvalid_0's l2: 0.0323863\n",
      "[133]\tvalid_0's l2: 0.032466\n",
      "[134]\tvalid_0's l2: 0.0324128\n",
      "[135]\tvalid_0's l2: 0.0324052\n",
      "[136]\tvalid_0's l2: 0.032308\n",
      "[137]\tvalid_0's l2: 0.0322739\n",
      "[138]\tvalid_0's l2: 0.0321927\n",
      "[139]\tvalid_0's l2: 0.032086\n",
      "[140]\tvalid_0's l2: 0.0320614\n",
      "[141]\tvalid_0's l2: 0.0320667\n",
      "[142]\tvalid_0's l2: 0.0320769\n",
      "[143]\tvalid_0's l2: 0.0320913\n",
      "[144]\tvalid_0's l2: 0.0321091\n",
      "[145]\tvalid_0's l2: 0.0321953\n",
      "[146]\tvalid_0's l2: 0.0321679\n",
      "[147]\tvalid_0's l2: 0.0321378\n",
      "[148]\tvalid_0's l2: 0.0321134\n",
      "[149]\tvalid_0's l2: 0.0320716\n",
      "[150]\tvalid_0's l2: 0.032051\n",
      "[151]\tvalid_0's l2: 0.0319558\n",
      "[152]\tvalid_0's l2: 0.0318686\n",
      "[153]\tvalid_0's l2: 0.0318067\n",
      "[154]\tvalid_0's l2: 0.0317276\n",
      "[155]\tvalid_0's l2: 0.0317157\n",
      "[156]\tvalid_0's l2: 0.031689\n",
      "[157]\tvalid_0's l2: 0.0316677\n",
      "[158]\tvalid_0's l2: 0.0316511\n",
      "[159]\tvalid_0's l2: 0.0316386\n",
      "[160]\tvalid_0's l2: 0.0316296\n",
      "[161]\tvalid_0's l2: 0.0316184\n",
      "[162]\tvalid_0's l2: 0.0316228\n",
      "[163]\tvalid_0's l2: 0.0316154\n",
      "[164]\tvalid_0's l2: 0.0316013\n",
      "[165]\tvalid_0's l2: 0.0316222\n",
      "[166]\tvalid_0's l2: 0.0316326\n",
      "[167]\tvalid_0's l2: 0.0316468\n",
      "[168]\tvalid_0's l2: 0.031664\n",
      "[169]\tvalid_0's l2: 0.0316915\n",
      "[170]\tvalid_0's l2: 0.0317125\n",
      "[171]\tvalid_0's l2: 0.031751\n",
      "[172]\tvalid_0's l2: 0.031721\n",
      "[173]\tvalid_0's l2: 0.0316956\n",
      "[174]\tvalid_0's l2: 0.0317335\n",
      "[175]\tvalid_0's l2: 0.0317098\n",
      "[176]\tvalid_0's l2: 0.0317878\n",
      "[177]\tvalid_0's l2: 0.0318649\n",
      "[178]\tvalid_0's l2: 0.0319511\n",
      "[179]\tvalid_0's l2: 0.0318804\n",
      "[180]\tvalid_0's l2: 0.0318415\n",
      "[181]\tvalid_0's l2: 0.0318261\n",
      "[182]\tvalid_0's l2: 0.0318358\n",
      "[183]\tvalid_0's l2: 0.0318268\n",
      "[184]\tvalid_0's l2: 0.031841\n",
      "[185]\tvalid_0's l2: 0.0318357\n",
      "[186]\tvalid_0's l2: 0.0318532\n",
      "[187]\tvalid_0's l2: 0.0318475\n",
      "[188]\tvalid_0's l2: 0.0318458\n",
      "[189]\tvalid_0's l2: 0.0318705\n",
      "[190]\tvalid_0's l2: 0.0318724\n",
      "[191]\tvalid_0's l2: 0.0318264\n",
      "[192]\tvalid_0's l2: 0.0317863\n",
      "[193]\tvalid_0's l2: 0.0317975\n",
      "[194]\tvalid_0's l2: 0.0317776\n",
      "[195]\tvalid_0's l2: 0.0317432\n",
      "[196]\tvalid_0's l2: 0.0318061\n",
      "[197]\tvalid_0's l2: 0.0318691\n",
      "[198]\tvalid_0's l2: 0.031932\n",
      "[199]\tvalid_0's l2: 0.0319943\n",
      "[200]\tvalid_0's l2: 0.0320281\n",
      "[201]\tvalid_0's l2: 0.0320297\n",
      "[202]\tvalid_0's l2: 0.0320348\n",
      "[203]\tvalid_0's l2: 0.0320234\n",
      "[204]\tvalid_0's l2: 0.0320834\n",
      "[205]\tvalid_0's l2: 0.0321144\n",
      "[206]\tvalid_0's l2: 0.0320767\n",
      "[207]\tvalid_0's l2: 0.0320615\n",
      "[208]\tvalid_0's l2: 0.0320287\n",
      "[209]\tvalid_0's l2: 0.0320731\n",
      "[210]\tvalid_0's l2: 0.0319876\n",
      "[211]\tvalid_0's l2: 0.031994\n",
      "[212]\tvalid_0's l2: 0.0320045\n",
      "[213]\tvalid_0's l2: 0.0320131\n",
      "[214]\tvalid_0's l2: 0.031964\n",
      "[215]\tvalid_0's l2: 0.0319714\n",
      "[216]\tvalid_0's l2: 0.0318842\n",
      "[217]\tvalid_0's l2: 0.0318053\n",
      "[218]\tvalid_0's l2: 0.0317338\n",
      "[219]\tvalid_0's l2: 0.031669\n",
      "[220]\tvalid_0's l2: 0.0316104\n",
      "[221]\tvalid_0's l2: 0.0315523\n",
      "[222]\tvalid_0's l2: 0.0315001\n",
      "[223]\tvalid_0's l2: 0.0314923\n",
      "[224]\tvalid_0's l2: 0.0314308\n",
      "[225]\tvalid_0's l2: 0.0313982\n",
      "[226]\tvalid_0's l2: 0.031344\n",
      "[227]\tvalid_0's l2: 0.0313546\n",
      "[228]\tvalid_0's l2: 0.0313552\n",
      "[229]\tvalid_0's l2: 0.0313675\n",
      "[230]\tvalid_0's l2: 0.0313174\n",
      "[231]\tvalid_0's l2: 0.0312687\n",
      "[232]\tvalid_0's l2: 0.0312804\n",
      "[233]\tvalid_0's l2: 0.0312367\n",
      "[234]\tvalid_0's l2: 0.0312331\n",
      "[235]\tvalid_0's l2: 0.0311901\n",
      "[236]\tvalid_0's l2: 0.0311971\n",
      "[237]\tvalid_0's l2: 0.0312069\n",
      "[238]\tvalid_0's l2: 0.0311702\n",
      "[239]\tvalid_0's l2: 0.0311821\n",
      "[240]\tvalid_0's l2: 0.0311578\n",
      "[241]\tvalid_0's l2: 0.0311382\n",
      "[242]\tvalid_0's l2: 0.0311225\n",
      "[243]\tvalid_0's l2: 0.0310839\n",
      "[244]\tvalid_0's l2: 0.0311194\n",
      "[245]\tvalid_0's l2: 0.031108\n",
      "[246]\tvalid_0's l2: 0.0310788\n",
      "[247]\tvalid_0's l2: 0.0311305\n",
      "[248]\tvalid_0's l2: 0.0311051\n",
      "[249]\tvalid_0's l2: 0.0311561\n",
      "[250]\tvalid_0's l2: 0.0311301\n",
      "[251]\tvalid_0's l2: 0.0311849\n",
      "[252]\tvalid_0's l2: 0.03124\n",
      "[253]\tvalid_0's l2: 0.0313305\n",
      "[254]\tvalid_0's l2: 0.0313851\n",
      "[255]\tvalid_0's l2: 0.0314107\n",
      "[256]\tvalid_0's l2: 0.0314179\n",
      "[257]\tvalid_0's l2: 0.0314278\n",
      "[258]\tvalid_0's l2: 0.0314476\n",
      "[259]\tvalid_0's l2: 0.0314595\n",
      "[260]\tvalid_0's l2: 0.0314183\n",
      "[261]\tvalid_0's l2: 0.0313877\n",
      "[262]\tvalid_0's l2: 0.0313617\n",
      "[263]\tvalid_0's l2: 0.0313397\n",
      "[264]\tvalid_0's l2: 0.0313786\n",
      "[265]\tvalid_0's l2: 0.031338\n",
      "[266]\tvalid_0's l2: 0.0313106\n",
      "[267]\tvalid_0's l2: 0.0313247\n",
      "[268]\tvalid_0's l2: 0.031302\n",
      "[269]\tvalid_0's l2: 0.0313186\n",
      "[270]\tvalid_0's l2: 0.0313\n",
      "[271]\tvalid_0's l2: 0.0312736\n",
      "[272]\tvalid_0's l2: 0.0312293\n",
      "[273]\tvalid_0's l2: 0.0312059\n",
      "[274]\tvalid_0's l2: 0.0312431\n",
      "[275]\tvalid_0's l2: 0.031246\n",
      "[276]\tvalid_0's l2: 0.0312347\n",
      "[277]\tvalid_0's l2: 0.0312242\n",
      "[278]\tvalid_0's l2: 0.0312147\n",
      "[279]\tvalid_0's l2: 0.0311902\n",
      "[280]\tvalid_0's l2: 0.0311553\n",
      "[281]\tvalid_0's l2: 0.0311663\n",
      "[282]\tvalid_0's l2: 0.0311793\n",
      "[283]\tvalid_0's l2: 0.031177\n",
      "[284]\tvalid_0's l2: 0.0311981\n",
      "[285]\tvalid_0's l2: 0.0311986\n",
      "[286]\tvalid_0's l2: 0.0312498\n",
      "[287]\tvalid_0's l2: 0.0313016\n",
      "[288]\tvalid_0's l2: 0.0313537\n",
      "[289]\tvalid_0's l2: 0.0313289\n",
      "[290]\tvalid_0's l2: 0.0312895\n",
      "[291]\tvalid_0's l2: 0.0313401\n",
      "[292]\tvalid_0's l2: 0.0313909\n",
      "[293]\tvalid_0's l2: 0.0314417\n",
      "[294]\tvalid_0's l2: 0.0314192\n",
      "[295]\tvalid_0's l2: 0.0314464\n",
      "[296]\tvalid_0's l2: 0.0314505\n",
      "[297]\tvalid_0's l2: 0.0314019\n",
      "[298]\tvalid_0's l2: 0.0314085\n",
      "[299]\tvalid_0's l2: 0.0313655\n",
      "[300]\tvalid_0's l2: 0.0313743\n",
      "[301]\tvalid_0's l2: 0.0314142\n"
     ]
    },
    {
     "name": "stdout",
     "output_type": "stream",
     "text": [
      "[302]\tvalid_0's l2: 0.031455\n",
      "[303]\tvalid_0's l2: 0.0314719\n",
      "[304]\tvalid_0's l2: 0.0315128\n",
      "[305]\tvalid_0's l2: 0.0315724\n",
      "[306]\tvalid_0's l2: 0.0315578\n",
      "[307]\tvalid_0's l2: 0.0315723\n",
      "[308]\tvalid_0's l2: 0.0315234\n",
      "[309]\tvalid_0's l2: 0.0315048\n",
      "[310]\tvalid_0's l2: 0.0314962\n",
      "[311]\tvalid_0's l2: 0.0315476\n",
      "[312]\tvalid_0's l2: 0.0315262\n",
      "[313]\tvalid_0's l2: 0.0314875\n",
      "[314]\tvalid_0's l2: 0.031461\n",
      "[315]\tvalid_0's l2: 0.0314283\n",
      "[316]\tvalid_0's l2: 0.0314034\n",
      "[317]\tvalid_0's l2: 0.0313823\n",
      "[318]\tvalid_0's l2: 0.0313645\n",
      "[319]\tvalid_0's l2: 0.0313699\n",
      "[320]\tvalid_0's l2: 0.0313937\n",
      "[321]\tvalid_0's l2: 0.0313883\n",
      "[322]\tvalid_0's l2: 0.0313858\n",
      "[323]\tvalid_0's l2: 0.031439\n",
      "[324]\tvalid_0's l2: 0.0314385\n",
      "[325]\tvalid_0's l2: 0.0314175\n",
      "[326]\tvalid_0's l2: 0.0314487\n",
      "[327]\tvalid_0's l2: 0.0314814\n",
      "[328]\tvalid_0's l2: 0.0315014\n",
      "[329]\tvalid_0's l2: 0.0315363\n",
      "[330]\tvalid_0's l2: 0.0315587\n",
      "[331]\tvalid_0's l2: 0.0315532\n",
      "[332]\tvalid_0's l2: 0.0315759\n",
      "[333]\tvalid_0's l2: 0.0315727\n",
      "[334]\tvalid_0's l2: 0.0315963\n",
      "[335]\tvalid_0's l2: 0.0316118\n",
      "[336]\tvalid_0's l2: 0.0315833\n",
      "[337]\tvalid_0's l2: 0.0316359\n",
      "[338]\tvalid_0's l2: 0.0316114\n",
      "[339]\tvalid_0's l2: 0.0316054\n",
      "[340]\tvalid_0's l2: 0.0315841\n",
      "[341]\tvalid_0's l2: 0.0315725\n",
      "[342]\tvalid_0's l2: 0.0315496\n",
      "[343]\tvalid_0's l2: 0.0315673\n",
      "[344]\tvalid_0's l2: 0.031566\n",
      "[345]\tvalid_0's l2: 0.0315586\n",
      "[346]\tvalid_0's l2: 0.0315305\n",
      "[347]\tvalid_0's l2: 0.0315192\n",
      "[348]\tvalid_0's l2: 0.0315106\n",
      "[349]\tvalid_0's l2: 0.0314895\n",
      "[350]\tvalid_0's l2: 0.0314807\n",
      "[351]\tvalid_0's l2: 0.0314632\n",
      "[352]\tvalid_0's l2: 0.031449\n",
      "[353]\tvalid_0's l2: 0.0314379\n",
      "[354]\tvalid_0's l2: 0.0314522\n",
      "[355]\tvalid_0's l2: 0.0314434\n",
      "[356]\tvalid_0's l2: 0.0314722\n",
      "[357]\tvalid_0's l2: 0.0315016\n",
      "[358]\tvalid_0's l2: 0.0314832\n",
      "[359]\tvalid_0's l2: 0.0315137\n",
      "[360]\tvalid_0's l2: 0.0315446\n",
      "[361]\tvalid_0's l2: 0.0316059\n",
      "[362]\tvalid_0's l2: 0.0316665\n",
      "[363]\tvalid_0's l2: 0.0317262\n",
      "[364]\tvalid_0's l2: 0.0317847\n",
      "[365]\tvalid_0's l2: 0.0318248\n",
      "[366]\tvalid_0's l2: 0.0318749\n",
      "[367]\tvalid_0's l2: 0.0319248\n",
      "[368]\tvalid_0's l2: 0.0319744\n",
      "[369]\tvalid_0's l2: 0.0320234\n",
      "[370]\tvalid_0's l2: 0.0319818\n",
      "[371]\tvalid_0's l2: 0.0319435\n",
      "[372]\tvalid_0's l2: 0.0319561\n",
      "[373]\tvalid_0's l2: 0.0319213\n",
      "[374]\tvalid_0's l2: 0.0319351\n",
      "[375]\tvalid_0's l2: 0.0319229\n",
      "[376]\tvalid_0's l2: 0.0318892\n",
      "[377]\tvalid_0's l2: 0.0318821\n",
      "[378]\tvalid_0's l2: 0.0318528\n",
      "[379]\tvalid_0's l2: 0.031849\n",
      "[380]\tvalid_0's l2: 0.0318455\n",
      "[381]\tvalid_0's l2: 0.0318529\n",
      "[382]\tvalid_0's l2: 0.0318361\n",
      "[383]\tvalid_0's l2: 0.031845\n",
      "[384]\tvalid_0's l2: 0.0318086\n",
      "[385]\tvalid_0's l2: 0.0317678\n",
      "[386]\tvalid_0's l2: 0.0317135\n",
      "[387]\tvalid_0's l2: 0.0316641\n",
      "[388]\tvalid_0's l2: 0.0316194\n",
      "[389]\tvalid_0's l2: 0.0315787\n",
      "[390]\tvalid_0's l2: 0.0315418\n",
      "[391]\tvalid_0's l2: 0.0316083\n",
      "[392]\tvalid_0's l2: 0.0315381\n",
      "[393]\tvalid_0's l2: 0.031604\n",
      "[394]\tvalid_0's l2: 0.0315403\n",
      "[395]\tvalid_0's l2: 0.0316052\n",
      "[396]\tvalid_0's l2: 0.0315452\n",
      "[397]\tvalid_0's l2: 0.0315374\n",
      "[398]\tvalid_0's l2: 0.0315323\n",
      "[399]\tvalid_0's l2: 0.0314769\n",
      "[400]\tvalid_0's l2: 0.0314716\n",
      "[401]\tvalid_0's l2: 0.0315195\n",
      "[402]\tvalid_0's l2: 0.03156\n",
      "[403]\tvalid_0's l2: 0.0316075\n",
      "[404]\tvalid_0's l2: 0.0316155\n",
      "[405]\tvalid_0's l2: 0.0316553\n",
      "[406]\tvalid_0's l2: 0.0316794\n",
      "[407]\tvalid_0's l2: 0.0317047\n",
      "[408]\tvalid_0's l2: 0.0317308\n",
      "[409]\tvalid_0's l2: 0.0317125\n",
      "[410]\tvalid_0's l2: 0.031739\n",
      "[411]\tvalid_0's l2: 0.0317382\n",
      "[412]\tvalid_0's l2: 0.0317394\n",
      "[413]\tvalid_0's l2: 0.0317777\n",
      "[414]\tvalid_0's l2: 0.0318127\n",
      "[415]\tvalid_0's l2: 0.0318264\n",
      "[416]\tvalid_0's l2: 0.0318355\n",
      "[417]\tvalid_0's l2: 0.0318798\n",
      "[418]\tvalid_0's l2: 0.0318899\n",
      "[419]\tvalid_0's l2: 0.0319095\n",
      "[420]\tvalid_0's l2: 0.0319532\n",
      "[421]\tvalid_0's l2: 0.0319957\n",
      "[422]\tvalid_0's l2: 0.0319981\n",
      "[423]\tvalid_0's l2: 0.032018\n",
      "[424]\tvalid_0's l2: 0.0320399\n",
      "[425]\tvalid_0's l2: 0.0320823\n",
      "[426]\tvalid_0's l2: 0.03211\n",
      "[427]\tvalid_0's l2: 0.0321382\n",
      "[428]\tvalid_0's l2: 0.0321667\n",
      "[429]\tvalid_0's l2: 0.0321562\n",
      "[430]\tvalid_0's l2: 0.0321528\n",
      "[431]\tvalid_0's l2: 0.0321369\n",
      "[432]\tvalid_0's l2: 0.0321321\n",
      "[433]\tvalid_0's l2: 0.0321192\n",
      "[434]\tvalid_0's l2: 0.0321084\n",
      "[435]\tvalid_0's l2: 0.0320996\n",
      "[436]\tvalid_0's l2: 0.0320738\n",
      "[437]\tvalid_0's l2: 0.0320899\n",
      "[438]\tvalid_0's l2: 0.0320484\n",
      "[439]\tvalid_0's l2: 0.0320266\n",
      "[440]\tvalid_0's l2: 0.0320272\n",
      "[441]\tvalid_0's l2: 0.0320253\n",
      "[442]\tvalid_0's l2: 0.0320248\n",
      "[443]\tvalid_0's l2: 0.0319785\n",
      "[444]\tvalid_0's l2: 0.0319856\n",
      "[445]\tvalid_0's l2: 0.031987\n",
      "[446]\tvalid_0's l2: 0.0319769\n",
      "Early stopping, best iteration is:\n",
      "[246]\tvalid_0's l2: 0.0310788\n"
     ]
    },
    {
     "data": {
      "text/plain": [
       "LGBMRegressor(bagging_fraction=0.8, bagging_freq=5, boosting_type='gbdt',\n",
       "       colsample_bytree=1.0, feature_fraction=0.9, learning_rate=0.05,\n",
       "       max_bin=255, max_depth=8, metric='l2', metric_freq=1,\n",
       "       min_child_samples=20, min_child_weight=0.001, min_data_in_leaf=100,\n",
       "       min_split_gain=0.0, min_sum_hessian_in_leaf=5.0, n_estimators=200,\n",
       "       n_jobs=-1, num_leaves=31, num_trees=10000, objective='regression',\n",
       "       random_state=None, reg_alpha=0.0, reg_lambda=0.0, silent=True,\n",
       "       subsample=1.0, subsample_for_bin=200000, subsample_freq=1,\n",
       "       tree_learner='voting')"
      ]
     },
     "execution_count": 109,
     "metadata": {},
     "output_type": "execute_result"
    }
   ],
   "source": [
    "gbm.fit(X_train, y_train,\n",
    "        eval_set=[(X_valid, y_valid)],\n",
    "        eval_metric='l2',\n",
    "        early_stopping_rounds=200)"
   ]
  },
  {
   "cell_type": "code",
   "execution_count": 111,
   "metadata": {},
   "outputs": [],
   "source": [
    "y_pred = gbm.predict(X_valid)"
   ]
  },
  {
   "cell_type": "code",
   "execution_count": 673,
   "metadata": {},
   "outputs": [
    {
     "data": {
      "text/plain": [
       "0.031245788079970235"
      ]
     },
     "execution_count": 673,
     "metadata": {},
     "output_type": "execute_result"
    }
   ],
   "source": [
    "mean_squared_error(y_pred, y_valid)"
   ]
  },
  {
   "cell_type": "code",
   "execution_count": 674,
   "metadata": {},
   "outputs": [
    {
     "data": {
      "text/plain": [
       "0.14032454700971836"
      ]
     },
     "execution_count": 674,
     "metadata": {},
     "output_type": "execute_result"
    }
   ],
   "source": [
    "mean_absolute_error(y_pred, y_valid)"
   ]
  },
  {
   "cell_type": "code",
   "execution_count": 675,
   "metadata": {},
   "outputs": [
    {
     "name": "stderr",
     "output_type": "stream",
     "text": [
      "/usr/local/lib/python3.5/dist-packages/lightgbm/engine.py:99: UserWarning: Found `num_trees` in params. Will use it instead of argument\n",
      "  warnings.warn(\"Found `{}` in params. Will use it instead of argument\".format(alias))\n",
      "/usr/local/lib/python3.5/dist-packages/lightgbm/basic.py:642: UserWarning: max_bin keyword has been found in `params` and will be ignored. Please use max_bin argument of the Dataset constructor to pass this parameter.\n",
      "  'Please use {0} argument of the Dataset constructor to pass this parameter.'.format(key))\n",
      "/usr/local/lib/python3.5/dist-packages/lightgbm/basic.py:648: LGBMDeprecationWarning: The `max_bin` parameter is deprecated and will be removed in 2.0.12 version. Please use `params` to pass this parameter.\n",
      "  'Please use `params` to pass this parameter.', LGBMDeprecationWarning)\n",
      "/usr/local/lib/python3.5/dist-packages/lightgbm/engine.py:99: UserWarning: Found `num_trees` in params. Will use it instead of argument\n",
      "  warnings.warn(\"Found `{}` in params. Will use it instead of argument\".format(alias))\n",
      "/usr/local/lib/python3.5/dist-packages/lightgbm/basic.py:642: UserWarning: max_bin keyword has been found in `params` and will be ignored. Please use max_bin argument of the Dataset constructor to pass this parameter.\n",
      "  'Please use {0} argument of the Dataset constructor to pass this parameter.'.format(key))\n",
      "/usr/local/lib/python3.5/dist-packages/lightgbm/basic.py:648: LGBMDeprecationWarning: The `max_bin` parameter is deprecated and will be removed in 2.0.12 version. Please use `params` to pass this parameter.\n",
      "  'Please use `params` to pass this parameter.', LGBMDeprecationWarning)\n",
      "/usr/local/lib/python3.5/dist-packages/lightgbm/engine.py:99: UserWarning: Found `num_trees` in params. Will use it instead of argument\n",
      "  warnings.warn(\"Found `{}` in params. Will use it instead of argument\".format(alias))\n",
      "/usr/local/lib/python3.5/dist-packages/lightgbm/basic.py:642: UserWarning: max_bin keyword has been found in `params` and will be ignored. Please use max_bin argument of the Dataset constructor to pass this parameter.\n",
      "  'Please use {0} argument of the Dataset constructor to pass this parameter.'.format(key))\n",
      "/usr/local/lib/python3.5/dist-packages/lightgbm/basic.py:648: LGBMDeprecationWarning: The `max_bin` parameter is deprecated and will be removed in 2.0.12 version. Please use `params` to pass this parameter.\n",
      "  'Please use `params` to pass this parameter.', LGBMDeprecationWarning)\n",
      "/usr/local/lib/python3.5/dist-packages/lightgbm/engine.py:99: UserWarning: Found `num_trees` in params. Will use it instead of argument\n",
      "  warnings.warn(\"Found `{}` in params. Will use it instead of argument\".format(alias))\n",
      "/usr/local/lib/python3.5/dist-packages/lightgbm/basic.py:642: UserWarning: max_bin keyword has been found in `params` and will be ignored. Please use max_bin argument of the Dataset constructor to pass this parameter.\n",
      "  'Please use {0} argument of the Dataset constructor to pass this parameter.'.format(key))\n",
      "/usr/local/lib/python3.5/dist-packages/lightgbm/basic.py:648: LGBMDeprecationWarning: The `max_bin` parameter is deprecated and will be removed in 2.0.12 version. Please use `params` to pass this parameter.\n",
      "  'Please use `params` to pass this parameter.', LGBMDeprecationWarning)\n",
      "/usr/local/lib/python3.5/dist-packages/lightgbm/engine.py:99: UserWarning: Found `num_trees` in params. Will use it instead of argument\n",
      "  warnings.warn(\"Found `{}` in params. Will use it instead of argument\".format(alias))\n",
      "/usr/local/lib/python3.5/dist-packages/lightgbm/basic.py:642: UserWarning: max_bin keyword has been found in `params` and will be ignored. Please use max_bin argument of the Dataset constructor to pass this parameter.\n",
      "  'Please use {0} argument of the Dataset constructor to pass this parameter.'.format(key))\n",
      "/usr/local/lib/python3.5/dist-packages/lightgbm/basic.py:648: LGBMDeprecationWarning: The `max_bin` parameter is deprecated and will be removed in 2.0.12 version. Please use `params` to pass this parameter.\n",
      "  'Please use `params` to pass this parameter.', LGBMDeprecationWarning)\n"
     ]
    }
   ],
   "source": [
    "gbm_cv_score = cross_val_score(gbm, train_X_num_str_Y.drop(['Y'],axis=1).values, train_X_num_str_Y.Y.values, cv=5)"
   ]
  },
  {
   "cell_type": "code",
   "execution_count": 676,
   "metadata": {},
   "outputs": [
    {
     "data": {
      "text/plain": [
       "-0.10932193173309646"
      ]
     },
     "execution_count": 676,
     "metadata": {},
     "output_type": "execute_result"
    }
   ],
   "source": [
    "gbm_cv_score.mean()"
   ]
  },
  {
   "cell_type": "code",
   "execution_count": null,
   "metadata": {},
   "outputs": [],
   "source": []
  },
  {
   "cell_type": "code",
   "execution_count": 680,
   "metadata": {},
   "outputs": [
    {
     "data": {
      "image/png": "[encoded data removed]",
      "text/plain": [
       "<matplotlib.figure.Figure at 0x7fccd0ac9400>"
      ]
     },
     "metadata": {},
     "output_type": "display_data"
    }
   ],
   "source": [
    "x = range(len(y_pred))\n",
    "plt.plot(x, y_pred, 'r-*', label='y_pred')\n",
    "plt.plot(x, y_valid, 'b-o', label='y_valid')\n",
    "plt.show()"
   ]
  },
  {
   "cell_type": "code",
   "execution_count": 662,
   "metadata": {},
   "outputs": [],
   "source": [
    "s_pre = pd.Series(y_pred)"
   ]
  },
  {
   "cell_type": "code",
   "execution_count": 663,
   "metadata": {},
   "outputs": [],
   "source": [
    "s_val = pd.Series(y_valid)"
   ]
  },
  {
   "cell_type": "code",
   "execution_count": 664,
   "metadata": {},
   "outputs": [
    {
     "data": {
      "image/png": "[encoded data removed]",
      "text/plain": [
       "<matplotlib.figure.Figure at 0x7fccd59c8ac8>"
      ]
     },
     "metadata": {},
     "output_type": "display_data"
    }
   ],
   "source": [
    "x = range(len(s_pre))\n",
    "plt.plot(x, s_pre.sort_values().values, 'r-*', label='lr_y_pred')\n",
    "plt.plot(x, s_val.sort_values().values, 'b-o', label='y_valid')\n",
    "plt.legend()\n",
    "plt.show()"
   ]
  },
  {
   "cell_type": "code",
   "execution_count": 126,
   "metadata": {},
   "outputs": [],
   "source": [
    "s_all = pd.Series(y_train)"
   ]
  },
  {
   "cell_type": "code",
   "execution_count": 127,
   "metadata": {},
   "outputs": [
    {
     "data": {
      "image/png": "[encoded data removed]",
      "text/plain": [
       "<matplotlib.figure.Figure at 0x7fcce7f2bb70>"
      ]
     },
     "metadata": {},
     "output_type": "display_data"
    }
   ],
   "source": [
    "x = range(len(s_all))\n",
    "plt.plot(x, s_all.sort_values().values, 'b-o', label='y_valid')\n",
    "plt.legend()\n",
    "plt.show()"
   ]
  },
  {
   "cell_type": "code",
   "execution_count": 128,
   "metadata": {},
   "outputs": [
    {
     "data": {
      "text/plain": [
       "0.031149890533848666"
      ]
     },
     "execution_count": 128,
     "metadata": {},
     "output_type": "execute_result"
    }
   ],
   "source": [
    "mean_squared_error(y_valid, y_pred)"
   ]
  },
  {
   "cell_type": "code",
   "execution_count": null,
   "metadata": {},
   "outputs": [],
   "source": []
  },
  {
   "cell_type": "code",
   "execution_count": 530,
   "metadata": {},
   "outputs": [
    {
     "data": {
      "text/plain": [
       "150"
      ]
     },
     "execution_count": 530,
     "metadata": {},
     "output_type": "execute_result"
    }
   ],
   "source": [
    "len(gbm.feature_importances_)"
   ]
  },
  {
   "cell_type": "code",
   "execution_count": 130,
   "metadata": {},
   "outputs": [],
   "source": [
    "importance = pd.Series(gbm.feature_importances_, index=train_X_num_str_Y.drop(['Y'],axis=1).columns)"
   ]
  },
  {
   "cell_type": "code",
   "execution_count": 131,
   "metadata": {},
   "outputs": [],
   "source": [
    "importanct_feature = []\n",
    "for index in range(len(importance)):\n",
    "    if importance[index] > 0:\n",
    "        importanct_feature.append(importance.index[index])"
   ]
  },
  {
   "cell_type": "code",
   "execution_count": 132,
   "metadata": {},
   "outputs": [
    {
     "data": {
      "text/plain": [
       "131"
      ]
     },
     "execution_count": 132,
     "metadata": {},
     "output_type": "execute_result"
    }
   ],
   "source": [
    "len(importanct_feature)"
   ]
  },
  {
   "cell_type": "code",
   "execution_count": 133,
   "metadata": {},
   "outputs": [
    {
     "data": {
      "text/plain": [
       "['210X6',\n",
       " '210X12',\n",
       " '210X36',\n",
       " '210X43',\n",
       " '210X89',\n",
       " '210X112',\n",
       " '210X125',\n",
       " '210X154',\n",
       " '210X164',\n",
       " '210X176',\n",
       " '210X187',\n",
       " '210X207',\n",
       " '210X219',\n",
       " '210X229',\n",
       " '220X3',\n",
       " '220X6',\n",
       " '220X191',\n",
       " '310X2',\n",
       " '310X9',\n",
       " '310X13',\n",
       " '310X28',\n",
       " '310X33',\n",
       " '310X43',\n",
       " '310X148',\n",
       " '310X153',\n",
       " '311X11',\n",
       " '311X19',\n",
       " '311X58',\n",
       " '311X73',\n",
       " '311X76',\n",
       " '311X146',\n",
       " '311X161',\n",
       " '261X387',\n",
       " '261X473',\n",
       " '261X474',\n",
       " '261X554',\n",
       " '261X568',\n",
       " '261X601',\n",
       " '261X623',\n",
       " '261X751',\n",
       " '312X57',\n",
       " '312X58',\n",
       " '312X70',\n",
       " '312X113',\n",
       " '312X118',\n",
       " '312X239',\n",
       " '312X261',\n",
       " '312X441',\n",
       " '312X691',\n",
       " '312X765',\n",
       " '312X767',\n",
       " '312X776',\n",
       " '312X779',\n",
       " '312X782',\n",
       " '312X783',\n",
       " '312X788',\n",
       " '312X791',\n",
       " '330X29',\n",
       " '330X128',\n",
       " '330X138',\n",
       " '330X139',\n",
       " '330X198',\n",
       " '330X267',\n",
       " '330X334',\n",
       " '330X345',\n",
       " '330X458',\n",
       " '330X462',\n",
       " '330X468',\n",
       " '330X469',\n",
       " '330X472',\n",
       " '330X491',\n",
       " '330X516',\n",
       " '330X555',\n",
       " '330X559',\n",
       " '330X670',\n",
       " '330X829',\n",
       " '330X935',\n",
       " '330X1129',\n",
       " '340X17',\n",
       " '340X83',\n",
       " '340X105',\n",
       " '340X123',\n",
       " '340X138',\n",
       " '340X139',\n",
       " '340X163',\n",
       " '344X27',\n",
       " '344X31',\n",
       " '344X58',\n",
       " '344X118',\n",
       " '344X153',\n",
       " '344X222',\n",
       " '344X231',\n",
       " '344X267',\n",
       " '344X290',\n",
       " '344X291',\n",
       " '344X350',\n",
       " '344X380',\n",
       " '360X434',\n",
       " '360X508',\n",
       " '360X582',\n",
       " '360X604',\n",
       " '360X745',\n",
       " '360X763',\n",
       " '360X1139',\n",
       " '360X1192',\n",
       " '420X28',\n",
       " '440AX14',\n",
       " '440AX29',\n",
       " '440AX35',\n",
       " '440AX39',\n",
       " '440AX40',\n",
       " '440AX44',\n",
       " '440AX45',\n",
       " '440AX63',\n",
       " '440AX69',\n",
       " '440AX72',\n",
       " '440AX74',\n",
       " '440AX76',\n",
       " '440AX84',\n",
       " '440AX85',\n",
       " '440AX115',\n",
       " '440AX127',\n",
       " '440AX128',\n",
       " '440AX143',\n",
       " '440AX171',\n",
       " '440AX187',\n",
       " '440AX191',\n",
       " '520X144',\n",
       " 'n3',\n",
       " 'n7',\n",
       " 'nan_count']"
      ]
     },
     "execution_count": 133,
     "metadata": {},
     "output_type": "execute_result"
    }
   ],
   "source": [
    "importanct_feature"
   ]
  },
  {
   "cell_type": "code",
   "execution_count": 82,
   "metadata": {},
   "outputs": [],
   "source": []
  },
  {
   "cell_type": "code",
   "execution_count": null,
   "metadata": {},
   "outputs": [],
   "source": []
  },
  {
   "cell_type": "markdown",
   "metadata": {},
   "source": [
    "#### 使用GradientBoostingRegressor 回归"
   ]
  },
  {
   "cell_type": "code",
   "execution_count": 576,
   "metadata": {},
   "outputs": [],
   "source": [
    "from sklearn.ensemble import GradientBoostingRegressor"
   ]
  },
  {
   "cell_type": "code",
   "execution_count": 577,
   "metadata": {},
   "outputs": [],
   "source": [
    "gbr = GradientBoostingRegressor()"
   ]
  },
  {
   "cell_type": "code",
   "execution_count": 578,
   "metadata": {},
   "outputs": [
    {
     "data": {
      "text/plain": [
       "GradientBoostingRegressor(alpha=0.9, criterion='friedman_mse', init=None,\n",
       "             learning_rate=0.1, loss='ls', max_depth=3, max_features=None,\n",
       "             max_leaf_nodes=None, min_impurity_decrease=0.0,\n",
       "             min_impurity_split=None, min_samples_leaf=1,\n",
       "             min_samples_split=2, min_weight_fraction_leaf=0.0,\n",
       "             n_estimators=100, presort='auto', random_state=None,\n",
       "             subsample=1.0, verbose=0, warm_start=False)"
      ]
     },
     "execution_count": 578,
     "metadata": {},
     "output_type": "execute_result"
    }
   ],
   "source": [
    "gbr.fit(pca_X_train, y_train)"
   ]
  },
  {
   "cell_type": "code",
   "execution_count": 579,
   "metadata": {},
   "outputs": [],
   "source": [
    "gbr_y_pred = gbr.predict(pca_X_valid)"
   ]
  },
  {
   "cell_type": "code",
   "execution_count": 580,
   "metadata": {},
   "outputs": [
    {
     "data": {
      "text/plain": [
       "0.03060467041467068"
      ]
     },
     "execution_count": 580,
     "metadata": {},
     "output_type": "execute_result"
    }
   ],
   "source": [
    "mean_squared_error(y_valid, gbr_y_pred)"
   ]
  },
  {
   "cell_type": "code",
   "execution_count": 581,
   "metadata": {},
   "outputs": [],
   "source": [
    "gbr_cv_score = cross_val_score(gbr, train_X_num_str_Y.drop(['Y'],axis=1).values, train_X_num_str_Y.Y.values, cv=5)"
   ]
  },
  {
   "cell_type": "code",
   "execution_count": 450,
   "metadata": {},
   "outputs": [
    {
     "data": {
      "text/plain": [
       "0.021333220262479878"
      ]
     },
     "execution_count": 450,
     "metadata": {},
     "output_type": "execute_result"
    }
   ],
   "source": [
    "gbr_cv_score.mean()"
   ]
  },
  {
   "cell_type": "code",
   "execution_count": 582,
   "metadata": {},
   "outputs": [],
   "source": [
    "gbr_s_pre = pd.Series(gbr_y_pred)"
   ]
  },
  {
   "cell_type": "code",
   "execution_count": 583,
   "metadata": {},
   "outputs": [
    {
     "data": {
      "image/png": "[encoded data removed]",
      "text/plain": [
       "<matplotlib.figure.Figure at 0x7fccd487add8>"
      ]
     },
     "metadata": {},
     "output_type": "display_data"
    }
   ],
   "source": [
    "x = range(len(gbr_y_pred))\n",
    "plt.plot(x, gbr_y_pred, 'r-*', label='gbr_y_pred')\n",
    "plt.plot(x, y_valid, 'b-o', label='y_valid')\n",
    "plt.legend()\n",
    "plt.show()"
   ]
  },
  {
   "cell_type": "code",
   "execution_count": 584,
   "metadata": {},
   "outputs": [
    {
     "data": {
      "image/png": "[encoded data removed]",
      "text/plain": [
       "<matplotlib.figure.Figure at 0x7fccd4864438>"
      ]
     },
     "metadata": {},
     "output_type": "display_data"
    }
   ],
   "source": [
    "x = range(len(gbr_s_pre))\n",
    "plt.plot(x, gbr_s_pre.sort_values().values, 'r-*', label='gbr_y_pred')\n",
    "plt.plot(x, s_val.sort_values().values, 'b-o', label='y_valid')\n",
    "plt.legend()\n",
    "plt.show()"
   ]
  },
  {
   "cell_type": "code",
   "execution_count": null,
   "metadata": {},
   "outputs": [],
   "source": []
  },
  {
   "cell_type": "code",
   "execution_count": null,
   "metadata": {},
   "outputs": [],
   "source": []
  },
  {
   "cell_type": "markdown",
   "metadata": {},
   "source": [
    "#### 使用 KNN 回归"
   ]
  },
  {
   "cell_type": "code",
   "execution_count": 1,
   "metadata": {},
   "outputs": [],
   "source": [
    "from sklearn.neighbors import KNeighborsRegressor"
   ]
  },
  {
   "cell_type": "code",
   "execution_count": 586,
   "metadata": {},
   "outputs": [],
   "source": [
    "knr = KNeighborsRegressor(weights='distance')"
   ]
  },
  {
   "cell_type": "code",
   "execution_count": 377,
   "metadata": {},
   "outputs": [],
   "source": [
    "knr_cv_score = cross_val_score(knr, train_X_num_str_Y.drop(['Y'],axis=1).values, train_X_num_str_Y.Y.values, cv =5)"
   ]
  },
  {
   "cell_type": "code",
   "execution_count": 378,
   "metadata": {},
   "outputs": [
    {
     "data": {
      "text/plain": [
       "array([-0.00855057, -0.04854378, -0.10532175, -0.07871207, -0.05232913])"
      ]
     },
     "execution_count": 378,
     "metadata": {},
     "output_type": "execute_result"
    }
   ],
   "source": [
    "knr_cv_score"
   ]
  },
  {
   "cell_type": "code",
   "execution_count": 587,
   "metadata": {},
   "outputs": [
    {
     "data": {
      "text/plain": [
       "KNeighborsRegressor(algorithm='auto', leaf_size=30, metric='minkowski',\n",
       "          metric_params=None, n_jobs=1, n_neighbors=5, p=2,\n",
       "          weights='distance')"
      ]
     },
     "execution_count": 587,
     "metadata": {},
     "output_type": "execute_result"
    }
   ],
   "source": [
    "knr.fit(pca_X_train, y_train)"
   ]
  },
  {
   "cell_type": "code",
   "execution_count": 588,
   "metadata": {},
   "outputs": [],
   "source": [
    "knr_y_valid = knr.predict(pca_X_valid)\n",
    "knr_y_cv_pred = cross_val_predict(knr, X_valid, y_valid, cv=5)"
   ]
  },
  {
   "cell_type": "code",
   "execution_count": 589,
   "metadata": {},
   "outputs": [
    {
     "data": {
      "text/plain": [
       "0.058789395853806992"
      ]
     },
     "execution_count": 589,
     "metadata": {},
     "output_type": "execute_result"
    }
   ],
   "source": [
    "mean_squared_error(knr_y_cv_pred, y_valid)"
   ]
  },
  {
   "cell_type": "code",
   "execution_count": 590,
   "metadata": {},
   "outputs": [
    {
     "data": {
      "text/plain": [
       "0.031980250926942851"
      ]
     },
     "execution_count": 590,
     "metadata": {},
     "output_type": "execute_result"
    }
   ],
   "source": [
    "mean_squared_error(knr_y_valid, y_valid)"
   ]
  },
  {
   "cell_type": "code",
   "execution_count": null,
   "metadata": {},
   "outputs": [],
   "source": []
  },
  {
   "cell_type": "code",
   "execution_count": null,
   "metadata": {},
   "outputs": [],
   "source": []
  },
  {
   "cell_type": "code",
   "execution_count": null,
   "metadata": {},
   "outputs": [],
   "source": []
  },
  {
   "cell_type": "code",
   "execution_count": 591,
   "metadata": {},
   "outputs": [
    {
     "data": {
      "image/png": "[encoded data removed]",
      "text/plain": [
       "<matplotlib.figure.Figure at 0x7fccdbb8fcc0>"
      ]
     },
     "metadata": {},
     "output_type": "display_data"
    }
   ],
   "source": [
    "x = range(len(y_pred))\n",
    "plt.plot(x, knr_y_valid, 'r-*', label='y_pred')\n",
    "plt.plot(x, y_valid, 'b-o', label='y_valid')\n",
    "plt.legend()\n",
    "plt.show()"
   ]
  },
  {
   "cell_type": "code",
   "execution_count": 592,
   "metadata": {},
   "outputs": [],
   "source": [
    "knr_s_pred = pd.Series(knr_y_valid)\n",
    "knr_s_valid = pd.Series(y_valid)\n",
    "knr_s_cv_pred = pd.Series(knr_y_cv_pred)"
   ]
  },
  {
   "cell_type": "code",
   "execution_count": 593,
   "metadata": {},
   "outputs": [
    {
     "data": {
      "image/png": "[encoded data removed]",
      "text/plain": [
       "<matplotlib.figure.Figure at 0x7fcce64a5198>"
      ]
     },
     "metadata": {},
     "output_type": "display_data"
    }
   ],
   "source": [
    "x = range(len(knr_s_pred))\n",
    "plt.plot(x, knr_s_pred.sort_values().values, 'r-*', label='knr_y_pred')\n",
    "plt.plot(x, knr_s_valid.sort_values().values, 'b-o', label='y_valid')\n",
    "#plt.plot(x, knr_s_cv_pred.sort_values().values, 'g-o', label='knr_cv_valid')\n",
    "plt.legend()\n",
    "plt.show()"
   ]
  },
  {
   "cell_type": "code",
   "execution_count": null,
   "metadata": {},
   "outputs": [],
   "source": []
  },
  {
   "cell_type": "markdown",
   "metadata": {},
   "source": [
    "#### 使用线性回归"
   ]
  },
  {
   "cell_type": "code",
   "execution_count": 594,
   "metadata": {},
   "outputs": [],
   "source": [
    "from sklearn.linear_model import LinearRegression"
   ]
  },
  {
   "cell_type": "code",
   "execution_count": null,
   "metadata": {},
   "outputs": [],
   "source": []
  },
  {
   "cell_type": "code",
   "execution_count": 595,
   "metadata": {},
   "outputs": [
    {
     "data": {
      "text/plain": [
       "LinearRegression(copy_X=True, fit_intercept=True, n_jobs=1, normalize=False)"
      ]
     },
     "execution_count": 595,
     "metadata": {},
     "output_type": "execute_result"
    }
   ],
   "source": [
    "lr = LinearRegression()\n",
    "lr.fit(pca_X_train, y_train)"
   ]
  },
  {
   "cell_type": "code",
   "execution_count": null,
   "metadata": {},
   "outputs": [],
   "source": []
  },
  {
   "cell_type": "code",
   "execution_count": 596,
   "metadata": {},
   "outputs": [],
   "source": [
    "lr_y_pred = lr.predict(pca_X_valid)"
   ]
  },
  {
   "cell_type": "code",
   "execution_count": 597,
   "metadata": {},
   "outputs": [
    {
     "data": {
      "text/plain": [
       "0.035413682290882625"
      ]
     },
     "execution_count": 597,
     "metadata": {},
     "output_type": "execute_result"
    }
   ],
   "source": [
    "mean_squared_error(lr_y_pred, y_valid)"
   ]
  },
  {
   "cell_type": "code",
   "execution_count": 598,
   "metadata": {},
   "outputs": [],
   "source": [
    "lr_y_pr = []\n",
    "for index in range(len(lr_y_pred)):\n",
    "    if  lr_y_pred[index] > 3.4 or lr_y_pred[index] <2.0:\n",
    "        lr_y_pr.append(y_valid[index])\n",
    "    else:\n",
    "        lr_y_pr.append(lr_y_pred[index])"
   ]
  },
  {
   "cell_type": "code",
   "execution_count": 599,
   "metadata": {},
   "outputs": [],
   "source": [
    "lr_s_pre = pd.Series(lr_y_pr)\n",
    "lr_s_val = pd.Series(y_valid)"
   ]
  },
  {
   "cell_type": "code",
   "execution_count": 600,
   "metadata": {},
   "outputs": [
    {
     "data": {
      "text/plain": [
       "234"
      ]
     },
     "execution_count": 600,
     "metadata": {},
     "output_type": "execute_result"
    }
   ],
   "source": [
    "len(lr_s_pre)"
   ]
  },
  {
   "cell_type": "code",
   "execution_count": 601,
   "metadata": {},
   "outputs": [
    {
     "data": {
      "text/plain": [
       "234"
      ]
     },
     "execution_count": 601,
     "metadata": {},
     "output_type": "execute_result"
    }
   ],
   "source": [
    "len(lr_s_val)"
   ]
  },
  {
   "cell_type": "code",
   "execution_count": 602,
   "metadata": {},
   "outputs": [
    {
     "data": {
      "image/png": "[encoded data removed]",
      "text/plain": [
       "<matplotlib.figure.Figure at 0x7fccd5a78cc0>"
      ]
     },
     "metadata": {},
     "output_type": "display_data"
    }
   ],
   "source": [
    "x = range(len(lr_y_pr))\n",
    "plt.plot(x, lr_y_pr, 'r-*', label='lr_y_pred')\n",
    "plt.plot(x, y_valid, 'b-o', label='y_valid')\n",
    "plt.legend()\n",
    "plt.show()"
   ]
  },
  {
   "cell_type": "code",
   "execution_count": 603,
   "metadata": {},
   "outputs": [
    {
     "data": {
      "image/png": "[encoded data removed]",
      "text/plain": [
       "<matplotlib.figure.Figure at 0x7fccd0f9ff28>"
      ]
     },
     "metadata": {},
     "output_type": "display_data"
    }
   ],
   "source": [
    "x = range(len(lr_s_val))\n",
    "plt.plot(x, lr_s_pre.sort_values().values, 'r-*', label='lr_y_pred')\n",
    "plt.plot(x, lr_s_val.sort_values().values, 'b-o', label='y_valid')\n",
    "plt.legend()\n",
    "plt.show()"
   ]
  },
  {
   "cell_type": "code",
   "execution_count": 604,
   "metadata": {},
   "outputs": [
    {
     "data": {
      "text/plain": [
       "0.035413682290882625"
      ]
     },
     "execution_count": 604,
     "metadata": {},
     "output_type": "execute_result"
    }
   ],
   "source": [
    "mean_squared_error(lr_y_pr, y_valid)"
   ]
  },
  {
   "cell_type": "code",
   "execution_count": null,
   "metadata": {},
   "outputs": [],
   "source": []
  },
  {
   "cell_type": "code",
   "execution_count": null,
   "metadata": {},
   "outputs": [],
   "source": []
  },
  {
   "cell_type": "code",
   "execution_count": null,
   "metadata": {},
   "outputs": [],
   "source": []
  },
  {
   "cell_type": "markdown",
   "metadata": {},
   "source": [
    "#### 使用 交叉验证"
   ]
  },
  {
   "cell_type": "code",
   "execution_count": 1127,
   "metadata": {},
   "outputs": [],
   "source": [
    "from sklearn.cross_validation import cross_val_score\n",
    "from sklearn.cross_validation import cross_val_predict"
   ]
  },
  {
   "cell_type": "code",
   "execution_count": 1119,
   "metadata": {},
   "outputs": [
    {
     "name": "stderr",
     "output_type": "stream",
     "text": [
      "/usr/local/lib/python3.5/dist-packages/lightgbm/engine.py:99: UserWarning: Found `num_trees` in params. Will use it instead of argument\n",
      "  warnings.warn(\"Found `{}` in params. Will use it instead of argument\".format(alias))\n",
      "/usr/local/lib/python3.5/dist-packages/lightgbm/basic.py:642: UserWarning: max_bin keyword has been found in `params` and will be ignored. Please use max_bin argument of the Dataset constructor to pass this parameter.\n",
      "  'Please use {0} argument of the Dataset constructor to pass this parameter.'.format(key))\n",
      "/usr/local/lib/python3.5/dist-packages/lightgbm/basic.py:648: LGBMDeprecationWarning: The `max_bin` parameter is deprecated and will be removed in 2.0.12 version. Please use `params` to pass this parameter.\n",
      "  'Please use `params` to pass this parameter.', LGBMDeprecationWarning)\n",
      "/usr/local/lib/python3.5/dist-packages/lightgbm/engine.py:99: UserWarning: Found `num_trees` in params. Will use it instead of argument\n",
      "  warnings.warn(\"Found `{}` in params. Will use it instead of argument\".format(alias))\n",
      "/usr/local/lib/python3.5/dist-packages/lightgbm/basic.py:642: UserWarning: max_bin keyword has been found in `params` and will be ignored. Please use max_bin argument of the Dataset constructor to pass this parameter.\n",
      "  'Please use {0} argument of the Dataset constructor to pass this parameter.'.format(key))\n",
      "/usr/local/lib/python3.5/dist-packages/lightgbm/basic.py:648: LGBMDeprecationWarning: The `max_bin` parameter is deprecated and will be removed in 2.0.12 version. Please use `params` to pass this parameter.\n",
      "  'Please use `params` to pass this parameter.', LGBMDeprecationWarning)\n",
      "/usr/local/lib/python3.5/dist-packages/lightgbm/engine.py:99: UserWarning: Found `num_trees` in params. Will use it instead of argument\n",
      "  warnings.warn(\"Found `{}` in params. Will use it instead of argument\".format(alias))\n",
      "/usr/local/lib/python3.5/dist-packages/lightgbm/basic.py:642: UserWarning: max_bin keyword has been found in `params` and will be ignored. Please use max_bin argument of the Dataset constructor to pass this parameter.\n",
      "  'Please use {0} argument of the Dataset constructor to pass this parameter.'.format(key))\n",
      "/usr/local/lib/python3.5/dist-packages/lightgbm/basic.py:648: LGBMDeprecationWarning: The `max_bin` parameter is deprecated and will be removed in 2.0.12 version. Please use `params` to pass this parameter.\n",
      "  'Please use `params` to pass this parameter.', LGBMDeprecationWarning)\n",
      "/usr/local/lib/python3.5/dist-packages/lightgbm/engine.py:99: UserWarning: Found `num_trees` in params. Will use it instead of argument\n",
      "  warnings.warn(\"Found `{}` in params. Will use it instead of argument\".format(alias))\n",
      "/usr/local/lib/python3.5/dist-packages/lightgbm/basic.py:642: UserWarning: max_bin keyword has been found in `params` and will be ignored. Please use max_bin argument of the Dataset constructor to pass this parameter.\n",
      "  'Please use {0} argument of the Dataset constructor to pass this parameter.'.format(key))\n",
      "/usr/local/lib/python3.5/dist-packages/lightgbm/basic.py:648: LGBMDeprecationWarning: The `max_bin` parameter is deprecated and will be removed in 2.0.12 version. Please use `params` to pass this parameter.\n",
      "  'Please use `params` to pass this parameter.', LGBMDeprecationWarning)\n",
      "/usr/local/lib/python3.5/dist-packages/lightgbm/engine.py:99: UserWarning: Found `num_trees` in params. Will use it instead of argument\n",
      "  warnings.warn(\"Found `{}` in params. Will use it instead of argument\".format(alias))\n",
      "/usr/local/lib/python3.5/dist-packages/lightgbm/basic.py:642: UserWarning: max_bin keyword has been found in `params` and will be ignored. Please use max_bin argument of the Dataset constructor to pass this parameter.\n",
      "  'Please use {0} argument of the Dataset constructor to pass this parameter.'.format(key))\n",
      "/usr/local/lib/python3.5/dist-packages/lightgbm/basic.py:648: LGBMDeprecationWarning: The `max_bin` parameter is deprecated and will be removed in 2.0.12 version. Please use `params` to pass this parameter.\n",
      "  'Please use `params` to pass this parameter.', LGBMDeprecationWarning)\n"
     ]
    },
    {
     "data": {
      "text/plain": [
       "0.22364481337792128"
      ]
     },
     "execution_count": 1119,
     "metadata": {},
     "output_type": "execute_result"
    }
   ],
   "source": [
    "cross_val_score(gbm, X_train_all, y_train_all, cv=5).mean()"
   ]
  },
  {
   "cell_type": "code",
   "execution_count": 175,
   "metadata": {},
   "outputs": [
    {
     "data": {
      "text/plain": [
       "-0.054251566828609508"
      ]
     },
     "execution_count": 175,
     "metadata": {},
     "output_type": "execute_result"
    }
   ],
   "source": [
    "cross_val_score(knr, X_train_all, y_train_all, cv=3).mean()"
   ]
  },
  {
   "cell_type": "code",
   "execution_count": 1144,
   "metadata": {},
   "outputs": [],
   "source": [
    "y_cv_pred = cross_val_predict(knr, X_train, y_train, cv=5)"
   ]
  },
  {
   "cell_type": "code",
   "execution_count": 1130,
   "metadata": {},
   "outputs": [
    {
     "data": {
      "text/plain": [
       "308"
      ]
     },
     "execution_count": 1130,
     "metadata": {},
     "output_type": "execute_result"
    }
   ],
   "source": [
    "len(y_cv_pred)"
   ]
  },
  {
   "cell_type": "code",
   "execution_count": 1146,
   "metadata": {},
   "outputs": [],
   "source": [
    "y_cv_pred = cross_val_predict(knr, X_valid, y_valid)"
   ]
  },
  {
   "cell_type": "code",
   "execution_count": 1148,
   "metadata": {},
   "outputs": [
    {
     "data": {
      "text/plain": [
       "0.041138530207114193"
      ]
     },
     "execution_count": 1148,
     "metadata": {},
     "output_type": "execute_result"
    }
   ],
   "source": [
    "mean_squared_error(y_cv_pred, y_valid)"
   ]
  },
  {
   "cell_type": "code",
   "execution_count": null,
   "metadata": {},
   "outputs": [],
   "source": []
  },
  {
   "cell_type": "code",
   "execution_count": null,
   "metadata": {},
   "outputs": [],
   "source": []
  },
  {
   "cell_type": "code",
   "execution_count": 1122,
   "metadata": {},
   "outputs": [
    {
     "data": {
      "text/plain": [
       "0.21293989785418771"
      ]
     },
     "execution_count": 1122,
     "metadata": {},
     "output_type": "execute_result"
    }
   ],
   "source": [
    "cross_val_score(gbr, X_train_all, y_train_all, cv=5).mean()"
   ]
  },
  {
   "cell_type": "code",
   "execution_count": null,
   "metadata": {},
   "outputs": [],
   "source": []
  },
  {
   "cell_type": "code",
   "execution_count": null,
   "metadata": {},
   "outputs": [],
   "source": []
  },
  {
   "cell_type": "code",
   "execution_count": null,
   "metadata": {},
   "outputs": [],
   "source": []
  },
  {
   "cell_type": "markdown",
   "metadata": {},
   "source": [
    "#### 使用二次多项式回归"
   ]
  },
  {
   "cell_type": "code",
   "execution_count": 559,
   "metadata": {},
   "outputs": [],
   "source": [
    "from sklearn.preprocessing import PolynomialFeatures"
   ]
  },
  {
   "cell_type": "code",
   "execution_count": 560,
   "metadata": {},
   "outputs": [],
   "source": [
    "poly2 = PolynomialFeatures(degree=2)"
   ]
  },
  {
   "cell_type": "code",
   "execution_count": 561,
   "metadata": {},
   "outputs": [
    {
     "ename": "MemoryError",
     "evalue": "",
     "output_type": "error",
     "traceback": [
      "\u001b[0;31m---------------------------------------------------------------------------\u001b[0m",
      "\u001b[0;31mMemoryError\u001b[0m                               Traceback (most recent call last)",
      "\u001b[0;32m<ipython-input-561-0997b6537915>\u001b[0m in \u001b[0;36m<module>\u001b[0;34m()\u001b[0m\n\u001b[0;32m----> 1\u001b[0;31m \u001b[0mX_train_poly2\u001b[0m \u001b[0;34m=\u001b[0m \u001b[0mpoly2\u001b[0m\u001b[0;34m.\u001b[0m\u001b[0mfit_transform\u001b[0m\u001b[0;34m(\u001b[0m\u001b[0mX_train\u001b[0m\u001b[0;34m)\u001b[0m\u001b[0;34m\u001b[0m\u001b[0m\n\u001b[0m",
      "\u001b[0;32m/usr/local/lib/python3.5/dist-packages/sklearn/base.py\u001b[0m in \u001b[0;36mfit_transform\u001b[0;34m(self, X, y, **fit_params)\u001b[0m\n\u001b[1;32m    515\u001b[0m         \u001b[0;32mif\u001b[0m \u001b[0my\u001b[0m \u001b[0;32mis\u001b[0m \u001b[0;32mNone\u001b[0m\u001b[0;34m:\u001b[0m\u001b[0;34m\u001b[0m\u001b[0m\n\u001b[1;32m    516\u001b[0m             \u001b[0;31m# fit method of arity 1 (unsupervised transformation)\u001b[0m\u001b[0;34m\u001b[0m\u001b[0;34m\u001b[0m\u001b[0m\n\u001b[0;32m--> 517\u001b[0;31m             \u001b[0;32mreturn\u001b[0m \u001b[0mself\u001b[0m\u001b[0;34m.\u001b[0m\u001b[0mfit\u001b[0m\u001b[0;34m(\u001b[0m\u001b[0mX\u001b[0m\u001b[0;34m,\u001b[0m \u001b[0;34m**\u001b[0m\u001b[0mfit_params\u001b[0m\u001b[0;34m)\u001b[0m\u001b[0;34m.\u001b[0m\u001b[0mtransform\u001b[0m\u001b[0;34m(\u001b[0m\u001b[0mX\u001b[0m\u001b[0;34m)\u001b[0m\u001b[0;34m\u001b[0m\u001b[0m\n\u001b[0m\u001b[1;32m    518\u001b[0m         \u001b[0;32melse\u001b[0m\u001b[0;34m:\u001b[0m\u001b[0;34m\u001b[0m\u001b[0m\n\u001b[1;32m    519\u001b[0m             \u001b[0;31m# fit method of arity 2 (supervised transformation)\u001b[0m\u001b[0;34m\u001b[0m\u001b[0;34m\u001b[0m\u001b[0m\n",
      "\u001b[0;32m/usr/local/lib/python3.5/dist-packages/sklearn/preprocessing/data.py\u001b[0m in \u001b[0;36mtransform\u001b[0;34m(self, X)\u001b[0m\n\u001b[1;32m   1338\u001b[0m \u001b[0;34m\u001b[0m\u001b[0m\n\u001b[1;32m   1339\u001b[0m         \u001b[0;31m# allocate output data\u001b[0m\u001b[0;34m\u001b[0m\u001b[0;34m\u001b[0m\u001b[0m\n\u001b[0;32m-> 1340\u001b[0;31m         \u001b[0mXP\u001b[0m \u001b[0;34m=\u001b[0m \u001b[0mnp\u001b[0m\u001b[0;34m.\u001b[0m\u001b[0mempty\u001b[0m\u001b[0;34m(\u001b[0m\u001b[0;34m(\u001b[0m\u001b[0mn_samples\u001b[0m\u001b[0;34m,\u001b[0m \u001b[0mself\u001b[0m\u001b[0;34m.\u001b[0m\u001b[0mn_output_features_\u001b[0m\u001b[0;34m)\u001b[0m\u001b[0;34m,\u001b[0m \u001b[0mdtype\u001b[0m\u001b[0;34m=\u001b[0m\u001b[0mX\u001b[0m\u001b[0;34m.\u001b[0m\u001b[0mdtype\u001b[0m\u001b[0;34m)\u001b[0m\u001b[0;34m\u001b[0m\u001b[0m\n\u001b[0m\u001b[1;32m   1341\u001b[0m \u001b[0;34m\u001b[0m\u001b[0m\n\u001b[1;32m   1342\u001b[0m         combinations = self._combinations(n_features, self.degree,\n",
      "\u001b[0;31mMemoryError\u001b[0m: "
     ]
    }
   ],
   "source": [
    "X_train_poly2 = poly2.fit_transform(X_train)"
   ]
  },
  {
   "cell_type": "code",
   "execution_count": 299,
   "metadata": {},
   "outputs": [],
   "source": [
    "regressor_poly2 = LinearRegression()"
   ]
  },
  {
   "cell_type": "code",
   "execution_count": 300,
   "metadata": {},
   "outputs": [
    {
     "data": {
      "text/plain": [
       "LinearRegression(copy_X=True, fit_intercept=True, n_jobs=1, normalize=False)"
      ]
     },
     "execution_count": 300,
     "metadata": {},
     "output_type": "execute_result"
    }
   ],
   "source": [
    "regressor_poly2.fit(X_train_poly2, y_train)"
   ]
  },
  {
   "cell_type": "code",
   "execution_count": 301,
   "metadata": {},
   "outputs": [],
   "source": [
    "X_valid_poly2 = poly2.fit_transform(X_valid)"
   ]
  },
  {
   "cell_type": "code",
   "execution_count": 302,
   "metadata": {},
   "outputs": [],
   "source": [
    "poly2_y_valid = regressor_poly2.predict(X_valid_poly2)"
   ]
  },
  {
   "cell_type": "code",
   "execution_count": 305,
   "metadata": {},
   "outputs": [
    {
     "data": {
      "image/png": "[encoded data removed]",
      "text/plain": [
       "<matplotlib.figure.Figure at 0x7f0ba24ad860>"
      ]
     },
     "metadata": {},
     "output_type": "display_data"
    }
   ],
   "source": [
    "x = range(len(poly2_y_valid))\n",
    "plt.plot(x, pd.Series(poly2_y_valid).sort_values().values, 'r-*', label='lr_y_pred')\n",
    "plt.legend()\n",
    "plt.show()"
   ]
  },
  {
   "cell_type": "code",
   "execution_count": 306,
   "metadata": {},
   "outputs": [],
   "source": [
    "poly_y_pr = []\n",
    "for index in range(len(poly2_y_valid)):\n",
    "    if poly2_y_valid[index] < 3.2 and poly2_y_valid[index] > 2.3:\n",
    "        poly_y_pr.append(poly2_y_valid[index])\n",
    "    else:\n",
    "        poly_y_pr.append(y_valid[index])"
   ]
  },
  {
   "cell_type": "code",
   "execution_count": 307,
   "metadata": {},
   "outputs": [],
   "source": [
    "poly_s_pre = pd.Series(poly_y_pr)\n",
    "s_val = pd.Series(y_valid)"
   ]
  },
  {
   "cell_type": "code",
   "execution_count": 308,
   "metadata": {},
   "outputs": [
    {
     "data": {
      "image/png": "[encoded data removed]",
      "text/plain": [
       "<matplotlib.figure.Figure at 0x7f0ba2458358>"
      ]
     },
     "metadata": {},
     "output_type": "display_data"
    }
   ],
   "source": [
    "x = range(len(poly_s_pre))\n",
    "plt.plot(x, poly_s_pre.sort_values().values, 'r-*', label='lr_y_pred')\n",
    "plt.plot(x, s_val.sort_values().values, 'b-o', label='y_valid')\n",
    "plt.legend()\n",
    "plt.show()"
   ]
  },
  {
   "cell_type": "code",
   "execution_count": 309,
   "metadata": {},
   "outputs": [
    {
     "data": {
      "image/png": "[encoded data removed]",
      "text/plain": [
       "<matplotlib.figure.Figure at 0x7f0ba2468b70>"
      ]
     },
     "metadata": {},
     "output_type": "display_data"
    }
   ],
   "source": [
    "x = range(len(poly_y_pr))\n",
    "plt.plot(x, poly_y_pr, 'r-*', label='lr_y_pred')\n",
    "plt.plot(x, y_valid, 'b-o', label='y_valid')\n",
    "plt.legend()\n",
    "plt.show()"
   ]
  },
  {
   "cell_type": "code",
   "execution_count": 310,
   "metadata": {},
   "outputs": [
    {
     "data": {
      "text/plain": [
       "0.047138071948119011"
      ]
     },
     "execution_count": 310,
     "metadata": {},
     "output_type": "execute_result"
    }
   ],
   "source": [
    "mean_squared_error(poly_y_pr, y_valid)"
   ]
  },
  {
   "cell_type": "code",
   "execution_count": null,
   "metadata": {},
   "outputs": [],
   "source": []
  },
  {
   "cell_type": "markdown",
   "metadata": {},
   "source": [
    "#### 使用 SVM 回归"
   ]
  },
  {
   "cell_type": "code",
   "execution_count": 362,
   "metadata": {},
   "outputs": [],
   "source": [
    "from sklearn.svm import SVR"
   ]
  },
  {
   "cell_type": "code",
   "execution_count": null,
   "metadata": {},
   "outputs": [],
   "source": [
    "clf = SVR(kernel='linear')\n",
    "clf.fit(X_train, y_train)"
   ]
  },
  {
   "cell_type": "code",
   "execution_count": null,
   "metadata": {},
   "outputs": [],
   "source": [
    "svm_y_pred = clf.predict(X_valid)"
   ]
  },
  {
   "cell_type": "code",
   "execution_count": null,
   "metadata": {},
   "outputs": [],
   "source": [
    "svm_y_pred"
   ]
  },
  {
   "cell_type": "code",
   "execution_count": null,
   "metadata": {},
   "outputs": [],
   "source": [
    "svm_y_pr = []\n",
    "for item in svm_y_pred:\n",
    "    if item > 0 :\n",
    "        svm_y_pr.append(item)"
   ]
  },
  {
   "cell_type": "code",
   "execution_count": null,
   "metadata": {},
   "outputs": [],
   "source": [
    "mean_squared_error(svm_y_pr, y_valid[0:-1])"
   ]
  },
  {
   "cell_type": "code",
   "execution_count": null,
   "metadata": {},
   "outputs": [],
   "source": []
  },
  {
   "cell_type": "code",
   "execution_count": null,
   "metadata": {},
   "outputs": [],
   "source": []
  },
  {
   "cell_type": "code",
   "execution_count": null,
   "metadata": {},
   "outputs": [],
   "source": []
  },
  {
   "cell_type": "code",
   "execution_count": 279,
   "metadata": {},
   "outputs": [
    {
     "data": {
      "image/png": "[encoded data removed]",
      "text/plain": [
       "<matplotlib.figure.Figure at 0x7f08c5a7c940>"
      ]
     },
     "metadata": {},
     "output_type": "display_data"
    }
   ],
   "source": [
    "x = range(len(svm_y_pr))\n",
    "plt.plot(x, svm_y_pr, 'r-*', label='svm_y_pred')\n",
    "plt.plot(x, y_valid[0:-1], 'b-o', label='y_valid')\n",
    "plt.legend()\n",
    "plt.show()"
   ]
  },
  {
   "cell_type": "code",
   "execution_count": 273,
   "metadata": {},
   "outputs": [],
   "source": [
    "svm_s_pre = pd.Series(svm_y_pr)\n",
    "s_val = pd.Series(y_valid[0:-1])"
   ]
  },
  {
   "cell_type": "code",
   "execution_count": 283,
   "metadata": {},
   "outputs": [
    {
     "data": {
      "text/plain": [
       "125"
      ]
     },
     "execution_count": 283,
     "metadata": {},
     "output_type": "execute_result"
    }
   ],
   "source": [
    "len(svm_s_pre)"
   ]
  },
  {
   "cell_type": "code",
   "execution_count": 285,
   "metadata": {},
   "outputs": [
    {
     "data": {
      "image/png": "[encoded data removed]",
      "text/plain": [
       "<matplotlib.figure.Figure at 0x7f08c7b78860>"
      ]
     },
     "metadata": {},
     "output_type": "display_data"
    }
   ],
   "source": [
    "x = range(len(svm_s_pre))\n",
    "plt.plot(x, svm_s_pre.sort_values().values, 'r-*', label='lr_y_pred')\n",
    "plt.plot(x, s_val.sort_values().values, 'b-o', label='y_valid')\n",
    "plt.show()"
   ]
  },
  {
   "cell_type": "markdown",
   "metadata": {},
   "source": [
    "#### 使用gbm预测"
   ]
  },
  {
   "cell_type": "code",
   "execution_count": 436,
   "metadata": {},
   "outputs": [],
   "source": [
    "testa_X = pd.concat([testa_X_num_non_nan, testa_X_str], axis=1)"
   ]
  },
  {
   "cell_type": "code",
   "execution_count": 437,
   "metadata": {},
   "outputs": [],
   "source": [
    "testa_X = testa_X.drop(['nan_standard'], axis=1)"
   ]
  },
  {
   "cell_type": "code",
   "execution_count": 431,
   "metadata": {},
   "outputs": [],
   "source": [
    "testa_X = testa_X.loc[:,importanct_feature]"
   ]
  },
  {
   "cell_type": "code",
   "execution_count": 438,
   "metadata": {},
   "outputs": [
    {
     "data": {
      "text/plain": [
       "(100, 5255)"
      ]
     },
     "execution_count": 438,
     "metadata": {},
     "output_type": "execute_result"
    }
   ],
   "source": [
    "testa_X.shape"
   ]
  },
  {
   "cell_type": "code",
   "execution_count": 439,
   "metadata": {},
   "outputs": [
    {
     "data": {
      "text/html": [
       "<div>\n",
       "<style scoped>\n",
       "    .dataframe tbody tr th:only-of-type {\n",
       "        vertical-align: middle;\n",
       "    }\n",
       "\n",
       "    .dataframe tbody tr th {\n",
       "        vertical-align: top;\n",
       "    }\n",
       "\n",
       "    .dataframe thead th {\n",
       "        text-align: right;\n",
       "    }\n",
       "</style>\n",
       "<table border=\"1\" class=\"dataframe\">\n",
       "  <thead>\n",
       "    <tr style=\"text-align: right;\">\n",
       "      <th></th>\n",
       "      <th>210X1</th>\n",
       "      <th>210X2</th>\n",
       "      <th>210X3</th>\n",
       "      <th>210X4</th>\n",
       "      <th>210X5</th>\n",
       "      <th>210X6</th>\n",
       "      <th>210X7</th>\n",
       "      <th>210X8</th>\n",
       "      <th>210X9</th>\n",
       "      <th>210X10</th>\n",
       "      <th>...</th>\n",
       "      <th>Tool (#3)_12T</th>\n",
       "      <th>Tool (#3)_13T</th>\n",
       "      <th>Tool (#3)_14T</th>\n",
       "      <th>Tool (#3)_15T</th>\n",
       "      <th>Tool (#3)_6T</th>\n",
       "      <th>Tool (#3)_7T</th>\n",
       "      <th>Tool (#3)_8T</th>\n",
       "      <th>Tool (#3)_9T</th>\n",
       "      <th>TOOL (#2)_AT</th>\n",
       "      <th>TOOL (#2)_BT</th>\n",
       "    </tr>\n",
       "  </thead>\n",
       "  <tbody>\n",
       "    <tr>\n",
       "      <th>0</th>\n",
       "      <td>100.85</td>\n",
       "      <td>0.423</td>\n",
       "      <td>0.41</td>\n",
       "      <td>0.624</td>\n",
       "      <td>35.50</td>\n",
       "      <td>1.795</td>\n",
       "      <td>0.08</td>\n",
       "      <td>-0.18</td>\n",
       "      <td>-0.15</td>\n",
       "      <td>24.1</td>\n",
       "      <td>...</td>\n",
       "      <td>0</td>\n",
       "      <td>0</td>\n",
       "      <td>1</td>\n",
       "      <td>0</td>\n",
       "      <td>0</td>\n",
       "      <td>0</td>\n",
       "      <td>0</td>\n",
       "      <td>0</td>\n",
       "      <td>1</td>\n",
       "      <td>0</td>\n",
       "    </tr>\n",
       "    <tr>\n",
       "      <th>1</th>\n",
       "      <td>100.80</td>\n",
       "      <td>0.322</td>\n",
       "      <td>0.41</td>\n",
       "      <td>0.544</td>\n",
       "      <td>70.98</td>\n",
       "      <td>3.580</td>\n",
       "      <td>0.11</td>\n",
       "      <td>-0.32</td>\n",
       "      <td>-0.15</td>\n",
       "      <td>24.3</td>\n",
       "      <td>...</td>\n",
       "      <td>0</td>\n",
       "      <td>1</td>\n",
       "      <td>0</td>\n",
       "      <td>0</td>\n",
       "      <td>0</td>\n",
       "      <td>0</td>\n",
       "      <td>0</td>\n",
       "      <td>0</td>\n",
       "      <td>1</td>\n",
       "      <td>0</td>\n",
       "    </tr>\n",
       "    <tr>\n",
       "      <th>2</th>\n",
       "      <td>100.75</td>\n",
       "      <td>0.526</td>\n",
       "      <td>0.14</td>\n",
       "      <td>1.081</td>\n",
       "      <td>57.84</td>\n",
       "      <td>2.848</td>\n",
       "      <td>-0.75</td>\n",
       "      <td>1.10</td>\n",
       "      <td>0.06</td>\n",
       "      <td>24.8</td>\n",
       "      <td>...</td>\n",
       "      <td>0</td>\n",
       "      <td>0</td>\n",
       "      <td>0</td>\n",
       "      <td>0</td>\n",
       "      <td>0</td>\n",
       "      <td>0</td>\n",
       "      <td>0</td>\n",
       "      <td>1</td>\n",
       "      <td>1</td>\n",
       "      <td>0</td>\n",
       "    </tr>\n",
       "    <tr>\n",
       "      <th>3</th>\n",
       "      <td>100.70</td>\n",
       "      <td>0.541</td>\n",
       "      <td>0.14</td>\n",
       "      <td>1.119</td>\n",
       "      <td>58.01</td>\n",
       "      <td>2.909</td>\n",
       "      <td>-0.98</td>\n",
       "      <td>1.05</td>\n",
       "      <td>0.06</td>\n",
       "      <td>23.7</td>\n",
       "      <td>...</td>\n",
       "      <td>0</td>\n",
       "      <td>0</td>\n",
       "      <td>0</td>\n",
       "      <td>0</td>\n",
       "      <td>0</td>\n",
       "      <td>0</td>\n",
       "      <td>1</td>\n",
       "      <td>0</td>\n",
       "      <td>1</td>\n",
       "      <td>0</td>\n",
       "    </tr>\n",
       "    <tr>\n",
       "      <th>4</th>\n",
       "      <td>100.70</td>\n",
       "      <td>0.503</td>\n",
       "      <td>0.13</td>\n",
       "      <td>0.944</td>\n",
       "      <td>57.67</td>\n",
       "      <td>2.888</td>\n",
       "      <td>-0.48</td>\n",
       "      <td>1.08</td>\n",
       "      <td>0.06</td>\n",
       "      <td>24.4</td>\n",
       "      <td>...</td>\n",
       "      <td>0</td>\n",
       "      <td>0</td>\n",
       "      <td>0</td>\n",
       "      <td>0</td>\n",
       "      <td>0</td>\n",
       "      <td>0</td>\n",
       "      <td>0</td>\n",
       "      <td>0</td>\n",
       "      <td>1</td>\n",
       "      <td>0</td>\n",
       "    </tr>\n",
       "  </tbody>\n",
       "</table>\n",
       "<p>5 rows × 5255 columns</p>\n",
       "</div>"
      ],
      "text/plain": [
       "    210X1  210X2  210X3  210X4  210X5  210X6  210X7  210X8  210X9  210X10  \\\n",
       "0  100.85  0.423   0.41  0.624  35.50  1.795   0.08  -0.18  -0.15    24.1   \n",
       "1  100.80  0.322   0.41  0.544  70.98  3.580   0.11  -0.32  -0.15    24.3   \n",
       "2  100.75  0.526   0.14  1.081  57.84  2.848  -0.75   1.10   0.06    24.8   \n",
       "3  100.70  0.541   0.14  1.119  58.01  2.909  -0.98   1.05   0.06    23.7   \n",
       "4  100.70  0.503   0.13  0.944  57.67  2.888  -0.48   1.08   0.06    24.4   \n",
       "\n",
       "       ...       Tool (#3)_12T  Tool (#3)_13T  Tool (#3)_14T  Tool (#3)_15T  \\\n",
       "0      ...                   0              0              1              0   \n",
       "1      ...                   0              1              0              0   \n",
       "2      ...                   0              0              0              0   \n",
       "3      ...                   0              0              0              0   \n",
       "4      ...                   0              0              0              0   \n",
       "\n",
       "   Tool (#3)_6T  Tool (#3)_7T  Tool (#3)_8T  Tool (#3)_9T  TOOL (#2)_AT  \\\n",
       "0             0             0             0             0             1   \n",
       "1             0             0             0             0             1   \n",
       "2             0             0             0             1             1   \n",
       "3             0             0             1             0             1   \n",
       "4             0             0             0             0             1   \n",
       "\n",
       "   TOOL (#2)_BT  \n",
       "0             0  \n",
       "1             0  \n",
       "2             0  \n",
       "3             0  \n",
       "4             0  \n",
       "\n",
       "[5 rows x 5255 columns]"
      ]
     },
     "execution_count": 439,
     "metadata": {},
     "output_type": "execute_result"
    }
   ],
   "source": [
    "testa_X.head()"
   ]
  },
  {
   "cell_type": "code",
   "execution_count": 440,
   "metadata": {},
   "outputs": [],
   "source": [
    "gbm_a_pred = gbm.predict(testa_X)"
   ]
  },
  {
   "cell_type": "code",
   "execution_count": 441,
   "metadata": {},
   "outputs": [],
   "source": [
    "gbm_s_a_pred = pd.Series(gbm_a_pred)"
   ]
  },
  {
   "cell_type": "code",
   "execution_count": 442,
   "metadata": {},
   "outputs": [
    {
     "data": {
      "image/png": "[encoded data removed]",
      "text/plain": [
       "<matplotlib.figure.Figure at 0x7f0bafcc5358>"
      ]
     },
     "metadata": {},
     "output_type": "display_data"
    }
   ],
   "source": [
    "x = range(len(gbm_s_a_pred))\n",
    "plt.plot(x, gbm_s_a_pred.sort_values().values, 'r-*', label='y_train')\n",
    "plt.show()"
   ]
  },
  {
   "cell_type": "code",
   "execution_count": 443,
   "metadata": {},
   "outputs": [],
   "source": [
    "knr_a_pred = knr.predict(testa_X)"
   ]
  },
  {
   "cell_type": "code",
   "execution_count": 444,
   "metadata": {},
   "outputs": [],
   "source": [
    "knr_s_a_pred = pd.Series(knr_a_pred)"
   ]
  },
  {
   "cell_type": "code",
   "execution_count": 445,
   "metadata": {},
   "outputs": [
    {
     "data": {
      "image/png": "[encoded data removed]",
      "text/plain": [
       "<matplotlib.figure.Figure at 0x7f0ba23c6b00>"
      ]
     },
     "metadata": {},
     "output_type": "display_data"
    }
   ],
   "source": [
    "x = range(len(knr_s_a_pred))\n",
    "plt.plot(x, knr_s_a_pred.sort_values().values, 'r-*', label='y_train')\n",
    "plt.show()"
   ]
  },
  {
   "cell_type": "code",
   "execution_count": null,
   "metadata": {},
   "outputs": [],
   "source": [
    "b_pred = gbm.predict(X_b)"
   ]
  },
  {
   "cell_type": "markdown",
   "metadata": {},
   "source": [
    "#### 读取模板"
   ]
  },
  {
   "cell_type": "code",
   "execution_count": 446,
   "metadata": {},
   "outputs": [],
   "source": [
    "gbm_a_pattern = pd.read_csv('./input/a_pattern.csv', names= ['id'])\n",
    "knr_a_pattern = pd.read_csv('./input/a_pattern.csv', names= ['id'])"
   ]
  },
  {
   "cell_type": "code",
   "execution_count": 447,
   "metadata": {},
   "outputs": [],
   "source": [
    "b_pattern = pd.read_csv('./input/b_pattern.csv', names = ['id'])"
   ]
  },
  {
   "cell_type": "code",
   "execution_count": 448,
   "metadata": {},
   "outputs": [],
   "source": [
    "gbm_a_pattern['Y'] = gbm_a_pred\n",
    "knr_a_pattern['Y'] = knr_a_pred"
   ]
  },
  {
   "cell_type": "code",
   "execution_count": 449,
   "metadata": {},
   "outputs": [],
   "source": [
    "b_pattern['Y'] = 0"
   ]
  },
  {
   "cell_type": "code",
   "execution_count": 450,
   "metadata": {},
   "outputs": [],
   "source": [
    "gbm_a_pattern.to_csv('./gbm_a_pattern.csv', index=None, header=None)\n",
    "knr_a_pattern.to_csv('./knr_a_pattern.csv', index=None, header=None)"
   ]
  },
  {
   "cell_type": "code",
   "execution_count": 49,
   "metadata": {},
   "outputs": [],
   "source": [
    "b_pattern.to_csv('./b_pred.csv', index=None, header=None)"
   ]
  },
  {
   "cell_type": "code",
   "execution_count": null,
   "metadata": {},
   "outputs": [],
   "source": []
  }
 ],
 "metadata": {
  "kernelspec": {
   "display_name": "Python 3",
   "language": "python",
   "name": "python3"
  },
  "language_info": {
   "codemirror_mode": {
    "name": "ipython",
    "version": 3
   },
   "file_extension": ".py",
   "mimetype": "text/x-python",
   "name": "python",
   "nbconvert_exporter": "python",
   "pygments_lexer": "ipython3",
   "version": "3.6.4"
  }
 },
 "nbformat": 4,
 "nbformat_minor": 2
}
