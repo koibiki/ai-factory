{
 "cells": [
  {
   "cell_type": "code",
   "execution_count": 1,
   "metadata": {},
   "outputs": [],
   "source": [
    "import pandas as pd\n",
    "import numpy as np\n",
    "import lightgbm as lgm\n",
    "%matplotlib inline\n",
    "import matplotlib.pyplot as plt"
   ]
  },
  {
   "cell_type": "markdown",
   "metadata": {},
   "source": [
    "### 读取训练数据"
   ]
  },
  {
   "cell_type": "code",
   "execution_count": 2,
   "metadata": {},
   "outputs": [],
   "source": [
    "# train = pd.read_excel('./train.xlsx')\n",
    "# testa = pd.read_excel('./testa.xlsx')\n",
    "# testb = pd.read_excel('./testb.xlsx')"
   ]
  },
  {
   "cell_type": "code",
   "execution_count": 3,
   "metadata": {},
   "outputs": [],
   "source": [
    "train = pd.read_csv('./input/train.csv')\n",
    "testa = pd.read_csv('./input/testa.csv')\n",
    "testb = pd.read_csv('./input/testb.csv')"
   ]
  },
  {
   "cell_type": "code",
   "execution_count": 4,
   "metadata": {},
   "outputs": [
    {
     "data": {
      "text/html": [
       "<div>\n",
       "<style scoped>\n",
       "    .dataframe tbody tr th:only-of-type {\n",
       "        vertical-align: middle;\n",
       "    }\n",
       "\n",
       "    .dataframe tbody tr th {\n",
       "        vertical-align: top;\n",
       "    }\n",
       "\n",
       "    .dataframe thead th {\n",
       "        text-align: right;\n",
       "    }\n",
       "</style>\n",
       "<table border=\"1\" class=\"dataframe\">\n",
       "  <thead>\n",
       "    <tr style=\"text-align: right;\">\n",
       "      <th></th>\n",
       "      <th>ID</th>\n",
       "      <th>TOOL_ID</th>\n",
       "      <th>210X1</th>\n",
       "      <th>210X2</th>\n",
       "      <th>210X3</th>\n",
       "      <th>210X4</th>\n",
       "      <th>210X5</th>\n",
       "      <th>210X6</th>\n",
       "      <th>210X7</th>\n",
       "      <th>210X8</th>\n",
       "      <th>...</th>\n",
       "      <th>750X1444</th>\n",
       "      <th>750X1445</th>\n",
       "      <th>750X1446</th>\n",
       "      <th>750X1447</th>\n",
       "      <th>750X1448</th>\n",
       "      <th>750X1449</th>\n",
       "      <th>750X1450</th>\n",
       "      <th>750X1451</th>\n",
       "      <th>750X1452</th>\n",
       "      <th>Y</th>\n",
       "    </tr>\n",
       "  </thead>\n",
       "  <tbody>\n",
       "    <tr>\n",
       "      <th>0</th>\n",
       "      <td>ID001</td>\n",
       "      <td>N</td>\n",
       "      <td>102.05</td>\n",
       "      <td>0.465</td>\n",
       "      <td>0.27</td>\n",
       "      <td>1.430</td>\n",
       "      <td>67.45</td>\n",
       "      <td>4.620</td>\n",
       "      <td>-0.54</td>\n",
       "      <td>-1.05</td>\n",
       "      <td>...</td>\n",
       "      <td>0.00072</td>\n",
       "      <td>0.00072</td>\n",
       "      <td>25.7</td>\n",
       "      <td>0.00072</td>\n",
       "      <td>0.00072</td>\n",
       "      <td>25.7</td>\n",
       "      <td>0.00072</td>\n",
       "      <td>0.00072</td>\n",
       "      <td>2.400000e+12</td>\n",
       "      <td>2.945079</td>\n",
       "    </tr>\n",
       "    <tr>\n",
       "      <th>1</th>\n",
       "      <td>ID002</td>\n",
       "      <td>M</td>\n",
       "      <td>100.95</td>\n",
       "      <td>0.805</td>\n",
       "      <td>0.22</td>\n",
       "      <td>3.477</td>\n",
       "      <td>62.08</td>\n",
       "      <td>3.412</td>\n",
       "      <td>-2.12</td>\n",
       "      <td>1.02</td>\n",
       "      <td>...</td>\n",
       "      <td>0.00072</td>\n",
       "      <td>0.00072</td>\n",
       "      <td>25.5</td>\n",
       "      <td>0.00072</td>\n",
       "      <td>0.00072</td>\n",
       "      <td>25.5</td>\n",
       "      <td>0.00072</td>\n",
       "      <td>0.00072</td>\n",
       "      <td>2.400000e+12</td>\n",
       "      <td>2.955092</td>\n",
       "    </tr>\n",
       "    <tr>\n",
       "      <th>2</th>\n",
       "      <td>ID003</td>\n",
       "      <td>L</td>\n",
       "      <td>98.56</td>\n",
       "      <td>0.555</td>\n",
       "      <td>0.24</td>\n",
       "      <td>1.172</td>\n",
       "      <td>56.70</td>\n",
       "      <td>3.080</td>\n",
       "      <td>-2.25</td>\n",
       "      <td>0.88</td>\n",
       "      <td>...</td>\n",
       "      <td>0.00064</td>\n",
       "      <td>0.00064</td>\n",
       "      <td>25.2</td>\n",
       "      <td>0.00064</td>\n",
       "      <td>0.00064</td>\n",
       "      <td>25.2</td>\n",
       "      <td>0.00064</td>\n",
       "      <td>0.00064</td>\n",
       "      <td>2.400000e+12</td>\n",
       "      <td>2.741264</td>\n",
       "    </tr>\n",
       "    <tr>\n",
       "      <th>3</th>\n",
       "      <td>ID004</td>\n",
       "      <td>M</td>\n",
       "      <td>100.35</td>\n",
       "      <td>0.901</td>\n",
       "      <td>0.22</td>\n",
       "      <td>3.631</td>\n",
       "      <td>62.25</td>\n",
       "      <td>3.949</td>\n",
       "      <td>-1.98</td>\n",
       "      <td>0.82</td>\n",
       "      <td>...</td>\n",
       "      <td>0.00072</td>\n",
       "      <td>0.00072</td>\n",
       "      <td>26.4</td>\n",
       "      <td>0.00072</td>\n",
       "      <td>0.00072</td>\n",
       "      <td>26.4</td>\n",
       "      <td>0.00072</td>\n",
       "      <td>0.00072</td>\n",
       "      <td>2.400000e+12</td>\n",
       "      <td>2.799336</td>\n",
       "    </tr>\n",
       "    <tr>\n",
       "      <th>4</th>\n",
       "      <td>ID005</td>\n",
       "      <td>M</td>\n",
       "      <td>100.25</td>\n",
       "      <td>0.854</td>\n",
       "      <td>0.23</td>\n",
       "      <td>3.429</td>\n",
       "      <td>61.42</td>\n",
       "      <td>3.630</td>\n",
       "      <td>-1.89</td>\n",
       "      <td>1.02</td>\n",
       "      <td>...</td>\n",
       "      <td>0.00072</td>\n",
       "      <td>0.00072</td>\n",
       "      <td>26.4</td>\n",
       "      <td>0.00072</td>\n",
       "      <td>0.00072</td>\n",
       "      <td>26.4</td>\n",
       "      <td>0.00072</td>\n",
       "      <td>0.00072</td>\n",
       "      <td>2.400000e+12</td>\n",
       "      <td>2.692093</td>\n",
       "    </tr>\n",
       "  </tbody>\n",
       "</table>\n",
       "<p>5 rows × 8029 columns</p>\n",
       "</div>"
      ],
      "text/plain": [
       "      ID TOOL_ID   210X1  210X2  210X3  210X4  210X5  210X6  210X7  210X8  \\\n",
       "0  ID001       N  102.05  0.465   0.27  1.430  67.45  4.620  -0.54  -1.05   \n",
       "1  ID002       M  100.95  0.805   0.22  3.477  62.08  3.412  -2.12   1.02   \n",
       "2  ID003       L   98.56  0.555   0.24  1.172  56.70  3.080  -2.25   0.88   \n",
       "3  ID004       M  100.35  0.901   0.22  3.631  62.25  3.949  -1.98   0.82   \n",
       "4  ID005       M  100.25  0.854   0.23  3.429  61.42  3.630  -1.89   1.02   \n",
       "\n",
       "     ...     750X1444  750X1445  750X1446  750X1447  750X1448  750X1449  \\\n",
       "0    ...      0.00072   0.00072      25.7   0.00072   0.00072      25.7   \n",
       "1    ...      0.00072   0.00072      25.5   0.00072   0.00072      25.5   \n",
       "2    ...      0.00064   0.00064      25.2   0.00064   0.00064      25.2   \n",
       "3    ...      0.00072   0.00072      26.4   0.00072   0.00072      26.4   \n",
       "4    ...      0.00072   0.00072      26.4   0.00072   0.00072      26.4   \n",
       "\n",
       "   750X1450  750X1451      750X1452         Y  \n",
       "0   0.00072   0.00072  2.400000e+12  2.945079  \n",
       "1   0.00072   0.00072  2.400000e+12  2.955092  \n",
       "2   0.00064   0.00064  2.400000e+12  2.741264  \n",
       "3   0.00072   0.00072  2.400000e+12  2.799336  \n",
       "4   0.00072   0.00072  2.400000e+12  2.692093  \n",
       "\n",
       "[5 rows x 8029 columns]"
      ]
     },
     "execution_count": 4,
     "metadata": {},
     "output_type": "execute_result"
    }
   ],
   "source": [
    "train.head()"
   ]
  },
  {
   "cell_type": "code",
   "execution_count": 5,
   "metadata": {},
   "outputs": [],
   "source": [
    "train_y_series = train.Y"
   ]
  },
  {
   "cell_type": "code",
   "execution_count": 6,
   "metadata": {},
   "outputs": [
    {
     "data": {
      "image/png": "[encoded data removed]",
      "text/plain": [
       "<matplotlib.figure.Figure at 0x7f0bb209c5f8>"
      ]
     },
     "metadata": {},
     "output_type": "display_data"
    }
   ],
   "source": [
    "x = range(len(train_y_series))\n",
    "plt.plot(x, train_y_series.sort_values().values, 'r-*', label='y_train')\n",
    "plt.show()"
   ]
  },
  {
   "cell_type": "markdown",
   "metadata": {},
   "source": [
    "#### 去除ID"
   ]
  },
  {
   "cell_type": "code",
   "execution_count": 7,
   "metadata": {},
   "outputs": [],
   "source": [
    "train_X = train.iloc[:,1:-1]\n",
    "train_Y = train.Y\n",
    "X_a = testa.iloc[:,1:]\n",
    "X_b = testb.iloc[:,1:]"
   ]
  },
  {
   "cell_type": "code",
   "execution_count": 8,
   "metadata": {},
   "outputs": [],
   "source": [
    "train_id = train.ID\n",
    "a_id = testa.ID\n",
    "b_id = testa.ID"
   ]
  },
  {
   "cell_type": "code",
   "execution_count": 9,
   "metadata": {},
   "outputs": [
    {
     "data": {
      "text/plain": [
       "(500, 8027)"
      ]
     },
     "execution_count": 9,
     "metadata": {},
     "output_type": "execute_result"
    }
   ],
   "source": [
    "train_X.shape"
   ]
  },
  {
   "cell_type": "code",
   "execution_count": 10,
   "metadata": {},
   "outputs": [
    {
     "data": {
      "text/plain": [
       "(100, 8027)"
      ]
     },
     "execution_count": 10,
     "metadata": {},
     "output_type": "execute_result"
    }
   ],
   "source": [
    "X_a.shape"
   ]
  },
  {
   "cell_type": "code",
   "execution_count": 11,
   "metadata": {},
   "outputs": [
    {
     "data": {
      "text/plain": [
       "(121, 8027)"
      ]
     },
     "execution_count": 11,
     "metadata": {},
     "output_type": "execute_result"
    }
   ],
   "source": [
    "X_b.shape"
   ]
  },
  {
   "cell_type": "code",
   "execution_count": 12,
   "metadata": {},
   "outputs": [
    {
     "data": {
      "text/plain": [
       "500"
      ]
     },
     "execution_count": 12,
     "metadata": {},
     "output_type": "execute_result"
    }
   ],
   "source": [
    "len(train_X)"
   ]
  },
  {
   "cell_type": "markdown",
   "metadata": {},
   "source": [
    "#### 去除时间特征"
   ]
  },
  {
   "cell_type": "code",
   "execution_count": 13,
   "metadata": {},
   "outputs": [],
   "source": [
    "def is_prefix2017(num):\n",
    "    str_num = str(num)\n",
    "    return str_num.startswith('2017')"
   ]
  },
  {
   "cell_type": "code",
   "execution_count": 14,
   "metadata": {},
   "outputs": [],
   "source": [
    "def get_date_columns(data):\n",
    "    columns = data.iloc[0, :].index\n",
    "    date_column = []\n",
    "    for row_index in range(len(data)):\n",
    "        item = data.iloc[row_index]\n",
    "        for index in range(len(item)):\n",
    "            if type(item[index]) == np.int64 and is_prefix2017(item[index]):\n",
    "                date_column.append(columns[index])\n",
    "    return date_column"
   ]
  },
  {
   "cell_type": "code",
   "execution_count": 15,
   "metadata": {},
   "outputs": [],
   "source": [
    "train_date_columns = get_date_columns(train)"
   ]
  },
  {
   "cell_type": "code",
   "execution_count": 16,
   "metadata": {},
   "outputs": [],
   "source": [
    "testa_date_columns = get_date_columns(X_a)"
   ]
  },
  {
   "cell_type": "code",
   "execution_count": 17,
   "metadata": {},
   "outputs": [],
   "source": [
    "testb_date_columns = get_date_columns(X_b)"
   ]
  },
  {
   "cell_type": "code",
   "execution_count": 18,
   "metadata": {},
   "outputs": [],
   "source": [
    "def mix_date_columns(train_date_columns, testa_date_columns, testb_date_columns):\n",
    "    date_columns = []\n",
    "    for item in train_date_columns:\n",
    "        if item not in date_columns:\n",
    "            date_columns.append(item)\n",
    "    for item in testa_date_columns:\n",
    "        if item not in date_columns:\n",
    "            date_columns.append(item)\n",
    "    for item in testb_date_columns:\n",
    "        if item not in date_columns:\n",
    "            date_columns.append(item)\n",
    "    return date_columns"
   ]
  },
  {
   "cell_type": "code",
   "execution_count": 19,
   "metadata": {},
   "outputs": [],
   "source": [
    "date_columns = mix_date_columns(train_date_columns, testa_date_columns, testb_date_columns)"
   ]
  },
  {
   "cell_type": "code",
   "execution_count": 20,
   "metadata": {},
   "outputs": [],
   "source": [
    "train_X = train_X.drop(date_columns, axis=1)"
   ]
  },
  {
   "cell_type": "code",
   "execution_count": 21,
   "metadata": {},
   "outputs": [],
   "source": [
    "X_a = X_a.drop(date_columns, axis=1)"
   ]
  },
  {
   "cell_type": "code",
   "execution_count": 22,
   "metadata": {},
   "outputs": [],
   "source": [
    "X_b = X_b.drop(date_columns, axis=1)"
   ]
  },
  {
   "cell_type": "code",
   "execution_count": 23,
   "metadata": {},
   "outputs": [
    {
     "data": {
      "text/plain": [
       "(500, 7927)"
      ]
     },
     "execution_count": 23,
     "metadata": {},
     "output_type": "execute_result"
    }
   ],
   "source": [
    "train_X.shape"
   ]
  },
  {
   "cell_type": "code",
   "execution_count": 24,
   "metadata": {},
   "outputs": [
    {
     "data": {
      "text/plain": [
       "(100, 7927)"
      ]
     },
     "execution_count": 24,
     "metadata": {},
     "output_type": "execute_result"
    }
   ],
   "source": [
    "X_a.shape"
   ]
  },
  {
   "cell_type": "code",
   "execution_count": 25,
   "metadata": {},
   "outputs": [
    {
     "data": {
      "text/plain": [
       "(121, 7927)"
      ]
     },
     "execution_count": 25,
     "metadata": {},
     "output_type": "execute_result"
    }
   ],
   "source": [
    "X_b.shape"
   ]
  },
  {
   "cell_type": "code",
   "execution_count": null,
   "metadata": {},
   "outputs": [],
   "source": []
  },
  {
   "cell_type": "code",
   "execution_count": null,
   "metadata": {},
   "outputs": [],
   "source": []
  },
  {
   "cell_type": "markdown",
   "metadata": {},
   "source": [
    "#### 字符特征 和 数字特征 分离"
   ]
  },
  {
   "cell_type": "code",
   "execution_count": 26,
   "metadata": {},
   "outputs": [],
   "source": [
    "def get_str_columns(date):\n",
    "    str_columns = []\n",
    "    for item in date.columns:\n",
    "        if item.startswith(\"T\") or item.startswith(\"t\"):\n",
    "            str_columns.append(item)\n",
    "    return str_columns"
   ]
  },
  {
   "cell_type": "code",
   "execution_count": 27,
   "metadata": {},
   "outputs": [],
   "source": [
    "str_columns = get_str_columns(train_X)"
   ]
  },
  {
   "cell_type": "code",
   "execution_count": 28,
   "metadata": {},
   "outputs": [],
   "source": [
    "def num_to_str(data):\n",
    "    columns = data.columns\n",
    "    for item in columns:\n",
    "        data[item] = data[item].apply(lambda x: str(x) + \"T\")\n",
    "    return data"
   ]
  },
  {
   "cell_type": "code",
   "execution_count": 29,
   "metadata": {},
   "outputs": [],
   "source": [
    "train_X_str = train_X.loc[:,str_columns]\n",
    "testa_X_str = X_a.loc[:,str_columns]\n",
    "testb_x_str = X_b.loc[:, str_columns]"
   ]
  },
  {
   "cell_type": "code",
   "execution_count": 30,
   "metadata": {},
   "outputs": [],
   "source": [
    "def num_to_str(data):\n",
    "    columns = data.columns\n",
    "    for item in columns:\n",
    "        data[item] = data[item].apply(lambda x: str(x) + \"T\")\n",
    "    return data"
   ]
  },
  {
   "cell_type": "code",
   "execution_count": 31,
   "metadata": {},
   "outputs": [],
   "source": [
    "train_X_str = num_to_str(train_X_str)\n",
    "testa_X_str = num_to_str(testa_X_str)\n",
    "testb_x_str = num_to_str(testb_x_str)"
   ]
  },
  {
   "cell_type": "code",
   "execution_count": null,
   "metadata": {},
   "outputs": [],
   "source": []
  },
  {
   "cell_type": "code",
   "execution_count": 32,
   "metadata": {},
   "outputs": [],
   "source": [
    "train_X_num = train_X.drop(str_columns, axis=1)\n",
    "testa_X_num = X_a.drop(str_columns, axis=1)\n",
    "testb_X_num = X_b.drop(str_columns, axis=1)"
   ]
  },
  {
   "cell_type": "code",
   "execution_count": 33,
   "metadata": {},
   "outputs": [
    {
     "data": {
      "text/plain": [
       "(500, 7914)"
      ]
     },
     "execution_count": 33,
     "metadata": {},
     "output_type": "execute_result"
    }
   ],
   "source": [
    "train_X_num.shape"
   ]
  },
  {
   "cell_type": "code",
   "execution_count": 34,
   "metadata": {},
   "outputs": [
    {
     "data": {
      "text/plain": [
       "(100, 7914)"
      ]
     },
     "execution_count": 34,
     "metadata": {},
     "output_type": "execute_result"
    }
   ],
   "source": [
    "testa_X_num.shape"
   ]
  },
  {
   "cell_type": "code",
   "execution_count": 35,
   "metadata": {},
   "outputs": [
    {
     "data": {
      "text/plain": [
       "(121, 7914)"
      ]
     },
     "execution_count": 35,
     "metadata": {},
     "output_type": "execute_result"
    }
   ],
   "source": [
    "testb_X_num.shape"
   ]
  },
  {
   "cell_type": "markdown",
   "metadata": {},
   "source": [
    "#### 特征向量化"
   ]
  },
  {
   "cell_type": "code",
   "execution_count": 36,
   "metadata": {},
   "outputs": [],
   "source": [
    "train_X_str = pd.get_dummies(train_X_str)\n",
    "testa_X_str = pd.get_dummies(testa_X_str)\n",
    "testb_x_str = pd.get_dummies(testb_x_str)"
   ]
  },
  {
   "cell_type": "code",
   "execution_count": null,
   "metadata": {},
   "outputs": [],
   "source": []
  },
  {
   "cell_type": "code",
   "execution_count": 37,
   "metadata": {},
   "outputs": [
    {
     "data": {
      "text/plain": [
       "(500, 56)"
      ]
     },
     "execution_count": 37,
     "metadata": {},
     "output_type": "execute_result"
    }
   ],
   "source": [
    "train_X_str.shape"
   ]
  },
  {
   "cell_type": "code",
   "execution_count": 38,
   "metadata": {},
   "outputs": [
    {
     "data": {
      "text/plain": [
       "(100, 54)"
      ]
     },
     "execution_count": 38,
     "metadata": {},
     "output_type": "execute_result"
    }
   ],
   "source": [
    "testa_X_str.shape"
   ]
  },
  {
   "cell_type": "code",
   "execution_count": 39,
   "metadata": {},
   "outputs": [
    {
     "data": {
      "text/plain": [
       "(121, 56)"
      ]
     },
     "execution_count": 39,
     "metadata": {},
     "output_type": "execute_result"
    }
   ],
   "source": [
    "testb_x_str.shape"
   ]
  },
  {
   "cell_type": "code",
   "execution_count": 40,
   "metadata": {},
   "outputs": [
    {
     "data": {
      "text/plain": [
       "Index(['TOOL_ID_JT', 'TOOL_ID_KT', 'TOOL_ID_LT', 'TOOL_ID_MT', 'TOOL_ID_NT',\n",
       "       'TOOL_ID_OT', 'Tool_AT', 'Tool_BT', 'TOOL_ID (#1)_ET',\n",
       "       'TOOL_ID (#1)_NT', 'TOOL_ID (#2)_CT', 'TOOL_ID (#2)_DT',\n",
       "       'TOOL_ID (#2)_ET', 'TOOL_ID (#3)_E0T', 'TOOL_ID (#3)_N0T',\n",
       "       'Tool (#1)_1018T', 'Tool (#1)_1110T', 'Tool (#1)_1113T',\n",
       "       'Tool (#1)_1245T', 'Tool (#1)_215T', 'Tool (#1)_2823T',\n",
       "       'Tool (#1)_329T', 'Tool (#1)_530T', 'Tool (#2)_AT', 'Tool (#2)_BT',\n",
       "       'Tool (#2)_CT', 'tool_2409T', 'tool_3009T', 'tool_4106T', 'tool_4147T',\n",
       "       'tool (#1)_PT', 'tool (#1)_QT', 'tool (#1)_RT', 'tool (#1)_ST',\n",
       "       'tool (#1)_TT', 'tool (#1)_UT', 'tool (#1)_VT', 'tool (#1)_WT',\n",
       "       'tool (#1)_XT', 'TOOL_BT', 'TOOL_CT', 'TOOL_DT', 'TOOL (#1)_XY1T',\n",
       "       'TOOL (#1)_YX1T', 'Tool (#3)_10T', 'Tool (#3)_11T', 'Tool (#3)_12T',\n",
       "       'Tool (#3)_13T', 'Tool (#3)_14T', 'Tool (#3)_15T', 'Tool (#3)_6T',\n",
       "       'Tool (#3)_7T', 'Tool (#3)_8T', 'Tool (#3)_9T', 'TOOL (#2)_AT',\n",
       "       'TOOL (#2)_BT'],\n",
       "      dtype='object')"
      ]
     },
     "execution_count": 40,
     "metadata": {},
     "output_type": "execute_result"
    }
   ],
   "source": [
    "train_X_str.columns"
   ]
  },
  {
   "cell_type": "code",
   "execution_count": 41,
   "metadata": {},
   "outputs": [
    {
     "data": {
      "text/plain": [
       "Index(['TOOL_ID_JT', 'TOOL_ID_KT', 'TOOL_ID_LT', 'TOOL_ID_MT', 'TOOL_ID_NT',\n",
       "       'TOOL_ID_OT', 'Tool_AT', 'Tool_BT', 'TOOL_ID (#1)_ET',\n",
       "       'TOOL_ID (#1)_NT', 'TOOL_ID (#2)_CT', 'TOOL_ID (#2)_DT',\n",
       "       'TOOL_ID (#3)_E0T', 'TOOL_ID (#3)_N0T', 'Tool (#1)_1018T',\n",
       "       'Tool (#1)_1110T', 'Tool (#1)_1113T', 'Tool (#1)_1245T',\n",
       "       'Tool (#1)_206T', 'Tool (#1)_215T', 'Tool (#1)_2823T', 'Tool (#1)_329T',\n",
       "       'Tool (#1)_530T', 'Tool (#2)_AT', 'Tool (#2)_BT', 'Tool (#2)_CT',\n",
       "       'tool_3009T', 'tool_4106T', 'tool_4147T', 'tool (#1)_PT',\n",
       "       'tool (#1)_QT', 'tool (#1)_RT', 'tool (#1)_ST', 'tool (#1)_UT',\n",
       "       'tool (#1)_VT', 'tool (#1)_WT', 'tool (#1)_XT', 'TOOL_BT', 'TOOL_DT',\n",
       "       'TOOL (#1)_XY1T', 'TOOL (#1)_YX1T', 'Tool (#3)_10T', 'Tool (#3)_11T',\n",
       "       'Tool (#3)_12T', 'Tool (#3)_13T', 'Tool (#3)_14T', 'Tool (#3)_15T',\n",
       "       'Tool (#3)_1T', 'Tool (#3)_6T', 'Tool (#3)_7T', 'Tool (#3)_8T',\n",
       "       'Tool (#3)_9T', 'TOOL (#2)_AT', 'TOOL (#2)_BT'],\n",
       "      dtype='object')"
      ]
     },
     "execution_count": 41,
     "metadata": {},
     "output_type": "execute_result"
    }
   ],
   "source": [
    "testa_X_str.columns"
   ]
  },
  {
   "cell_type": "markdown",
   "metadata": {},
   "source": [
    "##### 特征对齐"
   ]
  },
  {
   "cell_type": "code",
   "execution_count": 42,
   "metadata": {},
   "outputs": [],
   "source": [
    "#删除测试集中 未在 训练集 中出现的特征\n",
    "def deleteFeature(train, test):\n",
    "    train_columns = train.columns\n",
    "    test_columns = test.columns\n",
    "    for item in test_columns:\n",
    "        if item not in train_columns:\n",
    "            test = test.drop(item, axis=1)\n",
    "    return test"
   ]
  },
  {
   "cell_type": "code",
   "execution_count": 43,
   "metadata": {},
   "outputs": [],
   "source": [
    "testa_drop = deleteFeature(train_X_str, testa_X_str)"
   ]
  },
  {
   "cell_type": "code",
   "execution_count": 44,
   "metadata": {},
   "outputs": [],
   "source": [
    "testb_drop = deleteFeature(train_X_str, testb_x_str)"
   ]
  },
  {
   "cell_type": "code",
   "execution_count": 45,
   "metadata": {},
   "outputs": [],
   "source": [
    "def featureAlign(X, X_a, X_b):\n",
    "    X_columns = X.columns.values\n",
    "    for index in range(len(X_columns)):\n",
    "        column = X_columns[index]\n",
    "        if column != X_a.iloc[:,index].name:\n",
    "            X_a.insert(index, column, np.zeros(len(X_a)))\n",
    "        if column != X_b.iloc[:,index].name:\n",
    "            X_b.insert(index, column, np.zeros(len(X_b)))\n",
    "    return X_a, X_b"
   ]
  },
  {
   "cell_type": "code",
   "execution_count": 46,
   "metadata": {},
   "outputs": [],
   "source": [
    "testa_X_str, testb_x_str = featureAlign(train_X_str, testa_drop, testb_drop)"
   ]
  },
  {
   "cell_type": "code",
   "execution_count": 47,
   "metadata": {},
   "outputs": [
    {
     "data": {
      "text/plain": [
       "(500, 56)"
      ]
     },
     "execution_count": 47,
     "metadata": {},
     "output_type": "execute_result"
    }
   ],
   "source": [
    "train_X_str.shape"
   ]
  },
  {
   "cell_type": "code",
   "execution_count": 48,
   "metadata": {},
   "outputs": [
    {
     "data": {
      "text/plain": [
       "(100, 56)"
      ]
     },
     "execution_count": 48,
     "metadata": {},
     "output_type": "execute_result"
    }
   ],
   "source": [
    "testa_X_str.shape"
   ]
  },
  {
   "cell_type": "code",
   "execution_count": 49,
   "metadata": {},
   "outputs": [
    {
     "data": {
      "text/plain": [
       "(121, 56)"
      ]
     },
     "execution_count": 49,
     "metadata": {},
     "output_type": "execute_result"
    }
   ],
   "source": [
    "testb_x_str.shape"
   ]
  },
  {
   "cell_type": "code",
   "execution_count": null,
   "metadata": {},
   "outputs": [],
   "source": []
  },
  {
   "cell_type": "code",
   "execution_count": null,
   "metadata": {},
   "outputs": [],
   "source": []
  },
  {
   "cell_type": "markdown",
   "metadata": {},
   "source": [
    "#### Nan列统计"
   ]
  },
  {
   "cell_type": "code",
   "execution_count": 50,
   "metadata": {},
   "outputs": [],
   "source": [
    "train_X_num['nan_count'] = (np.isnan(train_X_num)).sum(axis=1)"
   ]
  },
  {
   "cell_type": "code",
   "execution_count": 51,
   "metadata": {},
   "outputs": [],
   "source": [
    "def standardNan(x):\n",
    "    if x > 210:\n",
    "        return 3\n",
    "    elif x <= 210 and x > 150:\n",
    "        return 2\n",
    "    else:\n",
    "        return 1"
   ]
  },
  {
   "cell_type": "code",
   "execution_count": 52,
   "metadata": {},
   "outputs": [],
   "source": [
    "train_X_num['nan_standard'] = train_X_num.nan_count.apply(lambda x : standardNan(x))"
   ]
  },
  {
   "cell_type": "code",
   "execution_count": null,
   "metadata": {},
   "outputs": [],
   "source": []
  },
  {
   "cell_type": "code",
   "execution_count": 55,
   "metadata": {},
   "outputs": [],
   "source": [
    "testa_X_num['nan_count'] = (np.isnan(testa_X_num)).sum(axis=1)"
   ]
  },
  {
   "cell_type": "code",
   "execution_count": 56,
   "metadata": {},
   "outputs": [],
   "source": [
    "testa_X_num['nan_standard'] = testa_X_num.nan_count.apply(lambda x : standardNan(x))"
   ]
  },
  {
   "cell_type": "code",
   "execution_count": null,
   "metadata": {},
   "outputs": [],
   "source": []
  },
  {
   "cell_type": "code",
   "execution_count": null,
   "metadata": {},
   "outputs": [],
   "source": []
  },
  {
   "cell_type": "code",
   "execution_count": null,
   "metadata": {},
   "outputs": [],
   "source": []
  },
  {
   "cell_type": "code",
   "execution_count": null,
   "metadata": {},
   "outputs": [],
   "source": []
  },
  {
   "cell_type": "code",
   "execution_count": 101,
   "metadata": {},
   "outputs": [],
   "source": []
  },
  {
   "cell_type": "code",
   "execution_count": null,
   "metadata": {},
   "outputs": [],
   "source": []
  },
  {
   "cell_type": "code",
   "execution_count": null,
   "metadata": {},
   "outputs": [],
   "source": []
  },
  {
   "cell_type": "code",
   "execution_count": null,
   "metadata": {},
   "outputs": [],
   "source": []
  },
  {
   "cell_type": "code",
   "execution_count": null,
   "metadata": {},
   "outputs": [],
   "source": []
  },
  {
   "cell_type": "code",
   "execution_count": 29,
   "metadata": {},
   "outputs": [],
   "source": [
    "train_rank = train_has_nan_count.sort_values(by='nan_count')"
   ]
  },
  {
   "cell_type": "code",
   "execution_count": 30,
   "metadata": {},
   "outputs": [],
   "source": [
    "train_rank = train_rank.reset_index()"
   ]
  },
  {
   "cell_type": "code",
   "execution_count": 31,
   "metadata": {},
   "outputs": [
    {
     "data": {
      "image/png": "[encoded data removed]",
      "text/plain": [
       "<matplotlib.figure.Figure at 0x7f3c50502f28>"
      ]
     },
     "metadata": {},
     "output_type": "display_data"
    }
   ],
   "source": [
    "plt.scatter(train_rank.index, train_rank.Y.values)\n",
    "plt.show()"
   ]
  },
  {
   "cell_type": "code",
   "execution_count": 32,
   "metadata": {},
   "outputs": [
    {
     "data": {
      "image/png": "[encoded data removed]",
      "text/plain": [
       "<matplotlib.figure.Figure at 0x7f3c50315978>"
      ]
     },
     "metadata": {},
     "output_type": "display_data"
    }
   ],
   "source": [
    "plt.scatter(train_rank.index, train_rank.nan_count.values)\n",
    "plt.show()"
   ]
  },
  {
   "cell_type": "code",
   "execution_count": 41,
   "metadata": {},
   "outputs": [],
   "source": [
    "train_300_150 = train_rank[(train_rank.nan_count < 300).values & (train_rank.nan_count >150).values]"
   ]
  },
  {
   "cell_type": "code",
   "execution_count": 42,
   "metadata": {},
   "outputs": [
    {
     "data": {
      "image/png": "[encoded data removed]",
      "text/plain": [
       "<matplotlib.figure.Figure at 0x7fda5c248a90>"
      ]
     },
     "metadata": {},
     "output_type": "display_data"
    }
   ],
   "source": [
    "plt.scatter(train_300_150.index, train_300_150.nan_count.values)\n",
    "plt.show()"
   ]
  },
  {
   "cell_type": "code",
   "execution_count": 43,
   "metadata": {},
   "outputs": [],
   "source": [
    "train_150 = train_rank[train_rank.nan_count < 150]"
   ]
  },
  {
   "cell_type": "code",
   "execution_count": 44,
   "metadata": {},
   "outputs": [
    {
     "data": {
      "image/png": "[encoded data removed]",
      "text/plain": [
       "<matplotlib.figure.Figure at 0x7fbaae6ad8d0>"
      ]
     },
     "metadata": {},
     "output_type": "display_data"
    }
   ],
   "source": [
    "plt.scatter(train_150.index, train_150.nan_count.values)\n",
    "plt.show()"
   ]
  },
  {
   "cell_type": "code",
   "execution_count": null,
   "metadata": {},
   "outputs": [],
   "source": []
  },
  {
   "cell_type": "code",
   "execution_count": 45,
   "metadata": {},
   "outputs": [
    {
     "name": "stderr",
     "output_type": "stream",
     "text": [
      "/usr/local/lib/python3.5/dist-packages/ipykernel_launcher.py:1: FutureWarning: by argument to sort_index is deprecated, please use .sort_values(by=...)\n",
      "  \"\"\"Entry point for launching an IPython kernel.\n"
     ]
    }
   ],
   "source": [
    "X_a_rank = X_a.sort_index(by='nan_count')"
   ]
  },
  {
   "cell_type": "code",
   "execution_count": 46,
   "metadata": {},
   "outputs": [],
   "source": [
    "X_a_rank = X_a_rank.reset_index()"
   ]
  },
  {
   "cell_type": "code",
   "execution_count": 47,
   "metadata": {},
   "outputs": [
    {
     "data": {
      "image/png": "[encoded data removed]",
      "text/plain": [
       "<matplotlib.figure.Figure at 0x7fbaae6a9cc0>"
      ]
     },
     "metadata": {},
     "output_type": "display_data"
    }
   ],
   "source": [
    "plt.scatter(X_a_rank.index, X_a_rank.nan_count.values)\n",
    "plt.show()"
   ]
  },
  {
   "cell_type": "code",
   "execution_count": 48,
   "metadata": {},
   "outputs": [],
   "source": [
    "X_a_300_150 = X_a_rank[(X_a_rank.nan_count >150).values & (X_a_rank.nan_count <300)]"
   ]
  },
  {
   "cell_type": "code",
   "execution_count": 49,
   "metadata": {},
   "outputs": [
    {
     "data": {
      "image/png": "[encoded data removed]",
      "text/plain": [
       "<matplotlib.figure.Figure at 0x7fbaae6a76a0>"
      ]
     },
     "metadata": {},
     "output_type": "display_data"
    }
   ],
   "source": [
    "plt.scatter(X_a_300_150.index, X_a_300_150.nan_count.values)\n",
    "plt.show()"
   ]
  },
  {
   "cell_type": "code",
   "execution_count": 50,
   "metadata": {},
   "outputs": [],
   "source": [
    "X_a_100 = X_a_rank[X_a_rank.nan_count <150]"
   ]
  },
  {
   "cell_type": "code",
   "execution_count": 51,
   "metadata": {},
   "outputs": [
    {
     "data": {
      "image/png": "[encoded data removed]",
      "text/plain": [
       "<matplotlib.figure.Figure at 0x7fbaaf6d5d30>"
      ]
     },
     "metadata": {},
     "output_type": "display_data"
    }
   ],
   "source": [
    "plt.scatter(X_a_100.index, X_a_100.nan_count.values)\n",
    "plt.show()"
   ]
  },
  {
   "cell_type": "code",
   "execution_count": 52,
   "metadata": {},
   "outputs": [
    {
     "name": "stderr",
     "output_type": "stream",
     "text": [
      "/usr/local/lib/python3.5/dist-packages/ipykernel_launcher.py:1: FutureWarning: by argument to sort_index is deprecated, please use .sort_values(by=...)\n",
      "  \"\"\"Entry point for launching an IPython kernel.\n"
     ]
    }
   ],
   "source": [
    "X_b_rank = X_b.sort_index(by='nan_count')"
   ]
  },
  {
   "cell_type": "code",
   "execution_count": 53,
   "metadata": {},
   "outputs": [],
   "source": [
    "X_b_rank = X_b_rank.reset_index()"
   ]
  },
  {
   "cell_type": "code",
   "execution_count": 54,
   "metadata": {},
   "outputs": [
    {
     "data": {
      "image/png": "[encoded data removed]",
      "text/plain": [
       "<matplotlib.figure.Figure at 0x7fbaae71fcf8>"
      ]
     },
     "metadata": {},
     "output_type": "display_data"
    }
   ],
   "source": [
    "plt.scatter(X_b_rank.index, X_b_rank.nan_count.values)\n",
    "plt.show()"
   ]
  },
  {
   "cell_type": "code",
   "execution_count": 55,
   "metadata": {},
   "outputs": [],
   "source": [
    "X_b_300_150 = X_b_rank[(X_b_rank.nan_count <300).values & (X_b_rank.nan_count > 150).values]"
   ]
  },
  {
   "cell_type": "code",
   "execution_count": 56,
   "metadata": {},
   "outputs": [
    {
     "data": {
      "image/png": "[encoded data removed]",
      "text/plain": [
       "<matplotlib.figure.Figure at 0x7fbaaf7cd550>"
      ]
     },
     "metadata": {},
     "output_type": "display_data"
    }
   ],
   "source": [
    "plt.scatter(X_b_300_150.index, X_b_300_150.nan_count.values)\n",
    "plt.show()"
   ]
  },
  {
   "cell_type": "code",
   "execution_count": null,
   "metadata": {},
   "outputs": [],
   "source": []
  },
  {
   "cell_type": "code",
   "execution_count": null,
   "metadata": {},
   "outputs": [],
   "source": []
  },
  {
   "cell_type": "markdown",
   "metadata": {},
   "source": [
    "#### 对含Nan列进行分类"
   ]
  },
  {
   "cell_type": "code",
   "execution_count": null,
   "metadata": {},
   "outputs": [],
   "source": []
  },
  {
   "cell_type": "code",
   "execution_count": null,
   "metadata": {},
   "outputs": [],
   "source": []
  },
  {
   "cell_type": "markdown",
   "metadata": {},
   "source": [
    "#### 直接删除含Nan列"
   ]
  },
  {
   "cell_type": "code",
   "execution_count": 57,
   "metadata": {},
   "outputs": [],
   "source": [
    "def get_nan_indexs(data, indexs = []):\n",
    "    for index in data:\n",
    "        if index not in indexs:\n",
    "            indexs.append(index)\n",
    "    return indexs"
   ]
  },
  {
   "cell_type": "code",
   "execution_count": 58,
   "metadata": {},
   "outputs": [],
   "source": [
    "train_Nan_columns = np.where(np.isnan(train_X_num))[1]"
   ]
  },
  {
   "cell_type": "code",
   "execution_count": 59,
   "metadata": {},
   "outputs": [],
   "source": [
    "X_a_Nan_columns = np.where(np.isnan(testa_X_num))[1]"
   ]
  },
  {
   "cell_type": "code",
   "execution_count": 60,
   "metadata": {},
   "outputs": [],
   "source": [
    "X_b_Nan_columns = np.where(np.isnan(testb_X_num))[1]"
   ]
  },
  {
   "cell_type": "code",
   "execution_count": 61,
   "metadata": {},
   "outputs": [],
   "source": [
    "def mix(X, X_a, X_b):\n",
    "    X_indexs = get_nan_indexs(X)\n",
    "    X_a_indexs = get_nan_indexs(X_a, indexs=X_indexs)\n",
    "    return get_nan_indexs(X_b, indexs=X_a_indexs)"
   ]
  },
  {
   "cell_type": "code",
   "execution_count": 62,
   "metadata": {},
   "outputs": [],
   "source": [
    "all_nan_columns = mix(train_Nan_columns, X_a_Nan_columns, X_b_Nan_columns)"
   ]
  },
  {
   "cell_type": "code",
   "execution_count": 63,
   "metadata": {},
   "outputs": [
    {
     "data": {
      "text/plain": [
       "2716"
      ]
     },
     "execution_count": 63,
     "metadata": {},
     "output_type": "execute_result"
    }
   ],
   "source": [
    "len(all_nan_columns)"
   ]
  },
  {
   "cell_type": "code",
   "execution_count": null,
   "metadata": {},
   "outputs": [],
   "source": []
  },
  {
   "cell_type": "code",
   "execution_count": 64,
   "metadata": {},
   "outputs": [],
   "source": [
    "def isUnique(array):\n",
    "    new_array = []\n",
    "    for item in array:\n",
    "        if item not in new_array:\n",
    "            new_array.append(item)\n",
    "        else:\n",
    "            return False\n",
    "    return True"
   ]
  },
  {
   "cell_type": "code",
   "execution_count": 65,
   "metadata": {},
   "outputs": [
    {
     "data": {
      "text/plain": [
       "True"
      ]
     },
     "execution_count": 65,
     "metadata": {},
     "output_type": "execute_result"
    }
   ],
   "source": [
    "isUnique(all_nan_columns)"
   ]
  },
  {
   "cell_type": "code",
   "execution_count": 66,
   "metadata": {},
   "outputs": [],
   "source": [
    "train_X_num_non_nan = train_X_num.drop(train_X_num.columns[all_nan_columns], axis=1)"
   ]
  },
  {
   "cell_type": "code",
   "execution_count": 67,
   "metadata": {},
   "outputs": [],
   "source": [
    "testa_X_num_non_nan = testa_X_num.drop(testa_X_num.columns[all_nan_columns], axis=1)"
   ]
  },
  {
   "cell_type": "code",
   "execution_count": 68,
   "metadata": {},
   "outputs": [],
   "source": [
    "testb_X_num_non_nan = testb_X_num.drop(testb_X_num.columns[all_nan_columns], axis=1)"
   ]
  },
  {
   "cell_type": "code",
   "execution_count": 69,
   "metadata": {},
   "outputs": [
    {
     "data": {
      "text/plain": [
       "(500, 5200)"
      ]
     },
     "execution_count": 69,
     "metadata": {},
     "output_type": "execute_result"
    }
   ],
   "source": [
    "train_X_num_non_nan.shape"
   ]
  },
  {
   "cell_type": "code",
   "execution_count": 70,
   "metadata": {},
   "outputs": [
    {
     "data": {
      "text/plain": [
       "(100, 5200)"
      ]
     },
     "execution_count": 70,
     "metadata": {},
     "output_type": "execute_result"
    }
   ],
   "source": [
    "testa_X_num_non_nan.shape"
   ]
  },
  {
   "cell_type": "code",
   "execution_count": 71,
   "metadata": {},
   "outputs": [
    {
     "data": {
      "text/plain": [
       "(121, 5198)"
      ]
     },
     "execution_count": 71,
     "metadata": {},
     "output_type": "execute_result"
    }
   ],
   "source": [
    "testb_X_num_non_nan.shape"
   ]
  },
  {
   "cell_type": "markdown",
   "metadata": {},
   "source": [
    "#### 生成验证集"
   ]
  },
  {
   "cell_type": "code",
   "execution_count": 72,
   "metadata": {},
   "outputs": [],
   "source": [
    "def get_nan_columns(data):\n",
    "    train_nan_columns = np.where(np.isnan(data))\n",
    "    nan_columns = []\n",
    "    for index in train_nan_columns[1]:\n",
    "        if index not in nan_columns:\n",
    "            nan_columns.append(index)\n",
    "    return nan_columns"
   ]
  },
  {
   "cell_type": "code",
   "execution_count": 73,
   "metadata": {},
   "outputs": [
    {
     "data": {
      "text/plain": [
       "0"
      ]
     },
     "execution_count": 73,
     "metadata": {},
     "output_type": "execute_result"
    }
   ],
   "source": [
    "len(get_nan_columns(testa_X_num_non_nan))"
   ]
  },
  {
   "cell_type": "code",
   "execution_count": null,
   "metadata": {},
   "outputs": [],
   "source": []
  },
  {
   "cell_type": "code",
   "execution_count": 74,
   "metadata": {},
   "outputs": [],
   "source": [
    "from sklearn.preprocessing import StandardScaler"
   ]
  },
  {
   "cell_type": "code",
   "execution_count": 75,
   "metadata": {},
   "outputs": [],
   "source": [
    "train_X_num_str = pd.concat([train_X_num_non_nan, train_X_str], axis=1)"
   ]
  },
  {
   "cell_type": "code",
   "execution_count": 76,
   "metadata": {},
   "outputs": [],
   "source": [
    "train_X_num_str_Y = pd.concat([train_X_num_str, train_Y],axis=1)"
   ]
  },
  {
   "cell_type": "code",
   "execution_count": null,
   "metadata": {},
   "outputs": [],
   "source": []
  },
  {
   "cell_type": "code",
   "execution_count": null,
   "metadata": {},
   "outputs": [],
   "source": []
  },
  {
   "cell_type": "code",
   "execution_count": null,
   "metadata": {},
   "outputs": [],
   "source": []
  },
  {
   "cell_type": "code",
   "execution_count": 74,
   "metadata": {},
   "outputs": [],
   "source": [
    "ss = StandardScaler()"
   ]
  },
  {
   "cell_type": "code",
   "execution_count": 75,
   "metadata": {},
   "outputs": [],
   "source": [
    "train_X_num_str_standard = ss.fit_transform(train_X_num_str)"
   ]
  },
  {
   "cell_type": "code",
   "execution_count": null,
   "metadata": {},
   "outputs": [],
   "source": []
  },
  {
   "cell_type": "code",
   "execution_count": 79,
   "metadata": {},
   "outputs": [],
   "source": []
  },
  {
   "cell_type": "code",
   "execution_count": null,
   "metadata": {},
   "outputs": [],
   "source": []
  },
  {
   "cell_type": "code",
   "execution_count": null,
   "metadata": {},
   "outputs": [],
   "source": []
  },
  {
   "cell_type": "code",
   "execution_count": null,
   "metadata": {},
   "outputs": [],
   "source": []
  },
  {
   "cell_type": "code",
   "execution_count": 77,
   "metadata": {},
   "outputs": [
    {
     "name": "stderr",
     "output_type": "stream",
     "text": [
      "/usr/local/lib/python3.5/dist-packages/sklearn/cross_validation.py:41: DeprecationWarning: This module was deprecated in version 0.18 in favor of the model_selection module into which all the refactored classes and functions are moved. Also note that the interface of the new CV iterators are different from that of this module. This module will be removed in 0.20.\n",
      "  \"This module will be removed in 0.20.\", DeprecationWarning)\n"
     ]
    }
   ],
   "source": [
    "from sklearn.cross_validation import train_test_split"
   ]
  },
  {
   "cell_type": "code",
   "execution_count": 593,
   "metadata": {},
   "outputs": [],
   "source": [
    "X_train, X_valid, y_train, y_valid = train_test_split(train_X_num_str_Y_3_2_2_6.drop(['nan_count', 'Y'], axis=1).values, train_X_num_str_Y_3_2_2_6.Y.values, test_size=0.3, random_state=33)"
   ]
  },
  {
   "cell_type": "code",
   "execution_count": null,
   "metadata": {},
   "outputs": [],
   "source": []
  },
  {
   "cell_type": "code",
   "execution_count": null,
   "metadata": {},
   "outputs": [],
   "source": [
    "train_X_num_str_Y.nan_standard"
   ]
  },
  {
   "cell_type": "code",
   "execution_count": 78,
   "metadata": {},
   "outputs": [],
   "source": [
    "importanct_feature = train_X_num_str_Y.drop(['Y'], axis=1).columns"
   ]
  },
  {
   "cell_type": "code",
   "execution_count": 119,
   "metadata": {},
   "outputs": [
    {
     "data": {
      "text/plain": [
       "74"
      ]
     },
     "execution_count": 119,
     "metadata": {},
     "output_type": "execute_result"
    }
   ],
   "source": [
    "len(importanct_feature)"
   ]
  },
  {
   "cell_type": "code",
   "execution_count": 385,
   "metadata": {},
   "outputs": [],
   "source": [
    "train_X_num_str_Y_1 = train_X_num_str_Y[train_X_num_str_Y.nan_standard == 1]"
   ]
  },
  {
   "cell_type": "code",
   "execution_count": 386,
   "metadata": {},
   "outputs": [],
   "source": [
    "X_data_1 = train_X_num_str_Y_1.drop(['nan_standard', 'Y'], axis=1)\n",
    "# X_data_1 = train_X_num_str_Y_1.loc[:, importanct_feature]\n",
    "y_data_1 = train_X_num_str_Y_1.Y"
   ]
  },
  {
   "cell_type": "code",
   "execution_count": 387,
   "metadata": {},
   "outputs": [],
   "source": [
    "X_train_1, X_valid_1, y_train_1, y_valid_1 = train_test_split(X_data_1.values, y_data_1.values, test_size=0.4, random_state=33)"
   ]
  },
  {
   "cell_type": "code",
   "execution_count": 388,
   "metadata": {},
   "outputs": [],
   "source": [
    "train_X_num_str_Y_2 = train_X_num_str_Y[train_X_num_str_Y.nan_standard == 2]"
   ]
  },
  {
   "cell_type": "code",
   "execution_count": 389,
   "metadata": {},
   "outputs": [],
   "source": [
    "X_data_2 = train_X_num_str_Y_2.drop(['nan_standard', 'Y'], axis=1)\n",
    "# X_data_2 = train_X_num_str_Y_2.loc[:, importanct_feature]\n",
    "y_data_2 = train_X_num_str_Y_2.Y"
   ]
  },
  {
   "cell_type": "code",
   "execution_count": 390,
   "metadata": {},
   "outputs": [],
   "source": [
    "X_train_2, X_valid_2, y_train_2, y_valid_2 = train_test_split(X_data_2.values, y_data_2.values, test_size=0.4, random_state=33)"
   ]
  },
  {
   "cell_type": "code",
   "execution_count": 391,
   "metadata": {},
   "outputs": [],
   "source": [
    "train_X_num_str_Y_3 = train_X_num_str_Y[train_X_num_str_Y.nan_standard == 3]"
   ]
  },
  {
   "cell_type": "code",
   "execution_count": 392,
   "metadata": {},
   "outputs": [],
   "source": [
    "X_data_3 = train_X_num_str_Y_3.drop(['nan_standard', 'Y'], axis=1)\n",
    "# X_data_3 = train_X_num_str_Y_3.loc[:, importanct_feature]\n",
    "y_data_3 = train_X_num_str_Y_3.Y"
   ]
  },
  {
   "cell_type": "code",
   "execution_count": 393,
   "metadata": {},
   "outputs": [],
   "source": [
    "X_train_3, X_valid_3, y_train_3, y_valid_3 = train_test_split(X_data_3.values, y_data_3.values, test_size=0.25, random_state=33)"
   ]
  },
  {
   "cell_type": "code",
   "execution_count": 394,
   "metadata": {},
   "outputs": [
    {
     "data": {
      "text/plain": [
       "(56, 5255)"
      ]
     },
     "execution_count": 394,
     "metadata": {},
     "output_type": "execute_result"
    }
   ],
   "source": [
    "X_data_3.shape"
   ]
  },
  {
   "cell_type": "code",
   "execution_count": 395,
   "metadata": {},
   "outputs": [],
   "source": [
    "###"
   ]
  },
  {
   "cell_type": "code",
   "execution_count": null,
   "metadata": {},
   "outputs": [],
   "source": []
  },
  {
   "cell_type": "code",
   "execution_count": 396,
   "metadata": {},
   "outputs": [],
   "source": [
    "X_train = list(X_train_1) + list(X_train_2) + list(X_train_3) \n",
    "y_train = list(y_train_1) + list(y_train_2) + list(y_train_3)  "
   ]
  },
  {
   "cell_type": "code",
   "execution_count": 397,
   "metadata": {},
   "outputs": [],
   "source": [
    "X_valid = list(X_valid_1) + list(X_valid_2) + list(X_valid_3)\n",
    "y_valid = list(y_valid_1) + list(y_valid_2) + list(y_valid_3)"
   ]
  },
  {
   "cell_type": "code",
   "execution_count": null,
   "metadata": {},
   "outputs": [],
   "source": []
  },
  {
   "cell_type": "code",
   "execution_count": 398,
   "metadata": {},
   "outputs": [],
   "source": [
    "X_train_all = list(X_train_1) + list(X_train_2) + list(X_train_3) + list(X_valid_1) + list(X_valid_2) + list(X_valid_3)"
   ]
  },
  {
   "cell_type": "code",
   "execution_count": 399,
   "metadata": {},
   "outputs": [],
   "source": [
    "y_train_all = list(y_train_1) + list(y_train_2) + list(y_train_3) + list(y_valid_1) + list(y_valid_2) + list(y_valid_3)"
   ]
  },
  {
   "cell_type": "code",
   "execution_count": null,
   "metadata": {},
   "outputs": [],
   "source": []
  },
  {
   "cell_type": "code",
   "execution_count": null,
   "metadata": {},
   "outputs": [],
   "source": []
  },
  {
   "cell_type": "code",
   "execution_count": 400,
   "metadata": {},
   "outputs": [],
   "source": [
    "from sklearn.cross_validation import cross_val_score\n",
    "from sklearn.cross_validation import cross_val_predict\n",
    "from sklearn.metrics import mean_squared_error"
   ]
  },
  {
   "cell_type": "markdown",
   "metadata": {},
   "source": [
    "#### 训练 lightGBM 模型"
   ]
  },
  {
   "cell_type": "code",
   "execution_count": 401,
   "metadata": {},
   "outputs": [],
   "source": [
    "gbm = lgm.LGBMRegressor(objective='regression',\n",
    "                         boosting_type= 'gbdt',\n",
    "                         metric = 'l2',\n",
    "                         max_depth = 8,\n",
    "                         min_sum_hessian_in_leaf = 5.0,\n",
    "                         tree_learner = 'voting',\n",
    "                         num_trees = 10000,\n",
    "                         feature_fraction = 0.9,\n",
    "                         bagging_freq = 5,\n",
    "                         bagging_fraction = 0.8,\n",
    "                         min_data_in_leaf = 100,\n",
    "                         learning_rate = 0.05,\n",
    "                         n_estimators = 200,\n",
    "                         metric_freq = 1)"
   ]
  },
  {
   "cell_type": "code",
   "execution_count": 402,
   "metadata": {},
   "outputs": [
    {
     "name": "stderr",
     "output_type": "stream",
     "text": [
      "/usr/local/lib/python3.5/dist-packages/lightgbm/engine.py:99: UserWarning: Found `num_trees` in params. Will use it instead of argument\n",
      "  warnings.warn(\"Found `{}` in params. Will use it instead of argument\".format(alias))\n"
     ]
    },
    {
     "name": "stdout",
     "output_type": "stream",
     "text": [
      "[1]\tvalid_0's l2: 0.0394629\n",
      "Training until validation scores don't improve for 200 rounds.\n",
      "[2]\tvalid_0's l2: 0.0391085\n",
      "[3]\tvalid_0's l2: 0.0391062\n",
      "[4]\tvalid_0's l2: 0.0387928\n",
      "[5]\tvalid_0's l2: 0.0385923\n",
      "[6]\tvalid_0's l2: 0.0384162\n",
      "[7]\tvalid_0's l2: 0.0383355\n",
      "[8]\tvalid_0's l2: 0.0382105\n",
      "[9]\tvalid_0's l2: 0.038169\n",
      "[10]\tvalid_0's l2: 0.038085\n",
      "[11]\tvalid_0's l2: 0.0380922\n",
      "[12]\tvalid_0's l2: 0.0381407\n",
      "[13]\tvalid_0's l2: 0.0381645\n",
      "[14]\tvalid_0's l2: 0.0382268\n",
      "[15]\tvalid_0's l2: 0.038028\n",
      "[16]\tvalid_0's l2: 0.0377765\n",
      "[17]\tvalid_0's l2: 0.0375529\n",
      "[18]\tvalid_0's l2: 0.0373855\n",
      "[19]\tvalid_0's l2: 0.0371926\n",
      "[20]\tvalid_0's l2: 0.0371451\n",
      "[21]\tvalid_0's l2: 0.0369116\n",
      "[22]\tvalid_0's l2: 0.0369395\n",
      "[23]\tvalid_0's l2: 0.0366999\n",
      "[24]\tvalid_0's l2: 0.0365278\n",
      "[25]\tvalid_0's l2: 0.0365663\n",
      "[26]\tvalid_0's l2: 0.0364778\n",
      "[27]\tvalid_0's l2: 0.0364064\n",
      "[28]\tvalid_0's l2: 0.0364304\n",
      "[29]\tvalid_0's l2: 0.0363745\n",
      "[30]\tvalid_0's l2: 0.0363642\n",
      "[31]\tvalid_0's l2: 0.0364423\n",
      "[32]\tvalid_0's l2: 0.0364821\n",
      "[33]\tvalid_0's l2: 0.0365686\n",
      "[34]\tvalid_0's l2: 0.0365267\n",
      "[35]\tvalid_0's l2: 0.0365731\n",
      "[36]\tvalid_0's l2: 0.0364374\n",
      "[37]\tvalid_0's l2: 0.0364679\n",
      "[38]\tvalid_0's l2: 0.0363497\n",
      "[39]\tvalid_0's l2: 0.0364058\n",
      "[40]\tvalid_0's l2: 0.0364687\n",
      "[41]\tvalid_0's l2: 0.0363334\n",
      "[42]\tvalid_0's l2: 0.0362264\n",
      "[43]\tvalid_0's l2: 0.0361269\n",
      "[44]\tvalid_0's l2: 0.0361527\n",
      "[45]\tvalid_0's l2: 0.0360514\n",
      "[46]\tvalid_0's l2: 0.0358589\n",
      "[47]\tvalid_0's l2: 0.0358492\n",
      "[48]\tvalid_0's l2: 0.0356745\n",
      "[49]\tvalid_0's l2: 0.0356726\n",
      "[50]\tvalid_0's l2: 0.0356075\n",
      "[51]\tvalid_0's l2: 0.0355085\n",
      "[52]\tvalid_0's l2: 0.0354237\n",
      "[53]\tvalid_0's l2: 0.0353515\n",
      "[54]\tvalid_0's l2: 0.0352628\n",
      "[55]\tvalid_0's l2: 0.0352056\n",
      "[56]\tvalid_0's l2: 0.035173\n",
      "[57]\tvalid_0's l2: 0.0351504\n",
      "[58]\tvalid_0's l2: 0.0350335\n",
      "[59]\tvalid_0's l2: 0.035021\n",
      "[60]\tvalid_0's l2: 0.0350159\n",
      "[61]\tvalid_0's l2: 0.0350834\n",
      "[62]\tvalid_0's l2: 0.0351125\n",
      "[63]\tvalid_0's l2: 0.0351081\n",
      "[64]\tvalid_0's l2: 0.0351578\n",
      "[65]\tvalid_0's l2: 0.0351458\n",
      "[66]\tvalid_0's l2: 0.0349847\n",
      "[67]\tvalid_0's l2: 0.0348395\n",
      "[68]\tvalid_0's l2: 0.0347086\n",
      "[69]\tvalid_0's l2: 0.0347335\n",
      "[70]\tvalid_0's l2: 0.0348089\n",
      "[71]\tvalid_0's l2: 0.0348158\n",
      "[72]\tvalid_0's l2: 0.0348308\n",
      "[73]\tvalid_0's l2: 0.03488\n",
      "[74]\tvalid_0's l2: 0.0349511\n",
      "[75]\tvalid_0's l2: 0.0349741\n",
      "[76]\tvalid_0's l2: 0.0348616\n",
      "[77]\tvalid_0's l2: 0.0348734\n",
      "[78]\tvalid_0's l2: 0.0349184\n",
      "[79]\tvalid_0's l2: 0.0348165\n",
      "[80]\tvalid_0's l2: 0.0347363\n",
      "[81]\tvalid_0's l2: 0.034764\n",
      "[82]\tvalid_0's l2: 0.0347825\n",
      "[83]\tvalid_0's l2: 0.0347587\n",
      "[84]\tvalid_0's l2: 0.0347842\n",
      "[85]\tvalid_0's l2: 0.0348701\n",
      "[86]\tvalid_0's l2: 0.0348576\n",
      "[87]\tvalid_0's l2: 0.0348009\n",
      "[88]\tvalid_0's l2: 0.0348024\n",
      "[89]\tvalid_0's l2: 0.0347372\n",
      "[90]\tvalid_0's l2: 0.0346982\n",
      "[91]\tvalid_0's l2: 0.0346832\n",
      "[92]\tvalid_0's l2: 0.0346763\n",
      "[93]\tvalid_0's l2: 0.0346763\n",
      "[94]\tvalid_0's l2: 0.034768\n",
      "[95]\tvalid_0's l2: 0.0347746\n",
      "[96]\tvalid_0's l2: 0.0347917\n",
      "[97]\tvalid_0's l2: 0.0346904\n",
      "[98]\tvalid_0's l2: 0.0346643\n",
      "[99]\tvalid_0's l2: 0.0346874\n",
      "[100]\tvalid_0's l2: 0.0345968\n",
      "[101]\tvalid_0's l2: 0.0345898\n",
      "[102]\tvalid_0's l2: 0.0345506\n",
      "[103]\tvalid_0's l2: 0.0345481\n",
      "[104]\tvalid_0's l2: 0.0345347\n",
      "[105]\tvalid_0's l2: 0.0345373\n",
      "[106]\tvalid_0's l2: 0.0344478\n",
      "[107]\tvalid_0's l2: 0.0343681\n",
      "[108]\tvalid_0's l2: 0.034355\n",
      "[109]\tvalid_0's l2: 0.034284\n",
      "[110]\tvalid_0's l2: 0.0343182\n",
      "[111]\tvalid_0's l2: 0.0343383\n",
      "[112]\tvalid_0's l2: 0.0343524\n",
      "[113]\tvalid_0's l2: 0.0343769\n",
      "[114]\tvalid_0's l2: 0.0343902\n",
      "[115]\tvalid_0's l2: 0.0343817\n",
      "[116]\tvalid_0's l2: 0.0343137\n",
      "[117]\tvalid_0's l2: 0.0343375\n",
      "[118]\tvalid_0's l2: 0.0342783\n",
      "[119]\tvalid_0's l2: 0.0343057\n",
      "[120]\tvalid_0's l2: 0.0342544\n",
      "[121]\tvalid_0's l2: 0.034253\n",
      "[122]\tvalid_0's l2: 0.0342578\n",
      "[123]\tvalid_0's l2: 0.0343486\n",
      "[124]\tvalid_0's l2: 0.0343577\n",
      "[125]\tvalid_0's l2: 0.0343085\n",
      "[126]\tvalid_0's l2: 0.0343311\n",
      "[127]\tvalid_0's l2: 0.0343575\n",
      "[128]\tvalid_0's l2: 0.0343299\n",
      "[129]\tvalid_0's l2: 0.0344117\n",
      "[130]\tvalid_0's l2: 0.0343502\n",
      "[131]\tvalid_0's l2: 0.0343653\n",
      "[132]\tvalid_0's l2: 0.0343845\n",
      "[133]\tvalid_0's l2: 0.0344072\n",
      "[134]\tvalid_0's l2: 0.0343567\n",
      "[135]\tvalid_0's l2: 0.0343818\n",
      "[136]\tvalid_0's l2: 0.0343624\n",
      "[137]\tvalid_0's l2: 0.0343488\n",
      "[138]\tvalid_0's l2: 0.0343403\n",
      "[139]\tvalid_0's l2: 0.0343339\n",
      "[140]\tvalid_0's l2: 0.0342892\n",
      "[141]\tvalid_0's l2: 0.034268\n",
      "[142]\tvalid_0's l2: 0.0342525\n",
      "[143]\tvalid_0's l2: 0.0342422\n",
      "[144]\tvalid_0's l2: 0.0342362\n",
      "[145]\tvalid_0's l2: 0.0342049\n",
      "[146]\tvalid_0's l2: 0.0341884\n",
      "[147]\tvalid_0's l2: 0.0341818\n",
      "[148]\tvalid_0's l2: 0.0341701\n",
      "[149]\tvalid_0's l2: 0.0342258\n",
      "[150]\tvalid_0's l2: 0.034218\n",
      "[151]\tvalid_0's l2: 0.0342498\n",
      "[152]\tvalid_0's l2: 0.0342853\n",
      "[153]\tvalid_0's l2: 0.0343238\n",
      "[154]\tvalid_0's l2: 0.0343647\n",
      "[155]\tvalid_0's l2: 0.0343501\n",
      "[156]\tvalid_0's l2: 0.0342802\n",
      "[157]\tvalid_0's l2: 0.0342173\n",
      "[158]\tvalid_0's l2: 0.0342113\n",
      "[159]\tvalid_0's l2: 0.0342458\n",
      "[160]\tvalid_0's l2: 0.0342069\n",
      "[161]\tvalid_0's l2: 0.034219\n",
      "[162]\tvalid_0's l2: 0.0342063\n",
      "[163]\tvalid_0's l2: 0.0341839\n",
      "[164]\tvalid_0's l2: 0.0341668\n",
      "[165]\tvalid_0's l2: 0.0341421\n",
      "[166]\tvalid_0's l2: 0.0341144\n",
      "[167]\tvalid_0's l2: 0.0341034\n",
      "[168]\tvalid_0's l2: 0.0341308\n",
      "[169]\tvalid_0's l2: 0.0341031\n",
      "[170]\tvalid_0's l2: 0.0340961\n",
      "[171]\tvalid_0's l2: 0.0340405\n",
      "[172]\tvalid_0's l2: 0.0339918\n",
      "[173]\tvalid_0's l2: 0.0339492\n",
      "[174]\tvalid_0's l2: 0.033912\n",
      "[175]\tvalid_0's l2: 0.0339748\n",
      "[176]\tvalid_0's l2: 0.0339706\n",
      "[177]\tvalid_0's l2: 0.033995\n",
      "[178]\tvalid_0's l2: 0.0339973\n",
      "[179]\tvalid_0's l2: 0.0340016\n",
      "[180]\tvalid_0's l2: 0.0340298\n",
      "[181]\tvalid_0's l2: 0.0339878\n",
      "[182]\tvalid_0's l2: 0.0340035\n",
      "[183]\tvalid_0's l2: 0.034029\n",
      "[184]\tvalid_0's l2: 0.0339788\n",
      "[185]\tvalid_0's l2: 0.0339431\n",
      "[186]\tvalid_0's l2: 0.0339359\n",
      "[187]\tvalid_0's l2: 0.0339332\n",
      "[188]\tvalid_0's l2: 0.0339343\n",
      "[189]\tvalid_0's l2: 0.0339265\n",
      "[190]\tvalid_0's l2: 0.0339308\n",
      "[191]\tvalid_0's l2: 0.0339721\n",
      "[192]\tvalid_0's l2: 0.0340146\n",
      "[193]\tvalid_0's l2: 0.0339921\n",
      "[194]\tvalid_0's l2: 0.0339849\n",
      "[195]\tvalid_0's l2: 0.034028\n",
      "[196]\tvalid_0's l2: 0.0340283\n",
      "[197]\tvalid_0's l2: 0.0340326\n",
      "[198]\tvalid_0's l2: 0.0340727\n",
      "[199]\tvalid_0's l2: 0.0340807\n",
      "[200]\tvalid_0's l2: 0.0341223\n",
      "[201]\tvalid_0's l2: 0.0342368\n",
      "[202]\tvalid_0's l2: 0.03435\n",
      "[203]\tvalid_0's l2: 0.0343417\n",
      "[204]\tvalid_0's l2: 0.0344536\n",
      "[205]\tvalid_0's l2: 0.0344499\n",
      "[206]\tvalid_0's l2: 0.0344373\n",
      "[207]\tvalid_0's l2: 0.0344435\n",
      "[208]\tvalid_0's l2: 0.0344534\n",
      "[209]\tvalid_0's l2: 0.0344445\n",
      "[210]\tvalid_0's l2: 0.0344473\n",
      "[211]\tvalid_0's l2: 0.0344805\n",
      "[212]\tvalid_0's l2: 0.0345156\n",
      "[213]\tvalid_0's l2: 0.0344956\n",
      "[214]\tvalid_0's l2: 0.0345319\n",
      "[215]\tvalid_0's l2: 0.0345372\n",
      "[216]\tvalid_0's l2: 0.0345508\n",
      "[217]\tvalid_0's l2: 0.0345906\n",
      "[218]\tvalid_0's l2: 0.0345847\n",
      "[219]\tvalid_0's l2: 0.0346036\n",
      "[220]\tvalid_0's l2: 0.0346019\n",
      "[221]\tvalid_0's l2: 0.0345536\n",
      "[222]\tvalid_0's l2: 0.0345133\n",
      "[223]\tvalid_0's l2: 0.0344799\n",
      "[224]\tvalid_0's l2: 0.0344526\n",
      "[225]\tvalid_0's l2: 0.0345277\n",
      "[226]\tvalid_0's l2: 0.0345408\n",
      "[227]\tvalid_0's l2: 0.0345568\n",
      "[228]\tvalid_0's l2: 0.034501\n",
      "[229]\tvalid_0's l2: 0.0344339\n",
      "[230]\tvalid_0's l2: 0.0344517\n",
      "[231]\tvalid_0's l2: 0.0345083\n",
      "[232]\tvalid_0's l2: 0.0345123\n",
      "[233]\tvalid_0's l2: 0.0345045\n",
      "[234]\tvalid_0's l2: 0.0345117\n",
      "[235]\tvalid_0's l2: 0.0345688\n",
      "[236]\tvalid_0's l2: 0.0346259\n",
      "[237]\tvalid_0's l2: 0.0346186\n",
      "[238]\tvalid_0's l2: 0.0346984\n",
      "[239]\tvalid_0's l2: 0.0346947\n",
      "[240]\tvalid_0's l2: 0.0346789\n",
      "[241]\tvalid_0's l2: 0.0346625\n",
      "[242]\tvalid_0's l2: 0.0346278\n",
      "[243]\tvalid_0's l2: 0.0346814\n",
      "[244]\tvalid_0's l2: 0.0346689\n",
      "[245]\tvalid_0's l2: 0.0346637\n",
      "[246]\tvalid_0's l2: 0.0346607\n",
      "[247]\tvalid_0's l2: 0.0346465\n",
      "[248]\tvalid_0's l2: 0.0345728\n",
      "[249]\tvalid_0's l2: 0.0345734\n",
      "[250]\tvalid_0's l2: 0.0345054\n",
      "[251]\tvalid_0's l2: 0.0345124\n",
      "[252]\tvalid_0's l2: 0.0345222\n",
      "[253]\tvalid_0's l2: 0.0345345\n",
      "[254]\tvalid_0's l2: 0.0344875\n",
      "[255]\tvalid_0's l2: 0.0345021\n",
      "[256]\tvalid_0's l2: 0.0344494\n",
      "[257]\tvalid_0's l2: 0.0344022\n",
      "[258]\tvalid_0's l2: 0.03436\n",
      "[259]\tvalid_0's l2: 0.0344047\n",
      "[260]\tvalid_0's l2: 0.0343817\n",
      "[261]\tvalid_0's l2: 0.0344322\n",
      "[262]\tvalid_0's l2: 0.0344581\n",
      "[263]\tvalid_0's l2: 0.0345087\n",
      "[264]\tvalid_0's l2: 0.0345363\n",
      "[265]\tvalid_0's l2: 0.0345528\n",
      "[266]\tvalid_0's l2: 0.034503\n",
      "[267]\tvalid_0's l2: 0.0345053\n",
      "[268]\tvalid_0's l2: 0.0345003\n",
      "[269]\tvalid_0's l2: 0.0345047\n",
      "[270]\tvalid_0's l2: 0.0345135\n",
      "[271]\tvalid_0's l2: 0.0344679\n",
      "[272]\tvalid_0's l2: 0.0345014\n",
      "[273]\tvalid_0's l2: 0.0345014\n",
      "[274]\tvalid_0's l2: 0.0345363\n",
      "[275]\tvalid_0's l2: 0.0345724\n",
      "[276]\tvalid_0's l2: 0.0345538\n",
      "[277]\tvalid_0's l2: 0.0345392\n",
      "[278]\tvalid_0's l2: 0.0344829\n",
      "[279]\tvalid_0's l2: 0.0344317\n",
      "[280]\tvalid_0's l2: 0.0344207\n",
      "[281]\tvalid_0's l2: 0.0344646\n",
      "[282]\tvalid_0's l2: 0.0344402\n",
      "[283]\tvalid_0's l2: 0.0344844\n",
      "[284]\tvalid_0's l2: 0.0344637\n",
      "[285]\tvalid_0's l2: 0.0344606\n",
      "[286]\tvalid_0's l2: 0.0344945\n",
      "[287]\tvalid_0's l2: 0.0345027\n",
      "[288]\tvalid_0's l2: 0.0345335\n",
      "[289]\tvalid_0's l2: 0.0345283\n",
      "[290]\tvalid_0's l2: 0.0345639\n",
      "[291]\tvalid_0's l2: 0.0344845\n",
      "[292]\tvalid_0's l2: 0.0344292\n",
      "[293]\tvalid_0's l2: 0.0343473\n",
      "[294]\tvalid_0's l2: 0.0342982\n",
      "[295]\tvalid_0's l2: 0.0343378\n",
      "[296]\tvalid_0's l2: 0.0343756\n",
      "[297]\tvalid_0's l2: 0.0344145\n",
      "[298]\tvalid_0's l2: 0.0344586\n",
      "[299]\tvalid_0's l2: 0.0344575\n",
      "[300]\tvalid_0's l2: 0.0344646\n",
      "[301]\tvalid_0's l2: 0.0344645\n",
      "[302]\tvalid_0's l2: 0.0344671\n",
      "[303]\tvalid_0's l2: 0.034423\n",
      "[304]\tvalid_0's l2: 0.034428\n",
      "[305]\tvalid_0's l2: 0.0344361\n",
      "[306]\tvalid_0's l2: 0.0343973\n",
      "[307]\tvalid_0's l2: 0.0343626\n",
      "[308]\tvalid_0's l2: 0.0343635\n",
      "[309]\tvalid_0's l2: 0.0343756\n",
      "[310]\tvalid_0's l2: 0.0343446\n",
      "[311]\tvalid_0's l2: 0.0343618\n",
      "[312]\tvalid_0's l2: 0.0343809\n",
      "[313]\tvalid_0's l2: 0.0344042\n",
      "[314]\tvalid_0's l2: 0.0344259\n",
      "[315]\tvalid_0's l2: 0.0344228\n",
      "[316]\tvalid_0's l2: 0.0344385\n",
      "[317]\tvalid_0's l2: 0.0344561\n",
      "[318]\tvalid_0's l2: 0.0344752\n",
      "[319]\tvalid_0's l2: 0.0344718\n",
      "[320]\tvalid_0's l2: 0.0344356\n",
      "[321]\tvalid_0's l2: 0.0343875\n",
      "[322]\tvalid_0's l2: 0.0343448\n",
      "[323]\tvalid_0's l2: 0.0343069\n",
      "[324]\tvalid_0's l2: 0.0342734\n",
      "[325]\tvalid_0's l2: 0.0342438\n",
      "[326]\tvalid_0's l2: 0.0342296\n",
      "[327]\tvalid_0's l2: 0.0342114\n",
      "[328]\tvalid_0's l2: 0.0342373\n",
      "[329]\tvalid_0's l2: 0.0342097\n",
      "[330]\tvalid_0's l2: 0.0342102\n"
     ]
    },
    {
     "name": "stdout",
     "output_type": "stream",
     "text": [
      "[331]\tvalid_0's l2: 0.0341948\n",
      "[332]\tvalid_0's l2: 0.0342029\n",
      "[333]\tvalid_0's l2: 0.0341717\n",
      "[334]\tvalid_0's l2: 0.0341812\n",
      "[335]\tvalid_0's l2: 0.0341685\n",
      "[336]\tvalid_0's l2: 0.0341529\n",
      "[337]\tvalid_0's l2: 0.0341947\n",
      "[338]\tvalid_0's l2: 0.0342101\n",
      "[339]\tvalid_0's l2: 0.0341895\n",
      "[340]\tvalid_0's l2: 0.0341777\n",
      "[341]\tvalid_0's l2: 0.0341555\n",
      "[342]\tvalid_0's l2: 0.03419\n",
      "[343]\tvalid_0's l2: 0.0341706\n",
      "[344]\tvalid_0's l2: 0.0342305\n",
      "[345]\tvalid_0's l2: 0.0342277\n",
      "[346]\tvalid_0's l2: 0.0342494\n",
      "[347]\tvalid_0's l2: 0.0342823\n",
      "[348]\tvalid_0's l2: 0.0342579\n",
      "[349]\tvalid_0's l2: 0.0342805\n",
      "[350]\tvalid_0's l2: 0.0343183\n",
      "[351]\tvalid_0's l2: 0.0343371\n",
      "[352]\tvalid_0's l2: 0.0343399\n",
      "[353]\tvalid_0's l2: 0.034363\n",
      "[354]\tvalid_0's l2: 0.0343829\n",
      "[355]\tvalid_0's l2: 0.0343873\n",
      "[356]\tvalid_0's l2: 0.0344165\n",
      "[357]\tvalid_0's l2: 0.0344463\n",
      "[358]\tvalid_0's l2: 0.0344145\n",
      "[359]\tvalid_0's l2: 0.0344646\n",
      "[360]\tvalid_0's l2: 0.0344949\n",
      "[361]\tvalid_0's l2: 0.034523\n",
      "[362]\tvalid_0's l2: 0.0345506\n",
      "[363]\tvalid_0's l2: 0.034579\n",
      "[364]\tvalid_0's l2: 0.0346469\n",
      "[365]\tvalid_0's l2: 0.0346758\n",
      "[366]\tvalid_0's l2: 0.0346992\n",
      "[367]\tvalid_0's l2: 0.0347093\n",
      "[368]\tvalid_0's l2: 0.0346508\n",
      "[369]\tvalid_0's l2: 0.0346747\n",
      "[370]\tvalid_0's l2: 0.034686\n",
      "[371]\tvalid_0's l2: 0.0347263\n",
      "[372]\tvalid_0's l2: 0.0347709\n",
      "[373]\tvalid_0's l2: 0.0348118\n",
      "[374]\tvalid_0's l2: 0.0348566\n",
      "Early stopping, best iteration is:\n",
      "[174]\tvalid_0's l2: 0.033912\n"
     ]
    },
    {
     "data": {
      "text/plain": [
       "LGBMRegressor(bagging_fraction=0.8, bagging_freq=5, boosting_type='gbdt',\n",
       "       class_weight=None, colsample_bytree=1.0, feature_fraction=0.9,\n",
       "       learning_rate=0.05, max_depth=8, metric='l2', metric_freq=1,\n",
       "       min_child_samples=20, min_child_weight=0.001, min_data_in_leaf=100,\n",
       "       min_split_gain=0.0, min_sum_hessian_in_leaf=5.0, n_estimators=200,\n",
       "       n_jobs=-1, num_leaves=31, num_trees=10000, objective='regression',\n",
       "       random_state=None, reg_alpha=0.0, reg_lambda=0.0, silent=True,\n",
       "       subsample=1.0, subsample_for_bin=200000, subsample_freq=1,\n",
       "       tree_learner='voting')"
      ]
     },
     "execution_count": 402,
     "metadata": {},
     "output_type": "execute_result"
    }
   ],
   "source": [
    "gbm.fit(X_train, y_train,\n",
    "        eval_set=[(X_valid, y_valid)],\n",
    "        eval_metric='l2',\n",
    "        early_stopping_rounds=200)"
   ]
  },
  {
   "cell_type": "code",
   "execution_count": 403,
   "metadata": {},
   "outputs": [],
   "source": [
    "y_pred = gbm.predict(X_valid)"
   ]
  },
  {
   "cell_type": "code",
   "execution_count": 404,
   "metadata": {},
   "outputs": [
    {
     "data": {
      "text/plain": [
       "0.033912030617552075"
      ]
     },
     "execution_count": 404,
     "metadata": {},
     "output_type": "execute_result"
    }
   ],
   "source": [
    "mean_squared_error(y_pred, y_valid)"
   ]
  },
  {
   "cell_type": "code",
   "execution_count": 363,
   "metadata": {},
   "outputs": [
    {
     "name": "stderr",
     "output_type": "stream",
     "text": [
      "/usr/local/lib/python3.5/dist-packages/lightgbm/engine.py:99: UserWarning: Found `num_trees` in params. Will use it instead of argument\n",
      "  warnings.warn(\"Found `{}` in params. Will use it instead of argument\".format(alias))\n",
      "/usr/local/lib/python3.5/dist-packages/lightgbm/engine.py:99: UserWarning: Found `num_trees` in params. Will use it instead of argument\n",
      "  warnings.warn(\"Found `{}` in params. Will use it instead of argument\".format(alias))\n",
      "/usr/local/lib/python3.5/dist-packages/lightgbm/engine.py:99: UserWarning: Found `num_trees` in params. Will use it instead of argument\n",
      "  warnings.warn(\"Found `{}` in params. Will use it instead of argument\".format(alias))\n",
      "/usr/local/lib/python3.5/dist-packages/lightgbm/engine.py:99: UserWarning: Found `num_trees` in params. Will use it instead of argument\n",
      "  warnings.warn(\"Found `{}` in params. Will use it instead of argument\".format(alias))\n",
      "/usr/local/lib/python3.5/dist-packages/lightgbm/engine.py:99: UserWarning: Found `num_trees` in params. Will use it instead of argument\n",
      "  warnings.warn(\"Found `{}` in params. Will use it instead of argument\".format(alias))\n"
     ]
    }
   ],
   "source": [
    "gbm_cv_score = cross_val_score(gbm, X_train_all, y_train_all, cv=5)"
   ]
  },
  {
   "cell_type": "code",
   "execution_count": 452,
   "metadata": {},
   "outputs": [
    {
     "data": {
      "text/plain": [
       "0.034746910537035956"
      ]
     },
     "execution_count": 452,
     "metadata": {},
     "output_type": "execute_result"
    }
   ],
   "source": [
    "gbm_cv_score.mean()"
   ]
  },
  {
   "cell_type": "code",
   "execution_count": null,
   "metadata": {},
   "outputs": [],
   "source": []
  },
  {
   "cell_type": "code",
   "execution_count": 405,
   "metadata": {},
   "outputs": [
    {
     "data": {
      "image/png": "[encoded data removed]",
      "text/plain": [
       "<matplotlib.figure.Figure at 0x7f0ba399f550>"
      ]
     },
     "metadata": {},
     "output_type": "display_data"
    }
   ],
   "source": [
    "x = range(len(y_pred))\n",
    "plt.plot(x, y_pred, 'r-*', label='y_pred')\n",
    "plt.plot(x, y_valid, 'b-o', label='y_valid')\n",
    "plt.legend()\n",
    "plt.show()"
   ]
  },
  {
   "cell_type": "code",
   "execution_count": 406,
   "metadata": {},
   "outputs": [],
   "source": [
    "s_pre = pd.Series(y_pred)"
   ]
  },
  {
   "cell_type": "code",
   "execution_count": 407,
   "metadata": {},
   "outputs": [],
   "source": [
    "s_val = pd.Series(y_valid)"
   ]
  },
  {
   "cell_type": "code",
   "execution_count": 408,
   "metadata": {},
   "outputs": [
    {
     "data": {
      "image/png": "[encoded data removed]",
      "text/plain": [
       "<matplotlib.figure.Figure at 0x7f0ba24764e0>"
      ]
     },
     "metadata": {},
     "output_type": "display_data"
    }
   ],
   "source": [
    "x = range(len(s_pre))\n",
    "plt.plot(x, s_pre.sort_values().values, 'r-*', label='lr_y_pred')\n",
    "plt.plot(x, s_val.sort_values().values, 'b-o', label='y_valid')\n",
    "plt.legend()\n",
    "plt.show()"
   ]
  },
  {
   "cell_type": "code",
   "execution_count": 337,
   "metadata": {},
   "outputs": [],
   "source": [
    "s_all = pd.Series(y_train)"
   ]
  },
  {
   "cell_type": "code",
   "execution_count": 338,
   "metadata": {},
   "outputs": [
    {
     "data": {
      "image/png": "[encoded data removed]",
      "text/plain": [
       "<matplotlib.figure.Figure at 0x7f0ba23bf0f0>"
      ]
     },
     "metadata": {},
     "output_type": "display_data"
    }
   ],
   "source": [
    "x = range(len(s_all))\n",
    "plt.plot(x, s_all.sort_values().values, 'b-o', label='y_valid')\n",
    "plt.legend()\n",
    "plt.show()"
   ]
  },
  {
   "cell_type": "code",
   "execution_count": 339,
   "metadata": {},
   "outputs": [
    {
     "data": {
      "text/plain": [
       "0.034136196152140551"
      ]
     },
     "execution_count": 339,
     "metadata": {},
     "output_type": "execute_result"
    }
   ],
   "source": [
    "mean_squared_error(y_valid, y_pred)"
   ]
  },
  {
   "cell_type": "code",
   "execution_count": null,
   "metadata": {},
   "outputs": [],
   "source": []
  },
  {
   "cell_type": "code",
   "execution_count": 340,
   "metadata": {},
   "outputs": [
    {
     "data": {
      "text/plain": [
       "74"
      ]
     },
     "execution_count": 340,
     "metadata": {},
     "output_type": "execute_result"
    }
   ],
   "source": [
    "len(gbm.feature_importances_)"
   ]
  },
  {
   "cell_type": "code",
   "execution_count": 341,
   "metadata": {},
   "outputs": [
    {
     "ename": "ValueError",
     "evalue": "Wrong number of items passed 74, placement implies 5255",
     "output_type": "error",
     "traceback": [
      "\u001b[0;31m---------------------------------------------------------------------------\u001b[0m",
      "\u001b[0;31mValueError\u001b[0m                                Traceback (most recent call last)",
      "\u001b[0;32m<ipython-input-341-6844a2b8dbb0>\u001b[0m in \u001b[0;36m<module>\u001b[0;34m()\u001b[0m\n\u001b[0;32m----> 1\u001b[0;31m \u001b[0mimportance\u001b[0m \u001b[0;34m=\u001b[0m \u001b[0mpd\u001b[0m\u001b[0;34m.\u001b[0m\u001b[0mSeries\u001b[0m\u001b[0;34m(\u001b[0m\u001b[0mgbm\u001b[0m\u001b[0;34m.\u001b[0m\u001b[0mfeature_importances_\u001b[0m\u001b[0;34m,\u001b[0m \u001b[0mindex\u001b[0m\u001b[0;34m=\u001b[0m\u001b[0mtrain_X_num_str_Y\u001b[0m\u001b[0;34m.\u001b[0m\u001b[0mdrop\u001b[0m\u001b[0;34m(\u001b[0m\u001b[0;34m[\u001b[0m\u001b[0;34m'Y'\u001b[0m\u001b[0;34m,\u001b[0m\u001b[0;34m'nan_standard'\u001b[0m\u001b[0;34m]\u001b[0m\u001b[0;34m,\u001b[0m\u001b[0maxis\u001b[0m\u001b[0;34m=\u001b[0m\u001b[0;36m1\u001b[0m\u001b[0;34m)\u001b[0m\u001b[0;34m.\u001b[0m\u001b[0mcolumns\u001b[0m\u001b[0;34m)\u001b[0m\u001b[0;34m\u001b[0m\u001b[0m\n\u001b[0m",
      "\u001b[0;32m/usr/local/lib/python3.5/dist-packages/pandas/core/series.py\u001b[0m in \u001b[0;36m__init__\u001b[0;34m(self, data, index, dtype, name, copy, fastpath)\u001b[0m\n\u001b[1;32m    264\u001b[0m                                        raise_cast_failure=True)\n\u001b[1;32m    265\u001b[0m \u001b[0;34m\u001b[0m\u001b[0m\n\u001b[0;32m--> 266\u001b[0;31m                 \u001b[0mdata\u001b[0m \u001b[0;34m=\u001b[0m \u001b[0mSingleBlockManager\u001b[0m\u001b[0;34m(\u001b[0m\u001b[0mdata\u001b[0m\u001b[0;34m,\u001b[0m \u001b[0mindex\u001b[0m\u001b[0;34m,\u001b[0m \u001b[0mfastpath\u001b[0m\u001b[0;34m=\u001b[0m\u001b[0;32mTrue\u001b[0m\u001b[0;34m)\u001b[0m\u001b[0;34m\u001b[0m\u001b[0m\n\u001b[0m\u001b[1;32m    267\u001b[0m \u001b[0;34m\u001b[0m\u001b[0m\n\u001b[1;32m    268\u001b[0m         \u001b[0mgeneric\u001b[0m\u001b[0;34m.\u001b[0m\u001b[0mNDFrame\u001b[0m\u001b[0;34m.\u001b[0m\u001b[0m__init__\u001b[0m\u001b[0;34m(\u001b[0m\u001b[0mself\u001b[0m\u001b[0;34m,\u001b[0m \u001b[0mdata\u001b[0m\u001b[0;34m,\u001b[0m \u001b[0mfastpath\u001b[0m\u001b[0;34m=\u001b[0m\u001b[0;32mTrue\u001b[0m\u001b[0;34m)\u001b[0m\u001b[0;34m\u001b[0m\u001b[0m\n",
      "\u001b[0;32m/usr/local/lib/python3.5/dist-packages/pandas/core/internals.py\u001b[0m in \u001b[0;36m__init__\u001b[0;34m(self, block, axis, do_integrity_check, fastpath)\u001b[0m\n\u001b[1;32m   4400\u001b[0m         \u001b[0;32mif\u001b[0m \u001b[0;32mnot\u001b[0m \u001b[0misinstance\u001b[0m\u001b[0;34m(\u001b[0m\u001b[0mblock\u001b[0m\u001b[0;34m,\u001b[0m \u001b[0mBlock\u001b[0m\u001b[0;34m)\u001b[0m\u001b[0;34m:\u001b[0m\u001b[0;34m\u001b[0m\u001b[0m\n\u001b[1;32m   4401\u001b[0m             block = make_block(block, placement=slice(0, len(axis)), ndim=1,\n\u001b[0;32m-> 4402\u001b[0;31m                                fastpath=True)\n\u001b[0m\u001b[1;32m   4403\u001b[0m \u001b[0;34m\u001b[0m\u001b[0m\n\u001b[1;32m   4404\u001b[0m         \u001b[0mself\u001b[0m\u001b[0;34m.\u001b[0m\u001b[0mblocks\u001b[0m \u001b[0;34m=\u001b[0m \u001b[0;34m[\u001b[0m\u001b[0mblock\u001b[0m\u001b[0;34m]\u001b[0m\u001b[0;34m\u001b[0m\u001b[0m\n",
      "\u001b[0;32m/usr/local/lib/python3.5/dist-packages/pandas/core/internals.py\u001b[0m in \u001b[0;36mmake_block\u001b[0;34m(values, placement, klass, ndim, dtype, fastpath)\u001b[0m\n\u001b[1;32m   2955\u001b[0m                      placement=placement, dtype=dtype)\n\u001b[1;32m   2956\u001b[0m \u001b[0;34m\u001b[0m\u001b[0m\n\u001b[0;32m-> 2957\u001b[0;31m     \u001b[0;32mreturn\u001b[0m \u001b[0mklass\u001b[0m\u001b[0;34m(\u001b[0m\u001b[0mvalues\u001b[0m\u001b[0;34m,\u001b[0m \u001b[0mndim\u001b[0m\u001b[0;34m=\u001b[0m\u001b[0mndim\u001b[0m\u001b[0;34m,\u001b[0m \u001b[0mfastpath\u001b[0m\u001b[0;34m=\u001b[0m\u001b[0mfastpath\u001b[0m\u001b[0;34m,\u001b[0m \u001b[0mplacement\u001b[0m\u001b[0;34m=\u001b[0m\u001b[0mplacement\u001b[0m\u001b[0;34m)\u001b[0m\u001b[0;34m\u001b[0m\u001b[0m\n\u001b[0m\u001b[1;32m   2958\u001b[0m \u001b[0;34m\u001b[0m\u001b[0m\n\u001b[1;32m   2959\u001b[0m \u001b[0;31m# TODO: flexible with index=None and/or items=None\u001b[0m\u001b[0;34m\u001b[0m\u001b[0;34m\u001b[0m\u001b[0m\n",
      "\u001b[0;32m/usr/local/lib/python3.5/dist-packages/pandas/core/internals.py\u001b[0m in \u001b[0;36m__init__\u001b[0;34m(self, values, placement, ndim, fastpath)\u001b[0m\n\u001b[1;32m    118\u001b[0m             raise ValueError('Wrong number of items passed %d, placement '\n\u001b[1;32m    119\u001b[0m                              'implies %d' % (len(self.values),\n\u001b[0;32m--> 120\u001b[0;31m                                              len(self.mgr_locs)))\n\u001b[0m\u001b[1;32m    121\u001b[0m \u001b[0;34m\u001b[0m\u001b[0m\n\u001b[1;32m    122\u001b[0m     \u001b[0;34m@\u001b[0m\u001b[0mproperty\u001b[0m\u001b[0;34m\u001b[0m\u001b[0m\n",
      "\u001b[0;31mValueError\u001b[0m: Wrong number of items passed 74, placement implies 5255"
     ]
    }
   ],
   "source": [
    "importance = pd.Series(gbm.feature_importances_, index=train_X_num_str_Y.drop(['Y','nan_standard'],axis=1).columns)"
   ]
  },
  {
   "cell_type": "code",
   "execution_count": 176,
   "metadata": {},
   "outputs": [],
   "source": [
    "importanct_feature = []\n",
    "for index in range(len(importance)):\n",
    "    if importance[index] > 0:\n",
    "        importanct_feature.append(importance.index[index])"
   ]
  },
  {
   "cell_type": "code",
   "execution_count": 177,
   "metadata": {},
   "outputs": [
    {
     "data": {
      "text/plain": [
       "74"
      ]
     },
     "execution_count": 177,
     "metadata": {},
     "output_type": "execute_result"
    }
   ],
   "source": [
    "len(importanct_feature)"
   ]
  },
  {
   "cell_type": "code",
   "execution_count": 219,
   "metadata": {},
   "outputs": [
    {
     "data": {
      "text/plain": [
       "['210X10',\n",
       " '210X12',\n",
       " '210X20',\n",
       " '210X40',\n",
       " '210X89',\n",
       " '210X104',\n",
       " '210X143',\n",
       " '210X158',\n",
       " '210X176',\n",
       " '210X207',\n",
       " '210X219',\n",
       " '210X230',\n",
       " '220X3',\n",
       " '220X9',\n",
       " '220X142',\n",
       " '220X174',\n",
       " '220X175',\n",
       " '220X191',\n",
       " '310X9',\n",
       " '310X13',\n",
       " '310X29',\n",
       " '310X37',\n",
       " '310X96',\n",
       " '310X149',\n",
       " '310X153',\n",
       " '310X172',\n",
       " '311X7',\n",
       " '311X9',\n",
       " '311X15',\n",
       " '311X113',\n",
       " '261X244',\n",
       " '261X245',\n",
       " '261X411',\n",
       " '261X619',\n",
       " '261X623',\n",
       " '261X754',\n",
       " '312X51',\n",
       " '312X261',\n",
       " '312X710',\n",
       " '312X776',\n",
       " '312X782',\n",
       " '312X785',\n",
       " '312X790',\n",
       " '330X228',\n",
       " '330X268',\n",
       " '330X305',\n",
       " '330X315',\n",
       " '330X452',\n",
       " '330X516',\n",
       " '330X609',\n",
       " '330X669',\n",
       " '330X716',\n",
       " '330X992',\n",
       " '330X1129',\n",
       " '330X1228',\n",
       " '340X15',\n",
       " '340X83',\n",
       " '340X196',\n",
       " '344X33',\n",
       " '344X54',\n",
       " '344X57',\n",
       " '344X60',\n",
       " '344X291',\n",
       " '360X763',\n",
       " '360X773',\n",
       " '360X1030',\n",
       " '360X1141',\n",
       " '440AX47',\n",
       " '440AX55',\n",
       " '440AX77',\n",
       " '440AX172',\n",
       " '440AX190',\n",
       " '440AX202',\n",
       " 'nan_count']"
      ]
     },
     "execution_count": 219,
     "metadata": {},
     "output_type": "execute_result"
    }
   ],
   "source": [
    "importanct_feature"
   ]
  },
  {
   "cell_type": "code",
   "execution_count": null,
   "metadata": {},
   "outputs": [],
   "source": []
  },
  {
   "cell_type": "markdown",
   "metadata": {},
   "source": [
    "#### 使用GradientBoostingRegressor 回归"
   ]
  },
  {
   "cell_type": "code",
   "execution_count": 409,
   "metadata": {},
   "outputs": [],
   "source": [
    "from sklearn.ensemble import GradientBoostingRegressor"
   ]
  },
  {
   "cell_type": "code",
   "execution_count": 410,
   "metadata": {},
   "outputs": [],
   "source": [
    "gbr = GradientBoostingRegressor()"
   ]
  },
  {
   "cell_type": "code",
   "execution_count": 411,
   "metadata": {},
   "outputs": [
    {
     "data": {
      "text/plain": [
       "GradientBoostingRegressor(alpha=0.9, criterion='friedman_mse', init=None,\n",
       "             learning_rate=0.1, loss='ls', max_depth=3, max_features=None,\n",
       "             max_leaf_nodes=None, min_impurity_decrease=0.0,\n",
       "             min_impurity_split=None, min_samples_leaf=1,\n",
       "             min_samples_split=2, min_weight_fraction_leaf=0.0,\n",
       "             n_estimators=100, presort='auto', random_state=None,\n",
       "             subsample=1.0, verbose=0, warm_start=False)"
      ]
     },
     "execution_count": 411,
     "metadata": {},
     "output_type": "execute_result"
    }
   ],
   "source": [
    "gbr.fit(X_train, y_train)"
   ]
  },
  {
   "cell_type": "code",
   "execution_count": 412,
   "metadata": {},
   "outputs": [],
   "source": [
    "gbr_y_pred = gbr.predict(X_valid)"
   ]
  },
  {
   "cell_type": "code",
   "execution_count": 413,
   "metadata": {},
   "outputs": [
    {
     "data": {
      "text/plain": [
       "0.03519494927630485"
      ]
     },
     "execution_count": 413,
     "metadata": {},
     "output_type": "execute_result"
    }
   ],
   "source": [
    "mean_squared_error(y_valid, gbr_y_pred)"
   ]
  },
  {
   "cell_type": "code",
   "execution_count": 453,
   "metadata": {},
   "outputs": [],
   "source": [
    "gbr_cv_score = cross_val_score(gbr, X_train_all, y_train_all, cv=5)"
   ]
  },
  {
   "cell_type": "code",
   "execution_count": 454,
   "metadata": {},
   "outputs": [
    {
     "data": {
      "text/plain": [
       "0.13670143597435364"
      ]
     },
     "execution_count": 454,
     "metadata": {},
     "output_type": "execute_result"
    }
   ],
   "source": [
    "gbr_cv_score.mean()"
   ]
  },
  {
   "cell_type": "code",
   "execution_count": 414,
   "metadata": {},
   "outputs": [],
   "source": [
    "gbr_s_pre = pd.Series(gbr_y_pred)"
   ]
  },
  {
   "cell_type": "code",
   "execution_count": 428,
   "metadata": {},
   "outputs": [
    {
     "data": {
      "image/png": "[encoded data removed]",
      "text/plain": [
       "<matplotlib.figure.Figure at 0x7f0baf6ada90>"
      ]
     },
     "metadata": {},
     "output_type": "display_data"
    }
   ],
   "source": [
    "x = range(len(gbr_y_pred))\n",
    "plt.plot(x, gbr_y_pred, 'r-*', label='gbr_y_pred')\n",
    "plt.plot(x, y_valid, 'b-o', label='y_valid')\n",
    "plt.legend()\n",
    "plt.show()"
   ]
  },
  {
   "cell_type": "code",
   "execution_count": 415,
   "metadata": {},
   "outputs": [
    {
     "data": {
      "image/png": "[encoded data removed]",
      "text/plain": [
       "<matplotlib.figure.Figure at 0x7f0bb2076ac8>"
      ]
     },
     "metadata": {},
     "output_type": "display_data"
    }
   ],
   "source": [
    "x = range(len(gbr_s_pre))\n",
    "plt.plot(x, gbr_s_pre.sort_values().values, 'r-*', label='gbr_y_pred')\n",
    "plt.plot(x, s_val.sort_values().values, 'b-o', label='y_valid')\n",
    "plt.legend()\n",
    "plt.show()"
   ]
  },
  {
   "cell_type": "code",
   "execution_count": null,
   "metadata": {},
   "outputs": [],
   "source": []
  },
  {
   "cell_type": "code",
   "execution_count": null,
   "metadata": {},
   "outputs": [],
   "source": []
  },
  {
   "cell_type": "markdown",
   "metadata": {},
   "source": [
    "#### 使用 KNN 回归"
   ]
  },
  {
   "cell_type": "code",
   "execution_count": 416,
   "metadata": {},
   "outputs": [],
   "source": [
    "from sklearn.neighbors import KNeighborsRegressor"
   ]
  },
  {
   "cell_type": "code",
   "execution_count": 417,
   "metadata": {},
   "outputs": [],
   "source": [
    "knr = KNeighborsRegressor(weights='distance')"
   ]
  },
  {
   "cell_type": "code",
   "execution_count": 418,
   "metadata": {},
   "outputs": [
    {
     "data": {
      "text/plain": [
       "0.034495351683513829"
      ]
     },
     "execution_count": 418,
     "metadata": {},
     "output_type": "execute_result"
    }
   ],
   "source": [
    "cross_val_score(knr, X_train_all, y_train_all, cv=5).mean()"
   ]
  },
  {
   "cell_type": "code",
   "execution_count": 458,
   "metadata": {},
   "outputs": [],
   "source": [
    "knr_cv_score = cross_val_score(knr, X_train_all, y_train_all, cv =5)"
   ]
  },
  {
   "cell_type": "code",
   "execution_count": 460,
   "metadata": {},
   "outputs": [
    {
     "data": {
      "text/plain": [
       "array([ 0.1299386 ,  0.13054246,  0.14493674, -0.11965178, -0.11328925])"
      ]
     },
     "execution_count": 460,
     "metadata": {},
     "output_type": "execute_result"
    }
   ],
   "source": [
    "knr_cv_score"
   ]
  },
  {
   "cell_type": "code",
   "execution_count": 421,
   "metadata": {},
   "outputs": [
    {
     "data": {
      "text/plain": [
       "KNeighborsRegressor(algorithm='auto', leaf_size=30, metric='minkowski',\n",
       "          metric_params=None, n_jobs=1, n_neighbors=5, p=2,\n",
       "          weights='distance')"
      ]
     },
     "execution_count": 421,
     "metadata": {},
     "output_type": "execute_result"
    }
   ],
   "source": [
    "knr.fit(X_train, y_train)"
   ]
  },
  {
   "cell_type": "code",
   "execution_count": 422,
   "metadata": {},
   "outputs": [],
   "source": [
    "knr_y_valid = knr.predict(X_valid)\n",
    "knr_y_cv_pred = cross_val_predict(knr, X_valid, y_valid, cv=5)"
   ]
  },
  {
   "cell_type": "code",
   "execution_count": 423,
   "metadata": {},
   "outputs": [
    {
     "data": {
      "text/plain": [
       "0.051844660905906385"
      ]
     },
     "execution_count": 423,
     "metadata": {},
     "output_type": "execute_result"
    }
   ],
   "source": [
    "mean_squared_error(knr_y_cv_pred, y_valid)"
   ]
  },
  {
   "cell_type": "code",
   "execution_count": 424,
   "metadata": {},
   "outputs": [
    {
     "data": {
      "text/plain": [
       "0.045384456523549832"
      ]
     },
     "execution_count": 424,
     "metadata": {},
     "output_type": "execute_result"
    }
   ],
   "source": [
    "mean_squared_error(knr_y_valid, y_valid)"
   ]
  },
  {
   "cell_type": "code",
   "execution_count": null,
   "metadata": {},
   "outputs": [],
   "source": []
  },
  {
   "cell_type": "code",
   "execution_count": null,
   "metadata": {},
   "outputs": [],
   "source": []
  },
  {
   "cell_type": "code",
   "execution_count": null,
   "metadata": {},
   "outputs": [],
   "source": []
  },
  {
   "cell_type": "code",
   "execution_count": 425,
   "metadata": {},
   "outputs": [
    {
     "data": {
      "image/png": "[encoded data removed]",
      "text/plain": [
       "<matplotlib.figure.Figure at 0x7f0baf6a96a0>"
      ]
     },
     "metadata": {},
     "output_type": "display_data"
    }
   ],
   "source": [
    "x = range(len(y_pred))\n",
    "plt.plot(x, knr_y_valid, 'r-*', label='y_pred')\n",
    "plt.plot(x, y_valid, 'b-o', label='y_valid')\n",
    "plt.legend()\n",
    "plt.show()"
   ]
  },
  {
   "cell_type": "code",
   "execution_count": 426,
   "metadata": {},
   "outputs": [],
   "source": [
    "knr_s_pred = pd.Series(knr_y_valid)\n",
    "knr_s_valid = pd.Series(y_valid)\n",
    "knr_s_cv_pred = pd.Series(knr_y_cv_pred)"
   ]
  },
  {
   "cell_type": "code",
   "execution_count": 427,
   "metadata": {},
   "outputs": [
    {
     "data": {
      "image/png": "[encoded data removed]",
      "text/plain": [
       "<matplotlib.figure.Figure at 0x7f0bafc57470>"
      ]
     },
     "metadata": {},
     "output_type": "display_data"
    }
   ],
   "source": [
    "x = range(len(knr_s_pred))\n",
    "plt.plot(x, knr_s_pred.sort_values().values, 'r-*', label='knr_y_pred')\n",
    "plt.plot(x, knr_s_valid.sort_values().values, 'b-o', label='y_valid')\n",
    "#plt.plot(x, knr_s_cv_pred.sort_values().values, 'g-o', label='knr_cv_valid')\n",
    "plt.legend()\n",
    "plt.show()"
   ]
  },
  {
   "cell_type": "code",
   "execution_count": null,
   "metadata": {},
   "outputs": [],
   "source": []
  },
  {
   "cell_type": "markdown",
   "metadata": {},
   "source": [
    "#### 使用线性回归"
   ]
  },
  {
   "cell_type": "code",
   "execution_count": 274,
   "metadata": {},
   "outputs": [],
   "source": [
    "from sklearn.linear_model import LinearRegression"
   ]
  },
  {
   "cell_type": "code",
   "execution_count": null,
   "metadata": {},
   "outputs": [],
   "source": []
  },
  {
   "cell_type": "code",
   "execution_count": 275,
   "metadata": {},
   "outputs": [
    {
     "data": {
      "text/plain": [
       "LinearRegression(copy_X=True, fit_intercept=True, n_jobs=1, normalize=False)"
      ]
     },
     "execution_count": 275,
     "metadata": {},
     "output_type": "execute_result"
    }
   ],
   "source": [
    "lr = LinearRegression()\n",
    "lr.fit(X_train, y_train)"
   ]
  },
  {
   "cell_type": "code",
   "execution_count": null,
   "metadata": {},
   "outputs": [],
   "source": []
  },
  {
   "cell_type": "code",
   "execution_count": 276,
   "metadata": {},
   "outputs": [],
   "source": [
    "lr_y_pred = lr.predict(X_valid)"
   ]
  },
  {
   "cell_type": "code",
   "execution_count": 277,
   "metadata": {},
   "outputs": [
    {
     "data": {
      "text/plain": [
       "0.46702350279229604"
      ]
     },
     "execution_count": 277,
     "metadata": {},
     "output_type": "execute_result"
    }
   ],
   "source": [
    "mean_squared_error(lr_y_pred, y_valid)"
   ]
  },
  {
   "cell_type": "code",
   "execution_count": 278,
   "metadata": {},
   "outputs": [],
   "source": [
    "lr_y_pr = []\n",
    "for index in range(len(lr_y_pred)):\n",
    "    if  lr_y_pred[index] > 3.4 or lr_y_pred[index] <2.0:\n",
    "        lr_y_pr.append(y_valid[index])\n",
    "    else:\n",
    "        lr_y_pr.append(lr_y_pred[index])"
   ]
  },
  {
   "cell_type": "code",
   "execution_count": 279,
   "metadata": {},
   "outputs": [],
   "source": [
    "lr_s_pre = pd.Series(lr_y_pr)\n",
    "lr_s_val = pd.Series(y_valid)"
   ]
  },
  {
   "cell_type": "code",
   "execution_count": 280,
   "metadata": {},
   "outputs": [
    {
     "data": {
      "text/plain": [
       "192"
      ]
     },
     "execution_count": 280,
     "metadata": {},
     "output_type": "execute_result"
    }
   ],
   "source": [
    "len(lr_s_pre)"
   ]
  },
  {
   "cell_type": "code",
   "execution_count": 281,
   "metadata": {},
   "outputs": [
    {
     "data": {
      "text/plain": [
       "192"
      ]
     },
     "execution_count": 281,
     "metadata": {},
     "output_type": "execute_result"
    }
   ],
   "source": [
    "len(lr_s_val)"
   ]
  },
  {
   "cell_type": "code",
   "execution_count": 282,
   "metadata": {},
   "outputs": [
    {
     "data": {
      "image/png": "[encoded data removed]",
      "text/plain": [
       "<matplotlib.figure.Figure at 0x7f0ba2573a20>"
      ]
     },
     "metadata": {},
     "output_type": "display_data"
    }
   ],
   "source": [
    "x = range(len(lr_y_pr))\n",
    "plt.plot(x, lr_y_pr, 'r-*', label='lr_y_pred')\n",
    "plt.plot(x, y_valid, 'b-o', label='y_valid')\n",
    "plt.legend()\n",
    "plt.show()"
   ]
  },
  {
   "cell_type": "code",
   "execution_count": 283,
   "metadata": {},
   "outputs": [
    {
     "data": {
      "image/png": "[encoded data removed]",
      "text/plain": [
       "<matplotlib.figure.Figure at 0x7f0ba24fe0f0>"
      ]
     },
     "metadata": {},
     "output_type": "display_data"
    }
   ],
   "source": [
    "x = range(len(lr_s_val))\n",
    "plt.plot(x, lr_s_pre.sort_values().values, 'r-*', label='lr_y_pred')\n",
    "plt.plot(x, lr_s_val.sort_values().values, 'b-o', label='y_valid')\n",
    "plt.legend()\n",
    "plt.show()"
   ]
  },
  {
   "cell_type": "code",
   "execution_count": 284,
   "metadata": {},
   "outputs": [
    {
     "data": {
      "text/plain": [
       "0.049301333742745403"
      ]
     },
     "execution_count": 284,
     "metadata": {},
     "output_type": "execute_result"
    }
   ],
   "source": [
    "mean_squared_error(lr_y_pr, y_valid)"
   ]
  },
  {
   "cell_type": "code",
   "execution_count": null,
   "metadata": {},
   "outputs": [],
   "source": []
  },
  {
   "cell_type": "code",
   "execution_count": null,
   "metadata": {},
   "outputs": [],
   "source": []
  },
  {
   "cell_type": "code",
   "execution_count": null,
   "metadata": {},
   "outputs": [],
   "source": []
  },
  {
   "cell_type": "markdown",
   "metadata": {},
   "source": [
    "#### 使用 交叉验证"
   ]
  },
  {
   "cell_type": "code",
   "execution_count": 1127,
   "metadata": {},
   "outputs": [],
   "source": [
    "from sklearn.cross_validation import cross_val_score\n",
    "from sklearn.cross_validation import cross_val_predict"
   ]
  },
  {
   "cell_type": "code",
   "execution_count": 1119,
   "metadata": {},
   "outputs": [
    {
     "name": "stderr",
     "output_type": "stream",
     "text": [
      "/usr/local/lib/python3.5/dist-packages/lightgbm/engine.py:99: UserWarning: Found `num_trees` in params. Will use it instead of argument\n",
      "  warnings.warn(\"Found `{}` in params. Will use it instead of argument\".format(alias))\n",
      "/usr/local/lib/python3.5/dist-packages/lightgbm/basic.py:642: UserWarning: max_bin keyword has been found in `params` and will be ignored. Please use max_bin argument of the Dataset constructor to pass this parameter.\n",
      "  'Please use {0} argument of the Dataset constructor to pass this parameter.'.format(key))\n",
      "/usr/local/lib/python3.5/dist-packages/lightgbm/basic.py:648: LGBMDeprecationWarning: The `max_bin` parameter is deprecated and will be removed in 2.0.12 version. Please use `params` to pass this parameter.\n",
      "  'Please use `params` to pass this parameter.', LGBMDeprecationWarning)\n",
      "/usr/local/lib/python3.5/dist-packages/lightgbm/engine.py:99: UserWarning: Found `num_trees` in params. Will use it instead of argument\n",
      "  warnings.warn(\"Found `{}` in params. Will use it instead of argument\".format(alias))\n",
      "/usr/local/lib/python3.5/dist-packages/lightgbm/basic.py:642: UserWarning: max_bin keyword has been found in `params` and will be ignored. Please use max_bin argument of the Dataset constructor to pass this parameter.\n",
      "  'Please use {0} argument of the Dataset constructor to pass this parameter.'.format(key))\n",
      "/usr/local/lib/python3.5/dist-packages/lightgbm/basic.py:648: LGBMDeprecationWarning: The `max_bin` parameter is deprecated and will be removed in 2.0.12 version. Please use `params` to pass this parameter.\n",
      "  'Please use `params` to pass this parameter.', LGBMDeprecationWarning)\n",
      "/usr/local/lib/python3.5/dist-packages/lightgbm/engine.py:99: UserWarning: Found `num_trees` in params. Will use it instead of argument\n",
      "  warnings.warn(\"Found `{}` in params. Will use it instead of argument\".format(alias))\n",
      "/usr/local/lib/python3.5/dist-packages/lightgbm/basic.py:642: UserWarning: max_bin keyword has been found in `params` and will be ignored. Please use max_bin argument of the Dataset constructor to pass this parameter.\n",
      "  'Please use {0} argument of the Dataset constructor to pass this parameter.'.format(key))\n",
      "/usr/local/lib/python3.5/dist-packages/lightgbm/basic.py:648: LGBMDeprecationWarning: The `max_bin` parameter is deprecated and will be removed in 2.0.12 version. Please use `params` to pass this parameter.\n",
      "  'Please use `params` to pass this parameter.', LGBMDeprecationWarning)\n",
      "/usr/local/lib/python3.5/dist-packages/lightgbm/engine.py:99: UserWarning: Found `num_trees` in params. Will use it instead of argument\n",
      "  warnings.warn(\"Found `{}` in params. Will use it instead of argument\".format(alias))\n",
      "/usr/local/lib/python3.5/dist-packages/lightgbm/basic.py:642: UserWarning: max_bin keyword has been found in `params` and will be ignored. Please use max_bin argument of the Dataset constructor to pass this parameter.\n",
      "  'Please use {0} argument of the Dataset constructor to pass this parameter.'.format(key))\n",
      "/usr/local/lib/python3.5/dist-packages/lightgbm/basic.py:648: LGBMDeprecationWarning: The `max_bin` parameter is deprecated and will be removed in 2.0.12 version. Please use `params` to pass this parameter.\n",
      "  'Please use `params` to pass this parameter.', LGBMDeprecationWarning)\n",
      "/usr/local/lib/python3.5/dist-packages/lightgbm/engine.py:99: UserWarning: Found `num_trees` in params. Will use it instead of argument\n",
      "  warnings.warn(\"Found `{}` in params. Will use it instead of argument\".format(alias))\n",
      "/usr/local/lib/python3.5/dist-packages/lightgbm/basic.py:642: UserWarning: max_bin keyword has been found in `params` and will be ignored. Please use max_bin argument of the Dataset constructor to pass this parameter.\n",
      "  'Please use {0} argument of the Dataset constructor to pass this parameter.'.format(key))\n",
      "/usr/local/lib/python3.5/dist-packages/lightgbm/basic.py:648: LGBMDeprecationWarning: The `max_bin` parameter is deprecated and will be removed in 2.0.12 version. Please use `params` to pass this parameter.\n",
      "  'Please use `params` to pass this parameter.', LGBMDeprecationWarning)\n"
     ]
    },
    {
     "data": {
      "text/plain": [
       "0.22364481337792128"
      ]
     },
     "execution_count": 1119,
     "metadata": {},
     "output_type": "execute_result"
    }
   ],
   "source": [
    "cross_val_score(gbm, X_train_all, y_train_all, cv=5).mean()"
   ]
  },
  {
   "cell_type": "code",
   "execution_count": 175,
   "metadata": {},
   "outputs": [
    {
     "data": {
      "text/plain": [
       "-0.054251566828609508"
      ]
     },
     "execution_count": 175,
     "metadata": {},
     "output_type": "execute_result"
    }
   ],
   "source": [
    "cross_val_score(knr, X_train_all, y_train_all, cv=3).mean()"
   ]
  },
  {
   "cell_type": "code",
   "execution_count": 1144,
   "metadata": {},
   "outputs": [],
   "source": [
    "y_cv_pred = cross_val_predict(knr, X_train, y_train, cv=5)"
   ]
  },
  {
   "cell_type": "code",
   "execution_count": 1130,
   "metadata": {},
   "outputs": [
    {
     "data": {
      "text/plain": [
       "308"
      ]
     },
     "execution_count": 1130,
     "metadata": {},
     "output_type": "execute_result"
    }
   ],
   "source": [
    "len(y_cv_pred)"
   ]
  },
  {
   "cell_type": "code",
   "execution_count": 1146,
   "metadata": {},
   "outputs": [],
   "source": [
    "y_cv_pred = cross_val_predict(knr, X_valid, y_valid)"
   ]
  },
  {
   "cell_type": "code",
   "execution_count": 1148,
   "metadata": {},
   "outputs": [
    {
     "data": {
      "text/plain": [
       "0.041138530207114193"
      ]
     },
     "execution_count": 1148,
     "metadata": {},
     "output_type": "execute_result"
    }
   ],
   "source": [
    "mean_squared_error(y_cv_pred, y_valid)"
   ]
  },
  {
   "cell_type": "code",
   "execution_count": null,
   "metadata": {},
   "outputs": [],
   "source": []
  },
  {
   "cell_type": "code",
   "execution_count": null,
   "metadata": {},
   "outputs": [],
   "source": []
  },
  {
   "cell_type": "code",
   "execution_count": 1122,
   "metadata": {},
   "outputs": [
    {
     "data": {
      "text/plain": [
       "0.21293989785418771"
      ]
     },
     "execution_count": 1122,
     "metadata": {},
     "output_type": "execute_result"
    }
   ],
   "source": [
    "cross_val_score(gbr, X_train_all, y_train_all, cv=5).mean()"
   ]
  },
  {
   "cell_type": "code",
   "execution_count": null,
   "metadata": {},
   "outputs": [],
   "source": []
  },
  {
   "cell_type": "code",
   "execution_count": null,
   "metadata": {},
   "outputs": [],
   "source": []
  },
  {
   "cell_type": "code",
   "execution_count": null,
   "metadata": {},
   "outputs": [],
   "source": []
  },
  {
   "cell_type": "markdown",
   "metadata": {},
   "source": [
    "#### 使用二次多项式回归"
   ]
  },
  {
   "cell_type": "code",
   "execution_count": 296,
   "metadata": {},
   "outputs": [],
   "source": [
    "from sklearn.preprocessing import PolynomialFeatures"
   ]
  },
  {
   "cell_type": "code",
   "execution_count": 297,
   "metadata": {},
   "outputs": [],
   "source": [
    "poly2 = PolynomialFeatures(degree=2)"
   ]
  },
  {
   "cell_type": "code",
   "execution_count": 298,
   "metadata": {},
   "outputs": [],
   "source": [
    "X_train_poly2 = poly2.fit_transform(X_train)"
   ]
  },
  {
   "cell_type": "code",
   "execution_count": 299,
   "metadata": {},
   "outputs": [],
   "source": [
    "regressor_poly2 = LinearRegression()"
   ]
  },
  {
   "cell_type": "code",
   "execution_count": 300,
   "metadata": {},
   "outputs": [
    {
     "data": {
      "text/plain": [
       "LinearRegression(copy_X=True, fit_intercept=True, n_jobs=1, normalize=False)"
      ]
     },
     "execution_count": 300,
     "metadata": {},
     "output_type": "execute_result"
    }
   ],
   "source": [
    "regressor_poly2.fit(X_train_poly2, y_train)"
   ]
  },
  {
   "cell_type": "code",
   "execution_count": 301,
   "metadata": {},
   "outputs": [],
   "source": [
    "X_valid_poly2 = poly2.fit_transform(X_valid)"
   ]
  },
  {
   "cell_type": "code",
   "execution_count": 302,
   "metadata": {},
   "outputs": [],
   "source": [
    "poly2_y_valid = regressor_poly2.predict(X_valid_poly2)"
   ]
  },
  {
   "cell_type": "code",
   "execution_count": 305,
   "metadata": {},
   "outputs": [
    {
     "data": {
      "image/png": "[encoded data removed]",
      "text/plain": [
       "<matplotlib.figure.Figure at 0x7f0ba24ad860>"
      ]
     },
     "metadata": {},
     "output_type": "display_data"
    }
   ],
   "source": [
    "x = range(len(poly2_y_valid))\n",
    "plt.plot(x, pd.Series(poly2_y_valid).sort_values().values, 'r-*', label='lr_y_pred')\n",
    "plt.legend()\n",
    "plt.show()"
   ]
  },
  {
   "cell_type": "code",
   "execution_count": 306,
   "metadata": {},
   "outputs": [],
   "source": [
    "poly_y_pr = []\n",
    "for index in range(len(poly2_y_valid)):\n",
    "    if poly2_y_valid[index] < 3.2 and poly2_y_valid[index] > 2.3:\n",
    "        poly_y_pr.append(poly2_y_valid[index])\n",
    "    else:\n",
    "        poly_y_pr.append(y_valid[index])"
   ]
  },
  {
   "cell_type": "code",
   "execution_count": 307,
   "metadata": {},
   "outputs": [],
   "source": [
    "poly_s_pre = pd.Series(poly_y_pr)\n",
    "s_val = pd.Series(y_valid)"
   ]
  },
  {
   "cell_type": "code",
   "execution_count": 308,
   "metadata": {},
   "outputs": [
    {
     "data": {
      "image/png": "[encoded data removed]",
      "text/plain": [
       "<matplotlib.figure.Figure at 0x7f0ba2458358>"
      ]
     },
     "metadata": {},
     "output_type": "display_data"
    }
   ],
   "source": [
    "x = range(len(poly_s_pre))\n",
    "plt.plot(x, poly_s_pre.sort_values().values, 'r-*', label='lr_y_pred')\n",
    "plt.plot(x, s_val.sort_values().values, 'b-o', label='y_valid')\n",
    "plt.legend()\n",
    "plt.show()"
   ]
  },
  {
   "cell_type": "code",
   "execution_count": 309,
   "metadata": {},
   "outputs": [
    {
     "data": {
      "image/png": "[encoded data removed]",
      "text/plain": [
       "<matplotlib.figure.Figure at 0x7f0ba2468b70>"
      ]
     },
     "metadata": {},
     "output_type": "display_data"
    }
   ],
   "source": [
    "x = range(len(poly_y_pr))\n",
    "plt.plot(x, poly_y_pr, 'r-*', label='lr_y_pred')\n",
    "plt.plot(x, y_valid, 'b-o', label='y_valid')\n",
    "plt.legend()\n",
    "plt.show()"
   ]
  },
  {
   "cell_type": "code",
   "execution_count": 310,
   "metadata": {},
   "outputs": [
    {
     "data": {
      "text/plain": [
       "0.047138071948119011"
      ]
     },
     "execution_count": 310,
     "metadata": {},
     "output_type": "execute_result"
    }
   ],
   "source": [
    "mean_squared_error(poly_y_pr, y_valid)"
   ]
  },
  {
   "cell_type": "code",
   "execution_count": null,
   "metadata": {},
   "outputs": [],
   "source": []
  },
  {
   "cell_type": "markdown",
   "metadata": {},
   "source": [
    "#### 使用 SVM 回归"
   ]
  },
  {
   "cell_type": "code",
   "execution_count": 362,
   "metadata": {},
   "outputs": [],
   "source": [
    "from sklearn.svm import SVR"
   ]
  },
  {
   "cell_type": "code",
   "execution_count": null,
   "metadata": {},
   "outputs": [],
   "source": [
    "clf = SVR(kernel='linear')\n",
    "clf.fit(X_train, y_train)"
   ]
  },
  {
   "cell_type": "code",
   "execution_count": null,
   "metadata": {},
   "outputs": [],
   "source": [
    "svm_y_pred = clf.predict(X_valid)"
   ]
  },
  {
   "cell_type": "code",
   "execution_count": null,
   "metadata": {},
   "outputs": [],
   "source": [
    "svm_y_pred"
   ]
  },
  {
   "cell_type": "code",
   "execution_count": null,
   "metadata": {},
   "outputs": [],
   "source": [
    "svm_y_pr = []\n",
    "for item in svm_y_pred:\n",
    "    if item > 0 :\n",
    "        svm_y_pr.append(item)"
   ]
  },
  {
   "cell_type": "code",
   "execution_count": null,
   "metadata": {},
   "outputs": [],
   "source": [
    "mean_squared_error(svm_y_pr, y_valid[0:-1])"
   ]
  },
  {
   "cell_type": "code",
   "execution_count": null,
   "metadata": {},
   "outputs": [],
   "source": []
  },
  {
   "cell_type": "code",
   "execution_count": null,
   "metadata": {},
   "outputs": [],
   "source": []
  },
  {
   "cell_type": "code",
   "execution_count": null,
   "metadata": {},
   "outputs": [],
   "source": []
  },
  {
   "cell_type": "code",
   "execution_count": 279,
   "metadata": {},
   "outputs": [
    {
     "data": {
      "image/png": "[encoded data removed]",
      "text/plain": [
       "<matplotlib.figure.Figure at 0x7f08c5a7c940>"
      ]
     },
     "metadata": {},
     "output_type": "display_data"
    }
   ],
   "source": [
    "x = range(len(svm_y_pr))\n",
    "plt.plot(x, svm_y_pr, 'r-*', label='svm_y_pred')\n",
    "plt.plot(x, y_valid[0:-1], 'b-o', label='y_valid')\n",
    "plt.legend()\n",
    "plt.show()"
   ]
  },
  {
   "cell_type": "code",
   "execution_count": 273,
   "metadata": {},
   "outputs": [],
   "source": [
    "svm_s_pre = pd.Series(svm_y_pr)\n",
    "s_val = pd.Series(y_valid[0:-1])"
   ]
  },
  {
   "cell_type": "code",
   "execution_count": 283,
   "metadata": {},
   "outputs": [
    {
     "data": {
      "text/plain": [
       "125"
      ]
     },
     "execution_count": 283,
     "metadata": {},
     "output_type": "execute_result"
    }
   ],
   "source": [
    "len(svm_s_pre)"
   ]
  },
  {
   "cell_type": "code",
   "execution_count": 285,
   "metadata": {},
   "outputs": [
    {
     "data": {
      "image/png": "[encoded data removed]",
      "text/plain": [
       "<matplotlib.figure.Figure at 0x7f08c7b78860>"
      ]
     },
     "metadata": {},
     "output_type": "display_data"
    }
   ],
   "source": [
    "x = range(len(svm_s_pre))\n",
    "plt.plot(x, svm_s_pre.sort_values().values, 'r-*', label='lr_y_pred')\n",
    "plt.plot(x, s_val.sort_values().values, 'b-o', label='y_valid')\n",
    "plt.show()"
   ]
  },
  {
   "cell_type": "markdown",
   "metadata": {},
   "source": [
    "#### 使用gbm预测"
   ]
  },
  {
   "cell_type": "code",
   "execution_count": 436,
   "metadata": {},
   "outputs": [],
   "source": [
    "testa_X = pd.concat([testa_X_num_non_nan, testa_X_str], axis=1)"
   ]
  },
  {
   "cell_type": "code",
   "execution_count": 437,
   "metadata": {},
   "outputs": [],
   "source": [
    "testa_X = testa_X.drop(['nan_standard'], axis=1)"
   ]
  },
  {
   "cell_type": "code",
   "execution_count": 431,
   "metadata": {},
   "outputs": [],
   "source": [
    "testa_X = testa_X.loc[:,importanct_feature]"
   ]
  },
  {
   "cell_type": "code",
   "execution_count": 438,
   "metadata": {},
   "outputs": [
    {
     "data": {
      "text/plain": [
       "(100, 5255)"
      ]
     },
     "execution_count": 438,
     "metadata": {},
     "output_type": "execute_result"
    }
   ],
   "source": [
    "testa_X.shape"
   ]
  },
  {
   "cell_type": "code",
   "execution_count": 439,
   "metadata": {},
   "outputs": [
    {
     "data": {
      "text/html": [
       "<div>\n",
       "<style scoped>\n",
       "    .dataframe tbody tr th:only-of-type {\n",
       "        vertical-align: middle;\n",
       "    }\n",
       "\n",
       "    .dataframe tbody tr th {\n",
       "        vertical-align: top;\n",
       "    }\n",
       "\n",
       "    .dataframe thead th {\n",
       "        text-align: right;\n",
       "    }\n",
       "</style>\n",
       "<table border=\"1\" class=\"dataframe\">\n",
       "  <thead>\n",
       "    <tr style=\"text-align: right;\">\n",
       "      <th></th>\n",
       "      <th>210X1</th>\n",
       "      <th>210X2</th>\n",
       "      <th>210X3</th>\n",
       "      <th>210X4</th>\n",
       "      <th>210X5</th>\n",
       "      <th>210X6</th>\n",
       "      <th>210X7</th>\n",
       "      <th>210X8</th>\n",
       "      <th>210X9</th>\n",
       "      <th>210X10</th>\n",
       "      <th>...</th>\n",
       "      <th>Tool (#3)_12T</th>\n",
       "      <th>Tool (#3)_13T</th>\n",
       "      <th>Tool (#3)_14T</th>\n",
       "      <th>Tool (#3)_15T</th>\n",
       "      <th>Tool (#3)_6T</th>\n",
       "      <th>Tool (#3)_7T</th>\n",
       "      <th>Tool (#3)_8T</th>\n",
       "      <th>Tool (#3)_9T</th>\n",
       "      <th>TOOL (#2)_AT</th>\n",
       "      <th>TOOL (#2)_BT</th>\n",
       "    </tr>\n",
       "  </thead>\n",
       "  <tbody>\n",
       "    <tr>\n",
       "      <th>0</th>\n",
       "      <td>100.85</td>\n",
       "      <td>0.423</td>\n",
       "      <td>0.41</td>\n",
       "      <td>0.624</td>\n",
       "      <td>35.50</td>\n",
       "      <td>1.795</td>\n",
       "      <td>0.08</td>\n",
       "      <td>-0.18</td>\n",
       "      <td>-0.15</td>\n",
       "      <td>24.1</td>\n",
       "      <td>...</td>\n",
       "      <td>0</td>\n",
       "      <td>0</td>\n",
       "      <td>1</td>\n",
       "      <td>0</td>\n",
       "      <td>0</td>\n",
       "      <td>0</td>\n",
       "      <td>0</td>\n",
       "      <td>0</td>\n",
       "      <td>1</td>\n",
       "      <td>0</td>\n",
       "    </tr>\n",
       "    <tr>\n",
       "      <th>1</th>\n",
       "      <td>100.80</td>\n",
       "      <td>0.322</td>\n",
       "      <td>0.41</td>\n",
       "      <td>0.544</td>\n",
       "      <td>70.98</td>\n",
       "      <td>3.580</td>\n",
       "      <td>0.11</td>\n",
       "      <td>-0.32</td>\n",
       "      <td>-0.15</td>\n",
       "      <td>24.3</td>\n",
       "      <td>...</td>\n",
       "      <td>0</td>\n",
       "      <td>1</td>\n",
       "      <td>0</td>\n",
       "      <td>0</td>\n",
       "      <td>0</td>\n",
       "      <td>0</td>\n",
       "      <td>0</td>\n",
       "      <td>0</td>\n",
       "      <td>1</td>\n",
       "      <td>0</td>\n",
       "    </tr>\n",
       "    <tr>\n",
       "      <th>2</th>\n",
       "      <td>100.75</td>\n",
       "      <td>0.526</td>\n",
       "      <td>0.14</td>\n",
       "      <td>1.081</td>\n",
       "      <td>57.84</td>\n",
       "      <td>2.848</td>\n",
       "      <td>-0.75</td>\n",
       "      <td>1.10</td>\n",
       "      <td>0.06</td>\n",
       "      <td>24.8</td>\n",
       "      <td>...</td>\n",
       "      <td>0</td>\n",
       "      <td>0</td>\n",
       "      <td>0</td>\n",
       "      <td>0</td>\n",
       "      <td>0</td>\n",
       "      <td>0</td>\n",
       "      <td>0</td>\n",
       "      <td>1</td>\n",
       "      <td>1</td>\n",
       "      <td>0</td>\n",
       "    </tr>\n",
       "    <tr>\n",
       "      <th>3</th>\n",
       "      <td>100.70</td>\n",
       "      <td>0.541</td>\n",
       "      <td>0.14</td>\n",
       "      <td>1.119</td>\n",
       "      <td>58.01</td>\n",
       "      <td>2.909</td>\n",
       "      <td>-0.98</td>\n",
       "      <td>1.05</td>\n",
       "      <td>0.06</td>\n",
       "      <td>23.7</td>\n",
       "      <td>...</td>\n",
       "      <td>0</td>\n",
       "      <td>0</td>\n",
       "      <td>0</td>\n",
       "      <td>0</td>\n",
       "      <td>0</td>\n",
       "      <td>0</td>\n",
       "      <td>1</td>\n",
       "      <td>0</td>\n",
       "      <td>1</td>\n",
       "      <td>0</td>\n",
       "    </tr>\n",
       "    <tr>\n",
       "      <th>4</th>\n",
       "      <td>100.70</td>\n",
       "      <td>0.503</td>\n",
       "      <td>0.13</td>\n",
       "      <td>0.944</td>\n",
       "      <td>57.67</td>\n",
       "      <td>2.888</td>\n",
       "      <td>-0.48</td>\n",
       "      <td>1.08</td>\n",
       "      <td>0.06</td>\n",
       "      <td>24.4</td>\n",
       "      <td>...</td>\n",
       "      <td>0</td>\n",
       "      <td>0</td>\n",
       "      <td>0</td>\n",
       "      <td>0</td>\n",
       "      <td>0</td>\n",
       "      <td>0</td>\n",
       "      <td>0</td>\n",
       "      <td>0</td>\n",
       "      <td>1</td>\n",
       "      <td>0</td>\n",
       "    </tr>\n",
       "  </tbody>\n",
       "</table>\n",
       "<p>5 rows × 5255 columns</p>\n",
       "</div>"
      ],
      "text/plain": [
       "    210X1  210X2  210X3  210X4  210X5  210X6  210X7  210X8  210X9  210X10  \\\n",
       "0  100.85  0.423   0.41  0.624  35.50  1.795   0.08  -0.18  -0.15    24.1   \n",
       "1  100.80  0.322   0.41  0.544  70.98  3.580   0.11  -0.32  -0.15    24.3   \n",
       "2  100.75  0.526   0.14  1.081  57.84  2.848  -0.75   1.10   0.06    24.8   \n",
       "3  100.70  0.541   0.14  1.119  58.01  2.909  -0.98   1.05   0.06    23.7   \n",
       "4  100.70  0.503   0.13  0.944  57.67  2.888  -0.48   1.08   0.06    24.4   \n",
       "\n",
       "       ...       Tool (#3)_12T  Tool (#3)_13T  Tool (#3)_14T  Tool (#3)_15T  \\\n",
       "0      ...                   0              0              1              0   \n",
       "1      ...                   0              1              0              0   \n",
       "2      ...                   0              0              0              0   \n",
       "3      ...                   0              0              0              0   \n",
       "4      ...                   0              0              0              0   \n",
       "\n",
       "   Tool (#3)_6T  Tool (#3)_7T  Tool (#3)_8T  Tool (#3)_9T  TOOL (#2)_AT  \\\n",
       "0             0             0             0             0             1   \n",
       "1             0             0             0             0             1   \n",
       "2             0             0             0             1             1   \n",
       "3             0             0             1             0             1   \n",
       "4             0             0             0             0             1   \n",
       "\n",
       "   TOOL (#2)_BT  \n",
       "0             0  \n",
       "1             0  \n",
       "2             0  \n",
       "3             0  \n",
       "4             0  \n",
       "\n",
       "[5 rows x 5255 columns]"
      ]
     },
     "execution_count": 439,
     "metadata": {},
     "output_type": "execute_result"
    }
   ],
   "source": [
    "testa_X.head()"
   ]
  },
  {
   "cell_type": "code",
   "execution_count": 440,
   "metadata": {},
   "outputs": [],
   "source": [
    "gbm_a_pred = gbm.predict(testa_X)"
   ]
  },
  {
   "cell_type": "code",
   "execution_count": 441,
   "metadata": {},
   "outputs": [],
   "source": [
    "gbm_s_a_pred = pd.Series(gbm_a_pred)"
   ]
  },
  {
   "cell_type": "code",
   "execution_count": 442,
   "metadata": {},
   "outputs": [
    {
     "data": {
      "image/png": "[encoded data removed]",
      "text/plain": [
       "<matplotlib.figure.Figure at 0x7f0bafcc5358>"
      ]
     },
     "metadata": {},
     "output_type": "display_data"
    }
   ],
   "source": [
    "x = range(len(gbm_s_a_pred))\n",
    "plt.plot(x, gbm_s_a_pred.sort_values().values, 'r-*', label='y_train')\n",
    "plt.show()"
   ]
  },
  {
   "cell_type": "code",
   "execution_count": 443,
   "metadata": {},
   "outputs": [],
   "source": [
    "knr_a_pred = knr.predict(testa_X)"
   ]
  },
  {
   "cell_type": "code",
   "execution_count": 444,
   "metadata": {},
   "outputs": [],
   "source": [
    "knr_s_a_pred = pd.Series(knr_a_pred)"
   ]
  },
  {
   "cell_type": "code",
   "execution_count": 445,
   "metadata": {},
   "outputs": [
    {
     "data": {
      "image/png": "[encoded data removed]",
      "text/plain": [
       "<matplotlib.figure.Figure at 0x7f0ba23c6b00>"
      ]
     },
     "metadata": {},
     "output_type": "display_data"
    }
   ],
   "source": [
    "x = range(len(knr_s_a_pred))\n",
    "plt.plot(x, knr_s_a_pred.sort_values().values, 'r-*', label='y_train')\n",
    "plt.show()"
   ]
  },
  {
   "cell_type": "code",
   "execution_count": null,
   "metadata": {},
   "outputs": [],
   "source": [
    "b_pred = gbm.predict(X_b)"
   ]
  },
  {
   "cell_type": "markdown",
   "metadata": {},
   "source": [
    "#### 读取模板"
   ]
  },
  {
   "cell_type": "code",
   "execution_count": 446,
   "metadata": {},
   "outputs": [],
   "source": [
    "gbm_a_pattern = pd.read_csv('./input/a_pattern.csv', names= ['id'])\n",
    "knr_a_pattern = pd.read_csv('./input/a_pattern.csv', names= ['id'])"
   ]
  },
  {
   "cell_type": "code",
   "execution_count": 447,
   "metadata": {},
   "outputs": [],
   "source": [
    "b_pattern = pd.read_csv('./input/b_pattern.csv', names = ['id'])"
   ]
  },
  {
   "cell_type": "code",
   "execution_count": 448,
   "metadata": {},
   "outputs": [],
   "source": [
    "gbm_a_pattern['Y'] = gbm_a_pred\n",
    "knr_a_pattern['Y'] = knr_a_pred"
   ]
  },
  {
   "cell_type": "code",
   "execution_count": 449,
   "metadata": {},
   "outputs": [],
   "source": [
    "b_pattern['Y'] = 0"
   ]
  },
  {
   "cell_type": "code",
   "execution_count": 450,
   "metadata": {},
   "outputs": [],
   "source": [
    "gbm_a_pattern.to_csv('./gbm_a_pattern.csv', index=None, header=None)\n",
    "knr_a_pattern.to_csv('./knr_a_pattern.csv', index=None, header=None)"
   ]
  },
  {
   "cell_type": "code",
   "execution_count": 49,
   "metadata": {},
   "outputs": [],
   "source": [
    "b_pattern.to_csv('./b_pred.csv', index=None, header=None)"
   ]
  },
  {
   "cell_type": "code",
   "execution_count": null,
   "metadata": {},
   "outputs": [],
   "source": []
  }
 ],
 "metadata": {
  "kernelspec": {
   "display_name": "Python 3",
   "language": "python",
   "name": "python3"
  },
  "language_info": {
   "codemirror_mode": {
    "name": "ipython",
    "version": 3
   },
   "file_extension": ".py",
   "mimetype": "text/x-python",
   "name": "python",
   "nbconvert_exporter": "python",
   "pygments_lexer": "ipython3",
   "version": "3.5.2"
  }
 },
 "nbformat": 4,
 "nbformat_minor": 2
}
