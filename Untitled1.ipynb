{
 "cells": [
  {
   "cell_type": "code",
   "execution_count": 1,
   "metadata": {},
   "outputs": [],
   "source": [
    "import pandas as pd\n",
    "import numpy as np\n",
    "import lightgbm as lgm\n",
    "%matplotlib inline\n",
    "import matplotlib.pyplot as plt"
   ]
  },
  {
   "cell_type": "markdown",
   "metadata": {},
   "source": [
    "### 读取训练数据"
   ]
  },
  {
   "cell_type": "code",
   "execution_count": 2,
   "metadata": {},
   "outputs": [],
   "source": [
    "# train = pd.read_excel('./train.xlsx')\n",
    "# testa = pd.read_excel('./testa.xlsx')\n",
    "# testb = pd.read_excel('./testb.xlsx')"
   ]
  },
  {
   "cell_type": "code",
   "execution_count": 3,
   "metadata": {},
   "outputs": [],
   "source": [
    "train = pd.read_csv('./input/train.csv')\n",
    "testa = pd.read_csv('./input/testa.csv')\n",
    "testb = pd.read_csv('./input/testb.csv')"
   ]
  },
  {
   "cell_type": "code",
   "execution_count": 4,
   "metadata": {},
   "outputs": [
    {
     "data": {
      "text/html": [
       "<div>\n",
       "<style scoped>\n",
       "    .dataframe tbody tr th:only-of-type {\n",
       "        vertical-align: middle;\n",
       "    }\n",
       "\n",
       "    .dataframe tbody tr th {\n",
       "        vertical-align: top;\n",
       "    }\n",
       "\n",
       "    .dataframe thead th {\n",
       "        text-align: right;\n",
       "    }\n",
       "</style>\n",
       "<table border=\"1\" class=\"dataframe\">\n",
       "  <thead>\n",
       "    <tr style=\"text-align: right;\">\n",
       "      <th></th>\n",
       "      <th>ID</th>\n",
       "      <th>TOOL_ID</th>\n",
       "      <th>210X1</th>\n",
       "      <th>210X2</th>\n",
       "      <th>210X3</th>\n",
       "      <th>210X4</th>\n",
       "      <th>210X5</th>\n",
       "      <th>210X6</th>\n",
       "      <th>210X7</th>\n",
       "      <th>210X8</th>\n",
       "      <th>...</th>\n",
       "      <th>750X1444</th>\n",
       "      <th>750X1445</th>\n",
       "      <th>750X1446</th>\n",
       "      <th>750X1447</th>\n",
       "      <th>750X1448</th>\n",
       "      <th>750X1449</th>\n",
       "      <th>750X1450</th>\n",
       "      <th>750X1451</th>\n",
       "      <th>750X1452</th>\n",
       "      <th>Y</th>\n",
       "    </tr>\n",
       "  </thead>\n",
       "  <tbody>\n",
       "    <tr>\n",
       "      <th>0</th>\n",
       "      <td>ID001</td>\n",
       "      <td>N</td>\n",
       "      <td>102.05</td>\n",
       "      <td>0.465</td>\n",
       "      <td>0.27</td>\n",
       "      <td>1.430</td>\n",
       "      <td>67.45</td>\n",
       "      <td>4.620</td>\n",
       "      <td>-0.54</td>\n",
       "      <td>-1.05</td>\n",
       "      <td>...</td>\n",
       "      <td>0.00072</td>\n",
       "      <td>0.00072</td>\n",
       "      <td>25.7</td>\n",
       "      <td>0.00072</td>\n",
       "      <td>0.00072</td>\n",
       "      <td>25.7</td>\n",
       "      <td>0.00072</td>\n",
       "      <td>0.00072</td>\n",
       "      <td>2.400000e+12</td>\n",
       "      <td>2.945079</td>\n",
       "    </tr>\n",
       "    <tr>\n",
       "      <th>1</th>\n",
       "      <td>ID002</td>\n",
       "      <td>M</td>\n",
       "      <td>100.95</td>\n",
       "      <td>0.805</td>\n",
       "      <td>0.22</td>\n",
       "      <td>3.477</td>\n",
       "      <td>62.08</td>\n",
       "      <td>3.412</td>\n",
       "      <td>-2.12</td>\n",
       "      <td>1.02</td>\n",
       "      <td>...</td>\n",
       "      <td>0.00072</td>\n",
       "      <td>0.00072</td>\n",
       "      <td>25.5</td>\n",
       "      <td>0.00072</td>\n",
       "      <td>0.00072</td>\n",
       "      <td>25.5</td>\n",
       "      <td>0.00072</td>\n",
       "      <td>0.00072</td>\n",
       "      <td>2.400000e+12</td>\n",
       "      <td>2.955092</td>\n",
       "    </tr>\n",
       "    <tr>\n",
       "      <th>2</th>\n",
       "      <td>ID003</td>\n",
       "      <td>L</td>\n",
       "      <td>98.56</td>\n",
       "      <td>0.555</td>\n",
       "      <td>0.24</td>\n",
       "      <td>1.172</td>\n",
       "      <td>56.70</td>\n",
       "      <td>3.080</td>\n",
       "      <td>-2.25</td>\n",
       "      <td>0.88</td>\n",
       "      <td>...</td>\n",
       "      <td>0.00064</td>\n",
       "      <td>0.00064</td>\n",
       "      <td>25.2</td>\n",
       "      <td>0.00064</td>\n",
       "      <td>0.00064</td>\n",
       "      <td>25.2</td>\n",
       "      <td>0.00064</td>\n",
       "      <td>0.00064</td>\n",
       "      <td>2.400000e+12</td>\n",
       "      <td>2.741264</td>\n",
       "    </tr>\n",
       "    <tr>\n",
       "      <th>3</th>\n",
       "      <td>ID004</td>\n",
       "      <td>M</td>\n",
       "      <td>100.35</td>\n",
       "      <td>0.901</td>\n",
       "      <td>0.22</td>\n",
       "      <td>3.631</td>\n",
       "      <td>62.25</td>\n",
       "      <td>3.949</td>\n",
       "      <td>-1.98</td>\n",
       "      <td>0.82</td>\n",
       "      <td>...</td>\n",
       "      <td>0.00072</td>\n",
       "      <td>0.00072</td>\n",
       "      <td>26.4</td>\n",
       "      <td>0.00072</td>\n",
       "      <td>0.00072</td>\n",
       "      <td>26.4</td>\n",
       "      <td>0.00072</td>\n",
       "      <td>0.00072</td>\n",
       "      <td>2.400000e+12</td>\n",
       "      <td>2.799336</td>\n",
       "    </tr>\n",
       "    <tr>\n",
       "      <th>4</th>\n",
       "      <td>ID005</td>\n",
       "      <td>M</td>\n",
       "      <td>100.25</td>\n",
       "      <td>0.854</td>\n",
       "      <td>0.23</td>\n",
       "      <td>3.429</td>\n",
       "      <td>61.42</td>\n",
       "      <td>3.630</td>\n",
       "      <td>-1.89</td>\n",
       "      <td>1.02</td>\n",
       "      <td>...</td>\n",
       "      <td>0.00072</td>\n",
       "      <td>0.00072</td>\n",
       "      <td>26.4</td>\n",
       "      <td>0.00072</td>\n",
       "      <td>0.00072</td>\n",
       "      <td>26.4</td>\n",
       "      <td>0.00072</td>\n",
       "      <td>0.00072</td>\n",
       "      <td>2.400000e+12</td>\n",
       "      <td>2.692093</td>\n",
       "    </tr>\n",
       "  </tbody>\n",
       "</table>\n",
       "<p>5 rows × 8029 columns</p>\n",
       "</div>"
      ],
      "text/plain": [
       "      ID TOOL_ID   210X1  210X2  210X3  210X4  210X5  210X6  210X7  210X8  \\\n",
       "0  ID001       N  102.05  0.465   0.27  1.430  67.45  4.620  -0.54  -1.05   \n",
       "1  ID002       M  100.95  0.805   0.22  3.477  62.08  3.412  -2.12   1.02   \n",
       "2  ID003       L   98.56  0.555   0.24  1.172  56.70  3.080  -2.25   0.88   \n",
       "3  ID004       M  100.35  0.901   0.22  3.631  62.25  3.949  -1.98   0.82   \n",
       "4  ID005       M  100.25  0.854   0.23  3.429  61.42  3.630  -1.89   1.02   \n",
       "\n",
       "     ...     750X1444  750X1445  750X1446  750X1447  750X1448  750X1449  \\\n",
       "0    ...      0.00072   0.00072      25.7   0.00072   0.00072      25.7   \n",
       "1    ...      0.00072   0.00072      25.5   0.00072   0.00072      25.5   \n",
       "2    ...      0.00064   0.00064      25.2   0.00064   0.00064      25.2   \n",
       "3    ...      0.00072   0.00072      26.4   0.00072   0.00072      26.4   \n",
       "4    ...      0.00072   0.00072      26.4   0.00072   0.00072      26.4   \n",
       "\n",
       "   750X1450  750X1451      750X1452         Y  \n",
       "0   0.00072   0.00072  2.400000e+12  2.945079  \n",
       "1   0.00072   0.00072  2.400000e+12  2.955092  \n",
       "2   0.00064   0.00064  2.400000e+12  2.741264  \n",
       "3   0.00072   0.00072  2.400000e+12  2.799336  \n",
       "4   0.00072   0.00072  2.400000e+12  2.692093  \n",
       "\n",
       "[5 rows x 8029 columns]"
      ]
     },
     "execution_count": 4,
     "metadata": {},
     "output_type": "execute_result"
    }
   ],
   "source": [
    "train.head()"
   ]
  },
  {
   "cell_type": "code",
   "execution_count": 5,
   "metadata": {},
   "outputs": [],
   "source": [
    "train_y_series = train.Y"
   ]
  },
  {
   "cell_type": "code",
   "execution_count": 6,
   "metadata": {},
   "outputs": [
    {
     "data": {
      "image/png": "[encoded data removed]",
      "text/plain": [
       "<matplotlib.figure.Figure at 0x7f238cca6518>"
      ]
     },
     "metadata": {},
     "output_type": "display_data"
    }
   ],
   "source": [
    "x = range(len(train_y_series))\n",
    "plt.plot(x, train_y_series.sort_values().values, 'r-*', label='y_train')\n",
    "plt.show()"
   ]
  },
  {
   "cell_type": "markdown",
   "metadata": {},
   "source": [
    "#### 去除ID"
   ]
  },
  {
   "cell_type": "code",
   "execution_count": 7,
   "metadata": {},
   "outputs": [],
   "source": [
    "train_X = train.iloc[:,1:-1]\n",
    "train_Y = train.Y\n",
    "X_a = testa.iloc[:,1:]\n",
    "X_b = testb.iloc[:,1:]"
   ]
  },
  {
   "cell_type": "code",
   "execution_count": 8,
   "metadata": {},
   "outputs": [],
   "source": [
    "train_id = train.ID\n",
    "a_id = testa.ID\n",
    "b_id = testa.ID"
   ]
  },
  {
   "cell_type": "code",
   "execution_count": 9,
   "metadata": {},
   "outputs": [
    {
     "data": {
      "text/plain": [
       "(500, 8027)"
      ]
     },
     "execution_count": 9,
     "metadata": {},
     "output_type": "execute_result"
    }
   ],
   "source": [
    "train_X.shape"
   ]
  },
  {
   "cell_type": "code",
   "execution_count": 10,
   "metadata": {},
   "outputs": [
    {
     "data": {
      "text/plain": [
       "(100, 8027)"
      ]
     },
     "execution_count": 10,
     "metadata": {},
     "output_type": "execute_result"
    }
   ],
   "source": [
    "X_a.shape"
   ]
  },
  {
   "cell_type": "code",
   "execution_count": 11,
   "metadata": {},
   "outputs": [
    {
     "data": {
      "text/plain": [
       "(121, 8027)"
      ]
     },
     "execution_count": 11,
     "metadata": {},
     "output_type": "execute_result"
    }
   ],
   "source": [
    "X_b.shape"
   ]
  },
  {
   "cell_type": "code",
   "execution_count": 12,
   "metadata": {},
   "outputs": [
    {
     "data": {
      "text/plain": [
       "500"
      ]
     },
     "execution_count": 12,
     "metadata": {},
     "output_type": "execute_result"
    }
   ],
   "source": [
    "len(train_X)"
   ]
  },
  {
   "cell_type": "markdown",
   "metadata": {},
   "source": [
    "#### 去除时间特征"
   ]
  },
  {
   "cell_type": "code",
   "execution_count": 13,
   "metadata": {},
   "outputs": [],
   "source": [
    "def is_prefix2017(num):\n",
    "    str_num = str(num)\n",
    "    return str_num.startswith('2017')"
   ]
  },
  {
   "cell_type": "code",
   "execution_count": 14,
   "metadata": {},
   "outputs": [],
   "source": [
    "def get_date_columns(data):\n",
    "    columns = data.iloc[0, :].index\n",
    "    date_column = []\n",
    "    for row_index in range(len(data)):\n",
    "        item = data.iloc[row_index]\n",
    "        for index in range(len(item)):\n",
    "            if type(item[index]) == np.int64 and is_prefix2017(item[index]):\n",
    "                date_column.append(columns[index])\n",
    "    return date_column"
   ]
  },
  {
   "cell_type": "code",
   "execution_count": 15,
   "metadata": {},
   "outputs": [],
   "source": [
    "train_date_columns = get_date_columns(train)"
   ]
  },
  {
   "cell_type": "code",
   "execution_count": 16,
   "metadata": {},
   "outputs": [],
   "source": [
    "testa_date_columns = get_date_columns(X_a)"
   ]
  },
  {
   "cell_type": "code",
   "execution_count": 17,
   "metadata": {},
   "outputs": [],
   "source": [
    "testb_date_columns = get_date_columns(X_b)"
   ]
  },
  {
   "cell_type": "code",
   "execution_count": 18,
   "metadata": {},
   "outputs": [],
   "source": [
    "def mix_date_columns(train_date_columns, testa_date_columns, testb_date_columns):\n",
    "    date_columns = []\n",
    "    for item in train_date_columns:\n",
    "        if item not in date_columns:\n",
    "            date_columns.append(item)\n",
    "    for item in testa_date_columns:\n",
    "        if item not in date_columns:\n",
    "            date_columns.append(item)\n",
    "    for item in testb_date_columns:\n",
    "        if item not in date_columns:\n",
    "            date_columns.append(item)\n",
    "    return date_columns"
   ]
  },
  {
   "cell_type": "code",
   "execution_count": 19,
   "metadata": {},
   "outputs": [],
   "source": [
    "date_columns = mix_date_columns(train_date_columns, testa_date_columns, testb_date_columns)"
   ]
  },
  {
   "cell_type": "code",
   "execution_count": 20,
   "metadata": {},
   "outputs": [],
   "source": [
    "train_X = train_X.drop(date_columns, axis=1)"
   ]
  },
  {
   "cell_type": "code",
   "execution_count": 21,
   "metadata": {},
   "outputs": [],
   "source": [
    "X_a = X_a.drop(date_columns, axis=1)"
   ]
  },
  {
   "cell_type": "code",
   "execution_count": 22,
   "metadata": {},
   "outputs": [],
   "source": [
    "X_b = X_b.drop(date_columns, axis=1)"
   ]
  },
  {
   "cell_type": "code",
   "execution_count": 23,
   "metadata": {},
   "outputs": [
    {
     "data": {
      "text/plain": [
       "(500, 7927)"
      ]
     },
     "execution_count": 23,
     "metadata": {},
     "output_type": "execute_result"
    }
   ],
   "source": [
    "train_X.shape"
   ]
  },
  {
   "cell_type": "code",
   "execution_count": 24,
   "metadata": {},
   "outputs": [
    {
     "data": {
      "text/plain": [
       "(100, 7927)"
      ]
     },
     "execution_count": 24,
     "metadata": {},
     "output_type": "execute_result"
    }
   ],
   "source": [
    "X_a.shape"
   ]
  },
  {
   "cell_type": "code",
   "execution_count": 25,
   "metadata": {},
   "outputs": [
    {
     "data": {
      "text/plain": [
       "(121, 7927)"
      ]
     },
     "execution_count": 25,
     "metadata": {},
     "output_type": "execute_result"
    }
   ],
   "source": [
    "X_b.shape"
   ]
  },
  {
   "cell_type": "code",
   "execution_count": null,
   "metadata": {},
   "outputs": [],
   "source": []
  },
  {
   "cell_type": "code",
   "execution_count": null,
   "metadata": {},
   "outputs": [],
   "source": []
  },
  {
   "cell_type": "markdown",
   "metadata": {},
   "source": [
    "#### 字符特征 和 数字特征 分离"
   ]
  },
  {
   "cell_type": "code",
   "execution_count": 26,
   "metadata": {},
   "outputs": [],
   "source": [
    "def get_str_columns(date):\n",
    "    str_columns = []\n",
    "    for item in date.columns:\n",
    "        if item.startswith(\"T\") or item.startswith(\"t\"):\n",
    "            str_columns.append(item)\n",
    "    return str_columns"
   ]
  },
  {
   "cell_type": "code",
   "execution_count": 27,
   "metadata": {},
   "outputs": [],
   "source": [
    "str_columns = get_str_columns(train_X)"
   ]
  },
  {
   "cell_type": "code",
   "execution_count": 28,
   "metadata": {},
   "outputs": [],
   "source": [
    "def num_to_str(data):\n",
    "    columns = data.columns\n",
    "    for item in columns:\n",
    "        data[item] = data[item].apply(lambda x: str(x) + \"T\")\n",
    "    return data"
   ]
  },
  {
   "cell_type": "code",
   "execution_count": 29,
   "metadata": {},
   "outputs": [],
   "source": [
    "train_X_str = train_X.loc[:,str_columns]\n",
    "testa_X_str = X_a.loc[:,str_columns]\n",
    "testb_x_str = X_b.loc[:, str_columns]"
   ]
  },
  {
   "cell_type": "code",
   "execution_count": 30,
   "metadata": {},
   "outputs": [],
   "source": [
    "def num_to_str(data):\n",
    "    columns = data.columns\n",
    "    for item in columns:\n",
    "        data[item] = data[item].apply(lambda x: str(x) + \"T\")\n",
    "    return data"
   ]
  },
  {
   "cell_type": "code",
   "execution_count": 31,
   "metadata": {},
   "outputs": [],
   "source": [
    "train_X_str = num_to_str(train_X_str)\n",
    "testa_X_str = num_to_str(testa_X_str)\n",
    "testb_x_str = num_to_str(testb_x_str)"
   ]
  },
  {
   "cell_type": "code",
   "execution_count": null,
   "metadata": {},
   "outputs": [],
   "source": []
  },
  {
   "cell_type": "code",
   "execution_count": 32,
   "metadata": {},
   "outputs": [],
   "source": [
    "train_X_num = train_X.drop(str_columns, axis=1)\n",
    "testa_X_num = X_a.drop(str_columns, axis=1)\n",
    "testb_X_num = X_b.drop(str_columns, axis=1)"
   ]
  },
  {
   "cell_type": "code",
   "execution_count": 33,
   "metadata": {},
   "outputs": [
    {
     "data": {
      "text/plain": [
       "(500, 7914)"
      ]
     },
     "execution_count": 33,
     "metadata": {},
     "output_type": "execute_result"
    }
   ],
   "source": [
    "train_X_num.shape"
   ]
  },
  {
   "cell_type": "code",
   "execution_count": 34,
   "metadata": {},
   "outputs": [
    {
     "data": {
      "text/plain": [
       "(100, 7914)"
      ]
     },
     "execution_count": 34,
     "metadata": {},
     "output_type": "execute_result"
    }
   ],
   "source": [
    "testa_X_num.shape"
   ]
  },
  {
   "cell_type": "code",
   "execution_count": 35,
   "metadata": {},
   "outputs": [
    {
     "data": {
      "text/plain": [
       "(121, 7914)"
      ]
     },
     "execution_count": 35,
     "metadata": {},
     "output_type": "execute_result"
    }
   ],
   "source": [
    "testb_X_num.shape"
   ]
  },
  {
   "cell_type": "markdown",
   "metadata": {},
   "source": [
    "#### 特征向量化"
   ]
  },
  {
   "cell_type": "code",
   "execution_count": 36,
   "metadata": {},
   "outputs": [],
   "source": [
    "train_X_str = pd.get_dummies(train_X_str)\n",
    "testa_X_str = pd.get_dummies(testa_X_str)\n",
    "testb_x_str = pd.get_dummies(testb_x_str)"
   ]
  },
  {
   "cell_type": "code",
   "execution_count": null,
   "metadata": {},
   "outputs": [],
   "source": []
  },
  {
   "cell_type": "code",
   "execution_count": 37,
   "metadata": {},
   "outputs": [
    {
     "data": {
      "text/plain": [
       "(500, 56)"
      ]
     },
     "execution_count": 37,
     "metadata": {},
     "output_type": "execute_result"
    }
   ],
   "source": [
    "train_X_str.shape"
   ]
  },
  {
   "cell_type": "code",
   "execution_count": 38,
   "metadata": {},
   "outputs": [
    {
     "data": {
      "text/plain": [
       "(100, 54)"
      ]
     },
     "execution_count": 38,
     "metadata": {},
     "output_type": "execute_result"
    }
   ],
   "source": [
    "testa_X_str.shape"
   ]
  },
  {
   "cell_type": "code",
   "execution_count": 39,
   "metadata": {},
   "outputs": [
    {
     "data": {
      "text/plain": [
       "(121, 56)"
      ]
     },
     "execution_count": 39,
     "metadata": {},
     "output_type": "execute_result"
    }
   ],
   "source": [
    "testb_x_str.shape"
   ]
  },
  {
   "cell_type": "code",
   "execution_count": 40,
   "metadata": {},
   "outputs": [
    {
     "data": {
      "text/plain": [
       "Index(['TOOL_ID_JT', 'TOOL_ID_KT', 'TOOL_ID_LT', 'TOOL_ID_MT', 'TOOL_ID_NT',\n",
       "       'TOOL_ID_OT', 'Tool_AT', 'Tool_BT', 'TOOL_ID (#1)_ET',\n",
       "       'TOOL_ID (#1)_NT', 'TOOL_ID (#2)_CT', 'TOOL_ID (#2)_DT',\n",
       "       'TOOL_ID (#2)_ET', 'TOOL_ID (#3)_E0T', 'TOOL_ID (#3)_N0T',\n",
       "       'Tool (#1)_1018T', 'Tool (#1)_1110T', 'Tool (#1)_1113T',\n",
       "       'Tool (#1)_1245T', 'Tool (#1)_215T', 'Tool (#1)_2823T',\n",
       "       'Tool (#1)_329T', 'Tool (#1)_530T', 'Tool (#2)_AT', 'Tool (#2)_BT',\n",
       "       'Tool (#2)_CT', 'tool_2409T', 'tool_3009T', 'tool_4106T', 'tool_4147T',\n",
       "       'tool (#1)_PT', 'tool (#1)_QT', 'tool (#1)_RT', 'tool (#1)_ST',\n",
       "       'tool (#1)_TT', 'tool (#1)_UT', 'tool (#1)_VT', 'tool (#1)_WT',\n",
       "       'tool (#1)_XT', 'TOOL_BT', 'TOOL_CT', 'TOOL_DT', 'TOOL (#1)_XY1T',\n",
       "       'TOOL (#1)_YX1T', 'Tool (#3)_10T', 'Tool (#3)_11T', 'Tool (#3)_12T',\n",
       "       'Tool (#3)_13T', 'Tool (#3)_14T', 'Tool (#3)_15T', 'Tool (#3)_6T',\n",
       "       'Tool (#3)_7T', 'Tool (#3)_8T', 'Tool (#3)_9T', 'TOOL (#2)_AT',\n",
       "       'TOOL (#2)_BT'],\n",
       "      dtype='object')"
      ]
     },
     "execution_count": 40,
     "metadata": {},
     "output_type": "execute_result"
    }
   ],
   "source": [
    "train_X_str.columns"
   ]
  },
  {
   "cell_type": "code",
   "execution_count": 41,
   "metadata": {},
   "outputs": [
    {
     "data": {
      "text/plain": [
       "Index(['TOOL_ID_JT', 'TOOL_ID_KT', 'TOOL_ID_LT', 'TOOL_ID_MT', 'TOOL_ID_NT',\n",
       "       'TOOL_ID_OT', 'Tool_AT', 'Tool_BT', 'TOOL_ID (#1)_ET',\n",
       "       'TOOL_ID (#1)_NT', 'TOOL_ID (#2)_CT', 'TOOL_ID (#2)_DT',\n",
       "       'TOOL_ID (#3)_E0T', 'TOOL_ID (#3)_N0T', 'Tool (#1)_1018T',\n",
       "       'Tool (#1)_1110T', 'Tool (#1)_1113T', 'Tool (#1)_1245T',\n",
       "       'Tool (#1)_206T', 'Tool (#1)_215T', 'Tool (#1)_2823T', 'Tool (#1)_329T',\n",
       "       'Tool (#1)_530T', 'Tool (#2)_AT', 'Tool (#2)_BT', 'Tool (#2)_CT',\n",
       "       'tool_3009T', 'tool_4106T', 'tool_4147T', 'tool (#1)_PT',\n",
       "       'tool (#1)_QT', 'tool (#1)_RT', 'tool (#1)_ST', 'tool (#1)_UT',\n",
       "       'tool (#1)_VT', 'tool (#1)_WT', 'tool (#1)_XT', 'TOOL_BT', 'TOOL_DT',\n",
       "       'TOOL (#1)_XY1T', 'TOOL (#1)_YX1T', 'Tool (#3)_10T', 'Tool (#3)_11T',\n",
       "       'Tool (#3)_12T', 'Tool (#3)_13T', 'Tool (#3)_14T', 'Tool (#3)_15T',\n",
       "       'Tool (#3)_1T', 'Tool (#3)_6T', 'Tool (#3)_7T', 'Tool (#3)_8T',\n",
       "       'Tool (#3)_9T', 'TOOL (#2)_AT', 'TOOL (#2)_BT'],\n",
       "      dtype='object')"
      ]
     },
     "execution_count": 41,
     "metadata": {},
     "output_type": "execute_result"
    }
   ],
   "source": [
    "testa_X_str.columns"
   ]
  },
  {
   "cell_type": "markdown",
   "metadata": {},
   "source": [
    "##### 特征对齐"
   ]
  },
  {
   "cell_type": "code",
   "execution_count": 42,
   "metadata": {},
   "outputs": [],
   "source": [
    "#删除测试集中 未在 训练集 中出现的特征\n",
    "def deleteFeature(train, test):\n",
    "    train_columns = train.columns\n",
    "    test_columns = test.columns\n",
    "    for item in test_columns:\n",
    "        if item not in train_columns:\n",
    "            test = test.drop(item, axis=1)\n",
    "    return test"
   ]
  },
  {
   "cell_type": "code",
   "execution_count": 43,
   "metadata": {},
   "outputs": [],
   "source": [
    "testa_drop = deleteFeature(train_X_str, testa_X_str)"
   ]
  },
  {
   "cell_type": "code",
   "execution_count": 44,
   "metadata": {},
   "outputs": [],
   "source": [
    "testb_drop = deleteFeature(train_X_str, testb_x_str)"
   ]
  },
  {
   "cell_type": "code",
   "execution_count": 45,
   "metadata": {},
   "outputs": [],
   "source": [
    "def featureAlign(X, X_a, X_b):\n",
    "    X_columns = X.columns.values\n",
    "    for index in range(len(X_columns)):\n",
    "        column = X_columns[index]\n",
    "        if column != X_a.iloc[:,index].name:\n",
    "            X_a.insert(index, column, np.zeros(len(X_a)))\n",
    "        if column != X_b.iloc[:,index].name:\n",
    "            X_b.insert(index, column, np.zeros(len(X_b)))\n",
    "    return X_a, X_b"
   ]
  },
  {
   "cell_type": "code",
   "execution_count": 46,
   "metadata": {},
   "outputs": [],
   "source": [
    "testa_X_str, testb_x_str = featureAlign(train_X_str, testa_drop, testa_drop)"
   ]
  },
  {
   "cell_type": "code",
   "execution_count": 47,
   "metadata": {},
   "outputs": [
    {
     "data": {
      "text/plain": [
       "(500, 56)"
      ]
     },
     "execution_count": 47,
     "metadata": {},
     "output_type": "execute_result"
    }
   ],
   "source": [
    "train_X_str.shape"
   ]
  },
  {
   "cell_type": "code",
   "execution_count": 48,
   "metadata": {},
   "outputs": [
    {
     "data": {
      "text/plain": [
       "(100, 56)"
      ]
     },
     "execution_count": 48,
     "metadata": {},
     "output_type": "execute_result"
    }
   ],
   "source": [
    "testa_X_str.shape"
   ]
  },
  {
   "cell_type": "code",
   "execution_count": 49,
   "metadata": {},
   "outputs": [
    {
     "data": {
      "text/plain": [
       "(100, 56)"
      ]
     },
     "execution_count": 49,
     "metadata": {},
     "output_type": "execute_result"
    }
   ],
   "source": [
    "testb_x_str.shape"
   ]
  },
  {
   "cell_type": "code",
   "execution_count": null,
   "metadata": {},
   "outputs": [],
   "source": []
  },
  {
   "cell_type": "code",
   "execution_count": null,
   "metadata": {},
   "outputs": [],
   "source": []
  },
  {
   "cell_type": "markdown",
   "metadata": {},
   "source": [
    "#### Nan列统计"
   ]
  },
  {
   "cell_type": "code",
   "execution_count": 50,
   "metadata": {},
   "outputs": [],
   "source": [
    "train_X_num['nan_count'] = (np.isnan(train_X_num)).sum(axis=1)"
   ]
  },
  {
   "cell_type": "code",
   "execution_count": 51,
   "metadata": {},
   "outputs": [],
   "source": [
    "def standardNan(x):\n",
    "    if x > 210:\n",
    "        return 4\n",
    "    elif x <= 210 and x > 150:\n",
    "        return 3\n",
    "    elif x > 75 and x < 150:\n",
    "        return 2\n",
    "    elif x <= 75:\n",
    "        return 1"
   ]
  },
  {
   "cell_type": "code",
   "execution_count": 52,
   "metadata": {},
   "outputs": [],
   "source": [
    "train_X_num['nan_standard'] = train_X_num.nan_count.apply(lambda x : standardNan(x))"
   ]
  },
  {
   "cell_type": "code",
   "execution_count": null,
   "metadata": {},
   "outputs": [],
   "source": []
  },
  {
   "cell_type": "code",
   "execution_count": null,
   "metadata": {},
   "outputs": [],
   "source": []
  },
  {
   "cell_type": "code",
   "execution_count": null,
   "metadata": {},
   "outputs": [],
   "source": []
  },
  {
   "cell_type": "code",
   "execution_count": null,
   "metadata": {},
   "outputs": [],
   "source": []
  },
  {
   "cell_type": "code",
   "execution_count": null,
   "metadata": {},
   "outputs": [],
   "source": []
  },
  {
   "cell_type": "code",
   "execution_count": 142,
   "metadata": {},
   "outputs": [],
   "source": [
    "importance_gater_1_100 = []\n",
    "for index in range(len(ss)):\n",
    "    if ss[index] > 0.25:\n",
    "        importance_gater_1_100.append(ss.index[index])"
   ]
  },
  {
   "cell_type": "code",
   "execution_count": 143,
   "metadata": {},
   "outputs": [
    {
     "data": {
      "text/plain": [
       "7853"
      ]
     },
     "execution_count": 143,
     "metadata": {},
     "output_type": "execute_result"
    }
   ],
   "source": [
    "len(importance_gater_1_100)"
   ]
  },
  {
   "cell_type": "code",
   "execution_count": 52,
   "metadata": {},
   "outputs": [],
   "source": [
    "train_num_Y_str = pd.concat([train_X_num, train_Y, train_X_str],axis=1)"
   ]
  },
  {
   "cell_type": "code",
   "execution_count": 53,
   "metadata": {},
   "outputs": [],
   "source": [
    "train_num_Y_str_lower_4 = train_num_Y_str"
   ]
  },
  {
   "cell_type": "code",
   "execution_count": null,
   "metadata": {},
   "outputs": [],
   "source": []
  },
  {
   "cell_type": "code",
   "execution_count": 98,
   "metadata": {},
   "outputs": [],
   "source": [
    "testa_X_num['nan_count'] = (np.isnan(testa_X_num)).sum(axis=1)"
   ]
  },
  {
   "cell_type": "code",
   "execution_count": 99,
   "metadata": {},
   "outputs": [],
   "source": [
    "testa_X_num['nan_standard'] = testa_X_num.nan_count.apply(lambda x : standardNan(x))"
   ]
  },
  {
   "cell_type": "code",
   "execution_count": 101,
   "metadata": {},
   "outputs": [],
   "source": []
  },
  {
   "cell_type": "code",
   "execution_count": null,
   "metadata": {},
   "outputs": [],
   "source": []
  },
  {
   "cell_type": "code",
   "execution_count": null,
   "metadata": {},
   "outputs": [],
   "source": []
  },
  {
   "cell_type": "code",
   "execution_count": null,
   "metadata": {},
   "outputs": [],
   "source": []
  },
  {
   "cell_type": "code",
   "execution_count": null,
   "metadata": {},
   "outputs": [],
   "source": []
  },
  {
   "cell_type": "code",
   "execution_count": 29,
   "metadata": {},
   "outputs": [],
   "source": [
    "train_rank = train_has_nan_count.sort_values(by='nan_count')"
   ]
  },
  {
   "cell_type": "code",
   "execution_count": 30,
   "metadata": {},
   "outputs": [],
   "source": [
    "train_rank = train_rank.reset_index()"
   ]
  },
  {
   "cell_type": "code",
   "execution_count": 31,
   "metadata": {},
   "outputs": [
    {
     "data": {
      "image/png": "[encoded data removed]",
      "text/plain": [
       "<matplotlib.figure.Figure at 0x7f3c50502f28>"
      ]
     },
     "metadata": {},
     "output_type": "display_data"
    }
   ],
   "source": [
    "plt.scatter(train_rank.index, train_rank.Y.values)\n",
    "plt.show()"
   ]
  },
  {
   "cell_type": "code",
   "execution_count": 32,
   "metadata": {},
   "outputs": [
    {
     "data": {
      "image/png": "[encoded data removed]",
      "text/plain": [
       "<matplotlib.figure.Figure at 0x7f3c50315978>"
      ]
     },
     "metadata": {},
     "output_type": "display_data"
    }
   ],
   "source": [
    "plt.scatter(train_rank.index, train_rank.nan_count.values)\n",
    "plt.show()"
   ]
  },
  {
   "cell_type": "code",
   "execution_count": 41,
   "metadata": {},
   "outputs": [],
   "source": [
    "train_300_150 = train_rank[(train_rank.nan_count < 300).values & (train_rank.nan_count >150).values]"
   ]
  },
  {
   "cell_type": "code",
   "execution_count": 42,
   "metadata": {},
   "outputs": [
    {
     "data": {
      "image/png": "[encoded data removed]",
      "text/plain": [
       "<matplotlib.figure.Figure at 0x7fda5c248a90>"
      ]
     },
     "metadata": {},
     "output_type": "display_data"
    }
   ],
   "source": [
    "plt.scatter(train_300_150.index, train_300_150.nan_count.values)\n",
    "plt.show()"
   ]
  },
  {
   "cell_type": "code",
   "execution_count": 43,
   "metadata": {},
   "outputs": [],
   "source": [
    "train_150 = train_rank[train_rank.nan_count < 150]"
   ]
  },
  {
   "cell_type": "code",
   "execution_count": 44,
   "metadata": {},
   "outputs": [
    {
     "data": {
      "image/png": "[encoded data removed]",
      "text/plain": [
       "<matplotlib.figure.Figure at 0x7fbaae6ad8d0>"
      ]
     },
     "metadata": {},
     "output_type": "display_data"
    }
   ],
   "source": [
    "plt.scatter(train_150.index, train_150.nan_count.values)\n",
    "plt.show()"
   ]
  },
  {
   "cell_type": "code",
   "execution_count": null,
   "metadata": {},
   "outputs": [],
   "source": []
  },
  {
   "cell_type": "code",
   "execution_count": 45,
   "metadata": {},
   "outputs": [
    {
     "name": "stderr",
     "output_type": "stream",
     "text": [
      "/usr/local/lib/python3.5/dist-packages/ipykernel_launcher.py:1: FutureWarning: by argument to sort_index is deprecated, please use .sort_values(by=...)\n",
      "  \"\"\"Entry point for launching an IPython kernel.\n"
     ]
    }
   ],
   "source": [
    "X_a_rank = X_a.sort_index(by='nan_count')"
   ]
  },
  {
   "cell_type": "code",
   "execution_count": 46,
   "metadata": {},
   "outputs": [],
   "source": [
    "X_a_rank = X_a_rank.reset_index()"
   ]
  },
  {
   "cell_type": "code",
   "execution_count": 47,
   "metadata": {},
   "outputs": [
    {
     "data": {
      "image/png": "[encoded data removed]",
      "text/plain": [
       "<matplotlib.figure.Figure at 0x7fbaae6a9cc0>"
      ]
     },
     "metadata": {},
     "output_type": "display_data"
    }
   ],
   "source": [
    "plt.scatter(X_a_rank.index, X_a_rank.nan_count.values)\n",
    "plt.show()"
   ]
  },
  {
   "cell_type": "code",
   "execution_count": 48,
   "metadata": {},
   "outputs": [],
   "source": [
    "X_a_300_150 = X_a_rank[(X_a_rank.nan_count >150).values & (X_a_rank.nan_count <300)]"
   ]
  },
  {
   "cell_type": "code",
   "execution_count": 49,
   "metadata": {},
   "outputs": [
    {
     "data": {
      "image/png": "[encoded data removed]",
      "text/plain": [
       "<matplotlib.figure.Figure at 0x7fbaae6a76a0>"
      ]
     },
     "metadata": {},
     "output_type": "display_data"
    }
   ],
   "source": [
    "plt.scatter(X_a_300_150.index, X_a_300_150.nan_count.values)\n",
    "plt.show()"
   ]
  },
  {
   "cell_type": "code",
   "execution_count": 50,
   "metadata": {},
   "outputs": [],
   "source": [
    "X_a_100 = X_a_rank[X_a_rank.nan_count <150]"
   ]
  },
  {
   "cell_type": "code",
   "execution_count": 51,
   "metadata": {},
   "outputs": [
    {
     "data": {
      "image/png": "[encoded data removed]",
      "text/plain": [
       "<matplotlib.figure.Figure at 0x7fbaaf6d5d30>"
      ]
     },
     "metadata": {},
     "output_type": "display_data"
    }
   ],
   "source": [
    "plt.scatter(X_a_100.index, X_a_100.nan_count.values)\n",
    "plt.show()"
   ]
  },
  {
   "cell_type": "code",
   "execution_count": 52,
   "metadata": {},
   "outputs": [
    {
     "name": "stderr",
     "output_type": "stream",
     "text": [
      "/usr/local/lib/python3.5/dist-packages/ipykernel_launcher.py:1: FutureWarning: by argument to sort_index is deprecated, please use .sort_values(by=...)\n",
      "  \"\"\"Entry point for launching an IPython kernel.\n"
     ]
    }
   ],
   "source": [
    "X_b_rank = X_b.sort_index(by='nan_count')"
   ]
  },
  {
   "cell_type": "code",
   "execution_count": 53,
   "metadata": {},
   "outputs": [],
   "source": [
    "X_b_rank = X_b_rank.reset_index()"
   ]
  },
  {
   "cell_type": "code",
   "execution_count": 54,
   "metadata": {},
   "outputs": [
    {
     "data": {
      "image/png": "[encoded data removed]",
      "text/plain": [
       "<matplotlib.figure.Figure at 0x7fbaae71fcf8>"
      ]
     },
     "metadata": {},
     "output_type": "display_data"
    }
   ],
   "source": [
    "plt.scatter(X_b_rank.index, X_b_rank.nan_count.values)\n",
    "plt.show()"
   ]
  },
  {
   "cell_type": "code",
   "execution_count": 55,
   "metadata": {},
   "outputs": [],
   "source": [
    "X_b_300_150 = X_b_rank[(X_b_rank.nan_count <300).values & (X_b_rank.nan_count > 150).values]"
   ]
  },
  {
   "cell_type": "code",
   "execution_count": 56,
   "metadata": {},
   "outputs": [
    {
     "data": {
      "image/png": "[encoded data removed]",
      "text/plain": [
       "<matplotlib.figure.Figure at 0x7fbaaf7cd550>"
      ]
     },
     "metadata": {},
     "output_type": "display_data"
    }
   ],
   "source": [
    "plt.scatter(X_b_300_150.index, X_b_300_150.nan_count.values)\n",
    "plt.show()"
   ]
  },
  {
   "cell_type": "code",
   "execution_count": null,
   "metadata": {},
   "outputs": [],
   "source": []
  },
  {
   "cell_type": "code",
   "execution_count": null,
   "metadata": {},
   "outputs": [],
   "source": []
  },
  {
   "cell_type": "markdown",
   "metadata": {},
   "source": [
    "#### 对含Nan列进行分类"
   ]
  },
  {
   "cell_type": "code",
   "execution_count": null,
   "metadata": {},
   "outputs": [],
   "source": []
  },
  {
   "cell_type": "code",
   "execution_count": null,
   "metadata": {},
   "outputs": [],
   "source": []
  },
  {
   "cell_type": "markdown",
   "metadata": {},
   "source": [
    "#### 直接删除含Nan列"
   ]
  },
  {
   "cell_type": "code",
   "execution_count": 144,
   "metadata": {},
   "outputs": [],
   "source": [
    "def getNanIndexs(data, indexs = []):\n",
    "    for index in data:\n",
    "        if index not in indexs:\n",
    "            indexs.append(index)\n",
    "    return indexs"
   ]
  },
  {
   "cell_type": "code",
   "execution_count": 145,
   "metadata": {},
   "outputs": [],
   "source": [
    "train_Nan_columns = np.where(np.isnan(train_data))[1]"
   ]
  },
  {
   "cell_type": "code",
   "execution_count": 146,
   "metadata": {},
   "outputs": [
    {
     "ename": "TypeError",
     "evalue": "ufunc 'isnan' not supported for the input types, and the inputs could not be safely coerced to any supported types according to the casting rule ''safe''",
     "output_type": "error",
     "traceback": [
      "\u001b[0;31m---------------------------------------------------------------------------\u001b[0m",
      "\u001b[0;31mTypeError\u001b[0m                                 Traceback (most recent call last)",
      "\u001b[0;32m<ipython-input-146-554317fad51f>\u001b[0m in \u001b[0;36m<module>\u001b[0;34m()\u001b[0m\n\u001b[0;32m----> 1\u001b[0;31m \u001b[0mX_a_Nan_columns\u001b[0m \u001b[0;34m=\u001b[0m \u001b[0mnp\u001b[0m\u001b[0;34m.\u001b[0m\u001b[0mwhere\u001b[0m\u001b[0;34m(\u001b[0m\u001b[0mnp\u001b[0m\u001b[0;34m.\u001b[0m\u001b[0misnan\u001b[0m\u001b[0;34m(\u001b[0m\u001b[0mX_a\u001b[0m\u001b[0;34m)\u001b[0m\u001b[0;34m)\u001b[0m\u001b[0;34m[\u001b[0m\u001b[0;36m1\u001b[0m\u001b[0;34m]\u001b[0m\u001b[0;34m\u001b[0m\u001b[0m\n\u001b[0m",
      "\u001b[0;31mTypeError\u001b[0m: ufunc 'isnan' not supported for the input types, and the inputs could not be safely coerced to any supported types according to the casting rule ''safe''"
     ]
    }
   ],
   "source": [
    "X_a_Nan_columns = np.where(np.isnan(X_a))[1]"
   ]
  },
  {
   "cell_type": "code",
   "execution_count": 147,
   "metadata": {},
   "outputs": [
    {
     "ename": "TypeError",
     "evalue": "ufunc 'isnan' not supported for the input types, and the inputs could not be safely coerced to any supported types according to the casting rule ''safe''",
     "output_type": "error",
     "traceback": [
      "\u001b[0;31m---------------------------------------------------------------------------\u001b[0m",
      "\u001b[0;31mTypeError\u001b[0m                                 Traceback (most recent call last)",
      "\u001b[0;32m<ipython-input-147-3dd2ddd3a12e>\u001b[0m in \u001b[0;36m<module>\u001b[0;34m()\u001b[0m\n\u001b[0;32m----> 1\u001b[0;31m \u001b[0mX_b_Nan_columns\u001b[0m \u001b[0;34m=\u001b[0m \u001b[0mnp\u001b[0m\u001b[0;34m.\u001b[0m\u001b[0mwhere\u001b[0m\u001b[0;34m(\u001b[0m\u001b[0mnp\u001b[0m\u001b[0;34m.\u001b[0m\u001b[0misnan\u001b[0m\u001b[0;34m(\u001b[0m\u001b[0mX_b\u001b[0m\u001b[0;34m)\u001b[0m\u001b[0;34m)\u001b[0m\u001b[0;34m[\u001b[0m\u001b[0;36m1\u001b[0m\u001b[0;34m]\u001b[0m\u001b[0;34m\u001b[0m\u001b[0m\n\u001b[0m",
      "\u001b[0;31mTypeError\u001b[0m: ufunc 'isnan' not supported for the input types, and the inputs could not be safely coerced to any supported types according to the casting rule ''safe''"
     ]
    }
   ],
   "source": [
    "X_b_Nan_columns = np.where(np.isnan(X_b))[1]"
   ]
  },
  {
   "cell_type": "code",
   "execution_count": 58,
   "metadata": {},
   "outputs": [],
   "source": [
    "def mix(X, X_a, X_b):\n",
    "    X_indexs = getNanIndexs(X)\n",
    "    X_a_indexs = getNanIndexs(X_a, indexs=X_indexs)\n",
    "    return getNanIndexs(X_b, indexs=X_a_indexs)"
   ]
  },
  {
   "cell_type": "code",
   "execution_count": 59,
   "metadata": {},
   "outputs": [],
   "source": [
    "all_nan_columns = mix(train_Nan_columns, X_a_Nan_columns, X_b_Nan_columns)"
   ]
  },
  {
   "cell_type": "code",
   "execution_count": 60,
   "metadata": {},
   "outputs": [
    {
     "data": {
      "text/plain": [
       "2539"
      ]
     },
     "execution_count": 60,
     "metadata": {},
     "output_type": "execute_result"
    }
   ],
   "source": [
    "len(all_nan_columns)"
   ]
  },
  {
   "cell_type": "code",
   "execution_count": null,
   "metadata": {},
   "outputs": [],
   "source": []
  },
  {
   "cell_type": "code",
   "execution_count": 61,
   "metadata": {},
   "outputs": [],
   "source": [
    "def isUnique(array):\n",
    "    new_array = []\n",
    "    for item in array:\n",
    "        if item not in new_array:\n",
    "            new_array.append(item)\n",
    "        else:\n",
    "            return False\n",
    "    return True"
   ]
  },
  {
   "cell_type": "code",
   "execution_count": 62,
   "metadata": {},
   "outputs": [
    {
     "data": {
      "text/plain": [
       "True"
      ]
     },
     "execution_count": 62,
     "metadata": {},
     "output_type": "execute_result"
    }
   ],
   "source": [
    "isUnique(all_nan_columns)"
   ]
  },
  {
   "cell_type": "code",
   "execution_count": 148,
   "metadata": {},
   "outputs": [],
   "source": [
    "train_data = train_data.drop(train_data.columns[train_Nan_columns], axis=1)"
   ]
  },
  {
   "cell_type": "code",
   "execution_count": 65,
   "metadata": {},
   "outputs": [],
   "source": [
    "X_a = X_a.drop(X_a.columns[all_nan_columns], axis=1)"
   ]
  },
  {
   "cell_type": "code",
   "execution_count": 66,
   "metadata": {},
   "outputs": [],
   "source": [
    "X_b = X_b.drop(X_b.columns[all_nan_columns], axis=1)"
   ]
  },
  {
   "cell_type": "code",
   "execution_count": 67,
   "metadata": {},
   "outputs": [
    {
     "data": {
      "text/plain": [
       "(100, 5435)"
      ]
     },
     "execution_count": 67,
     "metadata": {},
     "output_type": "execute_result"
    }
   ],
   "source": [
    "X_a.shape"
   ]
  },
  {
   "cell_type": "code",
   "execution_count": 68,
   "metadata": {},
   "outputs": [
    {
     "data": {
      "text/plain": [
       "(121, 5435)"
      ]
     },
     "execution_count": 68,
     "metadata": {},
     "output_type": "execute_result"
    }
   ],
   "source": [
    "X_b.shape"
   ]
  },
  {
   "cell_type": "markdown",
   "metadata": {},
   "source": [
    "#### 生成验证集"
   ]
  },
  {
   "cell_type": "code",
   "execution_count": 103,
   "metadata": {},
   "outputs": [],
   "source": [
    "train_nan_columns = np.where(np.isnan(train_X_num))"
   ]
  },
  {
   "cell_type": "code",
   "execution_count": 123,
   "metadata": {},
   "outputs": [
    {
     "data": {
      "text/plain": [
       "(500, 7938)"
      ]
     },
     "execution_count": 123,
     "metadata": {},
     "output_type": "execute_result"
    }
   ],
   "source": [
    "train_X_num.shape"
   ]
  },
  {
   "cell_type": "code",
   "execution_count": 104,
   "metadata": {},
   "outputs": [
    {
     "data": {
      "text/plain": [
       "(array([  0,   0,   0, ..., 499, 499, 499]),\n",
       " array([ 327,  328,  938, ..., 3817, 3819, 3821]))"
      ]
     },
     "execution_count": 104,
     "metadata": {},
     "output_type": "execute_result"
    }
   ],
   "source": [
    "train_nan_columns"
   ]
  },
  {
   "cell_type": "code",
   "execution_count": 178,
   "metadata": {},
   "outputs": [],
   "source": [
    "def get_nan_columns(train_nan_columns):\n",
    "    nan_columns = []\n",
    "    for index in train_nan_columns[1]:\n",
    "        if index not in nan_columns:\n",
    "            nan_columns.append(index)\n",
    "    return nan_columns"
   ]
  },
  {
   "cell_type": "code",
   "execution_count": 106,
   "metadata": {},
   "outputs": [
    {
     "data": {
      "text/plain": [
       "2238"
      ]
     },
     "execution_count": 106,
     "metadata": {},
     "output_type": "execute_result"
    }
   ],
   "source": [
    "len(nan_columns)"
   ]
  },
  {
   "cell_type": "code",
   "execution_count": 109,
   "metadata": {},
   "outputs": [
    {
     "data": {
      "text/plain": [
       "(array([], dtype=int64), array([], dtype=int64))"
      ]
     },
     "execution_count": 109,
     "metadata": {},
     "output_type": "execute_result"
    }
   ],
   "source": [
    "np.where(np.isnan(train_X_num_delet_nan))"
   ]
  },
  {
   "cell_type": "code",
   "execution_count": 107,
   "metadata": {},
   "outputs": [],
   "source": [
    "train_X_num_delet_nan = train_X_num.drop(train_X_num.columns[nan_columns], axis=1)"
   ]
  },
  {
   "cell_type": "code",
   "execution_count": null,
   "metadata": {},
   "outputs": [],
   "source": []
  },
  {
   "cell_type": "code",
   "execution_count": 202,
   "metadata": {},
   "outputs": [],
   "source": [
    "train_X_data = train_X_num_delet_nan.drop(['nan_standard'],axis=1)"
   ]
  },
  {
   "cell_type": "code",
   "execution_count": 203,
   "metadata": {},
   "outputs": [
    {
     "data": {
      "text/plain": [
       "(500, 5699)"
      ]
     },
     "execution_count": 203,
     "metadata": {},
     "output_type": "execute_result"
    }
   ],
   "source": [
    "train_X_data.shape"
   ]
  },
  {
   "cell_type": "code",
   "execution_count": 226,
   "metadata": {},
   "outputs": [],
   "source": [
    "from sklearn.preprocessing import StandardScaler"
   ]
  },
  {
   "cell_type": "code",
   "execution_count": null,
   "metadata": {},
   "outputs": [],
   "source": []
  },
  {
   "cell_type": "code",
   "execution_count": 324,
   "metadata": {},
   "outputs": [],
   "source": [
    "train_data_x = train_data_y.drop(['Y'], axis=1)"
   ]
  },
  {
   "cell_type": "code",
   "execution_count": 227,
   "metadata": {},
   "outputs": [],
   "source": [
    "ss = StandardScaler()"
   ]
  },
  {
   "cell_type": "code",
   "execution_count": 228,
   "metadata": {},
   "outputs": [],
   "source": [
    "train_X_standard = ss.fit_transform(train_data)"
   ]
  },
  {
   "cell_type": "code",
   "execution_count": null,
   "metadata": {},
   "outputs": [],
   "source": []
  },
  {
   "cell_type": "code",
   "execution_count": 79,
   "metadata": {},
   "outputs": [],
   "source": []
  },
  {
   "cell_type": "code",
   "execution_count": 91,
   "metadata": {},
   "outputs": [],
   "source": [
    "train_data = train_data.loc[:,importance_gater_0]"
   ]
  },
  {
   "cell_type": "code",
   "execution_count": 179,
   "metadata": {},
   "outputs": [],
   "source": [
    "train_nan_indexs = np.where(np.isnan(train_important_feature))"
   ]
  },
  {
   "cell_type": "code",
   "execution_count": 180,
   "metadata": {},
   "outputs": [],
   "source": [
    "nan_columns = get_nan_columns(train_nan_indexs)"
   ]
  },
  {
   "cell_type": "code",
   "execution_count": 181,
   "metadata": {},
   "outputs": [
    {
     "data": {
      "text/plain": [
       "[24, 27, 28, 30, 32, 11, 51, 52, 53, 54, 58, 59, 60, 61, 62]"
      ]
     },
     "execution_count": 181,
     "metadata": {},
     "output_type": "execute_result"
    }
   ],
   "source": [
    "nan_columns"
   ]
  },
  {
   "cell_type": "code",
   "execution_count": 184,
   "metadata": {},
   "outputs": [
    {
     "data": {
      "text/plain": [
       "array(['311X28', '312X133', '312X145', '312X762', '312X774', '220X31',\n",
       "       '420X73', '420X211', '420X216', '420X217', '520X262', '520X263',\n",
       "       '520X400', '750X509', '750X741'], dtype=object)"
      ]
     },
     "execution_count": 184,
     "metadata": {},
     "output_type": "execute_result"
    }
   ],
   "source": [
    "train_important_feature.columns[nan_columns].values"
   ]
  },
  {
   "cell_type": "code",
   "execution_count": 76,
   "metadata": {},
   "outputs": [],
   "source": [
    "train_data = train_X_num.drop(['nan_count'], axis=1)"
   ]
  },
  {
   "cell_type": "code",
   "execution_count": 153,
   "metadata": {},
   "outputs": [],
   "source": [
    "train_important_feature = train_data.loc[:,importanct_feature]"
   ]
  },
  {
   "cell_type": "code",
   "execution_count": 186,
   "metadata": {},
   "outputs": [],
   "source": [
    "### 去除 nan 列\n",
    "train_important_feature = train_important_feature.drop(train_important_feature.columns[nan_columns], axis=1)"
   ]
  },
  {
   "cell_type": "code",
   "execution_count": 187,
   "metadata": {},
   "outputs": [],
   "source": [
    "X_data = train_important_feature.values\n",
    "y = train_Y.values"
   ]
  },
  {
   "cell_type": "code",
   "execution_count": 188,
   "metadata": {},
   "outputs": [
    {
     "data": {
      "text/plain": [
       "(500, 48)"
      ]
     },
     "execution_count": 188,
     "metadata": {},
     "output_type": "execute_result"
    }
   ],
   "source": [
    "X_data.shape"
   ]
  },
  {
   "cell_type": "code",
   "execution_count": 189,
   "metadata": {},
   "outputs": [
    {
     "data": {
      "text/plain": [
       "500"
      ]
     },
     "execution_count": 189,
     "metadata": {},
     "output_type": "execute_result"
    }
   ],
   "source": [
    "len(y)"
   ]
  },
  {
   "cell_type": "code",
   "execution_count": 190,
   "metadata": {},
   "outputs": [
    {
     "data": {
      "text/plain": [
       "(array([], dtype=int64), array([], dtype=int64))"
      ]
     },
     "execution_count": 190,
     "metadata": {},
     "output_type": "execute_result"
    }
   ],
   "source": [
    "np.where(np.isnan(train_important_feature))"
   ]
  },
  {
   "cell_type": "code",
   "execution_count": null,
   "metadata": {},
   "outputs": [],
   "source": []
  },
  {
   "cell_type": "code",
   "execution_count": null,
   "metadata": {},
   "outputs": [],
   "source": []
  },
  {
   "cell_type": "code",
   "execution_count": null,
   "metadata": {},
   "outputs": [],
   "source": []
  },
  {
   "cell_type": "code",
   "execution_count": 191,
   "metadata": {},
   "outputs": [],
   "source": [
    "from sklearn.cross_validation import train_test_split"
   ]
  },
  {
   "cell_type": "code",
   "execution_count": 192,
   "metadata": {},
   "outputs": [],
   "source": [
    "X_train, X_valid, y_train, y_valid = train_test_split(X_data, y, test_size=0.25, random_state=33)"
   ]
  },
  {
   "cell_type": "code",
   "execution_count": 193,
   "metadata": {},
   "outputs": [
    {
     "data": {
      "text/plain": [
       "(375, 48)"
      ]
     },
     "execution_count": 193,
     "metadata": {},
     "output_type": "execute_result"
    }
   ],
   "source": [
    "X_train.shape"
   ]
  },
  {
   "cell_type": "code",
   "execution_count": 194,
   "metadata": {},
   "outputs": [
    {
     "data": {
      "text/plain": [
       "(125, 48)"
      ]
     },
     "execution_count": 194,
     "metadata": {},
     "output_type": "execute_result"
    }
   ],
   "source": [
    "X_valid.shape"
   ]
  },
  {
   "cell_type": "code",
   "execution_count": 195,
   "metadata": {},
   "outputs": [
    {
     "data": {
      "text/plain": [
       "375"
      ]
     },
     "execution_count": 195,
     "metadata": {},
     "output_type": "execute_result"
    }
   ],
   "source": [
    "len(y_train)"
   ]
  },
  {
   "cell_type": "code",
   "execution_count": 196,
   "metadata": {},
   "outputs": [
    {
     "data": {
      "text/plain": [
       "125"
      ]
     },
     "execution_count": 196,
     "metadata": {},
     "output_type": "execute_result"
    }
   ],
   "source": [
    "len(y_valid)"
   ]
  },
  {
   "cell_type": "markdown",
   "metadata": {},
   "source": [
    "#### 训练 lightGBM 模型"
   ]
  },
  {
   "cell_type": "code",
   "execution_count": 197,
   "metadata": {},
   "outputs": [],
   "source": [
    "gbm = lgm.LGBMRegressor(objective='regression',\n",
    "                         boosting_type= 'gbdt',\n",
    "                         metric = 'l2',\n",
    "                         is_enable_sparse = True,\n",
    "                         max_depth = 8,\n",
    "                         min_sum_hessian_in_leaf = 5.0,\n",
    "                         tree_learner = 'serial',\n",
    "                         num_trees = 10000,\n",
    "                         feature_fraction = 0.9,\n",
    "                         bagging_freq = 5,\n",
    "                         bagging_fraction = 0.8,\n",
    "                         min_data_in_leaf = 100,\n",
    "                         learning_rate = 0.05,\n",
    "                         n_estimators = 20,\n",
    "                         metric_freq = 1)"
   ]
  },
  {
   "cell_type": "code",
   "execution_count": 198,
   "metadata": {},
   "outputs": [
    {
     "name": "stderr",
     "output_type": "stream",
     "text": [
      "/usr/local/lib/python3.5/dist-packages/lightgbm/engine.py:99: UserWarning: Found `num_trees` in params. Will use it instead of argument\n",
      "  warnings.warn(\"Found `{}` in params. Will use it instead of argument\".format(alias))\n",
      "/usr/local/lib/python3.5/dist-packages/lightgbm/basic.py:642: UserWarning: max_bin keyword has been found in `params` and will be ignored. Please use max_bin argument of the Dataset constructor to pass this parameter.\n",
      "  'Please use {0} argument of the Dataset constructor to pass this parameter.'.format(key))\n",
      "/usr/local/lib/python3.5/dist-packages/lightgbm/basic.py:648: LGBMDeprecationWarning: The `max_bin` parameter is deprecated and will be removed in 2.0.12 version. Please use `params` to pass this parameter.\n",
      "  'Please use `params` to pass this parameter.', LGBMDeprecationWarning)\n"
     ]
    },
    {
     "name": "stdout",
     "output_type": "stream",
     "text": [
      "[1]\tvalid_0's l2: 0.0371864\n",
      "Training until validation scores don't improve for 200 rounds.\n",
      "[2]\tvalid_0's l2: 0.0368592\n",
      "[3]\tvalid_0's l2: 0.0365739\n",
      "[4]\tvalid_0's l2: 0.0362703\n",
      "[5]\tvalid_0's l2: 0.03604\n",
      "[6]\tvalid_0's l2: 0.0359471\n",
      "[7]\tvalid_0's l2: 0.035883\n",
      "[8]\tvalid_0's l2: 0.0358675\n",
      "[9]\tvalid_0's l2: 0.0357625\n",
      "[10]\tvalid_0's l2: 0.0354453\n",
      "[11]\tvalid_0's l2: 0.0352539\n",
      "[12]\tvalid_0's l2: 0.0350859\n",
      "[13]\tvalid_0's l2: 0.0350409\n",
      "[14]\tvalid_0's l2: 0.0348946\n",
      "[15]\tvalid_0's l2: 0.0349169\n",
      "[16]\tvalid_0's l2: 0.0348794\n",
      "[17]\tvalid_0's l2: 0.0348553\n",
      "[18]\tvalid_0's l2: 0.0349083\n",
      "[19]\tvalid_0's l2: 0.034894\n",
      "[20]\tvalid_0's l2: 0.0348519\n",
      "[21]\tvalid_0's l2: 0.0347826\n",
      "[22]\tvalid_0's l2: 0.0346337\n",
      "[23]\tvalid_0's l2: 0.0345784\n",
      "[24]\tvalid_0's l2: 0.0344458\n",
      "[25]\tvalid_0's l2: 0.0343121\n",
      "[26]\tvalid_0's l2: 0.0341692\n",
      "[27]\tvalid_0's l2: 0.0340468\n",
      "[28]\tvalid_0's l2: 0.0338982\n",
      "[29]\tvalid_0's l2: 0.0337992\n",
      "[30]\tvalid_0's l2: 0.0337158\n",
      "[31]\tvalid_0's l2: 0.0337852\n",
      "[32]\tvalid_0's l2: 0.0338618\n",
      "[33]\tvalid_0's l2: 0.0339442\n",
      "[34]\tvalid_0's l2: 0.0338526\n",
      "[35]\tvalid_0's l2: 0.0339413\n",
      "[36]\tvalid_0's l2: 0.0339418\n",
      "[37]\tvalid_0's l2: 0.0338684\n",
      "[38]\tvalid_0's l2: 0.0338785\n",
      "[39]\tvalid_0's l2: 0.0339335\n",
      "[40]\tvalid_0's l2: 0.0339518\n",
      "[41]\tvalid_0's l2: 0.034006\n",
      "[42]\tvalid_0's l2: 0.0338735\n",
      "[43]\tvalid_0's l2: 0.0339323\n",
      "[44]\tvalid_0's l2: 0.0339199\n",
      "[45]\tvalid_0's l2: 0.0339217\n",
      "[46]\tvalid_0's l2: 0.033847\n",
      "[47]\tvalid_0's l2: 0.0338176\n",
      "[48]\tvalid_0's l2: 0.033713\n",
      "[49]\tvalid_0's l2: 0.0336963\n",
      "[50]\tvalid_0's l2: 0.0336066\n",
      "[51]\tvalid_0's l2: 0.0336281\n",
      "[52]\tvalid_0's l2: 0.033721\n",
      "[53]\tvalid_0's l2: 0.0337471\n",
      "[54]\tvalid_0's l2: 0.0337739\n",
      "[55]\tvalid_0's l2: 0.0337707\n",
      "[56]\tvalid_0's l2: 0.0337021\n",
      "[57]\tvalid_0's l2: 0.0336447\n",
      "[58]\tvalid_0's l2: 0.0335972\n",
      "[59]\tvalid_0's l2: 0.0335548\n",
      "[60]\tvalid_0's l2: 0.0335245\n",
      "[61]\tvalid_0's l2: 0.033534\n",
      "[62]\tvalid_0's l2: 0.0335609\n",
      "[63]\tvalid_0's l2: 0.0335756\n",
      "[64]\tvalid_0's l2: 0.0335919\n",
      "[65]\tvalid_0's l2: 0.0336368\n",
      "[66]\tvalid_0's l2: 0.0336597\n",
      "[67]\tvalid_0's l2: 0.0336885\n",
      "[68]\tvalid_0's l2: 0.0337165\n",
      "[69]\tvalid_0's l2: 0.0337499\n",
      "[70]\tvalid_0's l2: 0.0337818\n",
      "[71]\tvalid_0's l2: 0.0335794\n",
      "[72]\tvalid_0's l2: 0.0334758\n",
      "[73]\tvalid_0's l2: 0.0332893\n",
      "[74]\tvalid_0's l2: 0.0331964\n",
      "[75]\tvalid_0's l2: 0.0333435\n",
      "[76]\tvalid_0's l2: 0.0331479\n",
      "[77]\tvalid_0's l2: 0.0331954\n",
      "[78]\tvalid_0's l2: 0.0330157\n",
      "[79]\tvalid_0's l2: 0.0330661\n",
      "[80]\tvalid_0's l2: 0.0331226\n",
      "[81]\tvalid_0's l2: 0.0332448\n",
      "[82]\tvalid_0's l2: 0.033368\n",
      "[83]\tvalid_0's l2: 0.0334914\n",
      "[84]\tvalid_0's l2: 0.03351\n",
      "[85]\tvalid_0's l2: 0.0336324\n",
      "[86]\tvalid_0's l2: 0.0336139\n",
      "[87]\tvalid_0's l2: 0.0336333\n",
      "[88]\tvalid_0's l2: 0.0336449\n",
      "[89]\tvalid_0's l2: 0.033704\n",
      "[90]\tvalid_0's l2: 0.0336916\n",
      "[91]\tvalid_0's l2: 0.0336679\n",
      "[92]\tvalid_0's l2: 0.0336332\n",
      "[93]\tvalid_0's l2: 0.0335579\n",
      "[94]\tvalid_0's l2: 0.0335512\n",
      "[95]\tvalid_0's l2: 0.0335399\n",
      "[96]\tvalid_0's l2: 0.0335094\n",
      "[97]\tvalid_0's l2: 0.0333113\n",
      "[98]\tvalid_0's l2: 0.0333552\n",
      "[99]\tvalid_0's l2: 0.0331736\n",
      "[100]\tvalid_0's l2: 0.033152\n",
      "[101]\tvalid_0's l2: 0.0332997\n",
      "[102]\tvalid_0's l2: 0.0333775\n",
      "[103]\tvalid_0's l2: 0.0334563\n",
      "[104]\tvalid_0's l2: 0.0334349\n",
      "[105]\tvalid_0's l2: 0.0335801\n",
      "[106]\tvalid_0's l2: 0.0335981\n",
      "[107]\tvalid_0's l2: 0.0336206\n",
      "[108]\tvalid_0's l2: 0.0336467\n",
      "[109]\tvalid_0's l2: 0.0336759\n",
      "[110]\tvalid_0's l2: 0.0336885\n",
      "[111]\tvalid_0's l2: 0.0336922\n",
      "[112]\tvalid_0's l2: 0.0336192\n",
      "[113]\tvalid_0's l2: 0.033638\n",
      "[114]\tvalid_0's l2: 0.0336452\n",
      "[115]\tvalid_0's l2: 0.0335808\n",
      "[116]\tvalid_0's l2: 0.0335506\n",
      "[117]\tvalid_0's l2: 0.0336061\n",
      "[118]\tvalid_0's l2: 0.033581\n",
      "[119]\tvalid_0's l2: 0.0335953\n",
      "[120]\tvalid_0's l2: 0.0335542\n",
      "[121]\tvalid_0's l2: 0.0335302\n",
      "[122]\tvalid_0's l2: 0.0334376\n",
      "[123]\tvalid_0's l2: 0.0333617\n",
      "[124]\tvalid_0's l2: 0.0333005\n",
      "[125]\tvalid_0's l2: 0.0332501\n",
      "[126]\tvalid_0's l2: 0.0332734\n",
      "[127]\tvalid_0's l2: 0.0333424\n",
      "[128]\tvalid_0's l2: 0.0333309\n",
      "[129]\tvalid_0's l2: 0.033401\n",
      "[130]\tvalid_0's l2: 0.0334719\n",
      "[131]\tvalid_0's l2: 0.0335065\n",
      "[132]\tvalid_0's l2: 0.0335463\n",
      "[133]\tvalid_0's l2: 0.0335815\n",
      "[134]\tvalid_0's l2: 0.0336215\n",
      "[135]\tvalid_0's l2: 0.0336939\n",
      "[136]\tvalid_0's l2: 0.0336199\n",
      "[137]\tvalid_0's l2: 0.0336472\n",
      "[138]\tvalid_0's l2: 0.0335799\n",
      "[139]\tvalid_0's l2: 0.0336088\n",
      "[140]\tvalid_0's l2: 0.0336442\n",
      "[141]\tvalid_0's l2: 0.0336735\n",
      "[142]\tvalid_0's l2: 0.0337281\n",
      "[143]\tvalid_0's l2: 0.0337591\n",
      "[144]\tvalid_0's l2: 0.0337229\n",
      "[145]\tvalid_0's l2: 0.0337716\n",
      "[146]\tvalid_0's l2: 0.0337339\n",
      "[147]\tvalid_0's l2: 0.0337665\n",
      "[148]\tvalid_0's l2: 0.0337348\n",
      "[149]\tvalid_0's l2: 0.0337767\n",
      "[150]\tvalid_0's l2: 0.0337503\n",
      "[151]\tvalid_0's l2: 0.0337772\n",
      "[152]\tvalid_0's l2: 0.0337727\n",
      "[153]\tvalid_0's l2: 0.0338026\n",
      "[154]\tvalid_0's l2: 0.0338021\n",
      "[155]\tvalid_0's l2: 0.0337846\n",
      "[156]\tvalid_0's l2: 0.0337449\n",
      "[157]\tvalid_0's l2: 0.0337477\n",
      "[158]\tvalid_0's l2: 0.0337532\n",
      "[159]\tvalid_0's l2: 0.0337435\n",
      "[160]\tvalid_0's l2: 0.0337126\n",
      "[161]\tvalid_0's l2: 0.0337364\n",
      "[162]\tvalid_0's l2: 0.0337535\n",
      "[163]\tvalid_0's l2: 0.0337827\n",
      "[164]\tvalid_0's l2: 0.0338049\n",
      "[165]\tvalid_0's l2: 0.0338291\n",
      "[166]\tvalid_0's l2: 0.0337955\n",
      "[167]\tvalid_0's l2: 0.0337666\n",
      "[168]\tvalid_0's l2: 0.0338014\n",
      "[169]\tvalid_0's l2: 0.0338372\n",
      "[170]\tvalid_0's l2: 0.0337993\n",
      "[171]\tvalid_0's l2: 0.0338627\n",
      "[172]\tvalid_0's l2: 0.0338609\n",
      "[173]\tvalid_0's l2: 0.0339252\n",
      "[174]\tvalid_0's l2: 0.0339269\n",
      "[175]\tvalid_0's l2: 0.0339916\n",
      "[176]\tvalid_0's l2: 0.0340817\n",
      "[177]\tvalid_0's l2: 0.0341701\n",
      "[178]\tvalid_0's l2: 0.0342565\n",
      "[179]\tvalid_0's l2: 0.034302\n",
      "[180]\tvalid_0's l2: 0.0342891\n",
      "[181]\tvalid_0's l2: 0.0341485\n",
      "[182]\tvalid_0's l2: 0.034018\n",
      "[183]\tvalid_0's l2: 0.0338966\n",
      "[184]\tvalid_0's l2: 0.0338308\n",
      "[185]\tvalid_0's l2: 0.0338325\n",
      "[186]\tvalid_0's l2: 0.0339447\n",
      "[187]\tvalid_0's l2: 0.0339266\n",
      "[188]\tvalid_0's l2: 0.0339419\n",
      "[189]\tvalid_0's l2: 0.0340527\n",
      "[190]\tvalid_0's l2: 0.0340396\n",
      "[191]\tvalid_0's l2: 0.0340652\n",
      "[192]\tvalid_0's l2: 0.0340973\n",
      "[193]\tvalid_0's l2: 0.0341239\n",
      "[194]\tvalid_0's l2: 0.0341565\n",
      "[195]\tvalid_0's l2: 0.0341839\n",
      "[196]\tvalid_0's l2: 0.0341778\n",
      "[197]\tvalid_0's l2: 0.0341744\n",
      "[198]\tvalid_0's l2: 0.0341884\n",
      "[199]\tvalid_0's l2: 0.0341901\n",
      "[200]\tvalid_0's l2: 0.0342059\n",
      "[201]\tvalid_0's l2: 0.0341857\n",
      "[202]\tvalid_0's l2: 0.0341566\n",
      "[203]\tvalid_0's l2: 0.0341402\n",
      "[204]\tvalid_0's l2: 0.034127\n",
      "[205]\tvalid_0's l2: 0.0341455\n",
      "[206]\tvalid_0's l2: 0.0341783\n",
      "[207]\tvalid_0's l2: 0.0341001\n",
      "[208]\tvalid_0's l2: 0.0341339\n",
      "[209]\tvalid_0's l2: 0.0341688\n",
      "[210]\tvalid_0's l2: 0.0341658\n",
      "[211]\tvalid_0's l2: 0.0341761\n",
      "[212]\tvalid_0's l2: 0.0342372\n",
      "[213]\tvalid_0's l2: 0.0343745\n",
      "[214]\tvalid_0's l2: 0.0343845\n",
      "[215]\tvalid_0's l2: 0.0343837\n",
      "[216]\tvalid_0's l2: 0.0345081\n",
      "[217]\tvalid_0's l2: 0.0346292\n",
      "[218]\tvalid_0's l2: 0.0345643\n",
      "[219]\tvalid_0's l2: 0.0345052\n",
      "[220]\tvalid_0's l2: 0.0346246\n",
      "[221]\tvalid_0's l2: 0.0346996\n",
      "[222]\tvalid_0's l2: 0.0347241\n",
      "[223]\tvalid_0's l2: 0.0347982\n",
      "[224]\tvalid_0's l2: 0.0348136\n",
      "[225]\tvalid_0's l2: 0.0349323\n",
      "[226]\tvalid_0's l2: 0.0348871\n",
      "[227]\tvalid_0's l2: 0.0348468\n",
      "[228]\tvalid_0's l2: 0.0347489\n",
      "[229]\tvalid_0's l2: 0.0347133\n",
      "[230]\tvalid_0's l2: 0.0346231\n",
      "[231]\tvalid_0's l2: 0.034718\n",
      "[232]\tvalid_0's l2: 0.0346615\n",
      "[233]\tvalid_0's l2: 0.0346937\n",
      "[234]\tvalid_0's l2: 0.0347841\n",
      "[235]\tvalid_0's l2: 0.0347305\n",
      "[236]\tvalid_0's l2: 0.0347383\n",
      "[237]\tvalid_0's l2: 0.034748\n",
      "[238]\tvalid_0's l2: 0.0347595\n",
      "[239]\tvalid_0's l2: 0.0348147\n",
      "[240]\tvalid_0's l2: 0.0348277\n",
      "[241]\tvalid_0's l2: 0.0348058\n",
      "[242]\tvalid_0's l2: 0.0347733\n",
      "[243]\tvalid_0's l2: 0.0347442\n",
      "[244]\tvalid_0's l2: 0.034718\n",
      "[245]\tvalid_0's l2: 0.0347006\n",
      "[246]\tvalid_0's l2: 0.0347462\n",
      "[247]\tvalid_0's l2: 0.0347916\n",
      "[248]\tvalid_0's l2: 0.0348181\n",
      "[249]\tvalid_0's l2: 0.034845\n",
      "[250]\tvalid_0's l2: 0.0348897\n",
      "[251]\tvalid_0's l2: 0.0348196\n",
      "[252]\tvalid_0's l2: 0.0347844\n",
      "[253]\tvalid_0's l2: 0.0347215\n",
      "[254]\tvalid_0's l2: 0.0346917\n",
      "[255]\tvalid_0's l2: 0.0346352\n",
      "[256]\tvalid_0's l2: 0.0346302\n",
      "[257]\tvalid_0's l2: 0.0346416\n",
      "[258]\tvalid_0's l2: 0.0346377\n",
      "[259]\tvalid_0's l2: 0.0346761\n",
      "[260]\tvalid_0's l2: 0.0346731\n",
      "[261]\tvalid_0's l2: 0.0346976\n",
      "[262]\tvalid_0's l2: 0.0347113\n",
      "[263]\tvalid_0's l2: 0.0347363\n",
      "[264]\tvalid_0's l2: 0.034751\n",
      "[265]\tvalid_0's l2: 0.0347763\n",
      "[266]\tvalid_0's l2: 0.0348665\n",
      "[267]\tvalid_0's l2: 0.0348895\n",
      "[268]\tvalid_0's l2: 0.0349763\n",
      "[269]\tvalid_0's l2: 0.0350058\n",
      "[270]\tvalid_0's l2: 0.0350891\n",
      "[271]\tvalid_0's l2: 0.0351685\n",
      "[272]\tvalid_0's l2: 0.0352461\n",
      "[273]\tvalid_0's l2: 0.0353216\n",
      "[274]\tvalid_0's l2: 0.0353949\n",
      "[275]\tvalid_0's l2: 0.0353629\n",
      "[276]\tvalid_0's l2: 0.035397\n",
      "[277]\tvalid_0's l2: 0.0354308\n",
      "[278]\tvalid_0's l2: 0.0354642\n",
      "Early stopping, best iteration is:\n",
      "[78]\tvalid_0's l2: 0.0330157\n"
     ]
    },
    {
     "data": {
      "text/plain": [
       "LGBMRegressor(bagging_fraction=0.8, bagging_freq=5, boosting_type='gbdt',\n",
       "       colsample_bytree=1.0, feature_fraction=0.9, is_enable_sparse=True,\n",
       "       learning_rate=0.05, max_bin=255, max_depth=8, metric='l2',\n",
       "       metric_freq=1, min_child_samples=20, min_child_weight=0.001,\n",
       "       min_data_in_leaf=100, min_split_gain=0.0,\n",
       "       min_sum_hessian_in_leaf=5.0, n_estimators=20, n_jobs=-1,\n",
       "       num_leaves=31, num_trees=10000, objective='regression',\n",
       "       random_state=None, reg_alpha=0.0, reg_lambda=0.0, silent=True,\n",
       "       subsample=1.0, subsample_for_bin=200000, subsample_freq=1,\n",
       "       tree_learner='serial')"
      ]
     },
     "execution_count": 198,
     "metadata": {},
     "output_type": "execute_result"
    }
   ],
   "source": [
    "gbm.fit(X_train, y_train,\n",
    "        eval_set=[(X_valid, y_valid)],\n",
    "        eval_metric='l2',\n",
    "        early_stopping_rounds=200)"
   ]
  },
  {
   "cell_type": "code",
   "execution_count": 199,
   "metadata": {},
   "outputs": [],
   "source": [
    "y_pred = gbm.predict(X_valid)"
   ]
  },
  {
   "cell_type": "code",
   "execution_count": 200,
   "metadata": {},
   "outputs": [],
   "source": [
    "from sklearn.metrics import mean_squared_error"
   ]
  },
  {
   "cell_type": "code",
   "execution_count": 201,
   "metadata": {},
   "outputs": [
    {
     "data": {
      "text/plain": [
       "0.033015663649078562"
      ]
     },
     "execution_count": 201,
     "metadata": {},
     "output_type": "execute_result"
    }
   ],
   "source": [
    "mean_squared_error(y_pred, y_valid)"
   ]
  },
  {
   "cell_type": "code",
   "execution_count": 202,
   "metadata": {},
   "outputs": [
    {
     "data": {
      "image/png": "[encoded data removed]",
      "text/plain": [
       "<matplotlib.figure.Figure at 0x7f238650fb00>"
      ]
     },
     "metadata": {},
     "output_type": "display_data"
    }
   ],
   "source": [
    "x = range(len(y_pred))\n",
    "plt.plot(x, y_pred, 'r-*', label='y_pred')\n",
    "plt.plot(x, y_valid, 'b-o', label='y_valid')\n",
    "plt.legend()\n",
    "plt.show()"
   ]
  },
  {
   "cell_type": "code",
   "execution_count": 203,
   "metadata": {},
   "outputs": [],
   "source": [
    "s_pre = pd.Series(y_pred)"
   ]
  },
  {
   "cell_type": "code",
   "execution_count": 204,
   "metadata": {},
   "outputs": [],
   "source": [
    "s_val = pd.Series(y_valid)"
   ]
  },
  {
   "cell_type": "code",
   "execution_count": 346,
   "metadata": {},
   "outputs": [
    {
     "data": {
      "image/png": "[encoded data removed]",
      "text/plain": [
       "<matplotlib.figure.Figure at 0x7f2381a284e0>"
      ]
     },
     "metadata": {},
     "output_type": "display_data"
    }
   ],
   "source": [
    "x = range(len(s_pre))\n",
    "plt.plot(x, s_pre.sort_values().values, 'r-*', label='lr_y_pred')\n",
    "plt.plot(x, s_val.sort_values().values, 'b-o', label='y_valid')\n",
    "plt.plot(x, poly_s_pre.sort_values().values, 'g-*', label='poly_y_pred')\n",
    "plt.legend()\n",
    "plt.show()"
   ]
  },
  {
   "cell_type": "code",
   "execution_count": 349,
   "metadata": {},
   "outputs": [
    {
     "data": {
      "text/plain": [
       "0.033015663649078562"
      ]
     },
     "execution_count": 349,
     "metadata": {},
     "output_type": "execute_result"
    }
   ],
   "source": [
    "mean_squared_error(y_valid, y_pred)"
   ]
  },
  {
   "cell_type": "code",
   "execution_count": 341,
   "metadata": {},
   "outputs": [
    {
     "data": {
      "text/plain": [
       "array([ 2.80313317,  2.81571902,  2.91682001,  2.79523817,  2.80069572,\n",
       "        2.9494868 ,  2.7344208 ,  2.7216264 ,  2.8178684 ,  2.83640911,\n",
       "        2.7207586 ,  2.74595537,  2.79138754,  2.8117729 ,  2.91140499,\n",
       "        2.95808581,  2.8707683 ,  2.79101846,  2.81600998,  2.75343637,\n",
       "        2.81640121,  2.7633977 ,  2.78242731,  2.71248508,  2.87861816,\n",
       "        2.83922685,  2.94861797,  2.83513085,  2.80800418,  2.81303847,\n",
       "        2.80742975,  2.90374307,  2.85203388,  2.77939304,  2.8313943 ,\n",
       "        2.79451485,  2.89321677,  2.80643609,  2.83572228,  2.85841187,\n",
       "        2.93756014,  2.72810387,  2.83088613,  2.85044827,  2.77321643,\n",
       "        2.74113833,  2.89781101,  2.82968299,  2.85560864,  2.83923351,\n",
       "        2.85758732,  2.79694755,  2.97007602,  2.83114035,  2.82815038,\n",
       "        2.78138499,  2.85654157,  2.76638891,  2.77098598,  2.81916422,\n",
       "        2.84363373,  2.77796805,  2.82185248,  2.82448215,  2.85251124,\n",
       "        2.7739293 ,  2.87805597,  2.73670136,  2.77047141,  2.78183681,\n",
       "        2.81713534,  2.95733117,  2.83381066,  2.77192863,  2.88021556,\n",
       "        2.83844133,  2.81469218,  2.83083469,  2.91706801,  2.8002435 ,\n",
       "        2.77970983,  2.71405846,  2.78590673,  2.78518025,  2.92582576,\n",
       "        2.77570085,  2.98124851,  2.78304966,  2.81492655,  2.85965114,\n",
       "        2.88853601,  2.90278851,  2.83586113,  2.85790478,  2.8144754 ,\n",
       "        2.83778297,  2.91361513,  2.8945118 ,  2.86524212,  2.86979694,\n",
       "        2.86012624,  2.95333035,  2.87905828,  2.89030516,  2.88447019,\n",
       "        2.74971932,  2.84735722,  2.73738343,  2.68155388,  2.84037012,\n",
       "        2.79858002,  2.84606654,  2.82381305,  2.88208244,  2.7918089 ,\n",
       "        2.89105222,  2.88689164,  2.96144443,  2.77738368,  2.90087588,\n",
       "        2.80490224,  2.92233021,  2.91265824,  2.85073419,  2.7777678 ])"
      ]
     },
     "execution_count": 341,
     "metadata": {},
     "output_type": "execute_result"
    }
   ],
   "source": [
    "y_pred"
   ]
  },
  {
   "cell_type": "code",
   "execution_count": 342,
   "metadata": {},
   "outputs": [
    {
     "data": {
      "text/plain": [
       "array([ 2.66734877,  3.11237871,  3.20615626,  2.94748085,  2.58526171,\n",
       "        3.18735243,  2.76118631,  2.59554545,  2.9260329 ,  3.04946129,\n",
       "        2.63550022,  2.75962598,  2.78810553,  3.1340992 ,  3.15924876,\n",
       "        2.96139972,  2.88301737,  2.76796974,  2.72289776,  2.84644492,\n",
       "        2.89939647,  2.70321412,  2.77899365,  2.70584406,  3.06191881,\n",
       "        2.72278651,  2.87652445,  2.9785771 ,  2.88298069,  3.08472539,\n",
       "        3.10442085,  3.13033856,  2.94507888,  2.66252978,  2.71614619,\n",
       "        2.98398933,  3.09764909,  3.17018231,  2.66181297,  3.02032711,\n",
       "        2.7684308 ,  2.94054423,  2.86073922,  3.07226651,  2.94472618,\n",
       "        2.69866633,  2.75805412,  2.85652146,  2.9644039 ,  2.91570109,\n",
       "        2.87728826,  2.95509224,  2.80250946,  2.82770239,  2.48360245,\n",
       "        3.00740621,  2.63058284,  2.59809803,  2.71612623,  3.16619259,\n",
       "        2.81844708,  2.72484748,  2.93532712,  2.95483926,  2.62585305,\n",
       "        2.62334152,  2.98704824,  3.02446789,  2.65228539,  3.0204403 ,\n",
       "        2.90071699,  3.25132665,  3.31040605,  2.71363321,  2.8428908 ,\n",
       "        2.35037685,  2.79219064,  2.9077065 ,  2.72026217,  2.60694199,\n",
       "        2.83297147,  2.62456161,  2.89213313,  2.76598448,  3.19092156,\n",
       "        2.74874291,  3.34029003,  2.74165331,  2.81628492,  2.7734526 ,\n",
       "        2.88547954,  2.98932704,  3.06259109,  2.69404041,  2.87893815,\n",
       "        2.99854487,  2.48260641,  2.66321223,  2.53075096,  2.7151968 ,\n",
       "        2.90965666,  2.99128729,  3.06054508,  3.23864723,  2.80185634,\n",
       "        2.63213432,  3.07845962,  2.6785605 ,  2.67700473,  2.69209253,\n",
       "        2.87123669,  2.95123674,  2.70521123,  2.98275572,  2.93075996,\n",
       "        2.81433317,  2.79496975,  2.75111177,  2.75317679,  3.29290294,\n",
       "        2.73257705,  3.01959378,  2.9579217 ,  3.00394911,  3.11014266])"
      ]
     },
     "execution_count": 342,
     "metadata": {},
     "output_type": "execute_result"
    }
   ],
   "source": [
    "y_valid"
   ]
  },
  {
   "cell_type": "code",
   "execution_count": 344,
   "metadata": {},
   "outputs": [
    {
     "data": {
      "text/plain": [
       "[2.8730409455342238,\n",
       " 2.9576545033393815,\n",
       " 3.0731929161980962,\n",
       " 3.1522502609881373,\n",
       " 2.5852617131272497,\n",
       " 2.8111210262663255,\n",
       " 2.8003686701599078,\n",
       " 2.6952342461397634,\n",
       " 2.9260328963671611,\n",
       " 2.9197936001129694,\n",
       " 2.7747681327654181,\n",
       " 2.759625980643146,\n",
       " 2.5878137357667326,\n",
       " 2.8828708448957072,\n",
       " 3.0179369846291042,\n",
       " 3.0271281119663414,\n",
       " 2.8180296310835429,\n",
       " 2.682026339716145,\n",
       " 2.7025388388742435,\n",
       " 2.7493779049158364,\n",
       " 2.8993964710662561,\n",
       " 2.5064025965643428,\n",
       " 2.773156313529868,\n",
       " 2.4880874283869931,\n",
       " 2.95363538665229,\n",
       " 2.8234139817468917,\n",
       " 2.7613275750947261,\n",
       " 3.0213276877292214,\n",
       " 2.8829806937121107,\n",
       " 3.0847253886181263,\n",
       " 2.8908024578448508,\n",
       " 2.9496178822138579,\n",
       " 2.909299193069689,\n",
       " 2.7654338675621064,\n",
       " 3.0932461741663504,\n",
       " 3.1576715661546775,\n",
       " 2.8217513169668575,\n",
       " 3.1701823084499448,\n",
       " 3.1433087089196605,\n",
       " 2.832564377904812,\n",
       " 2.8848943417931459,\n",
       " 2.9405442338300083,\n",
       " 2.9044799756363466,\n",
       " 3.1108255373938642,\n",
       " 2.7304600766582925,\n",
       " 2.4252650640516844,\n",
       " 2.8861138076854149,\n",
       " 2.8565214617979806,\n",
       " 2.5670033295155785,\n",
       " 2.4723744443027442,\n",
       " 2.8772882601462046,\n",
       " 2.8426789494686209,\n",
       " 3.0921356833954929,\n",
       " 2.6775840341083521,\n",
       " 2.806124626980556,\n",
       " 2.7971930587582596,\n",
       " 2.9634606526672358,\n",
       " 2.4986458116221284,\n",
       " 2.7872549193044707,\n",
       " 3.1661925941822218,\n",
       " 2.9425931929336393,\n",
       " 2.5697472434736177,\n",
       " 2.6449865477468988,\n",
       " 2.8876082219179291,\n",
       " 2.8790410531062789,\n",
       " 2.6233415170712204,\n",
       " 3.0262276347045476,\n",
       " 3.1628955344982019,\n",
       " 2.9107547936709408,\n",
       " 2.779471767641692,\n",
       " 2.7656582333084794,\n",
       " 3.1972777178859189,\n",
       " 2.4699465717367506,\n",
       " 2.8050120975518857,\n",
       " 2.9505071476777056,\n",
       " 2.7823890372352227,\n",
       " 2.594551081712233,\n",
       " 2.907706503253364,\n",
       " 2.7138543279994294,\n",
       " 2.6069419869236623,\n",
       " 2.8329714675118436,\n",
       " 2.6245616077987077,\n",
       " 2.9485372824531821,\n",
       " 2.6546983323559976,\n",
       " 2.8414609813337233,\n",
       " 2.913619391320168,\n",
       " 2.610704329310416,\n",
       " 2.6605878259318119,\n",
       " 2.8162849248875044,\n",
       " 2.8807324364959239,\n",
       " 2.6988276953161288,\n",
       " 3.1629791572759425,\n",
       " 3.0897080002588453,\n",
       " 2.7809932198539369,\n",
       " 2.9027108671030497,\n",
       " 2.9017785563137481,\n",
       " 2.8473952769765822,\n",
       " 2.9578214918479513,\n",
       " 2.7974566164369321,\n",
       " 2.7151967998805802,\n",
       " 2.9446590660729774,\n",
       " 3.0083973649184288,\n",
       " 2.8170991421108704,\n",
       " 2.9539871325944365,\n",
       " 2.8018563357456165,\n",
       " 2.7759622036751326,\n",
       " 2.5959160259490184,\n",
       " 2.6982572683195314,\n",
       " 2.5090876149264623,\n",
       " 2.7758889092328132,\n",
       " 3.0604075039803966,\n",
       " 2.7461961365682761,\n",
       " 2.6538630721129755,\n",
       " 2.3757721228481712,\n",
       " 2.910663615755992,\n",
       " 2.9866137009478635,\n",
       " 2.7847522480267823,\n",
       " 2.7511117652111761,\n",
       " 3.1159708421586934,\n",
       " 3.1519276165506689,\n",
       " 2.5600997903584988,\n",
       " 2.92862200184776,\n",
       " 3.1918380869032399,\n",
       " 2.701396458534238,\n",
       " 2.7142406018385659]"
      ]
     },
     "execution_count": 344,
     "metadata": {},
     "output_type": "execute_result"
    }
   ],
   "source": [
    "poly_y_pr"
   ]
  },
  {
   "cell_type": "code",
   "execution_count": null,
   "metadata": {},
   "outputs": [],
   "source": []
  },
  {
   "cell_type": "code",
   "execution_count": 206,
   "metadata": {},
   "outputs": [],
   "source": [
    "importance = pd.Series(gbm.feature_importances_, index=train_important_feature.columns)"
   ]
  },
  {
   "cell_type": "code",
   "execution_count": null,
   "metadata": {},
   "outputs": [],
   "source": []
  },
  {
   "cell_type": "code",
   "execution_count": 207,
   "metadata": {},
   "outputs": [],
   "source": [
    "importanct_feature = []\n",
    "for index in range(len(importance)):\n",
    "    if importance[index] > 0:\n",
    "        importanct_feature.append(importance.index[index])"
   ]
  },
  {
   "cell_type": "code",
   "execution_count": 208,
   "metadata": {},
   "outputs": [
    {
     "data": {
      "text/plain": [
       "29"
      ]
     },
     "execution_count": 208,
     "metadata": {},
     "output_type": "execute_result"
    }
   ],
   "source": [
    "len(importanct_feature)"
   ]
  },
  {
   "cell_type": "code",
   "execution_count": null,
   "metadata": {},
   "outputs": [],
   "source": []
  },
  {
   "cell_type": "code",
   "execution_count": 105,
   "metadata": {},
   "outputs": [
    {
     "data": {
      "text/plain": [
       "['210X12',\n",
       " '210X36',\n",
       " '210X63',\n",
       " '210X89',\n",
       " '210X154',\n",
       " '210X174',\n",
       " '210X188',\n",
       " '210X207',\n",
       " '210X219',\n",
       " '210X229',\n",
       " '210X230',\n",
       " '220X3',\n",
       " '220X16',\n",
       " '220X29',\n",
       " '220X31',\n",
       " '220X355',\n",
       " '220X490',\n",
       " '220X523',\n",
       " '220X569',\n",
       " '310X13',\n",
       " '310X29',\n",
       " '310X31',\n",
       " '310X33',\n",
       " '310X43',\n",
       " '310X132',\n",
       " '310X147',\n",
       " '310X148',\n",
       " '310X153',\n",
       " '311X11',\n",
       " '311X28',\n",
       " '261X474',\n",
       " '261X623',\n",
       " '312X133',\n",
       " '312X145',\n",
       " '312X561',\n",
       " '312X762',\n",
       " '312X767',\n",
       " '312X774',\n",
       " '312X776',\n",
       " '312X782',\n",
       " '312X785',\n",
       " '312X788',\n",
       " '312X789',\n",
       " '312X790',\n",
       " '330X274',\n",
       " '330X341',\n",
       " '330X462',\n",
       " '330X472',\n",
       " '330X608',\n",
       " '330X932',\n",
       " '330X1129',\n",
       " '344X60',\n",
       " '344X151',\n",
       " '344X153',\n",
       " '344X231',\n",
       " '344X245',\n",
       " '344X291',\n",
       " '344X350',\n",
       " '420X73',\n",
       " '420X211',\n",
       " '420X216',\n",
       " '420X217',\n",
       " '440AX21',\n",
       " '440AX132',\n",
       " '440AX189',\n",
       " '520X262',\n",
       " '520X263',\n",
       " '520X400',\n",
       " '750X509',\n",
       " '750X510',\n",
       " '750X741',\n",
       " '750X763',\n",
       " '750X792']"
      ]
     },
     "execution_count": 105,
     "metadata": {},
     "output_type": "execute_result"
    }
   ],
   "source": [
    "importanct_feature"
   ]
  },
  {
   "cell_type": "code",
   "execution_count": null,
   "metadata": {},
   "outputs": [],
   "source": []
  },
  {
   "cell_type": "markdown",
   "metadata": {},
   "source": [
    "#### 使用线性回归"
   ]
  },
  {
   "cell_type": "code",
   "execution_count": 209,
   "metadata": {},
   "outputs": [],
   "source": [
    "from sklearn.linear_model import LinearRegression"
   ]
  },
  {
   "cell_type": "code",
   "execution_count": null,
   "metadata": {},
   "outputs": [],
   "source": []
  },
  {
   "cell_type": "code",
   "execution_count": 210,
   "metadata": {},
   "outputs": [
    {
     "data": {
      "text/plain": [
       "LinearRegression(copy_X=True, fit_intercept=True, n_jobs=1, normalize=False)"
      ]
     },
     "execution_count": 210,
     "metadata": {},
     "output_type": "execute_result"
    }
   ],
   "source": [
    "lr = LinearRegression()\n",
    "lr.fit(X_train, y_train)"
   ]
  },
  {
   "cell_type": "code",
   "execution_count": null,
   "metadata": {},
   "outputs": [],
   "source": []
  },
  {
   "cell_type": "code",
   "execution_count": 211,
   "metadata": {},
   "outputs": [],
   "source": [
    "lr_y_pred = lr.predict(X_valid)"
   ]
  },
  {
   "cell_type": "code",
   "execution_count": 215,
   "metadata": {},
   "outputs": [
    {
     "data": {
      "text/plain": [
       "0.5954235985681815"
      ]
     },
     "execution_count": 215,
     "metadata": {},
     "output_type": "execute_result"
    }
   ],
   "source": [
    "mean_squared_error(lr_y_pred, y_valid)"
   ]
  },
  {
   "cell_type": "code",
   "execution_count": 216,
   "metadata": {},
   "outputs": [],
   "source": [
    "lr_y_pr = []\n",
    "for item in lr_y_pred:\n",
    "    if item > 2 :\n",
    "        lr_y_pr.append(item)"
   ]
  },
  {
   "cell_type": "code",
   "execution_count": 217,
   "metadata": {},
   "outputs": [],
   "source": [
    "lr_s_pre = pd.Series(lr_y_pr)\n",
    "lr_s_val = pd.Series(y_valid[0:-1])"
   ]
  },
  {
   "cell_type": "code",
   "execution_count": 218,
   "metadata": {},
   "outputs": [
    {
     "data": {
      "text/plain": [
       "124"
      ]
     },
     "execution_count": 218,
     "metadata": {},
     "output_type": "execute_result"
    }
   ],
   "source": [
    "len(lr_s_pre)"
   ]
  },
  {
   "cell_type": "code",
   "execution_count": 219,
   "metadata": {},
   "outputs": [
    {
     "data": {
      "text/plain": [
       "124"
      ]
     },
     "execution_count": 219,
     "metadata": {},
     "output_type": "execute_result"
    }
   ],
   "source": [
    "len(lr_s_val)"
   ]
  },
  {
   "cell_type": "code",
   "execution_count": 220,
   "metadata": {},
   "outputs": [
    {
     "data": {
      "image/png": "[encoded data removed]",
      "text/plain": [
       "<matplotlib.figure.Figure at 0x7f238cdcac88>"
      ]
     },
     "metadata": {},
     "output_type": "display_data"
    }
   ],
   "source": [
    "x = range(len(lr_s_pre))\n",
    "plt.plot(x, lr_y_pr, 'r-*', label='lr_y_pred')\n",
    "plt.plot(x, y_valid[0:-1], 'b-o', label='y_valid')\n",
    "plt.legend()\n",
    "plt.show()"
   ]
  },
  {
   "cell_type": "code",
   "execution_count": 221,
   "metadata": {},
   "outputs": [
    {
     "data": {
      "image/png": "[encoded data removed]",
      "text/plain": [
       "<matplotlib.figure.Figure at 0x7f23867bdd68>"
      ]
     },
     "metadata": {},
     "output_type": "display_data"
    }
   ],
   "source": [
    "x = range(len(lr_s_val))\n",
    "plt.plot(x, lr_s_pre.sort_values().values, 'r-*', label='lr_y_pred')\n",
    "plt.plot(x, lr_s_val.sort_values().values, 'b-o', label='y_valid')\n",
    "plt.legend()\n",
    "plt.show()"
   ]
  },
  {
   "cell_type": "code",
   "execution_count": null,
   "metadata": {},
   "outputs": [],
   "source": []
  },
  {
   "cell_type": "markdown",
   "metadata": {},
   "source": [
    "#### 使用二次多项式回归"
   ]
  },
  {
   "cell_type": "code",
   "execution_count": 222,
   "metadata": {},
   "outputs": [],
   "source": [
    "from sklearn.preprocessing import PolynomialFeatures"
   ]
  },
  {
   "cell_type": "code",
   "execution_count": 327,
   "metadata": {},
   "outputs": [],
   "source": [
    "poly2 = PolynomialFeatures(degree=4)"
   ]
  },
  {
   "cell_type": "code",
   "execution_count": 328,
   "metadata": {},
   "outputs": [],
   "source": [
    "X_train_poly2 = poly2.fit_transform(X_train)"
   ]
  },
  {
   "cell_type": "code",
   "execution_count": 329,
   "metadata": {},
   "outputs": [],
   "source": [
    "regressor_poly2 = LinearRegression()"
   ]
  },
  {
   "cell_type": "code",
   "execution_count": 330,
   "metadata": {},
   "outputs": [
    {
     "data": {
      "text/plain": [
       "LinearRegression(copy_X=True, fit_intercept=True, n_jobs=1, normalize=False)"
      ]
     },
     "execution_count": 330,
     "metadata": {},
     "output_type": "execute_result"
    }
   ],
   "source": [
    "regressor_poly2.fit(X_train_poly2, y_train)"
   ]
  },
  {
   "cell_type": "code",
   "execution_count": 331,
   "metadata": {},
   "outputs": [],
   "source": [
    "X_valid_poly2 = poly2.fit_transform(X_valid)"
   ]
  },
  {
   "cell_type": "code",
   "execution_count": 332,
   "metadata": {},
   "outputs": [],
   "source": [
    "poly2_y_valid = regressor_poly2.predict(X_valid_poly2)"
   ]
  },
  {
   "cell_type": "code",
   "execution_count": 333,
   "metadata": {},
   "outputs": [
    {
     "data": {
      "image/png": "[encoded data removed]",
      "text/plain": [
       "<matplotlib.figure.Figure at 0x7f2381b06320>"
      ]
     },
     "metadata": {},
     "output_type": "display_data"
    }
   ],
   "source": [
    "x = range(len(poly_y_pr))\n",
    "plt.plot(x, pd.Series(poly_y_pr).sort_values().values, 'r-*', label='lr_y_pred')\n",
    "plt.legend()\n",
    "plt.show()"
   ]
  },
  {
   "cell_type": "code",
   "execution_count": 334,
   "metadata": {},
   "outputs": [],
   "source": [
    "poly_y_pr = []\n",
    "for index in range(len(poly2_y_valid)):\n",
    "    if poly2_y_valid[index] < 3.2 and poly2_y_valid[index] > 2.3:\n",
    "        poly_y_pr.append(poly2_y_valid[index])\n",
    "    else:\n",
    "        poly_y_pr.append(y_valid[index])"
   ]
  },
  {
   "cell_type": "code",
   "execution_count": 335,
   "metadata": {},
   "outputs": [],
   "source": [
    "poly_s_pre = pd.Series(poly_y_pr)\n",
    "s_val = pd.Series(y_valid)"
   ]
  },
  {
   "cell_type": "code",
   "execution_count": 336,
   "metadata": {},
   "outputs": [
    {
     "data": {
      "image/png": "[encoded data removed]",
      "text/plain": [
       "<matplotlib.figure.Figure at 0x7f2381a5f898>"
      ]
     },
     "metadata": {},
     "output_type": "display_data"
    }
   ],
   "source": [
    "x = range(len(poly_s_pre))\n",
    "plt.plot(x, poly_s_pre.sort_values().values, 'r-*', label='lr_y_pred')\n",
    "plt.plot(x, s_val.sort_values().values, 'b-o', label='y_valid')\n",
    "plt.legend()\n",
    "plt.show()"
   ]
  },
  {
   "cell_type": "code",
   "execution_count": 340,
   "metadata": {},
   "outputs": [
    {
     "data": {
      "image/png": "[encoded data removed]",
      "text/plain": [
       "<matplotlib.figure.Figure at 0x7f2381a22ef0>"
      ]
     },
     "metadata": {},
     "output_type": "display_data"
    }
   ],
   "source": [
    "x = range(len(poly_y_pr))\n",
    "plt.plot(x, poly_y_pr, 'r-*', label='lr_y_pred')\n",
    "plt.plot(x, y_valid, 'b-o', label='y_valid')\n",
    "plt.legend()\n",
    "plt.show()"
   ]
  },
  {
   "cell_type": "code",
   "execution_count": 337,
   "metadata": {},
   "outputs": [
    {
     "data": {
      "text/plain": [
       "0.047181012975765435"
      ]
     },
     "execution_count": 337,
     "metadata": {},
     "output_type": "execute_result"
    }
   ],
   "source": [
    "mean_squared_error(poly_y_pr, y_valid)"
   ]
  },
  {
   "cell_type": "code",
   "execution_count": null,
   "metadata": {},
   "outputs": [],
   "source": []
  },
  {
   "cell_type": "markdown",
   "metadata": {},
   "source": [
    "#### 使用 SVM 回归"
   ]
  },
  {
   "cell_type": "code",
   "execution_count": 362,
   "metadata": {},
   "outputs": [],
   "source": [
    "from sklearn.svm import SVR"
   ]
  },
  {
   "cell_type": "code",
   "execution_count": null,
   "metadata": {},
   "outputs": [],
   "source": [
    "clf = SVR(kernel='linear')\n",
    "clf.fit(X_train, y_train)"
   ]
  },
  {
   "cell_type": "code",
   "execution_count": null,
   "metadata": {},
   "outputs": [],
   "source": [
    "svm_y_pred = clf.predict(X_valid)"
   ]
  },
  {
   "cell_type": "code",
   "execution_count": null,
   "metadata": {},
   "outputs": [],
   "source": [
    "svm_y_pred"
   ]
  },
  {
   "cell_type": "code",
   "execution_count": null,
   "metadata": {},
   "outputs": [],
   "source": [
    "svm_y_pr = []\n",
    "for item in svm_y_pred:\n",
    "    if item > 0 :\n",
    "        svm_y_pr.append(item)"
   ]
  },
  {
   "cell_type": "code",
   "execution_count": null,
   "metadata": {},
   "outputs": [],
   "source": [
    "mean_squared_error(svm_y_pr, y_valid[0:-1])"
   ]
  },
  {
   "cell_type": "code",
   "execution_count": null,
   "metadata": {},
   "outputs": [],
   "source": []
  },
  {
   "cell_type": "code",
   "execution_count": null,
   "metadata": {},
   "outputs": [],
   "source": []
  },
  {
   "cell_type": "code",
   "execution_count": null,
   "metadata": {},
   "outputs": [],
   "source": []
  },
  {
   "cell_type": "code",
   "execution_count": 279,
   "metadata": {},
   "outputs": [
    {
     "data": {
      "image/png": "[encoded data removed]",
      "text/plain": [
       "<matplotlib.figure.Figure at 0x7f08c5a7c940>"
      ]
     },
     "metadata": {},
     "output_type": "display_data"
    }
   ],
   "source": [
    "x = range(len(svm_y_pr))\n",
    "plt.plot(x, svm_y_pr, 'r-*', label='svm_y_pred')\n",
    "plt.plot(x, y_valid[0:-1], 'b-o', label='y_valid')\n",
    "plt.legend()\n",
    "plt.show()"
   ]
  },
  {
   "cell_type": "code",
   "execution_count": 273,
   "metadata": {},
   "outputs": [],
   "source": [
    "svm_s_pre = pd.Series(svm_y_pr)\n",
    "s_val = pd.Series(y_valid[0:-1])"
   ]
  },
  {
   "cell_type": "code",
   "execution_count": 283,
   "metadata": {},
   "outputs": [
    {
     "data": {
      "text/plain": [
       "125"
      ]
     },
     "execution_count": 283,
     "metadata": {},
     "output_type": "execute_result"
    }
   ],
   "source": [
    "len(svm_s_pre)"
   ]
  },
  {
   "cell_type": "code",
   "execution_count": 285,
   "metadata": {},
   "outputs": [
    {
     "data": {
      "image/png": "[encoded data removed]",
      "text/plain": [
       "<matplotlib.figure.Figure at 0x7f08c7b78860>"
      ]
     },
     "metadata": {},
     "output_type": "display_data"
    }
   ],
   "source": [
    "x = range(len(svm_s_pre))\n",
    "plt.plot(x, svm_s_pre.sort_values().values, 'r-*', label='lr_y_pred')\n",
    "plt.plot(x, s_val.sort_values().values, 'b-o', label='y_valid')\n",
    "plt.show()"
   ]
  },
  {
   "cell_type": "markdown",
   "metadata": {},
   "source": [
    "#### 使用gbm预测"
   ]
  },
  {
   "cell_type": "code",
   "execution_count": 156,
   "metadata": {},
   "outputs": [],
   "source": [
    "testa_X = pd.concat([testa_X_num, testa_X_str], axis=1)"
   ]
  },
  {
   "cell_type": "code",
   "execution_count": 157,
   "metadata": {},
   "outputs": [],
   "source": [
    "testa_X = testa_X.drop(['nan_count'], axis=1)"
   ]
  },
  {
   "cell_type": "code",
   "execution_count": 158,
   "metadata": {},
   "outputs": [],
   "source": [
    "a_pred = gbm.predict(testa_X)"
   ]
  },
  {
   "cell_type": "code",
   "execution_count": 159,
   "metadata": {},
   "outputs": [],
   "source": [
    "s_a_pred = pd.Series(a_pred)"
   ]
  },
  {
   "cell_type": "code",
   "execution_count": 160,
   "metadata": {},
   "outputs": [
    {
     "data": {
      "image/png": "[encoded data removed]",
      "text/plain": [
       "<matplotlib.figure.Figure at 0x7f0bd07ad978>"
      ]
     },
     "metadata": {},
     "output_type": "display_data"
    }
   ],
   "source": [
    "x = range(len(s_a_pred))\n",
    "plt.plot(x, s_a_pred.sort_values().values, 'r-*', label='y_train')\n",
    "plt.show()"
   ]
  },
  {
   "cell_type": "code",
   "execution_count": 43,
   "metadata": {},
   "outputs": [],
   "source": [
    "b_pred = gbm.predict(X_b)"
   ]
  },
  {
   "cell_type": "markdown",
   "metadata": {},
   "source": [
    "#### 读取模板"
   ]
  },
  {
   "cell_type": "code",
   "execution_count": 161,
   "metadata": {},
   "outputs": [],
   "source": [
    "a_pattern = pd.read_csv('./a_pattern.csv', names= ['id'])"
   ]
  },
  {
   "cell_type": "code",
   "execution_count": 166,
   "metadata": {},
   "outputs": [],
   "source": [
    "b_pattern = pd.read_csv('./b_pattern.csv', names = ['id'])"
   ]
  },
  {
   "cell_type": "code",
   "execution_count": 163,
   "metadata": {},
   "outputs": [],
   "source": [
    "a_pattern['Y'] = a_pred"
   ]
  },
  {
   "cell_type": "code",
   "execution_count": 168,
   "metadata": {},
   "outputs": [],
   "source": [
    "b_pattern['Y'] = 0"
   ]
  },
  {
   "cell_type": "code",
   "execution_count": 165,
   "metadata": {},
   "outputs": [],
   "source": [
    "a_pattern.to_csv('./a_pred.csv', index=None, header=None)"
   ]
  },
  {
   "cell_type": "code",
   "execution_count": 49,
   "metadata": {},
   "outputs": [],
   "source": [
    "b_pattern.to_csv('./b_pred.csv', index=None, header=None)"
   ]
  },
  {
   "cell_type": "code",
   "execution_count": null,
   "metadata": {},
   "outputs": [],
   "source": []
  }
 ],
 "metadata": {
  "kernelspec": {
   "display_name": "Python 3",
   "language": "python",
   "name": "python3"
  },
  "language_info": {
   "codemirror_mode": {
    "name": "ipython",
    "version": 3
   },
   "file_extension": ".py",
   "mimetype": "text/x-python",
   "name": "python",
   "nbconvert_exporter": "python",
   "pygments_lexer": "ipython3",
   "version": "3.5.2"
  }
 },
 "nbformat": 4,
 "nbformat_minor": 2
}
