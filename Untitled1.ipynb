{
 "cells": [
  {
   "cell_type": "code",
   "execution_count": 1,
   "metadata": {},
   "outputs": [],
   "source": [
    "import pandas as pd\n",
    "import numpy as np\n",
    "import lightgbm as lgm\n",
    "%matplotlib inline\n",
    "import matplotlib.pyplot as plt"
   ]
  },
  {
   "cell_type": "markdown",
   "metadata": {},
   "source": [
    "### 读取训练数据"
   ]
  },
  {
   "cell_type": "code",
   "execution_count": 2,
   "metadata": {},
   "outputs": [],
   "source": [
    "# train = pd.read_excel('./train.xlsx')\n",
    "# testa = pd.read_excel('./testa.xlsx')\n",
    "# testb = pd.read_excel('./testb.xlsx')"
   ]
  },
  {
   "cell_type": "code",
   "execution_count": 3,
   "metadata": {},
   "outputs": [],
   "source": [
    "train = pd.read_csv('./input/train.csv')\n",
    "testa = pd.read_csv('./input/testa.csv')\n",
    "testb = pd.read_csv('./input/testb.csv')"
   ]
  },
  {
   "cell_type": "code",
   "execution_count": 4,
   "metadata": {},
   "outputs": [
    {
     "data": {
      "text/html": [
       "<div>\n",
       "<style scoped>\n",
       "    .dataframe tbody tr th:only-of-type {\n",
       "        vertical-align: middle;\n",
       "    }\n",
       "\n",
       "    .dataframe tbody tr th {\n",
       "        vertical-align: top;\n",
       "    }\n",
       "\n",
       "    .dataframe thead th {\n",
       "        text-align: right;\n",
       "    }\n",
       "</style>\n",
       "<table border=\"1\" class=\"dataframe\">\n",
       "  <thead>\n",
       "    <tr style=\"text-align: right;\">\n",
       "      <th></th>\n",
       "      <th>ID</th>\n",
       "      <th>TOOL_ID</th>\n",
       "      <th>210X1</th>\n",
       "      <th>210X2</th>\n",
       "      <th>210X3</th>\n",
       "      <th>210X4</th>\n",
       "      <th>210X5</th>\n",
       "      <th>210X6</th>\n",
       "      <th>210X7</th>\n",
       "      <th>210X8</th>\n",
       "      <th>...</th>\n",
       "      <th>750X1444</th>\n",
       "      <th>750X1445</th>\n",
       "      <th>750X1446</th>\n",
       "      <th>750X1447</th>\n",
       "      <th>750X1448</th>\n",
       "      <th>750X1449</th>\n",
       "      <th>750X1450</th>\n",
       "      <th>750X1451</th>\n",
       "      <th>750X1452</th>\n",
       "      <th>Y</th>\n",
       "    </tr>\n",
       "  </thead>\n",
       "  <tbody>\n",
       "    <tr>\n",
       "      <th>0</th>\n",
       "      <td>ID001</td>\n",
       "      <td>N</td>\n",
       "      <td>102.05</td>\n",
       "      <td>0.465</td>\n",
       "      <td>0.27</td>\n",
       "      <td>1.430</td>\n",
       "      <td>67.45</td>\n",
       "      <td>4.620</td>\n",
       "      <td>-0.54</td>\n",
       "      <td>-1.05</td>\n",
       "      <td>...</td>\n",
       "      <td>0.00072</td>\n",
       "      <td>0.00072</td>\n",
       "      <td>25.7</td>\n",
       "      <td>0.00072</td>\n",
       "      <td>0.00072</td>\n",
       "      <td>25.7</td>\n",
       "      <td>0.00072</td>\n",
       "      <td>0.00072</td>\n",
       "      <td>2.400000e+12</td>\n",
       "      <td>2.945079</td>\n",
       "    </tr>\n",
       "    <tr>\n",
       "      <th>1</th>\n",
       "      <td>ID002</td>\n",
       "      <td>M</td>\n",
       "      <td>100.95</td>\n",
       "      <td>0.805</td>\n",
       "      <td>0.22</td>\n",
       "      <td>3.477</td>\n",
       "      <td>62.08</td>\n",
       "      <td>3.412</td>\n",
       "      <td>-2.12</td>\n",
       "      <td>1.02</td>\n",
       "      <td>...</td>\n",
       "      <td>0.00072</td>\n",
       "      <td>0.00072</td>\n",
       "      <td>25.5</td>\n",
       "      <td>0.00072</td>\n",
       "      <td>0.00072</td>\n",
       "      <td>25.5</td>\n",
       "      <td>0.00072</td>\n",
       "      <td>0.00072</td>\n",
       "      <td>2.400000e+12</td>\n",
       "      <td>2.955092</td>\n",
       "    </tr>\n",
       "    <tr>\n",
       "      <th>2</th>\n",
       "      <td>ID003</td>\n",
       "      <td>L</td>\n",
       "      <td>98.56</td>\n",
       "      <td>0.555</td>\n",
       "      <td>0.24</td>\n",
       "      <td>1.172</td>\n",
       "      <td>56.70</td>\n",
       "      <td>3.080</td>\n",
       "      <td>-2.25</td>\n",
       "      <td>0.88</td>\n",
       "      <td>...</td>\n",
       "      <td>0.00064</td>\n",
       "      <td>0.00064</td>\n",
       "      <td>25.2</td>\n",
       "      <td>0.00064</td>\n",
       "      <td>0.00064</td>\n",
       "      <td>25.2</td>\n",
       "      <td>0.00064</td>\n",
       "      <td>0.00064</td>\n",
       "      <td>2.400000e+12</td>\n",
       "      <td>2.741264</td>\n",
       "    </tr>\n",
       "    <tr>\n",
       "      <th>3</th>\n",
       "      <td>ID004</td>\n",
       "      <td>M</td>\n",
       "      <td>100.35</td>\n",
       "      <td>0.901</td>\n",
       "      <td>0.22</td>\n",
       "      <td>3.631</td>\n",
       "      <td>62.25</td>\n",
       "      <td>3.949</td>\n",
       "      <td>-1.98</td>\n",
       "      <td>0.82</td>\n",
       "      <td>...</td>\n",
       "      <td>0.00072</td>\n",
       "      <td>0.00072</td>\n",
       "      <td>26.4</td>\n",
       "      <td>0.00072</td>\n",
       "      <td>0.00072</td>\n",
       "      <td>26.4</td>\n",
       "      <td>0.00072</td>\n",
       "      <td>0.00072</td>\n",
       "      <td>2.400000e+12</td>\n",
       "      <td>2.799336</td>\n",
       "    </tr>\n",
       "    <tr>\n",
       "      <th>4</th>\n",
       "      <td>ID005</td>\n",
       "      <td>M</td>\n",
       "      <td>100.25</td>\n",
       "      <td>0.854</td>\n",
       "      <td>0.23</td>\n",
       "      <td>3.429</td>\n",
       "      <td>61.42</td>\n",
       "      <td>3.630</td>\n",
       "      <td>-1.89</td>\n",
       "      <td>1.02</td>\n",
       "      <td>...</td>\n",
       "      <td>0.00072</td>\n",
       "      <td>0.00072</td>\n",
       "      <td>26.4</td>\n",
       "      <td>0.00072</td>\n",
       "      <td>0.00072</td>\n",
       "      <td>26.4</td>\n",
       "      <td>0.00072</td>\n",
       "      <td>0.00072</td>\n",
       "      <td>2.400000e+12</td>\n",
       "      <td>2.692093</td>\n",
       "    </tr>\n",
       "  </tbody>\n",
       "</table>\n",
       "<p>5 rows × 8029 columns</p>\n",
       "</div>"
      ],
      "text/plain": [
       "      ID TOOL_ID   210X1  210X2  210X3  210X4  210X5  210X6  210X7  210X8  \\\n",
       "0  ID001       N  102.05  0.465   0.27  1.430  67.45  4.620  -0.54  -1.05   \n",
       "1  ID002       M  100.95  0.805   0.22  3.477  62.08  3.412  -2.12   1.02   \n",
       "2  ID003       L   98.56  0.555   0.24  1.172  56.70  3.080  -2.25   0.88   \n",
       "3  ID004       M  100.35  0.901   0.22  3.631  62.25  3.949  -1.98   0.82   \n",
       "4  ID005       M  100.25  0.854   0.23  3.429  61.42  3.630  -1.89   1.02   \n",
       "\n",
       "     ...     750X1444  750X1445  750X1446  750X1447  750X1448  750X1449  \\\n",
       "0    ...      0.00072   0.00072      25.7   0.00072   0.00072      25.7   \n",
       "1    ...      0.00072   0.00072      25.5   0.00072   0.00072      25.5   \n",
       "2    ...      0.00064   0.00064      25.2   0.00064   0.00064      25.2   \n",
       "3    ...      0.00072   0.00072      26.4   0.00072   0.00072      26.4   \n",
       "4    ...      0.00072   0.00072      26.4   0.00072   0.00072      26.4   \n",
       "\n",
       "   750X1450  750X1451      750X1452         Y  \n",
       "0   0.00072   0.00072  2.400000e+12  2.945079  \n",
       "1   0.00072   0.00072  2.400000e+12  2.955092  \n",
       "2   0.00064   0.00064  2.400000e+12  2.741264  \n",
       "3   0.00072   0.00072  2.400000e+12  2.799336  \n",
       "4   0.00072   0.00072  2.400000e+12  2.692093  \n",
       "\n",
       "[5 rows x 8029 columns]"
      ]
     },
     "execution_count": 4,
     "metadata": {},
     "output_type": "execute_result"
    }
   ],
   "source": [
    "train.head()"
   ]
  },
  {
   "cell_type": "code",
   "execution_count": 5,
   "metadata": {},
   "outputs": [],
   "source": [
    "train_y_series = train.Y"
   ]
  },
  {
   "cell_type": "code",
   "execution_count": 6,
   "metadata": {},
   "outputs": [
    {
     "data": {
      "image/png": "[encoded data removed]",
      "text/plain": [
       "<matplotlib.figure.Figure at 0x7fe12e2c54e0>"
      ]
     },
     "metadata": {},
     "output_type": "display_data"
    }
   ],
   "source": [
    "x = range(len(train_y_series))\n",
    "plt.plot(x, train_y_series.sort_values().values, 'r-*', label='y_train')\n",
    "plt.show()"
   ]
  },
  {
   "cell_type": "markdown",
   "metadata": {},
   "source": [
    "#### 去除ID"
   ]
  },
  {
   "cell_type": "code",
   "execution_count": 7,
   "metadata": {},
   "outputs": [],
   "source": [
    "train_X = train.iloc[:,1:-1]\n",
    "train_Y = train.Y\n",
    "X_a = testa.iloc[:,1:]\n",
    "X_b = testb.iloc[:,1:]"
   ]
  },
  {
   "cell_type": "code",
   "execution_count": 8,
   "metadata": {},
   "outputs": [],
   "source": [
    "train_id = train.ID\n",
    "a_id = testa.ID\n",
    "b_id = testa.ID"
   ]
  },
  {
   "cell_type": "code",
   "execution_count": 9,
   "metadata": {},
   "outputs": [
    {
     "data": {
      "text/plain": [
       "(500, 8027)"
      ]
     },
     "execution_count": 9,
     "metadata": {},
     "output_type": "execute_result"
    }
   ],
   "source": [
    "train_X.shape"
   ]
  },
  {
   "cell_type": "code",
   "execution_count": 10,
   "metadata": {},
   "outputs": [
    {
     "data": {
      "text/plain": [
       "(100, 8027)"
      ]
     },
     "execution_count": 10,
     "metadata": {},
     "output_type": "execute_result"
    }
   ],
   "source": [
    "X_a.shape"
   ]
  },
  {
   "cell_type": "code",
   "execution_count": 11,
   "metadata": {},
   "outputs": [
    {
     "data": {
      "text/plain": [
       "(121, 8027)"
      ]
     },
     "execution_count": 11,
     "metadata": {},
     "output_type": "execute_result"
    }
   ],
   "source": [
    "X_b.shape"
   ]
  },
  {
   "cell_type": "code",
   "execution_count": 12,
   "metadata": {},
   "outputs": [
    {
     "data": {
      "text/plain": [
       "500"
      ]
     },
     "execution_count": 12,
     "metadata": {},
     "output_type": "execute_result"
    }
   ],
   "source": [
    "len(train_X)"
   ]
  },
  {
   "cell_type": "markdown",
   "metadata": {},
   "source": [
    "#### 去除时间特征"
   ]
  },
  {
   "cell_type": "code",
   "execution_count": 13,
   "metadata": {},
   "outputs": [],
   "source": [
    "def is_prefix2017(num):\n",
    "    str_num = str(num)\n",
    "    return str_num.startswith('2017')"
   ]
  },
  {
   "cell_type": "code",
   "execution_count": 14,
   "metadata": {},
   "outputs": [],
   "source": [
    "def get_date_columns(data):\n",
    "    columns = data.iloc[0, :].index\n",
    "    date_column = []\n",
    "    for row_index in range(len(data)):\n",
    "        item = data.iloc[row_index]\n",
    "        for index in range(len(item)):\n",
    "            if type(item[index]) == np.int64 and is_prefix2017(item[index]):\n",
    "                date_column.append(columns[index])\n",
    "    return date_column"
   ]
  },
  {
   "cell_type": "code",
   "execution_count": 15,
   "metadata": {},
   "outputs": [],
   "source": [
    "train_date_columns = get_date_columns(train)"
   ]
  },
  {
   "cell_type": "code",
   "execution_count": 16,
   "metadata": {},
   "outputs": [],
   "source": [
    "testa_date_columns = get_date_columns(X_a)"
   ]
  },
  {
   "cell_type": "code",
   "execution_count": 17,
   "metadata": {},
   "outputs": [],
   "source": [
    "testb_date_columns = get_date_columns(X_b)"
   ]
  },
  {
   "cell_type": "code",
   "execution_count": 18,
   "metadata": {},
   "outputs": [],
   "source": [
    "def mix_date_columns(train_date_columns, testa_date_columns, testb_date_columns):\n",
    "    date_columns = []\n",
    "    for item in train_date_columns:\n",
    "        if item not in date_columns:\n",
    "            date_columns.append(item)\n",
    "    for item in testa_date_columns:\n",
    "        if item not in date_columns:\n",
    "            date_columns.append(item)\n",
    "    for item in testb_date_columns:\n",
    "        if item not in date_columns:\n",
    "            date_columns.append(item)\n",
    "    return date_columns"
   ]
  },
  {
   "cell_type": "code",
   "execution_count": 19,
   "metadata": {},
   "outputs": [],
   "source": [
    "date_columns = mix_date_columns(train_date_columns, testa_date_columns, testb_date_columns)"
   ]
  },
  {
   "cell_type": "code",
   "execution_count": 20,
   "metadata": {},
   "outputs": [],
   "source": [
    "train_X = train_X.drop(date_columns, axis=1)"
   ]
  },
  {
   "cell_type": "code",
   "execution_count": 21,
   "metadata": {},
   "outputs": [],
   "source": [
    "X_a = X_a.drop(date_columns, axis=1)"
   ]
  },
  {
   "cell_type": "code",
   "execution_count": 22,
   "metadata": {},
   "outputs": [],
   "source": [
    "X_b = X_b.drop(date_columns, axis=1)"
   ]
  },
  {
   "cell_type": "code",
   "execution_count": 23,
   "metadata": {},
   "outputs": [
    {
     "data": {
      "text/plain": [
       "(500, 7927)"
      ]
     },
     "execution_count": 23,
     "metadata": {},
     "output_type": "execute_result"
    }
   ],
   "source": [
    "train_X.shape"
   ]
  },
  {
   "cell_type": "code",
   "execution_count": 24,
   "metadata": {},
   "outputs": [
    {
     "data": {
      "text/plain": [
       "(100, 7927)"
      ]
     },
     "execution_count": 24,
     "metadata": {},
     "output_type": "execute_result"
    }
   ],
   "source": [
    "X_a.shape"
   ]
  },
  {
   "cell_type": "code",
   "execution_count": 25,
   "metadata": {},
   "outputs": [
    {
     "data": {
      "text/plain": [
       "(121, 7927)"
      ]
     },
     "execution_count": 25,
     "metadata": {},
     "output_type": "execute_result"
    }
   ],
   "source": [
    "X_b.shape"
   ]
  },
  {
   "cell_type": "code",
   "execution_count": null,
   "metadata": {},
   "outputs": [],
   "source": []
  },
  {
   "cell_type": "code",
   "execution_count": null,
   "metadata": {},
   "outputs": [],
   "source": []
  },
  {
   "cell_type": "markdown",
   "metadata": {},
   "source": [
    "#### 字符特征 和 数字特征 分离"
   ]
  },
  {
   "cell_type": "code",
   "execution_count": 26,
   "metadata": {},
   "outputs": [],
   "source": [
    "def get_str_columns(date):\n",
    "    str_columns = []\n",
    "    for item in date.columns:\n",
    "        if item.startswith(\"T\") or item.startswith(\"t\"):\n",
    "            str_columns.append(item)\n",
    "    return str_columns"
   ]
  },
  {
   "cell_type": "code",
   "execution_count": 27,
   "metadata": {},
   "outputs": [],
   "source": [
    "str_columns = get_str_columns(train_X)"
   ]
  },
  {
   "cell_type": "code",
   "execution_count": 28,
   "metadata": {},
   "outputs": [],
   "source": [
    "def num_to_str(data):\n",
    "    columns = data.columns\n",
    "    for item in columns:\n",
    "        data[item] = data[item].apply(lambda x: str(x) + \"T\")\n",
    "    return data"
   ]
  },
  {
   "cell_type": "code",
   "execution_count": 29,
   "metadata": {},
   "outputs": [],
   "source": [
    "train_X_str = train_X.loc[:,str_columns]\n",
    "testa_X_str = X_a.loc[:,str_columns]\n",
    "testb_x_str = X_b.loc[:, str_columns]"
   ]
  },
  {
   "cell_type": "code",
   "execution_count": 30,
   "metadata": {},
   "outputs": [],
   "source": [
    "def num_to_str(data):\n",
    "    columns = data.columns\n",
    "    for item in columns:\n",
    "        data[item] = data[item].apply(lambda x: str(x) + \"T\")\n",
    "    return data"
   ]
  },
  {
   "cell_type": "code",
   "execution_count": 31,
   "metadata": {},
   "outputs": [],
   "source": [
    "train_X_str = num_to_str(train_X_str)\n",
    "testa_X_str = num_to_str(testa_X_str)\n",
    "testb_x_str = num_to_str(testb_x_str)"
   ]
  },
  {
   "cell_type": "code",
   "execution_count": null,
   "metadata": {},
   "outputs": [],
   "source": []
  },
  {
   "cell_type": "code",
   "execution_count": 32,
   "metadata": {},
   "outputs": [],
   "source": [
    "train_X_num = train_X.drop(str_columns, axis=1)\n",
    "testa_X_num = X_a.drop(str_columns, axis=1)\n",
    "testb_X_num = X_b.drop(str_columns, axis=1)"
   ]
  },
  {
   "cell_type": "code",
   "execution_count": 33,
   "metadata": {},
   "outputs": [
    {
     "data": {
      "text/plain": [
       "(500, 7914)"
      ]
     },
     "execution_count": 33,
     "metadata": {},
     "output_type": "execute_result"
    }
   ],
   "source": [
    "train_X_num.shape"
   ]
  },
  {
   "cell_type": "code",
   "execution_count": 34,
   "metadata": {},
   "outputs": [
    {
     "data": {
      "text/plain": [
       "(100, 7914)"
      ]
     },
     "execution_count": 34,
     "metadata": {},
     "output_type": "execute_result"
    }
   ],
   "source": [
    "testa_X_num.shape"
   ]
  },
  {
   "cell_type": "code",
   "execution_count": 35,
   "metadata": {},
   "outputs": [
    {
     "data": {
      "text/plain": [
       "(121, 7914)"
      ]
     },
     "execution_count": 35,
     "metadata": {},
     "output_type": "execute_result"
    }
   ],
   "source": [
    "testb_X_num.shape"
   ]
  },
  {
   "cell_type": "markdown",
   "metadata": {},
   "source": [
    "#### 特征向量化"
   ]
  },
  {
   "cell_type": "code",
   "execution_count": 36,
   "metadata": {},
   "outputs": [],
   "source": [
    "train_X_str = pd.get_dummies(train_X_str)\n",
    "testa_X_str = pd.get_dummies(testa_X_str)\n",
    "testb_x_str = pd.get_dummies(testb_x_str)"
   ]
  },
  {
   "cell_type": "code",
   "execution_count": null,
   "metadata": {},
   "outputs": [],
   "source": []
  },
  {
   "cell_type": "code",
   "execution_count": 37,
   "metadata": {},
   "outputs": [
    {
     "data": {
      "text/plain": [
       "(500, 56)"
      ]
     },
     "execution_count": 37,
     "metadata": {},
     "output_type": "execute_result"
    }
   ],
   "source": [
    "train_X_str.shape"
   ]
  },
  {
   "cell_type": "code",
   "execution_count": 38,
   "metadata": {},
   "outputs": [
    {
     "data": {
      "text/plain": [
       "(100, 54)"
      ]
     },
     "execution_count": 38,
     "metadata": {},
     "output_type": "execute_result"
    }
   ],
   "source": [
    "testa_X_str.shape"
   ]
  },
  {
   "cell_type": "code",
   "execution_count": 39,
   "metadata": {},
   "outputs": [
    {
     "data": {
      "text/plain": [
       "(121, 56)"
      ]
     },
     "execution_count": 39,
     "metadata": {},
     "output_type": "execute_result"
    }
   ],
   "source": [
    "testb_x_str.shape"
   ]
  },
  {
   "cell_type": "code",
   "execution_count": 40,
   "metadata": {},
   "outputs": [
    {
     "data": {
      "text/plain": [
       "Index(['TOOL_ID_JT', 'TOOL_ID_KT', 'TOOL_ID_LT', 'TOOL_ID_MT', 'TOOL_ID_NT',\n",
       "       'TOOL_ID_OT', 'Tool_AT', 'Tool_BT', 'TOOL_ID (#1)_ET',\n",
       "       'TOOL_ID (#1)_NT', 'TOOL_ID (#2)_CT', 'TOOL_ID (#2)_DT',\n",
       "       'TOOL_ID (#2)_ET', 'TOOL_ID (#3)_E0T', 'TOOL_ID (#3)_N0T',\n",
       "       'Tool (#1)_1018T', 'Tool (#1)_1110T', 'Tool (#1)_1113T',\n",
       "       'Tool (#1)_1245T', 'Tool (#1)_215T', 'Tool (#1)_2823T',\n",
       "       'Tool (#1)_329T', 'Tool (#1)_530T', 'Tool (#2)_AT', 'Tool (#2)_BT',\n",
       "       'Tool (#2)_CT', 'tool_2409T', 'tool_3009T', 'tool_4106T', 'tool_4147T',\n",
       "       'tool (#1)_PT', 'tool (#1)_QT', 'tool (#1)_RT', 'tool (#1)_ST',\n",
       "       'tool (#1)_TT', 'tool (#1)_UT', 'tool (#1)_VT', 'tool (#1)_WT',\n",
       "       'tool (#1)_XT', 'TOOL_BT', 'TOOL_CT', 'TOOL_DT', 'TOOL (#1)_XY1T',\n",
       "       'TOOL (#1)_YX1T', 'Tool (#3)_10T', 'Tool (#3)_11T', 'Tool (#3)_12T',\n",
       "       'Tool (#3)_13T', 'Tool (#3)_14T', 'Tool (#3)_15T', 'Tool (#3)_6T',\n",
       "       'Tool (#3)_7T', 'Tool (#3)_8T', 'Tool (#3)_9T', 'TOOL (#2)_AT',\n",
       "       'TOOL (#2)_BT'],\n",
       "      dtype='object')"
      ]
     },
     "execution_count": 40,
     "metadata": {},
     "output_type": "execute_result"
    }
   ],
   "source": [
    "train_X_str.columns"
   ]
  },
  {
   "cell_type": "code",
   "execution_count": 41,
   "metadata": {},
   "outputs": [
    {
     "data": {
      "text/plain": [
       "Index(['TOOL_ID_JT', 'TOOL_ID_KT', 'TOOL_ID_LT', 'TOOL_ID_MT', 'TOOL_ID_NT',\n",
       "       'TOOL_ID_OT', 'Tool_AT', 'Tool_BT', 'TOOL_ID (#1)_ET',\n",
       "       'TOOL_ID (#1)_NT', 'TOOL_ID (#2)_CT', 'TOOL_ID (#2)_DT',\n",
       "       'TOOL_ID (#3)_E0T', 'TOOL_ID (#3)_N0T', 'Tool (#1)_1018T',\n",
       "       'Tool (#1)_1110T', 'Tool (#1)_1113T', 'Tool (#1)_1245T',\n",
       "       'Tool (#1)_206T', 'Tool (#1)_215T', 'Tool (#1)_2823T', 'Tool (#1)_329T',\n",
       "       'Tool (#1)_530T', 'Tool (#2)_AT', 'Tool (#2)_BT', 'Tool (#2)_CT',\n",
       "       'tool_3009T', 'tool_4106T', 'tool_4147T', 'tool (#1)_PT',\n",
       "       'tool (#1)_QT', 'tool (#1)_RT', 'tool (#1)_ST', 'tool (#1)_UT',\n",
       "       'tool (#1)_VT', 'tool (#1)_WT', 'tool (#1)_XT', 'TOOL_BT', 'TOOL_DT',\n",
       "       'TOOL (#1)_XY1T', 'TOOL (#1)_YX1T', 'Tool (#3)_10T', 'Tool (#3)_11T',\n",
       "       'Tool (#3)_12T', 'Tool (#3)_13T', 'Tool (#3)_14T', 'Tool (#3)_15T',\n",
       "       'Tool (#3)_1T', 'Tool (#3)_6T', 'Tool (#3)_7T', 'Tool (#3)_8T',\n",
       "       'Tool (#3)_9T', 'TOOL (#2)_AT', 'TOOL (#2)_BT'],\n",
       "      dtype='object')"
      ]
     },
     "execution_count": 41,
     "metadata": {},
     "output_type": "execute_result"
    }
   ],
   "source": [
    "testa_X_str.columns"
   ]
  },
  {
   "cell_type": "markdown",
   "metadata": {},
   "source": [
    "##### 特征对齐"
   ]
  },
  {
   "cell_type": "code",
   "execution_count": 42,
   "metadata": {},
   "outputs": [],
   "source": [
    "#删除测试集中 未在 训练集 中出现的特征\n",
    "def deleteFeature(train, test):\n",
    "    train_columns = train.columns\n",
    "    test_columns = test.columns\n",
    "    for item in test_columns:\n",
    "        if item not in train_columns:\n",
    "            test = test.drop(item, axis=1)\n",
    "    return test"
   ]
  },
  {
   "cell_type": "code",
   "execution_count": 43,
   "metadata": {},
   "outputs": [],
   "source": [
    "testa_drop = deleteFeature(train_X_str, testa_X_str)"
   ]
  },
  {
   "cell_type": "code",
   "execution_count": 44,
   "metadata": {},
   "outputs": [],
   "source": [
    "testb_drop = deleteFeature(train_X_str, testb_x_str)"
   ]
  },
  {
   "cell_type": "code",
   "execution_count": 45,
   "metadata": {},
   "outputs": [],
   "source": [
    "def featureAlign(X, X_a, X_b):\n",
    "    X_columns = X.columns.values\n",
    "    for index in range(len(X_columns)):\n",
    "        column = X_columns[index]\n",
    "        if column != X_a.iloc[:,index].name:\n",
    "            X_a.insert(index, column, np.zeros(len(X_a)))\n",
    "        if column != X_b.iloc[:,index].name:\n",
    "            X_b.insert(index, column, np.zeros(len(X_b)))\n",
    "    return X_a, X_b"
   ]
  },
  {
   "cell_type": "code",
   "execution_count": 46,
   "metadata": {},
   "outputs": [],
   "source": [
    "testa_X_str, testb_x_str = featureAlign(train_X_str, testa_drop, testb_drop)"
   ]
  },
  {
   "cell_type": "code",
   "execution_count": 47,
   "metadata": {},
   "outputs": [
    {
     "data": {
      "text/plain": [
       "(500, 56)"
      ]
     },
     "execution_count": 47,
     "metadata": {},
     "output_type": "execute_result"
    }
   ],
   "source": [
    "train_X_str.shape"
   ]
  },
  {
   "cell_type": "code",
   "execution_count": 48,
   "metadata": {},
   "outputs": [
    {
     "data": {
      "text/plain": [
       "(100, 56)"
      ]
     },
     "execution_count": 48,
     "metadata": {},
     "output_type": "execute_result"
    }
   ],
   "source": [
    "testa_X_str.shape"
   ]
  },
  {
   "cell_type": "code",
   "execution_count": 49,
   "metadata": {},
   "outputs": [
    {
     "data": {
      "text/plain": [
       "(121, 56)"
      ]
     },
     "execution_count": 49,
     "metadata": {},
     "output_type": "execute_result"
    }
   ],
   "source": [
    "testb_x_str.shape"
   ]
  },
  {
   "cell_type": "code",
   "execution_count": null,
   "metadata": {},
   "outputs": [],
   "source": []
  },
  {
   "cell_type": "code",
   "execution_count": null,
   "metadata": {},
   "outputs": [],
   "source": []
  },
  {
   "cell_type": "markdown",
   "metadata": {},
   "source": [
    "#### Nan列统计"
   ]
  },
  {
   "cell_type": "code",
   "execution_count": 50,
   "metadata": {},
   "outputs": [],
   "source": [
    "train_X_num['nan_count'] = (np.isnan(train_X_num)).sum(axis=1)"
   ]
  },
  {
   "cell_type": "code",
   "execution_count": 51,
   "metadata": {},
   "outputs": [],
   "source": [
    "def standardNan(x):\n",
    "    if x > 210:\n",
    "        return 3\n",
    "    elif x <= 210 and x > 150:\n",
    "        return 2\n",
    "    else:\n",
    "        return 1"
   ]
  },
  {
   "cell_type": "code",
   "execution_count": 52,
   "metadata": {},
   "outputs": [],
   "source": [
    "train_X_num['nan_standard'] = train_X_num.nan_count.apply(lambda x : standardNan(x))"
   ]
  },
  {
   "cell_type": "code",
   "execution_count": 53,
   "metadata": {},
   "outputs": [],
   "source": [
    "train_X_num_3 = train_X_num[train_X_num.nan_standard == 3]"
   ]
  },
  {
   "cell_type": "code",
   "execution_count": 54,
   "metadata": {},
   "outputs": [
    {
     "data": {
      "text/plain": [
       "(56, 7916)"
      ]
     },
     "execution_count": 54,
     "metadata": {},
     "output_type": "execute_result"
    }
   ],
   "source": [
    "train_X_num_3.shape"
   ]
  },
  {
   "cell_type": "code",
   "execution_count": null,
   "metadata": {},
   "outputs": [],
   "source": []
  },
  {
   "cell_type": "code",
   "execution_count": 55,
   "metadata": {},
   "outputs": [],
   "source": [
    "testa_X_num['nan_count'] = (np.isnan(testa_X_num)).sum(axis=1)"
   ]
  },
  {
   "cell_type": "code",
   "execution_count": 56,
   "metadata": {},
   "outputs": [],
   "source": [
    "testa_X_num['nan_standard'] = testa_X_num.nan_count.apply(lambda x : standardNan(x))"
   ]
  },
  {
   "cell_type": "code",
   "execution_count": null,
   "metadata": {},
   "outputs": [],
   "source": []
  },
  {
   "cell_type": "code",
   "execution_count": null,
   "metadata": {},
   "outputs": [],
   "source": []
  },
  {
   "cell_type": "code",
   "execution_count": null,
   "metadata": {},
   "outputs": [],
   "source": []
  },
  {
   "cell_type": "code",
   "execution_count": null,
   "metadata": {},
   "outputs": [],
   "source": []
  },
  {
   "cell_type": "code",
   "execution_count": 101,
   "metadata": {},
   "outputs": [],
   "source": []
  },
  {
   "cell_type": "code",
   "execution_count": null,
   "metadata": {},
   "outputs": [],
   "source": []
  },
  {
   "cell_type": "code",
   "execution_count": null,
   "metadata": {},
   "outputs": [],
   "source": []
  },
  {
   "cell_type": "code",
   "execution_count": null,
   "metadata": {},
   "outputs": [],
   "source": []
  },
  {
   "cell_type": "code",
   "execution_count": null,
   "metadata": {},
   "outputs": [],
   "source": []
  },
  {
   "cell_type": "code",
   "execution_count": 29,
   "metadata": {},
   "outputs": [],
   "source": [
    "train_rank = train_has_nan_count.sort_values(by='nan_count')"
   ]
  },
  {
   "cell_type": "code",
   "execution_count": 30,
   "metadata": {},
   "outputs": [],
   "source": [
    "train_rank = train_rank.reset_index()"
   ]
  },
  {
   "cell_type": "code",
   "execution_count": 31,
   "metadata": {},
   "outputs": [
    {
     "data": {
      "image/png": "[encoded data removed]",
      "text/plain": [
       "<matplotlib.figure.Figure at 0x7f3c50502f28>"
      ]
     },
     "metadata": {},
     "output_type": "display_data"
    }
   ],
   "source": [
    "plt.scatter(train_rank.index, train_rank.Y.values)\n",
    "plt.show()"
   ]
  },
  {
   "cell_type": "code",
   "execution_count": 32,
   "metadata": {},
   "outputs": [
    {
     "data": {
      "image/png": "[encoded data removed]",
      "text/plain": [
       "<matplotlib.figure.Figure at 0x7f3c50315978>"
      ]
     },
     "metadata": {},
     "output_type": "display_data"
    }
   ],
   "source": [
    "plt.scatter(train_rank.index, train_rank.nan_count.values)\n",
    "plt.show()"
   ]
  },
  {
   "cell_type": "code",
   "execution_count": 41,
   "metadata": {},
   "outputs": [],
   "source": [
    "train_300_150 = train_rank[(train_rank.nan_count < 300).values & (train_rank.nan_count >150).values]"
   ]
  },
  {
   "cell_type": "code",
   "execution_count": 42,
   "metadata": {},
   "outputs": [
    {
     "data": {
      "image/png": "[encoded data removed]",
      "text/plain": [
       "<matplotlib.figure.Figure at 0x7fda5c248a90>"
      ]
     },
     "metadata": {},
     "output_type": "display_data"
    }
   ],
   "source": [
    "plt.scatter(train_300_150.index, train_300_150.nan_count.values)\n",
    "plt.show()"
   ]
  },
  {
   "cell_type": "code",
   "execution_count": 43,
   "metadata": {},
   "outputs": [],
   "source": [
    "train_150 = train_rank[train_rank.nan_count < 150]"
   ]
  },
  {
   "cell_type": "code",
   "execution_count": 44,
   "metadata": {},
   "outputs": [
    {
     "data": {
      "image/png": "[encoded data removed]",
      "text/plain": [
       "<matplotlib.figure.Figure at 0x7fbaae6ad8d0>"
      ]
     },
     "metadata": {},
     "output_type": "display_data"
    }
   ],
   "source": [
    "plt.scatter(train_150.index, train_150.nan_count.values)\n",
    "plt.show()"
   ]
  },
  {
   "cell_type": "code",
   "execution_count": null,
   "metadata": {},
   "outputs": [],
   "source": []
  },
  {
   "cell_type": "code",
   "execution_count": 45,
   "metadata": {},
   "outputs": [
    {
     "name": "stderr",
     "output_type": "stream",
     "text": [
      "/usr/local/lib/python3.5/dist-packages/ipykernel_launcher.py:1: FutureWarning: by argument to sort_index is deprecated, please use .sort_values(by=...)\n",
      "  \"\"\"Entry point for launching an IPython kernel.\n"
     ]
    }
   ],
   "source": [
    "X_a_rank = X_a.sort_index(by='nan_count')"
   ]
  },
  {
   "cell_type": "code",
   "execution_count": 46,
   "metadata": {},
   "outputs": [],
   "source": [
    "X_a_rank = X_a_rank.reset_index()"
   ]
  },
  {
   "cell_type": "code",
   "execution_count": 47,
   "metadata": {},
   "outputs": [
    {
     "data": {
      "image/png": "[encoded data removed]",
      "text/plain": [
       "<matplotlib.figure.Figure at 0x7fbaae6a9cc0>"
      ]
     },
     "metadata": {},
     "output_type": "display_data"
    }
   ],
   "source": [
    "plt.scatter(X_a_rank.index, X_a_rank.nan_count.values)\n",
    "plt.show()"
   ]
  },
  {
   "cell_type": "code",
   "execution_count": 48,
   "metadata": {},
   "outputs": [],
   "source": [
    "X_a_300_150 = X_a_rank[(X_a_rank.nan_count >150).values & (X_a_rank.nan_count <300)]"
   ]
  },
  {
   "cell_type": "code",
   "execution_count": 49,
   "metadata": {},
   "outputs": [
    {
     "data": {
      "image/png": "[encoded data removed]",
      "text/plain": [
       "<matplotlib.figure.Figure at 0x7fbaae6a76a0>"
      ]
     },
     "metadata": {},
     "output_type": "display_data"
    }
   ],
   "source": [
    "plt.scatter(X_a_300_150.index, X_a_300_150.nan_count.values)\n",
    "plt.show()"
   ]
  },
  {
   "cell_type": "code",
   "execution_count": 50,
   "metadata": {},
   "outputs": [],
   "source": [
    "X_a_100 = X_a_rank[X_a_rank.nan_count <150]"
   ]
  },
  {
   "cell_type": "code",
   "execution_count": 51,
   "metadata": {},
   "outputs": [
    {
     "data": {
      "image/png": "[encoded data removed]",
      "text/plain": [
       "<matplotlib.figure.Figure at 0x7fbaaf6d5d30>"
      ]
     },
     "metadata": {},
     "output_type": "display_data"
    }
   ],
   "source": [
    "plt.scatter(X_a_100.index, X_a_100.nan_count.values)\n",
    "plt.show()"
   ]
  },
  {
   "cell_type": "code",
   "execution_count": 52,
   "metadata": {},
   "outputs": [
    {
     "name": "stderr",
     "output_type": "stream",
     "text": [
      "/usr/local/lib/python3.5/dist-packages/ipykernel_launcher.py:1: FutureWarning: by argument to sort_index is deprecated, please use .sort_values(by=...)\n",
      "  \"\"\"Entry point for launching an IPython kernel.\n"
     ]
    }
   ],
   "source": [
    "X_b_rank = X_b.sort_index(by='nan_count')"
   ]
  },
  {
   "cell_type": "code",
   "execution_count": 53,
   "metadata": {},
   "outputs": [],
   "source": [
    "X_b_rank = X_b_rank.reset_index()"
   ]
  },
  {
   "cell_type": "code",
   "execution_count": 54,
   "metadata": {},
   "outputs": [
    {
     "data": {
      "image/png": "[encoded data removed]",
      "text/plain": [
       "<matplotlib.figure.Figure at 0x7fbaae71fcf8>"
      ]
     },
     "metadata": {},
     "output_type": "display_data"
    }
   ],
   "source": [
    "plt.scatter(X_b_rank.index, X_b_rank.nan_count.values)\n",
    "plt.show()"
   ]
  },
  {
   "cell_type": "code",
   "execution_count": 55,
   "metadata": {},
   "outputs": [],
   "source": [
    "X_b_300_150 = X_b_rank[(X_b_rank.nan_count <300).values & (X_b_rank.nan_count > 150).values]"
   ]
  },
  {
   "cell_type": "code",
   "execution_count": 56,
   "metadata": {},
   "outputs": [
    {
     "data": {
      "image/png": "[encoded data removed]",
      "text/plain": [
       "<matplotlib.figure.Figure at 0x7fbaaf7cd550>"
      ]
     },
     "metadata": {},
     "output_type": "display_data"
    }
   ],
   "source": [
    "plt.scatter(X_b_300_150.index, X_b_300_150.nan_count.values)\n",
    "plt.show()"
   ]
  },
  {
   "cell_type": "code",
   "execution_count": null,
   "metadata": {},
   "outputs": [],
   "source": []
  },
  {
   "cell_type": "code",
   "execution_count": null,
   "metadata": {},
   "outputs": [],
   "source": []
  },
  {
   "cell_type": "markdown",
   "metadata": {},
   "source": [
    "#### 对含Nan列进行分类"
   ]
  },
  {
   "cell_type": "code",
   "execution_count": null,
   "metadata": {},
   "outputs": [],
   "source": []
  },
  {
   "cell_type": "code",
   "execution_count": null,
   "metadata": {},
   "outputs": [],
   "source": []
  },
  {
   "cell_type": "markdown",
   "metadata": {},
   "source": [
    "#### 直接删除含Nan列"
   ]
  },
  {
   "cell_type": "code",
   "execution_count": 57,
   "metadata": {},
   "outputs": [],
   "source": [
    "def get_nan_indexs(data, indexs = []):\n",
    "    for index in data:\n",
    "        if index not in indexs:\n",
    "            indexs.append(index)\n",
    "    return indexs"
   ]
  },
  {
   "cell_type": "code",
   "execution_count": 58,
   "metadata": {},
   "outputs": [],
   "source": [
    "train_Nan_columns = np.where(np.isnan(train_X_num))[1]"
   ]
  },
  {
   "cell_type": "code",
   "execution_count": 59,
   "metadata": {},
   "outputs": [],
   "source": [
    "X_a_Nan_columns = np.where(np.isnan(testa_X_num))[1]"
   ]
  },
  {
   "cell_type": "code",
   "execution_count": 60,
   "metadata": {},
   "outputs": [],
   "source": [
    "X_b_Nan_columns = np.where(np.isnan(testb_X_num))[1]"
   ]
  },
  {
   "cell_type": "code",
   "execution_count": 61,
   "metadata": {},
   "outputs": [],
   "source": [
    "def mix(X, X_a, X_b):\n",
    "    X_indexs = get_nan_indexs(X)\n",
    "    X_a_indexs = get_nan_indexs(X_a, indexs=X_indexs)\n",
    "    return get_nan_indexs(X_b, indexs=X_a_indexs)"
   ]
  },
  {
   "cell_type": "code",
   "execution_count": 62,
   "metadata": {},
   "outputs": [],
   "source": [
    "all_nan_columns = mix(train_Nan_columns, X_a_Nan_columns, X_b_Nan_columns)"
   ]
  },
  {
   "cell_type": "code",
   "execution_count": 63,
   "metadata": {},
   "outputs": [
    {
     "data": {
      "text/plain": [
       "2716"
      ]
     },
     "execution_count": 63,
     "metadata": {},
     "output_type": "execute_result"
    }
   ],
   "source": [
    "len(all_nan_columns)"
   ]
  },
  {
   "cell_type": "code",
   "execution_count": null,
   "metadata": {},
   "outputs": [],
   "source": []
  },
  {
   "cell_type": "code",
   "execution_count": 64,
   "metadata": {},
   "outputs": [],
   "source": [
    "def isUnique(array):\n",
    "    new_array = []\n",
    "    for item in array:\n",
    "        if item not in new_array:\n",
    "            new_array.append(item)\n",
    "        else:\n",
    "            return False\n",
    "    return True"
   ]
  },
  {
   "cell_type": "code",
   "execution_count": 65,
   "metadata": {},
   "outputs": [
    {
     "data": {
      "text/plain": [
       "True"
      ]
     },
     "execution_count": 65,
     "metadata": {},
     "output_type": "execute_result"
    }
   ],
   "source": [
    "isUnique(all_nan_columns)"
   ]
  },
  {
   "cell_type": "code",
   "execution_count": 66,
   "metadata": {},
   "outputs": [],
   "source": [
    "train_X_num_non_nan = train_X_num.drop(train_X_num.columns[all_nan_columns], axis=1)"
   ]
  },
  {
   "cell_type": "code",
   "execution_count": 67,
   "metadata": {},
   "outputs": [],
   "source": [
    "testa_X_num_non_nan = testa_X_num.drop(testa_X_num.columns[all_nan_columns], axis=1)"
   ]
  },
  {
   "cell_type": "code",
   "execution_count": 68,
   "metadata": {},
   "outputs": [],
   "source": [
    "testb_X_num_non_nan = testb_X_num.drop(testb_X_num.columns[all_nan_columns], axis=1)"
   ]
  },
  {
   "cell_type": "code",
   "execution_count": 69,
   "metadata": {},
   "outputs": [
    {
     "data": {
      "text/plain": [
       "(500, 5200)"
      ]
     },
     "execution_count": 69,
     "metadata": {},
     "output_type": "execute_result"
    }
   ],
   "source": [
    "train_X_num_non_nan.shape"
   ]
  },
  {
   "cell_type": "code",
   "execution_count": 70,
   "metadata": {},
   "outputs": [
    {
     "data": {
      "text/plain": [
       "(100, 5200)"
      ]
     },
     "execution_count": 70,
     "metadata": {},
     "output_type": "execute_result"
    }
   ],
   "source": [
    "testa_X_num_non_nan.shape"
   ]
  },
  {
   "cell_type": "code",
   "execution_count": 71,
   "metadata": {},
   "outputs": [
    {
     "data": {
      "text/plain": [
       "(121, 5198)"
      ]
     },
     "execution_count": 71,
     "metadata": {},
     "output_type": "execute_result"
    }
   ],
   "source": [
    "testb_X_num_non_nan.shape"
   ]
  },
  {
   "cell_type": "markdown",
   "metadata": {},
   "source": [
    "#### 生成验证集"
   ]
  },
  {
   "cell_type": "code",
   "execution_count": 72,
   "metadata": {},
   "outputs": [],
   "source": [
    "def get_nan_columns(data):\n",
    "    train_nan_columns = np.where(np.isnan(data))\n",
    "    nan_columns = []\n",
    "    for index in train_nan_columns[1]:\n",
    "        if index not in nan_columns:\n",
    "            nan_columns.append(index)\n",
    "    return nan_columns"
   ]
  },
  {
   "cell_type": "code",
   "execution_count": 73,
   "metadata": {},
   "outputs": [
    {
     "data": {
      "text/plain": [
       "0"
      ]
     },
     "execution_count": 73,
     "metadata": {},
     "output_type": "execute_result"
    }
   ],
   "source": [
    "len(get_nan_columns(testa_X_num_non_nan))"
   ]
  },
  {
   "cell_type": "code",
   "execution_count": null,
   "metadata": {},
   "outputs": [],
   "source": []
  },
  {
   "cell_type": "code",
   "execution_count": 74,
   "metadata": {},
   "outputs": [],
   "source": [
    "from sklearn.preprocessing import StandardScaler"
   ]
  },
  {
   "cell_type": "code",
   "execution_count": 75,
   "metadata": {},
   "outputs": [],
   "source": [
    "train_X_num_str = pd.concat([train_X_num_non_nan, train_X_str], axis=1)"
   ]
  },
  {
   "cell_type": "code",
   "execution_count": 76,
   "metadata": {},
   "outputs": [],
   "source": [
    "train_X_num_str_Y = pd.concat([train_X_num_str, train_Y],axis=1)"
   ]
  },
  {
   "cell_type": "code",
   "execution_count": null,
   "metadata": {},
   "outputs": [],
   "source": []
  },
  {
   "cell_type": "code",
   "execution_count": null,
   "metadata": {},
   "outputs": [],
   "source": []
  },
  {
   "cell_type": "code",
   "execution_count": null,
   "metadata": {},
   "outputs": [],
   "source": []
  },
  {
   "cell_type": "code",
   "execution_count": 74,
   "metadata": {},
   "outputs": [],
   "source": [
    "ss = StandardScaler()"
   ]
  },
  {
   "cell_type": "code",
   "execution_count": 75,
   "metadata": {},
   "outputs": [],
   "source": [
    "train_X_num_str_standard = ss.fit_transform(train_X_num_str)"
   ]
  },
  {
   "cell_type": "code",
   "execution_count": null,
   "metadata": {},
   "outputs": [],
   "source": []
  },
  {
   "cell_type": "code",
   "execution_count": 79,
   "metadata": {},
   "outputs": [],
   "source": []
  },
  {
   "cell_type": "code",
   "execution_count": null,
   "metadata": {},
   "outputs": [],
   "source": []
  },
  {
   "cell_type": "code",
   "execution_count": null,
   "metadata": {},
   "outputs": [],
   "source": []
  },
  {
   "cell_type": "code",
   "execution_count": null,
   "metadata": {},
   "outputs": [],
   "source": []
  },
  {
   "cell_type": "code",
   "execution_count": 77,
   "metadata": {},
   "outputs": [
    {
     "name": "stderr",
     "output_type": "stream",
     "text": [
      "/usr/local/lib/python3.5/dist-packages/sklearn/cross_validation.py:41: DeprecationWarning: This module was deprecated in version 0.18 in favor of the model_selection module into which all the refactored classes and functions are moved. Also note that the interface of the new CV iterators are different from that of this module. This module will be removed in 0.20.\n",
      "  \"This module will be removed in 0.20.\", DeprecationWarning)\n"
     ]
    }
   ],
   "source": [
    "from sklearn.cross_validation import train_test_split"
   ]
  },
  {
   "cell_type": "code",
   "execution_count": 593,
   "metadata": {},
   "outputs": [],
   "source": [
    "X_train, X_valid, y_train, y_valid = train_test_split(train_X_num_str_Y_3_2_2_6.drop(['nan_count', 'Y'], axis=1).values, train_X_num_str_Y_3_2_2_6.Y.values, test_size=0.3, random_state=33)"
   ]
  },
  {
   "cell_type": "code",
   "execution_count": null,
   "metadata": {},
   "outputs": [],
   "source": []
  },
  {
   "cell_type": "code",
   "execution_count": null,
   "metadata": {},
   "outputs": [],
   "source": [
    "train_X_num_str_Y.nan_standard"
   ]
  },
  {
   "cell_type": "code",
   "execution_count": 78,
   "metadata": {},
   "outputs": [],
   "source": [
    "importanct_feature = train_X_num_str_Y.drop(['Y'], axis=1).columns"
   ]
  },
  {
   "cell_type": "code",
   "execution_count": 119,
   "metadata": {},
   "outputs": [
    {
     "data": {
      "text/plain": [
       "74"
      ]
     },
     "execution_count": 119,
     "metadata": {},
     "output_type": "execute_result"
    }
   ],
   "source": [
    "len(importanct_feature)"
   ]
  },
  {
   "cell_type": "code",
   "execution_count": 203,
   "metadata": {},
   "outputs": [],
   "source": [
    "train_X_num_str_Y_1 = train_X_num_str_Y[train_X_num_str_Y.nan_standard == 1]"
   ]
  },
  {
   "cell_type": "code",
   "execution_count": 204,
   "metadata": {},
   "outputs": [],
   "source": [
    "X_data_1 = train_X_num_str_Y_1.drop(['nan_standard','nan_count', 'Y'], axis=1)\n",
    "y_data_1 = train_X_num_str_Y_1.Y"
   ]
  },
  {
   "cell_type": "code",
   "execution_count": 205,
   "metadata": {},
   "outputs": [],
   "source": [
    "X_train_1, X_valid_1, y_train_1, y_valid_1 = train_test_split(X_data_1.values, y_data_1.values, test_size=0.4, random_state=33)"
   ]
  },
  {
   "cell_type": "code",
   "execution_count": 206,
   "metadata": {},
   "outputs": [],
   "source": [
    "train_X_num_str_Y_2 = train_X_num_str_Y[train_X_num_str_Y.nan_standard == 2]"
   ]
  },
  {
   "cell_type": "code",
   "execution_count": 207,
   "metadata": {},
   "outputs": [],
   "source": [
    "X_data_2 = train_X_num_str_Y_2.drop(['nan_standard', 'nan_count', 'Y'], axis=1)\n",
    "y_data_2 = train_X_num_str_Y_2.Y"
   ]
  },
  {
   "cell_type": "code",
   "execution_count": 208,
   "metadata": {},
   "outputs": [],
   "source": [
    "X_train_2, X_valid_2, y_train_2, y_valid_2 = train_test_split(X_data_2.values, y_data_2.values, test_size=0.4, random_state=33)"
   ]
  },
  {
   "cell_type": "code",
   "execution_count": 209,
   "metadata": {},
   "outputs": [],
   "source": [
    "train_X_num_str_Y_3 = train_X_num_str_Y[train_X_num_str_Y.nan_standard == 3]"
   ]
  },
  {
   "cell_type": "code",
   "execution_count": 210,
   "metadata": {},
   "outputs": [],
   "source": [
    "X_data_3 = train_X_num_str_Y_3.drop(['nan_standard', 'nan_count', 'Y'], axis=1)\n",
    "y_data_3 = train_X_num_str_Y_3.Y"
   ]
  },
  {
   "cell_type": "code",
   "execution_count": 211,
   "metadata": {},
   "outputs": [],
   "source": [
    "X_train_3, X_valid_3, y_train_3, y_valid_3 = train_test_split(X_data_3.values, y_data_3.values, test_size=0.25, random_state=33)"
   ]
  },
  {
   "cell_type": "code",
   "execution_count": 212,
   "metadata": {},
   "outputs": [
    {
     "data": {
      "text/plain": [
       "(56, 5257)"
      ]
     },
     "execution_count": 212,
     "metadata": {},
     "output_type": "execute_result"
    }
   ],
   "source": [
    "train_X_num_str_Y_3.shape"
   ]
  },
  {
   "cell_type": "code",
   "execution_count": 213,
   "metadata": {},
   "outputs": [],
   "source": [
    "###"
   ]
  },
  {
   "cell_type": "code",
   "execution_count": null,
   "metadata": {},
   "outputs": [],
   "source": []
  },
  {
   "cell_type": "code",
   "execution_count": 214,
   "metadata": {},
   "outputs": [],
   "source": [
    "X_train = list(X_train_1) + list(X_train_2) + list(X_train_3) \n",
    "y_train = list(y_train_1) + list(y_train_2) + list(y_train_3)  "
   ]
  },
  {
   "cell_type": "code",
   "execution_count": 215,
   "metadata": {},
   "outputs": [],
   "source": [
    "X_valid = list(X_valid_1) + list(X_valid_2) + list(X_valid_3)\n",
    "y_valid = list(y_valid_1) + list(y_valid_2) + list(y_valid_3)"
   ]
  },
  {
   "cell_type": "code",
   "execution_count": null,
   "metadata": {},
   "outputs": [],
   "source": []
  },
  {
   "cell_type": "code",
   "execution_count": 216,
   "metadata": {},
   "outputs": [],
   "source": [
    "X_train_all = list(X_train_1) + list(X_train_2) + list(X_train_3) + list(X_valid_1) + list(X_valid_2) + list(X_valid_3)"
   ]
  },
  {
   "cell_type": "code",
   "execution_count": 217,
   "metadata": {},
   "outputs": [],
   "source": [
    "y_train_all = list(y_train_1) + list(y_train_2) + list(y_train_3) + list(y_valid_1) + list(y_valid_2) + list(y_valid_3)"
   ]
  },
  {
   "cell_type": "code",
   "execution_count": null,
   "metadata": {},
   "outputs": [],
   "source": []
  },
  {
   "cell_type": "code",
   "execution_count": null,
   "metadata": {},
   "outputs": [],
   "source": []
  },
  {
   "cell_type": "code",
   "execution_count": 218,
   "metadata": {},
   "outputs": [],
   "source": [
    "from sklearn.cross_validation import cross_val_score\n",
    "from sklearn.cross_validation import cross_val_predict\n",
    "from sklearn.metrics import mean_squared_error"
   ]
  },
  {
   "cell_type": "markdown",
   "metadata": {},
   "source": [
    "#### 训练 lightGBM 模型"
   ]
  },
  {
   "cell_type": "code",
   "execution_count": 219,
   "metadata": {},
   "outputs": [],
   "source": [
    "gbm = lgm.LGBMRegressor(objective='regression',\n",
    "                         boosting_type= 'gbdt',\n",
    "                         metric = 'l2',\n",
    "                         max_depth = 8,\n",
    "                         min_sum_hessian_in_leaf = 5.0,\n",
    "                         tree_learner = 'voting',\n",
    "                         num_trees = 10000,\n",
    "                         feature_fraction = 0.9,\n",
    "                         bagging_freq = 5,\n",
    "                         bagging_fraction = 0.8,\n",
    "                         min_data_in_leaf = 100,\n",
    "                         learning_rate = 0.05,\n",
    "                         n_estimators = 200,\n",
    "                         metric_freq = 1)"
   ]
  },
  {
   "cell_type": "code",
   "execution_count": 220,
   "metadata": {},
   "outputs": [
    {
     "name": "stderr",
     "output_type": "stream",
     "text": [
      "/usr/local/lib/python3.5/dist-packages/lightgbm/engine.py:99: UserWarning: Found `num_trees` in params. Will use it instead of argument\n",
      "  warnings.warn(\"Found `{}` in params. Will use it instead of argument\".format(alias))\n",
      "/usr/local/lib/python3.5/dist-packages/lightgbm/basic.py:642: UserWarning: max_bin keyword has been found in `params` and will be ignored. Please use max_bin argument of the Dataset constructor to pass this parameter.\n",
      "  'Please use {0} argument of the Dataset constructor to pass this parameter.'.format(key))\n",
      "/usr/local/lib/python3.5/dist-packages/lightgbm/basic.py:648: LGBMDeprecationWarning: The `max_bin` parameter is deprecated and will be removed in 2.0.12 version. Please use `params` to pass this parameter.\n",
      "  'Please use `params` to pass this parameter.', LGBMDeprecationWarning)\n"
     ]
    },
    {
     "name": "stdout",
     "output_type": "stream",
     "text": [
      "[1]\tvalid_0's l2: 0.0394629\n",
      "Training until validation scores don't improve for 200 rounds.\n",
      "[2]\tvalid_0's l2: 0.0391085\n",
      "[3]\tvalid_0's l2: 0.0387915\n",
      "[4]\tvalid_0's l2: 0.0387921\n",
      "[5]\tvalid_0's l2: 0.0385917\n",
      "[6]\tvalid_0's l2: 0.0384156\n",
      "[7]\tvalid_0's l2: 0.0383349\n",
      "[8]\tvalid_0's l2: 0.0382099\n",
      "[9]\tvalid_0's l2: 0.0381684\n",
      "[10]\tvalid_0's l2: 0.0380844\n",
      "[11]\tvalid_0's l2: 0.0380917\n",
      "[12]\tvalid_0's l2: 0.0381401\n",
      "[13]\tvalid_0's l2: 0.0381639\n",
      "[14]\tvalid_0's l2: 0.0382261\n",
      "[15]\tvalid_0's l2: 0.0379902\n",
      "[16]\tvalid_0's l2: 0.0377381\n",
      "[17]\tvalid_0's l2: 0.0375136\n",
      "[18]\tvalid_0's l2: 0.0373463\n",
      "[19]\tvalid_0's l2: 0.0371526\n",
      "[20]\tvalid_0's l2: 0.0371054\n",
      "[21]\tvalid_0's l2: 0.0368777\n",
      "[22]\tvalid_0's l2: 0.0369043\n",
      "[23]\tvalid_0's l2: 0.0367308\n",
      "[24]\tvalid_0's l2: 0.0367692\n",
      "[25]\tvalid_0's l2: 0.0365647\n",
      "[26]\tvalid_0's l2: 0.0364764\n",
      "[27]\tvalid_0's l2: 0.0364053\n",
      "[28]\tvalid_0's l2: 0.0364273\n",
      "[29]\tvalid_0's l2: 0.0363718\n",
      "[30]\tvalid_0's l2: 0.0363605\n",
      "[31]\tvalid_0's l2: 0.0364369\n",
      "[32]\tvalid_0's l2: 0.036478\n",
      "[33]\tvalid_0's l2: 0.0365629\n",
      "[34]\tvalid_0's l2: 0.0365221\n",
      "[35]\tvalid_0's l2: 0.0365696\n",
      "[36]\tvalid_0's l2: 0.0364333\n",
      "[37]\tvalid_0's l2: 0.0364645\n",
      "[38]\tvalid_0's l2: 0.0363457\n",
      "[39]\tvalid_0's l2: 0.036402\n",
      "[40]\tvalid_0's l2: 0.0364411\n",
      "[41]\tvalid_0's l2: 0.0363343\n",
      "[42]\tvalid_0's l2: 0.0362141\n",
      "[43]\tvalid_0's l2: 0.0361199\n",
      "[44]\tvalid_0's l2: 0.0361447\n",
      "[45]\tvalid_0's l2: 0.0360591\n",
      "[46]\tvalid_0's l2: 0.0360503\n",
      "[47]\tvalid_0's l2: 0.0358941\n",
      "[48]\tvalid_0's l2: 0.0358936\n",
      "[49]\tvalid_0's l2: 0.0357225\n",
      "[50]\tvalid_0's l2: 0.0356592\n",
      "[51]\tvalid_0's l2: 0.0355687\n",
      "[52]\tvalid_0's l2: 0.0354915\n",
      "[53]\tvalid_0's l2: 0.0354009\n",
      "[54]\tvalid_0's l2: 0.0353393\n",
      "[55]\tvalid_0's l2: 0.0352737\n",
      "[56]\tvalid_0's l2: 0.035246\n",
      "[57]\tvalid_0's l2: 0.0351285\n",
      "[58]\tvalid_0's l2: 0.0351119\n",
      "[59]\tvalid_0's l2: 0.0350088\n",
      "[60]\tvalid_0's l2: 0.0350017\n",
      "[61]\tvalid_0's l2: 0.0350699\n",
      "[62]\tvalid_0's l2: 0.0350632\n",
      "[63]\tvalid_0's l2: 0.0351228\n",
      "[64]\tvalid_0's l2: 0.0350611\n",
      "[65]\tvalid_0's l2: 0.0350959\n",
      "[66]\tvalid_0's l2: 0.034941\n",
      "[67]\tvalid_0's l2: 0.0348014\n",
      "[68]\tvalid_0's l2: 0.0348255\n",
      "[69]\tvalid_0's l2: 0.0347005\n",
      "[70]\tvalid_0's l2: 0.0347747\n",
      "[71]\tvalid_0's l2: 0.0347846\n",
      "[72]\tvalid_0's l2: 0.0348335\n",
      "[73]\tvalid_0's l2: 0.0348521\n",
      "[74]\tvalid_0's l2: 0.0349218\n",
      "[75]\tvalid_0's l2: 0.0349836\n",
      "[76]\tvalid_0's l2: 0.034997\n",
      "[77]\tvalid_0's l2: 0.034889\n",
      "[78]\tvalid_0's l2: 0.0348039\n",
      "[79]\tvalid_0's l2: 0.0347068\n",
      "[80]\tvalid_0's l2: 0.0347236\n",
      "[81]\tvalid_0's l2: 0.034751\n",
      "[82]\tvalid_0's l2: 0.0347689\n",
      "[83]\tvalid_0's l2: 0.0347934\n",
      "[84]\tvalid_0's l2: 0.0348296\n",
      "[85]\tvalid_0's l2: 0.0349143\n",
      "[86]\tvalid_0's l2: 0.0349016\n",
      "[87]\tvalid_0's l2: 0.0348436\n",
      "[88]\tvalid_0's l2: 0.0348452\n",
      "[89]\tvalid_0's l2: 0.0347769\n",
      "[90]\tvalid_0's l2: 0.034737\n",
      "[91]\tvalid_0's l2: 0.0347204\n",
      "[92]\tvalid_0's l2: 0.0347116\n",
      "[93]\tvalid_0's l2: 0.0347096\n",
      "[94]\tvalid_0's l2: 0.0347997\n",
      "[95]\tvalid_0's l2: 0.0347913\n",
      "[96]\tvalid_0's l2: 0.0348085\n",
      "[97]\tvalid_0's l2: 0.0348302\n",
      "[98]\tvalid_0's l2: 0.0347355\n",
      "[99]\tvalid_0's l2: 0.0347107\n",
      "[100]\tvalid_0's l2: 0.0347377\n",
      "[101]\tvalid_0's l2: 0.0346949\n",
      "[102]\tvalid_0's l2: 0.0346888\n",
      "[103]\tvalid_0's l2: 0.0346767\n",
      "[104]\tvalid_0's l2: 0.0346744\n",
      "[105]\tvalid_0's l2: 0.0347097\n",
      "[106]\tvalid_0's l2: 0.0346157\n",
      "[107]\tvalid_0's l2: 0.0345319\n",
      "[108]\tvalid_0's l2: 0.0345207\n",
      "[109]\tvalid_0's l2: 0.034446\n",
      "[110]\tvalid_0's l2: 0.0344327\n",
      "[111]\tvalid_0's l2: 0.0344545\n",
      "[112]\tvalid_0's l2: 0.0344438\n",
      "[113]\tvalid_0's l2: 0.0344592\n",
      "[114]\tvalid_0's l2: 0.0344856\n",
      "[115]\tvalid_0's l2: 0.0344962\n",
      "[116]\tvalid_0's l2: 0.0345197\n",
      "[117]\tvalid_0's l2: 0.034434\n",
      "[118]\tvalid_0's l2: 0.0344031\n",
      "[119]\tvalid_0's l2: 0.0343432\n",
      "[120]\tvalid_0's l2: 0.0343699\n",
      "[121]\tvalid_0's l2: 0.0343693\n",
      "[122]\tvalid_0's l2: 0.0344085\n",
      "[123]\tvalid_0's l2: 0.0344165\n",
      "[124]\tvalid_0's l2: 0.0344292\n",
      "[125]\tvalid_0's l2: 0.0345141\n",
      "[126]\tvalid_0's l2: 0.0345361\n",
      "[127]\tvalid_0's l2: 0.0346205\n",
      "[128]\tvalid_0's l2: 0.0346478\n",
      "[129]\tvalid_0's l2: 0.0345839\n",
      "[130]\tvalid_0's l2: 0.0346355\n",
      "[131]\tvalid_0's l2: 0.0346497\n",
      "[132]\tvalid_0's l2: 0.034668\n",
      "[133]\tvalid_0's l2: 0.0346898\n",
      "[134]\tvalid_0's l2: 0.0346368\n",
      "[135]\tvalid_0's l2: 0.0346611\n",
      "[136]\tvalid_0's l2: 0.034643\n",
      "[137]\tvalid_0's l2: 0.0346305\n",
      "[138]\tvalid_0's l2: 0.0346229\n",
      "[139]\tvalid_0's l2: 0.0345765\n",
      "[140]\tvalid_0's l2: 0.0345708\n",
      "[141]\tvalid_0's l2: 0.0345468\n",
      "[142]\tvalid_0's l2: 0.034529\n",
      "[143]\tvalid_0's l2: 0.0345166\n",
      "[144]\tvalid_0's l2: 0.0345089\n",
      "[145]\tvalid_0's l2: 0.0345174\n",
      "[146]\tvalid_0's l2: 0.0345007\n",
      "[147]\tvalid_0's l2: 0.0344949\n",
      "[148]\tvalid_0's l2: 0.0344585\n",
      "[149]\tvalid_0's l2: 0.0344469\n",
      "[150]\tvalid_0's l2: 0.0344988\n",
      "[151]\tvalid_0's l2: 0.0345312\n",
      "[152]\tvalid_0's l2: 0.0345674\n",
      "[153]\tvalid_0's l2: 0.0346066\n",
      "[154]\tvalid_0's l2: 0.0346483\n",
      "[155]\tvalid_0's l2: 0.0346344\n",
      "[156]\tvalid_0's l2: 0.0345659\n",
      "[157]\tvalid_0's l2: 0.0345043\n",
      "[158]\tvalid_0's l2: 0.0345366\n",
      "[159]\tvalid_0's l2: 0.0345314\n",
      "[160]\tvalid_0's l2: 0.0344913\n",
      "[161]\tvalid_0's l2: 0.034469\n",
      "[162]\tvalid_0's l2: 0.034482\n",
      "[163]\tvalid_0's l2: 0.0344654\n",
      "[164]\tvalid_0's l2: 0.0344394\n",
      "[165]\tvalid_0's l2: 0.0344293\n",
      "[166]\tvalid_0's l2: 0.0344184\n",
      "[167]\tvalid_0's l2: 0.0344301\n",
      "[168]\tvalid_0's l2: 0.0343999\n",
      "[169]\tvalid_0's l2: 0.034393\n",
      "[170]\tvalid_0's l2: 0.0343689\n",
      "[171]\tvalid_0's l2: 0.0343123\n",
      "[172]\tvalid_0's l2: 0.0342627\n",
      "[173]\tvalid_0's l2: 0.0342194\n",
      "[174]\tvalid_0's l2: 0.0341815\n",
      "[175]\tvalid_0's l2: 0.0342447\n",
      "[176]\tvalid_0's l2: 0.0342391\n",
      "[177]\tvalid_0's l2: 0.034263\n",
      "[178]\tvalid_0's l2: 0.0342684\n",
      "[179]\tvalid_0's l2: 0.0342694\n",
      "[180]\tvalid_0's l2: 0.0342782\n",
      "[181]\tvalid_0's l2: 0.0342941\n",
      "[182]\tvalid_0's l2: 0.0342521\n",
      "[183]\tvalid_0's l2: 0.0341979\n",
      "[184]\tvalid_0's l2: 0.0341618\n",
      "[185]\tvalid_0's l2: 0.0341869\n",
      "[186]\tvalid_0's l2: 0.0341841\n",
      "[187]\tvalid_0's l2: 0.0341855\n",
      "[188]\tvalid_0's l2: 0.0341745\n",
      "[189]\tvalid_0's l2: 0.0341506\n",
      "[190]\tvalid_0's l2: 0.0341553\n",
      "[191]\tvalid_0's l2: 0.0341959\n",
      "[192]\tvalid_0's l2: 0.0342382\n",
      "[193]\tvalid_0's l2: 0.0342816\n",
      "[194]\tvalid_0's l2: 0.0342597\n",
      "[195]\tvalid_0's l2: 0.0342514\n",
      "[196]\tvalid_0's l2: 0.0342492\n",
      "[197]\tvalid_0's l2: 0.0342891\n",
      "[198]\tvalid_0's l2: 0.0342912\n",
      "[199]\tvalid_0's l2: 0.0342967\n",
      "[200]\tvalid_0's l2: 0.0343051\n",
      "[201]\tvalid_0's l2: 0.0343398\n",
      "[202]\tvalid_0's l2: 0.0344509\n",
      "[203]\tvalid_0's l2: 0.0345076\n",
      "[204]\tvalid_0's l2: 0.0346175\n",
      "[205]\tvalid_0's l2: 0.0346089\n",
      "[206]\tvalid_0's l2: 0.0346163\n",
      "[207]\tvalid_0's l2: 0.0346107\n",
      "[208]\tvalid_0's l2: 0.0346361\n",
      "[209]\tvalid_0's l2: 0.0346173\n",
      "[210]\tvalid_0's l2: 0.0346299\n",
      "[211]\tvalid_0's l2: 0.0346668\n",
      "[212]\tvalid_0's l2: 0.0346463\n",
      "[213]\tvalid_0's l2: 0.0346384\n",
      "[214]\tvalid_0's l2: 0.0346769\n",
      "[215]\tvalid_0's l2: 0.0347084\n",
      "[216]\tvalid_0's l2: 0.0347243\n",
      "[217]\tvalid_0's l2: 0.0347656\n",
      "[218]\tvalid_0's l2: 0.0348079\n",
      "[219]\tvalid_0's l2: 0.0348054\n",
      "[220]\tvalid_0's l2: 0.0348101\n",
      "[221]\tvalid_0's l2: 0.0347626\n",
      "[222]\tvalid_0's l2: 0.0347228\n",
      "[223]\tvalid_0's l2: 0.0346897\n",
      "[224]\tvalid_0's l2: 0.0346626\n",
      "[225]\tvalid_0's l2: 0.0347377\n",
      "[226]\tvalid_0's l2: 0.0347518\n",
      "[227]\tvalid_0's l2: 0.0347685\n",
      "[228]\tvalid_0's l2: 0.0347005\n",
      "[229]\tvalid_0's l2: 0.0346498\n",
      "[230]\tvalid_0's l2: 0.0346157\n",
      "[231]\tvalid_0's l2: 0.034673\n",
      "[232]\tvalid_0's l2: 0.0346759\n",
      "[233]\tvalid_0's l2: 0.0346695\n",
      "[234]\tvalid_0's l2: 0.0347272\n",
      "[235]\tvalid_0's l2: 0.0347332\n",
      "[236]\tvalid_0's l2: 0.0348106\n",
      "[237]\tvalid_0's l2: 0.0348047\n",
      "[238]\tvalid_0's l2: 0.0348807\n",
      "[239]\tvalid_0's l2: 0.0348783\n",
      "[240]\tvalid_0's l2: 0.0348631\n",
      "[241]\tvalid_0's l2: 0.0348462\n",
      "[242]\tvalid_0's l2: 0.0348125\n",
      "[243]\tvalid_0's l2: 0.034806\n",
      "[244]\tvalid_0's l2: 0.0348589\n",
      "[245]\tvalid_0's l2: 0.034846\n",
      "[246]\tvalid_0's l2: 0.0348314\n",
      "[247]\tvalid_0's l2: 0.0348281\n",
      "[248]\tvalid_0's l2: 0.0347508\n",
      "[249]\tvalid_0's l2: 0.0347404\n",
      "[250]\tvalid_0's l2: 0.0346688\n",
      "[251]\tvalid_0's l2: 0.0346752\n",
      "[252]\tvalid_0's l2: 0.0346845\n",
      "[253]\tvalid_0's l2: 0.0347083\n",
      "[254]\tvalid_0's l2: 0.03472\n",
      "[255]\tvalid_0's l2: 0.0347454\n",
      "[256]\tvalid_0's l2: 0.0346948\n",
      "[257]\tvalid_0's l2: 0.0346495\n",
      "[258]\tvalid_0's l2: 0.0346931\n",
      "[259]\tvalid_0's l2: 0.0346529\n",
      "[260]\tvalid_0's l2: 0.034629\n",
      "[261]\tvalid_0's l2: 0.0346556\n",
      "[262]\tvalid_0's l2: 0.0347056\n",
      "[263]\tvalid_0's l2: 0.0347202\n",
      "[264]\tvalid_0's l2: 0.0347366\n",
      "[265]\tvalid_0's l2: 0.0347653\n",
      "[266]\tvalid_0's l2: 0.0347672\n",
      "[267]\tvalid_0's l2: 0.0347672\n",
      "[268]\tvalid_0's l2: 0.0347713\n",
      "[269]\tvalid_0's l2: 0.0347616\n",
      "[270]\tvalid_0's l2: 0.0347685\n",
      "[271]\tvalid_0's l2: 0.0347231\n",
      "[272]\tvalid_0's l2: 0.0347563\n",
      "[273]\tvalid_0's l2: 0.0347914\n",
      "[274]\tvalid_0's l2: 0.0347915\n",
      "[275]\tvalid_0's l2: 0.0348265\n",
      "[276]\tvalid_0's l2: 0.0348078\n",
      "[277]\tvalid_0's l2: 0.0347933\n",
      "[278]\tvalid_0's l2: 0.0347825\n"
     ]
    },
    {
     "name": "stdout",
     "output_type": "stream",
     "text": [
      "[279]\tvalid_0's l2: 0.0348106\n",
      "[280]\tvalid_0's l2: 0.0348031\n",
      "[281]\tvalid_0's l2: 0.0348484\n",
      "[282]\tvalid_0's l2: 0.0348242\n",
      "[283]\tvalid_0's l2: 0.0348697\n",
      "[284]\tvalid_0's l2: 0.0348492\n",
      "[285]\tvalid_0's l2: 0.0348462\n",
      "[286]\tvalid_0's l2: 0.034874\n",
      "[287]\tvalid_0's l2: 0.0348675\n",
      "[288]\tvalid_0's l2: 0.0347873\n",
      "[289]\tvalid_0's l2: 0.0348236\n",
      "[290]\tvalid_0's l2: 0.0348351\n",
      "[291]\tvalid_0's l2: 0.0347762\n",
      "[292]\tvalid_0's l2: 0.0346886\n",
      "[293]\tvalid_0's l2: 0.0346362\n",
      "[294]\tvalid_0's l2: 0.0345667\n",
      "[295]\tvalid_0's l2: 0.0345649\n",
      "[296]\tvalid_0's l2: 0.034602\n",
      "[297]\tvalid_0's l2: 0.0346402\n",
      "[298]\tvalid_0's l2: 0.0346384\n",
      "[299]\tvalid_0's l2: 0.0346677\n",
      "[300]\tvalid_0's l2: 0.0347069\n",
      "[301]\tvalid_0's l2: 0.034705\n",
      "[302]\tvalid_0's l2: 0.034706\n",
      "[303]\tvalid_0's l2: 0.0346599\n",
      "[304]\tvalid_0's l2: 0.0346635\n",
      "[305]\tvalid_0's l2: 0.0346225\n",
      "[306]\tvalid_0's l2: 0.0346189\n",
      "[307]\tvalid_0's l2: 0.0346175\n",
      "[308]\tvalid_0's l2: 0.0345814\n",
      "[309]\tvalid_0's l2: 0.0345491\n",
      "[310]\tvalid_0's l2: 0.0345247\n",
      "[311]\tvalid_0's l2: 0.034541\n",
      "[312]\tvalid_0's l2: 0.0345591\n",
      "[313]\tvalid_0's l2: 0.0345818\n",
      "[314]\tvalid_0's l2: 0.0346026\n",
      "[315]\tvalid_0's l2: 0.0346272\n",
      "[316]\tvalid_0's l2: 0.0346424\n",
      "[317]\tvalid_0's l2: 0.0346596\n",
      "[318]\tvalid_0's l2: 0.0346783\n",
      "[319]\tvalid_0's l2: 0.0346933\n",
      "[320]\tvalid_0's l2: 0.034688\n",
      "[321]\tvalid_0's l2: 0.0346377\n",
      "[322]\tvalid_0's l2: 0.0345931\n",
      "[323]\tvalid_0's l2: 0.0345536\n",
      "[324]\tvalid_0's l2: 0.0345186\n",
      "[325]\tvalid_0's l2: 0.0344877\n",
      "[326]\tvalid_0's l2: 0.034467\n",
      "[327]\tvalid_0's l2: 0.0344548\n",
      "[328]\tvalid_0's l2: 0.0344811\n",
      "[329]\tvalid_0's l2: 0.0344631\n",
      "[330]\tvalid_0's l2: 0.0344619\n",
      "[331]\tvalid_0's l2: 0.0344447\n",
      "[332]\tvalid_0's l2: 0.0344535\n",
      "[333]\tvalid_0's l2: 0.0344227\n",
      "[334]\tvalid_0's l2: 0.0344328\n",
      "[335]\tvalid_0's l2: 0.0344437\n",
      "[336]\tvalid_0's l2: 0.0344191\n",
      "[337]\tvalid_0's l2: 0.0344593\n",
      "[338]\tvalid_0's l2: 0.0344731\n",
      "[339]\tvalid_0's l2: 0.0344579\n",
      "[340]\tvalid_0's l2: 0.03443\n",
      "[341]\tvalid_0's l2: 0.0344094\n",
      "[342]\tvalid_0's l2: 0.0344455\n",
      "[343]\tvalid_0's l2: 0.0344418\n",
      "[344]\tvalid_0's l2: 0.0344241\n",
      "[345]\tvalid_0's l2: 0.0343987\n",
      "[346]\tvalid_0's l2: 0.0344173\n",
      "[347]\tvalid_0's l2: 0.0344504\n",
      "[348]\tvalid_0's l2: 0.0344703\n",
      "[349]\tvalid_0's l2: 0.0345099\n",
      "[350]\tvalid_0's l2: 0.0345434\n",
      "[351]\tvalid_0's l2: 0.0345619\n",
      "[352]\tvalid_0's l2: 0.0345814\n",
      "[353]\tvalid_0's l2: 0.0346009\n",
      "[354]\tvalid_0's l2: 0.0345748\n",
      "[355]\tvalid_0's l2: 0.034595\n",
      "[356]\tvalid_0's l2: 0.0346193\n",
      "[357]\tvalid_0's l2: 0.0346446\n",
      "[358]\tvalid_0's l2: 0.0346952\n",
      "[359]\tvalid_0's l2: 0.0346644\n",
      "[360]\tvalid_0's l2: 0.0346903\n",
      "[361]\tvalid_0's l2: 0.0347151\n",
      "[362]\tvalid_0's l2: 0.0347407\n",
      "[363]\tvalid_0's l2: 0.0348078\n",
      "[364]\tvalid_0's l2: 0.0348361\n",
      "[365]\tvalid_0's l2: 0.0348521\n",
      "[366]\tvalid_0's l2: 0.0347918\n",
      "[367]\tvalid_0's l2: 0.0348045\n",
      "[368]\tvalid_0's l2: 0.0348186\n",
      "[369]\tvalid_0's l2: 0.0348064\n",
      "[370]\tvalid_0's l2: 0.0348293\n",
      "[371]\tvalid_0's l2: 0.0348663\n",
      "[372]\tvalid_0's l2: 0.0349097\n",
      "[373]\tvalid_0's l2: 0.0349475\n",
      "[374]\tvalid_0's l2: 0.0349921\n",
      "[375]\tvalid_0's l2: 0.0350302\n",
      "[376]\tvalid_0's l2: 0.035011\n",
      "[377]\tvalid_0's l2: 0.0349987\n",
      "[378]\tvalid_0's l2: 0.0349827\n",
      "[379]\tvalid_0's l2: 0.0349724\n",
      "[380]\tvalid_0's l2: 0.0349607\n",
      "[381]\tvalid_0's l2: 0.0349604\n",
      "[382]\tvalid_0's l2: 0.0349621\n",
      "[383]\tvalid_0's l2: 0.0349318\n",
      "[384]\tvalid_0's l2: 0.0349051\n",
      "[385]\tvalid_0's l2: 0.034909\n",
      "[386]\tvalid_0's l2: 0.0349049\n",
      "[387]\tvalid_0's l2: 0.0348813\n",
      "[388]\tvalid_0's l2: 0.0349092\n",
      "[389]\tvalid_0's l2: 0.0349073\n",
      "Early stopping, best iteration is:\n",
      "[189]\tvalid_0's l2: 0.0341506\n"
     ]
    },
    {
     "data": {
      "text/plain": [
       "LGBMRegressor(bagging_fraction=0.8, bagging_freq=5, boosting_type='gbdt',\n",
       "       colsample_bytree=1.0, feature_fraction=0.9, learning_rate=0.05,\n",
       "       max_bin=255, max_depth=8, metric='l2', metric_freq=1,\n",
       "       min_child_samples=20, min_child_weight=0.001, min_data_in_leaf=100,\n",
       "       min_split_gain=0.0, min_sum_hessian_in_leaf=5.0, n_estimators=200,\n",
       "       n_jobs=-1, num_leaves=31, num_trees=10000, objective='regression',\n",
       "       random_state=None, reg_alpha=0.0, reg_lambda=0.0, silent=True,\n",
       "       subsample=1.0, subsample_for_bin=200000, subsample_freq=1,\n",
       "       tree_learner='voting')"
      ]
     },
     "execution_count": 220,
     "metadata": {},
     "output_type": "execute_result"
    }
   ],
   "source": [
    "gbm.fit(X_train, y_train,\n",
    "        eval_set=[(X_valid, y_valid)],\n",
    "        eval_metric='l2',\n",
    "        early_stopping_rounds=200)"
   ]
  },
  {
   "cell_type": "code",
   "execution_count": 221,
   "metadata": {},
   "outputs": [],
   "source": [
    "y_pred = gbm.predict(X_valid)"
   ]
  },
  {
   "cell_type": "code",
   "execution_count": 222,
   "metadata": {},
   "outputs": [
    {
     "data": {
      "text/plain": [
       "0.034150572075499146"
      ]
     },
     "execution_count": 222,
     "metadata": {},
     "output_type": "execute_result"
    }
   ],
   "source": [
    "mean_squared_error(y_pred, y_valid)"
   ]
  },
  {
   "cell_type": "code",
   "execution_count": 198,
   "metadata": {},
   "outputs": [
    {
     "name": "stderr",
     "output_type": "stream",
     "text": [
      "/usr/local/lib/python3.5/dist-packages/lightgbm/engine.py:99: UserWarning: Found `num_trees` in params. Will use it instead of argument\n",
      "  warnings.warn(\"Found `{}` in params. Will use it instead of argument\".format(alias))\n",
      "/usr/local/lib/python3.5/dist-packages/lightgbm/basic.py:642: UserWarning: max_bin keyword has been found in `params` and will be ignored. Please use max_bin argument of the Dataset constructor to pass this parameter.\n",
      "  'Please use {0} argument of the Dataset constructor to pass this parameter.'.format(key))\n",
      "/usr/local/lib/python3.5/dist-packages/lightgbm/basic.py:648: LGBMDeprecationWarning: The `max_bin` parameter is deprecated and will be removed in 2.0.12 version. Please use `params` to pass this parameter.\n",
      "  'Please use `params` to pass this parameter.', LGBMDeprecationWarning)\n",
      "/usr/local/lib/python3.5/dist-packages/lightgbm/engine.py:99: UserWarning: Found `num_trees` in params. Will use it instead of argument\n",
      "  warnings.warn(\"Found `{}` in params. Will use it instead of argument\".format(alias))\n",
      "/usr/local/lib/python3.5/dist-packages/lightgbm/basic.py:642: UserWarning: max_bin keyword has been found in `params` and will be ignored. Please use max_bin argument of the Dataset constructor to pass this parameter.\n",
      "  'Please use {0} argument of the Dataset constructor to pass this parameter.'.format(key))\n",
      "/usr/local/lib/python3.5/dist-packages/lightgbm/basic.py:648: LGBMDeprecationWarning: The `max_bin` parameter is deprecated and will be removed in 2.0.12 version. Please use `params` to pass this parameter.\n",
      "  'Please use `params` to pass this parameter.', LGBMDeprecationWarning)\n",
      "/usr/local/lib/python3.5/dist-packages/lightgbm/engine.py:99: UserWarning: Found `num_trees` in params. Will use it instead of argument\n",
      "  warnings.warn(\"Found `{}` in params. Will use it instead of argument\".format(alias))\n",
      "/usr/local/lib/python3.5/dist-packages/lightgbm/basic.py:642: UserWarning: max_bin keyword has been found in `params` and will be ignored. Please use max_bin argument of the Dataset constructor to pass this parameter.\n",
      "  'Please use {0} argument of the Dataset constructor to pass this parameter.'.format(key))\n",
      "/usr/local/lib/python3.5/dist-packages/lightgbm/basic.py:648: LGBMDeprecationWarning: The `max_bin` parameter is deprecated and will be removed in 2.0.12 version. Please use `params` to pass this parameter.\n",
      "  'Please use `params` to pass this parameter.', LGBMDeprecationWarning)\n",
      "/usr/local/lib/python3.5/dist-packages/lightgbm/engine.py:99: UserWarning: Found `num_trees` in params. Will use it instead of argument\n",
      "  warnings.warn(\"Found `{}` in params. Will use it instead of argument\".format(alias))\n",
      "/usr/local/lib/python3.5/dist-packages/lightgbm/basic.py:642: UserWarning: max_bin keyword has been found in `params` and will be ignored. Please use max_bin argument of the Dataset constructor to pass this parameter.\n",
      "  'Please use {0} argument of the Dataset constructor to pass this parameter.'.format(key))\n",
      "/usr/local/lib/python3.5/dist-packages/lightgbm/basic.py:648: LGBMDeprecationWarning: The `max_bin` parameter is deprecated and will be removed in 2.0.12 version. Please use `params` to pass this parameter.\n",
      "  'Please use `params` to pass this parameter.', LGBMDeprecationWarning)\n",
      "/usr/local/lib/python3.5/dist-packages/lightgbm/engine.py:99: UserWarning: Found `num_trees` in params. Will use it instead of argument\n",
      "  warnings.warn(\"Found `{}` in params. Will use it instead of argument\".format(alias))\n",
      "/usr/local/lib/python3.5/dist-packages/lightgbm/basic.py:642: UserWarning: max_bin keyword has been found in `params` and will be ignored. Please use max_bin argument of the Dataset constructor to pass this parameter.\n",
      "  'Please use {0} argument of the Dataset constructor to pass this parameter.'.format(key))\n",
      "/usr/local/lib/python3.5/dist-packages/lightgbm/basic.py:648: LGBMDeprecationWarning: The `max_bin` parameter is deprecated and will be removed in 2.0.12 version. Please use `params` to pass this parameter.\n",
      "  'Please use `params` to pass this parameter.', LGBMDeprecationWarning)\n"
     ]
    }
   ],
   "source": [
    "gbm_cv_score = cross_val_score(gbm, X_train_all, y_train_all, cv=5)"
   ]
  },
  {
   "cell_type": "code",
   "execution_count": 202,
   "metadata": {},
   "outputs": [
    {
     "data": {
      "text/plain": [
       "array([ 0.06835765,  0.09671182,  0.00513961,  0.03355001, -0.06133349])"
      ]
     },
     "execution_count": 202,
     "metadata": {},
     "output_type": "execute_result"
    }
   ],
   "source": [
    "gbm_cv_score"
   ]
  },
  {
   "cell_type": "code",
   "execution_count": null,
   "metadata": {},
   "outputs": [],
   "source": []
  },
  {
   "cell_type": "code",
   "execution_count": 223,
   "metadata": {},
   "outputs": [
    {
     "data": {
      "image/png": "[encoded data removed]",
      "text/plain": [
       "<matplotlib.figure.Figure at 0x7fe12e19c0b8>"
      ]
     },
     "metadata": {},
     "output_type": "display_data"
    }
   ],
   "source": [
    "x = range(len(y_pred))\n",
    "plt.plot(x, y_pred, 'r-*', label='y_pred')\n",
    "plt.plot(x, y_valid, 'b-o', label='y_valid')\n",
    "plt.legend()\n",
    "plt.show()"
   ]
  },
  {
   "cell_type": "code",
   "execution_count": 224,
   "metadata": {},
   "outputs": [],
   "source": [
    "s_pre = pd.Series(y_pred)"
   ]
  },
  {
   "cell_type": "code",
   "execution_count": 225,
   "metadata": {},
   "outputs": [],
   "source": [
    "s_val = pd.Series(y_valid)"
   ]
  },
  {
   "cell_type": "code",
   "execution_count": 226,
   "metadata": {},
   "outputs": [
    {
     "data": {
      "image/png": "[encoded data removed]",
      "text/plain": [
       "<matplotlib.figure.Figure at 0x7fe16c9164a8>"
      ]
     },
     "metadata": {},
     "output_type": "display_data"
    }
   ],
   "source": [
    "x = range(len(s_pre))\n",
    "plt.plot(x, s_pre.sort_values().values, 'r-*', label='lr_y_pred')\n",
    "plt.plot(x, s_val.sort_values().values, 'b-o', label='y_valid')\n",
    "plt.legend()\n",
    "plt.show()"
   ]
  },
  {
   "cell_type": "code",
   "execution_count": 149,
   "metadata": {},
   "outputs": [],
   "source": [
    "s_all = pd.Series(y_train)"
   ]
  },
  {
   "cell_type": "code",
   "execution_count": 150,
   "metadata": {},
   "outputs": [
    {
     "data": {
      "image/png": "[encoded data removed]",
      "text/plain": [
       "<matplotlib.figure.Figure at 0x7fe12b701470>"
      ]
     },
     "metadata": {},
     "output_type": "display_data"
    }
   ],
   "source": [
    "x = range(len(s_all))\n",
    "plt.plot(x, s_all.sort_values().values, 'b-o', label='y_valid')\n",
    "plt.legend()\n",
    "plt.show()"
   ]
  },
  {
   "cell_type": "code",
   "execution_count": 111,
   "metadata": {},
   "outputs": [
    {
     "data": {
      "text/plain": [
       "0.034193709895061146"
      ]
     },
     "execution_count": 111,
     "metadata": {},
     "output_type": "execute_result"
    }
   ],
   "source": [
    "mean_squared_error(y_valid, y_pred)"
   ]
  },
  {
   "cell_type": "code",
   "execution_count": null,
   "metadata": {},
   "outputs": [],
   "source": []
  },
  {
   "cell_type": "code",
   "execution_count": 112,
   "metadata": {},
   "outputs": [
    {
     "data": {
      "text/plain": [
       "5256"
      ]
     },
     "execution_count": 112,
     "metadata": {},
     "output_type": "execute_result"
    }
   ],
   "source": [
    "len(gbm.feature_importances_)"
   ]
  },
  {
   "cell_type": "code",
   "execution_count": 113,
   "metadata": {},
   "outputs": [],
   "source": [
    "importance = pd.Series(gbm.feature_importances_, index=train_X_num_str_Y.drop(['Y'],axis=1).columns)"
   ]
  },
  {
   "cell_type": "code",
   "execution_count": 114,
   "metadata": {},
   "outputs": [],
   "source": [
    "importanct_feature = []\n",
    "for index in range(len(importance)):\n",
    "    if importance[index] > 0:\n",
    "        importanct_feature.append(importance.index[index])"
   ]
  },
  {
   "cell_type": "code",
   "execution_count": 115,
   "metadata": {},
   "outputs": [
    {
     "data": {
      "text/plain": [
       "74"
      ]
     },
     "execution_count": 115,
     "metadata": {},
     "output_type": "execute_result"
    }
   ],
   "source": [
    "len(importanct_feature)"
   ]
  },
  {
   "cell_type": "code",
   "execution_count": null,
   "metadata": {},
   "outputs": [],
   "source": []
  },
  {
   "cell_type": "code",
   "execution_count": null,
   "metadata": {},
   "outputs": [],
   "source": []
  },
  {
   "cell_type": "markdown",
   "metadata": {},
   "source": [
    "#### 使用GradientBoostingRegressor 回归"
   ]
  },
  {
   "cell_type": "code",
   "execution_count": 227,
   "metadata": {},
   "outputs": [],
   "source": [
    "from sklearn.ensemble import GradientBoostingRegressor"
   ]
  },
  {
   "cell_type": "code",
   "execution_count": 228,
   "metadata": {},
   "outputs": [],
   "source": [
    "gbr = GradientBoostingRegressor()"
   ]
  },
  {
   "cell_type": "code",
   "execution_count": 229,
   "metadata": {},
   "outputs": [
    {
     "data": {
      "text/plain": [
       "GradientBoostingRegressor(alpha=0.9, criterion='friedman_mse', init=None,\n",
       "             learning_rate=0.1, loss='ls', max_depth=3, max_features=None,\n",
       "             max_leaf_nodes=None, min_impurity_decrease=0.0,\n",
       "             min_impurity_split=None, min_samples_leaf=1,\n",
       "             min_samples_split=2, min_weight_fraction_leaf=0.0,\n",
       "             n_estimators=100, presort='auto', random_state=None,\n",
       "             subsample=1.0, verbose=0, warm_start=False)"
      ]
     },
     "execution_count": 229,
     "metadata": {},
     "output_type": "execute_result"
    }
   ],
   "source": [
    "gbr.fit(X_train, y_train)"
   ]
  },
  {
   "cell_type": "code",
   "execution_count": 230,
   "metadata": {},
   "outputs": [],
   "source": [
    "gbr_y_pred = gbr.predict(X_valid)"
   ]
  },
  {
   "cell_type": "code",
   "execution_count": 231,
   "metadata": {},
   "outputs": [
    {
     "data": {
      "text/plain": [
       "0.03461979606323503"
      ]
     },
     "execution_count": 231,
     "metadata": {},
     "output_type": "execute_result"
    }
   ],
   "source": [
    "mean_squared_error(y_valid, gbr_y_pred)"
   ]
  },
  {
   "cell_type": "code",
   "execution_count": 232,
   "metadata": {},
   "outputs": [],
   "source": [
    "gbr_s_pre = pd.Series(gbr_y_pred)"
   ]
  },
  {
   "cell_type": "code",
   "execution_count": 233,
   "metadata": {},
   "outputs": [
    {
     "data": {
      "image/png": "[encoded data removed]",
      "text/plain": [
       "<matplotlib.figure.Figure at 0x7fe12b767e80>"
      ]
     },
     "metadata": {},
     "output_type": "display_data"
    }
   ],
   "source": [
    "x = range(len(gbr_s_pre))\n",
    "plt.plot(x, gbr_s_pre.sort_values().values, 'r-*', label='gbr_y_pred')\n",
    "plt.plot(x, s_val.sort_values().values, 'b-o', label='y_valid')\n",
    "plt.legend()\n",
    "plt.show()"
   ]
  },
  {
   "cell_type": "code",
   "execution_count": null,
   "metadata": {},
   "outputs": [],
   "source": []
  },
  {
   "cell_type": "code",
   "execution_count": null,
   "metadata": {},
   "outputs": [],
   "source": []
  },
  {
   "cell_type": "markdown",
   "metadata": {},
   "source": [
    "#### 使用 KNN 回归"
   ]
  },
  {
   "cell_type": "code",
   "execution_count": 234,
   "metadata": {},
   "outputs": [],
   "source": [
    "from sklearn.neighbors import KNeighborsRegressor"
   ]
  },
  {
   "cell_type": "code",
   "execution_count": 235,
   "metadata": {},
   "outputs": [],
   "source": [
    "knr = KNeighborsRegressor(weights='distance')"
   ]
  },
  {
   "cell_type": "code",
   "execution_count": 253,
   "metadata": {},
   "outputs": [
    {
     "data": {
      "text/plain": [
       "0.034495351587958488"
      ]
     },
     "execution_count": 253,
     "metadata": {},
     "output_type": "execute_result"
    }
   ],
   "source": [
    "cross_val_score(knr, X_train_all, y_train_all, cv=5).mean()"
   ]
  },
  {
   "cell_type": "code",
   "execution_count": 262,
   "metadata": {},
   "outputs": [
    {
     "name": "stderr",
     "output_type": "stream",
     "text": [
      "/usr/local/lib/python3.5/dist-packages/sklearn/metrics/scorer.py:100: DeprecationWarning: Scoring method mean_squared_error was renamed to neg_mean_squared_error in version 0.18 and will be removed in 0.20.\n",
      "  sample_weight=sample_weight)\n",
      "/usr/local/lib/python3.5/dist-packages/sklearn/metrics/scorer.py:100: DeprecationWarning: Scoring method mean_squared_error was renamed to neg_mean_squared_error in version 0.18 and will be removed in 0.20.\n",
      "  sample_weight=sample_weight)\n",
      "/usr/local/lib/python3.5/dist-packages/sklearn/metrics/scorer.py:100: DeprecationWarning: Scoring method mean_squared_error was renamed to neg_mean_squared_error in version 0.18 and will be removed in 0.20.\n",
      "  sample_weight=sample_weight)\n",
      "/usr/local/lib/python3.5/dist-packages/sklearn/metrics/scorer.py:100: DeprecationWarning: Scoring method mean_squared_error was renamed to neg_mean_squared_error in version 0.18 and will be removed in 0.20.\n",
      "  sample_weight=sample_weight)\n",
      "/usr/local/lib/python3.5/dist-packages/sklearn/metrics/scorer.py:100: DeprecationWarning: Scoring method mean_squared_error was renamed to neg_mean_squared_error in version 0.18 and will be removed in 0.20.\n",
      "  sample_weight=sample_weight)\n"
     ]
    },
    {
     "data": {
      "text/plain": [
       "-0.037581146966755186"
      ]
     },
     "execution_count": 262,
     "metadata": {},
     "output_type": "execute_result"
    }
   ],
   "source": [
    "cross_val_score(knr, X_train_all, y_train_all, cv =5,scoring='mean_squared_error').mean()"
   ]
  },
  {
   "cell_type": "code",
   "execution_count": 237,
   "metadata": {},
   "outputs": [
    {
     "data": {
      "text/plain": [
       "KNeighborsRegressor(algorithm='auto', leaf_size=30, metric='minkowski',\n",
       "          metric_params=None, n_jobs=1, n_neighbors=5, p=2,\n",
       "          weights='distance')"
      ]
     },
     "execution_count": 237,
     "metadata": {},
     "output_type": "execute_result"
    }
   ],
   "source": [
    "knr.fit(X_train, y_train)"
   ]
  },
  {
   "cell_type": "code",
   "execution_count": 246,
   "metadata": {},
   "outputs": [],
   "source": [
    "knr_y_valid = knr.predict(X_valid)\n",
    "knr_y_cv_pred = cross_val_predict(knr, X_valid, y_valid, cv=5)"
   ]
  },
  {
   "cell_type": "code",
   "execution_count": 239,
   "metadata": {},
   "outputs": [
    {
     "data": {
      "text/plain": [
       "0.051844660906012918"
      ]
     },
     "execution_count": 239,
     "metadata": {},
     "output_type": "execute_result"
    }
   ],
   "source": [
    "mean_squared_error(knr_y_cv_pred, y_valid)"
   ]
  },
  {
   "cell_type": "code",
   "execution_count": 240,
   "metadata": {},
   "outputs": [
    {
     "data": {
      "text/plain": [
       "0.04538445652352565"
      ]
     },
     "execution_count": 240,
     "metadata": {},
     "output_type": "execute_result"
    }
   ],
   "source": [
    "mean_squared_error(knr_y_valid, y_valid)"
   ]
  },
  {
   "cell_type": "code",
   "execution_count": 255,
   "metadata": {},
   "outputs": [
    {
     "data": {
      "text/plain": [
       "-0.017760646651221512"
      ]
     },
     "execution_count": 255,
     "metadata": {},
     "output_type": "execute_result"
    }
   ],
   "source": []
  },
  {
   "cell_type": "code",
   "execution_count": null,
   "metadata": {},
   "outputs": [],
   "source": []
  },
  {
   "cell_type": "code",
   "execution_count": null,
   "metadata": {},
   "outputs": [],
   "source": []
  },
  {
   "cell_type": "code",
   "execution_count": 241,
   "metadata": {},
   "outputs": [
    {
     "data": {
      "image/png": "[encoded data removed]",
      "text/plain": [
       "<matplotlib.figure.Figure at 0x7fe1246176d8>"
      ]
     },
     "metadata": {},
     "output_type": "display_data"
    }
   ],
   "source": [
    "x = range(len(y_pred))\n",
    "plt.plot(x, knr_y_valid, 'r-*', label='y_pred')\n",
    "plt.plot(x, y_valid, 'b-o', label='y_valid')\n",
    "plt.legend()\n",
    "plt.show()"
   ]
  },
  {
   "cell_type": "code",
   "execution_count": 242,
   "metadata": {},
   "outputs": [],
   "source": [
    "knr_s_pred = pd.Series(knr_y_valid)\n",
    "knr_s_valid = pd.Series(y_valid)\n",
    "knr_s_cv_pred = pd.Series(knr_y_cv_pred)"
   ]
  },
  {
   "cell_type": "code",
   "execution_count": 244,
   "metadata": {},
   "outputs": [
    {
     "data": {
      "image/png": "[encoded data removed]",
      "text/plain": [
       "<matplotlib.figure.Figure at 0x7fe1243127f0>"
      ]
     },
     "metadata": {},
     "output_type": "display_data"
    }
   ],
   "source": [
    "x = range(len(knr_s_pred))\n",
    "plt.plot(x, knr_s_pred.sort_values().values, 'r-*', label='knr_y_pred')\n",
    "plt.plot(x, knr_s_valid.sort_values().values, 'b-o', label='y_valid')\n",
    "#plt.plot(x, knr_s_cv_pred.sort_values().values, 'g-o', label='knr_cv_valid')\n",
    "plt.legend()\n",
    "plt.show()"
   ]
  },
  {
   "cell_type": "code",
   "execution_count": null,
   "metadata": {},
   "outputs": [],
   "source": []
  },
  {
   "cell_type": "markdown",
   "metadata": {},
   "source": [
    "#### 使用线性回归"
   ]
  },
  {
   "cell_type": "code",
   "execution_count": 1101,
   "metadata": {},
   "outputs": [],
   "source": [
    "from sklearn.linear_model import LinearRegression"
   ]
  },
  {
   "cell_type": "code",
   "execution_count": null,
   "metadata": {},
   "outputs": [],
   "source": []
  },
  {
   "cell_type": "code",
   "execution_count": 1102,
   "metadata": {},
   "outputs": [
    {
     "data": {
      "text/plain": [
       "LinearRegression(copy_X=True, fit_intercept=True, n_jobs=1, normalize=False)"
      ]
     },
     "execution_count": 1102,
     "metadata": {},
     "output_type": "execute_result"
    }
   ],
   "source": [
    "lr = LinearRegression()\n",
    "lr.fit(X_train, y_train)"
   ]
  },
  {
   "cell_type": "code",
   "execution_count": null,
   "metadata": {},
   "outputs": [],
   "source": []
  },
  {
   "cell_type": "code",
   "execution_count": 1103,
   "metadata": {},
   "outputs": [],
   "source": [
    "lr_y_pred = lr.predict(X_valid)"
   ]
  },
  {
   "cell_type": "code",
   "execution_count": 1104,
   "metadata": {},
   "outputs": [
    {
     "data": {
      "text/plain": [
       "0.070948042551556692"
      ]
     },
     "execution_count": 1104,
     "metadata": {},
     "output_type": "execute_result"
    }
   ],
   "source": [
    "mean_squared_error(lr_y_pred, y_valid)"
   ]
  },
  {
   "cell_type": "code",
   "execution_count": 1105,
   "metadata": {},
   "outputs": [],
   "source": [
    "lr_y_pr = []\n",
    "for index in range(len(lr_y_pred)):\n",
    "    if  lr_y_pred[index] > 3.4 or lr_y_pred[index] <2.0:\n",
    "        lr_y_pr.append(y_valid[index])\n",
    "    else:\n",
    "        lr_y_pr.append(lr_y_pred[index])"
   ]
  },
  {
   "cell_type": "code",
   "execution_count": 1106,
   "metadata": {},
   "outputs": [],
   "source": [
    "lr_s_pre = pd.Series(lr_y_pr)\n",
    "lr_s_val = pd.Series(y_valid)"
   ]
  },
  {
   "cell_type": "code",
   "execution_count": 1107,
   "metadata": {},
   "outputs": [
    {
     "data": {
      "text/plain": [
       "192"
      ]
     },
     "execution_count": 1107,
     "metadata": {},
     "output_type": "execute_result"
    }
   ],
   "source": [
    "len(lr_s_pre)"
   ]
  },
  {
   "cell_type": "code",
   "execution_count": 1108,
   "metadata": {},
   "outputs": [
    {
     "data": {
      "text/plain": [
       "192"
      ]
     },
     "execution_count": 1108,
     "metadata": {},
     "output_type": "execute_result"
    }
   ],
   "source": [
    "len(lr_s_val)"
   ]
  },
  {
   "cell_type": "code",
   "execution_count": 1109,
   "metadata": {},
   "outputs": [
    {
     "data": {
      "image/png": "[encoded data removed]",
      "text/plain": [
       "<matplotlib.figure.Figure at 0x7f70db09c2b0>"
      ]
     },
     "metadata": {},
     "output_type": "display_data"
    }
   ],
   "source": [
    "x = range(len(lr_y_pr))\n",
    "plt.plot(x, lr_y_pr, 'r-*', label='lr_y_pred')\n",
    "plt.plot(x, y_valid, 'b-o', label='y_valid')\n",
    "plt.legend()\n",
    "plt.show()"
   ]
  },
  {
   "cell_type": "code",
   "execution_count": 1110,
   "metadata": {},
   "outputs": [
    {
     "data": {
      "image/png": "[encoded data removed]",
      "text/plain": [
       "<matplotlib.figure.Figure at 0x7f70d9381860>"
      ]
     },
     "metadata": {},
     "output_type": "display_data"
    }
   ],
   "source": [
    "x = range(len(lr_s_val))\n",
    "plt.plot(x, lr_s_pre.sort_values().values, 'r-*', label='lr_y_pred')\n",
    "plt.plot(x, lr_s_val.sort_values().values, 'b-o', label='y_valid')\n",
    "plt.legend()\n",
    "plt.show()"
   ]
  },
  {
   "cell_type": "code",
   "execution_count": 1111,
   "metadata": {},
   "outputs": [
    {
     "data": {
      "text/plain": [
       "0.066794908543118633"
      ]
     },
     "execution_count": 1111,
     "metadata": {},
     "output_type": "execute_result"
    }
   ],
   "source": [
    "mean_squared_error(lr_y_pr, y_valid)"
   ]
  },
  {
   "cell_type": "code",
   "execution_count": null,
   "metadata": {},
   "outputs": [],
   "source": []
  },
  {
   "cell_type": "code",
   "execution_count": null,
   "metadata": {},
   "outputs": [],
   "source": []
  },
  {
   "cell_type": "code",
   "execution_count": null,
   "metadata": {},
   "outputs": [],
   "source": []
  },
  {
   "cell_type": "markdown",
   "metadata": {},
   "source": [
    "#### 使用 交叉验证"
   ]
  },
  {
   "cell_type": "code",
   "execution_count": 1127,
   "metadata": {},
   "outputs": [],
   "source": [
    "from sklearn.cross_validation import cross_val_score\n",
    "from sklearn.cross_validation import cross_val_predict"
   ]
  },
  {
   "cell_type": "code",
   "execution_count": 1119,
   "metadata": {},
   "outputs": [
    {
     "name": "stderr",
     "output_type": "stream",
     "text": [
      "/usr/local/lib/python3.5/dist-packages/lightgbm/engine.py:99: UserWarning: Found `num_trees` in params. Will use it instead of argument\n",
      "  warnings.warn(\"Found `{}` in params. Will use it instead of argument\".format(alias))\n",
      "/usr/local/lib/python3.5/dist-packages/lightgbm/basic.py:642: UserWarning: max_bin keyword has been found in `params` and will be ignored. Please use max_bin argument of the Dataset constructor to pass this parameter.\n",
      "  'Please use {0} argument of the Dataset constructor to pass this parameter.'.format(key))\n",
      "/usr/local/lib/python3.5/dist-packages/lightgbm/basic.py:648: LGBMDeprecationWarning: The `max_bin` parameter is deprecated and will be removed in 2.0.12 version. Please use `params` to pass this parameter.\n",
      "  'Please use `params` to pass this parameter.', LGBMDeprecationWarning)\n",
      "/usr/local/lib/python3.5/dist-packages/lightgbm/engine.py:99: UserWarning: Found `num_trees` in params. Will use it instead of argument\n",
      "  warnings.warn(\"Found `{}` in params. Will use it instead of argument\".format(alias))\n",
      "/usr/local/lib/python3.5/dist-packages/lightgbm/basic.py:642: UserWarning: max_bin keyword has been found in `params` and will be ignored. Please use max_bin argument of the Dataset constructor to pass this parameter.\n",
      "  'Please use {0} argument of the Dataset constructor to pass this parameter.'.format(key))\n",
      "/usr/local/lib/python3.5/dist-packages/lightgbm/basic.py:648: LGBMDeprecationWarning: The `max_bin` parameter is deprecated and will be removed in 2.0.12 version. Please use `params` to pass this parameter.\n",
      "  'Please use `params` to pass this parameter.', LGBMDeprecationWarning)\n",
      "/usr/local/lib/python3.5/dist-packages/lightgbm/engine.py:99: UserWarning: Found `num_trees` in params. Will use it instead of argument\n",
      "  warnings.warn(\"Found `{}` in params. Will use it instead of argument\".format(alias))\n",
      "/usr/local/lib/python3.5/dist-packages/lightgbm/basic.py:642: UserWarning: max_bin keyword has been found in `params` and will be ignored. Please use max_bin argument of the Dataset constructor to pass this parameter.\n",
      "  'Please use {0} argument of the Dataset constructor to pass this parameter.'.format(key))\n",
      "/usr/local/lib/python3.5/dist-packages/lightgbm/basic.py:648: LGBMDeprecationWarning: The `max_bin` parameter is deprecated and will be removed in 2.0.12 version. Please use `params` to pass this parameter.\n",
      "  'Please use `params` to pass this parameter.', LGBMDeprecationWarning)\n",
      "/usr/local/lib/python3.5/dist-packages/lightgbm/engine.py:99: UserWarning: Found `num_trees` in params. Will use it instead of argument\n",
      "  warnings.warn(\"Found `{}` in params. Will use it instead of argument\".format(alias))\n",
      "/usr/local/lib/python3.5/dist-packages/lightgbm/basic.py:642: UserWarning: max_bin keyword has been found in `params` and will be ignored. Please use max_bin argument of the Dataset constructor to pass this parameter.\n",
      "  'Please use {0} argument of the Dataset constructor to pass this parameter.'.format(key))\n",
      "/usr/local/lib/python3.5/dist-packages/lightgbm/basic.py:648: LGBMDeprecationWarning: The `max_bin` parameter is deprecated and will be removed in 2.0.12 version. Please use `params` to pass this parameter.\n",
      "  'Please use `params` to pass this parameter.', LGBMDeprecationWarning)\n",
      "/usr/local/lib/python3.5/dist-packages/lightgbm/engine.py:99: UserWarning: Found `num_trees` in params. Will use it instead of argument\n",
      "  warnings.warn(\"Found `{}` in params. Will use it instead of argument\".format(alias))\n",
      "/usr/local/lib/python3.5/dist-packages/lightgbm/basic.py:642: UserWarning: max_bin keyword has been found in `params` and will be ignored. Please use max_bin argument of the Dataset constructor to pass this parameter.\n",
      "  'Please use {0} argument of the Dataset constructor to pass this parameter.'.format(key))\n",
      "/usr/local/lib/python3.5/dist-packages/lightgbm/basic.py:648: LGBMDeprecationWarning: The `max_bin` parameter is deprecated and will be removed in 2.0.12 version. Please use `params` to pass this parameter.\n",
      "  'Please use `params` to pass this parameter.', LGBMDeprecationWarning)\n"
     ]
    },
    {
     "data": {
      "text/plain": [
       "0.22364481337792128"
      ]
     },
     "execution_count": 1119,
     "metadata": {},
     "output_type": "execute_result"
    }
   ],
   "source": [
    "cross_val_score(gbm, X_train_all, y_train_all, cv=5).mean()"
   ]
  },
  {
   "cell_type": "code",
   "execution_count": 175,
   "metadata": {},
   "outputs": [
    {
     "data": {
      "text/plain": [
       "-0.054251566828609508"
      ]
     },
     "execution_count": 175,
     "metadata": {},
     "output_type": "execute_result"
    }
   ],
   "source": [
    "cross_val_score(knr, X_train_all, y_train_all, cv=3).mean()"
   ]
  },
  {
   "cell_type": "code",
   "execution_count": 1144,
   "metadata": {},
   "outputs": [],
   "source": [
    "y_cv_pred = cross_val_predict(knr, X_train, y_train, cv=5)"
   ]
  },
  {
   "cell_type": "code",
   "execution_count": 1130,
   "metadata": {},
   "outputs": [
    {
     "data": {
      "text/plain": [
       "308"
      ]
     },
     "execution_count": 1130,
     "metadata": {},
     "output_type": "execute_result"
    }
   ],
   "source": [
    "len(y_cv_pred)"
   ]
  },
  {
   "cell_type": "code",
   "execution_count": 1146,
   "metadata": {},
   "outputs": [],
   "source": [
    "y_cv_pred = cross_val_predict(knr, X_valid, y_valid)"
   ]
  },
  {
   "cell_type": "code",
   "execution_count": 1148,
   "metadata": {},
   "outputs": [
    {
     "data": {
      "text/plain": [
       "0.041138530207114193"
      ]
     },
     "execution_count": 1148,
     "metadata": {},
     "output_type": "execute_result"
    }
   ],
   "source": [
    "mean_squared_error(y_cv_pred, y_valid)"
   ]
  },
  {
   "cell_type": "code",
   "execution_count": null,
   "metadata": {},
   "outputs": [],
   "source": []
  },
  {
   "cell_type": "code",
   "execution_count": null,
   "metadata": {},
   "outputs": [],
   "source": []
  },
  {
   "cell_type": "code",
   "execution_count": 1122,
   "metadata": {},
   "outputs": [
    {
     "data": {
      "text/plain": [
       "0.21293989785418771"
      ]
     },
     "execution_count": 1122,
     "metadata": {},
     "output_type": "execute_result"
    }
   ],
   "source": [
    "cross_val_score(gbr, X_train_all, y_train_all, cv=5).mean()"
   ]
  },
  {
   "cell_type": "code",
   "execution_count": null,
   "metadata": {},
   "outputs": [],
   "source": []
  },
  {
   "cell_type": "code",
   "execution_count": null,
   "metadata": {},
   "outputs": [],
   "source": []
  },
  {
   "cell_type": "code",
   "execution_count": null,
   "metadata": {},
   "outputs": [],
   "source": []
  },
  {
   "cell_type": "markdown",
   "metadata": {},
   "source": [
    "#### 使用二次多项式回归"
   ]
  },
  {
   "cell_type": "code",
   "execution_count": 622,
   "metadata": {},
   "outputs": [],
   "source": [
    "from sklearn.preprocessing import PolynomialFeatures"
   ]
  },
  {
   "cell_type": "code",
   "execution_count": 623,
   "metadata": {},
   "outputs": [],
   "source": [
    "poly2 = PolynomialFeatures(degree=2)"
   ]
  },
  {
   "cell_type": "code",
   "execution_count": 624,
   "metadata": {},
   "outputs": [
    {
     "ename": "MemoryError",
     "evalue": "",
     "output_type": "error",
     "traceback": [
      "\u001b[0;31m---------------------------------------------------------------------------\u001b[0m",
      "\u001b[0;31mMemoryError\u001b[0m                               Traceback (most recent call last)",
      "\u001b[0;32m<ipython-input-624-0997b6537915>\u001b[0m in \u001b[0;36m<module>\u001b[0;34m()\u001b[0m\n\u001b[0;32m----> 1\u001b[0;31m \u001b[0mX_train_poly2\u001b[0m \u001b[0;34m=\u001b[0m \u001b[0mpoly2\u001b[0m\u001b[0;34m.\u001b[0m\u001b[0mfit_transform\u001b[0m\u001b[0;34m(\u001b[0m\u001b[0mX_train\u001b[0m\u001b[0;34m)\u001b[0m\u001b[0;34m\u001b[0m\u001b[0m\n\u001b[0m",
      "\u001b[0;32m/usr/local/lib/python3.5/dist-packages/sklearn/base.py\u001b[0m in \u001b[0;36mfit_transform\u001b[0;34m(self, X, y, **fit_params)\u001b[0m\n\u001b[1;32m    515\u001b[0m         \u001b[0;32mif\u001b[0m \u001b[0my\u001b[0m \u001b[0;32mis\u001b[0m \u001b[0;32mNone\u001b[0m\u001b[0;34m:\u001b[0m\u001b[0;34m\u001b[0m\u001b[0m\n\u001b[1;32m    516\u001b[0m             \u001b[0;31m# fit method of arity 1 (unsupervised transformation)\u001b[0m\u001b[0;34m\u001b[0m\u001b[0;34m\u001b[0m\u001b[0m\n\u001b[0;32m--> 517\u001b[0;31m             \u001b[0;32mreturn\u001b[0m \u001b[0mself\u001b[0m\u001b[0;34m.\u001b[0m\u001b[0mfit\u001b[0m\u001b[0;34m(\u001b[0m\u001b[0mX\u001b[0m\u001b[0;34m,\u001b[0m \u001b[0;34m**\u001b[0m\u001b[0mfit_params\u001b[0m\u001b[0;34m)\u001b[0m\u001b[0;34m.\u001b[0m\u001b[0mtransform\u001b[0m\u001b[0;34m(\u001b[0m\u001b[0mX\u001b[0m\u001b[0;34m)\u001b[0m\u001b[0;34m\u001b[0m\u001b[0m\n\u001b[0m\u001b[1;32m    518\u001b[0m         \u001b[0;32melse\u001b[0m\u001b[0;34m:\u001b[0m\u001b[0;34m\u001b[0m\u001b[0m\n\u001b[1;32m    519\u001b[0m             \u001b[0;31m# fit method of arity 2 (supervised transformation)\u001b[0m\u001b[0;34m\u001b[0m\u001b[0;34m\u001b[0m\u001b[0m\n",
      "\u001b[0;32m/usr/local/lib/python3.5/dist-packages/sklearn/preprocessing/data.py\u001b[0m in \u001b[0;36mtransform\u001b[0;34m(self, X)\u001b[0m\n\u001b[1;32m   1338\u001b[0m \u001b[0;34m\u001b[0m\u001b[0m\n\u001b[1;32m   1339\u001b[0m         \u001b[0;31m# allocate output data\u001b[0m\u001b[0;34m\u001b[0m\u001b[0;34m\u001b[0m\u001b[0m\n\u001b[0;32m-> 1340\u001b[0;31m         \u001b[0mXP\u001b[0m \u001b[0;34m=\u001b[0m \u001b[0mnp\u001b[0m\u001b[0;34m.\u001b[0m\u001b[0mempty\u001b[0m\u001b[0;34m(\u001b[0m\u001b[0;34m(\u001b[0m\u001b[0mn_samples\u001b[0m\u001b[0;34m,\u001b[0m \u001b[0mself\u001b[0m\u001b[0;34m.\u001b[0m\u001b[0mn_output_features_\u001b[0m\u001b[0;34m)\u001b[0m\u001b[0;34m,\u001b[0m \u001b[0mdtype\u001b[0m\u001b[0;34m=\u001b[0m\u001b[0mX\u001b[0m\u001b[0;34m.\u001b[0m\u001b[0mdtype\u001b[0m\u001b[0;34m)\u001b[0m\u001b[0;34m\u001b[0m\u001b[0m\n\u001b[0m\u001b[1;32m   1341\u001b[0m \u001b[0;34m\u001b[0m\u001b[0m\n\u001b[1;32m   1342\u001b[0m         combinations = self._combinations(n_features, self.degree,\n",
      "\u001b[0;31mMemoryError\u001b[0m: "
     ]
    }
   ],
   "source": [
    "X_train_poly2 = poly2.fit_transform(X_train)"
   ]
  },
  {
   "cell_type": "code",
   "execution_count": null,
   "metadata": {},
   "outputs": [],
   "source": [
    "regressor_poly2 = LinearRegression()"
   ]
  },
  {
   "cell_type": "code",
   "execution_count": null,
   "metadata": {},
   "outputs": [],
   "source": [
    "regressor_poly2.fit(X_train_poly2, y_train)"
   ]
  },
  {
   "cell_type": "code",
   "execution_count": null,
   "metadata": {},
   "outputs": [],
   "source": [
    "X_valid_poly2 = poly2.fit_transform(X_valid)"
   ]
  },
  {
   "cell_type": "code",
   "execution_count": 625,
   "metadata": {},
   "outputs": [],
   "source": [
    "poly2_y_valid = regressor_poly2.predict(X_valid_poly2)"
   ]
  },
  {
   "cell_type": "code",
   "execution_count": 544,
   "metadata": {},
   "outputs": [
    {
     "ename": "NameError",
     "evalue": "name 'poly_y_pr' is not defined",
     "output_type": "error",
     "traceback": [
      "\u001b[0;31m---------------------------------------------------------------------------\u001b[0m",
      "\u001b[0;31mNameError\u001b[0m                                 Traceback (most recent call last)",
      "\u001b[0;32m<ipython-input-544-1cb73de7bba5>\u001b[0m in \u001b[0;36m<module>\u001b[0;34m()\u001b[0m\n\u001b[0;32m----> 1\u001b[0;31m \u001b[0mx\u001b[0m \u001b[0;34m=\u001b[0m \u001b[0mrange\u001b[0m\u001b[0;34m(\u001b[0m\u001b[0mlen\u001b[0m\u001b[0;34m(\u001b[0m\u001b[0mpoly_y_pr\u001b[0m\u001b[0;34m)\u001b[0m\u001b[0;34m)\u001b[0m\u001b[0;34m\u001b[0m\u001b[0m\n\u001b[0m\u001b[1;32m      2\u001b[0m \u001b[0mplt\u001b[0m\u001b[0;34m.\u001b[0m\u001b[0mplot\u001b[0m\u001b[0;34m(\u001b[0m\u001b[0mx\u001b[0m\u001b[0;34m,\u001b[0m \u001b[0mpd\u001b[0m\u001b[0;34m.\u001b[0m\u001b[0mSeries\u001b[0m\u001b[0;34m(\u001b[0m\u001b[0mpoly_y_pr\u001b[0m\u001b[0;34m)\u001b[0m\u001b[0;34m.\u001b[0m\u001b[0msort_values\u001b[0m\u001b[0;34m(\u001b[0m\u001b[0;34m)\u001b[0m\u001b[0;34m.\u001b[0m\u001b[0mvalues\u001b[0m\u001b[0;34m,\u001b[0m \u001b[0;34m'r-*'\u001b[0m\u001b[0;34m,\u001b[0m \u001b[0mlabel\u001b[0m\u001b[0;34m=\u001b[0m\u001b[0;34m'lr_y_pred'\u001b[0m\u001b[0;34m)\u001b[0m\u001b[0;34m\u001b[0m\u001b[0m\n\u001b[1;32m      3\u001b[0m \u001b[0mplt\u001b[0m\u001b[0;34m.\u001b[0m\u001b[0mlegend\u001b[0m\u001b[0;34m(\u001b[0m\u001b[0;34m)\u001b[0m\u001b[0;34m\u001b[0m\u001b[0m\n\u001b[1;32m      4\u001b[0m \u001b[0mplt\u001b[0m\u001b[0;34m.\u001b[0m\u001b[0mshow\u001b[0m\u001b[0;34m(\u001b[0m\u001b[0;34m)\u001b[0m\u001b[0;34m\u001b[0m\u001b[0m\n",
      "\u001b[0;31mNameError\u001b[0m: name 'poly_y_pr' is not defined"
     ]
    }
   ],
   "source": [
    "x = range(len(poly_y_pr))\n",
    "plt.plot(x, pd.Series(poly_y_pr).sort_values().values, 'r-*', label='lr_y_pred')\n",
    "plt.legend()\n",
    "plt.show()"
   ]
  },
  {
   "cell_type": "code",
   "execution_count": 545,
   "metadata": {},
   "outputs": [],
   "source": [
    "poly_y_pr = []\n",
    "for index in range(len(poly2_y_valid)):\n",
    "    if poly2_y_valid[index] < 3.2 and poly2_y_valid[index] > 2.3:\n",
    "        poly_y_pr.append(poly2_y_valid[index])\n",
    "    else:\n",
    "        poly_y_pr.append(y_valid[index])"
   ]
  },
  {
   "cell_type": "code",
   "execution_count": 546,
   "metadata": {},
   "outputs": [],
   "source": [
    "poly_s_pre = pd.Series(poly_y_pr)\n",
    "s_val = pd.Series(y_valid)"
   ]
  },
  {
   "cell_type": "code",
   "execution_count": 547,
   "metadata": {},
   "outputs": [
    {
     "data": {
      "image/png": "[encoded data removed]",
      "text/plain": [
       "<matplotlib.figure.Figure at 0x7f70e88ddc88>"
      ]
     },
     "metadata": {},
     "output_type": "display_data"
    }
   ],
   "source": [
    "x = range(len(poly_s_pre))\n",
    "plt.plot(x, poly_s_pre.sort_values().values, 'r-*', label='lr_y_pred')\n",
    "plt.plot(x, s_val.sort_values().values, 'b-o', label='y_valid')\n",
    "plt.legend()\n",
    "plt.show()"
   ]
  },
  {
   "cell_type": "code",
   "execution_count": 548,
   "metadata": {},
   "outputs": [
    {
     "data": {
      "image/png": "[encoded data removed]",
      "text/plain": [
       "<matplotlib.figure.Figure at 0x7f70e451c278>"
      ]
     },
     "metadata": {},
     "output_type": "display_data"
    }
   ],
   "source": [
    "x = range(len(poly_y_pr))\n",
    "plt.plot(x, poly_y_pr, 'r-*', label='lr_y_pred')\n",
    "plt.plot(x, y_valid, 'b-o', label='y_valid')\n",
    "plt.legend()\n",
    "plt.show()"
   ]
  },
  {
   "cell_type": "code",
   "execution_count": 549,
   "metadata": {},
   "outputs": [
    {
     "data": {
      "text/plain": [
       "0.051493018172328896"
      ]
     },
     "execution_count": 549,
     "metadata": {},
     "output_type": "execute_result"
    }
   ],
   "source": [
    "mean_squared_error(poly_y_pr, y_valid)"
   ]
  },
  {
   "cell_type": "code",
   "execution_count": null,
   "metadata": {},
   "outputs": [],
   "source": []
  },
  {
   "cell_type": "markdown",
   "metadata": {},
   "source": [
    "#### 使用 SVM 回归"
   ]
  },
  {
   "cell_type": "code",
   "execution_count": 362,
   "metadata": {},
   "outputs": [],
   "source": [
    "from sklearn.svm import SVR"
   ]
  },
  {
   "cell_type": "code",
   "execution_count": null,
   "metadata": {},
   "outputs": [],
   "source": [
    "clf = SVR(kernel='linear')\n",
    "clf.fit(X_train, y_train)"
   ]
  },
  {
   "cell_type": "code",
   "execution_count": null,
   "metadata": {},
   "outputs": [],
   "source": [
    "svm_y_pred = clf.predict(X_valid)"
   ]
  },
  {
   "cell_type": "code",
   "execution_count": null,
   "metadata": {},
   "outputs": [],
   "source": [
    "svm_y_pred"
   ]
  },
  {
   "cell_type": "code",
   "execution_count": null,
   "metadata": {},
   "outputs": [],
   "source": [
    "svm_y_pr = []\n",
    "for item in svm_y_pred:\n",
    "    if item > 0 :\n",
    "        svm_y_pr.append(item)"
   ]
  },
  {
   "cell_type": "code",
   "execution_count": null,
   "metadata": {},
   "outputs": [],
   "source": [
    "mean_squared_error(svm_y_pr, y_valid[0:-1])"
   ]
  },
  {
   "cell_type": "code",
   "execution_count": null,
   "metadata": {},
   "outputs": [],
   "source": []
  },
  {
   "cell_type": "code",
   "execution_count": null,
   "metadata": {},
   "outputs": [],
   "source": []
  },
  {
   "cell_type": "code",
   "execution_count": null,
   "metadata": {},
   "outputs": [],
   "source": []
  },
  {
   "cell_type": "code",
   "execution_count": 279,
   "metadata": {},
   "outputs": [
    {
     "data": {
      "image/png": "[encoded data removed]",
      "text/plain": [
       "<matplotlib.figure.Figure at 0x7f08c5a7c940>"
      ]
     },
     "metadata": {},
     "output_type": "display_data"
    }
   ],
   "source": [
    "x = range(len(svm_y_pr))\n",
    "plt.plot(x, svm_y_pr, 'r-*', label='svm_y_pred')\n",
    "plt.plot(x, y_valid[0:-1], 'b-o', label='y_valid')\n",
    "plt.legend()\n",
    "plt.show()"
   ]
  },
  {
   "cell_type": "code",
   "execution_count": 273,
   "metadata": {},
   "outputs": [],
   "source": [
    "svm_s_pre = pd.Series(svm_y_pr)\n",
    "s_val = pd.Series(y_valid[0:-1])"
   ]
  },
  {
   "cell_type": "code",
   "execution_count": 283,
   "metadata": {},
   "outputs": [
    {
     "data": {
      "text/plain": [
       "125"
      ]
     },
     "execution_count": 283,
     "metadata": {},
     "output_type": "execute_result"
    }
   ],
   "source": [
    "len(svm_s_pre)"
   ]
  },
  {
   "cell_type": "code",
   "execution_count": 285,
   "metadata": {},
   "outputs": [
    {
     "data": {
      "image/png": "[encoded data removed]",
      "text/plain": [
       "<matplotlib.figure.Figure at 0x7f08c7b78860>"
      ]
     },
     "metadata": {},
     "output_type": "display_data"
    }
   ],
   "source": [
    "x = range(len(svm_s_pre))\n",
    "plt.plot(x, svm_s_pre.sort_values().values, 'r-*', label='lr_y_pred')\n",
    "plt.plot(x, s_val.sort_values().values, 'b-o', label='y_valid')\n",
    "plt.show()"
   ]
  },
  {
   "cell_type": "markdown",
   "metadata": {},
   "source": [
    "#### 使用gbm预测"
   ]
  },
  {
   "cell_type": "code",
   "execution_count": 332,
   "metadata": {},
   "outputs": [],
   "source": [
    "testa_X = pd.concat([testa_X_num_non_nan, testa_X_str], axis=1)"
   ]
  },
  {
   "cell_type": "code",
   "execution_count": 333,
   "metadata": {},
   "outputs": [],
   "source": [
    "testa_X = testa_X.drop(['nan_count', 'nan_standard'], axis=1)"
   ]
  },
  {
   "cell_type": "code",
   "execution_count": 334,
   "metadata": {},
   "outputs": [
    {
     "data": {
      "text/plain": [
       "(100, 5254)"
      ]
     },
     "execution_count": 334,
     "metadata": {},
     "output_type": "execute_result"
    }
   ],
   "source": [
    "testa_X.shape"
   ]
  },
  {
   "cell_type": "code",
   "execution_count": 336,
   "metadata": {},
   "outputs": [
    {
     "data": {
      "text/html": [
       "<div>\n",
       "<style scoped>\n",
       "    .dataframe tbody tr th:only-of-type {\n",
       "        vertical-align: middle;\n",
       "    }\n",
       "\n",
       "    .dataframe tbody tr th {\n",
       "        vertical-align: top;\n",
       "    }\n",
       "\n",
       "    .dataframe thead th {\n",
       "        text-align: right;\n",
       "    }\n",
       "</style>\n",
       "<table border=\"1\" class=\"dataframe\">\n",
       "  <thead>\n",
       "    <tr style=\"text-align: right;\">\n",
       "      <th></th>\n",
       "      <th>210X1</th>\n",
       "      <th>210X2</th>\n",
       "      <th>210X3</th>\n",
       "      <th>210X4</th>\n",
       "      <th>210X5</th>\n",
       "      <th>210X6</th>\n",
       "      <th>210X7</th>\n",
       "      <th>210X8</th>\n",
       "      <th>210X9</th>\n",
       "      <th>210X10</th>\n",
       "      <th>...</th>\n",
       "      <th>Tool (#3)_12T</th>\n",
       "      <th>Tool (#3)_13T</th>\n",
       "      <th>Tool (#3)_14T</th>\n",
       "      <th>Tool (#3)_15T</th>\n",
       "      <th>Tool (#3)_6T</th>\n",
       "      <th>Tool (#3)_7T</th>\n",
       "      <th>Tool (#3)_8T</th>\n",
       "      <th>Tool (#3)_9T</th>\n",
       "      <th>TOOL (#2)_AT</th>\n",
       "      <th>TOOL (#2)_BT</th>\n",
       "    </tr>\n",
       "  </thead>\n",
       "  <tbody>\n",
       "    <tr>\n",
       "      <th>0</th>\n",
       "      <td>100.85</td>\n",
       "      <td>0.423</td>\n",
       "      <td>0.41</td>\n",
       "      <td>0.624</td>\n",
       "      <td>35.50</td>\n",
       "      <td>1.795</td>\n",
       "      <td>0.08</td>\n",
       "      <td>-0.18</td>\n",
       "      <td>-0.15</td>\n",
       "      <td>24.1</td>\n",
       "      <td>...</td>\n",
       "      <td>0</td>\n",
       "      <td>0</td>\n",
       "      <td>1</td>\n",
       "      <td>0</td>\n",
       "      <td>0</td>\n",
       "      <td>0</td>\n",
       "      <td>0</td>\n",
       "      <td>0</td>\n",
       "      <td>1</td>\n",
       "      <td>0</td>\n",
       "    </tr>\n",
       "    <tr>\n",
       "      <th>1</th>\n",
       "      <td>100.80</td>\n",
       "      <td>0.322</td>\n",
       "      <td>0.41</td>\n",
       "      <td>0.544</td>\n",
       "      <td>70.98</td>\n",
       "      <td>3.580</td>\n",
       "      <td>0.11</td>\n",
       "      <td>-0.32</td>\n",
       "      <td>-0.15</td>\n",
       "      <td>24.3</td>\n",
       "      <td>...</td>\n",
       "      <td>0</td>\n",
       "      <td>1</td>\n",
       "      <td>0</td>\n",
       "      <td>0</td>\n",
       "      <td>0</td>\n",
       "      <td>0</td>\n",
       "      <td>0</td>\n",
       "      <td>0</td>\n",
       "      <td>1</td>\n",
       "      <td>0</td>\n",
       "    </tr>\n",
       "    <tr>\n",
       "      <th>2</th>\n",
       "      <td>100.75</td>\n",
       "      <td>0.526</td>\n",
       "      <td>0.14</td>\n",
       "      <td>1.081</td>\n",
       "      <td>57.84</td>\n",
       "      <td>2.848</td>\n",
       "      <td>-0.75</td>\n",
       "      <td>1.10</td>\n",
       "      <td>0.06</td>\n",
       "      <td>24.8</td>\n",
       "      <td>...</td>\n",
       "      <td>0</td>\n",
       "      <td>0</td>\n",
       "      <td>0</td>\n",
       "      <td>0</td>\n",
       "      <td>0</td>\n",
       "      <td>0</td>\n",
       "      <td>0</td>\n",
       "      <td>1</td>\n",
       "      <td>1</td>\n",
       "      <td>0</td>\n",
       "    </tr>\n",
       "    <tr>\n",
       "      <th>3</th>\n",
       "      <td>100.70</td>\n",
       "      <td>0.541</td>\n",
       "      <td>0.14</td>\n",
       "      <td>1.119</td>\n",
       "      <td>58.01</td>\n",
       "      <td>2.909</td>\n",
       "      <td>-0.98</td>\n",
       "      <td>1.05</td>\n",
       "      <td>0.06</td>\n",
       "      <td>23.7</td>\n",
       "      <td>...</td>\n",
       "      <td>0</td>\n",
       "      <td>0</td>\n",
       "      <td>0</td>\n",
       "      <td>0</td>\n",
       "      <td>0</td>\n",
       "      <td>0</td>\n",
       "      <td>1</td>\n",
       "      <td>0</td>\n",
       "      <td>1</td>\n",
       "      <td>0</td>\n",
       "    </tr>\n",
       "    <tr>\n",
       "      <th>4</th>\n",
       "      <td>100.70</td>\n",
       "      <td>0.503</td>\n",
       "      <td>0.13</td>\n",
       "      <td>0.944</td>\n",
       "      <td>57.67</td>\n",
       "      <td>2.888</td>\n",
       "      <td>-0.48</td>\n",
       "      <td>1.08</td>\n",
       "      <td>0.06</td>\n",
       "      <td>24.4</td>\n",
       "      <td>...</td>\n",
       "      <td>0</td>\n",
       "      <td>0</td>\n",
       "      <td>0</td>\n",
       "      <td>0</td>\n",
       "      <td>0</td>\n",
       "      <td>0</td>\n",
       "      <td>0</td>\n",
       "      <td>0</td>\n",
       "      <td>1</td>\n",
       "      <td>0</td>\n",
       "    </tr>\n",
       "  </tbody>\n",
       "</table>\n",
       "<p>5 rows × 5254 columns</p>\n",
       "</div>"
      ],
      "text/plain": [
       "    210X1  210X2  210X3  210X4  210X5  210X6  210X7  210X8  210X9  210X10  \\\n",
       "0  100.85  0.423   0.41  0.624  35.50  1.795   0.08  -0.18  -0.15    24.1   \n",
       "1  100.80  0.322   0.41  0.544  70.98  3.580   0.11  -0.32  -0.15    24.3   \n",
       "2  100.75  0.526   0.14  1.081  57.84  2.848  -0.75   1.10   0.06    24.8   \n",
       "3  100.70  0.541   0.14  1.119  58.01  2.909  -0.98   1.05   0.06    23.7   \n",
       "4  100.70  0.503   0.13  0.944  57.67  2.888  -0.48   1.08   0.06    24.4   \n",
       "\n",
       "       ...       Tool (#3)_12T  Tool (#3)_13T  Tool (#3)_14T  Tool (#3)_15T  \\\n",
       "0      ...                   0              0              1              0   \n",
       "1      ...                   0              1              0              0   \n",
       "2      ...                   0              0              0              0   \n",
       "3      ...                   0              0              0              0   \n",
       "4      ...                   0              0              0              0   \n",
       "\n",
       "   Tool (#3)_6T  Tool (#3)_7T  Tool (#3)_8T  Tool (#3)_9T  TOOL (#2)_AT  \\\n",
       "0             0             0             0             0             1   \n",
       "1             0             0             0             0             1   \n",
       "2             0             0             0             1             1   \n",
       "3             0             0             1             0             1   \n",
       "4             0             0             0             0             1   \n",
       "\n",
       "   TOOL (#2)_BT  \n",
       "0             0  \n",
       "1             0  \n",
       "2             0  \n",
       "3             0  \n",
       "4             0  \n",
       "\n",
       "[5 rows x 5254 columns]"
      ]
     },
     "execution_count": 336,
     "metadata": {},
     "output_type": "execute_result"
    }
   ],
   "source": [
    "testa_X.head()"
   ]
  },
  {
   "cell_type": "code",
   "execution_count": 337,
   "metadata": {},
   "outputs": [],
   "source": [
    "a_pred = gbm.predict(testa_X)"
   ]
  },
  {
   "cell_type": "code",
   "execution_count": 338,
   "metadata": {},
   "outputs": [],
   "source": [
    "s_a_pred = pd.Series(a_pred)"
   ]
  },
  {
   "cell_type": "code",
   "execution_count": 339,
   "metadata": {},
   "outputs": [
    {
     "data": {
      "image/png": "[encoded data removed]",
      "text/plain": [
       "<matplotlib.figure.Figure at 0x7f5888fbea90>"
      ]
     },
     "metadata": {},
     "output_type": "display_data"
    }
   ],
   "source": [
    "x = range(len(s_a_pred))\n",
    "plt.plot(x, s_a_pred.sort_values().values, 'r-*', label='y_train')\n",
    "plt.show()"
   ]
  },
  {
   "cell_type": "code",
   "execution_count": null,
   "metadata": {},
   "outputs": [],
   "source": [
    "b_pred = gbm.predict(X_b)"
   ]
  },
  {
   "cell_type": "markdown",
   "metadata": {},
   "source": [
    "#### 读取模板"
   ]
  },
  {
   "cell_type": "code",
   "execution_count": 342,
   "metadata": {},
   "outputs": [],
   "source": [
    "a_pattern = pd.read_csv('./input/a_pattern.csv', names= ['id'])"
   ]
  },
  {
   "cell_type": "code",
   "execution_count": 343,
   "metadata": {},
   "outputs": [],
   "source": [
    "b_pattern = pd.read_csv('./input/b_pattern.csv', names = ['id'])"
   ]
  },
  {
   "cell_type": "code",
   "execution_count": 344,
   "metadata": {},
   "outputs": [],
   "source": [
    "a_pattern['Y'] = a_pred"
   ]
  },
  {
   "cell_type": "code",
   "execution_count": 345,
   "metadata": {},
   "outputs": [],
   "source": [
    "b_pattern['Y'] = 0"
   ]
  },
  {
   "cell_type": "code",
   "execution_count": 346,
   "metadata": {},
   "outputs": [],
   "source": [
    "a_pattern.to_csv('./a_pred.csv', index=None, header=None)"
   ]
  },
  {
   "cell_type": "code",
   "execution_count": 49,
   "metadata": {},
   "outputs": [],
   "source": [
    "b_pattern.to_csv('./b_pred.csv', index=None, header=None)"
   ]
  },
  {
   "cell_type": "code",
   "execution_count": null,
   "metadata": {},
   "outputs": [],
   "source": []
  }
 ],
 "metadata": {
  "kernelspec": {
   "display_name": "Python 3",
   "language": "python",
   "name": "python3"
  },
  "language_info": {
   "codemirror_mode": {
    "name": "ipython",
    "version": 3
   },
   "file_extension": ".py",
   "mimetype": "text/x-python",
   "name": "python",
   "nbconvert_exporter": "python",
   "pygments_lexer": "ipython3",
   "version": "3.5.2"
  }
 },
 "nbformat": 4,
 "nbformat_minor": 2
}
