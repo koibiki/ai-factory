{
 "cells": [
  {
   "cell_type": "code",
   "execution_count": 1,
   "metadata": {},
   "outputs": [],
   "source": [
    "import pandas as pd\n",
    "import numpy as np\n",
    "import lightgbm as lgm\n",
    "%matplotlib inline\n",
    "import matplotlib.pyplot as plt"
   ]
  },
  {
   "cell_type": "markdown",
   "metadata": {},
   "source": [
    "### 读取训练数据"
   ]
  },
  {
   "cell_type": "code",
   "execution_count": 2,
   "metadata": {},
   "outputs": [],
   "source": [
    "# train = pd.read_excel('./train.xlsx')\n",
    "# testa = pd.read_excel('./testa.xlsx')\n",
    "# testb = pd.read_excel('./testb.xlsx')"
   ]
  },
  {
   "cell_type": "code",
   "execution_count": 4,
   "metadata": {},
   "outputs": [],
   "source": [
    "train = pd.read_csv('./train.csv')\n",
    "testa = pd.read_csv('./testa.csv')\n",
    "testb = pd.read_csv('./testb.csv')"
   ]
  },
  {
   "cell_type": "code",
   "execution_count": 5,
   "metadata": {},
   "outputs": [
    {
     "data": {
      "text/html": [
       "<div>\n",
       "<style scoped>\n",
       "    .dataframe tbody tr th:only-of-type {\n",
       "        vertical-align: middle;\n",
       "    }\n",
       "\n",
       "    .dataframe tbody tr th {\n",
       "        vertical-align: top;\n",
       "    }\n",
       "\n",
       "    .dataframe thead th {\n",
       "        text-align: right;\n",
       "    }\n",
       "</style>\n",
       "<table border=\"1\" class=\"dataframe\">\n",
       "  <thead>\n",
       "    <tr style=\"text-align: right;\">\n",
       "      <th></th>\n",
       "      <th>ID</th>\n",
       "      <th>TOOL_ID</th>\n",
       "      <th>210X1</th>\n",
       "      <th>210X2</th>\n",
       "      <th>210X3</th>\n",
       "      <th>210X4</th>\n",
       "      <th>210X5</th>\n",
       "      <th>210X6</th>\n",
       "      <th>210X7</th>\n",
       "      <th>210X8</th>\n",
       "      <th>...</th>\n",
       "      <th>750X1444</th>\n",
       "      <th>750X1445</th>\n",
       "      <th>750X1446</th>\n",
       "      <th>750X1447</th>\n",
       "      <th>750X1448</th>\n",
       "      <th>750X1449</th>\n",
       "      <th>750X1450</th>\n",
       "      <th>750X1451</th>\n",
       "      <th>750X1452</th>\n",
       "      <th>Y</th>\n",
       "    </tr>\n",
       "  </thead>\n",
       "  <tbody>\n",
       "    <tr>\n",
       "      <th>0</th>\n",
       "      <td>ID001</td>\n",
       "      <td>N</td>\n",
       "      <td>102.05</td>\n",
       "      <td>0.465</td>\n",
       "      <td>0.27</td>\n",
       "      <td>1.430</td>\n",
       "      <td>67.45</td>\n",
       "      <td>4.620</td>\n",
       "      <td>-0.54</td>\n",
       "      <td>-1.05</td>\n",
       "      <td>...</td>\n",
       "      <td>0.00072</td>\n",
       "      <td>0.00072</td>\n",
       "      <td>25.7</td>\n",
       "      <td>0.00072</td>\n",
       "      <td>0.00072</td>\n",
       "      <td>25.7</td>\n",
       "      <td>0.00072</td>\n",
       "      <td>0.00072</td>\n",
       "      <td>2.400000e+12</td>\n",
       "      <td>2.945079</td>\n",
       "    </tr>\n",
       "    <tr>\n",
       "      <th>1</th>\n",
       "      <td>ID002</td>\n",
       "      <td>M</td>\n",
       "      <td>100.95</td>\n",
       "      <td>0.805</td>\n",
       "      <td>0.22</td>\n",
       "      <td>3.477</td>\n",
       "      <td>62.08</td>\n",
       "      <td>3.412</td>\n",
       "      <td>-2.12</td>\n",
       "      <td>1.02</td>\n",
       "      <td>...</td>\n",
       "      <td>0.00072</td>\n",
       "      <td>0.00072</td>\n",
       "      <td>25.5</td>\n",
       "      <td>0.00072</td>\n",
       "      <td>0.00072</td>\n",
       "      <td>25.5</td>\n",
       "      <td>0.00072</td>\n",
       "      <td>0.00072</td>\n",
       "      <td>2.400000e+12</td>\n",
       "      <td>2.955092</td>\n",
       "    </tr>\n",
       "    <tr>\n",
       "      <th>2</th>\n",
       "      <td>ID003</td>\n",
       "      <td>L</td>\n",
       "      <td>98.56</td>\n",
       "      <td>0.555</td>\n",
       "      <td>0.24</td>\n",
       "      <td>1.172</td>\n",
       "      <td>56.70</td>\n",
       "      <td>3.080</td>\n",
       "      <td>-2.25</td>\n",
       "      <td>0.88</td>\n",
       "      <td>...</td>\n",
       "      <td>0.00064</td>\n",
       "      <td>0.00064</td>\n",
       "      <td>25.2</td>\n",
       "      <td>0.00064</td>\n",
       "      <td>0.00064</td>\n",
       "      <td>25.2</td>\n",
       "      <td>0.00064</td>\n",
       "      <td>0.00064</td>\n",
       "      <td>2.400000e+12</td>\n",
       "      <td>2.741264</td>\n",
       "    </tr>\n",
       "    <tr>\n",
       "      <th>3</th>\n",
       "      <td>ID004</td>\n",
       "      <td>M</td>\n",
       "      <td>100.35</td>\n",
       "      <td>0.901</td>\n",
       "      <td>0.22</td>\n",
       "      <td>3.631</td>\n",
       "      <td>62.25</td>\n",
       "      <td>3.949</td>\n",
       "      <td>-1.98</td>\n",
       "      <td>0.82</td>\n",
       "      <td>...</td>\n",
       "      <td>0.00072</td>\n",
       "      <td>0.00072</td>\n",
       "      <td>26.4</td>\n",
       "      <td>0.00072</td>\n",
       "      <td>0.00072</td>\n",
       "      <td>26.4</td>\n",
       "      <td>0.00072</td>\n",
       "      <td>0.00072</td>\n",
       "      <td>2.400000e+12</td>\n",
       "      <td>2.799336</td>\n",
       "    </tr>\n",
       "    <tr>\n",
       "      <th>4</th>\n",
       "      <td>ID005</td>\n",
       "      <td>M</td>\n",
       "      <td>100.25</td>\n",
       "      <td>0.854</td>\n",
       "      <td>0.23</td>\n",
       "      <td>3.429</td>\n",
       "      <td>61.42</td>\n",
       "      <td>3.630</td>\n",
       "      <td>-1.89</td>\n",
       "      <td>1.02</td>\n",
       "      <td>...</td>\n",
       "      <td>0.00072</td>\n",
       "      <td>0.00072</td>\n",
       "      <td>26.4</td>\n",
       "      <td>0.00072</td>\n",
       "      <td>0.00072</td>\n",
       "      <td>26.4</td>\n",
       "      <td>0.00072</td>\n",
       "      <td>0.00072</td>\n",
       "      <td>2.400000e+12</td>\n",
       "      <td>2.692093</td>\n",
       "    </tr>\n",
       "  </tbody>\n",
       "</table>\n",
       "<p>5 rows × 8029 columns</p>\n",
       "</div>"
      ],
      "text/plain": [
       "      ID TOOL_ID   210X1  210X2  210X3  210X4  210X5  210X6  210X7  210X8  \\\n",
       "0  ID001       N  102.05  0.465   0.27  1.430  67.45  4.620  -0.54  -1.05   \n",
       "1  ID002       M  100.95  0.805   0.22  3.477  62.08  3.412  -2.12   1.02   \n",
       "2  ID003       L   98.56  0.555   0.24  1.172  56.70  3.080  -2.25   0.88   \n",
       "3  ID004       M  100.35  0.901   0.22  3.631  62.25  3.949  -1.98   0.82   \n",
       "4  ID005       M  100.25  0.854   0.23  3.429  61.42  3.630  -1.89   1.02   \n",
       "\n",
       "     ...     750X1444  750X1445  750X1446  750X1447  750X1448  750X1449  \\\n",
       "0    ...      0.00072   0.00072      25.7   0.00072   0.00072      25.7   \n",
       "1    ...      0.00072   0.00072      25.5   0.00072   0.00072      25.5   \n",
       "2    ...      0.00064   0.00064      25.2   0.00064   0.00064      25.2   \n",
       "3    ...      0.00072   0.00072      26.4   0.00072   0.00072      26.4   \n",
       "4    ...      0.00072   0.00072      26.4   0.00072   0.00072      26.4   \n",
       "\n",
       "   750X1450  750X1451      750X1452         Y  \n",
       "0   0.00072   0.00072  2.400000e+12  2.945079  \n",
       "1   0.00072   0.00072  2.400000e+12  2.955092  \n",
       "2   0.00064   0.00064  2.400000e+12  2.741264  \n",
       "3   0.00072   0.00072  2.400000e+12  2.799336  \n",
       "4   0.00072   0.00072  2.400000e+12  2.692093  \n",
       "\n",
       "[5 rows x 8029 columns]"
      ]
     },
     "execution_count": 5,
     "metadata": {},
     "output_type": "execute_result"
    }
   ],
   "source": [
    "train.head()"
   ]
  },
  {
   "cell_type": "code",
   "execution_count": null,
   "metadata": {},
   "outputs": [],
   "source": []
  },
  {
   "cell_type": "code",
   "execution_count": null,
   "metadata": {},
   "outputs": [],
   "source": []
  },
  {
   "cell_type": "markdown",
   "metadata": {},
   "source": [
    "#### 去除ID"
   ]
  },
  {
   "cell_type": "code",
   "execution_count": 6,
   "metadata": {},
   "outputs": [],
   "source": [
    "train_X = train.iloc[:,1:-1]\n",
    "train_Y = train.Y\n",
    "X_a = testa.iloc[:,1:]\n",
    "X_b = testb.iloc[:,1:]"
   ]
  },
  {
   "cell_type": "code",
   "execution_count": 7,
   "metadata": {},
   "outputs": [],
   "source": [
    "train_id = train.ID\n",
    "a_id = testa.ID\n",
    "b_id = testa.ID"
   ]
  },
  {
   "cell_type": "code",
   "execution_count": 8,
   "metadata": {},
   "outputs": [
    {
     "data": {
      "text/plain": [
       "(500, 8027)"
      ]
     },
     "execution_count": 8,
     "metadata": {},
     "output_type": "execute_result"
    }
   ],
   "source": [
    "train_X.shape"
   ]
  },
  {
   "cell_type": "code",
   "execution_count": 9,
   "metadata": {},
   "outputs": [
    {
     "data": {
      "text/plain": [
       "(100, 8027)"
      ]
     },
     "execution_count": 9,
     "metadata": {},
     "output_type": "execute_result"
    }
   ],
   "source": [
    "X_a.shape"
   ]
  },
  {
   "cell_type": "code",
   "execution_count": 10,
   "metadata": {},
   "outputs": [
    {
     "data": {
      "text/plain": [
       "(121, 8027)"
      ]
     },
     "execution_count": 10,
     "metadata": {},
     "output_type": "execute_result"
    }
   ],
   "source": [
    "X_b.shape"
   ]
  },
  {
   "cell_type": "code",
   "execution_count": 11,
   "metadata": {},
   "outputs": [
    {
     "data": {
      "text/plain": [
       "500"
      ]
     },
     "execution_count": 11,
     "metadata": {},
     "output_type": "execute_result"
    }
   ],
   "source": [
    "len(train_X)"
   ]
  },
  {
   "cell_type": "markdown",
   "metadata": {},
   "source": [
    "#### 去除时间特征"
   ]
  },
  {
   "cell_type": "code",
   "execution_count": 13,
   "metadata": {},
   "outputs": [],
   "source": [
    "def is_prefix2017(num):\n",
    "    str_num = str(num)\n",
    "    return str_num.startswith('2017')"
   ]
  },
  {
   "cell_type": "code",
   "execution_count": 14,
   "metadata": {},
   "outputs": [],
   "source": [
    "def get_date_columns(data):\n",
    "    columns = data.iloc[0, :].index\n",
    "    date_column = []\n",
    "    for row_index in range(len(data)):\n",
    "        item = data.iloc[row_index]\n",
    "        for index in range(len(item)):\n",
    "            if type(item[index]) == np.int64 and is_prefix2017(item[index]):\n",
    "                date_column.append(columns[index])\n",
    "    return date_column"
   ]
  },
  {
   "cell_type": "code",
   "execution_count": 16,
   "metadata": {},
   "outputs": [],
   "source": [
    "train_date_columns = get_date_columns(train)"
   ]
  },
  {
   "cell_type": "code",
   "execution_count": 17,
   "metadata": {},
   "outputs": [],
   "source": [
    "testa_date_columns = get_date_columns(X_a)"
   ]
  },
  {
   "cell_type": "code",
   "execution_count": 18,
   "metadata": {},
   "outputs": [],
   "source": [
    "testb_date_columns = get_date_columns(X_b)"
   ]
  },
  {
   "cell_type": "code",
   "execution_count": 19,
   "metadata": {},
   "outputs": [],
   "source": [
    "def mix_date_columns(train_date_columns, testa_date_columns, testb_date_columns):\n",
    "    date_columns = []\n",
    "    for item in train_date_columns:\n",
    "        if item not in date_columns:\n",
    "            date_columns.append(item)\n",
    "    for item in testa_date_columns:\n",
    "        if item not in date_columns:\n",
    "            date_columns.append(item)\n",
    "    for item in testb_date_columns:\n",
    "        if item not in date_columns:\n",
    "            date_columns.append(item)\n",
    "    return date_columns"
   ]
  },
  {
   "cell_type": "code",
   "execution_count": 20,
   "metadata": {},
   "outputs": [],
   "source": [
    "date_columns = mix_date_columns(train_date_columns, testa_date_columns, testb_date_columns)"
   ]
  },
  {
   "cell_type": "code",
   "execution_count": 21,
   "metadata": {},
   "outputs": [],
   "source": [
    "train_X = train_X.drop(date_columns, axis=1)"
   ]
  },
  {
   "cell_type": "code",
   "execution_count": 22,
   "metadata": {},
   "outputs": [],
   "source": [
    "X_a = X_a.drop(date_columns, axis=1)"
   ]
  },
  {
   "cell_type": "code",
   "execution_count": 23,
   "metadata": {},
   "outputs": [],
   "source": [
    "X_b = X_b.drop(date_columns, axis=1)"
   ]
  },
  {
   "cell_type": "code",
   "execution_count": 24,
   "metadata": {},
   "outputs": [
    {
     "data": {
      "text/plain": [
       "(500, 7927)"
      ]
     },
     "execution_count": 24,
     "metadata": {},
     "output_type": "execute_result"
    }
   ],
   "source": [
    "train_X.shape"
   ]
  },
  {
   "cell_type": "code",
   "execution_count": 25,
   "metadata": {},
   "outputs": [
    {
     "data": {
      "text/plain": [
       "(100, 7927)"
      ]
     },
     "execution_count": 25,
     "metadata": {},
     "output_type": "execute_result"
    }
   ],
   "source": [
    "X_a.shape"
   ]
  },
  {
   "cell_type": "code",
   "execution_count": 26,
   "metadata": {},
   "outputs": [
    {
     "data": {
      "text/plain": [
       "(121, 7927)"
      ]
     },
     "execution_count": 26,
     "metadata": {},
     "output_type": "execute_result"
    }
   ],
   "source": [
    "X_b.shape"
   ]
  },
  {
   "cell_type": "code",
   "execution_count": null,
   "metadata": {},
   "outputs": [],
   "source": []
  },
  {
   "cell_type": "code",
   "execution_count": null,
   "metadata": {},
   "outputs": [],
   "source": []
  },
  {
   "cell_type": "markdown",
   "metadata": {},
   "source": [
    "#### 字符特征 和 数字特征 分离"
   ]
  },
  {
   "cell_type": "code",
   "execution_count": 28,
   "metadata": {},
   "outputs": [],
   "source": [
    "def get_str_columns(date):\n",
    "    str_columns = []\n",
    "    for item in date.columns:\n",
    "        if item.startswith(\"T\") or item.startswith(\"t\"):\n",
    "            str_columns.append(item)\n",
    "    return str_columns"
   ]
  },
  {
   "cell_type": "code",
   "execution_count": 29,
   "metadata": {},
   "outputs": [],
   "source": [
    "str_columns = get_str_columns(train_X)"
   ]
  },
  {
   "cell_type": "code",
   "execution_count": 30,
   "metadata": {},
   "outputs": [],
   "source": [
    "def num_to_str(data):\n",
    "    columns = data.columns\n",
    "    for item in columns:\n",
    "        data[item] = data[item].apply(lambda x: str(x) + \"T\")\n",
    "    return data"
   ]
  },
  {
   "cell_type": "code",
   "execution_count": 31,
   "metadata": {},
   "outputs": [],
   "source": [
    "train_X_str = train_X.loc[:,str_columns]\n",
    "testa_X_str = X_a.loc[:,str_columns]\n",
    "testb_x_str = X_b.loc[:, str_columns]"
   ]
  },
  {
   "cell_type": "code",
   "execution_count": 32,
   "metadata": {},
   "outputs": [],
   "source": [
    "def num_to_str(data):\n",
    "    columns = data.columns\n",
    "    for item in columns:\n",
    "        data[item] = data[item].apply(lambda x: str(x) + \"T\")\n",
    "    return data"
   ]
  },
  {
   "cell_type": "code",
   "execution_count": 33,
   "metadata": {},
   "outputs": [],
   "source": [
    "train_X_str = num_to_str(train_X_str)\n",
    "testa_X_str = num_to_str(testa_X_str)\n",
    "testb_x_str = num_to_str(testb_x_str)"
   ]
  },
  {
   "cell_type": "code",
   "execution_count": null,
   "metadata": {},
   "outputs": [],
   "source": []
  },
  {
   "cell_type": "code",
   "execution_count": 35,
   "metadata": {},
   "outputs": [],
   "source": [
    "train_X_num = train_X.drop(str_columns, axis=1)\n",
    "testa_X_num = X_a.drop(str_columns, axis=1)\n",
    "testb_X_num = X_b.drop(str_columns, axis=1)"
   ]
  },
  {
   "cell_type": "code",
   "execution_count": 36,
   "metadata": {},
   "outputs": [
    {
     "data": {
      "text/plain": [
       "(500, 7914)"
      ]
     },
     "execution_count": 36,
     "metadata": {},
     "output_type": "execute_result"
    }
   ],
   "source": [
    "train_X_num.shape"
   ]
  },
  {
   "cell_type": "code",
   "execution_count": 37,
   "metadata": {},
   "outputs": [
    {
     "data": {
      "text/plain": [
       "(100, 7914)"
      ]
     },
     "execution_count": 37,
     "metadata": {},
     "output_type": "execute_result"
    }
   ],
   "source": [
    "testa_X_num.shape"
   ]
  },
  {
   "cell_type": "code",
   "execution_count": 38,
   "metadata": {},
   "outputs": [
    {
     "data": {
      "text/plain": [
       "(121, 7914)"
      ]
     },
     "execution_count": 38,
     "metadata": {},
     "output_type": "execute_result"
    }
   ],
   "source": [
    "testb_X_num.shape"
   ]
  },
  {
   "cell_type": "markdown",
   "metadata": {},
   "source": [
    "#### 特征向量化"
   ]
  },
  {
   "cell_type": "code",
   "execution_count": 40,
   "metadata": {},
   "outputs": [],
   "source": [
    "train_X_str = pd.get_dummies(train_X_str)\n",
    "testa_X_str = pd.get_dummies(testa_X_str)\n",
    "testb_x_str = pd.get_dummies(testb_x_str)"
   ]
  },
  {
   "cell_type": "code",
   "execution_count": 19,
   "metadata": {},
   "outputs": [],
   "source": []
  },
  {
   "cell_type": "code",
   "execution_count": 41,
   "metadata": {},
   "outputs": [
    {
     "data": {
      "text/plain": [
       "(500, 56)"
      ]
     },
     "execution_count": 41,
     "metadata": {},
     "output_type": "execute_result"
    }
   ],
   "source": [
    "train_X_str.shape"
   ]
  },
  {
   "cell_type": "code",
   "execution_count": 42,
   "metadata": {},
   "outputs": [
    {
     "data": {
      "text/plain": [
       "(100, 54)"
      ]
     },
     "execution_count": 42,
     "metadata": {},
     "output_type": "execute_result"
    }
   ],
   "source": [
    "testa_X_str.shape"
   ]
  },
  {
   "cell_type": "code",
   "execution_count": 43,
   "metadata": {},
   "outputs": [
    {
     "data": {
      "text/plain": [
       "(121, 56)"
      ]
     },
     "execution_count": 43,
     "metadata": {},
     "output_type": "execute_result"
    }
   ],
   "source": [
    "testb_x_str.shape"
   ]
  },
  {
   "cell_type": "code",
   "execution_count": 48,
   "metadata": {},
   "outputs": [
    {
     "data": {
      "text/plain": [
       "Index(['TOOL_ID_JT', 'TOOL_ID_KT', 'TOOL_ID_LT', 'TOOL_ID_MT', 'TOOL_ID_NT',\n",
       "       'TOOL_ID_OT', 'Tool_AT', 'Tool_BT', 'TOOL_ID (#1)_ET',\n",
       "       'TOOL_ID (#1)_NT', 'TOOL_ID (#2)_CT', 'TOOL_ID (#2)_DT',\n",
       "       'TOOL_ID (#2)_ET', 'TOOL_ID (#3)_E0T', 'TOOL_ID (#3)_N0T',\n",
       "       'Tool (#1)_1018T', 'Tool (#1)_1110T', 'Tool (#1)_1113T',\n",
       "       'Tool (#1)_1245T', 'Tool (#1)_215T', 'Tool (#1)_2823T',\n",
       "       'Tool (#1)_329T', 'Tool (#1)_530T', 'Tool (#2)_AT', 'Tool (#2)_BT',\n",
       "       'Tool (#2)_CT', 'tool_2409T', 'tool_3009T', 'tool_4106T', 'tool_4147T',\n",
       "       'tool (#1)_PT', 'tool (#1)_QT', 'tool (#1)_RT', 'tool (#1)_ST',\n",
       "       'tool (#1)_TT', 'tool (#1)_UT', 'tool (#1)_VT', 'tool (#1)_WT',\n",
       "       'tool (#1)_XT', 'TOOL_BT', 'TOOL_CT', 'TOOL_DT', 'TOOL (#1)_XY1T',\n",
       "       'TOOL (#1)_YX1T', 'Tool (#3)_10T', 'Tool (#3)_11T', 'Tool (#3)_12T',\n",
       "       'Tool (#3)_13T', 'Tool (#3)_14T', 'Tool (#3)_15T', 'Tool (#3)_6T',\n",
       "       'Tool (#3)_7T', 'Tool (#3)_8T', 'Tool (#3)_9T', 'TOOL (#2)_AT',\n",
       "       'TOOL (#2)_BT'],\n",
       "      dtype='object')"
      ]
     },
     "execution_count": 48,
     "metadata": {},
     "output_type": "execute_result"
    }
   ],
   "source": [
    "train_X_str.columns"
   ]
  },
  {
   "cell_type": "code",
   "execution_count": 50,
   "metadata": {},
   "outputs": [
    {
     "data": {
      "text/plain": [
       "'TOOL_ID_JT'"
      ]
     },
     "execution_count": 50,
     "metadata": {},
     "output_type": "execute_result"
    }
   ],
   "source": [
    "testa_X_str.columns"
   ]
  },
  {
   "cell_type": "markdown",
   "metadata": {},
   "source": [
    "##### 特征对齐"
   ]
  },
  {
   "cell_type": "code",
   "execution_count": 62,
   "metadata": {},
   "outputs": [],
   "source": [
    "#删除测试集中 未在 训练集 中出现的特征\n",
    "def deleteFeature(train, test):\n",
    "    train_columns = train.columns\n",
    "    test_columns = test.columns\n",
    "    for item in test_columns:\n",
    "        if item not in train_columns:\n",
    "            test = test.drop(item, axis=1)\n",
    "    return test"
   ]
  },
  {
   "cell_type": "code",
   "execution_count": 60,
   "metadata": {},
   "outputs": [
    {
     "name": "stdout",
     "output_type": "stream",
     "text": [
      "Tool (#1)_206T\n",
      "Tool (#3)_1T\n"
     ]
    }
   ],
   "source": [
    "testa_drop = deleteFeature(train_X_str, testa_X_str)"
   ]
  },
  {
   "cell_type": "code",
   "execution_count": 63,
   "metadata": {},
   "outputs": [],
   "source": [
    "testb_drop = deleteFeature(train_X_str, testb_x_str)"
   ]
  },
  {
   "cell_type": "code",
   "execution_count": 64,
   "metadata": {},
   "outputs": [],
   "source": [
    "def featureAlign(X, X_a, X_b):\n",
    "    X_columns = X.columns.values\n",
    "    for index in range(len(X_columns)):\n",
    "        column = X_columns[index]\n",
    "        if column != X_a.iloc[:,index].name:\n",
    "            X_a.insert(index, column, np.zeros(len(X_a)))\n",
    "        if column != X_b.iloc[:,index].name:\n",
    "            X_b.insert(index, column, np.zeros(len(X_b)))\n",
    "    return X_a, X_b"
   ]
  },
  {
   "cell_type": "code",
   "execution_count": 65,
   "metadata": {},
   "outputs": [],
   "source": [
    "testa_X_str, testb_x_str = featureAlign(train_X_str, testa_drop, testa_drop)"
   ]
  },
  {
   "cell_type": "code",
   "execution_count": 66,
   "metadata": {},
   "outputs": [
    {
     "data": {
      "text/plain": [
       "(500, 56)"
      ]
     },
     "execution_count": 66,
     "metadata": {},
     "output_type": "execute_result"
    }
   ],
   "source": [
    "train_X_str.shape"
   ]
  },
  {
   "cell_type": "code",
   "execution_count": 67,
   "metadata": {},
   "outputs": [
    {
     "data": {
      "text/plain": [
       "(100, 56)"
      ]
     },
     "execution_count": 67,
     "metadata": {},
     "output_type": "execute_result"
    }
   ],
   "source": [
    "testa_X_str.shape"
   ]
  },
  {
   "cell_type": "code",
   "execution_count": 68,
   "metadata": {},
   "outputs": [
    {
     "data": {
      "text/plain": [
       "(100, 56)"
      ]
     },
     "execution_count": 68,
     "metadata": {},
     "output_type": "execute_result"
    }
   ],
   "source": [
    "testb_x_str.shape"
   ]
  },
  {
   "cell_type": "code",
   "execution_count": null,
   "metadata": {},
   "outputs": [],
   "source": []
  },
  {
   "cell_type": "code",
   "execution_count": null,
   "metadata": {},
   "outputs": [],
   "source": []
  },
  {
   "cell_type": "markdown",
   "metadata": {},
   "source": [
    "#### Nan列统计"
   ]
  },
  {
   "cell_type": "code",
   "execution_count": 69,
   "metadata": {},
   "outputs": [],
   "source": [
    "train_X_num['nan_count'] = (np.isnan(train_X_num)).sum(axis=1)"
   ]
  },
  {
   "cell_type": "code",
   "execution_count": 70,
   "metadata": {},
   "outputs": [],
   "source": [
    "def standardNan(x):\n",
    "    if x > 210:\n",
    "        return 4\n",
    "    elif x <= 210 and x > 150:\n",
    "        return 3\n",
    "    elif x > 75 and x < 150:\n",
    "        return 2\n",
    "    elif x <= 75:\n",
    "        return 1"
   ]
  },
  {
   "cell_type": "code",
   "execution_count": 71,
   "metadata": {},
   "outputs": [],
   "source": [
    "train_X_num['nan_standard'] = train_X_num.nan_count.apply(lambda x : standardNan(x))"
   ]
  },
  {
   "cell_type": "code",
   "execution_count": 73,
   "metadata": {},
   "outputs": [
    {
     "data": {
      "text/html": [
       "<div>\n",
       "<style scoped>\n",
       "    .dataframe tbody tr th:only-of-type {\n",
       "        vertical-align: middle;\n",
       "    }\n",
       "\n",
       "    .dataframe tbody tr th {\n",
       "        vertical-align: top;\n",
       "    }\n",
       "\n",
       "    .dataframe thead th {\n",
       "        text-align: right;\n",
       "    }\n",
       "</style>\n",
       "<table border=\"1\" class=\"dataframe\">\n",
       "  <thead>\n",
       "    <tr style=\"text-align: right;\">\n",
       "      <th></th>\n",
       "      <th>210X1</th>\n",
       "      <th>210X2</th>\n",
       "      <th>210X3</th>\n",
       "      <th>210X4</th>\n",
       "      <th>210X5</th>\n",
       "      <th>210X6</th>\n",
       "      <th>210X7</th>\n",
       "      <th>210X8</th>\n",
       "      <th>210X9</th>\n",
       "      <th>210X10</th>\n",
       "      <th>...</th>\n",
       "      <th>750X1445</th>\n",
       "      <th>750X1446</th>\n",
       "      <th>750X1447</th>\n",
       "      <th>750X1448</th>\n",
       "      <th>750X1449</th>\n",
       "      <th>750X1450</th>\n",
       "      <th>750X1451</th>\n",
       "      <th>750X1452</th>\n",
       "      <th>nan_count</th>\n",
       "      <th>nan_standard</th>\n",
       "    </tr>\n",
       "  </thead>\n",
       "  <tbody>\n",
       "    <tr>\n",
       "      <th>0</th>\n",
       "      <td>102.05</td>\n",
       "      <td>0.465</td>\n",
       "      <td>0.27</td>\n",
       "      <td>1.430</td>\n",
       "      <td>67.45</td>\n",
       "      <td>4.620</td>\n",
       "      <td>-0.54</td>\n",
       "      <td>-1.05</td>\n",
       "      <td>-0.13</td>\n",
       "      <td>26.3</td>\n",
       "      <td>...</td>\n",
       "      <td>0.00072</td>\n",
       "      <td>25.7</td>\n",
       "      <td>0.00072</td>\n",
       "      <td>0.00072</td>\n",
       "      <td>25.7</td>\n",
       "      <td>0.00072</td>\n",
       "      <td>0.00072</td>\n",
       "      <td>2.400000e+12</td>\n",
       "      <td>198</td>\n",
       "      <td>3</td>\n",
       "    </tr>\n",
       "    <tr>\n",
       "      <th>1</th>\n",
       "      <td>100.95</td>\n",
       "      <td>0.805</td>\n",
       "      <td>0.22</td>\n",
       "      <td>3.477</td>\n",
       "      <td>62.08</td>\n",
       "      <td>3.412</td>\n",
       "      <td>-2.12</td>\n",
       "      <td>1.02</td>\n",
       "      <td>0.08</td>\n",
       "      <td>28.2</td>\n",
       "      <td>...</td>\n",
       "      <td>0.00072</td>\n",
       "      <td>25.5</td>\n",
       "      <td>0.00072</td>\n",
       "      <td>0.00072</td>\n",
       "      <td>25.5</td>\n",
       "      <td>0.00072</td>\n",
       "      <td>0.00072</td>\n",
       "      <td>2.400000e+12</td>\n",
       "      <td>203</td>\n",
       "      <td>3</td>\n",
       "    </tr>\n",
       "    <tr>\n",
       "      <th>2</th>\n",
       "      <td>98.56</td>\n",
       "      <td>0.555</td>\n",
       "      <td>0.24</td>\n",
       "      <td>1.172</td>\n",
       "      <td>56.70</td>\n",
       "      <td>3.080</td>\n",
       "      <td>-2.25</td>\n",
       "      <td>0.88</td>\n",
       "      <td>0.17</td>\n",
       "      <td>26.6</td>\n",
       "      <td>...</td>\n",
       "      <td>0.00064</td>\n",
       "      <td>25.2</td>\n",
       "      <td>0.00064</td>\n",
       "      <td>0.00064</td>\n",
       "      <td>25.2</td>\n",
       "      <td>0.00064</td>\n",
       "      <td>0.00064</td>\n",
       "      <td>2.400000e+12</td>\n",
       "      <td>198</td>\n",
       "      <td>3</td>\n",
       "    </tr>\n",
       "    <tr>\n",
       "      <th>3</th>\n",
       "      <td>100.35</td>\n",
       "      <td>0.901</td>\n",
       "      <td>0.22</td>\n",
       "      <td>3.631</td>\n",
       "      <td>62.25</td>\n",
       "      <td>3.949</td>\n",
       "      <td>-1.98</td>\n",
       "      <td>0.82</td>\n",
       "      <td>0.08</td>\n",
       "      <td>25.2</td>\n",
       "      <td>...</td>\n",
       "      <td>0.00072</td>\n",
       "      <td>26.4</td>\n",
       "      <td>0.00072</td>\n",
       "      <td>0.00072</td>\n",
       "      <td>26.4</td>\n",
       "      <td>0.00072</td>\n",
       "      <td>0.00072</td>\n",
       "      <td>2.400000e+12</td>\n",
       "      <td>199</td>\n",
       "      <td>3</td>\n",
       "    </tr>\n",
       "    <tr>\n",
       "      <th>4</th>\n",
       "      <td>100.25</td>\n",
       "      <td>0.854</td>\n",
       "      <td>0.23</td>\n",
       "      <td>3.429</td>\n",
       "      <td>61.42</td>\n",
       "      <td>3.630</td>\n",
       "      <td>-1.89</td>\n",
       "      <td>1.02</td>\n",
       "      <td>0.08</td>\n",
       "      <td>27.3</td>\n",
       "      <td>...</td>\n",
       "      <td>0.00072</td>\n",
       "      <td>26.4</td>\n",
       "      <td>0.00072</td>\n",
       "      <td>0.00072</td>\n",
       "      <td>26.4</td>\n",
       "      <td>0.00072</td>\n",
       "      <td>0.00072</td>\n",
       "      <td>2.400000e+12</td>\n",
       "      <td>198</td>\n",
       "      <td>3</td>\n",
       "    </tr>\n",
       "  </tbody>\n",
       "</table>\n",
       "<p>5 rows × 7916 columns</p>\n",
       "</div>"
      ],
      "text/plain": [
       "    210X1  210X2  210X3  210X4  210X5  210X6  210X7  210X8  210X9  210X10  \\\n",
       "0  102.05  0.465   0.27  1.430  67.45  4.620  -0.54  -1.05  -0.13    26.3   \n",
       "1  100.95  0.805   0.22  3.477  62.08  3.412  -2.12   1.02   0.08    28.2   \n",
       "2   98.56  0.555   0.24  1.172  56.70  3.080  -2.25   0.88   0.17    26.6   \n",
       "3  100.35  0.901   0.22  3.631  62.25  3.949  -1.98   0.82   0.08    25.2   \n",
       "4  100.25  0.854   0.23  3.429  61.42  3.630  -1.89   1.02   0.08    27.3   \n",
       "\n",
       "       ...       750X1445  750X1446  750X1447  750X1448  750X1449  750X1450  \\\n",
       "0      ...        0.00072      25.7   0.00072   0.00072      25.7   0.00072   \n",
       "1      ...        0.00072      25.5   0.00072   0.00072      25.5   0.00072   \n",
       "2      ...        0.00064      25.2   0.00064   0.00064      25.2   0.00064   \n",
       "3      ...        0.00072      26.4   0.00072   0.00072      26.4   0.00072   \n",
       "4      ...        0.00072      26.4   0.00072   0.00072      26.4   0.00072   \n",
       "\n",
       "   750X1451      750X1452  nan_count  nan_standard  \n",
       "0   0.00072  2.400000e+12        198             3  \n",
       "1   0.00072  2.400000e+12        203             3  \n",
       "2   0.00064  2.400000e+12        198             3  \n",
       "3   0.00072  2.400000e+12        199             3  \n",
       "4   0.00072  2.400000e+12        198             3  \n",
       "\n",
       "[5 rows x 7916 columns]"
      ]
     },
     "execution_count": 73,
     "metadata": {},
     "output_type": "execute_result"
    }
   ],
   "source": [
    "train_X_num.head()"
   ]
  },
  {
   "cell_type": "code",
   "execution_count": 78,
   "metadata": {},
   "outputs": [],
   "source": [
    "train_num_Y_str = pd.concat([train_X_num, train_Y, train_X_str],axis=1)"
   ]
  },
  {
   "cell_type": "code",
   "execution_count": 137,
   "metadata": {},
   "outputs": [],
   "source": [
    "train_num_Y_str_lower_4 = train_num_Y_str[train_num_Y_str.nan_standard < 4]"
   ]
  },
  {
   "cell_type": "code",
   "execution_count": null,
   "metadata": {},
   "outputs": [],
   "source": []
  },
  {
   "cell_type": "code",
   "execution_count": 98,
   "metadata": {},
   "outputs": [],
   "source": [
    "testa_X_num['nan_count'] = (np.isnan(testa_X_num)).sum(axis=1)"
   ]
  },
  {
   "cell_type": "code",
   "execution_count": 99,
   "metadata": {},
   "outputs": [],
   "source": [
    "testa_X_num['nan_standard'] = testa_X_num.nan_count.apply(lambda x : standardNan(x))"
   ]
  },
  {
   "cell_type": "code",
   "execution_count": 101,
   "metadata": {},
   "outputs": [],
   "source": []
  },
  {
   "cell_type": "code",
   "execution_count": null,
   "metadata": {},
   "outputs": [],
   "source": []
  },
  {
   "cell_type": "code",
   "execution_count": null,
   "metadata": {},
   "outputs": [],
   "source": []
  },
  {
   "cell_type": "code",
   "execution_count": null,
   "metadata": {},
   "outputs": [],
   "source": []
  },
  {
   "cell_type": "code",
   "execution_count": null,
   "metadata": {},
   "outputs": [],
   "source": []
  },
  {
   "cell_type": "code",
   "execution_count": 29,
   "metadata": {},
   "outputs": [],
   "source": [
    "train_rank = train_has_nan_count.sort_values(by='nan_count')"
   ]
  },
  {
   "cell_type": "code",
   "execution_count": 30,
   "metadata": {},
   "outputs": [],
   "source": [
    "train_rank = train_rank.reset_index()"
   ]
  },
  {
   "cell_type": "code",
   "execution_count": 31,
   "metadata": {},
   "outputs": [
    {
     "data": {
      "image/png": "[encoded data removed]",
      "text/plain": [
       "<matplotlib.figure.Figure at 0x7f3c50502f28>"
      ]
     },
     "metadata": {},
     "output_type": "display_data"
    }
   ],
   "source": [
    "plt.scatter(train_rank.index, train_rank.Y.values)\n",
    "plt.show()"
   ]
  },
  {
   "cell_type": "code",
   "execution_count": 32,
   "metadata": {},
   "outputs": [
    {
     "data": {
      "image/png": "[encoded data removed]",
      "text/plain": [
       "<matplotlib.figure.Figure at 0x7f3c50315978>"
      ]
     },
     "metadata": {},
     "output_type": "display_data"
    }
   ],
   "source": [
    "plt.scatter(train_rank.index, train_rank.nan_count.values)\n",
    "plt.show()"
   ]
  },
  {
   "cell_type": "code",
   "execution_count": 41,
   "metadata": {},
   "outputs": [],
   "source": [
    "train_300_150 = train_rank[(train_rank.nan_count < 300).values & (train_rank.nan_count >150).values]"
   ]
  },
  {
   "cell_type": "code",
   "execution_count": 42,
   "metadata": {},
   "outputs": [
    {
     "data": {
      "image/png": "[encoded data removed]",
      "text/plain": [
       "<matplotlib.figure.Figure at 0x7fda5c248a90>"
      ]
     },
     "metadata": {},
     "output_type": "display_data"
    }
   ],
   "source": [
    "plt.scatter(train_300_150.index, train_300_150.nan_count.values)\n",
    "plt.show()"
   ]
  },
  {
   "cell_type": "code",
   "execution_count": 43,
   "metadata": {},
   "outputs": [],
   "source": [
    "train_150 = train_rank[train_rank.nan_count < 150]"
   ]
  },
  {
   "cell_type": "code",
   "execution_count": 44,
   "metadata": {},
   "outputs": [
    {
     "data": {
      "image/png": "[encoded data removed]",
      "text/plain": [
       "<matplotlib.figure.Figure at 0x7fbaae6ad8d0>"
      ]
     },
     "metadata": {},
     "output_type": "display_data"
    }
   ],
   "source": [
    "plt.scatter(train_150.index, train_150.nan_count.values)\n",
    "plt.show()"
   ]
  },
  {
   "cell_type": "code",
   "execution_count": null,
   "metadata": {},
   "outputs": [],
   "source": []
  },
  {
   "cell_type": "code",
   "execution_count": 45,
   "metadata": {},
   "outputs": [
    {
     "name": "stderr",
     "output_type": "stream",
     "text": [
      "/usr/local/lib/python3.5/dist-packages/ipykernel_launcher.py:1: FutureWarning: by argument to sort_index is deprecated, please use .sort_values(by=...)\n",
      "  \"\"\"Entry point for launching an IPython kernel.\n"
     ]
    }
   ],
   "source": [
    "X_a_rank = X_a.sort_index(by='nan_count')"
   ]
  },
  {
   "cell_type": "code",
   "execution_count": 46,
   "metadata": {},
   "outputs": [],
   "source": [
    "X_a_rank = X_a_rank.reset_index()"
   ]
  },
  {
   "cell_type": "code",
   "execution_count": 47,
   "metadata": {},
   "outputs": [
    {
     "data": {
      "image/png": "[encoded data removed]",
      "text/plain": [
       "<matplotlib.figure.Figure at 0x7fbaae6a9cc0>"
      ]
     },
     "metadata": {},
     "output_type": "display_data"
    }
   ],
   "source": [
    "plt.scatter(X_a_rank.index, X_a_rank.nan_count.values)\n",
    "plt.show()"
   ]
  },
  {
   "cell_type": "code",
   "execution_count": 48,
   "metadata": {},
   "outputs": [],
   "source": [
    "X_a_300_150 = X_a_rank[(X_a_rank.nan_count >150).values & (X_a_rank.nan_count <300)]"
   ]
  },
  {
   "cell_type": "code",
   "execution_count": 49,
   "metadata": {},
   "outputs": [
    {
     "data": {
      "image/png": "[encoded data removed]",
      "text/plain": [
       "<matplotlib.figure.Figure at 0x7fbaae6a76a0>"
      ]
     },
     "metadata": {},
     "output_type": "display_data"
    }
   ],
   "source": [
    "plt.scatter(X_a_300_150.index, X_a_300_150.nan_count.values)\n",
    "plt.show()"
   ]
  },
  {
   "cell_type": "code",
   "execution_count": 50,
   "metadata": {},
   "outputs": [],
   "source": [
    "X_a_100 = X_a_rank[X_a_rank.nan_count <150]"
   ]
  },
  {
   "cell_type": "code",
   "execution_count": 51,
   "metadata": {},
   "outputs": [
    {
     "data": {
      "image/png": "[encoded data removed]",
      "text/plain": [
       "<matplotlib.figure.Figure at 0x7fbaaf6d5d30>"
      ]
     },
     "metadata": {},
     "output_type": "display_data"
    }
   ],
   "source": [
    "plt.scatter(X_a_100.index, X_a_100.nan_count.values)\n",
    "plt.show()"
   ]
  },
  {
   "cell_type": "code",
   "execution_count": 52,
   "metadata": {},
   "outputs": [
    {
     "name": "stderr",
     "output_type": "stream",
     "text": [
      "/usr/local/lib/python3.5/dist-packages/ipykernel_launcher.py:1: FutureWarning: by argument to sort_index is deprecated, please use .sort_values(by=...)\n",
      "  \"\"\"Entry point for launching an IPython kernel.\n"
     ]
    }
   ],
   "source": [
    "X_b_rank = X_b.sort_index(by='nan_count')"
   ]
  },
  {
   "cell_type": "code",
   "execution_count": 53,
   "metadata": {},
   "outputs": [],
   "source": [
    "X_b_rank = X_b_rank.reset_index()"
   ]
  },
  {
   "cell_type": "code",
   "execution_count": 54,
   "metadata": {},
   "outputs": [
    {
     "data": {
      "image/png": "[encoded data removed]",
      "text/plain": [
       "<matplotlib.figure.Figure at 0x7fbaae71fcf8>"
      ]
     },
     "metadata": {},
     "output_type": "display_data"
    }
   ],
   "source": [
    "plt.scatter(X_b_rank.index, X_b_rank.nan_count.values)\n",
    "plt.show()"
   ]
  },
  {
   "cell_type": "code",
   "execution_count": 55,
   "metadata": {},
   "outputs": [],
   "source": [
    "X_b_300_150 = X_b_rank[(X_b_rank.nan_count <300).values & (X_b_rank.nan_count > 150).values]"
   ]
  },
  {
   "cell_type": "code",
   "execution_count": 56,
   "metadata": {},
   "outputs": [
    {
     "data": {
      "image/png": "[encoded data removed]",
      "text/plain": [
       "<matplotlib.figure.Figure at 0x7fbaaf7cd550>"
      ]
     },
     "metadata": {},
     "output_type": "display_data"
    }
   ],
   "source": [
    "plt.scatter(X_b_300_150.index, X_b_300_150.nan_count.values)\n",
    "plt.show()"
   ]
  },
  {
   "cell_type": "code",
   "execution_count": null,
   "metadata": {},
   "outputs": [],
   "source": []
  },
  {
   "cell_type": "code",
   "execution_count": null,
   "metadata": {},
   "outputs": [],
   "source": []
  },
  {
   "cell_type": "markdown",
   "metadata": {},
   "source": [
    "#### 对含Nan列进行分类"
   ]
  },
  {
   "cell_type": "code",
   "execution_count": null,
   "metadata": {},
   "outputs": [],
   "source": []
  },
  {
   "cell_type": "code",
   "execution_count": null,
   "metadata": {},
   "outputs": [],
   "source": []
  },
  {
   "cell_type": "markdown",
   "metadata": {},
   "source": [
    "#### 直接删除含Nan列"
   ]
  },
  {
   "cell_type": "code",
   "execution_count": 84,
   "metadata": {},
   "outputs": [],
   "source": [
    "def getNanIndexs(data, indexs = []):\n",
    "    for index in data:\n",
    "        if index not in indexs:\n",
    "            indexs.append(index)\n",
    "    return indexs"
   ]
  },
  {
   "cell_type": "code",
   "execution_count": 83,
   "metadata": {},
   "outputs": [],
   "source": [
    "train_Nan_columns = np.where(np.isnan(train_X_test))[1]"
   ]
  },
  {
   "cell_type": "code",
   "execution_count": 56,
   "metadata": {},
   "outputs": [],
   "source": [
    "X_a_Nan_columns = np.where(np.isnan(X_a))[1]"
   ]
  },
  {
   "cell_type": "code",
   "execution_count": 57,
   "metadata": {},
   "outputs": [],
   "source": [
    "X_b_Nan_columns = np.where(np.isnan(X_b))[1]"
   ]
  },
  {
   "cell_type": "code",
   "execution_count": 58,
   "metadata": {},
   "outputs": [],
   "source": [
    "def mix(X, X_a, X_b):\n",
    "    X_indexs = getNanIndexs(X)\n",
    "    X_a_indexs = getNanIndexs(X_a, indexs=X_indexs)\n",
    "    return getNanIndexs(X_b, indexs=X_a_indexs)"
   ]
  },
  {
   "cell_type": "code",
   "execution_count": 59,
   "metadata": {},
   "outputs": [],
   "source": [
    "all_nan_columns = mix(train_Nan_columns, X_a_Nan_columns, X_b_Nan_columns)"
   ]
  },
  {
   "cell_type": "code",
   "execution_count": 60,
   "metadata": {},
   "outputs": [
    {
     "data": {
      "text/plain": [
       "2539"
      ]
     },
     "execution_count": 60,
     "metadata": {},
     "output_type": "execute_result"
    }
   ],
   "source": [
    "len(all_nan_columns)"
   ]
  },
  {
   "cell_type": "code",
   "execution_count": null,
   "metadata": {},
   "outputs": [],
   "source": []
  },
  {
   "cell_type": "code",
   "execution_count": 61,
   "metadata": {},
   "outputs": [],
   "source": [
    "def isUnique(array):\n",
    "    new_array = []\n",
    "    for item in array:\n",
    "        if item not in new_array:\n",
    "            new_array.append(item)\n",
    "        else:\n",
    "            return False\n",
    "    return True"
   ]
  },
  {
   "cell_type": "code",
   "execution_count": 62,
   "metadata": {},
   "outputs": [
    {
     "data": {
      "text/plain": [
       "True"
      ]
     },
     "execution_count": 62,
     "metadata": {},
     "output_type": "execute_result"
    }
   ],
   "source": [
    "isUnique(all_nan_columns)"
   ]
  },
  {
   "cell_type": "code",
   "execution_count": 64,
   "metadata": {},
   "outputs": [],
   "source": [
    "train_has_nan_count = train_has_nan_count.drop(train_has_nan_count.columns[all_nan_columns], axis=1)"
   ]
  },
  {
   "cell_type": "code",
   "execution_count": 65,
   "metadata": {},
   "outputs": [],
   "source": [
    "X_a = X_a.drop(X_a.columns[all_nan_columns], axis=1)"
   ]
  },
  {
   "cell_type": "code",
   "execution_count": 66,
   "metadata": {},
   "outputs": [],
   "source": [
    "X_b = X_b.drop(X_b.columns[all_nan_columns], axis=1)"
   ]
  },
  {
   "cell_type": "code",
   "execution_count": 67,
   "metadata": {},
   "outputs": [
    {
     "data": {
      "text/plain": [
       "(100, 5435)"
      ]
     },
     "execution_count": 67,
     "metadata": {},
     "output_type": "execute_result"
    }
   ],
   "source": [
    "X_a.shape"
   ]
  },
  {
   "cell_type": "code",
   "execution_count": 68,
   "metadata": {},
   "outputs": [
    {
     "data": {
      "text/plain": [
       "(121, 5435)"
      ]
     },
     "execution_count": 68,
     "metadata": {},
     "output_type": "execute_result"
    }
   ],
   "source": [
    "X_b.shape"
   ]
  },
  {
   "cell_type": "markdown",
   "metadata": {},
   "source": [
    "#### 生成验证集"
   ]
  },
  {
   "cell_type": "code",
   "execution_count": 103,
   "metadata": {},
   "outputs": [],
   "source": [
    "train_nan_columns = np.where(np.isnan(train_X_num))"
   ]
  },
  {
   "cell_type": "code",
   "execution_count": 123,
   "metadata": {},
   "outputs": [
    {
     "data": {
      "text/plain": [
       "(500, 7938)"
      ]
     },
     "execution_count": 123,
     "metadata": {},
     "output_type": "execute_result"
    }
   ],
   "source": [
    "train_X_num.shape"
   ]
  },
  {
   "cell_type": "code",
   "execution_count": 104,
   "metadata": {},
   "outputs": [
    {
     "data": {
      "text/plain": [
       "(array([  0,   0,   0, ..., 499, 499, 499]),\n",
       " array([ 327,  328,  938, ..., 3817, 3819, 3821]))"
      ]
     },
     "execution_count": 104,
     "metadata": {},
     "output_type": "execute_result"
    }
   ],
   "source": [
    "train_nan_columns"
   ]
  },
  {
   "cell_type": "code",
   "execution_count": 105,
   "metadata": {},
   "outputs": [],
   "source": [
    "nan_columns = []\n",
    "for index in train_nan_columns[1]:\n",
    "    if index not in nan_columns:\n",
    "        nan_columns.append(index)"
   ]
  },
  {
   "cell_type": "code",
   "execution_count": 106,
   "metadata": {},
   "outputs": [
    {
     "data": {
      "text/plain": [
       "2238"
      ]
     },
     "execution_count": 106,
     "metadata": {},
     "output_type": "execute_result"
    }
   ],
   "source": [
    "len(nan_columns)"
   ]
  },
  {
   "cell_type": "code",
   "execution_count": 109,
   "metadata": {},
   "outputs": [
    {
     "data": {
      "text/plain": [
       "(array([], dtype=int64), array([], dtype=int64))"
      ]
     },
     "execution_count": 109,
     "metadata": {},
     "output_type": "execute_result"
    }
   ],
   "source": [
    "np.where(np.isnan(train_X_num_delet_nan))"
   ]
  },
  {
   "cell_type": "code",
   "execution_count": 107,
   "metadata": {},
   "outputs": [],
   "source": [
    "train_X_num_delet_nan = train_X_num.drop(train_X_num.columns[nan_columns], axis=1)"
   ]
  },
  {
   "cell_type": "code",
   "execution_count": 110,
   "metadata": {},
   "outputs": [
    {
     "data": {
      "text/html": [
       "<div>\n",
       "<style scoped>\n",
       "    .dataframe tbody tr th:only-of-type {\n",
       "        vertical-align: middle;\n",
       "    }\n",
       "\n",
       "    .dataframe tbody tr th {\n",
       "        vertical-align: top;\n",
       "    }\n",
       "\n",
       "    .dataframe thead th {\n",
       "        text-align: right;\n",
       "    }\n",
       "</style>\n",
       "<table border=\"1\" class=\"dataframe\">\n",
       "  <thead>\n",
       "    <tr style=\"text-align: right;\">\n",
       "      <th></th>\n",
       "      <th>210X1</th>\n",
       "      <th>210X2</th>\n",
       "      <th>210X3</th>\n",
       "      <th>210X4</th>\n",
       "      <th>210X5</th>\n",
       "      <th>210X6</th>\n",
       "      <th>210X7</th>\n",
       "      <th>210X8</th>\n",
       "      <th>210X9</th>\n",
       "      <th>210X10</th>\n",
       "      <th>...</th>\n",
       "      <th>440AX213</th>\n",
       "      <th>520X144</th>\n",
       "      <th>520X246</th>\n",
       "      <th>520X351</th>\n",
       "      <th>520X353</th>\n",
       "      <th>520X375</th>\n",
       "      <th>520X376</th>\n",
       "      <th>520X377</th>\n",
       "      <th>nan_count</th>\n",
       "      <th>nan_standard</th>\n",
       "    </tr>\n",
       "  </thead>\n",
       "  <tbody>\n",
       "    <tr>\n",
       "      <th>count</th>\n",
       "      <td>500.000000</td>\n",
       "      <td>500.000000</td>\n",
       "      <td>500.000000</td>\n",
       "      <td>500.000000</td>\n",
       "      <td>500.000000</td>\n",
       "      <td>500.000000</td>\n",
       "      <td>500.000000</td>\n",
       "      <td>500.000000</td>\n",
       "      <td>500.000000</td>\n",
       "      <td>500.000000</td>\n",
       "      <td>...</td>\n",
       "      <td>500.000000</td>\n",
       "      <td>500.000000</td>\n",
       "      <td>500.000000</td>\n",
       "      <td>500.000000</td>\n",
       "      <td>500.000000</td>\n",
       "      <td>500.000000</td>\n",
       "      <td>500.000000</td>\n",
       "      <td>500.000000</td>\n",
       "      <td>500.000000</td>\n",
       "      <td>500.000000</td>\n",
       "    </tr>\n",
       "    <tr>\n",
       "      <th>mean</th>\n",
       "      <td>92.272420</td>\n",
       "      <td>0.511932</td>\n",
       "      <td>0.232420</td>\n",
       "      <td>1.626228</td>\n",
       "      <td>57.126160</td>\n",
       "      <td>3.424444</td>\n",
       "      <td>-0.428580</td>\n",
       "      <td>0.267060</td>\n",
       "      <td>-0.027540</td>\n",
       "      <td>25.854000</td>\n",
       "      <td>...</td>\n",
       "      <td>821.116000</td>\n",
       "      <td>55723.366000</td>\n",
       "      <td>55723.746000</td>\n",
       "      <td>55704.706000</td>\n",
       "      <td>55724.986000</td>\n",
       "      <td>1844.564000</td>\n",
       "      <td>479.944400</td>\n",
       "      <td>1493.898000</td>\n",
       "      <td>185.586000</td>\n",
       "      <td>2.302000</td>\n",
       "    </tr>\n",
       "    <tr>\n",
       "      <th>std</th>\n",
       "      <td>27.471434</td>\n",
       "      <td>0.233265</td>\n",
       "      <td>0.104536</td>\n",
       "      <td>1.090267</td>\n",
       "      <td>18.224157</td>\n",
       "      <td>1.148460</td>\n",
       "      <td>1.188766</td>\n",
       "      <td>1.092823</td>\n",
       "      <td>0.120268</td>\n",
       "      <td>1.908069</td>\n",
       "      <td>...</td>\n",
       "      <td>405.140514</td>\n",
       "      <td>19540.898667</td>\n",
       "      <td>19540.413903</td>\n",
       "      <td>19544.292016</td>\n",
       "      <td>19541.383431</td>\n",
       "      <td>85.864541</td>\n",
       "      <td>42.588072</td>\n",
       "      <td>78.618454</td>\n",
       "      <td>258.823991</td>\n",
       "      <td>1.095992</td>\n",
       "    </tr>\n",
       "    <tr>\n",
       "      <th>min</th>\n",
       "      <td>0.000000</td>\n",
       "      <td>0.000000</td>\n",
       "      <td>0.000000</td>\n",
       "      <td>0.000000</td>\n",
       "      <td>0.000000</td>\n",
       "      <td>0.000000</td>\n",
       "      <td>-2.450000</td>\n",
       "      <td>-1.920000</td>\n",
       "      <td>-0.220000</td>\n",
       "      <td>0.000000</td>\n",
       "      <td>...</td>\n",
       "      <td>790.000000</td>\n",
       "      <td>28499.000000</td>\n",
       "      <td>28500.000000</td>\n",
       "      <td>28476.000000</td>\n",
       "      <td>28500.000000</td>\n",
       "      <td>491.000000</td>\n",
       "      <td>6.300000</td>\n",
       "      <td>483.000000</td>\n",
       "      <td>62.000000</td>\n",
       "      <td>1.000000</td>\n",
       "    </tr>\n",
       "    <tr>\n",
       "      <th>25%</th>\n",
       "      <td>100.100000</td>\n",
       "      <td>0.365750</td>\n",
       "      <td>0.210000</td>\n",
       "      <td>1.019750</td>\n",
       "      <td>56.575000</td>\n",
       "      <td>3.242000</td>\n",
       "      <td>-1.912500</td>\n",
       "      <td>-0.670000</td>\n",
       "      <td>-0.140000</td>\n",
       "      <td>24.400000</td>\n",
       "      <td>...</td>\n",
       "      <td>802.000000</td>\n",
       "      <td>31160.250000</td>\n",
       "      <td>31161.250000</td>\n",
       "      <td>31137.250000</td>\n",
       "      <td>31161.250000</td>\n",
       "      <td>1850.000000</td>\n",
       "      <td>483.000000</td>\n",
       "      <td>1500.000000</td>\n",
       "      <td>64.000000</td>\n",
       "      <td>1.000000</td>\n",
       "    </tr>\n",
       "    <tr>\n",
       "      <th>50%</th>\n",
       "      <td>101.300000</td>\n",
       "      <td>0.506000</td>\n",
       "      <td>0.240000</td>\n",
       "      <td>1.293000</td>\n",
       "      <td>62.130000</td>\n",
       "      <td>3.616000</td>\n",
       "      <td>-0.185000</td>\n",
       "      <td>0.400000</td>\n",
       "      <td>-0.015000</td>\n",
       "      <td>26.000000</td>\n",
       "      <td>...</td>\n",
       "      <td>803.000000</td>\n",
       "      <td>69423.500000</td>\n",
       "      <td>69423.500000</td>\n",
       "      <td>69407.500000</td>\n",
       "      <td>69425.500000</td>\n",
       "      <td>1850.000000</td>\n",
       "      <td>483.000000</td>\n",
       "      <td>1500.000000</td>\n",
       "      <td>198.000000</td>\n",
       "      <td>3.000000</td>\n",
       "    </tr>\n",
       "    <tr>\n",
       "      <th>75%</th>\n",
       "      <td>101.750000</td>\n",
       "      <td>0.612250</td>\n",
       "      <td>0.270000</td>\n",
       "      <td>1.925750</td>\n",
       "      <td>67.250000</td>\n",
       "      <td>3.864250</td>\n",
       "      <td>0.285000</td>\n",
       "      <td>1.220000</td>\n",
       "      <td>0.080000</td>\n",
       "      <td>27.000000</td>\n",
       "      <td>...</td>\n",
       "      <td>804.000000</td>\n",
       "      <td>71410.250000</td>\n",
       "      <td>71410.250000</td>\n",
       "      <td>71394.250000</td>\n",
       "      <td>71412.250000</td>\n",
       "      <td>1850.000000</td>\n",
       "      <td>485.000000</td>\n",
       "      <td>1500.000000</td>\n",
       "      <td>200.000000</td>\n",
       "      <td>3.000000</td>\n",
       "    </tr>\n",
       "    <tr>\n",
       "      <th>max</th>\n",
       "      <td>102.800000</td>\n",
       "      <td>0.970000</td>\n",
       "      <td>0.410000</td>\n",
       "      <td>3.891000</td>\n",
       "      <td>71.980000</td>\n",
       "      <td>5.173000</td>\n",
       "      <td>2.190000</td>\n",
       "      <td>2.230000</td>\n",
       "      <td>0.170000</td>\n",
       "      <td>29.400000</td>\n",
       "      <td>...</td>\n",
       "      <td>9861.000000</td>\n",
       "      <td>73883.000000</td>\n",
       "      <td>73883.000000</td>\n",
       "      <td>73867.000000</td>\n",
       "      <td>73885.000000</td>\n",
       "      <td>1850.000000</td>\n",
       "      <td>485.000000</td>\n",
       "      <td>1500.000000</td>\n",
       "      <td>1880.000000</td>\n",
       "      <td>4.000000</td>\n",
       "    </tr>\n",
       "  </tbody>\n",
       "</table>\n",
       "<p>8 rows × 5700 columns</p>\n",
       "</div>"
      ],
      "text/plain": [
       "            210X1       210X2       210X3       210X4       210X5       210X6  \\\n",
       "count  500.000000  500.000000  500.000000  500.000000  500.000000  500.000000   \n",
       "mean    92.272420    0.511932    0.232420    1.626228   57.126160    3.424444   \n",
       "std     27.471434    0.233265    0.104536    1.090267   18.224157    1.148460   \n",
       "min      0.000000    0.000000    0.000000    0.000000    0.000000    0.000000   \n",
       "25%    100.100000    0.365750    0.210000    1.019750   56.575000    3.242000   \n",
       "50%    101.300000    0.506000    0.240000    1.293000   62.130000    3.616000   \n",
       "75%    101.750000    0.612250    0.270000    1.925750   67.250000    3.864250   \n",
       "max    102.800000    0.970000    0.410000    3.891000   71.980000    5.173000   \n",
       "\n",
       "            210X7       210X8       210X9      210X10      ...       \\\n",
       "count  500.000000  500.000000  500.000000  500.000000      ...        \n",
       "mean    -0.428580    0.267060   -0.027540   25.854000      ...        \n",
       "std      1.188766    1.092823    0.120268    1.908069      ...        \n",
       "min     -2.450000   -1.920000   -0.220000    0.000000      ...        \n",
       "25%     -1.912500   -0.670000   -0.140000   24.400000      ...        \n",
       "50%     -0.185000    0.400000   -0.015000   26.000000      ...        \n",
       "75%      0.285000    1.220000    0.080000   27.000000      ...        \n",
       "max      2.190000    2.230000    0.170000   29.400000      ...        \n",
       "\n",
       "          440AX213       520X144       520X246       520X351       520X353  \\\n",
       "count   500.000000    500.000000    500.000000    500.000000    500.000000   \n",
       "mean    821.116000  55723.366000  55723.746000  55704.706000  55724.986000   \n",
       "std     405.140514  19540.898667  19540.413903  19544.292016  19541.383431   \n",
       "min     790.000000  28499.000000  28500.000000  28476.000000  28500.000000   \n",
       "25%     802.000000  31160.250000  31161.250000  31137.250000  31161.250000   \n",
       "50%     803.000000  69423.500000  69423.500000  69407.500000  69425.500000   \n",
       "75%     804.000000  71410.250000  71410.250000  71394.250000  71412.250000   \n",
       "max    9861.000000  73883.000000  73883.000000  73867.000000  73885.000000   \n",
       "\n",
       "           520X375     520X376      520X377    nan_count  nan_standard  \n",
       "count   500.000000  500.000000   500.000000   500.000000    500.000000  \n",
       "mean   1844.564000  479.944400  1493.898000   185.586000      2.302000  \n",
       "std      85.864541   42.588072    78.618454   258.823991      1.095992  \n",
       "min     491.000000    6.300000   483.000000    62.000000      1.000000  \n",
       "25%    1850.000000  483.000000  1500.000000    64.000000      1.000000  \n",
       "50%    1850.000000  483.000000  1500.000000   198.000000      3.000000  \n",
       "75%    1850.000000  485.000000  1500.000000   200.000000      3.000000  \n",
       "max    1850.000000  485.000000  1500.000000  1880.000000      4.000000  \n",
       "\n",
       "[8 rows x 5700 columns]"
      ]
     },
     "execution_count": 110,
     "metadata": {},
     "output_type": "execute_result"
    }
   ],
   "source": [
    "train_X_num_delet_nan.describe()"
   ]
  },
  {
   "cell_type": "code",
   "execution_count": 202,
   "metadata": {},
   "outputs": [],
   "source": [
    "train_X_data = train_X_num_delet_nan.drop(['nan_standard'],axis=1)"
   ]
  },
  {
   "cell_type": "code",
   "execution_count": 203,
   "metadata": {},
   "outputs": [
    {
     "data": {
      "text/plain": [
       "(500, 5699)"
      ]
     },
     "execution_count": 203,
     "metadata": {},
     "output_type": "execute_result"
    }
   ],
   "source": [
    "train_X_data.shape"
   ]
  },
  {
   "cell_type": "code",
   "execution_count": 204,
   "metadata": {},
   "outputs": [],
   "source": [
    "from sklearn.preprocessing import StandardScaler"
   ]
  },
  {
   "cell_type": "code",
   "execution_count": 205,
   "metadata": {},
   "outputs": [],
   "source": [
    "ss = StandardScaler()"
   ]
  },
  {
   "cell_type": "code",
   "execution_count": 206,
   "metadata": {},
   "outputs": [],
   "source": [
    "train_X_standard = ss.fit_transform(train_X_data)"
   ]
  },
  {
   "cell_type": "code",
   "execution_count": null,
   "metadata": {},
   "outputs": [],
   "source": []
  },
  {
   "cell_type": "code",
   "execution_count": null,
   "metadata": {},
   "outputs": [],
   "source": []
  },
  {
   "cell_type": "code",
   "execution_count": 138,
   "metadata": {},
   "outputs": [],
   "source": [
    "X_data = train_num_Y_str_lower_4.drop(['Y','nan_count'], axis=1).values\n",
    "y = train_num_Y_str_lower_4.Y.values"
   ]
  },
  {
   "cell_type": "code",
   "execution_count": 139,
   "metadata": {},
   "outputs": [
    {
     "data": {
      "text/plain": [
       "(444, 7971)"
      ]
     },
     "execution_count": 139,
     "metadata": {},
     "output_type": "execute_result"
    }
   ],
   "source": [
    "X_data.shape"
   ]
  },
  {
   "cell_type": "code",
   "execution_count": 140,
   "metadata": {},
   "outputs": [
    {
     "data": {
      "text/plain": [
       "444"
      ]
     },
     "execution_count": 140,
     "metadata": {},
     "output_type": "execute_result"
    }
   ],
   "source": [
    "len(y)"
   ]
  },
  {
   "cell_type": "code",
   "execution_count": null,
   "metadata": {},
   "outputs": [],
   "source": []
  },
  {
   "cell_type": "code",
   "execution_count": 141,
   "metadata": {},
   "outputs": [],
   "source": [
    "from sklearn.cross_validation import train_test_split"
   ]
  },
  {
   "cell_type": "code",
   "execution_count": 142,
   "metadata": {},
   "outputs": [],
   "source": [
    "X_train, X_valid, y_train, y_valid = train_test_split(X_data, y, test_size=0.25, random_state=33)"
   ]
  },
  {
   "cell_type": "code",
   "execution_count": 143,
   "metadata": {},
   "outputs": [
    {
     "data": {
      "text/plain": [
       "(333, 7971)"
      ]
     },
     "execution_count": 143,
     "metadata": {},
     "output_type": "execute_result"
    }
   ],
   "source": [
    "X_train.shape"
   ]
  },
  {
   "cell_type": "code",
   "execution_count": 144,
   "metadata": {},
   "outputs": [
    {
     "data": {
      "text/plain": [
       "(111, 7971)"
      ]
     },
     "execution_count": 144,
     "metadata": {},
     "output_type": "execute_result"
    }
   ],
   "source": [
    "X_valid.shape"
   ]
  },
  {
   "cell_type": "code",
   "execution_count": 145,
   "metadata": {},
   "outputs": [
    {
     "data": {
      "text/plain": [
       "333"
      ]
     },
     "execution_count": 145,
     "metadata": {},
     "output_type": "execute_result"
    }
   ],
   "source": [
    "len(y_train)"
   ]
  },
  {
   "cell_type": "code",
   "execution_count": 146,
   "metadata": {},
   "outputs": [
    {
     "data": {
      "text/plain": [
       "111"
      ]
     },
     "execution_count": 146,
     "metadata": {},
     "output_type": "execute_result"
    }
   ],
   "source": [
    "len(y_valid)"
   ]
  },
  {
   "cell_type": "markdown",
   "metadata": {},
   "source": [
    "#### 训练 lightGBM 模型"
   ]
  },
  {
   "cell_type": "code",
   "execution_count": 147,
   "metadata": {},
   "outputs": [],
   "source": [
    "gbm = lgm.LGBMRegressor(objective='regression',\n",
    "                         boosting_type= 'gbdt',\n",
    "                         metric = 'l2',\n",
    "                         is_enable_sparse = True,\n",
    "                         max_depth = 8,\n",
    "                         min_sum_hessian_in_leaf = 5.0,\n",
    "                         tree_learner = 'serial',\n",
    "                         num_trees = 10000,\n",
    "                         feature_fraction = 0.9,\n",
    "                         bagging_freq = 5,\n",
    "                         bagging_fraction = 0.8,\n",
    "                         min_data_in_leaf = 100,\n",
    "                         learning_rate = 0.05,\n",
    "                         n_estimators = 20,\n",
    "                         metric_freq = 1)"
   ]
  },
  {
   "cell_type": "code",
   "execution_count": 148,
   "metadata": {},
   "outputs": [
    {
     "name": "stderr",
     "output_type": "stream",
     "text": [
      "/usr/local/lib/python3.5/dist-packages/lightgbm/engine.py:99: UserWarning: Found `num_trees` in params. Will use it instead of argument\n",
      "  warnings.warn(\"Found `{}` in params. Will use it instead of argument\".format(alias))\n"
     ]
    },
    {
     "name": "stdout",
     "output_type": "stream",
     "text": [
      "[1]\tvalid_0's l2: 0.0374124\n",
      "Training until validation scores don't improve for 200 rounds.\n",
      "[2]\tvalid_0's l2: 0.0372371\n",
      "[3]\tvalid_0's l2: 0.0370875\n",
      "[4]\tvalid_0's l2: 0.0369606\n",
      "[5]\tvalid_0's l2: 0.0366701\n",
      "[6]\tvalid_0's l2: 0.0364232\n",
      "[7]\tvalid_0's l2: 0.0361593\n",
      "[8]\tvalid_0's l2: 0.0359502\n",
      "[9]\tvalid_0's l2: 0.0357046\n",
      "[10]\tvalid_0's l2: 0.0355285\n",
      "[11]\tvalid_0's l2: 0.0352191\n",
      "[12]\tvalid_0's l2: 0.0349419\n",
      "[13]\tvalid_0's l2: 0.0346938\n",
      "[14]\tvalid_0's l2: 0.0344718\n",
      "[15]\tvalid_0's l2: 0.034237\n",
      "[16]\tvalid_0's l2: 0.0340446\n",
      "[17]\tvalid_0's l2: 0.033944\n",
      "[18]\tvalid_0's l2: 0.0338605\n",
      "[19]\tvalid_0's l2: 0.0336591\n",
      "[20]\tvalid_0's l2: 0.0337106\n",
      "[21]\tvalid_0's l2: 0.0335874\n",
      "[22]\tvalid_0's l2: 0.0334208\n",
      "[23]\tvalid_0's l2: 0.0332456\n",
      "[24]\tvalid_0's l2: 0.033141\n",
      "[25]\tvalid_0's l2: 0.0331079\n",
      "[26]\tvalid_0's l2: 0.0329288\n",
      "[27]\tvalid_0's l2: 0.032772\n",
      "[28]\tvalid_0's l2: 0.032635\n",
      "[29]\tvalid_0's l2: 0.0325833\n",
      "[30]\tvalid_0's l2: 0.0324473\n",
      "[31]\tvalid_0's l2: 0.0323779\n",
      "[32]\tvalid_0's l2: 0.0324086\n",
      "[33]\tvalid_0's l2: 0.0324176\n",
      "[34]\tvalid_0's l2: 0.0324169\n",
      "[35]\tvalid_0's l2: 0.0325285\n",
      "[36]\tvalid_0's l2: 0.032427\n",
      "[37]\tvalid_0's l2: 0.0323397\n",
      "[38]\tvalid_0's l2: 0.0322458\n",
      "[39]\tvalid_0's l2: 0.0321361\n",
      "[40]\tvalid_0's l2: 0.0320561\n",
      "[41]\tvalid_0's l2: 0.0318953\n",
      "[42]\tvalid_0's l2: 0.0317524\n",
      "[43]\tvalid_0's l2: 0.031766\n",
      "[44]\tvalid_0's l2: 0.0316399\n",
      "[45]\tvalid_0's l2: 0.0317224\n",
      "[46]\tvalid_0's l2: 0.0317042\n",
      "[47]\tvalid_0's l2: 0.0315278\n",
      "[48]\tvalid_0's l2: 0.0315188\n",
      "[49]\tvalid_0's l2: 0.0315039\n",
      "[50]\tvalid_0's l2: 0.0314314\n",
      "[51]\tvalid_0's l2: 0.0312623\n",
      "[52]\tvalid_0's l2: 0.0311107\n",
      "[53]\tvalid_0's l2: 0.0309748\n",
      "[54]\tvalid_0's l2: 0.0309433\n",
      "[55]\tvalid_0's l2: 0.0308043\n",
      "[56]\tvalid_0's l2: 0.0307803\n",
      "[57]\tvalid_0's l2: 0.0307645\n",
      "[58]\tvalid_0's l2: 0.0306973\n",
      "[59]\tvalid_0's l2: 0.0307672\n",
      "[60]\tvalid_0's l2: 0.0307528\n",
      "[61]\tvalid_0's l2: 0.0308501\n",
      "[62]\tvalid_0's l2: 0.0309505\n",
      "[63]\tvalid_0's l2: 0.0310531\n",
      "[64]\tvalid_0's l2: 0.0311572\n",
      "[65]\tvalid_0's l2: 0.031147\n",
      "[66]\tvalid_0's l2: 0.0311692\n",
      "[67]\tvalid_0's l2: 0.0312015\n",
      "[68]\tvalid_0's l2: 0.0312423\n",
      "[69]\tvalid_0's l2: 0.0312902\n",
      "[70]\tvalid_0's l2: 0.031344\n",
      "[71]\tvalid_0's l2: 0.0311896\n",
      "[72]\tvalid_0's l2: 0.0311606\n",
      "[73]\tvalid_0's l2: 0.0310205\n",
      "[74]\tvalid_0's l2: 0.0309597\n",
      "[75]\tvalid_0's l2: 0.030964\n",
      "[76]\tvalid_0's l2: 0.0310312\n",
      "[77]\tvalid_0's l2: 0.0310596\n",
      "[78]\tvalid_0's l2: 0.0311289\n",
      "[79]\tvalid_0's l2: 0.0312004\n",
      "[80]\tvalid_0's l2: 0.0312737\n",
      "[81]\tvalid_0's l2: 0.0311736\n",
      "[82]\tvalid_0's l2: 0.0310862\n",
      "[83]\tvalid_0's l2: 0.0310459\n",
      "[84]\tvalid_0's l2: 0.0309709\n",
      "[85]\tvalid_0's l2: 0.0309127\n",
      "[86]\tvalid_0's l2: 0.0309846\n",
      "[87]\tvalid_0's l2: 0.0310603\n",
      "[88]\tvalid_0's l2: 0.0311389\n",
      "[89]\tvalid_0's l2: 0.0311058\n",
      "[90]\tvalid_0's l2: 0.0311861\n",
      "[91]\tvalid_0's l2: 0.0311266\n",
      "[92]\tvalid_0's l2: 0.0310066\n",
      "[93]\tvalid_0's l2: 0.0309575\n",
      "[94]\tvalid_0's l2: 0.0308962\n",
      "[95]\tvalid_0's l2: 0.0307906\n",
      "[96]\tvalid_0's l2: 0.0308538\n",
      "[97]\tvalid_0's l2: 0.0308714\n",
      "[98]\tvalid_0's l2: 0.0309421\n",
      "[99]\tvalid_0's l2: 0.0309741\n",
      "[100]\tvalid_0's l2: 0.0309813\n",
      "[101]\tvalid_0's l2: 0.0308483\n",
      "[102]\tvalid_0's l2: 0.0308781\n",
      "[103]\tvalid_0's l2: 0.0307573\n",
      "[104]\tvalid_0's l2: 0.0306474\n",
      "[105]\tvalid_0's l2: 0.0306162\n",
      "[106]\tvalid_0's l2: 0.0306748\n",
      "[107]\tvalid_0's l2: 0.0307372\n",
      "[108]\tvalid_0's l2: 0.0308025\n",
      "[109]\tvalid_0's l2: 0.03087\n",
      "[110]\tvalid_0's l2: 0.0308498\n",
      "[111]\tvalid_0's l2: 0.0308398\n",
      "[112]\tvalid_0's l2: 0.030868\n",
      "[113]\tvalid_0's l2: 0.0307921\n",
      "[114]\tvalid_0's l2: 0.0307574\n",
      "[115]\tvalid_0's l2: 0.0307893\n",
      "[116]\tvalid_0's l2: 0.0306914\n",
      "[117]\tvalid_0's l2: 0.0306042\n",
      "[118]\tvalid_0's l2: 0.0304766\n",
      "[119]\tvalid_0's l2: 0.0304006\n",
      "[120]\tvalid_0's l2: 0.0302866\n",
      "[121]\tvalid_0's l2: 0.0301637\n",
      "[122]\tvalid_0's l2: 0.030167\n",
      "[123]\tvalid_0's l2: 0.0301753\n",
      "[124]\tvalid_0's l2: 0.0300626\n",
      "[125]\tvalid_0's l2: 0.0299615\n",
      "[126]\tvalid_0's l2: 0.0299111\n",
      "[127]\tvalid_0's l2: 0.0299082\n",
      "[128]\tvalid_0's l2: 0.0298663\n",
      "[129]\tvalid_0's l2: 0.0298315\n",
      "[130]\tvalid_0's l2: 0.0298029\n",
      "[131]\tvalid_0's l2: 0.0297137\n",
      "[132]\tvalid_0's l2: 0.0297866\n",
      "[133]\tvalid_0's l2: 0.0297361\n",
      "[134]\tvalid_0's l2: 0.0296718\n",
      "[135]\tvalid_0's l2: 0.029643\n",
      "[136]\tvalid_0's l2: 0.0296096\n",
      "[137]\tvalid_0's l2: 0.0296609\n",
      "[138]\tvalid_0's l2: 0.0296555\n",
      "[139]\tvalid_0's l2: 0.0296989\n",
      "[140]\tvalid_0's l2: 0.0296732\n",
      "[141]\tvalid_0's l2: 0.0296542\n",
      "[142]\tvalid_0's l2: 0.0296329\n",
      "[143]\tvalid_0's l2: 0.0296193\n",
      "[144]\tvalid_0's l2: 0.0295684\n",
      "[145]\tvalid_0's l2: 0.0295519\n",
      "[146]\tvalid_0's l2: 0.0296318\n",
      "[147]\tvalid_0's l2: 0.0295854\n",
      "[148]\tvalid_0's l2: 0.0295004\n",
      "[149]\tvalid_0's l2: 0.0294146\n",
      "[150]\tvalid_0's l2: 0.0294681\n",
      "[151]\tvalid_0's l2: 0.0295583\n",
      "[152]\tvalid_0's l2: 0.0295384\n",
      "[153]\tvalid_0's l2: 0.029611\n",
      "[154]\tvalid_0's l2: 0.0297013\n",
      "[155]\tvalid_0's l2: 0.029687\n",
      "[156]\tvalid_0's l2: 0.0296157\n",
      "[157]\tvalid_0's l2: 0.0295272\n",
      "[158]\tvalid_0's l2: 0.0294626\n",
      "[159]\tvalid_0's l2: 0.0294015\n",
      "[160]\tvalid_0's l2: 0.0293226\n",
      "[161]\tvalid_0's l2: 0.0292113\n",
      "[162]\tvalid_0's l2: 0.0291104\n",
      "[163]\tvalid_0's l2: 0.0291032\n",
      "[164]\tvalid_0's l2: 0.0290126\n",
      "[165]\tvalid_0's l2: 0.0290104\n",
      "[166]\tvalid_0's l2: 0.0290894\n",
      "[167]\tvalid_0's l2: 0.0291692\n",
      "[168]\tvalid_0's l2: 0.0292491\n",
      "[169]\tvalid_0's l2: 0.029237\n",
      "[170]\tvalid_0's l2: 0.0292171\n",
      "[171]\tvalid_0's l2: 0.0292805\n",
      "[172]\tvalid_0's l2: 0.0293073\n",
      "[173]\tvalid_0's l2: 0.0293235\n",
      "[174]\tvalid_0's l2: 0.0293861\n",
      "[175]\tvalid_0's l2: 0.029348\n",
      "[176]\tvalid_0's l2: 0.0294565\n",
      "[177]\tvalid_0's l2: 0.0294722\n",
      "[178]\tvalid_0's l2: 0.0295793\n",
      "[179]\tvalid_0's l2: 0.0296312\n",
      "[180]\tvalid_0's l2: 0.0297362\n",
      "[181]\tvalid_0's l2: 0.029837\n",
      "[182]\tvalid_0's l2: 0.0298131\n",
      "[183]\tvalid_0's l2: 0.0299127\n",
      "[184]\tvalid_0's l2: 0.0298377\n",
      "[185]\tvalid_0's l2: 0.0298216\n",
      "[186]\tvalid_0's l2: 0.0298051\n",
      "[187]\tvalid_0's l2: 0.0298151\n",
      "[188]\tvalid_0's l2: 0.0298235\n",
      "[189]\tvalid_0's l2: 0.0298123\n",
      "[190]\tvalid_0's l2: 0.029826\n",
      "[191]\tvalid_0's l2: 0.0298172\n",
      "[192]\tvalid_0's l2: 0.029813\n",
      "[193]\tvalid_0's l2: 0.0297802\n",
      "[194]\tvalid_0's l2: 0.0297528\n",
      "[195]\tvalid_0's l2: 0.0297534\n",
      "[196]\tvalid_0's l2: 0.0297197\n",
      "[197]\tvalid_0's l2: 0.0296921\n",
      "[198]\tvalid_0's l2: 0.0296699\n",
      "[199]\tvalid_0's l2: 0.0297842\n",
      "[200]\tvalid_0's l2: 0.0297771\n",
      "[201]\tvalid_0's l2: 0.0298261\n",
      "[202]\tvalid_0's l2: 0.0298166\n",
      "[203]\tvalid_0's l2: 0.029818\n",
      "[204]\tvalid_0's l2: 0.0297813\n",
      "[205]\tvalid_0's l2: 0.0297462\n",
      "[206]\tvalid_0's l2: 0.0296555\n",
      "[207]\tvalid_0's l2: 0.0296551\n",
      "[208]\tvalid_0's l2: 0.0295835\n",
      "[209]\tvalid_0's l2: 0.0295116\n",
      "[210]\tvalid_0's l2: 0.0294321\n",
      "[211]\tvalid_0's l2: 0.0294146\n",
      "[212]\tvalid_0's l2: 0.0293872\n",
      "[213]\tvalid_0's l2: 0.0293656\n",
      "[214]\tvalid_0's l2: 0.0293539\n",
      "[215]\tvalid_0's l2: 0.0293085\n",
      "[216]\tvalid_0's l2: 0.0292294\n",
      "[217]\tvalid_0's l2: 0.0291589\n",
      "[218]\tvalid_0's l2: 0.029096\n",
      "[219]\tvalid_0's l2: 0.0291186\n",
      "[220]\tvalid_0's l2: 0.0290621\n",
      "[221]\tvalid_0's l2: 0.0290165\n",
      "[222]\tvalid_0's l2: 0.0290526\n",
      "[223]\tvalid_0's l2: 0.0290811\n",
      "[224]\tvalid_0's l2: 0.0290401\n",
      "[225]\tvalid_0's l2: 0.0290768\n",
      "[226]\tvalid_0's l2: 0.0290255\n",
      "[227]\tvalid_0's l2: 0.0289799\n",
      "[228]\tvalid_0's l2: 0.0289393\n",
      "[229]\tvalid_0's l2: 0.0289289\n",
      "[230]\tvalid_0's l2: 0.0289778\n",
      "[231]\tvalid_0's l2: 0.0290133\n",
      "[232]\tvalid_0's l2: 0.0290043\n",
      "[233]\tvalid_0's l2: 0.0290414\n",
      "[234]\tvalid_0's l2: 0.0290349\n",
      "[235]\tvalid_0's l2: 0.0291177\n",
      "[236]\tvalid_0's l2: 0.0290984\n",
      "[237]\tvalid_0's l2: 0.0291545\n",
      "[238]\tvalid_0's l2: 0.0291539\n",
      "[239]\tvalid_0's l2: 0.0292354\n",
      "[240]\tvalid_0's l2: 0.0292196\n",
      "[241]\tvalid_0's l2: 0.0292879\n",
      "[242]\tvalid_0's l2: 0.0293646\n",
      "[243]\tvalid_0's l2: 0.0294064\n",
      "[244]\tvalid_0's l2: 0.029448\n",
      "[245]\tvalid_0's l2: 0.0294057\n",
      "[246]\tvalid_0's l2: 0.0294009\n",
      "[247]\tvalid_0's l2: 0.0293998\n",
      "[248]\tvalid_0's l2: 0.0293384\n",
      "[249]\tvalid_0's l2: 0.0293358\n",
      "[250]\tvalid_0's l2: 0.0293249\n",
      "[251]\tvalid_0's l2: 0.0293389\n",
      "[252]\tvalid_0's l2: 0.0293553\n",
      "[253]\tvalid_0's l2: 0.0293087\n",
      "[254]\tvalid_0's l2: 0.0292461\n",
      "[255]\tvalid_0's l2: 0.0292642\n",
      "[256]\tvalid_0's l2: 0.0291993\n",
      "[257]\tvalid_0's l2: 0.0291413\n",
      "[258]\tvalid_0's l2: 0.0290584\n",
      "[259]\tvalid_0's l2: 0.0291101\n",
      "[260]\tvalid_0's l2: 0.0290609\n",
      "[261]\tvalid_0's l2: 0.0290103\n",
      "[262]\tvalid_0's l2: 0.0290132\n",
      "[263]\tvalid_0's l2: 0.0289857\n",
      "[264]\tvalid_0's l2: 0.0288999\n",
      "[265]\tvalid_0's l2: 0.0289046\n",
      "[266]\tvalid_0's l2: 0.0289971\n",
      "[267]\tvalid_0's l2: 0.0289581\n",
      "[268]\tvalid_0's l2: 0.0290485\n",
      "[269]\tvalid_0's l2: 0.0290547\n",
      "[270]\tvalid_0's l2: 0.0290197\n",
      "[271]\tvalid_0's l2: 0.0290465\n",
      "[272]\tvalid_0's l2: 0.0290751\n",
      "[273]\tvalid_0's l2: 0.0290352\n",
      "[274]\tvalid_0's l2: 0.0290655\n",
      "[275]\tvalid_0's l2: 0.0290968\n",
      "[276]\tvalid_0's l2: 0.0290947\n",
      "[277]\tvalid_0's l2: 0.0290955\n",
      "[278]\tvalid_0's l2: 0.0290344\n",
      "[279]\tvalid_0's l2: 0.0290781\n",
      "[280]\tvalid_0's l2: 0.0290825\n",
      "[281]\tvalid_0's l2: 0.0290618\n",
      "[282]\tvalid_0's l2: 0.029057\n",
      "[283]\tvalid_0's l2: 0.0290404\n",
      "[284]\tvalid_0's l2: 0.0290389\n",
      "[285]\tvalid_0's l2: 0.0290911\n",
      "[286]\tvalid_0's l2: 0.0290962\n",
      "[287]\tvalid_0's l2: 0.0291138\n",
      "[288]\tvalid_0's l2: 0.0291331\n",
      "[289]\tvalid_0's l2: 0.0291378\n",
      "[290]\tvalid_0's l2: 0.0291927\n",
      "[291]\tvalid_0's l2: 0.0291639\n",
      "[292]\tvalid_0's l2: 0.0291886\n",
      "[293]\tvalid_0's l2: 0.0292635\n",
      "[294]\tvalid_0's l2: 0.0292891\n",
      "[295]\tvalid_0's l2: 0.0292633\n",
      "[296]\tvalid_0's l2: 0.0293337\n",
      "[297]\tvalid_0's l2: 0.029404\n",
      "[298]\tvalid_0's l2: 0.029474\n",
      "[299]\tvalid_0's l2: 0.0294274\n",
      "[300]\tvalid_0's l2: 0.029395\n",
      "[301]\tvalid_0's l2: 0.0294377\n",
      "[302]\tvalid_0's l2: 0.0294279\n"
     ]
    },
    {
     "name": "stdout",
     "output_type": "stream",
     "text": [
      "[303]\tvalid_0's l2: 0.029421\n",
      "[304]\tvalid_0's l2: 0.0294158\n",
      "[305]\tvalid_0's l2: 0.0294119\n",
      "[306]\tvalid_0's l2: 0.0293225\n",
      "[307]\tvalid_0's l2: 0.0292417\n",
      "[308]\tvalid_0's l2: 0.0291687\n",
      "[309]\tvalid_0's l2: 0.0291027\n",
      "[310]\tvalid_0's l2: 0.0290885\n",
      "[311]\tvalid_0's l2: 0.0290921\n",
      "[312]\tvalid_0's l2: 0.0291175\n",
      "[313]\tvalid_0's l2: 0.0291231\n",
      "[314]\tvalid_0's l2: 0.0291243\n",
      "[315]\tvalid_0's l2: 0.0291496\n",
      "[316]\tvalid_0's l2: 0.0291663\n",
      "[317]\tvalid_0's l2: 0.0291853\n",
      "[318]\tvalid_0's l2: 0.0292062\n",
      "[319]\tvalid_0's l2: 0.0292324\n",
      "[320]\tvalid_0's l2: 0.0292544\n",
      "[321]\tvalid_0's l2: 0.0292252\n",
      "[322]\tvalid_0's l2: 0.0291621\n",
      "[323]\tvalid_0's l2: 0.0291917\n",
      "[324]\tvalid_0's l2: 0.0292597\n",
      "[325]\tvalid_0's l2: 0.0292381\n",
      "[326]\tvalid_0's l2: 0.029248\n",
      "[327]\tvalid_0's l2: 0.02926\n",
      "[328]\tvalid_0's l2: 0.029207\n",
      "[329]\tvalid_0's l2: 0.0291723\n",
      "[330]\tvalid_0's l2: 0.0291246\n",
      "[331]\tvalid_0's l2: 0.029102\n",
      "[332]\tvalid_0's l2: 0.0291019\n",
      "[333]\tvalid_0's l2: 0.0291203\n",
      "[334]\tvalid_0's l2: 0.0290533\n",
      "[335]\tvalid_0's l2: 0.0290783\n",
      "[336]\tvalid_0's l2: 0.0291455\n",
      "[337]\tvalid_0's l2: 0.0292121\n",
      "[338]\tvalid_0's l2: 0.0292481\n",
      "[339]\tvalid_0's l2: 0.0293135\n",
      "[340]\tvalid_0's l2: 0.0293505\n",
      "[341]\tvalid_0's l2: 0.0293276\n",
      "[342]\tvalid_0's l2: 0.0293686\n",
      "[343]\tvalid_0's l2: 0.029455\n",
      "[344]\tvalid_0's l2: 0.0294961\n",
      "[345]\tvalid_0's l2: 0.0294885\n",
      "[346]\tvalid_0's l2: 0.0295299\n",
      "[347]\tvalid_0's l2: 0.029515\n",
      "[348]\tvalid_0's l2: 0.0295417\n",
      "[349]\tvalid_0's l2: 0.0296339\n",
      "[350]\tvalid_0's l2: 0.029672\n",
      "[351]\tvalid_0's l2: 0.0296511\n",
      "[352]\tvalid_0's l2: 0.0296336\n",
      "[353]\tvalid_0's l2: 0.0296191\n",
      "[354]\tvalid_0's l2: 0.0296572\n",
      "[355]\tvalid_0's l2: 0.0296109\n",
      "[356]\tvalid_0's l2: 0.0295951\n",
      "[357]\tvalid_0's l2: 0.0295828\n",
      "[358]\tvalid_0's l2: 0.0295836\n",
      "[359]\tvalid_0's l2: 0.0295748\n",
      "[360]\tvalid_0's l2: 0.02956\n",
      "[361]\tvalid_0's l2: 0.0295836\n",
      "[362]\tvalid_0's l2: 0.0295558\n",
      "[363]\tvalid_0's l2: 0.0295811\n",
      "[364]\tvalid_0's l2: 0.0296075\n",
      "[365]\tvalid_0's l2: 0.0296348\n",
      "[366]\tvalid_0's l2: 0.0295629\n",
      "[367]\tvalid_0's l2: 0.0295548\n",
      "[368]\tvalid_0's l2: 0.0295845\n",
      "[369]\tvalid_0's l2: 0.0295181\n",
      "[370]\tvalid_0's l2: 0.0295122\n",
      "[371]\tvalid_0's l2: 0.0294843\n",
      "[372]\tvalid_0's l2: 0.0295378\n",
      "[373]\tvalid_0's l2: 0.0295143\n",
      "[374]\tvalid_0's l2: 0.0295418\n",
      "[375]\tvalid_0's l2: 0.0295958\n",
      "[376]\tvalid_0's l2: 0.0296075\n",
      "[377]\tvalid_0's l2: 0.029552\n",
      "[378]\tvalid_0's l2: 0.0295664\n",
      "[379]\tvalid_0's l2: 0.0295173\n",
      "[380]\tvalid_0's l2: 0.0295339\n",
      "[381]\tvalid_0's l2: 0.0295478\n",
      "[382]\tvalid_0's l2: 0.0295632\n",
      "[383]\tvalid_0's l2: 0.0295663\n",
      "[384]\tvalid_0's l2: 0.0295832\n",
      "[385]\tvalid_0's l2: 0.029592\n",
      "[386]\tvalid_0's l2: 0.0296202\n",
      "[387]\tvalid_0's l2: 0.0296503\n",
      "[388]\tvalid_0's l2: 0.0296818\n",
      "[389]\tvalid_0's l2: 0.029682\n",
      "[390]\tvalid_0's l2: 0.0297409\n",
      "[391]\tvalid_0's l2: 0.0297668\n",
      "[392]\tvalid_0's l2: 0.0297936\n",
      "[393]\tvalid_0's l2: 0.0298198\n",
      "[394]\tvalid_0's l2: 0.0298471\n",
      "[395]\tvalid_0's l2: 0.029853\n",
      "[396]\tvalid_0's l2: 0.0298882\n",
      "[397]\tvalid_0's l2: 0.0299139\n",
      "[398]\tvalid_0's l2: 0.0299539\n",
      "[399]\tvalid_0's l2: 0.0299797\n",
      "[400]\tvalid_0's l2: 0.0300269\n",
      "[401]\tvalid_0's l2: 0.0299922\n",
      "[402]\tvalid_0's l2: 0.0299384\n",
      "[403]\tvalid_0's l2: 0.0299714\n",
      "[404]\tvalid_0's l2: 0.0299404\n",
      "[405]\tvalid_0's l2: 0.0299156\n",
      "[406]\tvalid_0's l2: 0.029903\n",
      "[407]\tvalid_0's l2: 0.0298933\n",
      "[408]\tvalid_0's l2: 0.0298825\n",
      "[409]\tvalid_0's l2: 0.0298754\n",
      "[410]\tvalid_0's l2: 0.0298672\n",
      "[411]\tvalid_0's l2: 0.0299286\n",
      "[412]\tvalid_0's l2: 0.0299889\n",
      "[413]\tvalid_0's l2: 0.0299939\n",
      "[414]\tvalid_0's l2: 0.0300445\n",
      "[415]\tvalid_0's l2: 0.0300195\n",
      "[416]\tvalid_0's l2: 0.0300441\n",
      "[417]\tvalid_0's l2: 0.03007\n",
      "[418]\tvalid_0's l2: 0.0300968\n",
      "[419]\tvalid_0's l2: 0.0300948\n",
      "[420]\tvalid_0's l2: 0.0300656\n",
      "[421]\tvalid_0's l2: 0.0300405\n",
      "[422]\tvalid_0's l2: 0.0300363\n",
      "[423]\tvalid_0's l2: 0.0300152\n",
      "[424]\tvalid_0's l2: 0.0299877\n",
      "[425]\tvalid_0's l2: 0.0299698\n",
      "[426]\tvalid_0's l2: 0.0299779\n",
      "[427]\tvalid_0's l2: 0.0300151\n",
      "[428]\tvalid_0's l2: 0.0300295\n",
      "[429]\tvalid_0's l2: 0.0300451\n",
      "[430]\tvalid_0's l2: 0.0300698\n",
      "[431]\tvalid_0's l2: 0.0301114\n",
      "[432]\tvalid_0's l2: 0.0301535\n",
      "[433]\tvalid_0's l2: 0.0301956\n",
      "[434]\tvalid_0's l2: 0.0301831\n",
      "[435]\tvalid_0's l2: 0.0301736\n",
      "[436]\tvalid_0's l2: 0.0301602\n",
      "[437]\tvalid_0's l2: 0.0301497\n",
      "[438]\tvalid_0's l2: 0.0301315\n",
      "[439]\tvalid_0's l2: 0.0301235\n",
      "[440]\tvalid_0's l2: 0.0301081\n",
      "[441]\tvalid_0's l2: 0.0300786\n",
      "[442]\tvalid_0's l2: 0.0300531\n",
      "[443]\tvalid_0's l2: 0.0300545\n",
      "[444]\tvalid_0's l2: 0.0300326\n",
      "[445]\tvalid_0's l2: 0.0300359\n",
      "[446]\tvalid_0's l2: 0.0300468\n",
      "[447]\tvalid_0's l2: 0.0301146\n",
      "[448]\tvalid_0's l2: 0.0301266\n",
      "[449]\tvalid_0's l2: 0.0301793\n",
      "[450]\tvalid_0's l2: 0.0302459\n",
      "[451]\tvalid_0's l2: 0.0302104\n",
      "[452]\tvalid_0's l2: 0.0302467\n",
      "[453]\tvalid_0's l2: 0.030283\n",
      "[454]\tvalid_0's l2: 0.0302355\n",
      "[455]\tvalid_0's l2: 0.0301972\n",
      "[456]\tvalid_0's l2: 0.0302675\n",
      "[457]\tvalid_0's l2: 0.0303363\n",
      "[458]\tvalid_0's l2: 0.0303842\n",
      "[459]\tvalid_0's l2: 0.0303869\n",
      "[460]\tvalid_0's l2: 0.0303981\n",
      "[461]\tvalid_0's l2: 0.0304042\n",
      "[462]\tvalid_0's l2: 0.0304623\n",
      "[463]\tvalid_0's l2: 0.0305378\n",
      "[464]\tvalid_0's l2: 0.030542\n",
      "Early stopping, best iteration is:\n",
      "[264]\tvalid_0's l2: 0.0288999\n"
     ]
    },
    {
     "data": {
      "text/plain": [
       "LGBMRegressor(bagging_fraction=0.8, bagging_freq=5, boosting_type='gbdt',\n",
       "       class_weight=None, colsample_bytree=1.0, feature_fraction=0.9,\n",
       "       is_enable_sparse=True, learning_rate=0.05, max_depth=8, metric='l2',\n",
       "       metric_freq=1, min_child_samples=20, min_child_weight=0.001,\n",
       "       min_data_in_leaf=100, min_split_gain=0.0,\n",
       "       min_sum_hessian_in_leaf=5.0, n_estimators=20, n_jobs=-1,\n",
       "       num_leaves=31, num_trees=10000, objective='regression',\n",
       "       random_state=None, reg_alpha=0.0, reg_lambda=0.0, silent=True,\n",
       "       subsample=1.0, subsample_for_bin=200000, subsample_freq=1,\n",
       "       tree_learner='serial')"
      ]
     },
     "execution_count": 148,
     "metadata": {},
     "output_type": "execute_result"
    }
   ],
   "source": [
    "gbm.fit(X_train, y_train,\n",
    "        eval_set=[(X_valid, y_valid)],\n",
    "        eval_metric='l2',\n",
    "        early_stopping_rounds=200)"
   ]
  },
  {
   "cell_type": "code",
   "execution_count": 149,
   "metadata": {},
   "outputs": [],
   "source": [
    "y_pred = gbm.predict(X_valid)"
   ]
  },
  {
   "cell_type": "code",
   "execution_count": 150,
   "metadata": {},
   "outputs": [],
   "source": [
    "from sklearn.metrics import mean_squared_error"
   ]
  },
  {
   "cell_type": "code",
   "execution_count": 151,
   "metadata": {},
   "outputs": [
    {
     "data": {
      "text/plain": [
       "0.02889988968883854"
      ]
     },
     "execution_count": 151,
     "metadata": {},
     "output_type": "execute_result"
    }
   ],
   "source": [
    "mean_squared_error(y_pred, y_valid)"
   ]
  },
  {
   "cell_type": "code",
   "execution_count": 152,
   "metadata": {},
   "outputs": [
    {
     "data": {
      "image/png": "[encoded data removed]",
      "text/plain": [
       "<matplotlib.figure.Figure at 0x7f0bd0813cf8>"
      ]
     },
     "metadata": {},
     "output_type": "display_data"
    }
   ],
   "source": [
    "x = range(len(y_pred))\n",
    "plt.plot(x, y_pred, 'r-*', label='y_pred')\n",
    "plt.plot(x, y_valid, 'b-o', label='y_valid')\n",
    "plt.legend()\n",
    "plt.show()"
   ]
  },
  {
   "cell_type": "code",
   "execution_count": 153,
   "metadata": {},
   "outputs": [],
   "source": [
    "s_pre = pd.Series(y_pred)"
   ]
  },
  {
   "cell_type": "code",
   "execution_count": 154,
   "metadata": {},
   "outputs": [],
   "source": [
    "s_val = pd.Series(y_valid)"
   ]
  },
  {
   "cell_type": "code",
   "execution_count": 155,
   "metadata": {},
   "outputs": [
    {
     "data": {
      "image/png": "[encoded data removed]",
      "text/plain": [
       "<matplotlib.figure.Figure at 0x7f0bd07b05f8>"
      ]
     },
     "metadata": {},
     "output_type": "display_data"
    }
   ],
   "source": [
    "x = range(len(s_pre))\n",
    "plt.plot(x, s_pre.sort_values().values, 'r-*', label='lr_y_pred')\n",
    "plt.plot(x, s_val.sort_values().values, 'b-o', label='y_valid')\n",
    "plt.legend()\n",
    "plt.show()"
   ]
  },
  {
   "cell_type": "code",
   "execution_count": null,
   "metadata": {},
   "outputs": [],
   "source": []
  },
  {
   "cell_type": "code",
   "execution_count": null,
   "metadata": {},
   "outputs": [],
   "source": []
  },
  {
   "cell_type": "markdown",
   "metadata": {},
   "source": [
    "#### 使用线性回归"
   ]
  },
  {
   "cell_type": "code",
   "execution_count": 225,
   "metadata": {},
   "outputs": [],
   "source": [
    "from sklearn.linear_model import LinearRegression"
   ]
  },
  {
   "cell_type": "code",
   "execution_count": null,
   "metadata": {},
   "outputs": [],
   "source": []
  },
  {
   "cell_type": "code",
   "execution_count": 226,
   "metadata": {},
   "outputs": [
    {
     "data": {
      "text/plain": [
       "LinearRegression(copy_X=True, fit_intercept=True, n_jobs=1, normalize=False)"
      ]
     },
     "execution_count": 226,
     "metadata": {},
     "output_type": "execute_result"
    }
   ],
   "source": [
    "lr = LinearRegression()\n",
    "lr.fit(X_train, y_train)"
   ]
  },
  {
   "cell_type": "code",
   "execution_count": null,
   "metadata": {},
   "outputs": [],
   "source": []
  },
  {
   "cell_type": "code",
   "execution_count": 227,
   "metadata": {},
   "outputs": [],
   "source": [
    "lr_y_pred = lr.predict(X_valid)"
   ]
  },
  {
   "cell_type": "code",
   "execution_count": 228,
   "metadata": {},
   "outputs": [
    {
     "data": {
      "text/plain": [
       "0.060496546957124378"
      ]
     },
     "execution_count": 228,
     "metadata": {},
     "output_type": "execute_result"
    }
   ],
   "source": [
    "mean_squared_error(lr_y_pred, y_valid)"
   ]
  },
  {
   "cell_type": "code",
   "execution_count": 229,
   "metadata": {},
   "outputs": [],
   "source": [
    "lr_s_pre = pd.Series(y_pr)\n",
    "lr_s_val = pd.Series(y_va)"
   ]
  },
  {
   "cell_type": "code",
   "execution_count": null,
   "metadata": {},
   "outputs": [],
   "source": []
  },
  {
   "cell_type": "code",
   "execution_count": 230,
   "metadata": {},
   "outputs": [
    {
     "data": {
      "image/png": "[encoded data removed]",
      "text/plain": [
       "<matplotlib.figure.Figure at 0x7f3c4774e898>"
      ]
     },
     "metadata": {},
     "output_type": "display_data"
    }
   ],
   "source": [
    "x = range(len(lr_y_pred))\n",
    "plt.plot(x, y_pr, 'r-*', label='lr_y_pred')\n",
    "plt.plot(x, y_va, 'b-o', label='y_valid')\n",
    "plt.legend()\n",
    "plt.show()"
   ]
  },
  {
   "cell_type": "code",
   "execution_count": 231,
   "metadata": {},
   "outputs": [
    {
     "data": {
      "image/png": "[encoded data removed]",
      "text/plain": [
       "<matplotlib.figure.Figure at 0x7f3c4baed2e8>"
      ]
     },
     "metadata": {},
     "output_type": "display_data"
    }
   ],
   "source": [
    "x = range(len(lr_s_val))\n",
    "plt.plot(x, lr_s_pre.sort_values().values, 'r-*', label='lr_y_pred')\n",
    "plt.plot(x, lr_s_val.sort_values().values, 'b-o', label='y_valid')\n",
    "plt.legend()\n",
    "plt.show()"
   ]
  },
  {
   "cell_type": "markdown",
   "metadata": {},
   "source": [
    "#### 使用 SVM 回归"
   ]
  },
  {
   "cell_type": "code",
   "execution_count": 232,
   "metadata": {},
   "outputs": [],
   "source": [
    "from sklearn.svm import SVR"
   ]
  },
  {
   "cell_type": "code",
   "execution_count": 56,
   "metadata": {},
   "outputs": [
    {
     "ename": "NameError",
     "evalue": "name 'SVR' is not defined",
     "output_type": "error",
     "traceback": [
      "\u001b[0;31m---------------------------------------------------------------------------\u001b[0m",
      "\u001b[0;31mNameError\u001b[0m                                 Traceback (most recent call last)",
      "\u001b[0;32m<ipython-input-56-e0cdd45ee326>\u001b[0m in \u001b[0;36m<module>\u001b[0;34m()\u001b[0m\n\u001b[0;32m----> 1\u001b[0;31m \u001b[0mclf\u001b[0m \u001b[0;34m=\u001b[0m \u001b[0mSVR\u001b[0m\u001b[0;34m(\u001b[0m\u001b[0mkernel\u001b[0m\u001b[0;34m=\u001b[0m\u001b[0;34m'poly'\u001b[0m\u001b[0;34m)\u001b[0m\u001b[0;34m\u001b[0m\u001b[0m\n\u001b[0m\u001b[1;32m      2\u001b[0m \u001b[0mclf\u001b[0m\u001b[0;34m.\u001b[0m\u001b[0mfit\u001b[0m\u001b[0;34m(\u001b[0m\u001b[0mX_train\u001b[0m\u001b[0;34m,\u001b[0m \u001b[0my_train\u001b[0m\u001b[0;34m)\u001b[0m\u001b[0;34m\u001b[0m\u001b[0m\n",
      "\u001b[0;31mNameError\u001b[0m: name 'SVR' is not defined"
     ]
    }
   ],
   "source": [
    "clf = SVR(kernel='poly')\n",
    "clf.fit(X_train, y_train)"
   ]
  },
  {
   "cell_type": "code",
   "execution_count": 234,
   "metadata": {},
   "outputs": [],
   "source": [
    "svm_y_pred = clf.predict(X_valid)"
   ]
  },
  {
   "cell_type": "code",
   "execution_count": 235,
   "metadata": {},
   "outputs": [
    {
     "data": {
      "text/plain": [
       "0.045704094095977414"
      ]
     },
     "execution_count": 235,
     "metadata": {},
     "output_type": "execute_result"
    }
   ],
   "source": [
    "mean_squared_error(svm_y_pred, y_valid)"
   ]
  },
  {
   "cell_type": "code",
   "execution_count": 236,
   "metadata": {},
   "outputs": [
    {
     "data": {
      "text/plain": [
       "array([ 2.66817693,  2.70221151,  2.8638694 ,  2.92060392,  2.72826012,\n",
       "        2.99020518,  2.83752831,  2.65922337,  2.80132061,  2.88892842,\n",
       "        2.81240022,  2.95865652,  2.66987948,  2.87787096,  3.0466756 ,\n",
       "        3.05354097,  2.9236912 ,  2.6781241 ,  2.94322065,  2.79760192,\n",
       "        2.8350677 ,  2.65391416,  2.60296591,  2.52670476,  2.87583234,\n",
       "        2.79367582,  3.03855017,  2.68977229,  2.98942142,  2.87489676,\n",
       "        2.81134557,  2.87678719,  2.83050792,  2.64990732,  2.73504849,\n",
       "        2.77049217,  2.98218768,  2.90327886,  2.66954523,  3.14316679,\n",
       "        2.81982667,  2.50252468,  2.73461931,  2.78596071,  2.7951171 ,\n",
       "        2.45079675,  2.75455218,  2.86518996,  2.86420759,  3.00376974,\n",
       "        2.78400689,  2.67227279,  3.17023206,  2.9026951 ,  3.03275115,\n",
       "        2.85132793,  3.08295169,  2.78701856,  2.89705307,  2.8289735 ,\n",
       "        2.84942387,  2.63750699,  2.94178415,  2.63243517,  2.88639102,\n",
       "        2.9091915 ,  3.00452444,  2.69257475,  2.67752654,  2.67870579,\n",
       "        2.77636504,  3.15458518,  2.77750194,  2.70506465,  2.87362821,\n",
       "        2.8346986 ,  2.76349931,  2.89144574,  3.03873884,  2.80399581,\n",
       "        2.86914486,  2.55172224,  2.81445316,  2.67383238,  2.75268689,\n",
       "        3.17104569,  3.23502506,  2.72830296,  2.81640389,  2.79605171,\n",
       "        2.70879881,  3.0923178 ,  2.84311992,  2.86256465,  2.55390932,\n",
       "        2.72596481,  2.96970812,  3.047163  ,  2.69771343,  2.99288485,\n",
       "        2.90272551,  2.97852121,  2.76290141,  3.15368329,  2.90642862,\n",
       "        2.49427242,  2.67905139,  2.70135606,  2.67507897,  2.81486702,\n",
       "        2.6115561 ,  2.83049808,  2.90763838,  2.99793918,  2.79775283,\n",
       "        2.85820871,  2.81665803,  3.10676417,  2.62430352,  3.05003482,\n",
       "        2.68720856,  2.87689268,  2.81859845,  2.7504638 ,  2.89895399])"
      ]
     },
     "execution_count": 236,
     "metadata": {},
     "output_type": "execute_result"
    }
   ],
   "source": [
    "svm_y_pred"
   ]
  },
  {
   "cell_type": "code",
   "execution_count": null,
   "metadata": {},
   "outputs": [],
   "source": []
  },
  {
   "cell_type": "code",
   "execution_count": 237,
   "metadata": {},
   "outputs": [
    {
     "data": {
      "image/png": "[encoded data removed]",
      "text/plain": [
       "<matplotlib.figure.Figure at 0x7f3c4bdbb0b8>"
      ]
     },
     "metadata": {},
     "output_type": "display_data"
    }
   ],
   "source": [
    "x = range(len(svm_y_pred))\n",
    "plt.plot(x, svm_y_pred, 'r-*', label='svm_y_pred')\n",
    "plt.plot(x, y_valid, 'b-o', label='y_valid')\n",
    "plt.legend()\n",
    "plt.show()"
   ]
  },
  {
   "cell_type": "code",
   "execution_count": 238,
   "metadata": {},
   "outputs": [],
   "source": [
    "svm_s_pre = pd.Series(svm_y_pred)\n",
    "s_val = pd.Series(y_valid)"
   ]
  },
  {
   "cell_type": "code",
   "execution_count": 239,
   "metadata": {},
   "outputs": [
    {
     "data": {
      "image/png": "[encoded data removed]",
      "text/plain": [
       "<matplotlib.figure.Figure at 0x7f3c475e4320>"
      ]
     },
     "metadata": {},
     "output_type": "display_data"
    }
   ],
   "source": [
    "x = range(len(svm_s_pre))\n",
    "plt.plot(x, svm_s_pre.sort_values().values, 'r-*', label='lr_y_pred')\n",
    "plt.plot(x, s_val.sort_values().values, 'b-o', label='y_valid')\n",
    "plt.show()"
   ]
  },
  {
   "cell_type": "markdown",
   "metadata": {},
   "source": [
    "#### 使用gbm预测"
   ]
  },
  {
   "cell_type": "code",
   "execution_count": 156,
   "metadata": {},
   "outputs": [],
   "source": [
    "testa_X = pd.concat([testa_X_num, testa_X_str], axis=1)"
   ]
  },
  {
   "cell_type": "code",
   "execution_count": 157,
   "metadata": {},
   "outputs": [],
   "source": [
    "testa_X = testa_X.drop(['nan_count'], axis=1)"
   ]
  },
  {
   "cell_type": "code",
   "execution_count": 158,
   "metadata": {},
   "outputs": [],
   "source": [
    "a_pred = gbm.predict(testa_X)"
   ]
  },
  {
   "cell_type": "code",
   "execution_count": 159,
   "metadata": {},
   "outputs": [],
   "source": [
    "s_a_pred = pd.Series(a_pred)"
   ]
  },
  {
   "cell_type": "code",
   "execution_count": 160,
   "metadata": {},
   "outputs": [
    {
     "data": {
      "image/png": "[encoded data removed]",
      "text/plain": [
       "<matplotlib.figure.Figure at 0x7f0bd07ad978>"
      ]
     },
     "metadata": {},
     "output_type": "display_data"
    }
   ],
   "source": [
    "x = range(len(s_a_pred))\n",
    "plt.plot(x, s_a_pred.sort_values().values, 'r-*', label='y_train')\n",
    "plt.show()"
   ]
  },
  {
   "cell_type": "code",
   "execution_count": 43,
   "metadata": {},
   "outputs": [],
   "source": [
    "b_pred = gbm.predict(X_b)"
   ]
  },
  {
   "cell_type": "markdown",
   "metadata": {},
   "source": [
    "#### 读取模板"
   ]
  },
  {
   "cell_type": "code",
   "execution_count": 161,
   "metadata": {},
   "outputs": [],
   "source": [
    "a_pattern = pd.read_csv('./a_pattern.csv', names= ['id'])"
   ]
  },
  {
   "cell_type": "code",
   "execution_count": 166,
   "metadata": {},
   "outputs": [],
   "source": [
    "b_pattern = pd.read_csv('./b_pattern.csv', names = ['id'])"
   ]
  },
  {
   "cell_type": "code",
   "execution_count": 163,
   "metadata": {},
   "outputs": [],
   "source": [
    "a_pattern['Y'] = a_pred"
   ]
  },
  {
   "cell_type": "code",
   "execution_count": 168,
   "metadata": {},
   "outputs": [],
   "source": [
    "b_pattern['Y'] = 0"
   ]
  },
  {
   "cell_type": "code",
   "execution_count": 165,
   "metadata": {},
   "outputs": [],
   "source": [
    "a_pattern.to_csv('./a_pred.csv', index=None, header=None)"
   ]
  },
  {
   "cell_type": "code",
   "execution_count": 49,
   "metadata": {},
   "outputs": [],
   "source": [
    "b_pattern.to_csv('./b_pred.csv', index=None, header=None)"
   ]
  },
  {
   "cell_type": "code",
   "execution_count": null,
   "metadata": {},
   "outputs": [],
   "source": []
  }
 ],
 "metadata": {
  "kernelspec": {
   "display_name": "Python 3",
   "language": "python",
   "name": "python3"
  },
  "language_info": {
   "codemirror_mode": {
    "name": "ipython",
    "version": 3
   },
   "file_extension": ".py",
   "mimetype": "text/x-python",
   "name": "python",
   "nbconvert_exporter": "python",
   "pygments_lexer": "ipython3",
   "version": "3.5.2"
  }
 },
 "nbformat": 4,
 "nbformat_minor": 2
}
