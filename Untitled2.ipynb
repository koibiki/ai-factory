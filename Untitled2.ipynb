{
 "cells": [
  {
   "cell_type": "code",
   "execution_count": 1,
   "metadata": {},
   "outputs": [],
   "source": [
    "import pandas as pd\n",
    "import numpy as np\n",
    "import lightgbm as lgm\n",
    "%matplotlib inline\n",
    "import matplotlib.pyplot as plt\n",
    "from feature_engineering.feature_selector import *\n",
    "from sklearn.model_selection import train_test_split\n",
    "from sklearn.metrics import mean_squared_error\n",
    "from feature_engineering.separate_str_num import * "
   ]
  },
  {
   "cell_type": "code",
   "execution_count": 2,
   "metadata": {},
   "outputs": [],
   "source": [
    "train = pd.read_csv('./input/fusai_train_20180117.csv')\n",
    "testa = pd.read_csv('./input/fusai_testA_20180117.csv')"
   ]
  },
  {
   "cell_type": "code",
   "execution_count": 29,
   "metadata": {},
   "outputs": [],
   "source": [
    "answer_testa = pd.read_csv('./input/fusai_answer_a_20180127.csv', header=None, names=['id', 'values'])"
   ]
  },
  {
   "cell_type": "code",
   "execution_count": 3,
   "metadata": {},
   "outputs": [
    {
     "data": {
      "text/plain": [
       "(800, 5954)"
      ]
     },
     "execution_count": 3,
     "metadata": {},
     "output_type": "execute_result"
    }
   ],
   "source": [
    "train.shape"
   ]
  },
  {
   "cell_type": "code",
   "execution_count": 4,
   "metadata": {},
   "outputs": [
    {
     "data": {
      "text/plain": [
       "(300, 5953)"
      ]
     },
     "execution_count": 4,
     "metadata": {},
     "output_type": "execute_result"
    }
   ],
   "source": [
    "testa.shape"
   ]
  },
  {
   "cell_type": "code",
   "execution_count": 5,
   "metadata": {},
   "outputs": [],
   "source": [
    "train = train[train.iloc[:, -1] > 2.25]"
   ]
  },
  {
   "cell_type": "code",
   "execution_count": 6,
   "metadata": {},
   "outputs": [],
   "source": [
    "train_y_series = train.iloc[:, -1]"
   ]
  },
  {
   "cell_type": "code",
   "execution_count": 7,
   "metadata": {},
   "outputs": [
    {
     "data": {
      "image/png": "[encoded data removed]",
      "text/plain": [
       "<matplotlib.figure.Figure at 0x7fd22463fe48>"
      ]
     },
     "metadata": {},
     "output_type": "display_data"
    }
   ],
   "source": [
    "x = range(len(train_y_series))\n",
    "plt.plot(x, train_y_series.sort_values().values, 'r-*', label='y_train')\n",
    "plt.show()"
   ]
  },
  {
   "cell_type": "code",
   "execution_count": 8,
   "metadata": {},
   "outputs": [],
   "source": [
    "train_X = train.iloc[:,1:-1]\n",
    "train_Y = train.iloc[:, -1]"
   ]
  },
  {
   "cell_type": "code",
   "execution_count": 9,
   "metadata": {},
   "outputs": [],
   "source": [
    "train_X = delete_constant(train_X)"
   ]
  },
  {
   "cell_type": "code",
   "execution_count": 10,
   "metadata": {},
   "outputs": [],
   "source": [
    "train_X = delete_nan(train_X)"
   ]
  },
  {
   "cell_type": "code",
   "execution_count": 11,
   "metadata": {},
   "outputs": [],
   "source": [
    "train_X = delete_duplicates(train_X)"
   ]
  },
  {
   "cell_type": "code",
   "execution_count": 12,
   "metadata": {},
   "outputs": [
    {
     "data": {
      "text/plain": [
       "(799, 2698)"
      ]
     },
     "execution_count": 12,
     "metadata": {},
     "output_type": "execute_result"
    }
   ],
   "source": [
    "train_X.shape"
   ]
  },
  {
   "cell_type": "code",
   "execution_count": 13,
   "metadata": {},
   "outputs": [],
   "source": [
    "data_num, data_str = separate_num_str(train_X)"
   ]
  },
  {
   "cell_type": "code",
   "execution_count": 14,
   "metadata": {},
   "outputs": [],
   "source": [
    "data_num.fillna(data_num.median(axis=0), inplace=True)"
   ]
  },
  {
   "cell_type": "code",
   "execution_count": 15,
   "metadata": {},
   "outputs": [],
   "source": [
    "train_data = data_num\n",
    "testa_data = testa.loc[:, train_data.columns]"
   ]
  },
  {
   "cell_type": "code",
   "execution_count": 17,
   "metadata": {},
   "outputs": [],
   "source": [
    "from sklearn.linear_model import Lasso"
   ]
  },
  {
   "cell_type": "code",
   "execution_count": 20,
   "metadata": {},
   "outputs": [],
   "source": [
    "ls = Lasso(max_iter=10000, random_state=520)"
   ]
  },
  {
   "cell_type": "code",
   "execution_count": 21,
   "metadata": {},
   "outputs": [
    {
     "name": "stderr",
     "output_type": "stream",
     "text": [
      "/home/chengli/.local/lib/python3.5/site-packages/sklearn/linear_model/coordinate_descent.py:491: ConvergenceWarning: Objective did not converge. You might want to increase the number of iterations. Fitting data with very small alpha may cause precision problems.\n",
      "  ConvergenceWarning)\n"
     ]
    },
    {
     "data": {
      "text/plain": [
       "Lasso(alpha=1.0, copy_X=True, fit_intercept=True, max_iter=10000,\n",
       "   normalize=False, positive=False, precompute=False, random_state=520,\n",
       "   selection='cyclic', tol=0.0001, warm_start=False)"
      ]
     },
     "execution_count": 21,
     "metadata": {},
     "output_type": "execute_result"
    }
   ],
   "source": [
    "ls.fit(train_data, train_Y)"
   ]
  },
  {
   "cell_type": "code",
   "execution_count": 22,
   "metadata": {},
   "outputs": [],
   "source": [
    "coef = pd.Series(ls.coef_, index = train_data.columns)# .coef_ 可以返回经过学习后的所有 feature 的参数。"
   ]
  },
  {
   "cell_type": "code",
   "execution_count": 23,
   "metadata": {},
   "outputs": [
    {
     "name": "stdout",
     "output_type": "stream",
     "text": [
      "Lasso picked 149 variables and eliminated the other 2537 variables\n"
     ]
    }
   ],
   "source": [
    "print(\"Lasso picked \" + str(sum(coef != 0)) + \" variables and eliminated the other \" +  str(sum(coef == 0)) + \" variables\")"
   ]
  },
  {
   "cell_type": "code",
   "execution_count": 24,
   "metadata": {},
   "outputs": [],
   "source": [
    "important_feature = coef[coef != 0]"
   ]
  },
  {
   "cell_type": "code",
   "execution_count": 25,
   "metadata": {},
   "outputs": [
    {
     "data": {
      "text/plain": [
       "149"
      ]
     },
     "execution_count": 25,
     "metadata": {},
     "output_type": "execute_result"
    }
   ],
   "source": [
    "len(important_feature)"
   ]
  },
  {
   "cell_type": "code",
   "execution_count": 26,
   "metadata": {},
   "outputs": [
    {
     "name": "stderr",
     "output_type": "stream",
     "text": [
      "/usr/local/lib/python3.5/dist-packages/h5py/__init__.py:36: FutureWarning: Conversion of the second argument of issubdtype from `float` to `np.floating` is deprecated. In future, it will be treated as `np.float64 == np.dtype(float).type`.\n",
      "  from ._conv import register_converters as _register_converters\n",
      "/home/chengli/.local/lib/python3.5/site-packages/sklearn/cross_validation.py:41: DeprecationWarning: This module was deprecated in version 0.18 in favor of the model_selection module into which all the refactored classes and functions are moved. Also note that the interface of the new CV iterators are different from that of this module. This module will be removed in 0.20.\n",
      "  \"This module will be removed in 0.20.\", DeprecationWarning)\n"
     ]
    }
   ],
   "source": [
    "from model_selection.regressor_model_factory import RegressorModelFactory\n",
    "from model_selection.cv import k_fold_regressor"
   ]
  },
  {
   "cell_type": "code",
   "execution_count": 27,
   "metadata": {},
   "outputs": [],
   "source": [
    "train_data = train_data[important_feature.index]\n",
    "testa_data = testa.loc[:, train_data.columns]"
   ]
  },
  {
   "cell_type": "code",
   "execution_count": 31,
   "metadata": {},
   "outputs": [],
   "source": [
    "testa_data.fillna(train_data.median(axis=0), inplace=True)"
   ]
  },
  {
   "cell_type": "code",
   "execution_count": 28,
   "metadata": {},
   "outputs": [
    {
     "name": "stderr",
     "output_type": "stream",
     "text": [
      "/home/chengli/.local/lib/python3.5/site-packages/sklearn/linear_model/coordinate_descent.py:491: ConvergenceWarning: Objective did not converge. You might want to increase the number of iterations. Fitting data with very small alpha may cause precision problems.\n",
      "  ConvergenceWarning)\n"
     ]
    },
    {
     "data": {
      "text/plain": [
       "Lasso(alpha=1.0, copy_X=True, fit_intercept=True, max_iter=10000,\n",
       "   normalize=False, positive=False, precompute=False, random_state=520,\n",
       "   selection='cyclic', tol=0.0001, warm_start=False)"
      ]
     },
     "execution_count": 28,
     "metadata": {},
     "output_type": "execute_result"
    }
   ],
   "source": [
    "ls.fit(train_data, train_Y)"
   ]
  },
  {
   "cell_type": "code",
   "execution_count": 32,
   "metadata": {},
   "outputs": [
    {
     "data": {
      "text/plain": [
       "1.147999445965049"
      ]
     },
     "execution_count": 32,
     "metadata": {},
     "output_type": "execute_result"
    }
   ],
   "source": [
    "mean_squared_error(answer_testa['values'], ls.predict(testa_data))"
   ]
  },
  {
   "cell_type": "code",
   "execution_count": null,
   "metadata": {},
   "outputs": [],
   "source": []
  },
  {
   "cell_type": "code",
   "execution_count": null,
   "metadata": {},
   "outputs": [],
   "source": []
  },
  {
   "cell_type": "code",
   "execution_count": 33,
   "metadata": {
    "scrolled": false
   },
   "outputs": [
    {
     "name": "stdout",
     "output_type": "stream",
     "text": [
      "开始CV5折训练...\n",
      "第0次训练...\n",
      "Training until validation scores don't improve for 300 rounds.\n",
      "[200]\tvalid_0's l2: 0.0255577\n",
      "[400]\tvalid_0's l2: 0.0226868\n",
      "[600]\tvalid_0's l2: 0.0212922\n",
      "[800]\tvalid_0's l2: 0.0204326\n",
      "[1000]\tvalid_0's l2: 0.0200005\n",
      "[1200]\tvalid_0's l2: 0.0198644\n",
      "[1400]\tvalid_0's l2: 0.0196629\n",
      "[1600]\tvalid_0's l2: 0.0194778\n",
      "[1800]\tvalid_0's l2: 0.0192539\n",
      "[2000]\tvalid_0's l2: 0.0191149\n",
      "[2200]\tvalid_0's l2: 0.0189885\n",
      "[2400]\tvalid_0's l2: 0.0189018\n",
      "[2600]\tvalid_0's l2: 0.0188187\n",
      "[2800]\tvalid_0's l2: 0.0186888\n",
      "[3000]\tvalid_0's l2: 0.0185772\n",
      "[3200]\tvalid_0's l2: 0.0184808\n",
      "[3400]\tvalid_0's l2: 0.0184234\n",
      "[3600]\tvalid_0's l2: 0.0183682\n",
      "[3800]\tvalid_0's l2: 0.0183298\n",
      "[4000]\tvalid_0's l2: 0.018269\n",
      "[4200]\tvalid_0's l2: 0.0182661\n",
      "[4400]\tvalid_0's l2: 0.0182489\n",
      "[4600]\tvalid_0's l2: 0.0181999\n",
      "[4800]\tvalid_0's l2: 0.01813\n",
      "[5000]\tvalid_0's l2: 0.0180959\n",
      "[5200]\tvalid_0's l2: 0.0180719\n",
      "[5400]\tvalid_0's l2: 0.0180621\n",
      "[5600]\tvalid_0's l2: 0.0180358\n",
      "[5800]\tvalid_0's l2: 0.0180288\n",
      "[6000]\tvalid_0's l2: 0.0180047\n",
      "[6200]\tvalid_0's l2: 0.017968\n",
      "[6400]\tvalid_0's l2: 0.0179453\n",
      "[6600]\tvalid_0's l2: 0.0179462\n",
      "Early stopping, best iteration is:\n",
      "[6495]\tvalid_0's l2: 0.0179226\n",
      "第1次训练...\n",
      "Training until validation scores don't improve for 300 rounds.\n",
      "[200]\tvalid_0's l2: 0.0252465\n",
      "[400]\tvalid_0's l2: 0.0229398\n",
      "[600]\tvalid_0's l2: 0.0214246\n",
      "[800]\tvalid_0's l2: 0.0206965\n",
      "[1000]\tvalid_0's l2: 0.0200951\n",
      "[1200]\tvalid_0's l2: 0.0196047\n",
      "[1400]\tvalid_0's l2: 0.0192896\n",
      "[1600]\tvalid_0's l2: 0.0189243\n",
      "[1800]\tvalid_0's l2: 0.0187255\n",
      "[2000]\tvalid_0's l2: 0.0186102\n",
      "[2200]\tvalid_0's l2: 0.0184832\n",
      "[2400]\tvalid_0's l2: 0.0183868\n",
      "[2600]\tvalid_0's l2: 0.0183556\n",
      "[2800]\tvalid_0's l2: 0.0182927\n",
      "[3000]\tvalid_0's l2: 0.0182696\n",
      "[3200]\tvalid_0's l2: 0.0182323\n",
      "[3400]\tvalid_0's l2: 0.0181735\n",
      "[3600]\tvalid_0's l2: 0.0181105\n",
      "[3800]\tvalid_0's l2: 0.0180212\n",
      "[4000]\tvalid_0's l2: 0.017968\n",
      "[4200]\tvalid_0's l2: 0.0178923\n",
      "[4400]\tvalid_0's l2: 0.0178345\n",
      "[4600]\tvalid_0's l2: 0.0177637\n",
      "[4800]\tvalid_0's l2: 0.0177231\n",
      "[5000]\tvalid_0's l2: 0.017697\n",
      "[5200]\tvalid_0's l2: 0.0176322\n",
      "[5400]\tvalid_0's l2: 0.0175826\n",
      "[5600]\tvalid_0's l2: 0.0175609\n",
      "[5800]\tvalid_0's l2: 0.0175139\n",
      "[6000]\tvalid_0's l2: 0.017486\n",
      "[6200]\tvalid_0's l2: 0.0174766\n",
      "[6400]\tvalid_0's l2: 0.0174625\n",
      "[6600]\tvalid_0's l2: 0.0174587\n",
      "[6800]\tvalid_0's l2: 0.0174442\n",
      "[7000]\tvalid_0's l2: 0.0174295\n",
      "[7200]\tvalid_0's l2: 0.0174049\n",
      "[7400]\tvalid_0's l2: 0.017377\n",
      "[7600]\tvalid_0's l2: 0.0173646\n",
      "[7800]\tvalid_0's l2: 0.0173338\n",
      "[8000]\tvalid_0's l2: 0.0173173\n",
      "[8200]\tvalid_0's l2: 0.0173117\n",
      "[8400]\tvalid_0's l2: 0.0172831\n",
      "[8600]\tvalid_0's l2: 0.0172686\n",
      "[8800]\tvalid_0's l2: 0.0172315\n",
      "[9000]\tvalid_0's l2: 0.017219\n",
      "[9200]\tvalid_0's l2: 0.0172065\n",
      "[9400]\tvalid_0's l2: 0.0171999\n",
      "[9600]\tvalid_0's l2: 0.0171886\n",
      "[9800]\tvalid_0's l2: 0.0171706\n",
      "[10000]\tvalid_0's l2: 0.0171476\n",
      "[10200]\tvalid_0's l2: 0.0171408\n",
      "[10400]\tvalid_0's l2: 0.0171266\n",
      "[10600]\tvalid_0's l2: 0.0171073\n",
      "[10800]\tvalid_0's l2: 0.0170982\n",
      "[11000]\tvalid_0's l2: 0.0170884\n",
      "[11200]\tvalid_0's l2: 0.017071\n",
      "[11400]\tvalid_0's l2: 0.0170432\n",
      "[11600]\tvalid_0's l2: 0.017026\n",
      "[11800]\tvalid_0's l2: 0.0170085\n",
      "[12000]\tvalid_0's l2: 0.0169998\n",
      "[12200]\tvalid_0's l2: 0.016991\n",
      "[12400]\tvalid_0's l2: 0.0169874\n",
      "[12600]\tvalid_0's l2: 0.0169766\n",
      "[12800]\tvalid_0's l2: 0.0169608\n",
      "[13000]\tvalid_0's l2: 0.0169624\n",
      "[13200]\tvalid_0's l2: 0.0169568\n",
      "[13400]\tvalid_0's l2: 0.01695\n",
      "[13600]\tvalid_0's l2: 0.0169454\n",
      "[13800]\tvalid_0's l2: 0.016948\n",
      "Early stopping, best iteration is:\n",
      "[13535]\tvalid_0's l2: 0.0169414\n",
      "第2次训练...\n",
      "Training until validation scores don't improve for 300 rounds.\n",
      "[200]\tvalid_0's l2: 0.0272771\n",
      "[400]\tvalid_0's l2: 0.0233231\n",
      "[600]\tvalid_0's l2: 0.0208063\n",
      "[800]\tvalid_0's l2: 0.0192197\n",
      "[1000]\tvalid_0's l2: 0.0178516\n",
      "[1200]\tvalid_0's l2: 0.0169065\n",
      "[1400]\tvalid_0's l2: 0.0162851\n",
      "[1600]\tvalid_0's l2: 0.0157146\n",
      "[1800]\tvalid_0's l2: 0.0152554\n",
      "[2000]\tvalid_0's l2: 0.0149065\n",
      "[2200]\tvalid_0's l2: 0.0146502\n",
      "[2400]\tvalid_0's l2: 0.0143827\n",
      "[2600]\tvalid_0's l2: 0.0142016\n",
      "[2800]\tvalid_0's l2: 0.0139967\n",
      "[3000]\tvalid_0's l2: 0.0138497\n",
      "[3200]\tvalid_0's l2: 0.0137024\n",
      "[3400]\tvalid_0's l2: 0.0135484\n",
      "[3600]\tvalid_0's l2: 0.0133865\n",
      "[3800]\tvalid_0's l2: 0.0132944\n",
      "[4000]\tvalid_0's l2: 0.013195\n",
      "[4200]\tvalid_0's l2: 0.0131077\n",
      "[4400]\tvalid_0's l2: 0.0130239\n",
      "[4600]\tvalid_0's l2: 0.0129795\n",
      "[4800]\tvalid_0's l2: 0.0129153\n",
      "[5000]\tvalid_0's l2: 0.0128486\n",
      "[5200]\tvalid_0's l2: 0.0127917\n",
      "[5400]\tvalid_0's l2: 0.0127087\n",
      "[5600]\tvalid_0's l2: 0.0126293\n",
      "[5800]\tvalid_0's l2: 0.012569\n",
      "[6000]\tvalid_0's l2: 0.0125037\n",
      "[6200]\tvalid_0's l2: 0.0124415\n",
      "[6400]\tvalid_0's l2: 0.0124081\n",
      "[6600]\tvalid_0's l2: 0.0123567\n",
      "[6800]\tvalid_0's l2: 0.0122778\n",
      "[7000]\tvalid_0's l2: 0.0122067\n",
      "[7200]\tvalid_0's l2: 0.0121598\n",
      "[7400]\tvalid_0's l2: 0.0121304\n",
      "[7600]\tvalid_0's l2: 0.0120906\n",
      "[7800]\tvalid_0's l2: 0.0120464\n",
      "[8000]\tvalid_0's l2: 0.0120135\n",
      "[8200]\tvalid_0's l2: 0.0119717\n",
      "[8400]\tvalid_0's l2: 0.0119476\n",
      "[8600]\tvalid_0's l2: 0.011929\n",
      "[8800]\tvalid_0's l2: 0.011905\n",
      "[9000]\tvalid_0's l2: 0.0119033\n",
      "[9200]\tvalid_0's l2: 0.0118774\n",
      "[9400]\tvalid_0's l2: 0.0118583\n",
      "[9600]\tvalid_0's l2: 0.0118478\n",
      "[9800]\tvalid_0's l2: 0.0118166\n",
      "[10000]\tvalid_0's l2: 0.0118051\n",
      "[10200]\tvalid_0's l2: 0.0117816\n",
      "[10400]\tvalid_0's l2: 0.0117858\n",
      "[10600]\tvalid_0's l2: 0.011778\n",
      "[10800]\tvalid_0's l2: 0.0117594\n",
      "[11000]\tvalid_0's l2: 0.0117313\n",
      "[11200]\tvalid_0's l2: 0.0117149\n",
      "[11400]\tvalid_0's l2: 0.0117056\n",
      "[11600]\tvalid_0's l2: 0.0116808\n",
      "[11800]\tvalid_0's l2: 0.011672\n",
      "[12000]\tvalid_0's l2: 0.0116721\n",
      "[12200]\tvalid_0's l2: 0.0116583\n",
      "[12400]\tvalid_0's l2: 0.0116455\n",
      "[12600]\tvalid_0's l2: 0.0116401\n",
      "[12800]\tvalid_0's l2: 0.0116401\n",
      "Early stopping, best iteration is:\n",
      "[12540]\tvalid_0's l2: 0.0116335\n",
      "第3次训练...\n",
      "Training until validation scores don't improve for 300 rounds.\n",
      "[200]\tvalid_0's l2: 0.0238745\n",
      "[400]\tvalid_0's l2: 0.0213043\n",
      "[600]\tvalid_0's l2: 0.0196871\n",
      "[800]\tvalid_0's l2: 0.0189339\n",
      "[1000]\tvalid_0's l2: 0.0183662\n",
      "[1200]\tvalid_0's l2: 0.0178383\n",
      "[1400]\tvalid_0's l2: 0.0175531\n",
      "[1600]\tvalid_0's l2: 0.0173846\n",
      "[1800]\tvalid_0's l2: 0.0172206\n",
      "[2000]\tvalid_0's l2: 0.0171119\n",
      "[2200]\tvalid_0's l2: 0.0169946\n",
      "[2400]\tvalid_0's l2: 0.0169219\n",
      "[2600]\tvalid_0's l2: 0.0168419\n",
      "[2800]\tvalid_0's l2: 0.0167758\n",
      "[3000]\tvalid_0's l2: 0.0166787\n",
      "[3200]\tvalid_0's l2: 0.0166342\n",
      "[3400]\tvalid_0's l2: 0.0165581\n",
      "[3600]\tvalid_0's l2: 0.0165148\n",
      "[3800]\tvalid_0's l2: 0.016491\n",
      "[4000]\tvalid_0's l2: 0.0164799\n",
      "[4200]\tvalid_0's l2: 0.0164477\n",
      "Early stopping, best iteration is:\n",
      "[4097]\tvalid_0's l2: 0.0164387\n",
      "第4次训练...\n",
      "Training until validation scores don't improve for 300 rounds.\n",
      "[200]\tvalid_0's l2: 0.0253856\n",
      "[400]\tvalid_0's l2: 0.0203163\n",
      "[600]\tvalid_0's l2: 0.0180786\n",
      "[800]\tvalid_0's l2: 0.0169703\n",
      "[1000]\tvalid_0's l2: 0.0162858\n",
      "[1200]\tvalid_0's l2: 0.0159353\n",
      "[1400]\tvalid_0's l2: 0.0157252\n",
      "[1600]\tvalid_0's l2: 0.0154654\n",
      "[1800]\tvalid_0's l2: 0.0152607\n",
      "[2000]\tvalid_0's l2: 0.0151209\n",
      "[2200]\tvalid_0's l2: 0.0149514\n",
      "[2400]\tvalid_0's l2: 0.0148462\n",
      "[2600]\tvalid_0's l2: 0.0147648\n",
      "[2800]\tvalid_0's l2: 0.014605\n",
      "[3000]\tvalid_0's l2: 0.0146044\n",
      "[3200]\tvalid_0's l2: 0.0145762\n",
      "[3400]\tvalid_0's l2: 0.0145675\n",
      "Early stopping, best iteration is:\n",
      "[3175]\tvalid_0's l2: 0.0145587\n",
      "light_gbm_r_ k fold validation: 0.015500176041486015\n"
     ]
    }
   ],
   "source": [
    "predict, cv_indexs, importances = k_fold_regressor(train_data, train_Y, testa_data, model_num=RegressorModelFactory.MODEL_LIGHET_GBM, cv=5, important_level=0)"
   ]
  },
  {
   "cell_type": "code",
   "execution_count": 34,
   "metadata": {},
   "outputs": [],
   "source": [
    "answer_testa = pd.read_csv('./input/fusai_answer_a_20180127.csv', header=None, names=['id', 'values'])"
   ]
  },
  {
   "cell_type": "code",
   "execution_count": 35,
   "metadata": {},
   "outputs": [
    {
     "data": {
      "text/plain": [
       "0.052477016976253274"
      ]
     },
     "execution_count": 35,
     "metadata": {},
     "output_type": "execute_result"
    }
   ],
   "source": [
    "mean_squared_error(answer_testa['values'], predict)"
   ]
  },
  {
   "cell_type": "code",
   "execution_count": 27,
   "metadata": {},
   "outputs": [
    {
     "data": {
      "text/html": [
       "<div>\n",
       "<style scoped>\n",
       "    .dataframe tbody tr th:only-of-type {\n",
       "        vertical-align: middle;\n",
       "    }\n",
       "\n",
       "    .dataframe tbody tr th {\n",
       "        vertical-align: top;\n",
       "    }\n",
       "\n",
       "    .dataframe thead th {\n",
       "        text-align: right;\n",
       "    }\n",
       "</style>\n",
       "<table border=\"1\" class=\"dataframe\">\n",
       "  <thead>\n",
       "    <tr style=\"text-align: right;\">\n",
       "      <th></th>\n",
       "      <th>ID</th>\n",
       "      <th>TOOL</th>\n",
       "      <th>210X1</th>\n",
       "      <th>210X2</th>\n",
       "      <th>210X3</th>\n",
       "      <th>210X4</th>\n",
       "      <th>210X5</th>\n",
       "      <th>210X6</th>\n",
       "      <th>210X7</th>\n",
       "      <th>210X8</th>\n",
       "      <th>...</th>\n",
       "      <th>750X1440</th>\n",
       "      <th>750X1441</th>\n",
       "      <th>750X1442</th>\n",
       "      <th>750X1444</th>\n",
       "      <th>750X1445</th>\n",
       "      <th>750X1447</th>\n",
       "      <th>750X1448</th>\n",
       "      <th>750X1450</th>\n",
       "      <th>750X1451</th>\n",
       "      <th>750X1452</th>\n",
       "    </tr>\n",
       "  </thead>\n",
       "  <tbody>\n",
       "    <tr>\n",
       "      <th>0</th>\n",
       "      <td>NH1943</td>\n",
       "      <td>L</td>\n",
       "      <td>100.15</td>\n",
       "      <td>0.534</td>\n",
       "      <td>0.24</td>\n",
       "      <td>1.281</td>\n",
       "      <td>57.27</td>\n",
       "      <td>3.422</td>\n",
       "      <td>-2.08</td>\n",
       "      <td>0.39</td>\n",
       "      <td>...</td>\n",
       "      <td>1.3</td>\n",
       "      <td>200.1</td>\n",
       "      <td>2400000000000</td>\n",
       "      <td>0.00069</td>\n",
       "      <td>0.00069</td>\n",
       "      <td>0.00069</td>\n",
       "      <td>0.00069</td>\n",
       "      <td>0.00069</td>\n",
       "      <td>0.00069</td>\n",
       "      <td>2400000000000</td>\n",
       "    </tr>\n",
       "    <tr>\n",
       "      <th>1</th>\n",
       "      <td>NH1944</td>\n",
       "      <td>N</td>\n",
       "      <td>102.05</td>\n",
       "      <td>0.488</td>\n",
       "      <td>0.26</td>\n",
       "      <td>1.972</td>\n",
       "      <td>68.01</td>\n",
       "      <td>4.576</td>\n",
       "      <td>3.78</td>\n",
       "      <td>-0.82</td>\n",
       "      <td>...</td>\n",
       "      <td>1.3</td>\n",
       "      <td>199.9</td>\n",
       "      <td>2400000000000</td>\n",
       "      <td>0.00063</td>\n",
       "      <td>0.00063</td>\n",
       "      <td>0.00063</td>\n",
       "      <td>0.00063</td>\n",
       "      <td>0.00063</td>\n",
       "      <td>0.00063</td>\n",
       "      <td>2400000000000</td>\n",
       "    </tr>\n",
       "    <tr>\n",
       "      <th>2</th>\n",
       "      <td>NH1945</td>\n",
       "      <td>N</td>\n",
       "      <td>102.05</td>\n",
       "      <td>0.476</td>\n",
       "      <td>0.26</td>\n",
       "      <td>1.946</td>\n",
       "      <td>67.98</td>\n",
       "      <td>4.586</td>\n",
       "      <td>3.45</td>\n",
       "      <td>-0.84</td>\n",
       "      <td>...</td>\n",
       "      <td>1.3</td>\n",
       "      <td>199.6</td>\n",
       "      <td>2400000000000</td>\n",
       "      <td>0.00070</td>\n",
       "      <td>0.00070</td>\n",
       "      <td>0.00070</td>\n",
       "      <td>0.00070</td>\n",
       "      <td>0.00070</td>\n",
       "      <td>0.00070</td>\n",
       "      <td>2400000000000</td>\n",
       "    </tr>\n",
       "    <tr>\n",
       "      <th>3</th>\n",
       "      <td>NH1946</td>\n",
       "      <td>J</td>\n",
       "      <td>101.10</td>\n",
       "      <td>0.354</td>\n",
       "      <td>0.40</td>\n",
       "      <td>0.854</td>\n",
       "      <td>71.15</td>\n",
       "      <td>3.736</td>\n",
       "      <td>0.04</td>\n",
       "      <td>-0.29</td>\n",
       "      <td>...</td>\n",
       "      <td>1.4</td>\n",
       "      <td>205.7</td>\n",
       "      <td>2400000000000</td>\n",
       "      <td>0.00066</td>\n",
       "      <td>0.00066</td>\n",
       "      <td>0.00066</td>\n",
       "      <td>0.00066</td>\n",
       "      <td>0.00066</td>\n",
       "      <td>0.00066</td>\n",
       "      <td>2400000000000</td>\n",
       "    </tr>\n",
       "    <tr>\n",
       "      <th>4</th>\n",
       "      <td>NH1947</td>\n",
       "      <td>J</td>\n",
       "      <td>101.05</td>\n",
       "      <td>0.367</td>\n",
       "      <td>0.40</td>\n",
       "      <td>0.981</td>\n",
       "      <td>71.21</td>\n",
       "      <td>3.722</td>\n",
       "      <td>-0.06</td>\n",
       "      <td>-0.53</td>\n",
       "      <td>...</td>\n",
       "      <td>1.4</td>\n",
       "      <td>205.8</td>\n",
       "      <td>2400000000000</td>\n",
       "      <td>0.00072</td>\n",
       "      <td>0.00072</td>\n",
       "      <td>0.00072</td>\n",
       "      <td>0.00072</td>\n",
       "      <td>0.00072</td>\n",
       "      <td>0.00072</td>\n",
       "      <td>2400000000000</td>\n",
       "    </tr>\n",
       "  </tbody>\n",
       "</table>\n",
       "<p>5 rows × 5953 columns</p>\n",
       "</div>"
      ],
      "text/plain": [
       "       ID TOOL   210X1  210X2  210X3  210X4  210X5  210X6  210X7  210X8  \\\n",
       "0  NH1943    L  100.15  0.534   0.24  1.281  57.27  3.422  -2.08   0.39   \n",
       "1  NH1944    N  102.05  0.488   0.26  1.972  68.01  4.576   3.78  -0.82   \n",
       "2  NH1945    N  102.05  0.476   0.26  1.946  67.98  4.586   3.45  -0.84   \n",
       "3  NH1946    J  101.10  0.354   0.40  0.854  71.15  3.736   0.04  -0.29   \n",
       "4  NH1947    J  101.05  0.367   0.40  0.981  71.21  3.722  -0.06  -0.53   \n",
       "\n",
       "       ...        750X1440  750X1441       750X1442  750X1444  750X1445  \\\n",
       "0      ...             1.3     200.1  2400000000000   0.00069   0.00069   \n",
       "1      ...             1.3     199.9  2400000000000   0.00063   0.00063   \n",
       "2      ...             1.3     199.6  2400000000000   0.00070   0.00070   \n",
       "3      ...             1.4     205.7  2400000000000   0.00066   0.00066   \n",
       "4      ...             1.4     205.8  2400000000000   0.00072   0.00072   \n",
       "\n",
       "   750X1447  750X1448  750X1450  750X1451       750X1452  \n",
       "0   0.00069   0.00069   0.00069   0.00069  2400000000000  \n",
       "1   0.00063   0.00063   0.00063   0.00063  2400000000000  \n",
       "2   0.00070   0.00070   0.00070   0.00070  2400000000000  \n",
       "3   0.00066   0.00066   0.00066   0.00066  2400000000000  \n",
       "4   0.00072   0.00072   0.00072   0.00072  2400000000000  \n",
       "\n",
       "[5 rows x 5953 columns]"
      ]
     },
     "execution_count": 27,
     "metadata": {},
     "output_type": "execute_result"
    }
   ],
   "source": [
    "testa.head()"
   ]
  },
  {
   "cell_type": "code",
   "execution_count": 28,
   "metadata": {},
   "outputs": [
    {
     "data": {
      "text/html": [
       "<div>\n",
       "<style scoped>\n",
       "    .dataframe tbody tr th:only-of-type {\n",
       "        vertical-align: middle;\n",
       "    }\n",
       "\n",
       "    .dataframe tbody tr th {\n",
       "        vertical-align: top;\n",
       "    }\n",
       "\n",
       "    .dataframe thead th {\n",
       "        text-align: right;\n",
       "    }\n",
       "</style>\n",
       "<table border=\"1\" class=\"dataframe\">\n",
       "  <thead>\n",
       "    <tr style=\"text-align: right;\">\n",
       "      <th></th>\n",
       "      <th>id</th>\n",
       "      <th>values</th>\n",
       "    </tr>\n",
       "  </thead>\n",
       "  <tbody>\n",
       "    <tr>\n",
       "      <th>0</th>\n",
       "      <td>NH1943</td>\n",
       "      <td>2.554054</td>\n",
       "    </tr>\n",
       "    <tr>\n",
       "      <th>1</th>\n",
       "      <td>NH1944</td>\n",
       "      <td>2.529488</td>\n",
       "    </tr>\n",
       "    <tr>\n",
       "      <th>2</th>\n",
       "      <td>NH1945</td>\n",
       "      <td>2.577887</td>\n",
       "    </tr>\n",
       "    <tr>\n",
       "      <th>3</th>\n",
       "      <td>NH1946</td>\n",
       "      <td>2.750977</td>\n",
       "    </tr>\n",
       "    <tr>\n",
       "      <th>4</th>\n",
       "      <td>NH1947</td>\n",
       "      <td>2.838091</td>\n",
       "    </tr>\n",
       "  </tbody>\n",
       "</table>\n",
       "</div>"
      ],
      "text/plain": [
       "       id    values\n",
       "0  NH1943  2.554054\n",
       "1  NH1944  2.529488\n",
       "2  NH1945  2.577887\n",
       "3  NH1946  2.750977\n",
       "4  NH1947  2.838091"
      ]
     },
     "execution_count": 28,
     "metadata": {},
     "output_type": "execute_result"
    }
   ],
   "source": [
    "answer_testa.head()"
   ]
  },
  {
   "cell_type": "code",
   "execution_count": null,
   "metadata": {},
   "outputs": [],
   "source": []
  },
  {
   "cell_type": "code",
   "execution_count": 30,
   "metadata": {},
   "outputs": [],
   "source": [
    "rmf = RegressorModelFactory()\n",
    "lgm = rmf.create_model(RegressorModelFactory.MODEL_LIGHET_GBM)"
   ]
  },
  {
   "cell_type": "code",
   "execution_count": 31,
   "metadata": {},
   "outputs": [],
   "source": [
    "lgm = rmf.create_model(RegressorModelFactory.MODEL_LIGHET_GBM)"
   ]
  },
  {
   "cell_type": "code",
   "execution_count": 33,
   "metadata": {},
   "outputs": [
    {
     "name": "stdout",
     "output_type": "stream",
     "text": [
      "Training until validation scores don't improve for 300 rounds.\n",
      "[200]\tvalid_0's l2: 0.0496075\n",
      "[400]\tvalid_0's l2: 0.0456704\n",
      "[600]\tvalid_0's l2: 0.0451023\n",
      "[800]\tvalid_0's l2: 0.0442653\n",
      "[1000]\tvalid_0's l2: 0.0440269\n",
      "[1200]\tvalid_0's l2: 0.043411\n",
      "[1400]\tvalid_0's l2: 0.0430104\n",
      "[1600]\tvalid_0's l2: 0.0423161\n",
      "[1800]\tvalid_0's l2: 0.041873\n",
      "[2000]\tvalid_0's l2: 0.0413401\n",
      "[2200]\tvalid_0's l2: 0.0409143\n",
      "[2400]\tvalid_0's l2: 0.0405477\n",
      "[2600]\tvalid_0's l2: 0.0402498\n",
      "[2800]\tvalid_0's l2: 0.0401308\n",
      "[3000]\tvalid_0's l2: 0.0400496\n",
      "[3200]\tvalid_0's l2: 0.0399669\n",
      "[3400]\tvalid_0's l2: 0.0399069\n",
      "[3600]\tvalid_0's l2: 0.0398691\n",
      "[3800]\tvalid_0's l2: 0.039878\n",
      "Early stopping, best iteration is:\n",
      "[3606]\tvalid_0's l2: 0.0398607\n"
     ]
    }
   ],
   "source": [
    "lgm.fit(train_data, testa_data, train_Y, answer_testa['values'])"
   ]
  },
  {
   "cell_type": "code",
   "execution_count": null,
   "metadata": {},
   "outputs": [],
   "source": []
  }
 ],
 "metadata": {
  "kernelspec": {
   "display_name": "Python 3",
   "language": "python",
   "name": "python3"
  },
  "language_info": {
   "codemirror_mode": {
    "name": "ipython",
    "version": 3
   },
   "file_extension": ".py",
   "mimetype": "text/x-python",
   "name": "python",
   "nbconvert_exporter": "python",
   "pygments_lexer": "ipython3",
   "version": "3.5.2"
  }
 },
 "nbformat": 4,
 "nbformat_minor": 2
}
